{
 "cells": [
  {
   "cell_type": "markdown",
   "metadata": {
    "papermill": {
     "duration": 0.017688,
     "end_time": "2020-03-18T02:11:14.275385",
     "exception": false,
     "start_time": "2020-03-18T02:11:14.257697",
     "status": "completed"
    },
    "tags": []
   },
   "source": [
    "# Data Set Summary Info\n",
    "\n",
    "This notebook provides summary information and descriptive statistics for our data sets."
   ]
  },
  {
   "cell_type": "markdown",
   "metadata": {
    "papermill": {
     "duration": 0.018032,
     "end_time": "2020-03-18T02:11:14.311415",
     "exception": false,
     "start_time": "2020-03-18T02:11:14.293383",
     "status": "completed"
    },
    "tags": []
   },
   "source": [
    "## Setup"
   ]
  },
  {
   "cell_type": "code",
   "execution_count": 1,
   "metadata": {
    "papermill": {
     "duration": 0.025029,
     "end_time": "2020-03-18T02:11:14.354415",
     "exception": false,
     "start_time": "2020-03-18T02:11:14.329386",
     "status": "completed"
    },
    "tags": []
   },
   "outputs": [],
   "source": [
    "import sys\n",
    "import re"
   ]
  },
  {
   "cell_type": "code",
   "execution_count": 2,
   "metadata": {
    "papermill": {
     "duration": 0.023994,
     "end_time": "2020-03-18T02:11:14.396414",
     "exception": false,
     "start_time": "2020-03-18T02:11:14.372420",
     "status": "completed"
    },
    "tags": []
   },
   "outputs": [],
   "source": [
    "from pathlib import Path"
   ]
  },
  {
   "cell_type": "code",
   "execution_count": 3,
   "metadata": {
    "papermill": {
     "duration": 1.01437,
     "end_time": "2020-03-18T02:11:15.427755",
     "exception": false,
     "start_time": "2020-03-18T02:11:14.413385",
     "status": "completed"
    },
    "tags": []
   },
   "outputs": [],
   "source": [
    "import pandas as pd\n",
    "import numpy as np\n",
    "import seaborn as sns\n",
    "import matplotlib.pyplot as plt\n",
    "from tqdm.auto import tqdm"
   ]
  },
  {
   "cell_type": "code",
   "execution_count": 4,
   "metadata": {
    "papermill": {
     "duration": 0.048004,
     "end_time": "2020-03-18T02:11:15.493791",
     "exception": false,
     "start_time": "2020-03-18T02:11:15.445787",
     "status": "completed"
    },
    "tags": []
   },
   "outputs": [],
   "source": [
    "import bookgender.datatools as dt"
   ]
  },
  {
   "cell_type": "code",
   "execution_count": 5,
   "metadata": {
    "papermill": {
     "duration": 0.020966,
     "end_time": "2020-03-18T02:11:15.531756",
     "exception": false,
     "start_time": "2020-03-18T02:11:15.510790",
     "status": "completed"
    },
    "tags": []
   },
   "outputs": [],
   "source": [
    "def eprint(*args):\n",
    "    print(*args, file=sys.stderr)"
   ]
  },
  {
   "cell_type": "markdown",
   "metadata": {
    "papermill": {
     "duration": 0.019967,
     "end_time": "2020-03-18T02:11:15.568753",
     "exception": false,
     "start_time": "2020-03-18T02:11:15.548786",
     "status": "completed"
    },
    "tags": []
   },
   "source": [
    "## Load Data Files"
   ]
  },
  {
   "cell_type": "markdown",
   "metadata": {
    "papermill": {
     "duration": 0.016995,
     "end_time": "2020-03-18T02:11:15.603756",
     "exception": false,
     "start_time": "2020-03-18T02:11:15.586761",
     "status": "completed"
    },
    "tags": []
   },
   "source": [
    "Load book author gender info:"
   ]
  },
  {
   "cell_type": "code",
   "execution_count": 6,
   "metadata": {
    "papermill": {
     "duration": 0.020944,
     "end_time": "2020-03-18T02:11:15.642756",
     "exception": false,
     "start_time": "2020-03-18T02:11:15.621812",
     "status": "completed"
    },
    "tags": []
   },
   "outputs": [],
   "source": [
    "datasets =  sorted(list(dt.datasets.keys()))"
   ]
  },
  {
   "cell_type": "code",
   "execution_count": 7,
   "metadata": {
    "papermill": {
     "duration": 1.083035,
     "end_time": "2020-03-18T02:11:16.742791",
     "exception": false,
     "start_time": "2020-03-18T02:11:15.659756",
     "status": "completed"
    },
    "tags": []
   },
   "outputs": [
    {
     "name": "stdout",
     "output_type": "stream",
     "text": [
      "<class 'pandas.core.frame.DataFrame'>\n",
      "RangeIndex: 10735373 entries, 0 to 10735372\n",
      "Data columns (total 2 columns):\n",
      "item      int64\n",
      "gender    category\n",
      "dtypes: category(1), int64(1)\n",
      "memory usage: 92.1 MB\n"
     ]
    }
   ],
   "source": [
    "book_gender = pd.read_parquet('data/author-gender.parquet')\n",
    "book_gender['gender'] = book_gender['gender'].astype('category')\n",
    "book_gender.info()"
   ]
  },
  {
   "cell_type": "markdown",
   "metadata": {
    "papermill": {
     "duration": 0.017,
     "end_time": "2020-03-18T02:11:16.776792",
     "exception": false,
     "start_time": "2020-03-18T02:11:16.759792",
     "status": "completed"
    },
    "tags": []
   },
   "source": [
    "Book gender will be more useful if we index it."
   ]
  },
  {
   "cell_type": "code",
   "execution_count": 8,
   "metadata": {
    "papermill": {
     "duration": 0.057994,
     "end_time": "2020-03-18T02:11:16.851786",
     "exception": false,
     "start_time": "2020-03-18T02:11:16.793792",
     "status": "completed"
    },
    "tags": []
   },
   "outputs": [],
   "source": [
    "book_gender = book_gender.set_index('item')"
   ]
  },
  {
   "cell_type": "markdown",
   "metadata": {
    "papermill": {
     "duration": 0.017996,
     "end_time": "2020-03-18T02:11:16.887790",
     "exception": false,
     "start_time": "2020-03-18T02:11:16.869794",
     "status": "completed"
    },
    "tags": []
   },
   "source": [
    "Load the Library of Congress book list:"
   ]
  },
  {
   "cell_type": "code",
   "execution_count": 9,
   "metadata": {
    "papermill": {
     "duration": 0.581003,
     "end_time": "2020-03-18T02:11:17.485796",
     "exception": false,
     "start_time": "2020-03-18T02:11:16.904793",
     "status": "completed"
    },
    "tags": []
   },
   "outputs": [
    {
     "name": "stdout",
     "output_type": "stream",
     "text": [
      "<class 'pandas.core.frame.DataFrame'>\n",
      "RangeIndex: 4899517 entries, 0 to 4899516\n",
      "Data columns (total 1 columns):\n",
      "item    int64\n",
      "dtypes: int64(1)\n",
      "memory usage: 37.4 MB\n"
     ]
    }
   ],
   "source": [
    "loc_books = pd.read_csv('data/loc-books.csv.gz')\n",
    "loc_books.info()"
   ]
  },
  {
   "cell_type": "markdown",
   "metadata": {
    "papermill": {
     "duration": 0.017002,
     "end_time": "2020-03-18T02:11:17.519799",
     "exception": false,
     "start_time": "2020-03-18T02:11:17.502797",
     "status": "completed"
    },
    "tags": []
   },
   "source": [
    "Load rating data sets:"
   ]
  },
  {
   "cell_type": "code",
   "execution_count": 10,
   "metadata": {
    "papermill": {
     "duration": 6.157009,
     "end_time": "2020-03-18T02:11:23.693804",
     "exception": false,
     "start_time": "2020-03-18T02:11:17.536795",
     "status": "completed"
    },
    "tags": []
   },
   "outputs": [
    {
     "name": "stderr",
     "output_type": "stream",
     "text": [
      "loading ratings for AZ\n"
     ]
    },
    {
     "name": "stderr",
     "output_type": "stream",
     "text": [
      "loading ratings for BX-E\n",
      "loading ratings for BX-I\n",
      "loading ratings for GR-E\n"
     ]
    },
    {
     "name": "stderr",
     "output_type": "stream",
     "text": [
      "loading ratings for GR-I\n"
     ]
    }
   ],
   "source": [
    "ratings = {}\n",
    "for ds in datasets:\n",
    "    eprint('loading ratings for', ds)\n",
    "    ratings[ds] = pd.read_parquet(f'data/{ds}/ratings.parquet')"
   ]
  },
  {
   "cell_type": "markdown",
   "metadata": {
    "papermill": {
     "duration": 0.017999,
     "end_time": "2020-03-18T02:11:23.729834",
     "exception": false,
     "start_time": "2020-03-18T02:11:23.711835",
     "status": "completed"
    },
    "tags": []
   },
   "source": [
    "## Basic Data Set Stats"
   ]
  },
  {
   "cell_type": "code",
   "execution_count": 11,
   "metadata": {
    "papermill": {
     "duration": 5.437056,
     "end_time": "2020-03-18T02:11:29.184867",
     "exception": false,
     "start_time": "2020-03-18T02:11:23.747811",
     "status": "completed"
    },
    "tags": []
   },
   "outputs": [
    {
     "data": {
      "text/html": [
       "<div>\n",
       "<style scoped>\n",
       "    .dataframe tbody tr th:only-of-type {\n",
       "        vertical-align: middle;\n",
       "    }\n",
       "\n",
       "    .dataframe tbody tr th {\n",
       "        vertical-align: top;\n",
       "    }\n",
       "\n",
       "    .dataframe thead th {\n",
       "        text-align: right;\n",
       "    }\n",
       "</style>\n",
       "<table border=\"1\" class=\"dataframe\">\n",
       "  <thead>\n",
       "    <tr style=\"text-align: right;\">\n",
       "      <th></th>\n",
       "      <th>Users</th>\n",
       "      <th>Items</th>\n",
       "      <th>Pairs</th>\n",
       "      <th>Density</th>\n",
       "    </tr>\n",
       "  </thead>\n",
       "  <tbody>\n",
       "    <tr>\n",
       "      <th>AZ</th>\n",
       "      <td>8026324</td>\n",
       "      <td>2269633</td>\n",
       "      <td>22464284</td>\n",
       "      <td>0.000001</td>\n",
       "    </tr>\n",
       "    <tr>\n",
       "      <th>BX-E</th>\n",
       "      <td>77805</td>\n",
       "      <td>151961</td>\n",
       "      <td>426929</td>\n",
       "      <td>0.000036</td>\n",
       "    </tr>\n",
       "    <tr>\n",
       "      <th>BX-I</th>\n",
       "      <td>105283</td>\n",
       "      <td>279983</td>\n",
       "      <td>1128965</td>\n",
       "      <td>0.000038</td>\n",
       "    </tr>\n",
       "    <tr>\n",
       "      <th>GR-E</th>\n",
       "      <td>808782</td>\n",
       "      <td>1081709</td>\n",
       "      <td>86539647</td>\n",
       "      <td>0.000099</td>\n",
       "    </tr>\n",
       "    <tr>\n",
       "      <th>GR-I</th>\n",
       "      <td>870011</td>\n",
       "      <td>1097581</td>\n",
       "      <td>188962927</td>\n",
       "      <td>0.000198</td>\n",
       "    </tr>\n",
       "  </tbody>\n",
       "</table>\n",
       "</div>"
      ],
      "text/plain": [
       "        Users    Items      Pairs   Density\n",
       "AZ    8026324  2269633   22464284  0.000001\n",
       "BX-E    77805   151961     426929  0.000036\n",
       "BX-I   105283   279983    1128965  0.000038\n",
       "GR-E   808782  1081709   86539647  0.000099\n",
       "GR-I   870011  1097581  188962927  0.000198"
      ]
     },
     "execution_count": 11,
     "metadata": {},
     "output_type": "execute_result"
    }
   ],
   "source": [
    "ds_summary = pd.DataFrame.from_dict(dict(\n",
    "    (n, {'Users': f['user'].nunique(), 'Items': f['item'].nunique(), 'Pairs': len(f)})\n",
    "    for (n, f) in ratings.items()\n",
    "), orient='index')\n",
    "ds_summary['Density'] = ds_summary['Pairs'] / (ds_summary['Users'] * ds_summary['Items'])\n",
    "ds_summary"
   ]
  },
  {
   "cell_type": "code",
   "execution_count": 12,
   "metadata": {
    "papermill": {
     "duration": 0.026001,
     "end_time": "2020-03-18T02:11:29.228866",
     "exception": false,
     "start_time": "2020-03-18T02:11:29.202865",
     "status": "completed"
    },
    "tags": []
   },
   "outputs": [
    {
     "name": "stdout",
     "output_type": "stream",
     "text": [
      "\\begin{tabular}{lrrrr}\n",
      "\\toprule\n",
      "{} &     Users &     Items &       Pairs & Density \\\\\n",
      "\\midrule\n",
      "AZ   & 8,026,324 & 2,269,633 &  22,464,284 & 0.0001\\% \\\\\n",
      "BX-E &    77,805 &   151,961 &     426,929 & 0.0036\\% \\\\\n",
      "BX-I &   105,283 &   279,983 &   1,128,965 & 0.0038\\% \\\\\n",
      "GR-E &   808,782 & 1,081,709 &  86,539,647 & 0.0099\\% \\\\\n",
      "GR-I &   870,011 & 1,097,581 & 188,962,927 & 0.0198\\% \\\\\n",
      "\\bottomrule\n",
      "\\end{tabular}\n",
      "\n"
     ]
    }
   ],
   "source": [
    "def pct_fmt(p):\n",
    "    return '{:.4f}%'.format(p * 100)\n",
    "def n_fmt(n):\n",
    "    return '{:,d}'.format(n)\n",
    "print(ds_summary.to_latex(formatters={\n",
    "    'Users': n_fmt,\n",
    "    'Items': n_fmt,\n",
    "    'Pairs': n_fmt,\n",
    "    'Density': pct_fmt\n",
    "}))"
   ]
  },
  {
   "cell_type": "markdown",
   "metadata": {
    "papermill": {
     "duration": 0.017993,
     "end_time": "2020-03-18T02:11:29.265868",
     "exception": false,
     "start_time": "2020-03-18T02:11:29.247875",
     "status": "completed"
    },
    "tags": []
   },
   "source": [
    "### Distributions"
   ]
  },
  {
   "cell_type": "markdown",
   "metadata": {
    "papermill": {
     "duration": 0.01799,
     "end_time": "2020-03-18T02:11:29.302863",
     "exception": false,
     "start_time": "2020-03-18T02:11:29.284873",
     "status": "completed"
    },
    "tags": []
   },
   "source": [
    "What is the rating distribution for explicit-feedback data sets?"
   ]
  },
  {
   "cell_type": "code",
   "execution_count": 13,
   "metadata": {
    "papermill": {
     "duration": 0.02403,
     "end_time": "2020-03-18T02:11:29.345865",
     "exception": false,
     "start_time": "2020-03-18T02:11:29.321835",
     "status": "completed"
    },
    "tags": []
   },
   "outputs": [
    {
     "data": {
      "text/plain": [
       "['AZ', 'BX-E', 'GR-E']"
      ]
     },
     "execution_count": 13,
     "metadata": {},
     "output_type": "execute_result"
    }
   ],
   "source": [
    "exp_re = re.compile(r'^\\w\\w(-E|$)')\n",
    "[ds for ds in ratings.keys() if exp_re.match(ds)]"
   ]
  },
  {
   "cell_type": "code",
   "execution_count": 14,
   "metadata": {
    "papermill": {
     "duration": 1.981019,
     "end_time": "2020-03-18T02:11:31.344879",
     "exception": false,
     "start_time": "2020-03-18T02:11:29.363860",
     "status": "completed"
    },
    "tags": []
   },
   "outputs": [
    {
     "data": {
      "text/html": [
       "<div>\n",
       "<style scoped>\n",
       "    .dataframe tbody tr th:only-of-type {\n",
       "        vertical-align: middle;\n",
       "    }\n",
       "\n",
       "    .dataframe tbody tr th {\n",
       "        vertical-align: top;\n",
       "    }\n",
       "\n",
       "    .dataframe thead th {\n",
       "        text-align: right;\n",
       "    }\n",
       "</style>\n",
       "<table border=\"1\" class=\"dataframe\">\n",
       "  <thead>\n",
       "    <tr style=\"text-align: right;\">\n",
       "      <th></th>\n",
       "      <th>rating</th>\n",
       "      <th>count</th>\n",
       "      <th>Set</th>\n",
       "    </tr>\n",
       "  </thead>\n",
       "  <tbody>\n",
       "    <tr>\n",
       "      <th>0</th>\n",
       "      <td>1.0</td>\n",
       "      <td>1115189</td>\n",
       "      <td>AZ</td>\n",
       "    </tr>\n",
       "    <tr>\n",
       "      <th>1</th>\n",
       "      <td>1.5</td>\n",
       "      <td>231</td>\n",
       "      <td>AZ</td>\n",
       "    </tr>\n",
       "    <tr>\n",
       "      <th>2</th>\n",
       "      <td>2.0</td>\n",
       "      <td>976957</td>\n",
       "      <td>AZ</td>\n",
       "    </tr>\n",
       "    <tr>\n",
       "      <th>3</th>\n",
       "      <td>2.5</td>\n",
       "      <td>410</td>\n",
       "      <td>AZ</td>\n",
       "    </tr>\n",
       "    <tr>\n",
       "      <th>4</th>\n",
       "      <td>3.0</td>\n",
       "      <td>1918358</td>\n",
       "      <td>AZ</td>\n",
       "    </tr>\n",
       "  </tbody>\n",
       "</table>\n",
       "</div>"
      ],
      "text/plain": [
       "   rating    count Set\n",
       "0     1.0  1115189  AZ\n",
       "1     1.5      231  AZ\n",
       "2     2.0   976957  AZ\n",
       "3     2.5      410  AZ\n",
       "4     3.0  1918358  AZ"
      ]
     },
     "execution_count": 14,
     "metadata": {},
     "output_type": "execute_result"
    }
   ],
   "source": [
    "exp_rate_stats = pd.concat(\n",
    "    (rates.groupby('rating').item.count().reset_index(name='count').assign(Set=ds)\n",
    "     for (ds, rates) in ratings.items() if exp_re.match(ds))\n",
    ", ignore_index=True)\n",
    "exp_rate_stats.head()"
   ]
  },
  {
   "cell_type": "code",
   "execution_count": 15,
   "metadata": {
    "papermill": {
     "duration": 0.404999,
     "end_time": "2020-03-18T02:11:31.768877",
     "exception": false,
     "start_time": "2020-03-18T02:11:31.363878",
     "status": "completed"
    },
    "tags": []
   },
   "outputs": [
    {
     "name": "stderr",
     "output_type": "stream",
     "text": [
      "C:\\Users\\michaelekstrand\\Anaconda3\\envs\\bfold\\lib\\site-packages\\seaborn\\axisgrid.py:728: UserWarning: Using the barplot function without specifying `order` is likely to produce an incorrect plot.\n",
      "  warnings.warn(warning)\n"
     ]
    },
    {
     "data": {
      "text/plain": [
       "<seaborn.axisgrid.FacetGrid at 0x1f8ea70d348>"
      ]
     },
     "execution_count": 15,
     "metadata": {},
     "output_type": "execute_result"
    },
    {
     "data": {
      "image/png": "[encoded data removed]",
      "text/plain": [
       "<Figure size 648x216 with 3 Axes>"
      ]
     },
     "metadata": {
      "needs_background": "light"
     },
     "output_type": "display_data"
    }
   ],
   "source": [
    "grid = sns.FacetGrid(col='Set', data=exp_rate_stats, sharex=False, sharey=False)\n",
    "grid.map(sns.barplot, 'rating', 'count')"
   ]
  },
  {
   "cell_type": "code",
   "execution_count": 16,
   "metadata": {
    "papermill": {
     "duration": 9.257489,
     "end_time": "2020-03-18T02:11:41.046369",
     "exception": false,
     "start_time": "2020-03-18T02:11:31.788880",
     "status": "completed"
    },
    "tags": []
   },
   "outputs": [
    {
     "data": {
      "text/html": [
       "<div>\n",
       "<style scoped>\n",
       "    .dataframe tbody tr th:only-of-type {\n",
       "        vertical-align: middle;\n",
       "    }\n",
       "\n",
       "    .dataframe tbody tr th {\n",
       "        vertical-align: top;\n",
       "    }\n",
       "\n",
       "    .dataframe thead th {\n",
       "        text-align: right;\n",
       "    }\n",
       "</style>\n",
       "<table border=\"1\" class=\"dataframe\">\n",
       "  <thead>\n",
       "    <tr style=\"text-align: right;\">\n",
       "      <th></th>\n",
       "      <th>user</th>\n",
       "      <th>AvgRating</th>\n",
       "      <th>Set</th>\n",
       "    </tr>\n",
       "  </thead>\n",
       "  <tbody>\n",
       "    <tr>\n",
       "      <th>0</th>\n",
       "      <td>1</td>\n",
       "      <td>5.000000</td>\n",
       "      <td>AZ</td>\n",
       "    </tr>\n",
       "    <tr>\n",
       "      <th>1</th>\n",
       "      <td>2</td>\n",
       "      <td>5.000000</td>\n",
       "      <td>AZ</td>\n",
       "    </tr>\n",
       "    <tr>\n",
       "      <th>2</th>\n",
       "      <td>3</td>\n",
       "      <td>5.000000</td>\n",
       "      <td>AZ</td>\n",
       "    </tr>\n",
       "    <tr>\n",
       "      <th>3</th>\n",
       "      <td>4</td>\n",
       "      <td>4.666667</td>\n",
       "      <td>AZ</td>\n",
       "    </tr>\n",
       "    <tr>\n",
       "      <th>4</th>\n",
       "      <td>5</td>\n",
       "      <td>4.000000</td>\n",
       "      <td>AZ</td>\n",
       "    </tr>\n",
       "  </tbody>\n",
       "</table>\n",
       "</div>"
      ],
      "text/plain": [
       "   user  AvgRating Set\n",
       "0     1   5.000000  AZ\n",
       "1     2   5.000000  AZ\n",
       "2     3   5.000000  AZ\n",
       "3     4   4.666667  AZ\n",
       "4     5   4.000000  AZ"
      ]
     },
     "execution_count": 16,
     "metadata": {},
     "output_type": "execute_result"
    }
   ],
   "source": [
    "user_means = pd.concat(\n",
    "    (rates.groupby('user').rating.mean().reset_index(name='AvgRating').assign(Set=ds)\n",
    "     for (ds, rates) in ratings.items() if exp_re.match(ds))\n",
    ", ignore_index=True)\n",
    "user_means.head()"
   ]
  },
  {
   "cell_type": "code",
   "execution_count": 17,
   "metadata": {
    "papermill": {
     "duration": 4.610372,
     "end_time": "2020-03-18T02:11:45.678741",
     "exception": false,
     "start_time": "2020-03-18T02:11:41.068369",
     "status": "completed"
    },
    "tags": []
   },
   "outputs": [
    {
     "data": {
      "text/plain": [
       "<seaborn.axisgrid.FacetGrid at 0x1f8eb1931c8>"
      ]
     },
     "execution_count": 17,
     "metadata": {},
     "output_type": "execute_result"
    },
    {
     "data": {
      "image/png": "[encoded data removed]",
      "text/plain": [
       "<Figure size 648x216 with 3 Axes>"
      ]
     },
     "metadata": {
      "needs_background": "light"
     },
     "output_type": "display_data"
    }
   ],
   "source": [
    "grid = sns.FacetGrid(col='Set', data=user_means, sharey=False, sharex=False)\n",
    "grid.map(sns.distplot, 'AvgRating')"
   ]
  },
  {
   "cell_type": "code",
   "execution_count": 18,
   "metadata": {
    "papermill": {
     "duration": 2.048988,
     "end_time": "2020-03-18T02:11:47.748723",
     "exception": false,
     "start_time": "2020-03-18T02:11:45.699735",
     "status": "completed"
    },
    "tags": []
   },
   "outputs": [
    {
     "data": {
      "text/html": [
       "<div>\n",
       "<style scoped>\n",
       "    .dataframe tbody tr th:only-of-type {\n",
       "        vertical-align: middle;\n",
       "    }\n",
       "\n",
       "    .dataframe tbody tr th {\n",
       "        vertical-align: top;\n",
       "    }\n",
       "\n",
       "    .dataframe thead th {\n",
       "        text-align: right;\n",
       "    }\n",
       "</style>\n",
       "<table border=\"1\" class=\"dataframe\">\n",
       "  <thead>\n",
       "    <tr style=\"text-align: right;\">\n",
       "      <th></th>\n",
       "      <th>item</th>\n",
       "      <th>AvgRating</th>\n",
       "      <th>Set</th>\n",
       "    </tr>\n",
       "  </thead>\n",
       "  <tbody>\n",
       "    <tr>\n",
       "      <th>0</th>\n",
       "      <td>101005678</td>\n",
       "      <td>5.000000</td>\n",
       "      <td>AZ</td>\n",
       "    </tr>\n",
       "    <tr>\n",
       "      <th>1</th>\n",
       "      <td>101005735</td>\n",
       "      <td>4.250000</td>\n",
       "      <td>AZ</td>\n",
       "    </tr>\n",
       "    <tr>\n",
       "      <th>2</th>\n",
       "      <td>101005801</td>\n",
       "      <td>4.750000</td>\n",
       "      <td>AZ</td>\n",
       "    </tr>\n",
       "    <tr>\n",
       "      <th>3</th>\n",
       "      <td>101005833</td>\n",
       "      <td>3.692308</td>\n",
       "      <td>AZ</td>\n",
       "    </tr>\n",
       "    <tr>\n",
       "      <th>4</th>\n",
       "      <td>101005899</td>\n",
       "      <td>4.000000</td>\n",
       "      <td>AZ</td>\n",
       "    </tr>\n",
       "  </tbody>\n",
       "</table>\n",
       "</div>"
      ],
      "text/plain": [
       "        item  AvgRating Set\n",
       "0  101005678   5.000000  AZ\n",
       "1  101005735   4.250000  AZ\n",
       "2  101005801   4.750000  AZ\n",
       "3  101005833   3.692308  AZ\n",
       "4  101005899   4.000000  AZ"
      ]
     },
     "execution_count": 18,
     "metadata": {},
     "output_type": "execute_result"
    }
   ],
   "source": [
    "item_means = pd.concat(\n",
    "    (rates.groupby('item').rating.mean().reset_index(name='AvgRating').assign(Set=ds)\n",
    "     for (ds, rates) in ratings.items() if exp_re.match(ds))\n",
    ", ignore_index=True)\n",
    "item_means.head()"
   ]
  },
  {
   "cell_type": "code",
   "execution_count": 19,
   "metadata": {
    "papermill": {
     "duration": 2.147467,
     "end_time": "2020-03-18T02:11:49.917213",
     "exception": false,
     "start_time": "2020-03-18T02:11:47.769746",
     "status": "completed"
    },
    "tags": []
   },
   "outputs": [
    {
     "data": {
      "text/plain": [
       "<seaborn.axisgrid.FacetGrid at 0x1f8eb35b208>"
      ]
     },
     "execution_count": 19,
     "metadata": {},
     "output_type": "execute_result"
    },
    {
     "data": {
      "image/png": "[encoded data removed]",
      "text/plain": [
       "<Figure size 648x216 with 3 Axes>"
      ]
     },
     "metadata": {
      "needs_background": "light"
     },
     "output_type": "display_data"
    }
   ],
   "source": [
    "grid = sns.FacetGrid(col='Set', data=item_means, sharey=False, sharex=False)\n",
    "grid.map(sns.distplot, 'AvgRating')"
   ]
  },
  {
   "cell_type": "markdown",
   "metadata": {
    "papermill": {
     "duration": 0.021,
     "end_time": "2020-03-18T02:11:49.960210",
     "exception": false,
     "start_time": "2020-03-18T02:11:49.939210",
     "status": "completed"
    },
    "tags": []
   },
   "source": [
    "## Count and Integrate\n",
    "\n",
    "Now that we have the data loaded, we need to do a few things:\n",
    "\n",
    "1. Connect with gender info\n",
    "2. Count books (or ratings) by gender. All kinds of unlinked gender are mapped to `unlinked`.\n",
    "3. Integrate into a single set of lists\n",
    "\n",
    "To start, we'll define a couple of helper for counting books or ratings:"
   ]
  },
  {
   "cell_type": "code",
   "execution_count": 20,
   "metadata": {
    "papermill": {
     "duration": 0.03297,
     "end_time": "2020-03-18T02:11:50.017180",
     "exception": false,
     "start_time": "2020-03-18T02:11:49.984210",
     "status": "completed"
    },
    "tags": []
   },
   "outputs": [],
   "source": [
    "def gender_info(books, full=False):\n",
    "    # get gender info\n",
    "    books = books.join(book_gender, on='item', how='left')\n",
    "    # normalize things\n",
    "    if full:\n",
    "        books['gender'].cat.add_categories(['no-book'], inplace=True)\n",
    "        books['gender'].fillna('no-book', inplace=True)\n",
    "        books['gender'].cat.reorder_categories(['no-book', 'no-loc-author', 'no-viaf-author',\n",
    "                                                'unknown', 'ambiguous', 'female', 'male'], inplace=True)\n",
    "    else:\n",
    "        books['gender'].cat.add_categories(['unlinked'], inplace=True)\n",
    "        books['gender'].fillna('unlinked', inplace=True)\n",
    "        books.loc[books['gender'] == 'no-loc-author', 'gender'] = 'unlinked'\n",
    "        books.loc[books['gender'] == 'no-viaf-author', 'gender'] = 'unlinked'\n",
    "        books['gender'].cat.remove_unused_categories(inplace=True)\n",
    "        books['gender'].cat.reorder_categories(['female', 'male', 'ambiguous', 'unknown', 'unlinked'], inplace=True)\n",
    "    return books"
   ]
  },
  {
   "cell_type": "code",
   "execution_count": 21,
   "metadata": {
    "papermill": {
     "duration": 0.029971,
     "end_time": "2020-03-18T02:11:50.069182",
     "exception": false,
     "start_time": "2020-03-18T02:11:50.039211",
     "status": "completed"
    },
    "tags": []
   },
   "outputs": [],
   "source": [
    "def summarize_by_gender(book_frame, full=False):\n",
    "    # we only need the item column\n",
    "    books = gender_info(book_frame[['item']], full)\n",
    "\n",
    "    # join and count\n",
    "    counts = books.groupby('gender').agg(['count', 'nunique']).droplevel(0, axis=1)\n",
    "    counts = counts.rename(columns={'count': 'Ratings', 'nunique': 'Books'})\n",
    "    return counts"
   ]
  },
  {
   "cell_type": "markdown",
   "metadata": {
    "papermill": {
     "duration": 0.024002,
     "end_time": "2020-03-18T02:11:50.116182",
     "exception": false,
     "start_time": "2020-03-18T02:11:50.092180",
     "status": "completed"
    },
    "tags": []
   },
   "source": [
    "Let's see the function in action:"
   ]
  },
  {
   "cell_type": "code",
   "execution_count": 22,
   "metadata": {
    "papermill": {
     "duration": 1.41601,
     "end_time": "2020-03-18T02:11:51.555191",
     "exception": false,
     "start_time": "2020-03-18T02:11:50.139181",
     "status": "completed"
    },
    "tags": []
   },
   "outputs": [
    {
     "data": {
      "text/html": [
       "<div>\n",
       "<style scoped>\n",
       "    .dataframe tbody tr th:only-of-type {\n",
       "        vertical-align: middle;\n",
       "    }\n",
       "\n",
       "    .dataframe tbody tr th {\n",
       "        vertical-align: top;\n",
       "    }\n",
       "\n",
       "    .dataframe thead th {\n",
       "        text-align: right;\n",
       "    }\n",
       "</style>\n",
       "<table border=\"1\" class=\"dataframe\">\n",
       "  <thead>\n",
       "    <tr style=\"text-align: right;\">\n",
       "      <th></th>\n",
       "      <th>Ratings</th>\n",
       "      <th>Books</th>\n",
       "    </tr>\n",
       "    <tr>\n",
       "      <th>gender</th>\n",
       "      <th></th>\n",
       "      <th></th>\n",
       "    </tr>\n",
       "  </thead>\n",
       "  <tbody>\n",
       "    <tr>\n",
       "      <th>female</th>\n",
       "      <td>139920</td>\n",
       "      <td>37724</td>\n",
       "    </tr>\n",
       "    <tr>\n",
       "      <th>male</th>\n",
       "      <td>185344</td>\n",
       "      <td>55461</td>\n",
       "    </tr>\n",
       "    <tr>\n",
       "      <th>ambiguous</th>\n",
       "      <td>27700</td>\n",
       "      <td>3567</td>\n",
       "    </tr>\n",
       "    <tr>\n",
       "      <th>unknown</th>\n",
       "      <td>27109</td>\n",
       "      <td>17609</td>\n",
       "    </tr>\n",
       "    <tr>\n",
       "      <th>unlinked</th>\n",
       "      <td>46856</td>\n",
       "      <td>37600</td>\n",
       "    </tr>\n",
       "  </tbody>\n",
       "</table>\n",
       "</div>"
      ],
      "text/plain": [
       "           Ratings  Books\n",
       "gender                   \n",
       "female      139920  37724\n",
       "male        185344  55461\n",
       "ambiguous    27700   3567\n",
       "unknown      27109  17609\n",
       "unlinked     46856  37600"
      ]
     },
     "execution_count": 22,
     "metadata": {},
     "output_type": "execute_result"
    }
   ],
   "source": [
    "summarize_by_gender(ratings['BX-E'])"
   ]
  },
  {
   "cell_type": "markdown",
   "metadata": {
    "papermill": {
     "duration": 0.021994,
     "end_time": "2020-03-18T02:11:51.601190",
     "exception": false,
     "start_time": "2020-03-18T02:11:51.579196",
     "status": "completed"
    },
    "tags": []
   },
   "source": [
    "Now build up a full frame of everything:"
   ]
  },
  {
   "cell_type": "code",
   "execution_count": 23,
   "metadata": {
    "papermill": {
     "duration": 60.95483,
     "end_time": "2020-03-18T02:12:52.578050",
     "exception": false,
     "start_time": "2020-03-18T02:11:51.623220",
     "status": "completed"
    },
    "tags": []
   },
   "outputs": [
    {
     "name": "stderr",
     "output_type": "stream",
     "text": [
      "summarizing LOC\n"
     ]
    },
    {
     "name": "stderr",
     "output_type": "stream",
     "text": [
      "summarizing AZ\n"
     ]
    },
    {
     "name": "stderr",
     "output_type": "stream",
     "text": [
      "summarizing BX-E\n"
     ]
    },
    {
     "name": "stderr",
     "output_type": "stream",
     "text": [
      "summarizing BX-I\n"
     ]
    },
    {
     "name": "stderr",
     "output_type": "stream",
     "text": [
      "summarizing GR-E\n"
     ]
    },
    {
     "name": "stderr",
     "output_type": "stream",
     "text": [
      "summarizing GR-I\n"
     ]
    },
    {
     "name": "stdout",
     "output_type": "stream",
     "text": [
      "<class 'pandas.core.frame.DataFrame'>\n",
      "MultiIndex: 30 entries, (LOC, female) to (GR-I, unlinked)\n",
      "Data columns (total 2 columns):\n",
      "Ratings    30 non-null int64\n",
      "Books      30 non-null int64\n",
      "dtypes: int64(2)\n",
      "memory usage: 904.0+ bytes\n"
     ]
    }
   ],
   "source": [
    "eprint('summarizing LOC')\n",
    "summaries = {'LOC': summarize_by_gender(loc_books)}\n",
    "for ds, f in ratings.items():\n",
    "    eprint('summarizing', ds)\n",
    "    summaries[ds] = summarize_by_gender(f)\n",
    "gender_stats = pd.concat(summaries, names=['DataSet'])\n",
    "gender_stats.info()"
   ]
  },
  {
   "cell_type": "code",
   "execution_count": 24,
   "metadata": {
    "papermill": {
     "duration": 52.452171,
     "end_time": "2020-03-18T02:13:45.054223",
     "exception": false,
     "start_time": "2020-03-18T02:12:52.602052",
     "status": "completed"
    },
    "tags": []
   },
   "outputs": [
    {
     "name": "stderr",
     "output_type": "stream",
     "text": [
      "summarizing LOC\n"
     ]
    },
    {
     "name": "stderr",
     "output_type": "stream",
     "text": [
      "summarizing AZ\n"
     ]
    },
    {
     "name": "stderr",
     "output_type": "stream",
     "text": [
      "summarizing BX-E\n"
     ]
    },
    {
     "name": "stderr",
     "output_type": "stream",
     "text": [
      "summarizing BX-I\n"
     ]
    },
    {
     "name": "stderr",
     "output_type": "stream",
     "text": [
      "summarizing GR-E\n"
     ]
    },
    {
     "name": "stderr",
     "output_type": "stream",
     "text": [
      "summarizing GR-I\n"
     ]
    },
    {
     "name": "stdout",
     "output_type": "stream",
     "text": [
      "<class 'pandas.core.frame.DataFrame'>\n",
      "MultiIndex: 42 entries, (LOC, ambiguous) to (GR-I, no-book)\n",
      "Data columns (total 2 columns):\n",
      "Ratings    42 non-null int64\n",
      "Books      42 non-null int64\n",
      "dtypes: int64(2)\n",
      "memory usage: 1.3+ KB\n"
     ]
    }
   ],
   "source": [
    "eprint('summarizing LOC')\n",
    "fsums = {'LOC': summarize_by_gender(loc_books, True)}\n",
    "for ds, f in ratings.items():\n",
    "    eprint('summarizing', ds)\n",
    "    fsums[ds] = summarize_by_gender(f, True)\n",
    "full_stats = pd.concat(fsums, names=['DataSet'])\n",
    "full_stats.info()"
   ]
  },
  {
   "cell_type": "code",
   "execution_count": 25,
   "metadata": {
    "papermill": {
     "duration": 0.038027,
     "end_time": "2020-03-18T02:13:45.116220",
     "exception": false,
     "start_time": "2020-03-18T02:13:45.078193",
     "status": "completed"
    },
    "tags": []
   },
   "outputs": [
    {
     "data": {
      "text/html": [
       "<div>\n",
       "<style scoped>\n",
       "    .dataframe tbody tr th:only-of-type {\n",
       "        vertical-align: middle;\n",
       "    }\n",
       "\n",
       "    .dataframe tbody tr th {\n",
       "        vertical-align: top;\n",
       "    }\n",
       "\n",
       "    .dataframe thead th {\n",
       "        text-align: right;\n",
       "    }\n",
       "</style>\n",
       "<table border=\"1\" class=\"dataframe\">\n",
       "  <thead>\n",
       "    <tr style=\"text-align: right;\">\n",
       "      <th>gender</th>\n",
       "      <th>no-book</th>\n",
       "      <th>no-loc-author</th>\n",
       "      <th>no-viaf-author</th>\n",
       "      <th>unknown</th>\n",
       "      <th>ambiguous</th>\n",
       "      <th>male</th>\n",
       "      <th>female</th>\n",
       "    </tr>\n",
       "    <tr>\n",
       "      <th>DataSet</th>\n",
       "      <th></th>\n",
       "      <th></th>\n",
       "      <th></th>\n",
       "      <th></th>\n",
       "      <th></th>\n",
       "      <th></th>\n",
       "      <th></th>\n",
       "    </tr>\n",
       "  </thead>\n",
       "  <tbody>\n",
       "    <tr>\n",
       "      <th>LOC</th>\n",
       "      <td>0</td>\n",
       "      <td>762990</td>\n",
       "      <td>294698</td>\n",
       "      <td>1210534</td>\n",
       "      <td>45127</td>\n",
       "      <td>1998623</td>\n",
       "      <td>587545</td>\n",
       "    </tr>\n",
       "    <tr>\n",
       "      <th>AZ</th>\n",
       "      <td>1048605</td>\n",
       "      <td>161399</td>\n",
       "      <td>151594</td>\n",
       "      <td>238602</td>\n",
       "      <td>14937</td>\n",
       "      <td>454136</td>\n",
       "      <td>200360</td>\n",
       "    </tr>\n",
       "    <tr>\n",
       "      <th>BX-E</th>\n",
       "      <td>23270</td>\n",
       "      <td>6597</td>\n",
       "      <td>7733</td>\n",
       "      <td>17609</td>\n",
       "      <td>3567</td>\n",
       "      <td>55461</td>\n",
       "      <td>37724</td>\n",
       "    </tr>\n",
       "    <tr>\n",
       "      <th>BX-I</th>\n",
       "      <td>46665</td>\n",
       "      <td>13133</td>\n",
       "      <td>15844</td>\n",
       "      <td>36432</td>\n",
       "      <td>5943</td>\n",
       "      <td>96030</td>\n",
       "      <td>65936</td>\n",
       "    </tr>\n",
       "    <tr>\n",
       "      <th>GR-E</th>\n",
       "      <td>0</td>\n",
       "      <td>575984</td>\n",
       "      <td>29315</td>\n",
       "      <td>86072</td>\n",
       "      <td>9093</td>\n",
       "      <td>237272</td>\n",
       "      <td>143973</td>\n",
       "    </tr>\n",
       "    <tr>\n",
       "      <th>GR-I</th>\n",
       "      <td>0</td>\n",
       "      <td>585136</td>\n",
       "      <td>30074</td>\n",
       "      <td>87724</td>\n",
       "      <td>9183</td>\n",
       "      <td>240167</td>\n",
       "      <td>145297</td>\n",
       "    </tr>\n",
       "  </tbody>\n",
       "</table>\n",
       "</div>"
      ],
      "text/plain": [
       "gender   no-book  no-loc-author  no-viaf-author  unknown  ambiguous     male  \\\n",
       "DataSet                                                                        \n",
       "LOC            0         762990          294698  1210534      45127  1998623   \n",
       "AZ       1048605         161399          151594   238602      14937   454136   \n",
       "BX-E       23270           6597            7733    17609       3567    55461   \n",
       "BX-I       46665          13133           15844    36432       5943    96030   \n",
       "GR-E           0         575984           29315    86072       9093   237272   \n",
       "GR-I           0         585136           30074    87724       9183   240167   \n",
       "\n",
       "gender   female  \n",
       "DataSet          \n",
       "LOC      587545  \n",
       "AZ       200360  \n",
       "BX-E      37724  \n",
       "BX-I      65936  \n",
       "GR-E     143973  \n",
       "GR-I     145297  "
      ]
     },
     "execution_count": 25,
     "metadata": {},
     "output_type": "execute_result"
    }
   ],
   "source": [
    "book_counts = full_stats['Books'].unstack()\n",
    "book_counts = book_counts[['no-book', 'no-loc-author', 'no-viaf-author', 'unknown', 'ambiguous', 'male', 'female']]\n",
    "book_counts"
   ]
  },
  {
   "cell_type": "code",
   "execution_count": 26,
   "metadata": {
    "papermill": {
     "duration": 0.034006,
     "end_time": "2020-03-18T02:13:45.175224",
     "exception": false,
     "start_time": "2020-03-18T02:13:45.141218",
     "status": "completed"
    },
    "tags": []
   },
   "outputs": [
    {
     "data": {
      "text/plain": [
       "DataSet\n",
       "LOC     1057688\n",
       "AZ      1361598\n",
       "BX-E      37600\n",
       "BX-I      75642\n",
       "GR-E     605299\n",
       "GR-I     615210\n",
       "dtype: int64"
      ]
     },
     "execution_count": 26,
     "metadata": {},
     "output_type": "execute_result"
    }
   ],
   "source": [
    "book_counts[['no-book', 'no-loc-author', 'no-viaf-author']].sum(axis=1)"
   ]
  },
  {
   "cell_type": "markdown",
   "metadata": {
    "papermill": {
     "duration": 0.025014,
     "end_time": "2020-03-18T02:13:45.226224",
     "exception": false,
     "start_time": "2020-03-18T02:13:45.201210",
     "status": "completed"
    },
    "tags": []
   },
   "source": [
    "# book_counts.divide(book_counts.sum(axis=1), axis=0) * 100"
   ]
  },
  {
   "cell_type": "code",
   "execution_count": 27,
   "metadata": {
    "papermill": {
     "duration": 0.036,
     "end_time": "2020-03-18T02:13:45.287224",
     "exception": false,
     "start_time": "2020-03-18T02:13:45.251224",
     "status": "completed"
    },
    "tags": []
   },
   "outputs": [
    {
     "name": "stdout",
     "output_type": "stream",
     "text": [
      "\\begin{tabular}{lrrrrrrr}\n",
      "\\toprule\n",
      "gender &  no-book &  no-loc-author &  no-viaf-author &  unknown &  ambiguous &  male &  female \\\\\n",
      "DataSet &          &                &                 &          &            &       &         \\\\\n",
      "\\midrule\n",
      "LOC     &     0.0\\% &          15.6\\% &            6.0\\% &    24.7\\% &       0.9\\% & 40.8\\% &   12.0\\% \\\\\n",
      "AZ      &    46.2\\% &           7.1\\% &            6.7\\% &    10.5\\% &       0.7\\% & 20.0\\% &    8.8\\% \\\\\n",
      "BX-E    &    15.3\\% &           4.3\\% &            5.1\\% &    11.6\\% &       2.3\\% & 36.5\\% &   24.8\\% \\\\\n",
      "BX-I    &    16.7\\% &           4.7\\% &            5.7\\% &    13.0\\% &       2.1\\% & 34.3\\% &   23.6\\% \\\\\n",
      "GR-E    &     0.0\\% &          53.2\\% &            2.7\\% &     8.0\\% &       0.8\\% & 21.9\\% &   13.3\\% \\\\\n",
      "GR-I    &     0.0\\% &          53.3\\% &            2.7\\% &     8.0\\% &       0.8\\% & 21.9\\% &   13.2\\% \\\\\n",
      "\\bottomrule\n",
      "\\end{tabular}\n",
      "\n"
     ]
    }
   ],
   "source": [
    "print((book_counts.divide(book_counts.sum(axis=1), axis=0) * 100).to_latex(float_format='%.1f%%'))"
   ]
  },
  {
   "cell_type": "markdown",
   "metadata": {
    "papermill": {
     "duration": 0.026003,
     "end_time": "2020-03-18T02:13:45.338230",
     "exception": false,
     "start_time": "2020-03-18T02:13:45.312227",
     "status": "completed"
    },
    "tags": []
   },
   "source": [
    "To facilitate plotting, we need to do a few more transformations:\n",
    "\n",
    "1. Shift into a tall format with a `Scope`\n",
    "2. Convert counts to percents\n",
    "3. Drop the LOC Ratings, because it is meaningless"
   ]
  },
  {
   "cell_type": "code",
   "execution_count": 28,
   "metadata": {
    "papermill": {
     "duration": 0.052006,
     "end_time": "2020-03-18T02:13:45.414225",
     "exception": false,
     "start_time": "2020-03-18T02:13:45.362219",
     "status": "completed"
    },
    "tags": []
   },
   "outputs": [
    {
     "data": {
      "text/html": [
       "<div>\n",
       "<style scoped>\n",
       "    .dataframe tbody tr th:only-of-type {\n",
       "        vertical-align: middle;\n",
       "    }\n",
       "\n",
       "    .dataframe tbody tr th {\n",
       "        vertical-align: top;\n",
       "    }\n",
       "\n",
       "    .dataframe thead th {\n",
       "        text-align: right;\n",
       "    }\n",
       "</style>\n",
       "<table border=\"1\" class=\"dataframe\">\n",
       "  <thead>\n",
       "    <tr style=\"text-align: right;\">\n",
       "      <th></th>\n",
       "      <th>DataSet</th>\n",
       "      <th>Scope</th>\n",
       "      <th>Gender</th>\n",
       "      <th>Count</th>\n",
       "      <th>Fraction</th>\n",
       "    </tr>\n",
       "  </thead>\n",
       "  <tbody>\n",
       "    <tr>\n",
       "      <th>0</th>\n",
       "      <td>AZ</td>\n",
       "      <td>Books</td>\n",
       "      <td>female</td>\n",
       "      <td>200360</td>\n",
       "      <td>0.088279</td>\n",
       "    </tr>\n",
       "    <tr>\n",
       "      <th>1</th>\n",
       "      <td>AZ</td>\n",
       "      <td>Books</td>\n",
       "      <td>male</td>\n",
       "      <td>454136</td>\n",
       "      <td>0.200092</td>\n",
       "    </tr>\n",
       "    <tr>\n",
       "      <th>2</th>\n",
       "      <td>AZ</td>\n",
       "      <td>Books</td>\n",
       "      <td>ambiguous</td>\n",
       "      <td>14937</td>\n",
       "      <td>0.006581</td>\n",
       "    </tr>\n",
       "    <tr>\n",
       "      <th>3</th>\n",
       "      <td>AZ</td>\n",
       "      <td>Books</td>\n",
       "      <td>unknown</td>\n",
       "      <td>238602</td>\n",
       "      <td>0.105128</td>\n",
       "    </tr>\n",
       "    <tr>\n",
       "      <th>4</th>\n",
       "      <td>AZ</td>\n",
       "      <td>Books</td>\n",
       "      <td>unlinked</td>\n",
       "      <td>1361598</td>\n",
       "      <td>0.599920</td>\n",
       "    </tr>\n",
       "    <tr>\n",
       "      <th>5</th>\n",
       "      <td>AZ</td>\n",
       "      <td>Ratings</td>\n",
       "      <td>female</td>\n",
       "      <td>3932954</td>\n",
       "      <td>0.175076</td>\n",
       "    </tr>\n",
       "    <tr>\n",
       "      <th>6</th>\n",
       "      <td>AZ</td>\n",
       "      <td>Ratings</td>\n",
       "      <td>male</td>\n",
       "      <td>6174036</td>\n",
       "      <td>0.274838</td>\n",
       "    </tr>\n",
       "    <tr>\n",
       "      <th>7</th>\n",
       "      <td>AZ</td>\n",
       "      <td>Ratings</td>\n",
       "      <td>ambiguous</td>\n",
       "      <td>449440</td>\n",
       "      <td>0.020007</td>\n",
       "    </tr>\n",
       "    <tr>\n",
       "      <th>8</th>\n",
       "      <td>AZ</td>\n",
       "      <td>Ratings</td>\n",
       "      <td>unknown</td>\n",
       "      <td>1977869</td>\n",
       "      <td>0.088045</td>\n",
       "    </tr>\n",
       "    <tr>\n",
       "      <th>9</th>\n",
       "      <td>AZ</td>\n",
       "      <td>Ratings</td>\n",
       "      <td>unlinked</td>\n",
       "      <td>9929985</td>\n",
       "      <td>0.442034</td>\n",
       "    </tr>\n",
       "    <tr>\n",
       "      <th>10</th>\n",
       "      <td>BX-E</td>\n",
       "      <td>Books</td>\n",
       "      <td>female</td>\n",
       "      <td>37724</td>\n",
       "      <td>0.248248</td>\n",
       "    </tr>\n",
       "    <tr>\n",
       "      <th>11</th>\n",
       "      <td>BX-E</td>\n",
       "      <td>Books</td>\n",
       "      <td>male</td>\n",
       "      <td>55461</td>\n",
       "      <td>0.364969</td>\n",
       "    </tr>\n",
       "    <tr>\n",
       "      <th>12</th>\n",
       "      <td>BX-E</td>\n",
       "      <td>Books</td>\n",
       "      <td>ambiguous</td>\n",
       "      <td>3567</td>\n",
       "      <td>0.023473</td>\n",
       "    </tr>\n",
       "    <tr>\n",
       "      <th>13</th>\n",
       "      <td>BX-E</td>\n",
       "      <td>Books</td>\n",
       "      <td>unknown</td>\n",
       "      <td>17609</td>\n",
       "      <td>0.115878</td>\n",
       "    </tr>\n",
       "    <tr>\n",
       "      <th>14</th>\n",
       "      <td>BX-E</td>\n",
       "      <td>Books</td>\n",
       "      <td>unlinked</td>\n",
       "      <td>37600</td>\n",
       "      <td>0.247432</td>\n",
       "    </tr>\n",
       "    <tr>\n",
       "      <th>15</th>\n",
       "      <td>BX-E</td>\n",
       "      <td>Ratings</td>\n",
       "      <td>female</td>\n",
       "      <td>139920</td>\n",
       "      <td>0.327736</td>\n",
       "    </tr>\n",
       "    <tr>\n",
       "      <th>16</th>\n",
       "      <td>BX-E</td>\n",
       "      <td>Ratings</td>\n",
       "      <td>male</td>\n",
       "      <td>185344</td>\n",
       "      <td>0.434133</td>\n",
       "    </tr>\n",
       "    <tr>\n",
       "      <th>17</th>\n",
       "      <td>BX-E</td>\n",
       "      <td>Ratings</td>\n",
       "      <td>ambiguous</td>\n",
       "      <td>27700</td>\n",
       "      <td>0.064882</td>\n",
       "    </tr>\n",
       "    <tr>\n",
       "      <th>18</th>\n",
       "      <td>BX-E</td>\n",
       "      <td>Ratings</td>\n",
       "      <td>unknown</td>\n",
       "      <td>27109</td>\n",
       "      <td>0.063498</td>\n",
       "    </tr>\n",
       "    <tr>\n",
       "      <th>19</th>\n",
       "      <td>BX-E</td>\n",
       "      <td>Ratings</td>\n",
       "      <td>unlinked</td>\n",
       "      <td>46856</td>\n",
       "      <td>0.109751</td>\n",
       "    </tr>\n",
       "    <tr>\n",
       "      <th>20</th>\n",
       "      <td>BX-I</td>\n",
       "      <td>Books</td>\n",
       "      <td>female</td>\n",
       "      <td>65936</td>\n",
       "      <td>0.235500</td>\n",
       "    </tr>\n",
       "    <tr>\n",
       "      <th>21</th>\n",
       "      <td>BX-I</td>\n",
       "      <td>Books</td>\n",
       "      <td>male</td>\n",
       "      <td>96030</td>\n",
       "      <td>0.342985</td>\n",
       "    </tr>\n",
       "    <tr>\n",
       "      <th>22</th>\n",
       "      <td>BX-I</td>\n",
       "      <td>Books</td>\n",
       "      <td>ambiguous</td>\n",
       "      <td>5943</td>\n",
       "      <td>0.021226</td>\n",
       "    </tr>\n",
       "    <tr>\n",
       "      <th>23</th>\n",
       "      <td>BX-I</td>\n",
       "      <td>Books</td>\n",
       "      <td>unknown</td>\n",
       "      <td>36432</td>\n",
       "      <td>0.130122</td>\n",
       "    </tr>\n",
       "    <tr>\n",
       "      <th>24</th>\n",
       "      <td>BX-I</td>\n",
       "      <td>Books</td>\n",
       "      <td>unlinked</td>\n",
       "      <td>75642</td>\n",
       "      <td>0.270166</td>\n",
       "    </tr>\n",
       "    <tr>\n",
       "      <th>25</th>\n",
       "      <td>BX-I</td>\n",
       "      <td>Ratings</td>\n",
       "      <td>female</td>\n",
       "      <td>394828</td>\n",
       "      <td>0.349726</td>\n",
       "    </tr>\n",
       "    <tr>\n",
       "      <th>26</th>\n",
       "      <td>BX-I</td>\n",
       "      <td>Ratings</td>\n",
       "      <td>male</td>\n",
       "      <td>468801</td>\n",
       "      <td>0.415248</td>\n",
       "    </tr>\n",
       "    <tr>\n",
       "      <th>27</th>\n",
       "      <td>BX-I</td>\n",
       "      <td>Ratings</td>\n",
       "      <td>ambiguous</td>\n",
       "      <td>68088</td>\n",
       "      <td>0.060310</td>\n",
       "    </tr>\n",
       "    <tr>\n",
       "      <th>28</th>\n",
       "      <td>BX-I</td>\n",
       "      <td>Ratings</td>\n",
       "      <td>unknown</td>\n",
       "      <td>77316</td>\n",
       "      <td>0.068484</td>\n",
       "    </tr>\n",
       "    <tr>\n",
       "      <th>29</th>\n",
       "      <td>BX-I</td>\n",
       "      <td>Ratings</td>\n",
       "      <td>unlinked</td>\n",
       "      <td>119932</td>\n",
       "      <td>0.106232</td>\n",
       "    </tr>\n",
       "    <tr>\n",
       "      <th>30</th>\n",
       "      <td>GR-E</td>\n",
       "      <td>Books</td>\n",
       "      <td>female</td>\n",
       "      <td>143973</td>\n",
       "      <td>0.133098</td>\n",
       "    </tr>\n",
       "    <tr>\n",
       "      <th>31</th>\n",
       "      <td>GR-E</td>\n",
       "      <td>Books</td>\n",
       "      <td>male</td>\n",
       "      <td>237272</td>\n",
       "      <td>0.219349</td>\n",
       "    </tr>\n",
       "    <tr>\n",
       "      <th>32</th>\n",
       "      <td>GR-E</td>\n",
       "      <td>Books</td>\n",
       "      <td>ambiguous</td>\n",
       "      <td>9093</td>\n",
       "      <td>0.008406</td>\n",
       "    </tr>\n",
       "    <tr>\n",
       "      <th>33</th>\n",
       "      <td>GR-E</td>\n",
       "      <td>Books</td>\n",
       "      <td>unknown</td>\n",
       "      <td>86072</td>\n",
       "      <td>0.079570</td>\n",
       "    </tr>\n",
       "    <tr>\n",
       "      <th>34</th>\n",
       "      <td>GR-E</td>\n",
       "      <td>Books</td>\n",
       "      <td>unlinked</td>\n",
       "      <td>605299</td>\n",
       "      <td>0.559577</td>\n",
       "    </tr>\n",
       "    <tr>\n",
       "      <th>35</th>\n",
       "      <td>GR-E</td>\n",
       "      <td>Ratings</td>\n",
       "      <td>female</td>\n",
       "      <td>28465292</td>\n",
       "      <td>0.328928</td>\n",
       "    </tr>\n",
       "    <tr>\n",
       "      <th>36</th>\n",
       "      <td>GR-E</td>\n",
       "      <td>Ratings</td>\n",
       "      <td>male</td>\n",
       "      <td>31305094</td>\n",
       "      <td>0.361743</td>\n",
       "    </tr>\n",
       "    <tr>\n",
       "      <th>37</th>\n",
       "      <td>GR-E</td>\n",
       "      <td>Ratings</td>\n",
       "      <td>ambiguous</td>\n",
       "      <td>7306724</td>\n",
       "      <td>0.084432</td>\n",
       "    </tr>\n",
       "    <tr>\n",
       "      <th>38</th>\n",
       "      <td>GR-E</td>\n",
       "      <td>Ratings</td>\n",
       "      <td>unknown</td>\n",
       "      <td>2670230</td>\n",
       "      <td>0.030856</td>\n",
       "    </tr>\n",
       "    <tr>\n",
       "      <th>39</th>\n",
       "      <td>GR-E</td>\n",
       "      <td>Ratings</td>\n",
       "      <td>unlinked</td>\n",
       "      <td>16792307</td>\n",
       "      <td>0.194042</td>\n",
       "    </tr>\n",
       "    <tr>\n",
       "      <th>40</th>\n",
       "      <td>GR-I</td>\n",
       "      <td>Books</td>\n",
       "      <td>female</td>\n",
       "      <td>145297</td>\n",
       "      <td>0.132379</td>\n",
       "    </tr>\n",
       "    <tr>\n",
       "      <th>41</th>\n",
       "      <td>GR-I</td>\n",
       "      <td>Books</td>\n",
       "      <td>male</td>\n",
       "      <td>240167</td>\n",
       "      <td>0.218815</td>\n",
       "    </tr>\n",
       "    <tr>\n",
       "      <th>42</th>\n",
       "      <td>GR-I</td>\n",
       "      <td>Books</td>\n",
       "      <td>ambiguous</td>\n",
       "      <td>9183</td>\n",
       "      <td>0.008367</td>\n",
       "    </tr>\n",
       "    <tr>\n",
       "      <th>43</th>\n",
       "      <td>GR-I</td>\n",
       "      <td>Books</td>\n",
       "      <td>unknown</td>\n",
       "      <td>87724</td>\n",
       "      <td>0.079925</td>\n",
       "    </tr>\n",
       "    <tr>\n",
       "      <th>44</th>\n",
       "      <td>GR-I</td>\n",
       "      <td>Books</td>\n",
       "      <td>unlinked</td>\n",
       "      <td>615210</td>\n",
       "      <td>0.560514</td>\n",
       "    </tr>\n",
       "    <tr>\n",
       "      <th>45</th>\n",
       "      <td>GR-I</td>\n",
       "      <td>Ratings</td>\n",
       "      <td>female</td>\n",
       "      <td>56775622</td>\n",
       "      <td>0.300459</td>\n",
       "    </tr>\n",
       "    <tr>\n",
       "      <th>46</th>\n",
       "      <td>GR-I</td>\n",
       "      <td>Ratings</td>\n",
       "      <td>male</td>\n",
       "      <td>60952298</td>\n",
       "      <td>0.322562</td>\n",
       "    </tr>\n",
       "    <tr>\n",
       "      <th>47</th>\n",
       "      <td>GR-I</td>\n",
       "      <td>Ratings</td>\n",
       "      <td>ambiguous</td>\n",
       "      <td>11553972</td>\n",
       "      <td>0.061144</td>\n",
       "    </tr>\n",
       "    <tr>\n",
       "      <th>48</th>\n",
       "      <td>GR-I</td>\n",
       "      <td>Ratings</td>\n",
       "      <td>unknown</td>\n",
       "      <td>6665538</td>\n",
       "      <td>0.035274</td>\n",
       "    </tr>\n",
       "    <tr>\n",
       "      <th>49</th>\n",
       "      <td>GR-I</td>\n",
       "      <td>Ratings</td>\n",
       "      <td>unlinked</td>\n",
       "      <td>53015497</td>\n",
       "      <td>0.280560</td>\n",
       "    </tr>\n",
       "    <tr>\n",
       "      <th>50</th>\n",
       "      <td>LOC</td>\n",
       "      <td>Books</td>\n",
       "      <td>female</td>\n",
       "      <td>587545</td>\n",
       "      <td>0.119919</td>\n",
       "    </tr>\n",
       "    <tr>\n",
       "      <th>51</th>\n",
       "      <td>LOC</td>\n",
       "      <td>Books</td>\n",
       "      <td>male</td>\n",
       "      <td>1998623</td>\n",
       "      <td>0.407922</td>\n",
       "    </tr>\n",
       "    <tr>\n",
       "      <th>52</th>\n",
       "      <td>LOC</td>\n",
       "      <td>Books</td>\n",
       "      <td>ambiguous</td>\n",
       "      <td>45127</td>\n",
       "      <td>0.009210</td>\n",
       "    </tr>\n",
       "    <tr>\n",
       "      <th>53</th>\n",
       "      <td>LOC</td>\n",
       "      <td>Books</td>\n",
       "      <td>unknown</td>\n",
       "      <td>1210534</td>\n",
       "      <td>0.247072</td>\n",
       "    </tr>\n",
       "    <tr>\n",
       "      <th>54</th>\n",
       "      <td>LOC</td>\n",
       "      <td>Books</td>\n",
       "      <td>unlinked</td>\n",
       "      <td>1057688</td>\n",
       "      <td>0.215876</td>\n",
       "    </tr>\n",
       "  </tbody>\n",
       "</table>\n",
       "</div>"
      ],
      "text/plain": [
       "   DataSet    Scope     Gender     Count  Fraction\n",
       "0       AZ    Books     female    200360  0.088279\n",
       "1       AZ    Books       male    454136  0.200092\n",
       "2       AZ    Books  ambiguous     14937  0.006581\n",
       "3       AZ    Books    unknown    238602  0.105128\n",
       "4       AZ    Books   unlinked   1361598  0.599920\n",
       "5       AZ  Ratings     female   3932954  0.175076\n",
       "6       AZ  Ratings       male   6174036  0.274838\n",
       "7       AZ  Ratings  ambiguous    449440  0.020007\n",
       "8       AZ  Ratings    unknown   1977869  0.088045\n",
       "9       AZ  Ratings   unlinked   9929985  0.442034\n",
       "10    BX-E    Books     female     37724  0.248248\n",
       "11    BX-E    Books       male     55461  0.364969\n",
       "12    BX-E    Books  ambiguous      3567  0.023473\n",
       "13    BX-E    Books    unknown     17609  0.115878\n",
       "14    BX-E    Books   unlinked     37600  0.247432\n",
       "15    BX-E  Ratings     female    139920  0.327736\n",
       "16    BX-E  Ratings       male    185344  0.434133\n",
       "17    BX-E  Ratings  ambiguous     27700  0.064882\n",
       "18    BX-E  Ratings    unknown     27109  0.063498\n",
       "19    BX-E  Ratings   unlinked     46856  0.109751\n",
       "20    BX-I    Books     female     65936  0.235500\n",
       "21    BX-I    Books       male     96030  0.342985\n",
       "22    BX-I    Books  ambiguous      5943  0.021226\n",
       "23    BX-I    Books    unknown     36432  0.130122\n",
       "24    BX-I    Books   unlinked     75642  0.270166\n",
       "25    BX-I  Ratings     female    394828  0.349726\n",
       "26    BX-I  Ratings       male    468801  0.415248\n",
       "27    BX-I  Ratings  ambiguous     68088  0.060310\n",
       "28    BX-I  Ratings    unknown     77316  0.068484\n",
       "29    BX-I  Ratings   unlinked    119932  0.106232\n",
       "30    GR-E    Books     female    143973  0.133098\n",
       "31    GR-E    Books       male    237272  0.219349\n",
       "32    GR-E    Books  ambiguous      9093  0.008406\n",
       "33    GR-E    Books    unknown     86072  0.079570\n",
       "34    GR-E    Books   unlinked    605299  0.559577\n",
       "35    GR-E  Ratings     female  28465292  0.328928\n",
       "36    GR-E  Ratings       male  31305094  0.361743\n",
       "37    GR-E  Ratings  ambiguous   7306724  0.084432\n",
       "38    GR-E  Ratings    unknown   2670230  0.030856\n",
       "39    GR-E  Ratings   unlinked  16792307  0.194042\n",
       "40    GR-I    Books     female    145297  0.132379\n",
       "41    GR-I    Books       male    240167  0.218815\n",
       "42    GR-I    Books  ambiguous      9183  0.008367\n",
       "43    GR-I    Books    unknown     87724  0.079925\n",
       "44    GR-I    Books   unlinked    615210  0.560514\n",
       "45    GR-I  Ratings     female  56775622  0.300459\n",
       "46    GR-I  Ratings       male  60952298  0.322562\n",
       "47    GR-I  Ratings  ambiguous  11553972  0.061144\n",
       "48    GR-I  Ratings    unknown   6665538  0.035274\n",
       "49    GR-I  Ratings   unlinked  53015497  0.280560\n",
       "50     LOC    Books     female    587545  0.119919\n",
       "51     LOC    Books       male   1998623  0.407922\n",
       "52     LOC    Books  ambiguous     45127  0.009210\n",
       "53     LOC    Books    unknown   1210534  0.247072\n",
       "54     LOC    Books   unlinked   1057688  0.215876"
      ]
     },
     "execution_count": 28,
     "metadata": {},
     "output_type": "execute_result"
    }
   ],
   "source": [
    "gs_tall = pd.DataFrame({'Count': gender_stats.stack()})\n",
    "gs_tall.index.rename(['DataSet', 'Gender', 'Scope'], inplace=True)\n",
    "gs_tall = gs_tall.reorder_levels(['DataSet', 'Scope', 'Gender']).sort_index()\n",
    "gs_tall['Fraction'] = gs_tall['Count'] / gs_tall.groupby(level=['DataSet', 'Scope'])['Count'].sum()\n",
    "gs_tall.drop(('LOC', 'Ratings'), inplace=True)\n",
    "gs_tall.reset_index(inplace=True)\n",
    "gs_tall"
   ]
  },
  {
   "cell_type": "code",
   "execution_count": 29,
   "metadata": {
    "papermill": {
     "duration": 0.031999,
     "end_time": "2020-03-18T02:13:45.471195",
     "exception": false,
     "start_time": "2020-03-18T02:13:45.439196",
     "status": "completed"
    },
    "tags": []
   },
   "outputs": [],
   "source": [
    "gs_tall['DataSet'] = gs_tall['DataSet'].astype('category').cat.reorder_categories(['LOC', 'AZ', 'BX-I', 'BX-E', 'GR-I', 'GR-E'])"
   ]
  },
  {
   "cell_type": "markdown",
   "metadata": {
    "papermill": {
     "duration": 0.025018,
     "end_time": "2020-03-18T02:13:45.521226",
     "exception": false,
     "start_time": "2020-03-18T02:13:45.496208",
     "status": "completed"
    },
    "tags": []
   },
   "source": [
    "Finally, we can plot it:"
   ]
  },
  {
   "cell_type": "code",
   "execution_count": 30,
   "metadata": {
    "papermill": {
     "duration": 1.004993,
     "end_time": "2020-03-18T02:13:46.551232",
     "exception": false,
     "start_time": "2020-03-18T02:13:45.546239",
     "status": "completed"
    },
    "tags": []
   },
   "outputs": [
    {
     "data": {
      "image/png": "[encoded data removed]",
      "text/plain": [
       "<Figure size 707.35x475.2 with 6 Axes>"
      ]
     },
     "metadata": {
      "needs_background": "light"
     },
     "output_type": "display_data"
    }
   ],
   "source": [
    "sns.catplot(x='Gender', y='Fraction', col='DataSet', col_wrap=2, hue='Scope', data=gs_tall,\n",
    "            kind='bar', sharey=False, height=2.2, aspect=2)\n",
    "plt.savefig('figures/link-stats.pdf')"
   ]
  },
  {
   "cell_type": "markdown",
   "metadata": {
    "papermill": {
     "duration": 0.026022,
     "end_time": "2020-03-18T02:13:46.603224",
     "exception": false,
     "start_time": "2020-03-18T02:13:46.577202",
     "status": "completed"
    },
    "tags": []
   },
   "source": [
    "Known-gender books:"
   ]
  },
  {
   "cell_type": "code",
   "execution_count": 31,
   "metadata": {
    "papermill": {
     "duration": 0.042031,
     "end_time": "2020-03-18T02:13:46.675233",
     "exception": false,
     "start_time": "2020-03-18T02:13:46.633202",
     "status": "completed"
    },
    "tags": []
   },
   "outputs": [
    {
     "data": {
      "text/html": [
       "<div>\n",
       "<style scoped>\n",
       "    .dataframe tbody tr th:only-of-type {\n",
       "        vertical-align: middle;\n",
       "    }\n",
       "\n",
       "    .dataframe tbody tr th {\n",
       "        vertical-align: top;\n",
       "    }\n",
       "\n",
       "    .dataframe thead th {\n",
       "        text-align: right;\n",
       "    }\n",
       "</style>\n",
       "<table border=\"1\" class=\"dataframe\">\n",
       "  <thead>\n",
       "    <tr style=\"text-align: right;\">\n",
       "      <th>gender</th>\n",
       "      <th>male</th>\n",
       "      <th>female</th>\n",
       "    </tr>\n",
       "    <tr>\n",
       "      <th>DataSet</th>\n",
       "      <th></th>\n",
       "      <th></th>\n",
       "    </tr>\n",
       "  </thead>\n",
       "  <tbody>\n",
       "    <tr>\n",
       "      <th>LOC</th>\n",
       "      <td>0.772813</td>\n",
       "      <td>0.227187</td>\n",
       "    </tr>\n",
       "    <tr>\n",
       "      <th>AZ</th>\n",
       "      <td>0.693871</td>\n",
       "      <td>0.306129</td>\n",
       "    </tr>\n",
       "    <tr>\n",
       "      <th>BX-I</th>\n",
       "      <td>0.592902</td>\n",
       "      <td>0.407098</td>\n",
       "    </tr>\n",
       "    <tr>\n",
       "      <th>GR-I</th>\n",
       "      <td>0.623059</td>\n",
       "      <td>0.376941</td>\n",
       "    </tr>\n",
       "  </tbody>\n",
       "</table>\n",
       "</div>"
      ],
      "text/plain": [
       "gender       male    female\n",
       "DataSet                    \n",
       "LOC      0.772813  0.227187\n",
       "AZ       0.693871  0.306129\n",
       "BX-I     0.592902  0.407098\n",
       "GR-I     0.623059  0.376941"
      ]
     },
     "execution_count": 31,
     "metadata": {},
     "output_type": "execute_result"
    }
   ],
   "source": [
    "k_bc = book_counts[['male', 'female']]\n",
    "k_bf = k_bc.divide(k_bc.sum(axis=1), axis=0)\n",
    "k_bf = k_bf.loc[['LOC', 'AZ', 'BX-I', 'GR-I']]\n",
    "k_bf"
   ]
  },
  {
   "cell_type": "code",
   "execution_count": 32,
   "metadata": {
    "papermill": {
     "duration": 0.034006,
     "end_time": "2020-03-18T02:13:46.736233",
     "exception": false,
     "start_time": "2020-03-18T02:13:46.702227",
     "status": "completed"
    },
    "tags": []
   },
   "outputs": [
    {
     "name": "stdout",
     "output_type": "stream",
     "text": [
      "\\begin{tabular}{lrr}\n",
      "\\toprule\n",
      "gender &      male &    female \\\\\n",
      "DataSet &           &           \\\\\n",
      "\\midrule\n",
      "LOC     &  0.772813 &  0.227187 \\\\\n",
      "AZ      &  0.693871 &  0.306129 \\\\\n",
      "BX-I    &  0.592902 &  0.407098 \\\\\n",
      "GR-I    &  0.623059 &  0.376941 \\\\\n",
      "\\bottomrule\n",
      "\\end{tabular}\n",
      "\n"
     ]
    }
   ],
   "source": [
    "print(k_bf.to_latex())"
   ]
  },
  {
   "cell_type": "code",
   "execution_count": 33,
   "metadata": {
    "papermill": {
     "duration": 0.144958,
     "end_time": "2020-03-18T02:13:46.907202",
     "exception": false,
     "start_time": "2020-03-18T02:13:46.762244",
     "status": "completed"
    },
    "tags": []
   },
   "outputs": [
    {
     "data": {
      "image/png": "[encoded data removed]",
      "text/plain": [
       "<Figure size 360x216 with 1 Axes>"
      ]
     },
     "metadata": {
      "needs_background": "light"
     },
     "output_type": "display_data"
    }
   ],
   "source": [
    "plt.figure(figsize=(5, 3))\n",
    "ax = plt.subplot()\n",
    "ax.bar(k_bf.index, k_bf.female, label='Female')\n",
    "ax.bar(k_bf.index, k_bf.male, bottom=k_bf.female, label='Male')\n",
    "ax.set_yticklabels(['{:.0f}%'.format(x*100) for x in ax.get_yticks()])\n",
    "plt.legend()\n",
    "ax.set_ylabel('% of Books')\n",
    "ax.set_xlabel('Data Set')\n",
    "plt.savefig('figures/frac-known-books.pdf')"
   ]
  },
  {
   "cell_type": "markdown",
   "metadata": {
    "papermill": {
     "duration": 0.026031,
     "end_time": "2020-03-18T02:13:46.959233",
     "exception": false,
     "start_time": "2020-03-18T02:13:46.933202",
     "status": "completed"
    },
    "tags": []
   },
   "source": [
    "And do that again for ratings."
   ]
  },
  {
   "cell_type": "code",
   "execution_count": 34,
   "metadata": {
    "papermill": {
     "duration": 0.038025,
     "end_time": "2020-03-18T02:13:47.023233",
     "exception": false,
     "start_time": "2020-03-18T02:13:46.985208",
     "status": "completed"
    },
    "tags": []
   },
   "outputs": [
    {
     "data": {
      "text/html": [
       "<div>\n",
       "<style scoped>\n",
       "    .dataframe tbody tr th:only-of-type {\n",
       "        vertical-align: middle;\n",
       "    }\n",
       "\n",
       "    .dataframe tbody tr th {\n",
       "        vertical-align: top;\n",
       "    }\n",
       "\n",
       "    .dataframe thead th {\n",
       "        text-align: right;\n",
       "    }\n",
       "</style>\n",
       "<table border=\"1\" class=\"dataframe\">\n",
       "  <thead>\n",
       "    <tr style=\"text-align: right;\">\n",
       "      <th>gender</th>\n",
       "      <th>male</th>\n",
       "      <th>female</th>\n",
       "    </tr>\n",
       "    <tr>\n",
       "      <th>DataSet</th>\n",
       "      <th></th>\n",
       "      <th></th>\n",
       "    </tr>\n",
       "  </thead>\n",
       "  <tbody>\n",
       "    <tr>\n",
       "      <th>AZ</th>\n",
       "      <td>0.610868</td>\n",
       "      <td>0.389132</td>\n",
       "    </tr>\n",
       "    <tr>\n",
       "      <th>BX-I</th>\n",
       "      <td>0.542827</td>\n",
       "      <td>0.457173</td>\n",
       "    </tr>\n",
       "    <tr>\n",
       "      <th>BX-E</th>\n",
       "      <td>0.569826</td>\n",
       "      <td>0.430174</td>\n",
       "    </tr>\n",
       "    <tr>\n",
       "      <th>GR-I</th>\n",
       "      <td>0.517739</td>\n",
       "      <td>0.482261</td>\n",
       "    </tr>\n",
       "    <tr>\n",
       "      <th>BX-I</th>\n",
       "      <td>0.542827</td>\n",
       "      <td>0.457173</td>\n",
       "    </tr>\n",
       "  </tbody>\n",
       "</table>\n",
       "</div>"
      ],
      "text/plain": [
       "gender       male    female\n",
       "DataSet                    \n",
       "AZ       0.610868  0.389132\n",
       "BX-I     0.542827  0.457173\n",
       "BX-E     0.569826  0.430174\n",
       "GR-I     0.517739  0.482261\n",
       "BX-I     0.542827  0.457173"
      ]
     },
     "execution_count": 34,
     "metadata": {},
     "output_type": "execute_result"
    }
   ],
   "source": [
    "rate_counts = full_stats['Ratings'].unstack()\n",
    "k_rc = rate_counts[['male', 'female']]\n",
    "k_rf = k_rc.divide(k_rc.sum(axis=1), axis=0)\n",
    "k_rf = k_rf.loc[['AZ', 'BX-I', 'BX-E', 'GR-I', 'BX-I']]\n",
    "k_rf"
   ]
  },
  {
   "cell_type": "code",
   "execution_count": 35,
   "metadata": {
    "papermill": {
     "duration": 0.041004,
     "end_time": "2020-03-18T02:13:47.090238",
     "exception": false,
     "start_time": "2020-03-18T02:13:47.049234",
     "status": "completed"
    },
    "tags": []
   },
   "outputs": [
    {
     "name": "stdout",
     "output_type": "stream",
     "text": [
      "\\begin{tabular}{lrrrr}\n",
      "\\toprule\n",
      "{} & \\multicolumn{2}{l}{Books} & \\multicolumn{2}{l}{Ratings} \\\\\n",
      "gender & female &  male &  female &  male \\\\\n",
      "DataSet &        &       &         &       \\\\\n",
      "\\midrule\n",
      "LOC     &  22.7\\% & 77.3\\% &   22.7\\% & 77.3\\% \\\\\n",
      "AZ      &  30.6\\% & 69.4\\% &   38.9\\% & 61.1\\% \\\\\n",
      "BX-E    &  40.5\\% & 59.5\\% &   43.0\\% & 57.0\\% \\\\\n",
      "BX-I    &  40.7\\% & 59.3\\% &   45.7\\% & 54.3\\% \\\\\n",
      "GR-E    &  37.8\\% & 62.2\\% &   47.6\\% & 52.4\\% \\\\\n",
      "GR-I    &  37.7\\% & 62.3\\% &   48.2\\% & 51.8\\% \\\\\n",
      "\\bottomrule\n",
      "\\end{tabular}\n",
      "\n"
     ]
    }
   ],
   "source": [
    "all_cts = full_stats.reorder_levels([1,0]).loc[['male', 'female']].reorder_levels([1,0]).unstack()\n",
    "all_cts.sort_index(axis=1, inplace=True)\n",
    "print(all_cts.divide(all_cts.sum(axis=1, level=0), axis=0, level=0).to_latex(float_format=lambda f: '{:.1f}%'.format(f*100)))"
   ]
  },
  {
   "cell_type": "code",
   "execution_count": 36,
   "metadata": {
    "papermill": {
     "duration": 0.150032,
     "end_time": "2020-03-18T02:13:47.266237",
     "exception": false,
     "start_time": "2020-03-18T02:13:47.116205",
     "status": "completed"
    },
    "tags": []
   },
   "outputs": [
    {
     "data": {
      "image/png": "[encoded data removed]",
      "text/plain": [
       "<Figure size 360x216 with 1 Axes>"
      ]
     },
     "metadata": {
      "needs_background": "light"
     },
     "output_type": "display_data"
    }
   ],
   "source": [
    "plt.figure(figsize=(5, 3))\n",
    "ax = plt.subplot()\n",
    "ax.bar(k_rf.index, k_rf.female, label='Female')\n",
    "ax.bar(k_rf.index, k_rf.male, bottom=k_rf.female, label='Male')\n",
    "ax.set_yticklabels(['{:.0f}%'.format(x*100) for x in ax.get_yticks()])\n",
    "plt.legend()\n",
    "ax.set_ylabel('% of Ratings')\n",
    "ax.set_xlabel('Data Set')\n",
    "plt.savefig('figures/frac-known-rates.pdf')"
   ]
  },
  {
   "cell_type": "markdown",
   "metadata": {
    "papermill": {
     "duration": 0.027031,
     "end_time": "2020-03-18T02:13:47.320237",
     "exception": false,
     "start_time": "2020-03-18T02:13:47.293206",
     "status": "completed"
    },
    "tags": []
   },
   "source": [
    "## Evaluate by Popularity"
   ]
  },
  {
   "cell_type": "code",
   "execution_count": 37,
   "metadata": {
    "papermill": {
     "duration": 1.36598,
     "end_time": "2020-03-18T02:13:48.712217",
     "exception": false,
     "start_time": "2020-03-18T02:13:47.346237",
     "status": "completed"
    },
    "tags": []
   },
   "outputs": [
    {
     "data": {
      "text/html": [
       "<div>\n",
       "<style scoped>\n",
       "    .dataframe tbody tr th:only-of-type {\n",
       "        vertical-align: middle;\n",
       "    }\n",
       "\n",
       "    .dataframe tbody tr th {\n",
       "        vertical-align: top;\n",
       "    }\n",
       "\n",
       "    .dataframe thead th {\n",
       "        text-align: right;\n",
       "    }\n",
       "</style>\n",
       "<table border=\"1\" class=\"dataframe\">\n",
       "  <thead>\n",
       "    <tr style=\"text-align: right;\">\n",
       "      <th></th>\n",
       "      <th>item</th>\n",
       "      <th>nratings</th>\n",
       "      <th>gender</th>\n",
       "    </tr>\n",
       "  </thead>\n",
       "  <tbody>\n",
       "    <tr>\n",
       "      <th>0</th>\n",
       "      <td>101005772</td>\n",
       "      <td>1</td>\n",
       "      <td>male</td>\n",
       "    </tr>\n",
       "    <tr>\n",
       "      <th>1</th>\n",
       "      <td>101005947</td>\n",
       "      <td>1</td>\n",
       "      <td>unknown</td>\n",
       "    </tr>\n",
       "    <tr>\n",
       "      <th>2</th>\n",
       "      <td>101006165</td>\n",
       "      <td>1</td>\n",
       "      <td>ambiguous</td>\n",
       "    </tr>\n",
       "    <tr>\n",
       "      <th>3</th>\n",
       "      <td>101006411</td>\n",
       "      <td>13</td>\n",
       "      <td>male</td>\n",
       "    </tr>\n",
       "    <tr>\n",
       "      <th>4</th>\n",
       "      <td>101006593</td>\n",
       "      <td>1</td>\n",
       "      <td>male</td>\n",
       "    </tr>\n",
       "  </tbody>\n",
       "</table>\n",
       "</div>"
      ],
      "text/plain": [
       "        item  nratings     gender\n",
       "0  101005772         1       male\n",
       "1  101005947         1    unknown\n",
       "2  101006165         1  ambiguous\n",
       "3  101006411        13       male\n",
       "4  101006593         1       male"
      ]
     },
     "execution_count": 37,
     "metadata": {},
     "output_type": "execute_result"
    }
   ],
   "source": [
    "bxi_istats = ratings['BX-I'].groupby('item').user.count().reset_index(name='nratings')\n",
    "bxi_istats = gender_info(bxi_istats)\n",
    "bxi_istats.head()"
   ]
  },
  {
   "cell_type": "code",
   "execution_count": 38,
   "metadata": {
    "papermill": {
     "duration": 0.507002,
     "end_time": "2020-03-18T02:13:49.246217",
     "exception": false,
     "start_time": "2020-03-18T02:13:48.739215",
     "status": "completed"
    },
    "tags": []
   },
   "outputs": [
    {
     "data": {
      "image/png": "[encoded data removed]",
      "text/plain": [
       "<Figure size 432x288 with 1 Axes>"
      ]
     },
     "metadata": {
      "needs_background": "light"
     },
     "output_type": "display_data"
    }
   ],
   "source": [
    "bxi_ipops = bxi_istats.groupby('nratings').item.count().plot(loglog=True)"
   ]
  },
  {
   "cell_type": "code",
   "execution_count": 39,
   "metadata": {
    "papermill": {
     "duration": 0.080999,
     "end_time": "2020-03-18T02:13:49.359217",
     "exception": false,
     "start_time": "2020-03-18T02:13:49.278218",
     "status": "completed"
    },
    "tags": []
   },
   "outputs": [],
   "source": [
    "bxi_istats['PopRank'] = bxi_istats.nratings.rank() / len(bxi_istats)\n",
    "bxi_istats['PopQ'] = bxi_istats['PopRank'].round(3)\n",
    "bxi_istats['LogPop'] = np.log10(bxi_istats.nratings)\n",
    "bxi_istats['LogPR'] = bxi_istats['LogPop'].round(1)"
   ]
  },
  {
   "cell_type": "code",
   "execution_count": 40,
   "metadata": {
    "papermill": {
     "duration": 0.061028,
     "end_time": "2020-03-18T02:13:49.449248",
     "exception": false,
     "start_time": "2020-03-18T02:13:49.388220",
     "status": "completed"
    },
    "tags": []
   },
   "outputs": [
    {
     "data": {
      "text/html": [
       "<div>\n",
       "<style scoped>\n",
       "    .dataframe tbody tr th:only-of-type {\n",
       "        vertical-align: middle;\n",
       "    }\n",
       "\n",
       "    .dataframe tbody tr th {\n",
       "        vertical-align: top;\n",
       "    }\n",
       "\n",
       "    .dataframe thead th {\n",
       "        text-align: right;\n",
       "    }\n",
       "</style>\n",
       "<table border=\"1\" class=\"dataframe\">\n",
       "  <thead>\n",
       "    <tr style=\"text-align: right;\">\n",
       "      <th>gender</th>\n",
       "      <th>female</th>\n",
       "      <th>male</th>\n",
       "      <th>ambiguous</th>\n",
       "      <th>unknown</th>\n",
       "      <th>unlinked</th>\n",
       "    </tr>\n",
       "    <tr>\n",
       "      <th>LogPR</th>\n",
       "      <th></th>\n",
       "      <th></th>\n",
       "      <th></th>\n",
       "      <th></th>\n",
       "      <th></th>\n",
       "    </tr>\n",
       "  </thead>\n",
       "  <tbody>\n",
       "    <tr>\n",
       "      <th>3.0</th>\n",
       "      <td>0.142857</td>\n",
       "      <td>0.714286</td>\n",
       "      <td>0.142857</td>\n",
       "      <td>0.0</td>\n",
       "      <td>0.0</td>\n",
       "    </tr>\n",
       "    <tr>\n",
       "      <th>3.1</th>\n",
       "      <td>0.500000</td>\n",
       "      <td>0.000000</td>\n",
       "      <td>0.500000</td>\n",
       "      <td>0.0</td>\n",
       "      <td>0.0</td>\n",
       "    </tr>\n",
       "    <tr>\n",
       "      <th>3.2</th>\n",
       "      <td>0.500000</td>\n",
       "      <td>0.000000</td>\n",
       "      <td>0.500000</td>\n",
       "      <td>0.0</td>\n",
       "      <td>0.0</td>\n",
       "    </tr>\n",
       "    <tr>\n",
       "      <th>3.3</th>\n",
       "      <td>0.000000</td>\n",
       "      <td>0.000000</td>\n",
       "      <td>1.000000</td>\n",
       "      <td>0.0</td>\n",
       "      <td>0.0</td>\n",
       "    </tr>\n",
       "    <tr>\n",
       "      <th>3.4</th>\n",
       "      <td>0.000000</td>\n",
       "      <td>1.000000</td>\n",
       "      <td>0.000000</td>\n",
       "      <td>0.0</td>\n",
       "      <td>0.0</td>\n",
       "    </tr>\n",
       "  </tbody>\n",
       "</table>\n",
       "</div>"
      ],
      "text/plain": [
       "gender    female      male  ambiguous  unknown  unlinked\n",
       "LogPR                                                   \n",
       "3.0     0.142857  0.714286   0.142857      0.0       0.0\n",
       "3.1     0.500000  0.000000   0.500000      0.0       0.0\n",
       "3.2     0.500000  0.000000   0.500000      0.0       0.0\n",
       "3.3     0.000000  0.000000   1.000000      0.0       0.0\n",
       "3.4     0.000000  1.000000   0.000000      0.0       0.0"
      ]
     },
     "execution_count": 40,
     "metadata": {},
     "output_type": "execute_result"
    }
   ],
   "source": [
    "bxi_pop_gender = bxi_istats.groupby(['LogPR', 'gender']).item.count().unstack(fill_value=0)\n",
    "bxi_pop_gender = bxi_pop_gender.divide(bxi_pop_gender.sum(axis=1), axis='rows')\n",
    "bxi_pop_gender.tail()"
   ]
  },
  {
   "cell_type": "code",
   "execution_count": 41,
   "metadata": {
    "papermill": {
     "duration": 0.039025,
     "end_time": "2020-03-18T02:13:49.517245",
     "exception": false,
     "start_time": "2020-03-18T02:13:49.478220",
     "status": "completed"
    },
    "tags": []
   },
   "outputs": [
    {
     "data": {
      "text/html": [
       "<div>\n",
       "<style scoped>\n",
       "    .dataframe tbody tr th:only-of-type {\n",
       "        vertical-align: middle;\n",
       "    }\n",
       "\n",
       "    .dataframe tbody tr th {\n",
       "        vertical-align: top;\n",
       "    }\n",
       "\n",
       "    .dataframe thead th {\n",
       "        text-align: right;\n",
       "    }\n",
       "</style>\n",
       "<table border=\"1\" class=\"dataframe\">\n",
       "  <thead>\n",
       "    <tr style=\"text-align: right;\">\n",
       "      <th></th>\n",
       "      <th>LogPR</th>\n",
       "      <th>gender</th>\n",
       "      <th>Fraction</th>\n",
       "    </tr>\n",
       "  </thead>\n",
       "  <tbody>\n",
       "    <tr>\n",
       "      <th>0</th>\n",
       "      <td>0.0</td>\n",
       "      <td>female</td>\n",
       "      <td>0.177708</td>\n",
       "    </tr>\n",
       "    <tr>\n",
       "      <th>1</th>\n",
       "      <td>0.0</td>\n",
       "      <td>male</td>\n",
       "      <td>0.320315</td>\n",
       "    </tr>\n",
       "    <tr>\n",
       "      <th>2</th>\n",
       "      <td>0.0</td>\n",
       "      <td>ambiguous</td>\n",
       "      <td>0.015932</td>\n",
       "    </tr>\n",
       "    <tr>\n",
       "      <th>3</th>\n",
       "      <td>0.0</td>\n",
       "      <td>unknown</td>\n",
       "      <td>0.141650</td>\n",
       "    </tr>\n",
       "    <tr>\n",
       "      <th>4</th>\n",
       "      <td>0.0</td>\n",
       "      <td>unlinked</td>\n",
       "      <td>0.344395</td>\n",
       "    </tr>\n",
       "  </tbody>\n",
       "</table>\n",
       "</div>"
      ],
      "text/plain": [
       "   LogPR     gender  Fraction\n",
       "0    0.0     female  0.177708\n",
       "1    0.0       male  0.320315\n",
       "2    0.0  ambiguous  0.015932\n",
       "3    0.0    unknown  0.141650\n",
       "4    0.0   unlinked  0.344395"
      ]
     },
     "execution_count": 41,
     "metadata": {},
     "output_type": "execute_result"
    }
   ],
   "source": [
    "bxi_pg = bxi_pop_gender.stack().reset_index(name='Fraction')\n",
    "bxi_pg['gender'] = bxi_pg['gender'].astype('object')\n",
    "bxi_pg.head()"
   ]
  },
  {
   "cell_type": "code",
   "execution_count": 42,
   "metadata": {
    "papermill": {
     "duration": 0.14403,
     "end_time": "2020-03-18T02:13:49.690250",
     "exception": false,
     "start_time": "2020-03-18T02:13:49.546220",
     "status": "completed"
    },
    "tags": []
   },
   "outputs": [
    {
     "data": {
      "text/plain": [
       "<matplotlib.legend.Legend at 0x1f8ebf8dd48>"
      ]
     },
     "execution_count": 42,
     "metadata": {},
     "output_type": "execute_result"
    },
    {
     "data": {
      "image/png": "[encoded data removed]",
      "text/plain": [
       "<Figure size 576x396 with 1 Axes>"
      ]
     },
     "metadata": {},
     "output_type": "display_data"
    }
   ],
   "source": [
    "plt.style.use('seaborn')\n",
    "plt.stackplot(bxi_pop_gender.index,\n",
    "              [bxi_pop_gender[c] for c in bxi_pop_gender.columns],\n",
    "              labels=bxi_pop_gender.columns)\n",
    "plt.legend(bbox_to_anchor=(1.04, 0.5), loc=\"center left\")"
   ]
  },
  {
   "cell_type": "code",
   "execution_count": null,
   "metadata": {
    "papermill": {
     "duration": 0.02898,
     "end_time": "2020-03-18T02:13:49.748230",
     "exception": false,
     "start_time": "2020-03-18T02:13:49.719250",
     "status": "completed"
    },
    "tags": []
   },
   "outputs": [],
   "source": []
  }
 ],
 "metadata": {
  "kernelspec": {
   "display_name": "Python 3",
   "language": "python",
   "name": "python3"
  },
  "language_info": {
   "codemirror_mode": {
    "name": "ipython",
    "version": 3
   },
   "file_extension": ".py",
   "mimetype": "text/x-python",
   "name": "python",
   "nbconvert_exporter": "python",
   "pygments_lexer": "ipython3",
   "version": "3.7.6"
  },
  "papermill": {
   "duration": 156.336594,
   "end_time": "2020-03-18T02:13:49.781221",
   "environment_variables": {},
   "exception": null,
   "input_path": "PySummary.ipynb",
   "output_path": "PySummary.temp.ipynb",
   "parameters": {},
   "start_time": "2020-03-18T02:11:13.444627",
   "version": "1.0.1"
  },
  "widgets": {
   "application/vnd.jupyter.widget-state+json": {
    "state": {
     "0764791808b44048826b651d7874925f": {
      "model_module": "@jupyter-widgets/controls",
      "model_module_version": "1.5.0",
      "model_name": "IntProgressModel",
      "state": {
       "_dom_classes": [],
       "_model_module": "@jupyter-widgets/controls",
       "_model_module_version": "1.5.0",
       "_model_name": "IntProgressModel",
       "_view_count": null,
       "_view_module": "@jupyter-widgets/controls",
       "_view_module_version": "1.5.0",
       "_view_name": "ProgressView",
       "bar_style": "success",
       "description": "",
       "description_tooltip": null,
       "layout": "IPY_MODEL_492dffeadaa0486eb6651f3c0eed9281",
       "max": 5,
       "min": 0,
       "orientation": "horizontal",
       "style": "IPY_MODEL_51fe952897094592945dad2184893626",
       "value": 5
      }
     },
     "27f775bd7d094d8b95dfdaa2554019f8": {
      "model_module": "@jupyter-widgets/controls",
      "model_module_version": "1.5.0",
      "model_name": "DescriptionStyleModel",
      "state": {
       "_model_module": "@jupyter-widgets/controls",
       "_model_module_version": "1.5.0",
       "_model_name": "DescriptionStyleModel",
       "_view_count": null,
       "_view_module": "@jupyter-widgets/base",
       "_view_module_version": "1.2.0",
       "_view_name": "StyleView",
       "description_width": ""
      }
     },
     "309bd7041c174922b1ff4b13fd9d4062": {
      "model_module": "@jupyter-widgets/base",
      "model_module_version": "1.2.0",
      "model_name": "LayoutModel",
      "state": {
       "_model_module": "@jupyter-widgets/base",
       "_model_module_version": "1.2.0",
       "_model_name": "LayoutModel",
       "_view_count": null,
       "_view_module": "@jupyter-widgets/base",
       "_view_module_version": "1.2.0",
       "_view_name": "LayoutView",
       "align_content": null,
       "align_items": null,
       "align_self": null,
       "border": null,
       "bottom": null,
       "display": null,
       "flex": null,
       "flex_flow": null,
       "grid_area": null,
       "grid_auto_columns": null,
       "grid_auto_flow": null,
       "grid_auto_rows": null,
       "grid_column": null,
       "grid_gap": null,
       "grid_row": null,
       "grid_template_areas": null,
       "grid_template_columns": null,
       "grid_template_rows": null,
       "height": null,
       "justify_content": null,
       "justify_items": null,
       "left": null,
       "margin": null,
       "max_height": null,
       "max_width": null,
       "min_height": null,
       "min_width": null,
       "object_fit": null,
       "object_position": null,
       "order": null,
       "overflow": null,
       "overflow_x": null,
       "overflow_y": null,
       "padding": null,
       "right": null,
       "top": null,
       "visibility": null,
       "width": null
      }
     },
     "492dffeadaa0486eb6651f3c0eed9281": {
      "model_module": "@jupyter-widgets/base",
      "model_module_version": "1.2.0",
      "model_name": "LayoutModel",
      "state": {
       "_model_module": "@jupyter-widgets/base",
       "_model_module_version": "1.2.0",
       "_model_name": "LayoutModel",
       "_view_count": null,
       "_view_module": "@jupyter-widgets/base",
       "_view_module_version": "1.2.0",
       "_view_name": "LayoutView",
       "align_content": null,
       "align_items": null,
       "align_self": null,
       "border": null,
       "bottom": null,
       "display": null,
       "flex": null,
       "flex_flow": null,
       "grid_area": null,
       "grid_auto_columns": null,
       "grid_auto_flow": null,
       "grid_auto_rows": null,
       "grid_column": null,
       "grid_gap": null,
       "grid_row": null,
       "grid_template_areas": null,
       "grid_template_columns": null,
       "grid_template_rows": null,
       "height": null,
       "justify_content": null,
       "justify_items": null,
       "left": null,
       "margin": null,
       "max_height": null,
       "max_width": null,
       "min_height": null,
       "min_width": null,
       "object_fit": null,
       "object_position": null,
       "order": null,
       "overflow": null,
       "overflow_x": null,
       "overflow_y": null,
       "padding": null,
       "right": null,
       "top": null,
       "visibility": null,
       "width": null
      }
     },
     "51fe952897094592945dad2184893626": {
      "model_module": "@jupyter-widgets/controls",
      "model_module_version": "1.5.0",
      "model_name": "ProgressStyleModel",
      "state": {
       "_model_module": "@jupyter-widgets/controls",
       "_model_module_version": "1.5.0",
       "_model_name": "ProgressStyleModel",
       "_view_count": null,
       "_view_module": "@jupyter-widgets/base",
       "_view_module_version": "1.2.0",
       "_view_name": "StyleView",
       "bar_color": null,
       "description_width": ""
      }
     },
     "702a75be8a054296aec81ab42cd75183": {
      "model_module": "@jupyter-widgets/controls",
      "model_module_version": "1.5.0",
      "model_name": "HTMLModel",
      "state": {
       "_dom_classes": [],
       "_model_module": "@jupyter-widgets/controls",
       "_model_module_version": "1.5.0",
       "_model_name": "HTMLModel",
       "_view_count": null,
       "_view_module": "@jupyter-widgets/controls",
       "_view_module_version": "1.5.0",
       "_view_name": "HTMLView",
       "description": "",
       "description_tooltip": null,
       "layout": "IPY_MODEL_a05c07166d3b4857b72726a640aead03",
       "placeholder": "​",
       "style": "IPY_MODEL_27f775bd7d094d8b95dfdaa2554019f8",
       "value": "100% 5/5 [00:15&lt;00:00,  3.89s/it]"
      }
     },
     "96ab6ada778948089457d439c0eb4814": {
      "model_module": "@jupyter-widgets/controls",
      "model_module_version": "1.5.0",
      "model_name": "HBoxModel",
      "state": {
       "_dom_classes": [],
       "_model_module": "@jupyter-widgets/controls",
       "_model_module_version": "1.5.0",
       "_model_name": "HBoxModel",
       "_view_count": null,
       "_view_module": "@jupyter-widgets/controls",
       "_view_module_version": "1.5.0",
       "_view_name": "HBoxView",
       "box_style": "",
       "children": [
        "IPY_MODEL_0764791808b44048826b651d7874925f",
        "IPY_MODEL_702a75be8a054296aec81ab42cd75183"
       ],
       "layout": "IPY_MODEL_309bd7041c174922b1ff4b13fd9d4062"
      }
     },
     "a05c07166d3b4857b72726a640aead03": {
      "model_module": "@jupyter-widgets/base",
      "model_module_version": "1.2.0",
      "model_name": "LayoutModel",
      "state": {
       "_model_module": "@jupyter-widgets/base",
       "_model_module_version": "1.2.0",
       "_model_name": "LayoutModel",
       "_view_count": null,
       "_view_module": "@jupyter-widgets/base",
       "_view_module_version": "1.2.0",
       "_view_name": "LayoutView",
       "align_content": null,
       "align_items": null,
       "align_self": null,
       "border": null,
       "bottom": null,
       "display": null,
       "flex": null,
       "flex_flow": null,
       "grid_area": null,
       "grid_auto_columns": null,
       "grid_auto_flow": null,
       "grid_auto_rows": null,
       "grid_column": null,
       "grid_gap": null,
       "grid_row": null,
       "grid_template_areas": null,
       "grid_template_columns": null,
       "grid_template_rows": null,
       "height": null,
       "justify_content": null,
       "justify_items": null,
       "left": null,
       "margin": null,
       "max_height": null,
       "max_width": null,
       "min_height": null,
       "min_width": null,
       "object_fit": null,
       "object_position": null,
       "order": null,
       "overflow": null,
       "overflow_x": null,
       "overflow_y": null,
       "padding": null,
       "right": null,
       "top": null,
       "visibility": null,
       "width": null
      }
     }
    },
    "version_major": 2,
    "version_minor": 0
   }
  }
 },
 "nbformat": 4,
 "nbformat_minor": 2
}