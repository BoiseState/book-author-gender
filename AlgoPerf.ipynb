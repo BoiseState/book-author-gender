{
 "cells": [
  {
   "cell_type": "markdown",
   "metadata": {
    "papermill": {
     "duration": 0.0511,
     "end_time": "2020-05-07T17:23:13.086091",
     "exception": false,
     "start_time": "2020-05-07T17:23:13.034991",
     "status": "completed"
    },
    "tags": []
   },
   "source": [
    "# Algorithm Performance"
   ]
  },
  {
   "cell_type": "markdown",
   "metadata": {
    "papermill": {
     "duration": 0.048675,
     "end_time": "2020-05-07T17:23:13.185206",
     "exception": false,
     "start_time": "2020-05-07T17:23:13.136531",
     "status": "completed"
    },
    "tags": []
   },
   "source": [
    "## Setup"
   ]
  },
  {
   "cell_type": "code",
   "execution_count": 1,
   "metadata": {
    "papermill": {
     "duration": 0.067338,
     "end_time": "2020-05-07T17:23:13.301469",
     "exception": false,
     "start_time": "2020-05-07T17:23:13.234131",
     "status": "completed"
    },
    "tags": []
   },
   "outputs": [],
   "source": [
    "from importlib import import_module\n",
    "import json\n",
    "from pathlib import Path"
   ]
  },
  {
   "cell_type": "code",
   "execution_count": 2,
   "metadata": {
    "papermill": {
     "duration": 2.060078,
     "end_time": "2020-05-07T17:23:15.410528",
     "exception": false,
     "start_time": "2020-05-07T17:23:13.350450",
     "status": "completed"
    },
    "tags": []
   },
   "outputs": [],
   "source": [
    "import pandas as pd\n",
    "import numpy as np\n",
    "import seaborn as sns\n",
    "import matplotlib.pyplot as plt\n",
    "import plotnine as p"
   ]
  },
  {
   "cell_type": "code",
   "execution_count": 3,
   "metadata": {
    "papermill": {
     "duration": 0.220341,
     "end_time": "2020-05-07T17:23:15.754860",
     "exception": false,
     "start_time": "2020-05-07T17:23:15.534519",
     "status": "completed"
    },
    "tags": []
   },
   "outputs": [],
   "source": [
    "import bookgender.datatools as dt\n",
    "from bookgender.config import data_dir\n",
    "from bookgender.nbutils import *"
   ]
  },
  {
   "cell_type": "code",
   "execution_count": 4,
   "metadata": {
    "papermill": {
     "duration": 0.069248,
     "end_time": "2020-05-07T17:23:15.873482",
     "exception": false,
     "start_time": "2020-05-07T17:23:15.804234",
     "status": "completed"
    },
    "tags": []
   },
   "outputs": [
    {
     "name": "stdout",
     "output_type": "stream",
     "text": [
      "using figure dir figures/AlgoPerf\n"
     ]
    }
   ],
   "source": [
    "init_figs('AlgoPerf')"
   ]
  },
  {
   "cell_type": "markdown",
   "metadata": {
    "papermill": {
     "duration": 0.049076,
     "end_time": "2020-05-07T17:23:15.972718",
     "exception": false,
     "start_time": "2020-05-07T17:23:15.923642",
     "status": "completed"
    },
    "tags": []
   },
   "source": [
    "## Load Performance Data\n",
    "\n",
    "We need to collect all of the accuracy output files."
   ]
  },
  {
   "cell_type": "markdown",
   "metadata": {
    "papermill": {
     "duration": 0.049798,
     "end_time": "2020-05-07T17:23:16.073693",
     "exception": false,
     "start_time": "2020-05-07T17:23:16.023895",
     "status": "completed"
    },
    "tags": []
   },
   "source": [
    "### Algorithm Eval Performance"
   ]
  },
  {
   "cell_type": "code",
   "execution_count": 5,
   "metadata": {
    "papermill": {
     "duration": 0.118191,
     "end_time": "2020-05-07T17:23:16.241678",
     "exception": false,
     "start_time": "2020-05-07T17:23:16.123487",
     "status": "completed"
    },
    "tags": []
   },
   "outputs": [
    {
     "data": {
      "text/html": [
       "<div>\n",
       "<style scoped>\n",
       "    .dataframe tbody tr th:only-of-type {\n",
       "        vertical-align: middle;\n",
       "    }\n",
       "\n",
       "    .dataframe tbody tr th {\n",
       "        vertical-align: top;\n",
       "    }\n",
       "\n",
       "    .dataframe thead th {\n",
       "        text-align: right;\n",
       "    }\n",
       "</style>\n",
       "<table border=\"1\" class=\"dataframe\">\n",
       "  <thead>\n",
       "    <tr style=\"text-align: right;\">\n",
       "      <th></th>\n",
       "      <th>MRR</th>\n",
       "      <th>HR</th>\n",
       "      <th>NDCG</th>\n",
       "      <th>DataSet</th>\n",
       "      <th>Algorithm</th>\n",
       "    </tr>\n",
       "  </thead>\n",
       "  <tbody>\n",
       "    <tr>\n",
       "      <th>0</th>\n",
       "      <td>0.000301</td>\n",
       "      <td>0.0044</td>\n",
       "      <td>0.001089</td>\n",
       "      <td>BX-E</td>\n",
       "      <td>user-user</td>\n",
       "    </tr>\n",
       "    <tr>\n",
       "      <th>1</th>\n",
       "      <td>0.000556</td>\n",
       "      <td>0.0074</td>\n",
       "      <td>0.001804</td>\n",
       "      <td>BX-E</td>\n",
       "      <td>item-item</td>\n",
       "    </tr>\n",
       "    <tr>\n",
       "      <th>2</th>\n",
       "      <td>0.003905</td>\n",
       "      <td>0.0354</td>\n",
       "      <td>0.010269</td>\n",
       "      <td>BX-E</td>\n",
       "      <td>als</td>\n",
       "    </tr>\n",
       "    <tr>\n",
       "      <th>3</th>\n",
       "      <td>0.029221</td>\n",
       "      <td>0.1568</td>\n",
       "      <td>0.056760</td>\n",
       "      <td>BX-I</td>\n",
       "      <td>user-user</td>\n",
       "    </tr>\n",
       "    <tr>\n",
       "      <th>4</th>\n",
       "      <td>0.020828</td>\n",
       "      <td>0.0876</td>\n",
       "      <td>0.035883</td>\n",
       "      <td>BX-I</td>\n",
       "      <td>item-item</td>\n",
       "    </tr>\n",
       "  </tbody>\n",
       "</table>\n",
       "</div>"
      ],
      "text/plain": [
       "        MRR      HR      NDCG DataSet  Algorithm\n",
       "0  0.000301  0.0044  0.001089    BX-E  user-user\n",
       "1  0.000556  0.0074  0.001804    BX-E  item-item\n",
       "2  0.003905  0.0354  0.010269    BX-E        als\n",
       "3  0.029221  0.1568  0.056760    BX-I  user-user\n",
       "4  0.020828  0.0876  0.035883    BX-I  item-item"
      ]
     },
     "execution_count": 5,
     "metadata": {},
     "output_type": "execute_result"
    }
   ],
   "source": [
    "perf_data = pd.read_csv('data/rec-perf.csv')\n",
    "perf_data.head()"
   ]
  },
  {
   "cell_type": "markdown",
   "metadata": {
    "papermill": {
     "duration": 0.050582,
     "end_time": "2020-05-07T17:23:16.343883",
     "exception": false,
     "start_time": "2020-05-07T17:23:16.293301",
     "status": "completed"
    },
    "tags": []
   },
   "source": [
    "We would also like to bootstrap confidence intervals - this requires per-user statistics."
   ]
  },
  {
   "cell_type": "markdown",
   "metadata": {
    "papermill": {
     "duration": 0.050892,
     "end_time": "2020-05-07T17:23:16.446690",
     "exception": false,
     "start_time": "2020-05-07T17:23:16.395798",
     "status": "completed"
    },
    "tags": []
   },
   "source": [
    "### Algorithm Tune Performance"
   ]
  },
  {
   "cell_type": "code",
   "execution_count": 6,
   "metadata": {
    "papermill": {
     "duration": 0.120038,
     "end_time": "2020-05-07T17:23:16.618174",
     "exception": false,
     "start_time": "2020-05-07T17:23:16.498136",
     "status": "completed"
    },
    "tags": []
   },
   "outputs": [
    {
     "data": {
      "text/html": [
       "<div>\n",
       "<style scoped>\n",
       "    .dataframe tbody tr th:only-of-type {\n",
       "        vertical-align: middle;\n",
       "    }\n",
       "\n",
       "    .dataframe tbody tr th {\n",
       "        vertical-align: top;\n",
       "    }\n",
       "\n",
       "    .dataframe thead th {\n",
       "        text-align: right;\n",
       "    }\n",
       "</style>\n",
       "<table border=\"1\" class=\"dataframe\">\n",
       "  <thead>\n",
       "    <tr style=\"text-align: right;\">\n",
       "      <th></th>\n",
       "      <th>params</th>\n",
       "      <th>iters</th>\n",
       "      <th>MRR</th>\n",
       "      <th>DataSet</th>\n",
       "      <th>Algorithm</th>\n",
       "    </tr>\n",
       "  </thead>\n",
       "  <tbody>\n",
       "    <tr>\n",
       "      <th>0</th>\n",
       "      <td>[67, 0.069343245462767]</td>\n",
       "      <td>20</td>\n",
       "      <td>0.000856</td>\n",
       "      <td>BX-E</td>\n",
       "      <td>user-user</td>\n",
       "    </tr>\n",
       "    <tr>\n",
       "      <th>1</th>\n",
       "      <td>[232, 0.084880046234972]</td>\n",
       "      <td>20</td>\n",
       "      <td>0.000540</td>\n",
       "      <td>BX-E</td>\n",
       "      <td>item-item</td>\n",
       "    </tr>\n",
       "    <tr>\n",
       "      <th>2</th>\n",
       "      <td>[297, 4.36979166769093, 4.927362178355647, 24....</td>\n",
       "      <td>20</td>\n",
       "      <td>0.002965</td>\n",
       "      <td>BX-E</td>\n",
       "      <td>als</td>\n",
       "    </tr>\n",
       "    <tr>\n",
       "      <th>3</th>\n",
       "      <td>[303, 0.052267596581313004]</td>\n",
       "      <td>20</td>\n",
       "      <td>0.026312</td>\n",
       "      <td>BX-I</td>\n",
       "      <td>user-user</td>\n",
       "    </tr>\n",
       "    <tr>\n",
       "      <th>4</th>\n",
       "      <td>[61, 0.03579462837616]</td>\n",
       "      <td>20</td>\n",
       "      <td>0.015321</td>\n",
       "      <td>BX-I</td>\n",
       "      <td>item-item</td>\n",
       "    </tr>\n",
       "  </tbody>\n",
       "</table>\n",
       "</div>"
      ],
      "text/plain": [
       "                                              params  iters       MRR DataSet  \\\n",
       "0                            [67, 0.069343245462767]     20  0.000856    BX-E   \n",
       "1                           [232, 0.084880046234972]     20  0.000540    BX-E   \n",
       "2  [297, 4.36979166769093, 4.927362178355647, 24....     20  0.002965    BX-E   \n",
       "3                        [303, 0.052267596581313004]     20  0.026312    BX-I   \n",
       "4                             [61, 0.03579462837616]     20  0.015321    BX-I   \n",
       "\n",
       "   Algorithm  \n",
       "0  user-user  \n",
       "1  item-item  \n",
       "2        als  \n",
       "3  user-user  \n",
       "4  item-item  "
      ]
     },
     "execution_count": 6,
     "metadata": {},
     "output_type": "execute_result"
    }
   ],
   "source": [
    "tune_data = pd.read_json('data/rec-tune.json', orient='records', lines=True)\n",
    "tune_data.head()"
   ]
  },
  {
   "cell_type": "markdown",
   "metadata": {
    "papermill": {
     "duration": 0.051818,
     "end_time": "2020-05-07T17:23:16.722959",
     "exception": false,
     "start_time": "2020-05-07T17:23:16.671141",
     "status": "completed"
    },
    "tags": []
   },
   "source": [
    "### Rerank Performance"
   ]
  },
  {
   "cell_type": "code",
   "execution_count": 7,
   "metadata": {
    "papermill": {
     "duration": 0.111648,
     "end_time": "2020-05-07T17:23:16.887428",
     "exception": false,
     "start_time": "2020-05-07T17:23:16.775780",
     "status": "completed"
    },
    "tags": []
   },
   "outputs": [
    {
     "data": {
      "text/html": [
       "<div>\n",
       "<style scoped>\n",
       "    .dataframe tbody tr th:only-of-type {\n",
       "        vertical-align: middle;\n",
       "    }\n",
       "\n",
       "    .dataframe tbody tr th {\n",
       "        vertical-align: top;\n",
       "    }\n",
       "\n",
       "    .dataframe thead th {\n",
       "        text-align: right;\n",
       "    }\n",
       "</style>\n",
       "<table border=\"1\" class=\"dataframe\">\n",
       "  <thead>\n",
       "    <tr style=\"text-align: right;\">\n",
       "      <th></th>\n",
       "      <th>Strategy</th>\n",
       "      <th>MRR</th>\n",
       "      <th>HR</th>\n",
       "      <th>NDCG</th>\n",
       "      <th>DataSet</th>\n",
       "      <th>Algorithm</th>\n",
       "    </tr>\n",
       "  </thead>\n",
       "  <tbody>\n",
       "    <tr>\n",
       "      <th>0</th>\n",
       "      <td>SingleEQ</td>\n",
       "      <td>0.000316</td>\n",
       "      <td>0.0046</td>\n",
       "      <td>0.001133</td>\n",
       "      <td>BX-E</td>\n",
       "      <td>user-user</td>\n",
       "    </tr>\n",
       "    <tr>\n",
       "      <th>1</th>\n",
       "      <td>GreedyEQ</td>\n",
       "      <td>0.000269</td>\n",
       "      <td>0.0044</td>\n",
       "      <td>0.001051</td>\n",
       "      <td>BX-E</td>\n",
       "      <td>user-user</td>\n",
       "    </tr>\n",
       "    <tr>\n",
       "      <th>2</th>\n",
       "      <td>GreedyReflect</td>\n",
       "      <td>0.000344</td>\n",
       "      <td>0.0050</td>\n",
       "      <td>0.001241</td>\n",
       "      <td>BX-E</td>\n",
       "      <td>user-user</td>\n",
       "    </tr>\n",
       "    <tr>\n",
       "      <th>3</th>\n",
       "      <td>SingleEQ</td>\n",
       "      <td>0.000359</td>\n",
       "      <td>0.0060</td>\n",
       "      <td>0.001286</td>\n",
       "      <td>BX-E</td>\n",
       "      <td>item-item</td>\n",
       "    </tr>\n",
       "    <tr>\n",
       "      <th>4</th>\n",
       "      <td>GreedyEQ</td>\n",
       "      <td>0.000447</td>\n",
       "      <td>0.0076</td>\n",
       "      <td>0.001638</td>\n",
       "      <td>BX-E</td>\n",
       "      <td>item-item</td>\n",
       "    </tr>\n",
       "  </tbody>\n",
       "</table>\n",
       "</div>"
      ],
      "text/plain": [
       "        Strategy       MRR      HR      NDCG DataSet  Algorithm\n",
       "0       SingleEQ  0.000316  0.0046  0.001133    BX-E  user-user\n",
       "1       GreedyEQ  0.000269  0.0044  0.001051    BX-E  user-user\n",
       "2  GreedyReflect  0.000344  0.0050  0.001241    BX-E  user-user\n",
       "3       SingleEQ  0.000359  0.0060  0.001286    BX-E  item-item\n",
       "4       GreedyEQ  0.000447  0.0076  0.001638    BX-E  item-item"
      ]
     },
     "execution_count": 7,
     "metadata": {},
     "output_type": "execute_result"
    }
   ],
   "source": [
    "rerank_data = pd.read_csv('data/rerank-perf.csv')\n",
    "rerank_data.head()"
   ]
  },
  {
   "cell_type": "markdown",
   "metadata": {
    "papermill": {
     "duration": 0.053265,
     "end_time": "2020-05-07T17:23:16.994240",
     "exception": false,
     "start_time": "2020-05-07T17:23:16.940975",
     "status": "completed"
    },
    "tags": []
   },
   "source": [
    "## Organize Runs\n",
    "\n",
    "We have data sets, and we have implicit/explicit configurations.  For some data sets, these are encoded in the data set; for others, in the algorithm.\n",
    "\n",
    "We need to split that out."
   ]
  },
  {
   "cell_type": "code",
   "execution_count": 8,
   "metadata": {
    "papermill": {
     "duration": 0.077362,
     "end_time": "2020-05-07T17:23:17.125826",
     "exception": false,
     "start_time": "2020-05-07T17:23:17.048464",
     "status": "completed"
    },
    "tags": []
   },
   "outputs": [],
   "source": [
    "def normalize_runs(frame):\n",
    "    frame = frame.assign(Implicit = frame['DataSet'].str.endswith('-I') | frame['Algorithm'].str.endswith('-imp'))\n",
    "    frame['Algorithm'] = frame['Algorithm'].str.replace('-imp', '')\n",
    "    frame['DataSet'] = frame['DataSet'].str.replace('-[IE]', '')\n",
    "    frame['Algorithm'] = frame['Algorithm'].str.replace('wrls', 'als').str.upper()\n",
    "    frame['Algorithm'] = frame['Algorithm'].str.replace(r'(\\w)\\w+-(\\w)\\w+', r'\\1\\2')\n",
    "    return frame"
   ]
  },
  {
   "cell_type": "code",
   "execution_count": 9,
   "metadata": {
    "papermill": {
     "duration": 0.080327,
     "end_time": "2020-05-07T17:23:17.260255",
     "exception": false,
     "start_time": "2020-05-07T17:23:17.179928",
     "status": "completed"
    },
    "tags": []
   },
   "outputs": [],
   "source": [
    "perf_data = normalize_runs(perf_data)"
   ]
  },
  {
   "cell_type": "markdown",
   "metadata": {
    "papermill": {
     "duration": 0.053182,
     "end_time": "2020-05-07T17:23:17.367057",
     "exception": false,
     "start_time": "2020-05-07T17:23:17.313875",
     "status": "completed"
    },
    "tags": []
   },
   "source": [
    "And look at that data:"
   ]
  },
  {
   "cell_type": "code",
   "execution_count": 10,
   "metadata": {
    "papermill": {
     "duration": 0.102138,
     "end_time": "2020-05-07T17:23:17.523352",
     "exception": false,
     "start_time": "2020-05-07T17:23:17.421214",
     "status": "completed"
    },
    "tags": []
   },
   "outputs": [
    {
     "data": {
      "text/html": [
       "<div>\n",
       "<style scoped>\n",
       "    .dataframe tbody tr th:only-of-type {\n",
       "        vertical-align: middle;\n",
       "    }\n",
       "\n",
       "    .dataframe tbody tr th {\n",
       "        vertical-align: top;\n",
       "    }\n",
       "\n",
       "    .dataframe thead th {\n",
       "        text-align: right;\n",
       "    }\n",
       "</style>\n",
       "<table border=\"1\" class=\"dataframe\">\n",
       "  <thead>\n",
       "    <tr style=\"text-align: right;\">\n",
       "      <th></th>\n",
       "      <th>MRR</th>\n",
       "      <th>HR</th>\n",
       "      <th>NDCG</th>\n",
       "      <th>DataSet</th>\n",
       "      <th>Algorithm</th>\n",
       "      <th>Implicit</th>\n",
       "    </tr>\n",
       "  </thead>\n",
       "  <tbody>\n",
       "    <tr>\n",
       "      <th>0</th>\n",
       "      <td>0.000301</td>\n",
       "      <td>0.0044</td>\n",
       "      <td>0.001089</td>\n",
       "      <td>BX</td>\n",
       "      <td>UU</td>\n",
       "      <td>False</td>\n",
       "    </tr>\n",
       "    <tr>\n",
       "      <th>1</th>\n",
       "      <td>0.000556</td>\n",
       "      <td>0.0074</td>\n",
       "      <td>0.001804</td>\n",
       "      <td>BX</td>\n",
       "      <td>II</td>\n",
       "      <td>False</td>\n",
       "    </tr>\n",
       "    <tr>\n",
       "      <th>2</th>\n",
       "      <td>0.003905</td>\n",
       "      <td>0.0354</td>\n",
       "      <td>0.010269</td>\n",
       "      <td>BX</td>\n",
       "      <td>ALS</td>\n",
       "      <td>False</td>\n",
       "    </tr>\n",
       "    <tr>\n",
       "      <th>3</th>\n",
       "      <td>0.029221</td>\n",
       "      <td>0.1568</td>\n",
       "      <td>0.056760</td>\n",
       "      <td>BX</td>\n",
       "      <td>UU</td>\n",
       "      <td>True</td>\n",
       "    </tr>\n",
       "    <tr>\n",
       "      <th>4</th>\n",
       "      <td>0.020828</td>\n",
       "      <td>0.0876</td>\n",
       "      <td>0.035883</td>\n",
       "      <td>BX</td>\n",
       "      <td>II</td>\n",
       "      <td>True</td>\n",
       "    </tr>\n",
       "    <tr>\n",
       "      <th>5</th>\n",
       "      <td>0.030019</td>\n",
       "      <td>0.1522</td>\n",
       "      <td>0.057322</td>\n",
       "      <td>BX</td>\n",
       "      <td>ALS</td>\n",
       "      <td>True</td>\n",
       "    </tr>\n",
       "    <tr>\n",
       "      <th>6</th>\n",
       "      <td>0.017138</td>\n",
       "      <td>0.1004</td>\n",
       "      <td>0.034448</td>\n",
       "      <td>BX</td>\n",
       "      <td>BPR</td>\n",
       "      <td>True</td>\n",
       "    </tr>\n",
       "    <tr>\n",
       "      <th>7</th>\n",
       "      <td>0.000043</td>\n",
       "      <td>0.0008</td>\n",
       "      <td>0.000183</td>\n",
       "      <td>AZ</td>\n",
       "      <td>UU</td>\n",
       "      <td>False</td>\n",
       "    </tr>\n",
       "    <tr>\n",
       "      <th>8</th>\n",
       "      <td>0.003357</td>\n",
       "      <td>0.0246</td>\n",
       "      <td>0.007375</td>\n",
       "      <td>AZ</td>\n",
       "      <td>II</td>\n",
       "      <td>False</td>\n",
       "    </tr>\n",
       "    <tr>\n",
       "      <th>9</th>\n",
       "      <td>0.000221</td>\n",
       "      <td>0.0036</td>\n",
       "      <td>0.000879</td>\n",
       "      <td>AZ</td>\n",
       "      <td>ALS</td>\n",
       "      <td>False</td>\n",
       "    </tr>\n",
       "    <tr>\n",
       "      <th>10</th>\n",
       "      <td>0.054445</td>\n",
       "      <td>0.2106</td>\n",
       "      <td>0.093025</td>\n",
       "      <td>AZ</td>\n",
       "      <td>UU</td>\n",
       "      <td>True</td>\n",
       "    </tr>\n",
       "    <tr>\n",
       "      <th>11</th>\n",
       "      <td>0.037334</td>\n",
       "      <td>0.1200</td>\n",
       "      <td>0.059690</td>\n",
       "      <td>AZ</td>\n",
       "      <td>II</td>\n",
       "      <td>True</td>\n",
       "    </tr>\n",
       "    <tr>\n",
       "      <th>12</th>\n",
       "      <td>0.031726</td>\n",
       "      <td>0.1530</td>\n",
       "      <td>0.059956</td>\n",
       "      <td>AZ</td>\n",
       "      <td>ALS</td>\n",
       "      <td>True</td>\n",
       "    </tr>\n",
       "    <tr>\n",
       "      <th>13</th>\n",
       "      <td>0.003825</td>\n",
       "      <td>0.0456</td>\n",
       "      <td>0.011680</td>\n",
       "      <td>AZ</td>\n",
       "      <td>BPR</td>\n",
       "      <td>True</td>\n",
       "    </tr>\n",
       "    <tr>\n",
       "      <th>14</th>\n",
       "      <td>0.000062</td>\n",
       "      <td>0.0016</td>\n",
       "      <td>0.000325</td>\n",
       "      <td>GR</td>\n",
       "      <td>UU</td>\n",
       "      <td>False</td>\n",
       "    </tr>\n",
       "    <tr>\n",
       "      <th>15</th>\n",
       "      <td>0.010818</td>\n",
       "      <td>0.1482</td>\n",
       "      <td>0.036822</td>\n",
       "      <td>GR</td>\n",
       "      <td>II</td>\n",
       "      <td>False</td>\n",
       "    </tr>\n",
       "    <tr>\n",
       "      <th>16</th>\n",
       "      <td>0.096567</td>\n",
       "      <td>0.3664</td>\n",
       "      <td>0.159028</td>\n",
       "      <td>GR</td>\n",
       "      <td>UU</td>\n",
       "      <td>True</td>\n",
       "    </tr>\n",
       "    <tr>\n",
       "      <th>17</th>\n",
       "      <td>0.087541</td>\n",
       "      <td>0.3474</td>\n",
       "      <td>0.147663</td>\n",
       "      <td>GR</td>\n",
       "      <td>II</td>\n",
       "      <td>True</td>\n",
       "    </tr>\n",
       "    <tr>\n",
       "      <th>18</th>\n",
       "      <td>0.095640</td>\n",
       "      <td>0.3902</td>\n",
       "      <td>0.167903</td>\n",
       "      <td>GR</td>\n",
       "      <td>ALS</td>\n",
       "      <td>True</td>\n",
       "    </tr>\n",
       "    <tr>\n",
       "      <th>19</th>\n",
       "      <td>0.044103</td>\n",
       "      <td>0.1990</td>\n",
       "      <td>0.080554</td>\n",
       "      <td>GR</td>\n",
       "      <td>BPR</td>\n",
       "      <td>True</td>\n",
       "    </tr>\n",
       "  </tbody>\n",
       "</table>\n",
       "</div>"
      ],
      "text/plain": [
       "         MRR      HR      NDCG DataSet Algorithm  Implicit\n",
       "0   0.000301  0.0044  0.001089      BX        UU     False\n",
       "1   0.000556  0.0074  0.001804      BX        II     False\n",
       "2   0.003905  0.0354  0.010269      BX       ALS     False\n",
       "3   0.029221  0.1568  0.056760      BX        UU      True\n",
       "4   0.020828  0.0876  0.035883      BX        II      True\n",
       "5   0.030019  0.1522  0.057322      BX       ALS      True\n",
       "6   0.017138  0.1004  0.034448      BX       BPR      True\n",
       "7   0.000043  0.0008  0.000183      AZ        UU     False\n",
       "8   0.003357  0.0246  0.007375      AZ        II     False\n",
       "9   0.000221  0.0036  0.000879      AZ       ALS     False\n",
       "10  0.054445  0.2106  0.093025      AZ        UU      True\n",
       "11  0.037334  0.1200  0.059690      AZ        II      True\n",
       "12  0.031726  0.1530  0.059956      AZ       ALS      True\n",
       "13  0.003825  0.0456  0.011680      AZ       BPR      True\n",
       "14  0.000062  0.0016  0.000325      GR        UU     False\n",
       "15  0.010818  0.1482  0.036822      GR        II     False\n",
       "16  0.096567  0.3664  0.159028      GR        UU      True\n",
       "17  0.087541  0.3474  0.147663      GR        II      True\n",
       "18  0.095640  0.3902  0.167903      GR       ALS      True\n",
       "19  0.044103  0.1990  0.080554      GR       BPR      True"
      ]
     },
     "execution_count": 10,
     "metadata": {},
     "output_type": "execute_result"
    }
   ],
   "source": [
    "perf_data"
   ]
  },
  {
   "cell_type": "code",
   "execution_count": 11,
   "metadata": {
    "papermill": {
     "duration": 0.129878,
     "end_time": "2020-05-07T17:23:17.708616",
     "exception": false,
     "start_time": "2020-05-07T17:23:17.578738",
     "status": "completed"
    },
    "tags": []
   },
   "outputs": [
    {
     "data": {
      "text/html": [
       "<div>\n",
       "<style scoped>\n",
       "    .dataframe tbody tr th:only-of-type {\n",
       "        vertical-align: middle;\n",
       "    }\n",
       "\n",
       "    .dataframe tbody tr th {\n",
       "        vertical-align: top;\n",
       "    }\n",
       "\n",
       "    .dataframe thead th {\n",
       "        text-align: right;\n",
       "    }\n",
       "</style>\n",
       "<table border=\"1\" class=\"dataframe\">\n",
       "  <thead>\n",
       "    <tr style=\"text-align: right;\">\n",
       "      <th></th>\n",
       "      <th>params</th>\n",
       "      <th>iters</th>\n",
       "      <th>MRR</th>\n",
       "      <th>DataSet</th>\n",
       "      <th>Algorithm</th>\n",
       "      <th>Implicit</th>\n",
       "    </tr>\n",
       "  </thead>\n",
       "  <tbody>\n",
       "    <tr>\n",
       "      <th>0</th>\n",
       "      <td>[67, 0.069343245462767]</td>\n",
       "      <td>20</td>\n",
       "      <td>0.000856</td>\n",
       "      <td>BX</td>\n",
       "      <td>UU</td>\n",
       "      <td>False</td>\n",
       "    </tr>\n",
       "    <tr>\n",
       "      <th>1</th>\n",
       "      <td>[232, 0.084880046234972]</td>\n",
       "      <td>20</td>\n",
       "      <td>0.000540</td>\n",
       "      <td>BX</td>\n",
       "      <td>II</td>\n",
       "      <td>False</td>\n",
       "    </tr>\n",
       "    <tr>\n",
       "      <th>2</th>\n",
       "      <td>[297, 4.36979166769093, 4.927362178355647, 24....</td>\n",
       "      <td>20</td>\n",
       "      <td>0.002965</td>\n",
       "      <td>BX</td>\n",
       "      <td>ALS</td>\n",
       "      <td>False</td>\n",
       "    </tr>\n",
       "    <tr>\n",
       "      <th>3</th>\n",
       "      <td>[303, 0.052267596581313004]</td>\n",
       "      <td>20</td>\n",
       "      <td>0.026312</td>\n",
       "      <td>BX</td>\n",
       "      <td>UU</td>\n",
       "      <td>True</td>\n",
       "    </tr>\n",
       "    <tr>\n",
       "      <th>4</th>\n",
       "      <td>[61, 0.03579462837616]</td>\n",
       "      <td>20</td>\n",
       "      <td>0.015321</td>\n",
       "      <td>BX</td>\n",
       "      <td>II</td>\n",
       "      <td>True</td>\n",
       "    </tr>\n",
       "    <tr>\n",
       "      <th>5</th>\n",
       "      <td>[499, 0.151451427679924, 0.06685861681803601, ...</td>\n",
       "      <td>20</td>\n",
       "      <td>0.026321</td>\n",
       "      <td>BX</td>\n",
       "      <td>ALS</td>\n",
       "      <td>True</td>\n",
       "    </tr>\n",
       "    <tr>\n",
       "      <th>6</th>\n",
       "      <td>[249, 0.011980259542217, 0.09697898418796101]</td>\n",
       "      <td>20</td>\n",
       "      <td>0.014692</td>\n",
       "      <td>BX</td>\n",
       "      <td>BPR</td>\n",
       "      <td>True</td>\n",
       "    </tr>\n",
       "    <tr>\n",
       "      <th>7</th>\n",
       "      <td>[68, 0.070821028781701]</td>\n",
       "      <td>20</td>\n",
       "      <td>0.000306</td>\n",
       "      <td>AZ</td>\n",
       "      <td>UU</td>\n",
       "      <td>False</td>\n",
       "    </tr>\n",
       "    <tr>\n",
       "      <th>8</th>\n",
       "      <td>[5, 0.1]</td>\n",
       "      <td>20</td>\n",
       "      <td>0.002919</td>\n",
       "      <td>AZ</td>\n",
       "      <td>II</td>\n",
       "      <td>False</td>\n",
       "    </tr>\n",
       "    <tr>\n",
       "      <th>9</th>\n",
       "      <td>[299, 0.027209462059128, 0.09593544705902601, ...</td>\n",
       "      <td>100</td>\n",
       "      <td>0.000533</td>\n",
       "      <td>AZ</td>\n",
       "      <td>ALS</td>\n",
       "      <td>False</td>\n",
       "    </tr>\n",
       "    <tr>\n",
       "      <th>10</th>\n",
       "      <td>[7, 0.00087767799404]</td>\n",
       "      <td>20</td>\n",
       "      <td>0.058791</td>\n",
       "      <td>AZ</td>\n",
       "      <td>UU</td>\n",
       "      <td>True</td>\n",
       "    </tr>\n",
       "    <tr>\n",
       "      <th>11</th>\n",
       "      <td>[9, 2.9102495117394603e-05]</td>\n",
       "      <td>20</td>\n",
       "      <td>0.034288</td>\n",
       "      <td>AZ</td>\n",
       "      <td>II</td>\n",
       "      <td>True</td>\n",
       "    </tr>\n",
       "    <tr>\n",
       "      <th>12</th>\n",
       "      <td>[300, 1e-06, 1e-06, 50.0]</td>\n",
       "      <td>20</td>\n",
       "      <td>0.031447</td>\n",
       "      <td>AZ</td>\n",
       "      <td>ALS</td>\n",
       "      <td>True</td>\n",
       "    </tr>\n",
       "    <tr>\n",
       "      <th>13</th>\n",
       "      <td>[6, 0.00428451465746, 0.00346828460276]</td>\n",
       "      <td>20</td>\n",
       "      <td>0.005907</td>\n",
       "      <td>AZ</td>\n",
       "      <td>BPR</td>\n",
       "      <td>True</td>\n",
       "    </tr>\n",
       "    <tr>\n",
       "      <th>14</th>\n",
       "      <td>[7, 0.09988270936531501]</td>\n",
       "      <td>20</td>\n",
       "      <td>0.000073</td>\n",
       "      <td>GR</td>\n",
       "      <td>UU</td>\n",
       "      <td>False</td>\n",
       "    </tr>\n",
       "    <tr>\n",
       "      <th>15</th>\n",
       "      <td>[6, 0.099969938296841]</td>\n",
       "      <td>20</td>\n",
       "      <td>0.013365</td>\n",
       "      <td>GR</td>\n",
       "      <td>II</td>\n",
       "      <td>False</td>\n",
       "    </tr>\n",
       "    <tr>\n",
       "      <th>16</th>\n",
       "      <td>[32, 0.08878273357970401]</td>\n",
       "      <td>20</td>\n",
       "      <td>0.099882</td>\n",
       "      <td>GR</td>\n",
       "      <td>UU</td>\n",
       "      <td>True</td>\n",
       "    </tr>\n",
       "    <tr>\n",
       "      <th>17</th>\n",
       "      <td>[6, 0.097933753442365]</td>\n",
       "      <td>16</td>\n",
       "      <td>0.095913</td>\n",
       "      <td>GR</td>\n",
       "      <td>II</td>\n",
       "      <td>True</td>\n",
       "    </tr>\n",
       "    <tr>\n",
       "      <th>18</th>\n",
       "      <td>[487, 4.098540323995087, 0.36994560658956105, ...</td>\n",
       "      <td>20</td>\n",
       "      <td>0.102185</td>\n",
       "      <td>GR</td>\n",
       "      <td>ALS</td>\n",
       "      <td>True</td>\n",
       "    </tr>\n",
       "    <tr>\n",
       "      <th>19</th>\n",
       "      <td>[250, 0.0, 0.028168135291681003]</td>\n",
       "      <td>20</td>\n",
       "      <td>0.042900</td>\n",
       "      <td>GR</td>\n",
       "      <td>BPR</td>\n",
       "      <td>True</td>\n",
       "    </tr>\n",
       "  </tbody>\n",
       "</table>\n",
       "</div>"
      ],
      "text/plain": [
       "                                               params  iters       MRR  \\\n",
       "0                             [67, 0.069343245462767]     20  0.000856   \n",
       "1                            [232, 0.084880046234972]     20  0.000540   \n",
       "2   [297, 4.36979166769093, 4.927362178355647, 24....     20  0.002965   \n",
       "3                         [303, 0.052267596581313004]     20  0.026312   \n",
       "4                              [61, 0.03579462837616]     20  0.015321   \n",
       "5   [499, 0.151451427679924, 0.06685861681803601, ...     20  0.026321   \n",
       "6       [249, 0.011980259542217, 0.09697898418796101]     20  0.014692   \n",
       "7                             [68, 0.070821028781701]     20  0.000306   \n",
       "8                                            [5, 0.1]     20  0.002919   \n",
       "9   [299, 0.027209462059128, 0.09593544705902601, ...    100  0.000533   \n",
       "10                              [7, 0.00087767799404]     20  0.058791   \n",
       "11                        [9, 2.9102495117394603e-05]     20  0.034288   \n",
       "12                          [300, 1e-06, 1e-06, 50.0]     20  0.031447   \n",
       "13            [6, 0.00428451465746, 0.00346828460276]     20  0.005907   \n",
       "14                           [7, 0.09988270936531501]     20  0.000073   \n",
       "15                             [6, 0.099969938296841]     20  0.013365   \n",
       "16                          [32, 0.08878273357970401]     20  0.099882   \n",
       "17                             [6, 0.097933753442365]     16  0.095913   \n",
       "18  [487, 4.098540323995087, 0.36994560658956105, ...     20  0.102185   \n",
       "19                   [250, 0.0, 0.028168135291681003]     20  0.042900   \n",
       "\n",
       "   DataSet Algorithm  Implicit  \n",
       "0       BX        UU     False  \n",
       "1       BX        II     False  \n",
       "2       BX       ALS     False  \n",
       "3       BX        UU      True  \n",
       "4       BX        II      True  \n",
       "5       BX       ALS      True  \n",
       "6       BX       BPR      True  \n",
       "7       AZ        UU     False  \n",
       "8       AZ        II     False  \n",
       "9       AZ       ALS     False  \n",
       "10      AZ        UU      True  \n",
       "11      AZ        II      True  \n",
       "12      AZ       ALS      True  \n",
       "13      AZ       BPR      True  \n",
       "14      GR        UU     False  \n",
       "15      GR        II     False  \n",
       "16      GR        UU      True  \n",
       "17      GR        II      True  \n",
       "18      GR       ALS      True  \n",
       "19      GR       BPR      True  "
      ]
     },
     "execution_count": 11,
     "metadata": {},
     "output_type": "execute_result"
    }
   ],
   "source": [
    "tune_data = normalize_runs(tune_data)\n",
    "tune_data"
   ]
  },
  {
   "cell_type": "markdown",
   "metadata": {
    "papermill": {
     "duration": 0.056519,
     "end_time": "2020-05-07T17:23:17.822798",
     "exception": false,
     "start_time": "2020-05-07T17:23:17.766279",
     "status": "completed"
    },
    "tags": []
   },
   "source": [
    "## Accuracy Plots"
   ]
  },
  {
   "cell_type": "markdown",
   "metadata": {
    "papermill": {
     "duration": 0.056201,
     "end_time": "2020-05-07T17:23:17.936711",
     "exception": false,
     "start_time": "2020-05-07T17:23:17.880510",
     "status": "completed"
    },
    "tags": []
   },
   "source": [
    "Plot the MRR for each data set!"
   ]
  },
  {
   "cell_type": "code",
   "execution_count": 12,
   "metadata": {
    "papermill": {
     "duration": 0.12679,
     "end_time": "2020-05-07T17:23:18.125947",
     "exception": false,
     "start_time": "2020-05-07T17:23:17.999157",
     "status": "completed"
    },
    "tags": []
   },
   "outputs": [
    {
     "data": {
      "text/html": [
       "<div>\n",
       "<style scoped>\n",
       "    .dataframe tbody tr th:only-of-type {\n",
       "        vertical-align: middle;\n",
       "    }\n",
       "\n",
       "    .dataframe tbody tr th {\n",
       "        vertical-align: top;\n",
       "    }\n",
       "\n",
       "    .dataframe thead th {\n",
       "        text-align: right;\n",
       "    }\n",
       "</style>\n",
       "<table border=\"1\" class=\"dataframe\">\n",
       "  <thead>\n",
       "    <tr style=\"text-align: right;\">\n",
       "      <th></th>\n",
       "      <th>DataSet</th>\n",
       "      <th>Algorithm</th>\n",
       "      <th>Implicit</th>\n",
       "      <th>MRR</th>\n",
       "      <th>Stage</th>\n",
       "      <th>Mode</th>\n",
       "    </tr>\n",
       "  </thead>\n",
       "  <tbody>\n",
       "    <tr>\n",
       "      <th>0</th>\n",
       "      <td>BX</td>\n",
       "      <td>UU</td>\n",
       "      <td>False</td>\n",
       "      <td>0.000856</td>\n",
       "      <td>Tune</td>\n",
       "      <td>Explicit</td>\n",
       "    </tr>\n",
       "    <tr>\n",
       "      <th>1</th>\n",
       "      <td>BX</td>\n",
       "      <td>II</td>\n",
       "      <td>False</td>\n",
       "      <td>0.000540</td>\n",
       "      <td>Tune</td>\n",
       "      <td>Explicit</td>\n",
       "    </tr>\n",
       "    <tr>\n",
       "      <th>2</th>\n",
       "      <td>BX</td>\n",
       "      <td>ALS</td>\n",
       "      <td>False</td>\n",
       "      <td>0.002965</td>\n",
       "      <td>Tune</td>\n",
       "      <td>Explicit</td>\n",
       "    </tr>\n",
       "    <tr>\n",
       "      <th>3</th>\n",
       "      <td>BX</td>\n",
       "      <td>UU</td>\n",
       "      <td>True</td>\n",
       "      <td>0.026312</td>\n",
       "      <td>Tune</td>\n",
       "      <td>Implicit</td>\n",
       "    </tr>\n",
       "    <tr>\n",
       "      <th>4</th>\n",
       "      <td>BX</td>\n",
       "      <td>II</td>\n",
       "      <td>True</td>\n",
       "      <td>0.015321</td>\n",
       "      <td>Tune</td>\n",
       "      <td>Implicit</td>\n",
       "    </tr>\n",
       "  </tbody>\n",
       "</table>\n",
       "</div>"
      ],
      "text/plain": [
       "  DataSet Algorithm  Implicit       MRR Stage      Mode\n",
       "0      BX        UU     False  0.000856  Tune  Explicit\n",
       "1      BX        II     False  0.000540  Tune  Explicit\n",
       "2      BX       ALS     False  0.002965  Tune  Explicit\n",
       "3      BX        UU      True  0.026312  Tune  Implicit\n",
       "4      BX        II      True  0.015321  Tune  Implicit"
      ]
     },
     "execution_count": 12,
     "metadata": {},
     "output_type": "execute_result"
    }
   ],
   "source": [
    "merged_mrr = pd.concat([\n",
    "    tune_data[['DataSet', 'Algorithm', 'Implicit', 'MRR']].assign(Stage='Tune'),\n",
    "    perf_data[['DataSet', 'Algorithm', 'Implicit', 'MRR']].assign(Stage='Eval')\n",
    "], ignore_index=True)\n",
    "merged_mrr['Mode'] = 'Explicit'\n",
    "merged_mrr.loc[merged_mrr['Implicit'], 'Mode'] = 'Implicit'\n",
    "merged_mrr.head()"
   ]
  },
  {
   "cell_type": "code",
   "execution_count": 13,
   "metadata": {
    "papermill": {
     "duration": 2.383296,
     "end_time": "2020-05-07T17:23:20.568158",
     "exception": false,
     "start_time": "2020-05-07T17:23:18.184862",
     "status": "completed"
    },
    "tags": []
   },
   "outputs": [
    {
     "data": {
      "text/plain": [
       "<seaborn.axisgrid.FacetGrid at 0x7f48143b2390>"
      ]
     },
     "execution_count": 13,
     "metadata": {},
     "output_type": "execute_result"
    },
    {
     "data": {
      "image/png": "[encoded data removed]",
      "text/plain": [
       "<Figure size 773.659x316.8 with 6 Axes>"
      ]
     },
     "metadata": {
      "needs_background": "light"
     },
     "output_type": "display_data"
    }
   ],
   "source": [
    "sns.catplot(x='Algorithm', y='MRR', row='Mode', col='DataSet', hue='Stage', data=merged_mrr, kind='bar',\n",
    "            sharey=False, margin_titles=True, aspect=1.5, height=2.2)"
   ]
  },
  {
   "cell_type": "code",
   "execution_count": 14,
   "metadata": {
    "papermill": {
     "duration": 3.584488,
     "end_time": "2020-05-07T17:23:24.215263",
     "exception": false,
     "start_time": "2020-05-07T17:23:20.630775",
     "status": "completed"
    },
    "tags": []
   },
   "outputs": [
    {
     "name": "stderr",
     "output_type": "stream",
     "text": [
      "/home/MICHAELEKSTRAND/anaconda3/envs/bookfair/lib/python3.7/site-packages/plotnine/ggplot.py:729: PlotnineWarning: Saving 7 x 4 in image.\n",
      "  from_inches(height, units), units), PlotnineWarning)\n",
      "/home/MICHAELEKSTRAND/anaconda3/envs/bookfair/lib/python3.7/site-packages/plotnine/ggplot.py:730: PlotnineWarning: Filename: figures/AlgoPerf/rec-perf.pdf\n",
      "  warn('Filename: {}'.format(filename), PlotnineWarning)\n"
     ]
    },
    {
     "data": {
      "image/png": "[encoded data removed]",
      "text/plain": [
       "<Figure size 640x480 with 6 Axes>"
      ]
     },
     "metadata": {
      "needs_background": "light"
     },
     "output_type": "display_data"
    },
    {
     "data": {
      "text/plain": [
       "<ggplot: (8746721886361)>"
      ]
     },
     "execution_count": 14,
     "metadata": {},
     "output_type": "execute_result"
    }
   ],
   "source": [
    "make_plot(merged_mrr, p.aes(x='Algorithm', y='MRR', fill='Stage'),\n",
    "          p.geom_bar(stat='identity', position='dodge'),\n",
    "          p.facet_grid('Mode ~ DataSet', scales='free_y'),\n",
    "          p.scale_fill_brewer('qual', 'Dark2'),\n",
    "          file='rec-perf.pdf', width=7, height=4, legend_position='top', legend_title=p.element_blank())"
   ]
  },
  {
   "cell_type": "code",
   "execution_count": 15,
   "metadata": {
    "papermill": {
     "duration": 0.132664,
     "end_time": "2020-05-07T17:23:24.414660",
     "exception": false,
     "start_time": "2020-05-07T17:23:24.281996",
     "status": "completed"
    },
    "tags": []
   },
   "outputs": [
    {
     "name": "stdout",
     "output_type": "stream",
     "text": [
      "\\begin{tabular}{llrrrr}\n",
      "\\toprule\n",
      "   & {} & \\multicolumn{4}{l}{MRR} \\\\\n",
      "   & Algorithm &       ALS &       BPR &        II &        UU \\\\\n",
      "DataSet & Implicit &           &           &           &           \\\\\n",
      "\\midrule\n",
      "AZ & False &  0.000221 &       NaN &  0.003357 &  0.000043 \\\\\n",
      "   & True  &  0.031726 &  0.003825 &  0.037334 &  0.054445 \\\\\n",
      "BX & False &  0.003905 &       NaN &  0.000556 &  0.000301 \\\\\n",
      "   & True  &  0.030019 &  0.017138 &  0.020828 &  0.029221 \\\\\n",
      "GR & False &       NaN &       NaN &  0.010818 &  0.000062 \\\\\n",
      "   & True  &  0.095640 &  0.044103 &  0.087541 &  0.096567 \\\\\n",
      "\\bottomrule\n",
      "\\end{tabular}\n",
      "\n"
     ]
    }
   ],
   "source": [
    "print(perf_data[['DataSet', 'Algorithm', 'Implicit', 'MRR']].set_index(['DataSet', 'Implicit', 'Algorithm']).unstack().to_latex())"
   ]
  },
  {
   "cell_type": "markdown",
   "metadata": {
    "papermill": {
     "duration": 0.066541,
     "end_time": "2020-05-07T17:23:24.547926",
     "exception": false,
     "start_time": "2020-05-07T17:23:24.481385",
     "status": "completed"
    },
    "tags": []
   },
   "source": [
    "And hit rate:"
   ]
  },
  {
   "cell_type": "code",
   "execution_count": 16,
   "metadata": {
    "papermill": {
     "duration": 1.932548,
     "end_time": "2020-05-07T17:23:26.547058",
     "exception": false,
     "start_time": "2020-05-07T17:23:24.614510",
     "status": "completed"
    },
    "tags": []
   },
   "outputs": [
    {
     "data": {
      "text/plain": [
       "<seaborn.axisgrid.FacetGrid at 0x7f4813fa4610>"
      ]
     },
     "execution_count": 16,
     "metadata": {},
     "output_type": "execute_result"
    },
    {
     "data": {
      "image/png": "[encoded data removed]",
      "text/plain": [
       "<Figure size 1080x720 with 6 Axes>"
      ]
     },
     "metadata": {
      "needs_background": "light"
     },
     "output_type": "display_data"
    }
   ],
   "source": [
    "sns.catplot(x='Algorithm', y='HR', row='Implicit', col='DataSet', data=perf_data, kind='bar', \n",
    "            sharey=False, margin_titles=True)"
   ]
  },
  {
   "cell_type": "markdown",
   "metadata": {
    "papermill": {
     "duration": 0.070332,
     "end_time": "2020-05-07T17:23:26.689056",
     "exception": false,
     "start_time": "2020-05-07T17:23:26.618724",
     "status": "completed"
    },
    "tags": []
   },
   "source": [
    "## Rerank Loss"
   ]
  },
  {
   "cell_type": "code",
   "execution_count": 17,
   "metadata": {
    "papermill": {
     "duration": 0.123979,
     "end_time": "2020-05-07T17:23:26.883838",
     "exception": false,
     "start_time": "2020-05-07T17:23:26.759859",
     "status": "completed"
    },
    "tags": []
   },
   "outputs": [
    {
     "data": {
      "text/html": [
       "<div>\n",
       "<style scoped>\n",
       "    .dataframe tbody tr th:only-of-type {\n",
       "        vertical-align: middle;\n",
       "    }\n",
       "\n",
       "    .dataframe tbody tr th {\n",
       "        vertical-align: top;\n",
       "    }\n",
       "\n",
       "    .dataframe thead th {\n",
       "        text-align: right;\n",
       "    }\n",
       "</style>\n",
       "<table border=\"1\" class=\"dataframe\">\n",
       "  <thead>\n",
       "    <tr style=\"text-align: right;\">\n",
       "      <th></th>\n",
       "      <th>Strategy</th>\n",
       "      <th>MRR</th>\n",
       "      <th>HR</th>\n",
       "      <th>NDCG</th>\n",
       "      <th>DataSet</th>\n",
       "      <th>Algorithm</th>\n",
       "      <th>Implicit</th>\n",
       "    </tr>\n",
       "  </thead>\n",
       "  <tbody>\n",
       "    <tr>\n",
       "      <th>0</th>\n",
       "      <td>SingleEQ</td>\n",
       "      <td>0.000316</td>\n",
       "      <td>0.0046</td>\n",
       "      <td>0.001133</td>\n",
       "      <td>BX</td>\n",
       "      <td>UU</td>\n",
       "      <td>False</td>\n",
       "    </tr>\n",
       "    <tr>\n",
       "      <th>1</th>\n",
       "      <td>GreedyEQ</td>\n",
       "      <td>0.000269</td>\n",
       "      <td>0.0044</td>\n",
       "      <td>0.001051</td>\n",
       "      <td>BX</td>\n",
       "      <td>UU</td>\n",
       "      <td>False</td>\n",
       "    </tr>\n",
       "    <tr>\n",
       "      <th>2</th>\n",
       "      <td>GreedyReflect</td>\n",
       "      <td>0.000344</td>\n",
       "      <td>0.0050</td>\n",
       "      <td>0.001241</td>\n",
       "      <td>BX</td>\n",
       "      <td>UU</td>\n",
       "      <td>False</td>\n",
       "    </tr>\n",
       "    <tr>\n",
       "      <th>3</th>\n",
       "      <td>SingleEQ</td>\n",
       "      <td>0.000359</td>\n",
       "      <td>0.0060</td>\n",
       "      <td>0.001286</td>\n",
       "      <td>BX</td>\n",
       "      <td>II</td>\n",
       "      <td>False</td>\n",
       "    </tr>\n",
       "    <tr>\n",
       "      <th>4</th>\n",
       "      <td>GreedyEQ</td>\n",
       "      <td>0.000447</td>\n",
       "      <td>0.0076</td>\n",
       "      <td>0.001638</td>\n",
       "      <td>BX</td>\n",
       "      <td>II</td>\n",
       "      <td>False</td>\n",
       "    </tr>\n",
       "  </tbody>\n",
       "</table>\n",
       "</div>"
      ],
      "text/plain": [
       "        Strategy       MRR      HR      NDCG DataSet Algorithm  Implicit\n",
       "0       SingleEQ  0.000316  0.0046  0.001133      BX        UU     False\n",
       "1       GreedyEQ  0.000269  0.0044  0.001051      BX        UU     False\n",
       "2  GreedyReflect  0.000344  0.0050  0.001241      BX        UU     False\n",
       "3       SingleEQ  0.000359  0.0060  0.001286      BX        II     False\n",
       "4       GreedyEQ  0.000447  0.0076  0.001638      BX        II     False"
      ]
     },
     "execution_count": 17,
     "metadata": {},
     "output_type": "execute_result"
    }
   ],
   "source": [
    "rerank_data = normalize_runs(rerank_data)\n",
    "rerank_data.head()"
   ]
  },
  {
   "cell_type": "code",
   "execution_count": 18,
   "metadata": {
    "papermill": {
     "duration": 0.147417,
     "end_time": "2020-05-07T17:23:27.103161",
     "exception": false,
     "start_time": "2020-05-07T17:23:26.955744",
     "status": "completed"
    },
    "tags": []
   },
   "outputs": [
    {
     "data": {
      "text/html": [
       "<div>\n",
       "<style scoped>\n",
       "    .dataframe tbody tr th:only-of-type {\n",
       "        vertical-align: middle;\n",
       "    }\n",
       "\n",
       "    .dataframe tbody tr th {\n",
       "        vertical-align: top;\n",
       "    }\n",
       "\n",
       "    .dataframe thead th {\n",
       "        text-align: right;\n",
       "    }\n",
       "</style>\n",
       "<table border=\"1\" class=\"dataframe\">\n",
       "  <thead>\n",
       "    <tr style=\"text-align: right;\">\n",
       "      <th></th>\n",
       "      <th>DataSet</th>\n",
       "      <th>Algorithm</th>\n",
       "      <th>Implicit</th>\n",
       "      <th>MRR</th>\n",
       "      <th>HR</th>\n",
       "      <th>Strategy</th>\n",
       "      <th>Mode</th>\n",
       "    </tr>\n",
       "  </thead>\n",
       "  <tbody>\n",
       "    <tr>\n",
       "      <th>0</th>\n",
       "      <td>BX</td>\n",
       "      <td>UU</td>\n",
       "      <td>False</td>\n",
       "      <td>0.000301</td>\n",
       "      <td>0.0044</td>\n",
       "      <td>Raw</td>\n",
       "      <td>Explicit</td>\n",
       "    </tr>\n",
       "    <tr>\n",
       "      <th>1</th>\n",
       "      <td>BX</td>\n",
       "      <td>II</td>\n",
       "      <td>False</td>\n",
       "      <td>0.000556</td>\n",
       "      <td>0.0074</td>\n",
       "      <td>Raw</td>\n",
       "      <td>Explicit</td>\n",
       "    </tr>\n",
       "    <tr>\n",
       "      <th>2</th>\n",
       "      <td>BX</td>\n",
       "      <td>ALS</td>\n",
       "      <td>False</td>\n",
       "      <td>0.003905</td>\n",
       "      <td>0.0354</td>\n",
       "      <td>Raw</td>\n",
       "      <td>Explicit</td>\n",
       "    </tr>\n",
       "    <tr>\n",
       "      <th>3</th>\n",
       "      <td>BX</td>\n",
       "      <td>UU</td>\n",
       "      <td>True</td>\n",
       "      <td>0.029221</td>\n",
       "      <td>0.1568</td>\n",
       "      <td>Raw</td>\n",
       "      <td>Implicit</td>\n",
       "    </tr>\n",
       "    <tr>\n",
       "      <th>4</th>\n",
       "      <td>BX</td>\n",
       "      <td>II</td>\n",
       "      <td>True</td>\n",
       "      <td>0.020828</td>\n",
       "      <td>0.0876</td>\n",
       "      <td>Raw</td>\n",
       "      <td>Implicit</td>\n",
       "    </tr>\n",
       "  </tbody>\n",
       "</table>\n",
       "</div>"
      ],
      "text/plain": [
       "  DataSet Algorithm  Implicit       MRR      HR Strategy      Mode\n",
       "0      BX        UU     False  0.000301  0.0044      Raw  Explicit\n",
       "1      BX        II     False  0.000556  0.0074      Raw  Explicit\n",
       "2      BX       ALS     False  0.003905  0.0354      Raw  Explicit\n",
       "3      BX        UU      True  0.029221  0.1568      Raw  Implicit\n",
       "4      BX        II      True  0.020828  0.0876      Raw  Implicit"
      ]
     },
     "execution_count": 18,
     "metadata": {},
     "output_type": "execute_result"
    }
   ],
   "source": [
    "rr_mrr = pd.concat([\n",
    "    perf_data[['DataSet', 'Algorithm', 'Implicit', 'MRR', 'HR']].assign(Strategy='Raw'),\n",
    "    rerank_data[['DataSet', 'Algorithm', 'Implicit', 'MRR', 'HR', 'Strategy']]\n",
    "], ignore_index=True)\n",
    "rr_mrr.head()\n",
    "rr_mrr['Mode'] = 'Explicit'\n",
    "rr_mrr.loc[rr_mrr['Implicit'], 'Mode'] = 'Implicit'\n",
    "rr_mrr['Strategy'] = rr_mrr['Strategy'].astype('category').cat.reorder_categories(['Raw', 'SingleEQ', 'GreedyEQ', 'GreedyReflect'])\n",
    "rr_mrr.head()"
   ]
  },
  {
   "cell_type": "code",
   "execution_count": 19,
   "metadata": {
    "papermill": {
     "duration": 2.872667,
     "end_time": "2020-05-07T17:23:30.050115",
     "exception": false,
     "start_time": "2020-05-07T17:23:27.177448",
     "status": "completed"
    },
    "scrolled": true,
    "tags": []
   },
   "outputs": [
    {
     "data": {
      "text/plain": [
       "<seaborn.axisgrid.FacetGrid at 0x7f480f452310>"
      ]
     },
     "execution_count": 19,
     "metadata": {},
     "output_type": "execute_result"
    },
    {
     "data": {
      "image/png": "[encoded data removed]",
      "text/plain": [
       "<Figure size 690.575x259.2 with 6 Axes>"
      ]
     },
     "metadata": {
      "needs_background": "light"
     },
     "output_type": "display_data"
    }
   ],
   "source": [
    "sns.catplot(x='Algorithm', y='MRR', row='Mode', col='DataSet', hue='Strategy', data=rr_mrr, kind='bar',\n",
    "            sharey=False, margin_titles=True, aspect=1.5, height=1.8)\n",
    "# plt.savefig(fig_dir / 'rerank-perf.pdf')"
   ]
  },
  {
   "cell_type": "code",
   "execution_count": 20,
   "metadata": {
    "papermill": {
     "duration": 3.747158,
     "end_time": "2020-05-07T17:23:33.875007",
     "exception": false,
     "start_time": "2020-05-07T17:23:30.127849",
     "status": "completed"
    },
    "tags": []
   },
   "outputs": [
    {
     "name": "stderr",
     "output_type": "stream",
     "text": [
      "/home/MICHAELEKSTRAND/anaconda3/envs/bookfair/lib/python3.7/site-packages/plotnine/ggplot.py:729: PlotnineWarning: Saving 7 x 4 in image.\n",
      "  from_inches(height, units), units), PlotnineWarning)\n",
      "/home/MICHAELEKSTRAND/anaconda3/envs/bookfair/lib/python3.7/site-packages/plotnine/ggplot.py:730: PlotnineWarning: Filename: figures/AlgoPerf/rerank-perf.pdf\n",
      "  warn('Filename: {}'.format(filename), PlotnineWarning)\n"
     ]
    },
    {
     "data": {
      "image/png": "[encoded data removed]",
      "text/plain": [
       "<Figure size 640x480 with 6 Axes>"
      ]
     },
     "metadata": {
      "needs_background": "light"
     },
     "output_type": "display_data"
    },
    {
     "data": {
      "text/plain": [
       "<ggplot: (8746716406401)>"
      ]
     },
     "execution_count": 20,
     "metadata": {},
     "output_type": "execute_result"
    }
   ],
   "source": [
    "make_plot(rr_mrr, p.aes(x='Algorithm', y='MRR', fill='Strategy'),\n",
    "          p.geom_bar(stat='identity', position='dodge'),\n",
    "          p.facet_grid('Mode ~ DataSet', scales='free_y'),\n",
    "          p.scale_fill_brewer('qual', 'Dark2'),\n",
    "          file='rerank-perf.pdf', width=7, height=4, legend_position='top', legend_title=p.element_blank())"
   ]
  },
  {
   "cell_type": "code",
   "execution_count": 21,
   "metadata": {
    "papermill": {
     "duration": 0.14971,
     "end_time": "2020-05-07T17:23:34.104223",
     "exception": false,
     "start_time": "2020-05-07T17:23:33.954513",
     "status": "completed"
    },
    "tags": []
   },
   "outputs": [],
   "source": [
    "penalty = (perf_data.set_index(['DataSet', 'Implicit', 'Algorithm']).MRR - \\\n",
    "   rerank_data.set_index(['DataSet', 'Implicit', 'Algorithm', 'Strategy']).MRR) / perf_data.set_index(['DataSet', 'Implicit', 'Algorithm']).MRR"
   ]
  },
  {
   "cell_type": "code",
   "execution_count": 22,
   "metadata": {
    "papermill": {
     "duration": 0.105604,
     "end_time": "2020-05-07T17:23:34.289225",
     "exception": false,
     "start_time": "2020-05-07T17:23:34.183621",
     "status": "completed"
    },
    "tags": []
   },
   "outputs": [
    {
     "name": "stdout",
     "output_type": "stream",
     "text": [
      "\\begin{tabular}{lllrrr}\n",
      "\\toprule\n",
      "   &       & Strategy &  GreedyEQ &  GreedyReflect &  SingleEQ \\\\\n",
      "DataSet & Implicit & Algorithm &           &                &           \\\\\n",
      "\\midrule\n",
      "AZ & False & ALS &     3.23\\% &         -0.57\\% &    -5.60\\% \\\\\n",
      "   &       & II &     3.65\\% &         -0.01\\% &     3.72\\% \\\\\n",
      "   &       & UU &   -10.23\\% &          0.85\\% &   -10.23\\% \\\\\n",
      "   & True  & ALS &     8.11\\% &          2.63\\% &    13.09\\% \\\\\n",
      "   &       & BPR &     6.18\\% &         -0.98\\% &    10.32\\% \\\\\n",
      "   &       & II &     5.08\\% &          1.34\\% &     7.60\\% \\\\\n",
      "   &       & UU &     4.65\\% &          1.08\\% &     8.69\\% \\\\\n",
      "BX & False & ALS &     0.82\\% &         -2.24\\% &     1.72\\% \\\\\n",
      "   &       & II &    19.48\\% &        -10.85\\% &    35.42\\% \\\\\n",
      "   &       & UU &    10.70\\% &        -14.50\\% &    -5.12\\% \\\\\n",
      "   & True  & ALS &     6.89\\% &          3.59\\% &    15.99\\% \\\\\n",
      "   &       & BPR &     8.09\\% &          3.08\\% &    16.76\\% \\\\\n",
      "   &       & II &     5.56\\% &          2.46\\% &    12.03\\% \\\\\n",
      "   &       & UU &     4.24\\% &          1.48\\% &     9.66\\% \\\\\n",
      "GR & False & II &     7.40\\% &         -0.50\\% &    10.13\\% \\\\\n",
      "   &       & UU &    25.01\\% &         17.91\\% &    33.56\\% \\\\\n",
      "   & True  & ALS &     4.75\\% &          3.08\\% &    11.36\\% \\\\\n",
      "   &       & BPR &     7.08\\% &          4.21\\% &    13.52\\% \\\\\n",
      "   &       & II &     3.23\\% &          1.42\\% &     6.65\\% \\\\\n",
      "   &       & UU &     3.77\\% &          2.17\\% &     7.58\\% \\\\\n",
      "\\bottomrule\n",
      "\\end{tabular}\n",
      "\n"
     ]
    }
   ],
   "source": [
    "print(penalty.unstack().to_latex(float_format=lambda f: '{:.2f}%'.format(f*100)))"
   ]
  },
  {
   "cell_type": "code",
   "execution_count": null,
   "metadata": {
    "papermill": {
     "duration": 0.050159,
     "end_time": "2020-05-07T17:23:34.385794",
     "exception": false,
     "start_time": "2020-05-07T17:23:34.335635",
     "status": "completed"
    },
    "tags": []
   },
   "outputs": [],
   "source": []
  }
 ],
 "metadata": {
  "kernelspec": {
   "display_name": "Python 3",
   "language": "python",
   "name": "python3"
  },
  "language_info": {
   "codemirror_mode": {
    "name": "ipython",
    "version": 3
   },
   "file_extension": ".py",
   "mimetype": "text/x-python",
   "name": "python",
   "nbconvert_exporter": "python",
   "pygments_lexer": "ipython3",
   "version": "3.7.6"
  },
  "papermill": {
   "duration": 23.165471,
   "end_time": "2020-05-07T17:23:35.180362",
   "environment_variables": {},
   "exception": null,
   "input_path": "AlgoPerf.ipynb",
   "output_path": "AlgoPerf.temp.ipynb",
   "parameters": {},
   "start_time": "2020-05-07T17:23:12.014891",
   "version": "1.0.1"
  }
 },
 "nbformat": 4,
 "nbformat_minor": 4
}