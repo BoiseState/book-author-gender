{
 "cells": [
  {
   "cell_type": "markdown",
   "metadata": {
    "papermill": {
     "duration": 0.028999,
     "end_time": "2020-09-17T22:26:04.188184",
     "exception": false,
     "start_time": "2020-09-17T22:26:04.159185",
     "status": "completed"
    },
    "tags": []
   },
   "source": [
    "# Data Set Summary Info\n",
    "\n",
    "This notebook provides summary information and descriptive statistics for our data sets."
   ]
  },
  {
   "cell_type": "markdown",
   "metadata": {
    "papermill": {
     "duration": 0.030022,
     "end_time": "2020-09-17T22:26:04.249214",
     "exception": false,
     "start_time": "2020-09-17T22:26:04.219192",
     "status": "completed"
    },
    "tags": []
   },
   "source": [
    "## Setup"
   ]
  },
  {
   "cell_type": "code",
   "execution_count": 1,
   "metadata": {
    "execution": {
     "iopub.execute_input": "2020-09-17T22:26:04.314215Z",
     "iopub.status.busy": "2020-09-17T22:26:04.313213Z",
     "iopub.status.idle": "2020-09-17T22:26:04.316215Z",
     "shell.execute_reply": "2020-09-17T22:26:04.316215Z"
    },
    "papermill": {
     "duration": 0.038002,
     "end_time": "2020-09-17T22:26:04.316215",
     "exception": false,
     "start_time": "2020-09-17T22:26:04.278213",
     "status": "completed"
    },
    "tags": []
   },
   "outputs": [],
   "source": [
    "import sys\n",
    "import re"
   ]
  },
  {
   "cell_type": "code",
   "execution_count": 2,
   "metadata": {
    "execution": {
     "iopub.execute_input": "2020-09-17T22:26:04.374213Z",
     "iopub.status.busy": "2020-09-17T22:26:04.374213Z",
     "iopub.status.idle": "2020-09-17T22:26:04.378212Z",
     "shell.execute_reply": "2020-09-17T22:26:04.378212Z"
    },
    "papermill": {
     "duration": 0.033997,
     "end_time": "2020-09-17T22:26:04.379211",
     "exception": false,
     "start_time": "2020-09-17T22:26:04.345214",
     "status": "completed"
    },
    "tags": []
   },
   "outputs": [],
   "source": [
    "from pathlib import Path"
   ]
  },
  {
   "cell_type": "code",
   "execution_count": 3,
   "metadata": {
    "execution": {
     "iopub.execute_input": "2020-09-17T22:26:04.432211Z",
     "iopub.status.busy": "2020-09-17T22:26:04.431210Z",
     "iopub.status.idle": "2020-09-17T22:26:06.150182Z",
     "shell.execute_reply": "2020-09-17T22:26:06.151181Z"
    },
    "papermill": {
     "duration": 1.746968,
     "end_time": "2020-09-17T22:26:06.151181",
     "exception": false,
     "start_time": "2020-09-17T22:26:04.404213",
     "status": "completed"
    },
    "tags": []
   },
   "outputs": [],
   "source": [
    "import itertools as it\n",
    "import pandas as pd\n",
    "import numpy as np\n",
    "import seaborn as sns\n",
    "import matplotlib.pyplot as plt\n",
    "from tqdm.auto import tqdm\n",
    "import plotnine as p"
   ]
  },
  {
   "cell_type": "code",
   "execution_count": 4,
   "metadata": {
    "execution": {
     "iopub.execute_input": "2020-09-17T22:26:06.204180Z",
     "iopub.status.busy": "2020-09-17T22:26:06.203195Z",
     "iopub.status.idle": "2020-09-17T22:26:06.401177Z",
     "shell.execute_reply": "2020-09-17T22:26:06.400176Z"
    },
    "papermill": {
     "duration": 0.224987,
     "end_time": "2020-09-17T22:26:06.401177",
     "exception": false,
     "start_time": "2020-09-17T22:26:06.176190",
     "status": "completed"
    },
    "tags": []
   },
   "outputs": [],
   "source": [
    "import bookgender.datatools as dt\n",
    "from bookgender.nbutils import *"
   ]
  },
  {
   "cell_type": "code",
   "execution_count": 5,
   "metadata": {
    "execution": {
     "iopub.execute_input": "2020-09-17T22:26:06.457175Z",
     "iopub.status.busy": "2020-09-17T22:26:06.457175Z",
     "iopub.status.idle": "2020-09-17T22:26:06.462176Z",
     "shell.execute_reply": "2020-09-17T22:26:06.462176Z"
    },
    "papermill": {
     "duration": 0.033991,
     "end_time": "2020-09-17T22:26:06.463176",
     "exception": false,
     "start_time": "2020-09-17T22:26:06.429185",
     "status": "completed"
    },
    "tags": []
   },
   "outputs": [],
   "source": [
    "def eprint(*args):\n",
    "    print(*args, file=sys.stderr)"
   ]
  },
  {
   "cell_type": "code",
   "execution_count": 6,
   "metadata": {
    "execution": {
     "iopub.execute_input": "2020-09-17T22:26:06.521177Z",
     "iopub.status.busy": "2020-09-17T22:26:06.520176Z",
     "iopub.status.idle": "2020-09-17T22:26:06.527176Z",
     "shell.execute_reply": "2020-09-17T22:26:06.527176Z"
    },
    "papermill": {
     "duration": 0.036999,
     "end_time": "2020-09-17T22:26:06.527176",
     "exception": false,
     "start_time": "2020-09-17T22:26:06.490177",
     "status": "completed"
    },
    "tags": []
   },
   "outputs": [
    {
     "name": "stdout",
     "output_type": "stream",
     "text": [
      "using figure dir figures\\DataSummary\n"
     ]
    }
   ],
   "source": [
    "fig_dir = init_figs('DataSummary')"
   ]
  },
  {
   "cell_type": "code",
   "execution_count": 7,
   "metadata": {
    "execution": {
     "iopub.execute_input": "2020-09-17T22:26:06.585175Z",
     "iopub.status.busy": "2020-09-17T22:26:06.584175Z",
     "iopub.status.idle": "2020-09-17T22:26:06.589175Z",
     "shell.execute_reply": "2020-09-17T22:26:06.589175Z"
    },
    "papermill": {
     "duration": 0.035984,
     "end_time": "2020-09-17T22:26:06.589175",
     "exception": false,
     "start_time": "2020-09-17T22:26:06.553191",
     "status": "completed"
    },
    "tags": []
   },
   "outputs": [],
   "source": [
    "def lbl_pct(fs):\n",
    "    return ['{:.0f}%'.format(f*100) for f in fs]"
   ]
  },
  {
   "cell_type": "markdown",
   "metadata": {
    "papermill": {
     "duration": 0.029016,
     "end_time": "2020-09-17T22:26:06.645191",
     "exception": false,
     "start_time": "2020-09-17T22:26:06.616175",
     "status": "completed"
    },
    "tags": []
   },
   "source": [
    "Function to make plots:"
   ]
  },
  {
   "cell_type": "markdown",
   "metadata": {
    "papermill": {
     "duration": 0.025999,
     "end_time": "2020-09-17T22:26:06.700173",
     "exception": false,
     "start_time": "2020-09-17T22:26:06.674174",
     "status": "completed"
    },
    "tags": []
   },
   "source": [
    "## Load Data Files"
   ]
  },
  {
   "cell_type": "markdown",
   "metadata": {
    "papermill": {
     "duration": 0.025999,
     "end_time": "2020-09-17T22:26:06.753172",
     "exception": false,
     "start_time": "2020-09-17T22:26:06.727173",
     "status": "completed"
    },
    "tags": []
   },
   "source": [
    "Load book author gender info:"
   ]
  },
  {
   "cell_type": "code",
   "execution_count": 8,
   "metadata": {
    "execution": {
     "iopub.execute_input": "2020-09-17T22:26:06.807203Z",
     "iopub.status.busy": "2020-09-17T22:26:06.807203Z",
     "iopub.status.idle": "2020-09-17T22:26:06.811170Z",
     "shell.execute_reply": "2020-09-17T22:26:06.811170Z"
    },
    "papermill": {
     "duration": 0.031986,
     "end_time": "2020-09-17T22:26:06.811170",
     "exception": false,
     "start_time": "2020-09-17T22:26:06.779184",
     "status": "completed"
    },
    "tags": []
   },
   "outputs": [],
   "source": [
    "datasets =  sorted(list(dt.datasets.keys()))"
   ]
  },
  {
   "cell_type": "code",
   "execution_count": 9,
   "metadata": {
    "execution": {
     "iopub.execute_input": "2020-09-17T22:26:06.869201Z",
     "iopub.status.busy": "2020-09-17T22:26:06.869201Z",
     "iopub.status.idle": "2020-09-17T22:26:08.264145Z",
     "shell.execute_reply": "2020-09-17T22:26:08.263146Z"
    },
    "papermill": {
     "duration": 1.423974,
     "end_time": "2020-09-17T22:26:08.264145",
     "exception": false,
     "start_time": "2020-09-17T22:26:06.840171",
     "status": "completed"
    },
    "tags": []
   },
   "outputs": [
    {
     "name": "stdout",
     "output_type": "stream",
     "text": [
      "<class 'pandas.core.frame.DataFrame'>\n",
      "RangeIndex: 12234574 entries, 0 to 12234573\n",
      "Data columns (total 2 columns):\n",
      " #   Column  Dtype   \n",
      "---  ------  -----   \n",
      " 0   item    int64   \n",
      " 1   gender  category\n",
      "dtypes: category(1), int64(1)\n",
      "memory usage: 105.0 MB\n"
     ]
    }
   ],
   "source": [
    "book_gender = pd.read_parquet('data/author-gender.parquet')\n",
    "book_gender['gender'] = book_gender['gender'].astype('category')\n",
    "book_gender.info()"
   ]
  },
  {
   "cell_type": "code",
   "execution_count": 10,
   "metadata": {
    "execution": {
     "iopub.execute_input": "2020-09-17T22:26:08.323143Z",
     "iopub.status.busy": "2020-09-17T22:26:08.323143Z",
     "iopub.status.idle": "2020-09-17T22:26:10.755101Z",
     "shell.execute_reply": "2020-09-17T22:26:10.755101Z"
    },
    "papermill": {
     "duration": 2.462941,
     "end_time": "2020-09-17T22:26:10.755101",
     "exception": false,
     "start_time": "2020-09-17T22:26:08.292160",
     "status": "completed"
    },
    "tags": []
   },
   "outputs": [
    {
     "name": "stdout",
     "output_type": "stream",
     "text": [
      "<class 'pandas.core.frame.DataFrame'>\n",
      "RangeIndex: 12234574 entries, 0 to 12234573\n",
      "Data columns (total 2 columns):\n",
      " #   Column  Dtype   \n",
      "---  ------  -----   \n",
      " 0   item    int64   \n",
      " 1   gender  category\n",
      "dtypes: category(1), int64(1)\n",
      "memory usage: 105.0 MB\n"
     ]
    }
   ],
   "source": [
    "book_gender = pd.read_csv('data/author-gender.csv.gz', dtype={'gender': 'category'})\n",
    "book_gender.info()"
   ]
  },
  {
   "cell_type": "markdown",
   "metadata": {
    "papermill": {
     "duration": 0.026033,
     "end_time": "2020-09-17T22:26:10.810134",
     "exception": false,
     "start_time": "2020-09-17T22:26:10.784101",
     "status": "completed"
    },
    "tags": []
   },
   "source": [
    "Book gender will be more useful if we index it, and it's basically now a series."
   ]
  },
  {
   "cell_type": "code",
   "execution_count": 11,
   "metadata": {
    "execution": {
     "iopub.execute_input": "2020-09-17T22:26:10.870115Z",
     "iopub.status.busy": "2020-09-17T22:26:10.869117Z",
     "iopub.status.idle": "2020-09-17T22:26:10.925097Z",
     "shell.execute_reply": "2020-09-17T22:26:10.925097Z"
    },
    "papermill": {
     "duration": 0.085985,
     "end_time": "2020-09-17T22:26:10.925097",
     "exception": false,
     "start_time": "2020-09-17T22:26:10.839112",
     "status": "completed"
    },
    "tags": []
   },
   "outputs": [
    {
     "data": {
      "text/plain": [
       "item\n",
       "0                     male\n",
       "1           no-viaf-author\n",
       "2                     male\n",
       "3            no-loc-author\n",
       "4                     male\n",
       "                 ...      \n",
       "12234569     no-loc-author\n",
       "12234570     no-loc-author\n",
       "12234571     no-loc-author\n",
       "12234572     no-loc-author\n",
       "12234573     no-loc-author\n",
       "Name: gender, Length: 12234574, dtype: category\n",
       "Categories (6, object): ['ambiguous', 'female', 'male', 'no-loc-author', 'no-viaf-author', 'unknown']"
      ]
     },
     "execution_count": 11,
     "metadata": {},
     "output_type": "execute_result"
    }
   ],
   "source": [
    "book_gender = book_gender.set_index('item')['gender']\n",
    "book_gender"
   ]
  },
  {
   "cell_type": "markdown",
   "metadata": {
    "papermill": {
     "duration": 0.033998,
     "end_time": "2020-09-17T22:26:10.989097",
     "exception": false,
     "start_time": "2020-09-17T22:26:10.955099",
     "status": "completed"
    },
    "tags": []
   },
   "source": [
    "Load the Library of Congress book list:"
   ]
  },
  {
   "cell_type": "code",
   "execution_count": 12,
   "metadata": {
    "execution": {
     "iopub.execute_input": "2020-09-17T22:26:11.051095Z",
     "iopub.status.busy": "2020-09-17T22:26:11.050097Z",
     "iopub.status.idle": "2020-09-17T22:26:11.738118Z",
     "shell.execute_reply": "2020-09-17T22:26:11.737085Z"
    },
    "papermill": {
     "duration": 0.722021,
     "end_time": "2020-09-17T22:26:11.738118",
     "exception": false,
     "start_time": "2020-09-17T22:26:11.016097",
     "status": "completed"
    },
    "tags": []
   },
   "outputs": [
    {
     "name": "stdout",
     "output_type": "stream",
     "text": [
      "<class 'pandas.core.frame.DataFrame'>\n",
      "RangeIndex: 5267327 entries, 0 to 5267326\n",
      "Data columns (total 1 columns):\n",
      " #   Column  Dtype\n",
      "---  ------  -----\n",
      " 0   item    int64\n",
      "dtypes: int64(1)\n",
      "memory usage: 40.2 MB\n"
     ]
    }
   ],
   "source": [
    "loc_books = pd.read_csv('data/loc-books.csv.gz')\n",
    "loc_books.info()"
   ]
  },
  {
   "cell_type": "markdown",
   "metadata": {
    "papermill": {
     "duration": 0.028,
     "end_time": "2020-09-17T22:26:11.792113",
     "exception": false,
     "start_time": "2020-09-17T22:26:11.764113",
     "status": "completed"
    },
    "tags": []
   },
   "source": [
    "Load rating data sets:"
   ]
  },
  {
   "cell_type": "code",
   "execution_count": 13,
   "metadata": {
    "execution": {
     "iopub.execute_input": "2020-09-17T22:26:11.853082Z",
     "iopub.status.busy": "2020-09-17T22:26:11.853082Z",
     "iopub.status.idle": "2020-09-17T22:26:17.064030Z",
     "shell.execute_reply": "2020-09-17T22:26:17.064030Z"
    },
    "papermill": {
     "duration": 5.243948,
     "end_time": "2020-09-17T22:26:17.065030",
     "exception": false,
     "start_time": "2020-09-17T22:26:11.821082",
     "status": "completed"
    },
    "tags": []
   },
   "outputs": [
    {
     "name": "stderr",
     "output_type": "stream",
     "text": [
      "loading ratings for AZ\n"
     ]
    },
    {
     "name": "stderr",
     "output_type": "stream",
     "text": [
      "loading ratings for BX-E\n",
      "loading ratings for BX-I\n",
      "loading ratings for GR-E\n"
     ]
    },
    {
     "name": "stderr",
     "output_type": "stream",
     "text": [
      "loading ratings for GR-I\n"
     ]
    }
   ],
   "source": [
    "ratings = {}\n",
    "for ds in datasets:\n",
    "    eprint('loading ratings for', ds)\n",
    "    ratings[ds] = pd.read_parquet(f'data/{ds}/ratings.parquet')"
   ]
  },
  {
   "cell_type": "markdown",
   "metadata": {
    "papermill": {
     "duration": 0.032014,
     "end_time": "2020-09-17T22:26:17.133048",
     "exception": false,
     "start_time": "2020-09-17T22:26:17.101034",
     "status": "completed"
    },
    "tags": []
   },
   "source": [
    "### Fill and Expand Gender\n",
    "\n",
    "For later computations, we want to upgrade the book-gender frame so it has the following properties:\n",
    "\n",
    "* All available books have a gender record\n",
    "* Both full status and simplified unlink status are available for each book\n",
    "\n",
    "This will simplify combining other records with the book gender data later.\n",
    "\n",
    "Let's start by making a huge array of all available book IDs:"
   ]
  },
  {
   "cell_type": "code",
   "execution_count": 14,
   "metadata": {
    "execution": {
     "iopub.execute_input": "2020-09-17T22:26:17.194026Z",
     "iopub.status.busy": "2020-09-17T22:26:17.194026Z",
     "iopub.status.idle": "2020-09-17T22:26:23.903911Z",
     "shell.execute_reply": "2020-09-17T22:26:23.904909Z"
    },
    "papermill": {
     "duration": 6.741883,
     "end_time": "2020-09-17T22:26:23.904909",
     "exception": false,
     "start_time": "2020-09-17T22:26:17.163026",
     "status": "completed"
    },
    "tags": []
   },
   "outputs": [
    {
     "data": {
      "text/plain": [
       "(7387475,)"
      ]
     },
     "execution_count": 14,
     "metadata": {},
     "output_type": "execute_result"
    }
   ],
   "source": [
    "item_lists = [loc_books['item'].unique()]\n",
    "for rdf in ratings.values():\n",
    "    item_lists.append(rdf['item'].unique())\n",
    "all_item_ids = np.unique(np.concatenate(item_lists))\n",
    "all_item_ids.shape"
   ]
  },
  {
   "cell_type": "markdown",
   "metadata": {
    "papermill": {
     "duration": 0.033008,
     "end_time": "2020-09-17T22:26:23.969916",
     "exception": false,
     "start_time": "2020-09-17T22:26:23.936908",
     "status": "completed"
    },
    "tags": []
   },
   "source": [
    "How does that compare to the book gender frame?"
   ]
  },
  {
   "cell_type": "code",
   "execution_count": 15,
   "metadata": {
    "execution": {
     "iopub.execute_input": "2020-09-17T22:26:24.035907Z",
     "iopub.status.busy": "2020-09-17T22:26:24.034907Z",
     "iopub.status.idle": "2020-09-17T22:26:24.073906Z",
     "shell.execute_reply": "2020-09-17T22:26:24.073906Z"
    },
    "papermill": {
     "duration": 0.073998,
     "end_time": "2020-09-17T22:26:24.074906",
     "exception": false,
     "start_time": "2020-09-17T22:26:24.000908",
     "status": "completed"
    },
    "tags": []
   },
   "outputs": [
    {
     "data": {
      "text/plain": [
       "12234574"
      ]
     },
     "execution_count": 15,
     "metadata": {},
     "output_type": "execute_result"
    }
   ],
   "source": [
    "book_gender.count()"
   ]
  },
  {
   "cell_type": "markdown",
   "metadata": {
    "papermill": {
     "duration": 0.031999,
     "end_time": "2020-09-17T22:26:24.138904",
     "exception": false,
     "start_time": "2020-09-17T22:26:24.106905",
     "status": "completed"
    },
    "tags": []
   },
   "source": [
    "Add a category to `gender` for no-matching-book, and put an order on the categories (we're also going to make `book_gender` refer to the series, to simplify code):"
   ]
  },
  {
   "cell_type": "code",
   "execution_count": 16,
   "metadata": {
    "execution": {
     "iopub.execute_input": "2020-09-17T22:26:24.201917Z",
     "iopub.status.busy": "2020-09-17T22:26:24.201917Z",
     "iopub.status.idle": "2020-09-17T22:26:24.244903Z",
     "shell.execute_reply": "2020-09-17T22:26:24.244903Z"
    },
    "papermill": {
     "duration": 0.075999,
     "end_time": "2020-09-17T22:26:24.244903",
     "exception": false,
     "start_time": "2020-09-17T22:26:24.168904",
     "status": "completed"
    },
    "tags": []
   },
   "outputs": [],
   "source": [
    "book_gender.cat.add_categories(['no-book'], inplace=True)\n",
    "book_gender.cat.reorder_categories(['no-book', 'no-loc-author', 'no-viaf-author',\n",
    "                                    'unknown', 'ambiguous', 'female', 'male'],\n",
    "                                   inplace=True)"
   ]
  },
  {
   "cell_type": "markdown",
   "metadata": {
    "papermill": {
     "duration": 0.030002,
     "end_time": "2020-09-17T22:26:24.304904",
     "exception": false,
     "start_time": "2020-09-17T22:26:24.274902",
     "status": "completed"
    },
    "tags": []
   },
   "source": [
    "Reindex to match our list of book IDs, and fill in the missing value:"
   ]
  },
  {
   "cell_type": "code",
   "execution_count": 17,
   "metadata": {
    "execution": {
     "iopub.execute_input": "2020-09-17T22:26:24.363940Z",
     "iopub.status.busy": "2020-09-17T22:26:24.363940Z",
     "iopub.status.idle": "2020-09-17T22:26:25.074901Z",
     "shell.execute_reply": "2020-09-17T22:26:25.075889Z"
    },
    "papermill": {
     "duration": 0.741986,
     "end_time": "2020-09-17T22:26:25.075889",
     "exception": false,
     "start_time": "2020-09-17T22:26:24.333903",
     "status": "completed"
    },
    "tags": []
   },
   "outputs": [
    {
     "data": {
      "text/plain": [
       "item\n",
       "0                      male\n",
       "1            no-viaf-author\n",
       "2                      male\n",
       "3             no-loc-author\n",
       "4                      male\n",
       "                  ...      \n",
       "924482338           no-book\n",
       "924482339           no-book\n",
       "924482340           no-book\n",
       "924482341           no-book\n",
       "924482342           no-book\n",
       "Name: gender, Length: 7387475, dtype: category\n",
       "Categories (7, object): ['no-book', 'no-loc-author', 'no-viaf-author', 'unknown', 'ambiguous', 'female', 'male']"
      ]
     },
     "execution_count": 17,
     "metadata": {},
     "output_type": "execute_result"
    }
   ],
   "source": [
    "book_gender = book_gender.reindex(all_item_ids, fill_value='no-book')\n",
    "book_gender"
   ]
  },
  {
   "cell_type": "markdown",
   "metadata": {
    "papermill": {
     "duration": 0.030994,
     "end_time": "2020-09-17T22:26:25.139889",
     "exception": false,
     "start_time": "2020-09-17T22:26:25.108895",
     "status": "completed"
    },
    "tags": []
   },
   "source": [
    "Now the index should be both monotonic and unique - this should simplify later use. Double-check:"
   ]
  },
  {
   "cell_type": "code",
   "execution_count": 18,
   "metadata": {
    "execution": {
     "iopub.execute_input": "2020-09-17T22:26:25.198886Z",
     "iopub.status.busy": "2020-09-17T22:26:25.197886Z",
     "iopub.status.idle": "2020-09-17T22:26:25.814875Z",
     "shell.execute_reply": "2020-09-17T22:26:25.815876Z"
    },
    "papermill": {
     "duration": 0.647957,
     "end_time": "2020-09-17T22:26:25.815876",
     "exception": false,
     "start_time": "2020-09-17T22:26:25.167919",
     "status": "completed"
    },
    "tags": []
   },
   "outputs": [
    {
     "data": {
      "text/plain": [
       "True"
      ]
     },
     "execution_count": 18,
     "metadata": {},
     "output_type": "execute_result"
    }
   ],
   "source": [
    "book_gender.index.is_unique"
   ]
  },
  {
   "cell_type": "code",
   "execution_count": 19,
   "metadata": {
    "execution": {
     "iopub.execute_input": "2020-09-17T22:26:25.886874Z",
     "iopub.status.busy": "2020-09-17T22:26:25.886874Z",
     "iopub.status.idle": "2020-09-17T22:26:25.910884Z",
     "shell.execute_reply": "2020-09-17T22:26:25.910884Z"
    },
    "papermill": {
     "duration": 0.06101,
     "end_time": "2020-09-17T22:26:25.910884",
     "exception": false,
     "start_time": "2020-09-17T22:26:25.849874",
     "status": "completed"
    },
    "tags": []
   },
   "outputs": [
    {
     "data": {
      "text/plain": [
       "True"
      ]
     },
     "execution_count": 19,
     "metadata": {},
     "output_type": "execute_result"
    }
   ],
   "source": [
    "book_gender.index.is_monotonic"
   ]
  },
  {
   "cell_type": "markdown",
   "metadata": {
    "papermill": {
     "duration": 0.029991,
     "end_time": "2020-09-17T22:26:25.973880",
     "exception": false,
     "start_time": "2020-09-17T22:26:25.943889",
     "status": "completed"
    },
    "tags": []
   },
   "source": [
    "Let's quick look at a histogram:"
   ]
  },
  {
   "cell_type": "code",
   "execution_count": 20,
   "metadata": {
    "execution": {
     "iopub.execute_input": "2020-09-17T22:26:26.042872Z",
     "iopub.status.busy": "2020-09-17T22:26:26.039871Z",
     "iopub.status.idle": "2020-09-17T22:26:26.324871Z",
     "shell.execute_reply": "2020-09-17T22:26:26.325867Z"
    },
    "papermill": {
     "duration": 0.320995,
     "end_time": "2020-09-17T22:26:26.325867",
     "exception": false,
     "start_time": "2020-09-17T22:26:26.004872",
     "status": "completed"
    },
    "tags": []
   },
   "outputs": [
    {
     "data": {
      "text/plain": [
       "<AxesSubplot:xlabel='gender', ylabel='count'>"
      ]
     },
     "execution_count": 20,
     "metadata": {},
     "output_type": "execute_result"
    },
    {
     "data": {
      "image/png": "[encoded data removed]",
      "text/plain": [
       "<Figure size 432x288 with 1 Axes>"
      ]
     },
     "metadata": {
      "needs_background": "light"
     },
     "output_type": "display_data"
    }
   ],
   "source": [
    "sns.countplot(book_gender)"
   ]
  },
  {
   "cell_type": "markdown",
   "metadata": {
    "papermill": {
     "duration": 0.032997,
     "end_time": "2020-09-17T22:26:26.392865",
     "exception": false,
     "start_time": "2020-09-17T22:26:26.359868",
     "status": "completed"
    },
    "tags": []
   },
   "source": [
    "Ok. Last thing we need to do here is create a simplified column that collapsed our various types of link failure into 'unlinked'.  We'll put this in the `gender` column, and make the existing series `gender_status`:"
   ]
  },
  {
   "cell_type": "code",
   "execution_count": 21,
   "metadata": {
    "execution": {
     "iopub.execute_input": "2020-09-17T22:26:26.465865Z",
     "iopub.status.busy": "2020-09-17T22:26:26.465865Z",
     "iopub.status.idle": "2020-09-17T22:26:26.542890Z",
     "shell.execute_reply": "2020-09-17T22:26:26.542890Z"
    },
    "papermill": {
     "duration": 0.119025,
     "end_time": "2020-09-17T22:26:26.542890",
     "exception": false,
     "start_time": "2020-09-17T22:26:26.423865",
     "status": "completed"
    },
    "tags": []
   },
   "outputs": [
    {
     "data": {
      "text/html": [
       "<div>\n",
       "<style scoped>\n",
       "    .dataframe tbody tr th:only-of-type {\n",
       "        vertical-align: middle;\n",
       "    }\n",
       "\n",
       "    .dataframe tbody tr th {\n",
       "        vertical-align: top;\n",
       "    }\n",
       "\n",
       "    .dataframe thead th {\n",
       "        text-align: right;\n",
       "    }\n",
       "</style>\n",
       "<table border=\"1\" class=\"dataframe\">\n",
       "  <thead>\n",
       "    <tr style=\"text-align: right;\">\n",
       "      <th></th>\n",
       "      <th>gender_status</th>\n",
       "      <th>gender</th>\n",
       "    </tr>\n",
       "    <tr>\n",
       "      <th>item</th>\n",
       "      <th></th>\n",
       "      <th></th>\n",
       "    </tr>\n",
       "  </thead>\n",
       "  <tbody>\n",
       "    <tr>\n",
       "      <th>0</th>\n",
       "      <td>male</td>\n",
       "      <td>male</td>\n",
       "    </tr>\n",
       "    <tr>\n",
       "      <th>1</th>\n",
       "      <td>no-viaf-author</td>\n",
       "      <td>unlinked</td>\n",
       "    </tr>\n",
       "    <tr>\n",
       "      <th>2</th>\n",
       "      <td>male</td>\n",
       "      <td>male</td>\n",
       "    </tr>\n",
       "    <tr>\n",
       "      <th>3</th>\n",
       "      <td>no-loc-author</td>\n",
       "      <td>unlinked</td>\n",
       "    </tr>\n",
       "    <tr>\n",
       "      <th>4</th>\n",
       "      <td>male</td>\n",
       "      <td>male</td>\n",
       "    </tr>\n",
       "    <tr>\n",
       "      <th>...</th>\n",
       "      <td>...</td>\n",
       "      <td>...</td>\n",
       "    </tr>\n",
       "    <tr>\n",
       "      <th>924482338</th>\n",
       "      <td>no-book</td>\n",
       "      <td>unlinked</td>\n",
       "    </tr>\n",
       "    <tr>\n",
       "      <th>924482339</th>\n",
       "      <td>no-book</td>\n",
       "      <td>unlinked</td>\n",
       "    </tr>\n",
       "    <tr>\n",
       "      <th>924482340</th>\n",
       "      <td>no-book</td>\n",
       "      <td>unlinked</td>\n",
       "    </tr>\n",
       "    <tr>\n",
       "      <th>924482341</th>\n",
       "      <td>no-book</td>\n",
       "      <td>unlinked</td>\n",
       "    </tr>\n",
       "    <tr>\n",
       "      <th>924482342</th>\n",
       "      <td>no-book</td>\n",
       "      <td>unlinked</td>\n",
       "    </tr>\n",
       "  </tbody>\n",
       "</table>\n",
       "<p>7387475 rows × 2 columns</p>\n",
       "</div>"
      ],
      "text/plain": [
       "            gender_status    gender\n",
       "item                               \n",
       "0                    male      male\n",
       "1          no-viaf-author  unlinked\n",
       "2                    male      male\n",
       "3           no-loc-author  unlinked\n",
       "4                    male      male\n",
       "...                   ...       ...\n",
       "924482338         no-book  unlinked\n",
       "924482339         no-book  unlinked\n",
       "924482340         no-book  unlinked\n",
       "924482341         no-book  unlinked\n",
       "924482342         no-book  unlinked\n",
       "\n",
       "[7387475 rows x 2 columns]"
      ]
     },
     "execution_count": 21,
     "metadata": {},
     "output_type": "execute_result"
    }
   ],
   "source": [
    "book_gender = pd.DataFrame({\n",
    "    'gender_status': book_gender,\n",
    "    'gender': book_gender.cat.rename_categories({\n",
    "        'no-book': 'unlinked'\n",
    "    }).cat.remove_categories([\n",
    "        'no-loc-author', 'no-viaf-author'\n",
    "    ]).fillna('unlinked')\n",
    "})\n",
    "book_gender"
   ]
  },
  {
   "cell_type": "markdown",
   "metadata": {
    "papermill": {
     "duration": 0.035014,
     "end_time": "2020-09-17T22:26:26.616876",
     "exception": false,
     "start_time": "2020-09-17T22:26:26.581862",
     "status": "completed"
    },
    "tags": []
   },
   "source": [
    "And see that histogram:"
   ]
  },
  {
   "cell_type": "code",
   "execution_count": 22,
   "metadata": {
    "execution": {
     "iopub.execute_input": "2020-09-17T22:26:26.702865Z",
     "iopub.status.busy": "2020-09-17T22:26:26.701865Z",
     "iopub.status.idle": "2020-09-17T22:26:26.938868Z",
     "shell.execute_reply": "2020-09-17T22:26:26.937874Z"
    },
    "papermill": {
     "duration": 0.279005,
     "end_time": "2020-09-17T22:26:26.938868",
     "exception": false,
     "start_time": "2020-09-17T22:26:26.659863",
     "status": "completed"
    },
    "tags": []
   },
   "outputs": [
    {
     "data": {
      "text/plain": [
       "<AxesSubplot:xlabel='gender', ylabel='count'>"
      ]
     },
     "execution_count": 22,
     "metadata": {},
     "output_type": "execute_result"
    },
    {
     "data": {
      "image/png": "[encoded data removed]",
      "text/plain": [
       "<Figure size 432x288 with 1 Axes>"
      ]
     },
     "metadata": {
      "needs_background": "light"
     },
     "output_type": "display_data"
    }
   ],
   "source": [
    "sns.countplot(book_gender['gender'])"
   ]
  },
  {
   "cell_type": "markdown",
   "metadata": {
    "papermill": {
     "duration": 0.041017,
     "end_time": "2020-09-17T22:26:27.030872",
     "exception": false,
     "start_time": "2020-09-17T22:26:26.989855",
     "status": "completed"
    },
    "tags": []
   },
   "source": [
    "## Basic Data Set Stats"
   ]
  },
  {
   "cell_type": "code",
   "execution_count": 23,
   "metadata": {
    "execution": {
     "iopub.execute_input": "2020-09-17T22:26:27.097853Z",
     "iopub.status.busy": "2020-09-17T22:26:27.097853Z",
     "iopub.status.idle": "2020-09-17T22:26:37.041681Z",
     "shell.execute_reply": "2020-09-17T22:26:37.041681Z"
    },
    "papermill": {
     "duration": 9.978807,
     "end_time": "2020-09-17T22:26:37.041681",
     "exception": false,
     "start_time": "2020-09-17T22:26:27.062874",
     "status": "completed"
    },
    "tags": []
   },
   "outputs": [
    {
     "data": {
      "text/html": [
       "<div>\n",
       "<style scoped>\n",
       "    .dataframe tbody tr th:only-of-type {\n",
       "        vertical-align: middle;\n",
       "    }\n",
       "\n",
       "    .dataframe tbody tr th {\n",
       "        vertical-align: top;\n",
       "    }\n",
       "\n",
       "    .dataframe thead th {\n",
       "        text-align: right;\n",
       "    }\n",
       "</style>\n",
       "<table border=\"1\" class=\"dataframe\">\n",
       "  <thead>\n",
       "    <tr style=\"text-align: right;\">\n",
       "      <th></th>\n",
       "      <th>Users</th>\n",
       "      <th>Items</th>\n",
       "      <th>Pairs</th>\n",
       "      <th>Density</th>\n",
       "    </tr>\n",
       "  </thead>\n",
       "  <tbody>\n",
       "    <tr>\n",
       "      <th>AZ</th>\n",
       "      <td>8026324</td>\n",
       "      <td>2268142</td>\n",
       "      <td>22460535</td>\n",
       "      <td>0.000001</td>\n",
       "    </tr>\n",
       "    <tr>\n",
       "      <th>BX-E</th>\n",
       "      <td>77805</td>\n",
       "      <td>151670</td>\n",
       "      <td>427283</td>\n",
       "      <td>0.000036</td>\n",
       "    </tr>\n",
       "    <tr>\n",
       "      <th>BX-I</th>\n",
       "      <td>105283</td>\n",
       "      <td>279501</td>\n",
       "      <td>1129814</td>\n",
       "      <td>0.000038</td>\n",
       "    </tr>\n",
       "    <tr>\n",
       "      <th>GR-E</th>\n",
       "      <td>808782</td>\n",
       "      <td>1080777</td>\n",
       "      <td>86537566</td>\n",
       "      <td>0.000099</td>\n",
       "    </tr>\n",
       "    <tr>\n",
       "      <th>GR-I</th>\n",
       "      <td>870011</td>\n",
       "      <td>1096636</td>\n",
       "      <td>188943278</td>\n",
       "      <td>0.000198</td>\n",
       "    </tr>\n",
       "  </tbody>\n",
       "</table>\n",
       "</div>"
      ],
      "text/plain": [
       "        Users    Items      Pairs   Density\n",
       "AZ    8026324  2268142   22460535  0.000001\n",
       "BX-E    77805   151670     427283  0.000036\n",
       "BX-I   105283   279501    1129814  0.000038\n",
       "GR-E   808782  1080777   86537566  0.000099\n",
       "GR-I   870011  1096636  188943278  0.000198"
      ]
     },
     "execution_count": 23,
     "metadata": {},
     "output_type": "execute_result"
    }
   ],
   "source": [
    "ds_summary = pd.DataFrame.from_dict(dict(\n",
    "    (n, {'Users': f['user'].nunique(), 'Items': f['item'].nunique(), 'Pairs': len(f)})\n",
    "    for (n, f) in ratings.items()\n",
    "), orient='index')\n",
    "ds_summary['Density'] = ds_summary['Pairs'] / (ds_summary['Users'] * ds_summary['Items'])\n",
    "ds_summary"
   ]
  },
  {
   "cell_type": "code",
   "execution_count": 24,
   "metadata": {
    "execution": {
     "iopub.execute_input": "2020-09-17T22:26:37.117710Z",
     "iopub.status.busy": "2020-09-17T22:26:37.116712Z",
     "iopub.status.idle": "2020-09-17T22:26:37.137680Z",
     "shell.execute_reply": "2020-09-17T22:26:37.137680Z"
    },
    "papermill": {
     "duration": 0.061983,
     "end_time": "2020-09-17T22:26:37.137680",
     "exception": false,
     "start_time": "2020-09-17T22:26:37.075697",
     "status": "completed"
    },
    "tags": []
   },
   "outputs": [
    {
     "name": "stdout",
     "output_type": "stream",
     "text": [
      "\\begin{tabular}{lrrrr}\n",
      "\\toprule\n",
      "{} &     Users &     Items &       Pairs & Density \\\\\n",
      "\\midrule\n",
      "AZ   & 8,026,324 & 2,268,142 &  22,460,535 & 0.0001\\% \\\\\n",
      "BX-E &    77,805 &   151,670 &     427,283 & 0.0036\\% \\\\\n",
      "BX-I &   105,283 &   279,501 &   1,129,814 & 0.0038\\% \\\\\n",
      "GR-E &   808,782 & 1,080,777 &  86,537,566 & 0.0099\\% \\\\\n",
      "GR-I &   870,011 & 1,096,636 & 188,943,278 & 0.0198\\% \\\\\n",
      "\\bottomrule\n",
      "\\end{tabular}\n",
      "\n"
     ]
    }
   ],
   "source": [
    "def pct_fmt(p):\n",
    "    return '{:.4f}%'.format(p * 100)\n",
    "def n_fmt(n):\n",
    "    return '{:,d}'.format(n)\n",
    "print(ds_summary.to_latex(formatters={\n",
    "    'Users': n_fmt,\n",
    "    'Items': n_fmt,\n",
    "    'Pairs': n_fmt,\n",
    "    'Density': pct_fmt\n",
    "}))"
   ]
  },
  {
   "cell_type": "markdown",
   "metadata": {
    "papermill": {
     "duration": 0.032001,
     "end_time": "2020-09-17T22:26:37.201679",
     "exception": false,
     "start_time": "2020-09-17T22:26:37.169678",
     "status": "completed"
    },
    "tags": []
   },
   "source": [
    "### Distributions"
   ]
  },
  {
   "cell_type": "markdown",
   "metadata": {
    "papermill": {
     "duration": 0.030003,
     "end_time": "2020-09-17T22:26:37.264709",
     "exception": false,
     "start_time": "2020-09-17T22:26:37.234706",
     "status": "completed"
    },
    "tags": []
   },
   "source": [
    "What is the rating distribution for explicit-feedback data sets?"
   ]
  },
  {
   "cell_type": "code",
   "execution_count": 25,
   "metadata": {
    "execution": {
     "iopub.execute_input": "2020-09-17T22:26:37.328700Z",
     "iopub.status.busy": "2020-09-17T22:26:37.328700Z",
     "iopub.status.idle": "2020-09-17T22:26:37.337676Z",
     "shell.execute_reply": "2020-09-17T22:26:37.337676Z"
    },
    "papermill": {
     "duration": 0.042969,
     "end_time": "2020-09-17T22:26:37.337676",
     "exception": false,
     "start_time": "2020-09-17T22:26:37.294707",
     "status": "completed"
    },
    "tags": []
   },
   "outputs": [
    {
     "data": {
      "text/plain": [
       "['AZ', 'BX-E', 'GR-E']"
      ]
     },
     "execution_count": 25,
     "metadata": {},
     "output_type": "execute_result"
    }
   ],
   "source": [
    "exp_re = re.compile(r'^\\w\\w(-E|$)')\n",
    "[ds for ds in ratings.keys() if exp_re.match(ds)]"
   ]
  },
  {
   "cell_type": "code",
   "execution_count": 26,
   "metadata": {
    "execution": {
     "iopub.execute_input": "2020-09-17T22:26:37.449704Z",
     "iopub.status.busy": "2020-09-17T22:26:37.400701Z",
     "iopub.status.idle": "2020-09-17T22:26:39.489655Z",
     "shell.execute_reply": "2020-09-17T22:26:39.489655Z"
    },
    "papermill": {
     "duration": 2.12198,
     "end_time": "2020-09-17T22:26:39.489655",
     "exception": false,
     "start_time": "2020-09-17T22:26:37.367675",
     "status": "completed"
    },
    "tags": []
   },
   "outputs": [
    {
     "data": {
      "text/html": [
       "<div>\n",
       "<style scoped>\n",
       "    .dataframe tbody tr th:only-of-type {\n",
       "        vertical-align: middle;\n",
       "    }\n",
       "\n",
       "    .dataframe tbody tr th {\n",
       "        vertical-align: top;\n",
       "    }\n",
       "\n",
       "    .dataframe thead th {\n",
       "        text-align: right;\n",
       "    }\n",
       "</style>\n",
       "<table border=\"1\" class=\"dataframe\">\n",
       "  <thead>\n",
       "    <tr style=\"text-align: right;\">\n",
       "      <th></th>\n",
       "      <th>rating</th>\n",
       "      <th>count</th>\n",
       "      <th>Set</th>\n",
       "    </tr>\n",
       "  </thead>\n",
       "  <tbody>\n",
       "    <tr>\n",
       "      <th>0</th>\n",
       "      <td>1.0</td>\n",
       "      <td>1115069</td>\n",
       "      <td>AZ</td>\n",
       "    </tr>\n",
       "    <tr>\n",
       "      <th>1</th>\n",
       "      <td>1.5</td>\n",
       "      <td>254</td>\n",
       "      <td>AZ</td>\n",
       "    </tr>\n",
       "    <tr>\n",
       "      <th>2</th>\n",
       "      <td>2.0</td>\n",
       "      <td>976839</td>\n",
       "      <td>AZ</td>\n",
       "    </tr>\n",
       "    <tr>\n",
       "      <th>3</th>\n",
       "      <td>2.5</td>\n",
       "      <td>453</td>\n",
       "      <td>AZ</td>\n",
       "    </tr>\n",
       "    <tr>\n",
       "      <th>4</th>\n",
       "      <td>3.0</td>\n",
       "      <td>1918050</td>\n",
       "      <td>AZ</td>\n",
       "    </tr>\n",
       "  </tbody>\n",
       "</table>\n",
       "</div>"
      ],
      "text/plain": [
       "   rating    count Set\n",
       "0     1.0  1115069  AZ\n",
       "1     1.5      254  AZ\n",
       "2     2.0   976839  AZ\n",
       "3     2.5      453  AZ\n",
       "4     3.0  1918050  AZ"
      ]
     },
     "execution_count": 26,
     "metadata": {},
     "output_type": "execute_result"
    }
   ],
   "source": [
    "exp_rate_stats = pd.concat(\n",
    "    (rates.groupby('rating').item.count().reset_index(name='count').assign(Set=ds)\n",
    "     for (ds, rates) in ratings.items() if exp_re.match(ds))\n",
    ", ignore_index=True)\n",
    "exp_rate_stats.head()"
   ]
  },
  {
   "cell_type": "code",
   "execution_count": 27,
   "metadata": {
    "execution": {
     "iopub.execute_input": "2020-09-17T22:26:39.565670Z",
     "iopub.status.busy": "2020-09-17T22:26:39.564670Z",
     "iopub.status.idle": "2020-09-17T22:26:39.971630Z",
     "shell.execute_reply": "2020-09-17T22:26:39.971630Z"
    },
    "papermill": {
     "duration": 0.451994,
     "end_time": "2020-09-17T22:26:39.971630",
     "exception": false,
     "start_time": "2020-09-17T22:26:39.519636",
     "status": "completed"
    },
    "tags": []
   },
   "outputs": [
    {
     "name": "stderr",
     "output_type": "stream",
     "text": [
      "C:\\Users\\michaelekstrand\\Anaconda3\\envs\\bookfair\\lib\\site-packages\\seaborn\\axisgrid.py:723: UserWarning: Using the barplot function without specifying `order` is likely to produce an incorrect plot.\n"
     ]
    },
    {
     "data": {
      "text/plain": [
       "<seaborn.axisgrid.FacetGrid at 0x16900b49c48>"
      ]
     },
     "execution_count": 27,
     "metadata": {},
     "output_type": "execute_result"
    },
    {
     "data": {
      "image/png": "[encoded data removed]",
      "text/plain": [
       "<Figure size 648x216 with 3 Axes>"
      ]
     },
     "metadata": {
      "needs_background": "light"
     },
     "output_type": "display_data"
    }
   ],
   "source": [
    "grid = sns.FacetGrid(col='Set', data=exp_rate_stats, sharex=False, sharey=False)\n",
    "grid.map(sns.barplot, 'rating', 'count')"
   ]
  },
  {
   "cell_type": "code",
   "execution_count": 28,
   "metadata": {
    "execution": {
     "iopub.execute_input": "2020-09-17T22:26:40.049628Z",
     "iopub.status.busy": "2020-09-17T22:26:40.048644Z",
     "iopub.status.idle": "2020-09-17T22:26:50.228195Z",
     "shell.execute_reply": "2020-09-17T22:26:50.228195Z"
    },
    "papermill": {
     "duration": 10.220566,
     "end_time": "2020-09-17T22:26:50.228195",
     "exception": false,
     "start_time": "2020-09-17T22:26:40.007629",
     "status": "completed"
    },
    "tags": []
   },
   "outputs": [
    {
     "data": {
      "text/html": [
       "<div>\n",
       "<style scoped>\n",
       "    .dataframe tbody tr th:only-of-type {\n",
       "        vertical-align: middle;\n",
       "    }\n",
       "\n",
       "    .dataframe tbody tr th {\n",
       "        vertical-align: top;\n",
       "    }\n",
       "\n",
       "    .dataframe thead th {\n",
       "        text-align: right;\n",
       "    }\n",
       "</style>\n",
       "<table border=\"1\" class=\"dataframe\">\n",
       "  <thead>\n",
       "    <tr style=\"text-align: right;\">\n",
       "      <th></th>\n",
       "      <th>user</th>\n",
       "      <th>AvgRating</th>\n",
       "      <th>Set</th>\n",
       "    </tr>\n",
       "  </thead>\n",
       "  <tbody>\n",
       "    <tr>\n",
       "      <th>0</th>\n",
       "      <td>1</td>\n",
       "      <td>5.000000</td>\n",
       "      <td>AZ</td>\n",
       "    </tr>\n",
       "    <tr>\n",
       "      <th>1</th>\n",
       "      <td>2</td>\n",
       "      <td>5.000000</td>\n",
       "      <td>AZ</td>\n",
       "    </tr>\n",
       "    <tr>\n",
       "      <th>2</th>\n",
       "      <td>3</td>\n",
       "      <td>5.000000</td>\n",
       "      <td>AZ</td>\n",
       "    </tr>\n",
       "    <tr>\n",
       "      <th>3</th>\n",
       "      <td>4</td>\n",
       "      <td>4.666667</td>\n",
       "      <td>AZ</td>\n",
       "    </tr>\n",
       "    <tr>\n",
       "      <th>4</th>\n",
       "      <td>5</td>\n",
       "      <td>4.000000</td>\n",
       "      <td>AZ</td>\n",
       "    </tr>\n",
       "  </tbody>\n",
       "</table>\n",
       "</div>"
      ],
      "text/plain": [
       "   user  AvgRating Set\n",
       "0     1   5.000000  AZ\n",
       "1     2   5.000000  AZ\n",
       "2     3   5.000000  AZ\n",
       "3     4   4.666667  AZ\n",
       "4     5   4.000000  AZ"
      ]
     },
     "execution_count": 28,
     "metadata": {},
     "output_type": "execute_result"
    }
   ],
   "source": [
    "user_means = pd.concat(\n",
    "    (rates.groupby('user').rating.mean().reset_index(name='AvgRating').assign(Set=ds)\n",
    "     for (ds, rates) in ratings.items() if exp_re.match(ds))\n",
    ", ignore_index=True)\n",
    "user_means.head()"
   ]
  },
  {
   "cell_type": "code",
   "execution_count": 29,
   "metadata": {
    "execution": {
     "iopub.execute_input": "2020-09-17T22:26:50.490190Z",
     "iopub.status.busy": "2020-09-17T22:26:50.489190Z",
     "iopub.status.idle": "2020-09-17T22:26:55.602705Z",
     "shell.execute_reply": "2020-09-17T22:26:55.603714Z"
    },
    "papermill": {
     "duration": 5.334519,
     "end_time": "2020-09-17T22:26:55.603714",
     "exception": false,
     "start_time": "2020-09-17T22:26:50.269195",
     "status": "completed"
    },
    "tags": []
   },
   "outputs": [
    {
     "data": {
      "text/plain": [
       "<seaborn.axisgrid.FacetGrid at 0x16902362788>"
      ]
     },
     "execution_count": 29,
     "metadata": {},
     "output_type": "execute_result"
    },
    {
     "data": {
      "image/png": "[encoded data removed]",
      "text/plain": [
       "<Figure size 648x216 with 3 Axes>"
      ]
     },
     "metadata": {
      "needs_background": "light"
     },
     "output_type": "display_data"
    }
   ],
   "source": [
    "grid = sns.FacetGrid(col='Set', data=user_means, sharey=False, sharex=False)\n",
    "grid.map(sns.distplot, 'AvgRating')"
   ]
  },
  {
   "cell_type": "code",
   "execution_count": 30,
   "metadata": {
    "execution": {
     "iopub.execute_input": "2020-09-17T22:26:55.675737Z",
     "iopub.status.busy": "2020-09-17T22:26:55.675737Z",
     "iopub.status.idle": "2020-09-17T22:27:04.140081Z",
     "shell.execute_reply": "2020-09-17T22:27:04.140081Z"
    },
    "papermill": {
     "duration": 8.503308,
     "end_time": "2020-09-17T22:27:04.140081",
     "exception": false,
     "start_time": "2020-09-17T22:26:55.636773",
     "status": "completed"
    },
    "tags": []
   },
   "outputs": [
    {
     "data": {
      "text/html": [
       "<div>\n",
       "<style scoped>\n",
       "    .dataframe tbody tr th:only-of-type {\n",
       "        vertical-align: middle;\n",
       "    }\n",
       "\n",
       "    .dataframe tbody tr th {\n",
       "        vertical-align: top;\n",
       "    }\n",
       "\n",
       "    .dataframe thead th {\n",
       "        text-align: right;\n",
       "    }\n",
       "</style>\n",
       "<table border=\"1\" class=\"dataframe\">\n",
       "  <thead>\n",
       "    <tr style=\"text-align: right;\">\n",
       "      <th></th>\n",
       "      <th>item</th>\n",
       "      <th>AvgRating</th>\n",
       "      <th>Set</th>\n",
       "    </tr>\n",
       "  </thead>\n",
       "  <tbody>\n",
       "    <tr>\n",
       "      <th>0</th>\n",
       "      <td>0</td>\n",
       "      <td>4.250000</td>\n",
       "      <td>AZ</td>\n",
       "    </tr>\n",
       "    <tr>\n",
       "      <th>1</th>\n",
       "      <td>2</td>\n",
       "      <td>4.523077</td>\n",
       "      <td>AZ</td>\n",
       "    </tr>\n",
       "    <tr>\n",
       "      <th>2</th>\n",
       "      <td>5</td>\n",
       "      <td>4.348315</td>\n",
       "      <td>AZ</td>\n",
       "    </tr>\n",
       "    <tr>\n",
       "      <th>3</th>\n",
       "      <td>8</td>\n",
       "      <td>4.368421</td>\n",
       "      <td>AZ</td>\n",
       "    </tr>\n",
       "    <tr>\n",
       "      <th>4</th>\n",
       "      <td>11</td>\n",
       "      <td>3.968750</td>\n",
       "      <td>AZ</td>\n",
       "    </tr>\n",
       "  </tbody>\n",
       "</table>\n",
       "</div>"
      ],
      "text/plain": [
       "   item  AvgRating Set\n",
       "0     0   4.250000  AZ\n",
       "1     2   4.523077  AZ\n",
       "2     5   4.348315  AZ\n",
       "3     8   4.368421  AZ\n",
       "4    11   3.968750  AZ"
      ]
     },
     "execution_count": 30,
     "metadata": {},
     "output_type": "execute_result"
    }
   ],
   "source": [
    "item_means = pd.concat(\n",
    "    (rates.groupby('item').rating.mean().reset_index(name='AvgRating').assign(Set=ds)\n",
    "     for (ds, rates) in ratings.items() if exp_re.match(ds))\n",
    ", ignore_index=True)\n",
    "item_means.head()"
   ]
  },
  {
   "cell_type": "code",
   "execution_count": 31,
   "metadata": {
    "execution": {
     "iopub.execute_input": "2020-09-17T22:27:04.291082Z",
     "iopub.status.busy": "2020-09-17T22:27:04.290080Z",
     "iopub.status.idle": "2020-09-17T22:27:06.737039Z",
     "shell.execute_reply": "2020-09-17T22:27:06.736036Z"
    },
    "papermill": {
     "duration": 2.554959,
     "end_time": "2020-09-17T22:27:06.737039",
     "exception": false,
     "start_time": "2020-09-17T22:27:04.182080",
     "status": "completed"
    },
    "tags": []
   },
   "outputs": [
    {
     "data": {
      "text/plain": [
       "<seaborn.axisgrid.FacetGrid at 0x169023a5488>"
      ]
     },
     "execution_count": 31,
     "metadata": {},
     "output_type": "execute_result"
    },
    {
     "data": {
      "image/png": "[encoded data removed]",
      "text/plain": [
       "<Figure size 648x216 with 3 Axes>"
      ]
     },
     "metadata": {
      "needs_background": "light"
     },
     "output_type": "display_data"
    }
   ],
   "source": [
    "grid = sns.FacetGrid(col='Set', data=item_means, sharey=False, sharex=False)\n",
    "grid.map(sns.distplot, 'AvgRating')"
   ]
  },
  {
   "cell_type": "markdown",
   "metadata": {
    "papermill": {
     "duration": 0.038985,
     "end_time": "2020-09-17T22:27:06.820033",
     "exception": false,
     "start_time": "2020-09-17T22:27:06.781048",
     "status": "completed"
    },
    "tags": []
   },
   "source": [
    "## Count and Integrate\n",
    "\n",
    "Now that we have the data loaded, we need to do a few things:\n",
    "\n",
    "1. Connect with gender info\n",
    "2. Count books (or ratings) by gender. All kinds of unlinked gender are mapped to `unlinked`.\n",
    "3. Integrate into a single set of lists\n",
    "\n",
    "To start, we'll define a helper function for summarizing a frame of interactions by gender:"
   ]
  },
  {
   "cell_type": "code",
   "execution_count": 32,
   "metadata": {
    "execution": {
     "iopub.execute_input": "2020-09-17T22:27:06.908053Z",
     "iopub.status.busy": "2020-09-17T22:27:06.908053Z",
     "iopub.status.idle": "2020-09-17T22:27:06.910037Z",
     "shell.execute_reply": "2020-09-17T22:27:06.910037Z"
    },
    "papermill": {
     "duration": 0.049999,
     "end_time": "2020-09-17T22:27:06.911036",
     "exception": false,
     "start_time": "2020-09-17T22:27:06.861037",
     "status": "completed"
    },
    "tags": []
   },
   "outputs": [],
   "source": [
    "def summarize_by_gender(rate_frame, gender_col='gender'):\n",
    "    # count ratings per book\n",
    "    i_counts = rate_frame['item'].value_counts().to_frame(name='ratings')\n",
    "    # join with gender\n",
    "    books = i_counts.join(book_gender)\n",
    "    # count by gender\n",
    "    counts = books.groupby(gender_col)['ratings'].agg(['count', 'sum'])\n",
    "    counts.rename(columns={\n",
    "        'count': 'Books',\n",
    "        'sum': 'Ratings'\n",
    "    }, inplace=True)\n",
    "    return counts"
   ]
  },
  {
   "cell_type": "markdown",
   "metadata": {
    "papermill": {
     "duration": 0.040998,
     "end_time": "2020-09-17T22:27:06.999030",
     "exception": false,
     "start_time": "2020-09-17T22:27:06.958032",
     "status": "completed"
    },
    "tags": []
   },
   "source": [
    "Let's see the function in action:"
   ]
  },
  {
   "cell_type": "code",
   "execution_count": 33,
   "metadata": {
    "execution": {
     "iopub.execute_input": "2020-09-17T22:27:07.082029Z",
     "iopub.status.busy": "2020-09-17T22:27:07.081030Z",
     "iopub.status.idle": "2020-09-17T22:27:07.134028Z",
     "shell.execute_reply": "2020-09-17T22:27:07.134028Z"
    },
    "papermill": {
     "duration": 0.092961,
     "end_time": "2020-09-17T22:27:07.134028",
     "exception": false,
     "start_time": "2020-09-17T22:27:07.041067",
     "status": "completed"
    },
    "tags": []
   },
   "outputs": [
    {
     "data": {
      "text/html": [
       "<div>\n",
       "<style scoped>\n",
       "    .dataframe tbody tr th:only-of-type {\n",
       "        vertical-align: middle;\n",
       "    }\n",
       "\n",
       "    .dataframe tbody tr th {\n",
       "        vertical-align: top;\n",
       "    }\n",
       "\n",
       "    .dataframe thead th {\n",
       "        text-align: right;\n",
       "    }\n",
       "</style>\n",
       "<table border=\"1\" class=\"dataframe\">\n",
       "  <thead>\n",
       "    <tr style=\"text-align: right;\">\n",
       "      <th></th>\n",
       "      <th>Books</th>\n",
       "      <th>Ratings</th>\n",
       "    </tr>\n",
       "    <tr>\n",
       "      <th>gender</th>\n",
       "      <th></th>\n",
       "      <th></th>\n",
       "    </tr>\n",
       "  </thead>\n",
       "  <tbody>\n",
       "    <tr>\n",
       "      <th>unlinked</th>\n",
       "      <td>36757</td>\n",
       "      <td>45524</td>\n",
       "    </tr>\n",
       "    <tr>\n",
       "      <th>unknown</th>\n",
       "      <td>16900</td>\n",
       "      <td>27434</td>\n",
       "    </tr>\n",
       "    <tr>\n",
       "      <th>ambiguous</th>\n",
       "      <td>4014</td>\n",
       "      <td>30444</td>\n",
       "    </tr>\n",
       "    <tr>\n",
       "      <th>female</th>\n",
       "      <td>38093</td>\n",
       "      <td>138827</td>\n",
       "    </tr>\n",
       "    <tr>\n",
       "      <th>male</th>\n",
       "      <td>55906</td>\n",
       "      <td>185054</td>\n",
       "    </tr>\n",
       "  </tbody>\n",
       "</table>\n",
       "</div>"
      ],
      "text/plain": [
       "           Books  Ratings\n",
       "gender                   \n",
       "unlinked   36757    45524\n",
       "unknown    16900    27434\n",
       "ambiguous   4014    30444\n",
       "female     38093   138827\n",
       "male       55906   185054"
      ]
     },
     "execution_count": 33,
     "metadata": {},
     "output_type": "execute_result"
    }
   ],
   "source": [
    "summarize_by_gender(ratings['BX-E'])"
   ]
  },
  {
   "cell_type": "markdown",
   "metadata": {
    "papermill": {
     "duration": 0.044019,
     "end_time": "2020-09-17T22:27:07.225047",
     "exception": false,
     "start_time": "2020-09-17T22:27:07.181028",
     "status": "completed"
    },
    "tags": []
   },
   "source": [
    "Now build up a full frame of everything:"
   ]
  },
  {
   "cell_type": "code",
   "execution_count": 34,
   "metadata": {
    "execution": {
     "iopub.execute_input": "2020-09-17T22:27:07.321026Z",
     "iopub.status.busy": "2020-09-17T22:27:07.320029Z",
     "iopub.status.idle": "2020-09-17T22:27:52.013291Z",
     "shell.execute_reply": "2020-09-17T22:27:52.013291Z"
    },
    "papermill": {
     "duration": 44.738247,
     "end_time": "2020-09-17T22:27:52.013291",
     "exception": false,
     "start_time": "2020-09-17T22:27:07.275044",
     "status": "completed"
    },
    "tags": []
   },
   "outputs": [
    {
     "name": "stderr",
     "output_type": "stream",
     "text": [
      "summarizing LOC\n"
     ]
    },
    {
     "name": "stderr",
     "output_type": "stream",
     "text": [
      "summarizing AZ\n"
     ]
    },
    {
     "name": "stderr",
     "output_type": "stream",
     "text": [
      "summarizing BX-E\n",
      "summarizing BX-I\n",
      "summarizing GR-E\n"
     ]
    },
    {
     "name": "stderr",
     "output_type": "stream",
     "text": [
      "summarizing GR-I\n"
     ]
    },
    {
     "name": "stdout",
     "output_type": "stream",
     "text": [
      "<class 'pandas.core.frame.DataFrame'>\n",
      "MultiIndex: 30 entries, ('LOC', 'unlinked') to ('GR-I', 'male')\n",
      "Data columns (total 3 columns):\n",
      " #   Column   Non-Null Count  Dtype  \n",
      "---  ------   --------------  -----  \n",
      " 0   Books    30 non-null     int64  \n",
      " 1   Ratings  30 non-null     int64  \n",
      " 2   ratings  0 non-null      float64\n",
      "dtypes: float64(1), int64(2)\n",
      "memory usage: 1.3+ KB\n"
     ]
    }
   ],
   "source": [
    "eprint('summarizing LOC')\n",
    "summaries = {'LOC':  summarize_by_gender(loc_books).assign(ratings=np.nan) }\n",
    "for ds, f in ratings.items():\n",
    "    eprint('summarizing', ds)\n",
    "    summaries[ds] = summarize_by_gender(f)\n",
    "gender_stats = pd.concat(summaries, names=['DataSet'])\n",
    "gender_stats.info()"
   ]
  },
  {
   "cell_type": "code",
   "execution_count": 35,
   "metadata": {
    "execution": {
     "iopub.execute_input": "2020-09-17T22:27:52.099292Z",
     "iopub.status.busy": "2020-09-17T22:27:52.097322Z",
     "iopub.status.idle": "2020-09-17T22:28:34.742522Z",
     "shell.execute_reply": "2020-09-17T22:28:34.742522Z"
    },
    "papermill": {
     "duration": 42.68723,
     "end_time": "2020-09-17T22:28:34.743520",
     "exception": false,
     "start_time": "2020-09-17T22:27:52.056290",
     "status": "completed"
    },
    "tags": []
   },
   "outputs": [
    {
     "name": "stderr",
     "output_type": "stream",
     "text": [
      "summarizing LOC\n"
     ]
    },
    {
     "name": "stderr",
     "output_type": "stream",
     "text": [
      "summarizing AZ\n"
     ]
    },
    {
     "name": "stderr",
     "output_type": "stream",
     "text": [
      "summarizing BX-E\n",
      "summarizing BX-I\n",
      "summarizing GR-E\n"
     ]
    },
    {
     "name": "stderr",
     "output_type": "stream",
     "text": [
      "summarizing GR-I\n"
     ]
    },
    {
     "name": "stdout",
     "output_type": "stream",
     "text": [
      "<class 'pandas.core.frame.DataFrame'>\n",
      "MultiIndex: 42 entries, ('LOC', 'no-book') to ('GR-I', 'male')\n",
      "Data columns (total 2 columns):\n",
      " #   Column   Non-Null Count  Dtype\n",
      "---  ------   --------------  -----\n",
      " 0   Books    42 non-null     int64\n",
      " 1   Ratings  42 non-null     int64\n",
      "dtypes: int64(2)\n",
      "memory usage: 1.4+ KB\n"
     ]
    }
   ],
   "source": [
    "eprint('summarizing LOC')\n",
    "fsums = {'LOC': summarize_by_gender(loc_books, 'gender_status')}\n",
    "for ds, f in ratings.items():\n",
    "    eprint('summarizing', ds)\n",
    "    fsums[ds] = summarize_by_gender(f, 'gender_status')\n",
    "full_stats = pd.concat(fsums, names=['DataSet'])\n",
    "full_stats.info()"
   ]
  },
  {
   "cell_type": "code",
   "execution_count": 36,
   "metadata": {
    "execution": {
     "iopub.execute_input": "2020-09-17T22:28:34.825513Z",
     "iopub.status.busy": "2020-09-17T22:28:34.824515Z",
     "iopub.status.idle": "2020-09-17T22:28:34.838483Z",
     "shell.execute_reply": "2020-09-17T22:28:34.838483Z"
    },
    "papermill": {
     "duration": 0.057976,
     "end_time": "2020-09-17T22:28:34.838483",
     "exception": false,
     "start_time": "2020-09-17T22:28:34.780507",
     "status": "completed"
    },
    "tags": []
   },
   "outputs": [
    {
     "data": {
      "text/html": [
       "<div>\n",
       "<style scoped>\n",
       "    .dataframe tbody tr th:only-of-type {\n",
       "        vertical-align: middle;\n",
       "    }\n",
       "\n",
       "    .dataframe tbody tr th {\n",
       "        vertical-align: top;\n",
       "    }\n",
       "\n",
       "    .dataframe thead th {\n",
       "        text-align: right;\n",
       "    }\n",
       "</style>\n",
       "<table border=\"1\" class=\"dataframe\">\n",
       "  <thead>\n",
       "    <tr style=\"text-align: right;\">\n",
       "      <th>gender_status</th>\n",
       "      <th>no-book</th>\n",
       "      <th>no-loc-author</th>\n",
       "      <th>no-viaf-author</th>\n",
       "      <th>unknown</th>\n",
       "      <th>ambiguous</th>\n",
       "      <th>female</th>\n",
       "      <th>male</th>\n",
       "    </tr>\n",
       "    <tr>\n",
       "      <th>DataSet</th>\n",
       "      <th></th>\n",
       "      <th></th>\n",
       "      <th></th>\n",
       "      <th></th>\n",
       "      <th></th>\n",
       "      <th></th>\n",
       "      <th></th>\n",
       "    </tr>\n",
       "  </thead>\n",
       "  <tbody>\n",
       "    <tr>\n",
       "      <th>LOC</th>\n",
       "      <td>0</td>\n",
       "      <td>842755</td>\n",
       "      <td>297405</td>\n",
       "      <td>1214597</td>\n",
       "      <td>53232</td>\n",
       "      <td>664221</td>\n",
       "      <td>2195117</td>\n",
       "    </tr>\n",
       "    <tr>\n",
       "      <th>AZ</th>\n",
       "      <td>934847</td>\n",
       "      <td>226764</td>\n",
       "      <td>157072</td>\n",
       "      <td>236219</td>\n",
       "      <td>17056</td>\n",
       "      <td>215556</td>\n",
       "      <td>480628</td>\n",
       "    </tr>\n",
       "    <tr>\n",
       "      <th>BX-E</th>\n",
       "      <td>22674</td>\n",
       "      <td>6456</td>\n",
       "      <td>7627</td>\n",
       "      <td>16900</td>\n",
       "      <td>4014</td>\n",
       "      <td>38093</td>\n",
       "      <td>55906</td>\n",
       "    </tr>\n",
       "    <tr>\n",
       "      <th>BX-I</th>\n",
       "      <td>45560</td>\n",
       "      <td>12906</td>\n",
       "      <td>15631</td>\n",
       "      <td>34614</td>\n",
       "      <td>6770</td>\n",
       "      <td>67087</td>\n",
       "      <td>96933</td>\n",
       "    </tr>\n",
       "    <tr>\n",
       "      <th>GR-E</th>\n",
       "      <td>0</td>\n",
       "      <td>487495</td>\n",
       "      <td>35267</td>\n",
       "      <td>95887</td>\n",
       "      <td>11087</td>\n",
       "      <td>174996</td>\n",
       "      <td>276045</td>\n",
       "    </tr>\n",
       "    <tr>\n",
       "      <th>GR-I</th>\n",
       "      <td>0</td>\n",
       "      <td>495592</td>\n",
       "      <td>36106</td>\n",
       "      <td>97667</td>\n",
       "      <td>11189</td>\n",
       "      <td>176640</td>\n",
       "      <td>279442</td>\n",
       "    </tr>\n",
       "  </tbody>\n",
       "</table>\n",
       "</div>"
      ],
      "text/plain": [
       "gender_status  no-book  no-loc-author  no-viaf-author  unknown  ambiguous  \\\n",
       "DataSet                                                                     \n",
       "LOC                  0         842755          297405  1214597      53232   \n",
       "AZ              934847         226764          157072   236219      17056   \n",
       "BX-E             22674           6456            7627    16900       4014   \n",
       "BX-I             45560          12906           15631    34614       6770   \n",
       "GR-E                 0         487495           35267    95887      11087   \n",
       "GR-I                 0         495592           36106    97667      11189   \n",
       "\n",
       "gender_status  female     male  \n",
       "DataSet                         \n",
       "LOC            664221  2195117  \n",
       "AZ             215556   480628  \n",
       "BX-E            38093    55906  \n",
       "BX-I            67087    96933  \n",
       "GR-E           174996   276045  \n",
       "GR-I           176640   279442  "
      ]
     },
     "execution_count": 36,
     "metadata": {},
     "output_type": "execute_result"
    }
   ],
   "source": [
    "book_counts = full_stats['Books'].unstack()\n",
    "book_counts"
   ]
  },
  {
   "cell_type": "code",
   "execution_count": 37,
   "metadata": {
    "execution": {
     "iopub.execute_input": "2020-09-17T22:28:34.920481Z",
     "iopub.status.busy": "2020-09-17T22:28:34.919482Z",
     "iopub.status.idle": "2020-09-17T22:28:34.933497Z",
     "shell.execute_reply": "2020-09-17T22:28:34.934482Z"
    },
    "papermill": {
     "duration": 0.059966,
     "end_time": "2020-09-17T22:28:34.934482",
     "exception": false,
     "start_time": "2020-09-17T22:28:34.874516",
     "status": "completed"
    },
    "tags": []
   },
   "outputs": [
    {
     "data": {
      "text/plain": [
       "DataSet\n",
       "LOC     1140160\n",
       "AZ      1318683\n",
       "BX-E      36757\n",
       "BX-I      74097\n",
       "GR-E     522762\n",
       "GR-I     531698\n",
       "dtype: int64"
      ]
     },
     "execution_count": 37,
     "metadata": {},
     "output_type": "execute_result"
    }
   ],
   "source": [
    "book_counts[['no-book', 'no-loc-author', 'no-viaf-author']].sum(axis=1)"
   ]
  },
  {
   "cell_type": "code",
   "execution_count": 38,
   "metadata": {
    "execution": {
     "iopub.execute_input": "2020-09-17T22:28:35.019487Z",
     "iopub.status.busy": "2020-09-17T22:28:35.012518Z",
     "iopub.status.idle": "2020-09-17T22:28:35.027481Z",
     "shell.execute_reply": "2020-09-17T22:28:35.027481Z"
    },
    "papermill": {
     "duration": 0.053969,
     "end_time": "2020-09-17T22:28:35.028480",
     "exception": false,
     "start_time": "2020-09-17T22:28:34.974511",
     "status": "completed"
    },
    "tags": []
   },
   "outputs": [
    {
     "data": {
      "text/html": [
       "<div>\n",
       "<style scoped>\n",
       "    .dataframe tbody tr th:only-of-type {\n",
       "        vertical-align: middle;\n",
       "    }\n",
       "\n",
       "    .dataframe tbody tr th {\n",
       "        vertical-align: top;\n",
       "    }\n",
       "\n",
       "    .dataframe thead th {\n",
       "        text-align: right;\n",
       "    }\n",
       "</style>\n",
       "<table border=\"1\" class=\"dataframe\">\n",
       "  <thead>\n",
       "    <tr style=\"text-align: right;\">\n",
       "      <th>gender_status</th>\n",
       "      <th>no-book</th>\n",
       "      <th>no-loc-author</th>\n",
       "      <th>no-viaf-author</th>\n",
       "      <th>unknown</th>\n",
       "      <th>ambiguous</th>\n",
       "      <th>female</th>\n",
       "      <th>male</th>\n",
       "    </tr>\n",
       "    <tr>\n",
       "      <th>DataSet</th>\n",
       "      <th></th>\n",
       "      <th></th>\n",
       "      <th></th>\n",
       "      <th></th>\n",
       "      <th></th>\n",
       "      <th></th>\n",
       "      <th></th>\n",
       "    </tr>\n",
       "  </thead>\n",
       "  <tbody>\n",
       "    <tr>\n",
       "      <th>LOC</th>\n",
       "      <td>0.000000</td>\n",
       "      <td>0.159997</td>\n",
       "      <td>0.056462</td>\n",
       "      <td>0.230591</td>\n",
       "      <td>0.010106</td>\n",
       "      <td>0.126102</td>\n",
       "      <td>0.416742</td>\n",
       "    </tr>\n",
       "    <tr>\n",
       "      <th>AZ</th>\n",
       "      <td>0.412164</td>\n",
       "      <td>0.099978</td>\n",
       "      <td>0.069251</td>\n",
       "      <td>0.104146</td>\n",
       "      <td>0.007520</td>\n",
       "      <td>0.095036</td>\n",
       "      <td>0.211904</td>\n",
       "    </tr>\n",
       "    <tr>\n",
       "      <th>BX-E</th>\n",
       "      <td>0.149496</td>\n",
       "      <td>0.042566</td>\n",
       "      <td>0.050287</td>\n",
       "      <td>0.111426</td>\n",
       "      <td>0.026465</td>\n",
       "      <td>0.251157</td>\n",
       "      <td>0.368603</td>\n",
       "    </tr>\n",
       "    <tr>\n",
       "      <th>BX-I</th>\n",
       "      <td>0.163005</td>\n",
       "      <td>0.046175</td>\n",
       "      <td>0.055925</td>\n",
       "      <td>0.123842</td>\n",
       "      <td>0.024222</td>\n",
       "      <td>0.240024</td>\n",
       "      <td>0.346807</td>\n",
       "    </tr>\n",
       "    <tr>\n",
       "      <th>GR-E</th>\n",
       "      <td>0.000000</td>\n",
       "      <td>0.451060</td>\n",
       "      <td>0.032631</td>\n",
       "      <td>0.088720</td>\n",
       "      <td>0.010258</td>\n",
       "      <td>0.161917</td>\n",
       "      <td>0.255413</td>\n",
       "    </tr>\n",
       "    <tr>\n",
       "      <th>GR-I</th>\n",
       "      <td>0.000000</td>\n",
       "      <td>0.451920</td>\n",
       "      <td>0.032924</td>\n",
       "      <td>0.089061</td>\n",
       "      <td>0.010203</td>\n",
       "      <td>0.161074</td>\n",
       "      <td>0.254817</td>\n",
       "    </tr>\n",
       "  </tbody>\n",
       "</table>\n",
       "</div>"
      ],
      "text/plain": [
       "gender_status   no-book  no-loc-author  no-viaf-author   unknown  ambiguous  \\\n",
       "DataSet                                                                       \n",
       "LOC            0.000000       0.159997        0.056462  0.230591   0.010106   \n",
       "AZ             0.412164       0.099978        0.069251  0.104146   0.007520   \n",
       "BX-E           0.149496       0.042566        0.050287  0.111426   0.026465   \n",
       "BX-I           0.163005       0.046175        0.055925  0.123842   0.024222   \n",
       "GR-E           0.000000       0.451060        0.032631  0.088720   0.010258   \n",
       "GR-I           0.000000       0.451920        0.032924  0.089061   0.010203   \n",
       "\n",
       "gender_status    female      male  \n",
       "DataSet                            \n",
       "LOC            0.126102  0.416742  \n",
       "AZ             0.095036  0.211904  \n",
       "BX-E           0.251157  0.368603  \n",
       "BX-I           0.240024  0.346807  \n",
       "GR-E           0.161917  0.255413  \n",
       "GR-I           0.161074  0.254817  "
      ]
     },
     "execution_count": 38,
     "metadata": {},
     "output_type": "execute_result"
    }
   ],
   "source": [
    "book_fracs = book_counts.divide(book_counts.sum(axis=1), axis=0)\n",
    "book_fracs"
   ]
  },
  {
   "cell_type": "code",
   "execution_count": 39,
   "metadata": {
    "execution": {
     "iopub.execute_input": "2020-09-17T22:28:35.103482Z",
     "iopub.status.busy": "2020-09-17T22:28:35.103482Z",
     "iopub.status.idle": "2020-09-17T22:28:35.107484Z",
     "shell.execute_reply": "2020-09-17T22:28:35.107484Z"
    },
    "papermill": {
     "duration": 0.043964,
     "end_time": "2020-09-17T22:28:35.108478",
     "exception": false,
     "start_time": "2020-09-17T22:28:35.064514",
     "status": "completed"
    },
    "tags": []
   },
   "outputs": [],
   "source": [
    "# book_counts.divide(book_counts.sum(axis=1), axis=0) * 100"
   ]
  },
  {
   "cell_type": "code",
   "execution_count": 40,
   "metadata": {
    "execution": {
     "iopub.execute_input": "2020-09-17T22:28:35.193477Z",
     "iopub.status.busy": "2020-09-17T22:28:35.192477Z",
     "iopub.status.idle": "2020-09-17T22:28:35.204477Z",
     "shell.execute_reply": "2020-09-17T22:28:35.204477Z"
    },
    "papermill": {
     "duration": 0.058997,
     "end_time": "2020-09-17T22:28:35.204477",
     "exception": false,
     "start_time": "2020-09-17T22:28:35.145480",
     "status": "completed"
    },
    "tags": []
   },
   "outputs": [
    {
     "name": "stdout",
     "output_type": "stream",
     "text": [
      "\\begin{tabular}{lrrrrrrr}\n",
      "\\toprule\n",
      "gender\\_status &  no-book &  no-loc-author &  no-viaf-author &  unknown &  ambiguous &  female &  male \\\\\n",
      "DataSet &          &                &                 &          &            &         &       \\\\\n",
      "\\midrule\n",
      "LOC     &     0.0\\% &          16.0\\% &            5.6\\% &    23.1\\% &       1.0\\% &   12.6\\% & 41.7\\% \\\\\n",
      "AZ      &    41.2\\% &          10.0\\% &            6.9\\% &    10.4\\% &       0.8\\% &    9.5\\% & 21.2\\% \\\\\n",
      "BX-E    &    14.9\\% &           4.3\\% &            5.0\\% &    11.1\\% &       2.6\\% &   25.1\\% & 36.9\\% \\\\\n",
      "BX-I    &    16.3\\% &           4.6\\% &            5.6\\% &    12.4\\% &       2.4\\% &   24.0\\% & 34.7\\% \\\\\n",
      "GR-E    &     0.0\\% &          45.1\\% &            3.3\\% &     8.9\\% &       1.0\\% &   16.2\\% & 25.5\\% \\\\\n",
      "GR-I    &     0.0\\% &          45.2\\% &            3.3\\% &     8.9\\% &       1.0\\% &   16.1\\% & 25.5\\% \\\\\n",
      "\\bottomrule\n",
      "\\end{tabular}\n",
      "\n"
     ]
    }
   ],
   "source": [
    "print((book_counts.divide(book_counts.sum(axis=1), axis=0) * 100).to_latex(float_format='%.1f%%'))"
   ]
  },
  {
   "cell_type": "markdown",
   "metadata": {
    "papermill": {
     "duration": 0.038002,
     "end_time": "2020-09-17T22:28:35.279508",
     "exception": false,
     "start_time": "2020-09-17T22:28:35.241506",
     "status": "completed"
    },
    "tags": []
   },
   "source": [
    "To facilitate plotting, we need to do a few more transformations:\n",
    "\n",
    "1. Shift into a tall format with a `Scope`\n",
    "2. Convert counts to percents\n",
    "3. Drop the LOC Ratings, because it is meaningless"
   ]
  },
  {
   "cell_type": "code",
   "execution_count": 41,
   "metadata": {
    "execution": {
     "iopub.execute_input": "2020-09-17T22:28:35.362505Z",
     "iopub.status.busy": "2020-09-17T22:28:35.362505Z",
     "iopub.status.idle": "2020-09-17T22:28:35.393492Z",
     "shell.execute_reply": "2020-09-17T22:28:35.393492Z"
    },
    "papermill": {
     "duration": 0.075014,
     "end_time": "2020-09-17T22:28:35.393492",
     "exception": false,
     "start_time": "2020-09-17T22:28:35.318478",
     "status": "completed"
    },
    "tags": []
   },
   "outputs": [
    {
     "data": {
      "text/html": [
       "<div>\n",
       "<style scoped>\n",
       "    .dataframe tbody tr th:only-of-type {\n",
       "        vertical-align: middle;\n",
       "    }\n",
       "\n",
       "    .dataframe tbody tr th {\n",
       "        vertical-align: top;\n",
       "    }\n",
       "\n",
       "    .dataframe thead th {\n",
       "        text-align: right;\n",
       "    }\n",
       "</style>\n",
       "<table border=\"1\" class=\"dataframe\">\n",
       "  <thead>\n",
       "    <tr style=\"text-align: right;\">\n",
       "      <th></th>\n",
       "      <th>DataSet</th>\n",
       "      <th>Scope</th>\n",
       "      <th>Gender</th>\n",
       "      <th>Count</th>\n",
       "      <th>Fraction</th>\n",
       "    </tr>\n",
       "  </thead>\n",
       "  <tbody>\n",
       "    <tr>\n",
       "      <th>0</th>\n",
       "      <td>AZ</td>\n",
       "      <td>Books</td>\n",
       "      <td>UnL</td>\n",
       "      <td>1318683.0</td>\n",
       "      <td>0.581393</td>\n",
       "    </tr>\n",
       "    <tr>\n",
       "      <th>1</th>\n",
       "      <td>AZ</td>\n",
       "      <td>Books</td>\n",
       "      <td>UnK</td>\n",
       "      <td>236219.0</td>\n",
       "      <td>0.104146</td>\n",
       "    </tr>\n",
       "    <tr>\n",
       "      <th>2</th>\n",
       "      <td>AZ</td>\n",
       "      <td>Books</td>\n",
       "      <td>Amb.</td>\n",
       "      <td>17056.0</td>\n",
       "      <td>0.007520</td>\n",
       "    </tr>\n",
       "    <tr>\n",
       "      <th>3</th>\n",
       "      <td>AZ</td>\n",
       "      <td>Books</td>\n",
       "      <td>F</td>\n",
       "      <td>215556.0</td>\n",
       "      <td>0.095036</td>\n",
       "    </tr>\n",
       "    <tr>\n",
       "      <th>4</th>\n",
       "      <td>AZ</td>\n",
       "      <td>Books</td>\n",
       "      <td>M</td>\n",
       "      <td>480628.0</td>\n",
       "      <td>0.211904</td>\n",
       "    </tr>\n",
       "    <tr>\n",
       "      <th>5</th>\n",
       "      <td>AZ</td>\n",
       "      <td>Ratings</td>\n",
       "      <td>UnL</td>\n",
       "      <td>8984419.0</td>\n",
       "      <td>0.400009</td>\n",
       "    </tr>\n",
       "    <tr>\n",
       "      <th>6</th>\n",
       "      <td>AZ</td>\n",
       "      <td>Ratings</td>\n",
       "      <td>UnK</td>\n",
       "      <td>2069787.0</td>\n",
       "      <td>0.092152</td>\n",
       "    </tr>\n",
       "    <tr>\n",
       "      <th>7</th>\n",
       "      <td>AZ</td>\n",
       "      <td>Ratings</td>\n",
       "      <td>Amb.</td>\n",
       "      <td>535239.0</td>\n",
       "      <td>0.023830</td>\n",
       "    </tr>\n",
       "    <tr>\n",
       "      <th>8</th>\n",
       "      <td>AZ</td>\n",
       "      <td>Ratings</td>\n",
       "      <td>F</td>\n",
       "      <td>4313858.0</td>\n",
       "      <td>0.192064</td>\n",
       "    </tr>\n",
       "    <tr>\n",
       "      <th>9</th>\n",
       "      <td>AZ</td>\n",
       "      <td>Ratings</td>\n",
       "      <td>M</td>\n",
       "      <td>6557232.0</td>\n",
       "      <td>0.291945</td>\n",
       "    </tr>\n",
       "    <tr>\n",
       "      <th>10</th>\n",
       "      <td>BX-E</td>\n",
       "      <td>Books</td>\n",
       "      <td>UnL</td>\n",
       "      <td>36757.0</td>\n",
       "      <td>0.242349</td>\n",
       "    </tr>\n",
       "    <tr>\n",
       "      <th>11</th>\n",
       "      <td>BX-E</td>\n",
       "      <td>Books</td>\n",
       "      <td>UnK</td>\n",
       "      <td>16900.0</td>\n",
       "      <td>0.111426</td>\n",
       "    </tr>\n",
       "    <tr>\n",
       "      <th>12</th>\n",
       "      <td>BX-E</td>\n",
       "      <td>Books</td>\n",
       "      <td>Amb.</td>\n",
       "      <td>4014.0</td>\n",
       "      <td>0.026465</td>\n",
       "    </tr>\n",
       "    <tr>\n",
       "      <th>13</th>\n",
       "      <td>BX-E</td>\n",
       "      <td>Books</td>\n",
       "      <td>F</td>\n",
       "      <td>38093.0</td>\n",
       "      <td>0.251157</td>\n",
       "    </tr>\n",
       "    <tr>\n",
       "      <th>14</th>\n",
       "      <td>BX-E</td>\n",
       "      <td>Books</td>\n",
       "      <td>M</td>\n",
       "      <td>55906.0</td>\n",
       "      <td>0.368603</td>\n",
       "    </tr>\n",
       "    <tr>\n",
       "      <th>15</th>\n",
       "      <td>BX-E</td>\n",
       "      <td>Ratings</td>\n",
       "      <td>UnL</td>\n",
       "      <td>45524.0</td>\n",
       "      <td>0.106543</td>\n",
       "    </tr>\n",
       "    <tr>\n",
       "      <th>16</th>\n",
       "      <td>BX-E</td>\n",
       "      <td>Ratings</td>\n",
       "      <td>UnK</td>\n",
       "      <td>27434.0</td>\n",
       "      <td>0.064206</td>\n",
       "    </tr>\n",
       "    <tr>\n",
       "      <th>17</th>\n",
       "      <td>BX-E</td>\n",
       "      <td>Ratings</td>\n",
       "      <td>Amb.</td>\n",
       "      <td>30444.0</td>\n",
       "      <td>0.071250</td>\n",
       "    </tr>\n",
       "    <tr>\n",
       "      <th>18</th>\n",
       "      <td>BX-E</td>\n",
       "      <td>Ratings</td>\n",
       "      <td>F</td>\n",
       "      <td>138827.0</td>\n",
       "      <td>0.324906</td>\n",
       "    </tr>\n",
       "    <tr>\n",
       "      <th>19</th>\n",
       "      <td>BX-E</td>\n",
       "      <td>Ratings</td>\n",
       "      <td>M</td>\n",
       "      <td>185054.0</td>\n",
       "      <td>0.433095</td>\n",
       "    </tr>\n",
       "    <tr>\n",
       "      <th>20</th>\n",
       "      <td>BX-I</td>\n",
       "      <td>Books</td>\n",
       "      <td>UnL</td>\n",
       "      <td>74097.0</td>\n",
       "      <td>0.265105</td>\n",
       "    </tr>\n",
       "    <tr>\n",
       "      <th>21</th>\n",
       "      <td>BX-I</td>\n",
       "      <td>Books</td>\n",
       "      <td>UnK</td>\n",
       "      <td>34614.0</td>\n",
       "      <td>0.123842</td>\n",
       "    </tr>\n",
       "    <tr>\n",
       "      <th>22</th>\n",
       "      <td>BX-I</td>\n",
       "      <td>Books</td>\n",
       "      <td>Amb.</td>\n",
       "      <td>6770.0</td>\n",
       "      <td>0.024222</td>\n",
       "    </tr>\n",
       "    <tr>\n",
       "      <th>23</th>\n",
       "      <td>BX-I</td>\n",
       "      <td>Books</td>\n",
       "      <td>F</td>\n",
       "      <td>67087.0</td>\n",
       "      <td>0.240024</td>\n",
       "    </tr>\n",
       "    <tr>\n",
       "      <th>24</th>\n",
       "      <td>BX-I</td>\n",
       "      <td>Books</td>\n",
       "      <td>M</td>\n",
       "      <td>96933.0</td>\n",
       "      <td>0.346807</td>\n",
       "    </tr>\n",
       "    <tr>\n",
       "      <th>25</th>\n",
       "      <td>BX-I</td>\n",
       "      <td>Ratings</td>\n",
       "      <td>UnL</td>\n",
       "      <td>116297.0</td>\n",
       "      <td>0.102935</td>\n",
       "    </tr>\n",
       "    <tr>\n",
       "      <th>26</th>\n",
       "      <td>BX-I</td>\n",
       "      <td>Ratings</td>\n",
       "      <td>UnK</td>\n",
       "      <td>77892.0</td>\n",
       "      <td>0.068942</td>\n",
       "    </tr>\n",
       "    <tr>\n",
       "      <th>27</th>\n",
       "      <td>BX-I</td>\n",
       "      <td>Ratings</td>\n",
       "      <td>Amb.</td>\n",
       "      <td>76294.0</td>\n",
       "      <td>0.067528</td>\n",
       "    </tr>\n",
       "    <tr>\n",
       "      <th>28</th>\n",
       "      <td>BX-I</td>\n",
       "      <td>Ratings</td>\n",
       "      <td>F</td>\n",
       "      <td>391728.0</td>\n",
       "      <td>0.346719</td>\n",
       "    </tr>\n",
       "    <tr>\n",
       "      <th>29</th>\n",
       "      <td>BX-I</td>\n",
       "      <td>Ratings</td>\n",
       "      <td>M</td>\n",
       "      <td>467603.0</td>\n",
       "      <td>0.413876</td>\n",
       "    </tr>\n",
       "    <tr>\n",
       "      <th>30</th>\n",
       "      <td>GR-E</td>\n",
       "      <td>Books</td>\n",
       "      <td>UnL</td>\n",
       "      <td>522762.0</td>\n",
       "      <td>0.483691</td>\n",
       "    </tr>\n",
       "    <tr>\n",
       "      <th>31</th>\n",
       "      <td>GR-E</td>\n",
       "      <td>Books</td>\n",
       "      <td>UnK</td>\n",
       "      <td>95887.0</td>\n",
       "      <td>0.088720</td>\n",
       "    </tr>\n",
       "    <tr>\n",
       "      <th>32</th>\n",
       "      <td>GR-E</td>\n",
       "      <td>Books</td>\n",
       "      <td>Amb.</td>\n",
       "      <td>11087.0</td>\n",
       "      <td>0.010258</td>\n",
       "    </tr>\n",
       "    <tr>\n",
       "      <th>33</th>\n",
       "      <td>GR-E</td>\n",
       "      <td>Books</td>\n",
       "      <td>F</td>\n",
       "      <td>174996.0</td>\n",
       "      <td>0.161917</td>\n",
       "    </tr>\n",
       "    <tr>\n",
       "      <th>34</th>\n",
       "      <td>GR-E</td>\n",
       "      <td>Books</td>\n",
       "      <td>M</td>\n",
       "      <td>276045.0</td>\n",
       "      <td>0.255413</td>\n",
       "    </tr>\n",
       "    <tr>\n",
       "      <th>35</th>\n",
       "      <td>GR-E</td>\n",
       "      <td>Ratings</td>\n",
       "      <td>UnL</td>\n",
       "      <td>8605504.0</td>\n",
       "      <td>0.099442</td>\n",
       "    </tr>\n",
       "    <tr>\n",
       "      <th>36</th>\n",
       "      <td>GR-E</td>\n",
       "      <td>Ratings</td>\n",
       "      <td>UnK</td>\n",
       "      <td>3598667.0</td>\n",
       "      <td>0.041585</td>\n",
       "    </tr>\n",
       "    <tr>\n",
       "      <th>37</th>\n",
       "      <td>GR-E</td>\n",
       "      <td>Ratings</td>\n",
       "      <td>Amb.</td>\n",
       "      <td>8346632.0</td>\n",
       "      <td>0.096451</td>\n",
       "    </tr>\n",
       "    <tr>\n",
       "      <th>38</th>\n",
       "      <td>GR-E</td>\n",
       "      <td>Ratings</td>\n",
       "      <td>F</td>\n",
       "      <td>32348714.0</td>\n",
       "      <td>0.373811</td>\n",
       "    </tr>\n",
       "    <tr>\n",
       "      <th>39</th>\n",
       "      <td>GR-E</td>\n",
       "      <td>Ratings</td>\n",
       "      <td>M</td>\n",
       "      <td>33638049.0</td>\n",
       "      <td>0.388710</td>\n",
       "    </tr>\n",
       "    <tr>\n",
       "      <th>40</th>\n",
       "      <td>GR-I</td>\n",
       "      <td>Books</td>\n",
       "      <td>UnL</td>\n",
       "      <td>531698.0</td>\n",
       "      <td>0.484845</td>\n",
       "    </tr>\n",
       "    <tr>\n",
       "      <th>41</th>\n",
       "      <td>GR-I</td>\n",
       "      <td>Books</td>\n",
       "      <td>UnK</td>\n",
       "      <td>97667.0</td>\n",
       "      <td>0.089061</td>\n",
       "    </tr>\n",
       "    <tr>\n",
       "      <th>42</th>\n",
       "      <td>GR-I</td>\n",
       "      <td>Books</td>\n",
       "      <td>Amb.</td>\n",
       "      <td>11189.0</td>\n",
       "      <td>0.010203</td>\n",
       "    </tr>\n",
       "    <tr>\n",
       "      <th>43</th>\n",
       "      <td>GR-I</td>\n",
       "      <td>Books</td>\n",
       "      <td>F</td>\n",
       "      <td>176640.0</td>\n",
       "      <td>0.161074</td>\n",
       "    </tr>\n",
       "    <tr>\n",
       "      <th>44</th>\n",
       "      <td>GR-I</td>\n",
       "      <td>Books</td>\n",
       "      <td>M</td>\n",
       "      <td>279442.0</td>\n",
       "      <td>0.254817</td>\n",
       "    </tr>\n",
       "    <tr>\n",
       "      <th>45</th>\n",
       "      <td>GR-I</td>\n",
       "      <td>Ratings</td>\n",
       "      <td>UnL</td>\n",
       "      <td>26200849.0</td>\n",
       "      <td>0.138670</td>\n",
       "    </tr>\n",
       "    <tr>\n",
       "      <th>46</th>\n",
       "      <td>GR-I</td>\n",
       "      <td>Ratings</td>\n",
       "      <td>UnK</td>\n",
       "      <td>9640560.0</td>\n",
       "      <td>0.051024</td>\n",
       "    </tr>\n",
       "    <tr>\n",
       "      <th>47</th>\n",
       "      <td>GR-I</td>\n",
       "      <td>Ratings</td>\n",
       "      <td>Amb.</td>\n",
       "      <td>13491116.0</td>\n",
       "      <td>0.071403</td>\n",
       "    </tr>\n",
       "    <tr>\n",
       "      <th>48</th>\n",
       "      <td>GR-I</td>\n",
       "      <td>Ratings</td>\n",
       "      <td>F</td>\n",
       "      <td>71070367.0</td>\n",
       "      <td>0.376147</td>\n",
       "    </tr>\n",
       "    <tr>\n",
       "      <th>49</th>\n",
       "      <td>GR-I</td>\n",
       "      <td>Ratings</td>\n",
       "      <td>M</td>\n",
       "      <td>68540386.0</td>\n",
       "      <td>0.362756</td>\n",
       "    </tr>\n",
       "    <tr>\n",
       "      <th>50</th>\n",
       "      <td>LOC</td>\n",
       "      <td>Books</td>\n",
       "      <td>UnL</td>\n",
       "      <td>1140160.0</td>\n",
       "      <td>0.216459</td>\n",
       "    </tr>\n",
       "    <tr>\n",
       "      <th>51</th>\n",
       "      <td>LOC</td>\n",
       "      <td>Books</td>\n",
       "      <td>UnK</td>\n",
       "      <td>1214597.0</td>\n",
       "      <td>0.230591</td>\n",
       "    </tr>\n",
       "    <tr>\n",
       "      <th>52</th>\n",
       "      <td>LOC</td>\n",
       "      <td>Books</td>\n",
       "      <td>Amb.</td>\n",
       "      <td>53232.0</td>\n",
       "      <td>0.010106</td>\n",
       "    </tr>\n",
       "    <tr>\n",
       "      <th>53</th>\n",
       "      <td>LOC</td>\n",
       "      <td>Books</td>\n",
       "      <td>F</td>\n",
       "      <td>664221.0</td>\n",
       "      <td>0.126102</td>\n",
       "    </tr>\n",
       "    <tr>\n",
       "      <th>54</th>\n",
       "      <td>LOC</td>\n",
       "      <td>Books</td>\n",
       "      <td>M</td>\n",
       "      <td>2195117.0</td>\n",
       "      <td>0.416742</td>\n",
       "    </tr>\n",
       "  </tbody>\n",
       "</table>\n",
       "</div>"
      ],
      "text/plain": [
       "   DataSet    Scope Gender       Count  Fraction\n",
       "0       AZ    Books    UnL   1318683.0  0.581393\n",
       "1       AZ    Books    UnK    236219.0  0.104146\n",
       "2       AZ    Books   Amb.     17056.0  0.007520\n",
       "3       AZ    Books      F    215556.0  0.095036\n",
       "4       AZ    Books      M    480628.0  0.211904\n",
       "5       AZ  Ratings    UnL   8984419.0  0.400009\n",
       "6       AZ  Ratings    UnK   2069787.0  0.092152\n",
       "7       AZ  Ratings   Amb.    535239.0  0.023830\n",
       "8       AZ  Ratings      F   4313858.0  0.192064\n",
       "9       AZ  Ratings      M   6557232.0  0.291945\n",
       "10    BX-E    Books    UnL     36757.0  0.242349\n",
       "11    BX-E    Books    UnK     16900.0  0.111426\n",
       "12    BX-E    Books   Amb.      4014.0  0.026465\n",
       "13    BX-E    Books      F     38093.0  0.251157\n",
       "14    BX-E    Books      M     55906.0  0.368603\n",
       "15    BX-E  Ratings    UnL     45524.0  0.106543\n",
       "16    BX-E  Ratings    UnK     27434.0  0.064206\n",
       "17    BX-E  Ratings   Amb.     30444.0  0.071250\n",
       "18    BX-E  Ratings      F    138827.0  0.324906\n",
       "19    BX-E  Ratings      M    185054.0  0.433095\n",
       "20    BX-I    Books    UnL     74097.0  0.265105\n",
       "21    BX-I    Books    UnK     34614.0  0.123842\n",
       "22    BX-I    Books   Amb.      6770.0  0.024222\n",
       "23    BX-I    Books      F     67087.0  0.240024\n",
       "24    BX-I    Books      M     96933.0  0.346807\n",
       "25    BX-I  Ratings    UnL    116297.0  0.102935\n",
       "26    BX-I  Ratings    UnK     77892.0  0.068942\n",
       "27    BX-I  Ratings   Amb.     76294.0  0.067528\n",
       "28    BX-I  Ratings      F    391728.0  0.346719\n",
       "29    BX-I  Ratings      M    467603.0  0.413876\n",
       "30    GR-E    Books    UnL    522762.0  0.483691\n",
       "31    GR-E    Books    UnK     95887.0  0.088720\n",
       "32    GR-E    Books   Amb.     11087.0  0.010258\n",
       "33    GR-E    Books      F    174996.0  0.161917\n",
       "34    GR-E    Books      M    276045.0  0.255413\n",
       "35    GR-E  Ratings    UnL   8605504.0  0.099442\n",
       "36    GR-E  Ratings    UnK   3598667.0  0.041585\n",
       "37    GR-E  Ratings   Amb.   8346632.0  0.096451\n",
       "38    GR-E  Ratings      F  32348714.0  0.373811\n",
       "39    GR-E  Ratings      M  33638049.0  0.388710\n",
       "40    GR-I    Books    UnL    531698.0  0.484845\n",
       "41    GR-I    Books    UnK     97667.0  0.089061\n",
       "42    GR-I    Books   Amb.     11189.0  0.010203\n",
       "43    GR-I    Books      F    176640.0  0.161074\n",
       "44    GR-I    Books      M    279442.0  0.254817\n",
       "45    GR-I  Ratings    UnL  26200849.0  0.138670\n",
       "46    GR-I  Ratings    UnK   9640560.0  0.051024\n",
       "47    GR-I  Ratings   Amb.  13491116.0  0.071403\n",
       "48    GR-I  Ratings      F  71070367.0  0.376147\n",
       "49    GR-I  Ratings      M  68540386.0  0.362756\n",
       "50     LOC    Books    UnL   1140160.0  0.216459\n",
       "51     LOC    Books    UnK   1214597.0  0.230591\n",
       "52     LOC    Books   Amb.     53232.0  0.010106\n",
       "53     LOC    Books      F    664221.0  0.126102\n",
       "54     LOC    Books      M   2195117.0  0.416742"
      ]
     },
     "execution_count": 41,
     "metadata": {},
     "output_type": "execute_result"
    }
   ],
   "source": [
    "gs_tall = pd.DataFrame({'Count': gender_stats.stack()})\n",
    "gs_tall.index.rename(['DataSet', 'Gender', 'Scope'], inplace=True)\n",
    "gs_tall = gs_tall.reorder_levels(['DataSet', 'Scope', 'Gender']).sort_index()\n",
    "gs_tall['Fraction'] = gs_tall['Count'] / gs_tall.groupby(level=['DataSet', 'Scope'])['Count'].sum()\n",
    "gs_tall.drop(('LOC', 'Ratings'), inplace=True)\n",
    "gs_tall.sort_index(inplace=True)\n",
    "gs_tall.reset_index(inplace=True)\n",
    "gs_tall['Gender'].cat.rename_categories({\n",
    "    'female': 'F',\n",
    "    'male': 'M',\n",
    "    'ambiguous': 'Amb.',\n",
    "    'unknown': 'UnK',\n",
    "    'unlinked': 'UnL'\n",
    "}, inplace=True)\n",
    "gs_tall['Gender'].cat.reorder_categories([\n",
    "    'F',\n",
    "    'M',\n",
    "    'Amb.',\n",
    "    'UnK',\n",
    "    'UnL'\n",
    "], inplace=True)\n",
    "gs_tall['DataSet'] = gs_tall['DataSet'].astype('category')\n",
    "gs_tall['DataSet'].cat.reorder_categories(['LOC', 'AZ', 'BX-I', 'BX-E', 'GR-I', 'GR-E'], inplace=True)\n",
    "gs_tall"
   ]
  },
  {
   "cell_type": "markdown",
   "metadata": {
    "papermill": {
     "duration": 0.058565,
     "end_time": "2020-09-17T22:28:35.492053",
     "exception": false,
     "start_time": "2020-09-17T22:28:35.433488",
     "status": "completed"
    },
    "tags": []
   },
   "source": [
    "Finally, we can plot it:"
   ]
  },
  {
   "cell_type": "code",
   "execution_count": 42,
   "metadata": {
    "execution": {
     "iopub.execute_input": "2020-09-17T22:28:35.580089Z",
     "iopub.status.busy": "2020-09-17T22:28:35.579081Z",
     "iopub.status.idle": "2020-09-17T22:28:36.353037Z",
     "shell.execute_reply": "2020-09-17T22:28:36.352052Z"
    },
    "papermill": {
     "duration": 0.823955,
     "end_time": "2020-09-17T22:28:36.353037",
     "exception": false,
     "start_time": "2020-09-17T22:28:35.529082",
     "status": "completed"
    },
    "tags": []
   },
   "outputs": [
    {
     "data": {
      "text/plain": [
       "<seaborn.axisgrid.FacetGrid at 0x1690246f088>"
      ]
     },
     "execution_count": 42,
     "metadata": {},
     "output_type": "execute_result"
    },
    {
     "data": {
      "image/png": "[encoded data removed]",
      "text/plain": [
       "<Figure size 649.5x432 with 6 Axes>"
      ]
     },
     "metadata": {
      "needs_background": "light"
     },
     "output_type": "display_data"
    }
   ],
   "source": [
    "sns.catplot(x='Gender', y='Fraction', col='DataSet', col_wrap=2, hue='Scope',\n",
    "            data=gs_tall.reset_index(),\n",
    "            kind='bar', sharey=False, height=2, aspect=2)"
   ]
  },
  {
   "cell_type": "markdown",
   "metadata": {
    "papermill": {
     "duration": 0.038974,
     "end_time": "2020-09-17T22:28:36.432036",
     "exception": false,
     "start_time": "2020-09-17T22:28:36.393062",
     "status": "completed"
    },
    "tags": []
   },
   "source": [
    "Manual plotting logic for the paper:"
   ]
  },
  {
   "cell_type": "code",
   "execution_count": 43,
   "metadata": {
    "execution": {
     "iopub.execute_input": "2020-09-17T22:28:36.524046Z",
     "iopub.status.busy": "2020-09-17T22:28:36.522033Z",
     "iopub.status.idle": "2020-09-17T22:28:41.515963Z",
     "shell.execute_reply": "2020-09-17T22:28:41.515963Z"
    },
    "papermill": {
     "duration": 5.044928,
     "end_time": "2020-09-17T22:28:41.515963",
     "exception": false,
     "start_time": "2020-09-17T22:28:36.471035",
     "status": "completed"
    },
    "tags": []
   },
   "outputs": [
    {
     "name": "stderr",
     "output_type": "stream",
     "text": [
      "D:\\Research\\book-rec-fairness\\bookgender\\nbutils.py:39: UserWarning: file has suffix, ignoring\n",
      "C:\\Users\\michaelekstrand\\Anaconda3\\envs\\bookfair\\lib\\site-packages\\plotnine\\ggplot.py:729: PlotnineWarning: Saving 7 x 4.5 in image.\n",
      "C:\\Users\\michaelekstrand\\Anaconda3\\envs\\bookfair\\lib\\site-packages\\plotnine\\ggplot.py:730: PlotnineWarning: Filename: figures\\DataSummary\\link-stats.pdf\n"
     ]
    },
    {
     "name": "stderr",
     "output_type": "stream",
     "text": [
      "C:\\Users\\michaelekstrand\\Anaconda3\\envs\\bookfair\\lib\\site-packages\\plotnine\\ggplot.py:729: PlotnineWarning: Saving 7 x 4.5 in image.\n",
      "C:\\Users\\michaelekstrand\\Anaconda3\\envs\\bookfair\\lib\\site-packages\\plotnine\\ggplot.py:730: PlotnineWarning: Filename: figures\\DataSummary\\link-stats.png\n"
     ]
    },
    {
     "data": {
      "image/png": "[encoded data removed]",
      "text/plain": [
       "<Figure size 640x480 with 6 Axes>"
      ]
     },
     "metadata": {
      "needs_background": "light"
     },
     "output_type": "display_data"
    },
    {
     "data": {
      "text/plain": [
       "<ggplot: (-9223371939947189592)>"
      ]
     },
     "execution_count": 43,
     "metadata": {},
     "output_type": "execute_result"
    }
   ],
   "source": [
    "make_plot(gs_tall, p.aes('Gender', 'Fraction', fill='Scope'),\n",
    "    p.geom_bar(stat='identity', position='dodge'),\n",
    "    p.geom_text(p.aes(label='Fraction*100'), format_string='{:.1f}%', size=5, \n",
    "                position=p.position_dodge(width=1), va='bottom'),\n",
    "    p.facet_wrap('~DataSet', ncol=2),\n",
    "    p.scale_fill_brewer('qual', 'Dark2'),\n",
    "    p.scale_y_continuous(labels=lbl_pct),\n",
    "    p.ylab('% of Books or Ratings'),\n",
    "    legend_position='top', legend_title=p.element_blank(),\n",
    "    file='link-stats.pdf', width=7, height=4.5)"
   ]
  },
  {
   "cell_type": "markdown",
   "metadata": {
    "papermill": {
     "duration": 0.041997,
     "end_time": "2020-09-17T22:28:41.598945",
     "exception": false,
     "start_time": "2020-09-17T22:28:41.556948",
     "status": "completed"
    },
    "tags": []
   },
   "source": [
    "Known-gender books:"
   ]
  },
  {
   "cell_type": "code",
   "execution_count": 44,
   "metadata": {
    "execution": {
     "iopub.execute_input": "2020-09-17T22:28:41.693943Z",
     "iopub.status.busy": "2020-09-17T22:28:41.686944Z",
     "iopub.status.idle": "2020-09-17T22:28:41.700954Z",
     "shell.execute_reply": "2020-09-17T22:28:41.700954Z"
    },
    "papermill": {
     "duration": 0.060009,
     "end_time": "2020-09-17T22:28:41.700954",
     "exception": false,
     "start_time": "2020-09-17T22:28:41.640945",
     "status": "completed"
    },
    "tags": []
   },
   "outputs": [
    {
     "data": {
      "text/html": [
       "<div>\n",
       "<style scoped>\n",
       "    .dataframe tbody tr th:only-of-type {\n",
       "        vertical-align: middle;\n",
       "    }\n",
       "\n",
       "    .dataframe tbody tr th {\n",
       "        vertical-align: top;\n",
       "    }\n",
       "\n",
       "    .dataframe thead th {\n",
       "        text-align: right;\n",
       "    }\n",
       "</style>\n",
       "<table border=\"1\" class=\"dataframe\">\n",
       "  <thead>\n",
       "    <tr style=\"text-align: right;\">\n",
       "      <th>gender_status</th>\n",
       "      <th>male</th>\n",
       "      <th>female</th>\n",
       "    </tr>\n",
       "    <tr>\n",
       "      <th>DataSet</th>\n",
       "      <th></th>\n",
       "      <th></th>\n",
       "    </tr>\n",
       "  </thead>\n",
       "  <tbody>\n",
       "    <tr>\n",
       "      <th>LOC</th>\n",
       "      <td>0.767701</td>\n",
       "      <td>0.232299</td>\n",
       "    </tr>\n",
       "    <tr>\n",
       "      <th>AZ</th>\n",
       "      <td>0.690375</td>\n",
       "      <td>0.309625</td>\n",
       "    </tr>\n",
       "    <tr>\n",
       "      <th>BX-I</th>\n",
       "      <td>0.590983</td>\n",
       "      <td>0.409017</td>\n",
       "    </tr>\n",
       "    <tr>\n",
       "      <th>GR-I</th>\n",
       "      <td>0.612701</td>\n",
       "      <td>0.387299</td>\n",
       "    </tr>\n",
       "  </tbody>\n",
       "</table>\n",
       "</div>"
      ],
      "text/plain": [
       "gender_status      male    female\n",
       "DataSet                          \n",
       "LOC            0.767701  0.232299\n",
       "AZ             0.690375  0.309625\n",
       "BX-I           0.590983  0.409017\n",
       "GR-I           0.612701  0.387299"
      ]
     },
     "execution_count": 44,
     "metadata": {},
     "output_type": "execute_result"
    }
   ],
   "source": [
    "k_bc = book_counts[['male', 'female']]\n",
    "k_bf = k_bc.divide(k_bc.sum(axis=1), axis=0)\n",
    "k_bf = k_bf.loc[['LOC', 'AZ', 'BX-I', 'GR-I']]\n",
    "k_bf"
   ]
  },
  {
   "cell_type": "code",
   "execution_count": 45,
   "metadata": {
    "execution": {
     "iopub.execute_input": "2020-09-17T22:28:41.788941Z",
     "iopub.status.busy": "2020-09-17T22:28:41.787942Z",
     "iopub.status.idle": "2020-09-17T22:28:41.796942Z",
     "shell.execute_reply": "2020-09-17T22:28:41.795942Z"
    },
    "papermill": {
     "duration": 0.054999,
     "end_time": "2020-09-17T22:28:41.796942",
     "exception": false,
     "start_time": "2020-09-17T22:28:41.741943",
     "status": "completed"
    },
    "tags": []
   },
   "outputs": [
    {
     "name": "stdout",
     "output_type": "stream",
     "text": [
      "\\begin{tabular}{lrr}\n",
      "\\toprule\n",
      "gender\\_status &  male &  female \\\\\n",
      "DataSet &       &         \\\\\n",
      "\\midrule\n",
      "LOC     & 76.8\\% &   23.2\\% \\\\\n",
      "AZ      & 69.0\\% &   31.0\\% \\\\\n",
      "BX-I    & 59.1\\% &   40.9\\% \\\\\n",
      "GR-I    & 61.3\\% &   38.7\\% \\\\\n",
      "\\bottomrule\n",
      "\\end{tabular}\n",
      "\n"
     ]
    }
   ],
   "source": [
    "print((k_bf * 100).to_latex(float_format='%.1f%%'))"
   ]
  },
  {
   "cell_type": "code",
   "execution_count": 46,
   "metadata": {
    "execution": {
     "iopub.execute_input": "2020-09-17T22:28:41.885940Z",
     "iopub.status.busy": "2020-09-17T22:28:41.882940Z",
     "iopub.status.idle": "2020-09-17T22:28:41.888941Z",
     "shell.execute_reply": "2020-09-17T22:28:41.889951Z"
    },
    "papermill": {
     "duration": 0.051007,
     "end_time": "2020-09-17T22:28:41.889951",
     "exception": false,
     "start_time": "2020-09-17T22:28:41.838944",
     "status": "completed"
    },
    "tags": []
   },
   "outputs": [],
   "source": [
    "k_bf.columns = k_bf.columns.astype('str')\n",
    "k_bft = k_bf.reset_index().melt(id_vars='DataSet', var_name='gender')\n",
    "k_bft['gender'] = k_bft.gender.astype('category').cat.reorder_categories(['male', 'female'])\n",
    "k_bft['DataSet'] = k_bft.DataSet.astype('category').cat.reorder_categories(['LOC', 'AZ', 'BX-I', 'GR-I'])"
   ]
  },
  {
   "cell_type": "code",
   "execution_count": 47,
   "metadata": {
    "execution": {
     "iopub.execute_input": "2020-09-17T22:28:42.005965Z",
     "iopub.status.busy": "2020-09-17T22:28:41.994938Z",
     "iopub.status.idle": "2020-09-17T22:28:42.577955Z",
     "shell.execute_reply": "2020-09-17T22:28:42.577955Z"
    },
    "papermill": {
     "duration": 0.637015,
     "end_time": "2020-09-17T22:28:42.577955",
     "exception": false,
     "start_time": "2020-09-17T22:28:41.940940",
     "status": "completed"
    },
    "tags": []
   },
   "outputs": [
    {
     "name": "stderr",
     "output_type": "stream",
     "text": [
      "D:\\Research\\book-rec-fairness\\bookgender\\nbutils.py:39: UserWarning: file has suffix, ignoring\n",
      "C:\\Users\\michaelekstrand\\Anaconda3\\envs\\bookfair\\lib\\site-packages\\plotnine\\ggplot.py:729: PlotnineWarning: Saving 4 x 2.5 in image.\n",
      "C:\\Users\\michaelekstrand\\Anaconda3\\envs\\bookfair\\lib\\site-packages\\plotnine\\ggplot.py:730: PlotnineWarning: Filename: figures\\DataSummary\\frac-known-books.pdf\n",
      "C:\\Users\\michaelekstrand\\Anaconda3\\envs\\bookfair\\lib\\site-packages\\plotnine\\ggplot.py:729: PlotnineWarning: Saving 4 x 2.5 in image.\n",
      "C:\\Users\\michaelekstrand\\Anaconda3\\envs\\bookfair\\lib\\site-packages\\plotnine\\ggplot.py:730: PlotnineWarning: Filename: figures\\DataSummary\\frac-known-books.png\n"
     ]
    },
    {
     "data": {
      "image/png": "[encoded data removed]",
      "text/plain": [
       "<Figure size 640x480 with 1 Axes>"
      ]
     },
     "metadata": {
      "needs_background": "light"
     },
     "output_type": "display_data"
    },
    {
     "data": {
      "text/plain": [
       "<ggplot: (-9223371939936570724)>"
      ]
     },
     "execution_count": 47,
     "metadata": {},
     "output_type": "execute_result"
    }
   ],
   "source": [
    "make_plot(k_bft, p.aes('DataSet', 'value', fill='gender'),\n",
    "          p.geom_bar(stat='identity'),\n",
    "          p.scale_fill_brewer('qual', 'Dark2'),\n",
    "          p.labs(x='Data Set', y='% of Books', fill='Gender'),\n",
    "          p.scale_y_continuous(labels=lbl_pct),\n",
    "          file='frac-known-books.pdf', width=4, height=2.5)"
   ]
  },
  {
   "cell_type": "markdown",
   "metadata": {
    "papermill": {
     "duration": 0.047975,
     "end_time": "2020-09-17T22:28:42.679930",
     "exception": false,
     "start_time": "2020-09-17T22:28:42.631955",
     "status": "completed"
    },
    "tags": []
   },
   "source": [
    "And do that again for ratings."
   ]
  },
  {
   "cell_type": "code",
   "execution_count": 48,
   "metadata": {
    "execution": {
     "iopub.execute_input": "2020-09-17T22:28:42.774959Z",
     "iopub.status.busy": "2020-09-17T22:28:42.773957Z",
     "iopub.status.idle": "2020-09-17T22:28:42.783933Z",
     "shell.execute_reply": "2020-09-17T22:28:42.783933Z"
    },
    "papermill": {
     "duration": 0.061005,
     "end_time": "2020-09-17T22:28:42.783933",
     "exception": false,
     "start_time": "2020-09-17T22:28:42.722928",
     "status": "completed"
    },
    "scrolled": true,
    "tags": []
   },
   "outputs": [
    {
     "data": {
      "text/html": [
       "<div>\n",
       "<style scoped>\n",
       "    .dataframe tbody tr th:only-of-type {\n",
       "        vertical-align: middle;\n",
       "    }\n",
       "\n",
       "    .dataframe tbody tr th {\n",
       "        vertical-align: top;\n",
       "    }\n",
       "\n",
       "    .dataframe thead th {\n",
       "        text-align: right;\n",
       "    }\n",
       "</style>\n",
       "<table border=\"1\" class=\"dataframe\">\n",
       "  <thead>\n",
       "    <tr style=\"text-align: right;\">\n",
       "      <th>gender_status</th>\n",
       "      <th>male</th>\n",
       "      <th>female</th>\n",
       "    </tr>\n",
       "    <tr>\n",
       "      <th>DataSet</th>\n",
       "      <th></th>\n",
       "      <th></th>\n",
       "    </tr>\n",
       "  </thead>\n",
       "  <tbody>\n",
       "    <tr>\n",
       "      <th>AZ</th>\n",
       "      <td>0.603181</td>\n",
       "      <td>0.396819</td>\n",
       "    </tr>\n",
       "    <tr>\n",
       "      <th>BX-E</th>\n",
       "      <td>0.571364</td>\n",
       "      <td>0.428636</td>\n",
       "    </tr>\n",
       "    <tr>\n",
       "      <th>BX-I</th>\n",
       "      <td>0.544148</td>\n",
       "      <td>0.455852</td>\n",
       "    </tr>\n",
       "    <tr>\n",
       "      <th>GR-E</th>\n",
       "      <td>0.509770</td>\n",
       "      <td>0.490230</td>\n",
       "    </tr>\n",
       "    <tr>\n",
       "      <th>GR-I</th>\n",
       "      <td>0.490939</td>\n",
       "      <td>0.509061</td>\n",
       "    </tr>\n",
       "  </tbody>\n",
       "</table>\n",
       "</div>"
      ],
      "text/plain": [
       "gender_status      male    female\n",
       "DataSet                          \n",
       "AZ             0.603181  0.396819\n",
       "BX-E           0.571364  0.428636\n",
       "BX-I           0.544148  0.455852\n",
       "GR-E           0.509770  0.490230\n",
       "GR-I           0.490939  0.509061"
      ]
     },
     "execution_count": 48,
     "metadata": {},
     "output_type": "execute_result"
    }
   ],
   "source": [
    "rate_counts = full_stats['Ratings'].unstack()\n",
    "k_rc = rate_counts[['male', 'female']]\n",
    "k_rf = k_rc.divide(k_rc.sum(axis=1), axis=0)\n",
    "k_rf = k_rf.loc[datasets]\n",
    "k_rf"
   ]
  },
  {
   "cell_type": "code",
   "execution_count": 49,
   "metadata": {
    "execution": {
     "iopub.execute_input": "2020-09-17T22:28:42.872922Z",
     "iopub.status.busy": "2020-09-17T22:28:42.868923Z",
     "iopub.status.idle": "2020-09-17T22:28:42.893922Z",
     "shell.execute_reply": "2020-09-17T22:28:42.894922Z"
    },
    "papermill": {
     "duration": 0.069967,
     "end_time": "2020-09-17T22:28:42.894922",
     "exception": false,
     "start_time": "2020-09-17T22:28:42.824955",
     "status": "completed"
    },
    "scrolled": true,
    "tags": []
   },
   "outputs": [
    {
     "name": "stdout",
     "output_type": "stream",
     "text": [
      "\\begin{tabular}{lrrrr}\n",
      "\\toprule\n",
      "{} & \\multicolumn{2}{l}{Books} & \\multicolumn{2}{l}{Ratings} \\\\\n",
      "gender\\_status & female &  male &  female &  male \\\\\n",
      "DataSet &        &       &         &       \\\\\n",
      "\\midrule\n",
      "LOC     &  23.2\\% & 76.8\\% &   23.2\\% & 76.8\\% \\\\\n",
      "AZ      &  31.0\\% & 69.0\\% &   39.7\\% & 60.3\\% \\\\\n",
      "BX-E    &  40.5\\% & 59.5\\% &   42.9\\% & 57.1\\% \\\\\n",
      "BX-I    &  40.9\\% & 59.1\\% &   45.6\\% & 54.4\\% \\\\\n",
      "GR-E    &  38.8\\% & 61.2\\% &   49.0\\% & 51.0\\% \\\\\n",
      "GR-I    &  38.7\\% & 61.3\\% &   50.9\\% & 49.1\\% \\\\\n",
      "\\bottomrule\n",
      "\\end{tabular}\n",
      "\n"
     ]
    }
   ],
   "source": [
    "all_cts = full_stats.reorder_levels([1,0]).loc[['male', 'female']].reorder_levels([1,0]).unstack()\n",
    "all_cts.sort_index(axis=1, inplace=True)\n",
    "print(all_cts.divide(all_cts.sum(axis=1, level=0), axis=0, level=0).to_latex(float_format=lambda f: '{:.1f}%'.format(f*100)))"
   ]
  },
  {
   "cell_type": "code",
   "execution_count": 50,
   "metadata": {
    "execution": {
     "iopub.execute_input": "2020-09-17T22:28:43.013954Z",
     "iopub.status.busy": "2020-09-17T22:28:43.007921Z",
     "iopub.status.idle": "2020-09-17T22:28:43.019925Z",
     "shell.execute_reply": "2020-09-17T22:28:43.019925Z"
    },
    "papermill": {
     "duration": 0.063003,
     "end_time": "2020-09-17T22:28:43.019925",
     "exception": false,
     "start_time": "2020-09-17T22:28:42.956922",
     "status": "completed"
    },
    "tags": []
   },
   "outputs": [],
   "source": [
    "k_rf.columns = k_rf.columns.astype('str')\n",
    "k_rft = k_rf.reset_index().melt(id_vars='DataSet', var_name='gender')\n",
    "k_rft['gender'] = k_rft.gender.astype('category').cat.reorder_categories(['male', 'female'])\n",
    "k_rft['DataSet'] = k_rft.DataSet.astype('category').cat.reorder_categories(datasets)"
   ]
  },
  {
   "cell_type": "code",
   "execution_count": 51,
   "metadata": {
    "execution": {
     "iopub.execute_input": "2020-09-17T22:28:43.114922Z",
     "iopub.status.busy": "2020-09-17T22:28:43.113920Z",
     "iopub.status.idle": "2020-09-17T22:28:43.781907Z",
     "shell.execute_reply": "2020-09-17T22:28:43.781907Z"
    },
    "papermill": {
     "duration": 0.717984,
     "end_time": "2020-09-17T22:28:43.781907",
     "exception": false,
     "start_time": "2020-09-17T22:28:43.063923",
     "status": "completed"
    },
    "tags": []
   },
   "outputs": [
    {
     "name": "stderr",
     "output_type": "stream",
     "text": [
      "D:\\Research\\book-rec-fairness\\bookgender\\nbutils.py:39: UserWarning: file has suffix, ignoring\n",
      "C:\\Users\\michaelekstrand\\Anaconda3\\envs\\bookfair\\lib\\site-packages\\plotnine\\ggplot.py:729: PlotnineWarning: Saving 4 x 2.5 in image.\n",
      "C:\\Users\\michaelekstrand\\Anaconda3\\envs\\bookfair\\lib\\site-packages\\plotnine\\ggplot.py:730: PlotnineWarning: Filename: figures\\DataSummary\\frac-known-rates.pdf\n",
      "C:\\Users\\michaelekstrand\\Anaconda3\\envs\\bookfair\\lib\\site-packages\\plotnine\\ggplot.py:729: PlotnineWarning: Saving 4 x 2.5 in image.\n",
      "C:\\Users\\michaelekstrand\\Anaconda3\\envs\\bookfair\\lib\\site-packages\\plotnine\\ggplot.py:730: PlotnineWarning: Filename: figures\\DataSummary\\frac-known-rates.png\n"
     ]
    },
    {
     "data": {
      "image/png": "[encoded data removed]",
      "text/plain": [
       "<Figure size 640x480 with 1 Axes>"
      ]
     },
     "metadata": {
      "needs_background": "light"
     },
     "output_type": "display_data"
    },
    {
     "data": {
      "text/plain": [
       "<ggplot: (-9223371939882777772)>"
      ]
     },
     "execution_count": 51,
     "metadata": {},
     "output_type": "execute_result"
    }
   ],
   "source": [
    "make_plot(k_rft, p.aes('DataSet', 'value', fill='gender'),\n",
    "          p.geom_bar(stat='identity'),\n",
    "          p.scale_fill_brewer('qual', 'Dark2'),\n",
    "          p.scale_y_continuous(labels=lbl_pct),\n",
    "          p.labs(x='Data Set', y='% of Ratings', fill='Gender'),\n",
    "          file='frac-known-rates.pdf', width=4, height=2.5)"
   ]
  },
  {
   "cell_type": "markdown",
   "metadata": {
    "papermill": {
     "duration": 0.045998,
     "end_time": "2020-09-17T22:28:43.870936",
     "exception": false,
     "start_time": "2020-09-17T22:28:43.824938",
     "status": "completed"
    },
    "tags": []
   },
   "source": [
    "## Popularity and Gender Distributions\n",
    "\n",
    "We now want to look at popularity and assorted distributions.\n",
    "\n",
    "We will start by computing item statistics."
   ]
  },
  {
   "cell_type": "code",
   "execution_count": 52,
   "metadata": {
    "execution": {
     "iopub.execute_input": "2020-09-17T22:28:43.981904Z",
     "iopub.status.busy": "2020-09-17T22:28:43.981904Z",
     "iopub.status.idle": "2020-09-17T22:28:58.574683Z",
     "shell.execute_reply": "2020-09-17T22:28:58.573651Z"
    },
    "papermill": {
     "duration": 14.650778,
     "end_time": "2020-09-17T22:28:58.574683",
     "exception": false,
     "start_time": "2020-09-17T22:28:43.923905",
     "status": "completed"
    },
    "tags": []
   },
   "outputs": [
    {
     "name": "stderr",
     "output_type": "stream",
     "text": [
      "summarizing  AZ\n"
     ]
    },
    {
     "name": "stderr",
     "output_type": "stream",
     "text": [
      "summarizing  BX-I\n"
     ]
    },
    {
     "name": "stderr",
     "output_type": "stream",
     "text": [
      "summarizing  GR-I\n"
     ]
    },
    {
     "data": {
      "text/html": [
       "<div>\n",
       "<style scoped>\n",
       "    .dataframe tbody tr th:only-of-type {\n",
       "        vertical-align: middle;\n",
       "    }\n",
       "\n",
       "    .dataframe tbody tr th {\n",
       "        vertical-align: top;\n",
       "    }\n",
       "\n",
       "    .dataframe thead th {\n",
       "        text-align: right;\n",
       "    }\n",
       "</style>\n",
       "<table border=\"1\" class=\"dataframe\">\n",
       "  <thead>\n",
       "    <tr style=\"text-align: right;\">\n",
       "      <th></th>\n",
       "      <th>item</th>\n",
       "      <th>nratings</th>\n",
       "      <th>gender_status</th>\n",
       "      <th>gender</th>\n",
       "      <th>PopRank</th>\n",
       "      <th>PopQ</th>\n",
       "      <th>Set</th>\n",
       "    </tr>\n",
       "  </thead>\n",
       "  <tbody>\n",
       "    <tr>\n",
       "      <th>0</th>\n",
       "      <td>0</td>\n",
       "      <td>4</td>\n",
       "      <td>male</td>\n",
       "      <td>male</td>\n",
       "      <td>0.652857</td>\n",
       "      <td>65</td>\n",
       "      <td>AZ</td>\n",
       "    </tr>\n",
       "    <tr>\n",
       "      <th>1</th>\n",
       "      <td>2</td>\n",
       "      <td>65</td>\n",
       "      <td>male</td>\n",
       "      <td>male</td>\n",
       "      <td>0.977629</td>\n",
       "      <td>98</td>\n",
       "      <td>AZ</td>\n",
       "    </tr>\n",
       "    <tr>\n",
       "      <th>2</th>\n",
       "      <td>5</td>\n",
       "      <td>89</td>\n",
       "      <td>no-loc-author</td>\n",
       "      <td>unlinked</td>\n",
       "      <td>0.984913</td>\n",
       "      <td>98</td>\n",
       "      <td>AZ</td>\n",
       "    </tr>\n",
       "    <tr>\n",
       "      <th>3</th>\n",
       "      <td>8</td>\n",
       "      <td>19</td>\n",
       "      <td>male</td>\n",
       "      <td>male</td>\n",
       "      <td>0.911341</td>\n",
       "      <td>91</td>\n",
       "      <td>AZ</td>\n",
       "    </tr>\n",
       "    <tr>\n",
       "      <th>4</th>\n",
       "      <td>11</td>\n",
       "      <td>32</td>\n",
       "      <td>male</td>\n",
       "      <td>male</td>\n",
       "      <td>0.948883</td>\n",
       "      <td>95</td>\n",
       "      <td>AZ</td>\n",
       "    </tr>\n",
       "  </tbody>\n",
       "</table>\n",
       "</div>"
      ],
      "text/plain": [
       "   item  nratings  gender_status    gender   PopRank  PopQ Set\n",
       "0     0         4           male      male  0.652857    65  AZ\n",
       "1     2        65           male      male  0.977629    98  AZ\n",
       "2     5        89  no-loc-author  unlinked  0.984913    98  AZ\n",
       "3     8        19           male      male  0.911341    91  AZ\n",
       "4    11        32           male      male  0.948883    95  AZ"
      ]
     },
     "execution_count": 52,
     "metadata": {},
     "output_type": "execute_result"
    }
   ],
   "source": [
    "def _ds_stats(ds, df):\n",
    "    eprint('summarizing ', ds)\n",
    "    stats = df.groupby('item').user.count().reset_index(name='nratings')\n",
    "    stats = stats.join(book_gender, on='item')\n",
    "    stats['PopRank'] = stats['nratings'].rank()\n",
    "    stats['PopRank'] = stats['PopRank'] / stats['PopRank'].max()\n",
    "    stats['PopQ'] = (stats['PopRank'] * 100).round().astype('i4')\n",
    "    stats['Set'] = ds\n",
    "    return stats\n",
    "item_stats = pd.concat(_ds_stats(ds, df) for (ds, df) in ratings.items() if not ds.endswith('-E'))\n",
    "item_stats['Set'] = item_stats['Set'].astype('category')\n",
    "item_stats.head()"
   ]
  },
  {
   "cell_type": "markdown",
   "metadata": {
    "papermill": {
     "duration": 0.04598,
     "end_time": "2020-09-17T22:28:58.664649",
     "exception": false,
     "start_time": "2020-09-17T22:28:58.618669",
     "status": "completed"
    },
    "tags": []
   },
   "source": [
    "Compute rating count histograms:"
   ]
  },
  {
   "cell_type": "code",
   "execution_count": 53,
   "metadata": {
    "execution": {
     "iopub.execute_input": "2020-09-17T22:28:58.754648Z",
     "iopub.status.busy": "2020-09-17T22:28:58.754648Z",
     "iopub.status.idle": "2020-09-17T22:28:59.986627Z",
     "shell.execute_reply": "2020-09-17T22:28:59.985625Z"
    },
    "papermill": {
     "duration": 1.277979,
     "end_time": "2020-09-17T22:28:59.986627",
     "exception": false,
     "start_time": "2020-09-17T22:28:58.708648",
     "status": "completed"
    },
    "tags": []
   },
   "outputs": [
    {
     "name": "stderr",
     "output_type": "stream",
     "text": [
      "C:\\Users\\michaelekstrand\\Anaconda3\\envs\\bookfair\\lib\\site-packages\\pandas\\core\\series.py:726: RuntimeWarning: divide by zero encountered in log10\n"
     ]
    },
    {
     "data": {
      "image/png": "[encoded data removed]",
      "text/plain": [
       "<Figure size 640x480 with 1 Axes>"
      ]
     },
     "metadata": {
      "needs_background": "light"
     },
     "output_type": "display_data"
    },
    {
     "data": {
      "text/plain": [
       "<ggplot: (-9223371939881977216)>"
      ]
     },
     "execution_count": 53,
     "metadata": {},
     "output_type": "execute_result"
    }
   ],
   "source": [
    "nr_hist = item_stats.groupby(['Set', 'nratings'])['item'].count().reset_index(name='items')\n",
    "make_plot(nr_hist, p.aes(x='nratings', y='items', color='Set'),\n",
    "          p.geom_point(),\n",
    "          p.scale_x_log10(),\n",
    "          p.scale_y_log10())"
   ]
  },
  {
   "cell_type": "markdown",
   "metadata": {
    "papermill": {
     "duration": 0.045997,
     "end_time": "2020-09-17T22:29:00.083624",
     "exception": false,
     "start_time": "2020-09-17T22:29:00.037627",
     "status": "completed"
    },
    "tags": []
   },
   "source": [
    "Let's look at rating count per book by gender resolution:"
   ]
  },
  {
   "cell_type": "code",
   "execution_count": 54,
   "metadata": {
    "execution": {
     "iopub.execute_input": "2020-09-17T22:29:00.213661Z",
     "iopub.status.busy": "2020-09-17T22:29:00.211661Z",
     "iopub.status.idle": "2020-09-17T22:29:00.487617Z",
     "shell.execute_reply": "2020-09-17T22:29:00.486637Z"
    },
    "papermill": {
     "duration": 0.325995,
     "end_time": "2020-09-17T22:29:00.487617",
     "exception": false,
     "start_time": "2020-09-17T22:29:00.161622",
     "status": "completed"
    },
    "tags": []
   },
   "outputs": [
    {
     "name": "stdout",
     "output_type": "stream",
     "text": [
      "\\begin{tabular}{lrrrr}\n",
      "\\toprule\n",
      "gender & \\multicolumn{2}{l}{female} & \\multicolumn{2}{l}{male} \\\\\n",
      "{} &   mean & median &   mean & median \\\\\n",
      "Set  &        &        &        &        \\\\\n",
      "\\midrule\n",
      "AZ   &  20.01 &      4 &  13.64 &      3 \\\\\n",
      "BX-I &   5.84 &      2 &   4.82 &      1 \\\\\n",
      "GR-I & 402.35 &     34 & 245.28 &     20 \\\\\n",
      "\\bottomrule\n",
      "\\end{tabular}\n",
      "\n"
     ]
    }
   ],
   "source": [
    "rate_rates = item_stats.groupby(['Set', 'gender'])['nratings'].agg(['mean', 'median'])\n",
    "rr_stat = rate_rates.unstack().swaplevel(axis=1).loc[:, ['male', 'female']].sort_index(axis=1)\n",
    "print(rr_stat.to_latex(float_format='%.2f'))"
   ]
  },
  {
   "cell_type": "markdown",
   "metadata": {
    "papermill": {
     "duration": 0.043991,
     "end_time": "2020-09-17T22:29:00.576648",
     "exception": false,
     "start_time": "2020-09-17T22:29:00.532657",
     "status": "completed"
    },
    "tags": []
   },
   "source": [
    "Now compute gender histograms by percentile so we can stack:"
   ]
  },
  {
   "cell_type": "code",
   "execution_count": 55,
   "metadata": {
    "execution": {
     "iopub.execute_input": "2020-09-17T22:29:00.672647Z",
     "iopub.status.busy": "2020-09-17T22:29:00.671645Z",
     "iopub.status.idle": "2020-09-17T22:29:00.973607Z",
     "shell.execute_reply": "2020-09-17T22:29:00.974607Z"
    },
    "papermill": {
     "duration": 0.35196,
     "end_time": "2020-09-17T22:29:00.974607",
     "exception": false,
     "start_time": "2020-09-17T22:29:00.622647",
     "status": "completed"
    },
    "tags": []
   },
   "outputs": [
    {
     "data": {
      "text/html": [
       "<div>\n",
       "<style scoped>\n",
       "    .dataframe tbody tr th:only-of-type {\n",
       "        vertical-align: middle;\n",
       "    }\n",
       "\n",
       "    .dataframe tbody tr th {\n",
       "        vertical-align: top;\n",
       "    }\n",
       "\n",
       "    .dataframe thead th {\n",
       "        text-align: right;\n",
       "    }\n",
       "</style>\n",
       "<table border=\"1\" class=\"dataframe\">\n",
       "  <thead>\n",
       "    <tr style=\"text-align: right;\">\n",
       "      <th></th>\n",
       "      <th>gender</th>\n",
       "      <th>male</th>\n",
       "      <th>unlinked</th>\n",
       "      <th>female</th>\n",
       "      <th>unknown</th>\n",
       "      <th>ambiguous</th>\n",
       "    </tr>\n",
       "    <tr>\n",
       "      <th>Set</th>\n",
       "      <th>PopQ</th>\n",
       "      <th></th>\n",
       "      <th></th>\n",
       "      <th></th>\n",
       "      <th></th>\n",
       "      <th></th>\n",
       "    </tr>\n",
       "  </thead>\n",
       "  <tbody>\n",
       "    <tr>\n",
       "      <th rowspan=\"5\" valign=\"top\">AZ</th>\n",
       "      <th>18</th>\n",
       "      <td>0.174433</td>\n",
       "      <td>0.667347</td>\n",
       "      <td>0.067153</td>\n",
       "      <td>0.085216</td>\n",
       "      <td>0.005852</td>\n",
       "    </tr>\n",
       "    <tr>\n",
       "      <th>45</th>\n",
       "      <td>0.207661</td>\n",
       "      <td>0.593931</td>\n",
       "      <td>0.085052</td>\n",
       "      <td>0.106450</td>\n",
       "      <td>0.006905</td>\n",
       "    </tr>\n",
       "    <tr>\n",
       "      <th>57</th>\n",
       "      <td>0.219571</td>\n",
       "      <td>0.567501</td>\n",
       "      <td>0.091894</td>\n",
       "      <td>0.114128</td>\n",
       "      <td>0.006906</td>\n",
       "    </tr>\n",
       "    <tr>\n",
       "      <th>65</th>\n",
       "      <td>0.225784</td>\n",
       "      <td>0.554707</td>\n",
       "      <td>0.095220</td>\n",
       "      <td>0.116672</td>\n",
       "      <td>0.007617</td>\n",
       "    </tr>\n",
       "    <tr>\n",
       "      <th>71</th>\n",
       "      <td>0.229021</td>\n",
       "      <td>0.542932</td>\n",
       "      <td>0.100422</td>\n",
       "      <td>0.120130</td>\n",
       "      <td>0.007495</td>\n",
       "    </tr>\n",
       "  </tbody>\n",
       "</table>\n",
       "</div>"
      ],
      "text/plain": [
       "gender        male  unlinked    female   unknown  ambiguous\n",
       "Set PopQ                                                   \n",
       "AZ  18    0.174433  0.667347  0.067153  0.085216   0.005852\n",
       "    45    0.207661  0.593931  0.085052  0.106450   0.006905\n",
       "    57    0.219571  0.567501  0.091894  0.114128   0.006906\n",
       "    65    0.225784  0.554707  0.095220  0.116672   0.007617\n",
       "    71    0.229021  0.542932  0.100422  0.120130   0.007495"
      ]
     },
     "execution_count": 55,
     "metadata": {},
     "output_type": "execute_result"
    }
   ],
   "source": [
    "pop_g = item_stats.groupby(['Set', 'PopQ', 'gender'], observed=True)['item'].count().unstack()\n",
    "pop_g.fillna(0, inplace=True)\n",
    "pop_g = pop_g.divide(pop_g.sum(axis=1), axis=0)\n",
    "pop_g.sort_index(inplace=True)\n",
    "pop_g.head()"
   ]
  },
  {
   "cell_type": "markdown",
   "metadata": {
    "papermill": {
     "duration": 0.046963,
     "end_time": "2020-09-17T22:29:01.073608",
     "exception": false,
     "start_time": "2020-09-17T22:29:01.026645",
     "status": "completed"
    },
    "tags": []
   },
   "source": [
    "Propagate to percentile 0, so we can plot the whole width:"
   ]
  },
  {
   "cell_type": "code",
   "execution_count": 56,
   "metadata": {
    "execution": {
     "iopub.execute_input": "2020-09-17T22:29:01.171637Z",
     "iopub.status.busy": "2020-09-17T22:29:01.171637Z",
     "iopub.status.idle": "2020-09-17T22:29:01.189604Z",
     "shell.execute_reply": "2020-09-17T22:29:01.190604Z"
    },
    "papermill": {
     "duration": 0.068968,
     "end_time": "2020-09-17T22:29:01.190604",
     "exception": false,
     "start_time": "2020-09-17T22:29:01.121636",
     "status": "completed"
    },
    "tags": []
   },
   "outputs": [],
   "source": [
    "for ds in pop_g.index.levels[0].categories:\n",
    "    dspg = pop_g.loc[ds, :]\n",
    "    pop_g.loc[(ds, 0), :] = dspg.iloc[0, :]\n",
    "pop_g.sort_index(inplace=True)"
   ]
  },
  {
   "cell_type": "markdown",
   "metadata": {
    "papermill": {
     "duration": 0.045011,
     "end_time": "2020-09-17T22:29:01.281634",
     "exception": false,
     "start_time": "2020-09-17T22:29:01.236623",
     "status": "completed"
    },
    "tags": []
   },
   "source": [
    "Stack for plotting:"
   ]
  },
  {
   "cell_type": "code",
   "execution_count": 57,
   "metadata": {
    "execution": {
     "iopub.execute_input": "2020-09-17T22:29:01.379601Z",
     "iopub.status.busy": "2020-09-17T22:29:01.375632Z",
     "iopub.status.idle": "2020-09-17T22:29:01.392603Z",
     "shell.execute_reply": "2020-09-17T22:29:01.392603Z"
    },
    "papermill": {
     "duration": 0.06497,
     "end_time": "2020-09-17T22:29:01.392603",
     "exception": false,
     "start_time": "2020-09-17T22:29:01.327633",
     "status": "completed"
    },
    "tags": []
   },
   "outputs": [
    {
     "data": {
      "text/html": [
       "<div>\n",
       "<style scoped>\n",
       "    .dataframe tbody tr th:only-of-type {\n",
       "        vertical-align: middle;\n",
       "    }\n",
       "\n",
       "    .dataframe tbody tr th {\n",
       "        vertical-align: top;\n",
       "    }\n",
       "\n",
       "    .dataframe thead th {\n",
       "        text-align: right;\n",
       "    }\n",
       "</style>\n",
       "<table border=\"1\" class=\"dataframe\">\n",
       "  <thead>\n",
       "    <tr style=\"text-align: right;\">\n",
       "      <th></th>\n",
       "      <th>Set</th>\n",
       "      <th>PopQ</th>\n",
       "      <th>gender</th>\n",
       "      <th>items</th>\n",
       "    </tr>\n",
       "  </thead>\n",
       "  <tbody>\n",
       "    <tr>\n",
       "      <th>0</th>\n",
       "      <td>AZ</td>\n",
       "      <td>0</td>\n",
       "      <td>male</td>\n",
       "      <td>0.174433</td>\n",
       "    </tr>\n",
       "    <tr>\n",
       "      <th>1</th>\n",
       "      <td>AZ</td>\n",
       "      <td>0</td>\n",
       "      <td>unlinked</td>\n",
       "      <td>0.667347</td>\n",
       "    </tr>\n",
       "    <tr>\n",
       "      <th>2</th>\n",
       "      <td>AZ</td>\n",
       "      <td>0</td>\n",
       "      <td>female</td>\n",
       "      <td>0.067153</td>\n",
       "    </tr>\n",
       "    <tr>\n",
       "      <th>3</th>\n",
       "      <td>AZ</td>\n",
       "      <td>0</td>\n",
       "      <td>unknown</td>\n",
       "      <td>0.085216</td>\n",
       "    </tr>\n",
       "    <tr>\n",
       "      <th>4</th>\n",
       "      <td>AZ</td>\n",
       "      <td>0</td>\n",
       "      <td>ambiguous</td>\n",
       "      <td>0.005852</td>\n",
       "    </tr>\n",
       "  </tbody>\n",
       "</table>\n",
       "</div>"
      ],
      "text/plain": [
       "  Set  PopQ     gender     items\n",
       "0  AZ     0       male  0.174433\n",
       "1  AZ     0   unlinked  0.667347\n",
       "2  AZ     0     female  0.067153\n",
       "3  AZ     0    unknown  0.085216\n",
       "4  AZ     0  ambiguous  0.005852"
      ]
     },
     "execution_count": 57,
     "metadata": {},
     "output_type": "execute_result"
    }
   ],
   "source": [
    "pop_g = pop_g.stack().reset_index(name='items')\n",
    "pop_g.head()"
   ]
  },
  {
   "cell_type": "code",
   "execution_count": 58,
   "metadata": {
    "execution": {
     "iopub.execute_input": "2020-09-17T22:29:01.492640Z",
     "iopub.status.busy": "2020-09-17T22:29:01.492640Z",
     "iopub.status.idle": "2020-09-17T22:29:01.502408Z",
     "shell.execute_reply": "2020-09-17T22:29:01.501389Z"
    },
    "papermill": {
     "duration": 0.062808,
     "end_time": "2020-09-17T22:29:01.502408",
     "exception": false,
     "start_time": "2020-09-17T22:29:01.439600",
     "status": "completed"
    },
    "tags": []
   },
   "outputs": [],
   "source": [
    "pop_g['gender'].cat.reorder_categories([\n",
    "    'male', 'female', 'ambiguous',\n",
    "    'unknown', 'unlinked'\n",
    "], inplace=True)"
   ]
  },
  {
   "cell_type": "markdown",
   "metadata": {
    "papermill": {
     "duration": 0.046998,
     "end_time": "2020-09-17T22:29:01.595382",
     "exception": false,
     "start_time": "2020-09-17T22:29:01.548384",
     "status": "completed"
    },
    "tags": []
   },
   "source": [
    "And make an area plot."
   ]
  },
  {
   "cell_type": "code",
   "execution_count": 59,
   "metadata": {
    "execution": {
     "iopub.execute_input": "2020-09-17T22:29:01.706398Z",
     "iopub.status.busy": "2020-09-17T22:29:01.700378Z",
     "iopub.status.idle": "2020-09-17T22:29:04.771326Z",
     "shell.execute_reply": "2020-09-17T22:29:04.770326Z"
    },
    "papermill": {
     "duration": 3.128942,
     "end_time": "2020-09-17T22:29:04.771326",
     "exception": false,
     "start_time": "2020-09-17T22:29:01.642384",
     "status": "completed"
    },
    "scrolled": false,
    "tags": []
   },
   "outputs": [
    {
     "name": "stderr",
     "output_type": "stream",
     "text": [
      "C:\\Users\\michaelekstrand\\Anaconda3\\envs\\bookfair\\lib\\site-packages\\plotnine\\ggplot.py:729: PlotnineWarning: Saving 8 x 5 in image.\n",
      "C:\\Users\\michaelekstrand\\Anaconda3\\envs\\bookfair\\lib\\site-packages\\plotnine\\ggplot.py:730: PlotnineWarning: Filename: figures\\DataSummary\\gender-by-pop.pdf\n"
     ]
    },
    {
     "name": "stderr",
     "output_type": "stream",
     "text": [
      "C:\\Users\\michaelekstrand\\Anaconda3\\envs\\bookfair\\lib\\site-packages\\plotnine\\ggplot.py:729: PlotnineWarning: Saving 8 x 5 in image.\n",
      "C:\\Users\\michaelekstrand\\Anaconda3\\envs\\bookfair\\lib\\site-packages\\plotnine\\ggplot.py:730: PlotnineWarning: Filename: figures\\DataSummary\\gender-by-pop.png\n"
     ]
    },
    {
     "data": {
      "image/png": "[encoded data removed]",
      "text/plain": [
       "<Figure size 640x480 with 3 Axes>"
      ]
     },
     "metadata": {
      "needs_background": "light"
     },
     "output_type": "display_data"
    },
    {
     "data": {
      "text/plain": [
       "<ggplot: (-9223371939882010988)>"
      ]
     },
     "execution_count": 59,
     "metadata": {},
     "output_type": "execute_result"
    }
   ],
   "source": [
    "make_plot(pop_g, p.aes(x='PopQ', y='items', fill='gender'),\n",
    "          p.geom_area(),\n",
    "          p.scale_fill_brewer('qual', 'Set2'),\n",
    "          p.scale_y_continuous(labels=lbl_pct),\n",
    "          p.scale_x_continuous(expand=(0,0)),\n",
    "          p.facet_grid('Set ~'),\n",
    "          p.labs(x='Item Popularity Percentile (100 is most popular)',\n",
    "                 y='% of Books',\n",
    "                 fill='Gender'),\n",
    "          file='gender-by-pop', width=8, height=5)"
   ]
  },
  {
   "cell_type": "code",
   "execution_count": null,
   "metadata": {
    "papermill": {
     "duration": 0.050973,
     "end_time": "2020-09-17T22:29:04.873328",
     "exception": false,
     "start_time": "2020-09-17T22:29:04.822355",
     "status": "completed"
    },
    "tags": []
   },
   "outputs": [],
   "source": []
  }
 ],
 "metadata": {
  "kernelspec": {
   "display_name": "Python 3",
   "language": "python",
   "name": "python3"
  },
  "language_info": {
   "codemirror_mode": {
    "name": "ipython",
    "version": 3
   },
   "file_extension": ".py",
   "mimetype": "text/x-python",
   "name": "python",
   "nbconvert_exporter": "python",
   "pygments_lexer": "ipython3",
   "version": "3.7.9"
  },
  "papermill": {
   "duration": 183.56349,
   "end_time": "2020-09-17T22:29:06.126328",
   "environment_variables": {},
   "exception": null,
   "input_path": "DataSummary.ipynb",
   "output_path": "DataSummary.temp.ipynb",
   "parameters": {},
   "start_time": "2020-09-17T22:26:02.562838",
   "version": "1.0.1"
  },
  "widgets": {
   "application/vnd.jupyter.widget-state+json": {
    "state": {
     "0764791808b44048826b651d7874925f": {
      "model_module": "@jupyter-widgets/controls",
      "model_module_version": "1.5.0",
      "model_name": "IntProgressModel",
      "state": {
       "_dom_classes": [],
       "_model_module": "@jupyter-widgets/controls",
       "_model_module_version": "1.5.0",
       "_model_name": "IntProgressModel",
       "_view_count": null,
       "_view_module": "@jupyter-widgets/controls",
       "_view_module_version": "1.5.0",
       "_view_name": "ProgressView",
       "bar_style": "success",
       "description": "",
       "description_tooltip": null,
       "layout": "IPY_MODEL_492dffeadaa0486eb6651f3c0eed9281",
       "max": 5,
       "min": 0,
       "orientation": "horizontal",
       "style": "IPY_MODEL_51fe952897094592945dad2184893626",
       "value": 5
      }
     },
     "27f775bd7d094d8b95dfdaa2554019f8": {
      "model_module": "@jupyter-widgets/controls",
      "model_module_version": "1.5.0",
      "model_name": "DescriptionStyleModel",
      "state": {
       "_model_module": "@jupyter-widgets/controls",
       "_model_module_version": "1.5.0",
       "_model_name": "DescriptionStyleModel",
       "_view_count": null,
       "_view_module": "@jupyter-widgets/base",
       "_view_module_version": "1.2.0",
       "_view_name": "StyleView",
       "description_width": ""
      }
     },
     "309bd7041c174922b1ff4b13fd9d4062": {
      "model_module": "@jupyter-widgets/base",
      "model_module_version": "1.2.0",
      "model_name": "LayoutModel",
      "state": {
       "_model_module": "@jupyter-widgets/base",
       "_model_module_version": "1.2.0",
       "_model_name": "LayoutModel",
       "_view_count": null,
       "_view_module": "@jupyter-widgets/base",
       "_view_module_version": "1.2.0",
       "_view_name": "LayoutView",
       "align_content": null,
       "align_items": null,
       "align_self": null,
       "border": null,
       "bottom": null,
       "display": null,
       "flex": null,
       "flex_flow": null,
       "grid_area": null,
       "grid_auto_columns": null,
       "grid_auto_flow": null,
       "grid_auto_rows": null,
       "grid_column": null,
       "grid_gap": null,
       "grid_row": null,
       "grid_template_areas": null,
       "grid_template_columns": null,
       "grid_template_rows": null,
       "height": null,
       "justify_content": null,
       "justify_items": null,
       "left": null,
       "margin": null,
       "max_height": null,
       "max_width": null,
       "min_height": null,
       "min_width": null,
       "object_fit": null,
       "object_position": null,
       "order": null,
       "overflow": null,
       "overflow_x": null,
       "overflow_y": null,
       "padding": null,
       "right": null,
       "top": null,
       "visibility": null,
       "width": null
      }
     },
     "492dffeadaa0486eb6651f3c0eed9281": {
      "model_module": "@jupyter-widgets/base",
      "model_module_version": "1.2.0",
      "model_name": "LayoutModel",
      "state": {
       "_model_module": "@jupyter-widgets/base",
       "_model_module_version": "1.2.0",
       "_model_name": "LayoutModel",
       "_view_count": null,
       "_view_module": "@jupyter-widgets/base",
       "_view_module_version": "1.2.0",
       "_view_name": "LayoutView",
       "align_content": null,
       "align_items": null,
       "align_self": null,
       "border": null,
       "bottom": null,
       "display": null,
       "flex": null,
       "flex_flow": null,
       "grid_area": null,
       "grid_auto_columns": null,
       "grid_auto_flow": null,
       "grid_auto_rows": null,
       "grid_column": null,
       "grid_gap": null,
       "grid_row": null,
       "grid_template_areas": null,
       "grid_template_columns": null,
       "grid_template_rows": null,
       "height": null,
       "justify_content": null,
       "justify_items": null,
       "left": null,
       "margin": null,
       "max_height": null,
       "max_width": null,
       "min_height": null,
       "min_width": null,
       "object_fit": null,
       "object_position": null,
       "order": null,
       "overflow": null,
       "overflow_x": null,
       "overflow_y": null,
       "padding": null,
       "right": null,
       "top": null,
       "visibility": null,
       "width": null
      }
     },
     "51fe952897094592945dad2184893626": {
      "model_module": "@jupyter-widgets/controls",
      "model_module_version": "1.5.0",
      "model_name": "ProgressStyleModel",
      "state": {
       "_model_module": "@jupyter-widgets/controls",
       "_model_module_version": "1.5.0",
       "_model_name": "ProgressStyleModel",
       "_view_count": null,
       "_view_module": "@jupyter-widgets/base",
       "_view_module_version": "1.2.0",
       "_view_name": "StyleView",
       "bar_color": null,
       "description_width": ""
      }
     },
     "702a75be8a054296aec81ab42cd75183": {
      "model_module": "@jupyter-widgets/controls",
      "model_module_version": "1.5.0",
      "model_name": "HTMLModel",
      "state": {
       "_dom_classes": [],
       "_model_module": "@jupyter-widgets/controls",
       "_model_module_version": "1.5.0",
       "_model_name": "HTMLModel",
       "_view_count": null,
       "_view_module": "@jupyter-widgets/controls",
       "_view_module_version": "1.5.0",
       "_view_name": "HTMLView",
       "description": "",
       "description_tooltip": null,
       "layout": "IPY_MODEL_a05c07166d3b4857b72726a640aead03",
       "placeholder": "​",
       "style": "IPY_MODEL_27f775bd7d094d8b95dfdaa2554019f8",
       "value": "100% 5/5 [00:15&lt;00:00,  3.89s/it]"
      }
     },
     "96ab6ada778948089457d439c0eb4814": {
      "model_module": "@jupyter-widgets/controls",
      "model_module_version": "1.5.0",
      "model_name": "HBoxModel",
      "state": {
       "_dom_classes": [],
       "_model_module": "@jupyter-widgets/controls",
       "_model_module_version": "1.5.0",
       "_model_name": "HBoxModel",
       "_view_count": null,
       "_view_module": "@jupyter-widgets/controls",
       "_view_module_version": "1.5.0",
       "_view_name": "HBoxView",
       "box_style": "",
       "children": [
        "IPY_MODEL_0764791808b44048826b651d7874925f",
        "IPY_MODEL_702a75be8a054296aec81ab42cd75183"
       ],
       "layout": "IPY_MODEL_309bd7041c174922b1ff4b13fd9d4062"
      }
     },
     "a05c07166d3b4857b72726a640aead03": {
      "model_module": "@jupyter-widgets/base",
      "model_module_version": "1.2.0",
      "model_name": "LayoutModel",
      "state": {
       "_model_module": "@jupyter-widgets/base",
       "_model_module_version": "1.2.0",
       "_model_name": "LayoutModel",
       "_view_count": null,
       "_view_module": "@jupyter-widgets/base",
       "_view_module_version": "1.2.0",
       "_view_name": "LayoutView",
       "align_content": null,
       "align_items": null,
       "align_self": null,
       "border": null,
       "bottom": null,
       "display": null,
       "flex": null,
       "flex_flow": null,
       "grid_area": null,
       "grid_auto_columns": null,
       "grid_auto_flow": null,
       "grid_auto_rows": null,
       "grid_column": null,
       "grid_gap": null,
       "grid_row": null,
       "grid_template_areas": null,
       "grid_template_columns": null,
       "grid_template_rows": null,
       "height": null,
       "justify_content": null,
       "justify_items": null,
       "left": null,
       "margin": null,
       "max_height": null,
       "max_width": null,
       "min_height": null,
       "min_width": null,
       "object_fit": null,
       "object_position": null,
       "order": null,
       "overflow": null,
       "overflow_x": null,
       "overflow_y": null,
       "padding": null,
       "right": null,
       "top": null,
       "visibility": null,
       "width": null
      }
     }
    },
    "version_major": 2,
    "version_minor": 0
   }
  }
 },
 "nbformat": 4,
 "nbformat_minor": 2
}