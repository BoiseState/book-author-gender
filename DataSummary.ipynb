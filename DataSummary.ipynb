{
 "cells": [
  {
   "cell_type": "markdown",
   "metadata": {
    "papermill": {
     "duration": 0.020955,
     "end_time": "2020-05-12T09:04:53.388138",
     "exception": false,
     "start_time": "2020-05-12T09:04:53.367183",
     "status": "completed"
    },
    "tags": []
   },
   "source": [
    "# Data Set Summary Info\n",
    "\n",
    "This notebook provides summary information and descriptive statistics for our data sets."
   ]
  },
  {
   "cell_type": "markdown",
   "metadata": {
    "papermill": {
     "duration": 0.022,
     "end_time": "2020-05-12T09:04:53.432129",
     "exception": false,
     "start_time": "2020-05-12T09:04:53.410129",
     "status": "completed"
    },
    "tags": []
   },
   "source": [
    "## Setup"
   ]
  },
  {
   "cell_type": "code",
   "execution_count": 1,
   "metadata": {
    "papermill": {
     "duration": 0.027001,
     "end_time": "2020-05-12T09:04:53.479129",
     "exception": false,
     "start_time": "2020-05-12T09:04:53.452128",
     "status": "completed"
    },
    "tags": []
   },
   "outputs": [],
   "source": [
    "import sys\n",
    "import re"
   ]
  },
  {
   "cell_type": "code",
   "execution_count": 2,
   "metadata": {
    "papermill": {
     "duration": 0.025001,
     "end_time": "2020-05-12T09:04:53.524129",
     "exception": false,
     "start_time": "2020-05-12T09:04:53.499128",
     "status": "completed"
    },
    "tags": []
   },
   "outputs": [],
   "source": [
    "from pathlib import Path"
   ]
  },
  {
   "cell_type": "code",
   "execution_count": 3,
   "metadata": {
    "papermill": {
     "duration": 1.584681,
     "end_time": "2020-05-12T09:04:55.130052",
     "exception": false,
     "start_time": "2020-05-12T09:04:53.545371",
     "status": "completed"
    },
    "tags": []
   },
   "outputs": [],
   "source": [
    "import itertools as it\n",
    "import pandas as pd\n",
    "import numpy as np\n",
    "import seaborn as sns\n",
    "import matplotlib.pyplot as plt\n",
    "from tqdm.auto import tqdm\n",
    "import plotnine as p"
   ]
  },
  {
   "cell_type": "code",
   "execution_count": 4,
   "metadata": {
    "papermill": {
     "duration": 0.186,
     "end_time": "2020-05-12T09:04:55.339052",
     "exception": false,
     "start_time": "2020-05-12T09:04:55.153052",
     "status": "completed"
    },
    "tags": []
   },
   "outputs": [],
   "source": [
    "import bookgender.datatools as dt\n",
    "from bookgender.nbutils import *"
   ]
  },
  {
   "cell_type": "code",
   "execution_count": 5,
   "metadata": {
    "papermill": {
     "duration": 0.025,
     "end_time": "2020-05-12T09:04:55.385052",
     "exception": false,
     "start_time": "2020-05-12T09:04:55.360052",
     "status": "completed"
    },
    "tags": []
   },
   "outputs": [],
   "source": [
    "def eprint(*args):\n",
    "    print(*args, file=sys.stderr)"
   ]
  },
  {
   "cell_type": "code",
   "execution_count": 6,
   "metadata": {
    "papermill": {
     "duration": 0.028001,
     "end_time": "2020-05-12T09:04:55.434052",
     "exception": false,
     "start_time": "2020-05-12T09:04:55.406051",
     "status": "completed"
    },
    "tags": []
   },
   "outputs": [
    {
     "name": "stdout",
     "output_type": "stream",
     "text": [
      "using figure dir figures\\DataSummary\n"
     ]
    }
   ],
   "source": [
    "fig_dir = init_figs('DataSummary')"
   ]
  },
  {
   "cell_type": "code",
   "execution_count": 7,
   "metadata": {
    "papermill": {
     "duration": 0.026003,
     "end_time": "2020-05-12T09:04:55.481054",
     "exception": false,
     "start_time": "2020-05-12T09:04:55.455051",
     "status": "completed"
    },
    "tags": []
   },
   "outputs": [],
   "source": [
    "def lbl_pct(fs):\n",
    "    return ['{:.0f}%'.format(f*100) for f in fs]"
   ]
  },
  {
   "cell_type": "markdown",
   "metadata": {
    "papermill": {
     "duration": 0.021001,
     "end_time": "2020-05-12T09:04:55.522052",
     "exception": false,
     "start_time": "2020-05-12T09:04:55.501051",
     "status": "completed"
    },
    "tags": []
   },
   "source": [
    "Function to make plots:"
   ]
  },
  {
   "cell_type": "markdown",
   "metadata": {
    "papermill": {
     "duration": 0.021,
     "end_time": "2020-05-12T09:04:55.563051",
     "exception": false,
     "start_time": "2020-05-12T09:04:55.542051",
     "status": "completed"
    },
    "tags": []
   },
   "source": [
    "## Load Data Files"
   ]
  },
  {
   "cell_type": "markdown",
   "metadata": {
    "papermill": {
     "duration": 0.025001,
     "end_time": "2020-05-12T09:04:55.610053",
     "exception": false,
     "start_time": "2020-05-12T09:04:55.585052",
     "status": "completed"
    },
    "tags": []
   },
   "source": [
    "Load book author gender info:"
   ]
  },
  {
   "cell_type": "code",
   "execution_count": 8,
   "metadata": {
    "papermill": {
     "duration": 0.03197,
     "end_time": "2020-05-12T09:04:55.664051",
     "exception": false,
     "start_time": "2020-05-12T09:04:55.632081",
     "status": "completed"
    },
    "tags": []
   },
   "outputs": [],
   "source": [
    "datasets =  sorted(list(dt.datasets.keys()))"
   ]
  },
  {
   "cell_type": "code",
   "execution_count": 9,
   "metadata": {
    "papermill": {
     "duration": 1.452032,
     "end_time": "2020-05-12T09:04:57.138085",
     "exception": false,
     "start_time": "2020-05-12T09:04:55.686053",
     "status": "completed"
    },
    "tags": []
   },
   "outputs": [
    {
     "name": "stdout",
     "output_type": "stream",
     "text": [
      "<class 'pandas.core.frame.DataFrame'>\n",
      "RangeIndex: 12234574 entries, 0 to 12234573\n",
      "Data columns (total 2 columns):\n",
      " #   Column  Dtype   \n",
      "---  ------  -----   \n",
      " 0   item    int64   \n",
      " 1   gender  category\n",
      "dtypes: category(1), int64(1)\n",
      "memory usage: 105.0 MB\n"
     ]
    }
   ],
   "source": [
    "book_gender = pd.read_parquet('data/author-gender.parquet')\n",
    "book_gender['gender'] = book_gender['gender'].astype('category')\n",
    "book_gender.info()"
   ]
  },
  {
   "cell_type": "code",
   "execution_count": 10,
   "metadata": {
    "papermill": {
     "duration": 2.734639,
     "end_time": "2020-05-12T09:04:59.894745",
     "exception": false,
     "start_time": "2020-05-12T09:04:57.160106",
     "status": "completed"
    },
    "tags": []
   },
   "outputs": [
    {
     "name": "stdout",
     "output_type": "stream",
     "text": [
      "<class 'pandas.core.frame.DataFrame'>\n",
      "RangeIndex: 12234574 entries, 0 to 12234573\n",
      "Data columns (total 2 columns):\n",
      " #   Column  Dtype   \n",
      "---  ------  -----   \n",
      " 0   item    int64   \n",
      " 1   gender  category\n",
      "dtypes: category(1), int64(1)\n",
      "memory usage: 105.0 MB\n"
     ]
    }
   ],
   "source": [
    "book_gender = pd.read_csv('data/author-gender.csv.gz', dtype={'gender': 'category'})\n",
    "book_gender.info()"
   ]
  },
  {
   "cell_type": "markdown",
   "metadata": {
    "papermill": {
     "duration": 0.023999,
     "end_time": "2020-05-12T09:04:59.945744",
     "exception": false,
     "start_time": "2020-05-12T09:04:59.921745",
     "status": "completed"
    },
    "tags": []
   },
   "source": [
    "Book gender will be more useful if we index it."
   ]
  },
  {
   "cell_type": "code",
   "execution_count": 11,
   "metadata": {
    "papermill": {
     "duration": 0.081998,
     "end_time": "2020-05-12T09:05:00.053744",
     "exception": false,
     "start_time": "2020-05-12T09:04:59.971746",
     "status": "completed"
    },
    "tags": []
   },
   "outputs": [],
   "source": [
    "book_gender = book_gender.set_index('item')"
   ]
  },
  {
   "cell_type": "markdown",
   "metadata": {
    "papermill": {
     "duration": 0.023,
     "end_time": "2020-05-12T09:05:00.098745",
     "exception": false,
     "start_time": "2020-05-12T09:05:00.075745",
     "status": "completed"
    },
    "tags": []
   },
   "source": [
    "Load the Library of Congress book list:"
   ]
  },
  {
   "cell_type": "code",
   "execution_count": 12,
   "metadata": {
    "papermill": {
     "duration": 0.701997,
     "end_time": "2020-05-12T09:05:00.826743",
     "exception": false,
     "start_time": "2020-05-12T09:05:00.124746",
     "status": "completed"
    },
    "tags": []
   },
   "outputs": [
    {
     "name": "stdout",
     "output_type": "stream",
     "text": [
      "<class 'pandas.core.frame.DataFrame'>\n",
      "RangeIndex: 5267327 entries, 0 to 5267326\n",
      "Data columns (total 1 columns):\n",
      " #   Column  Dtype\n",
      "---  ------  -----\n",
      " 0   item    int64\n",
      "dtypes: int64(1)\n",
      "memory usage: 40.2 MB\n"
     ]
    }
   ],
   "source": [
    "loc_books = pd.read_csv('data/loc-books.csv.gz')\n",
    "loc_books.info()"
   ]
  },
  {
   "cell_type": "markdown",
   "metadata": {
    "papermill": {
     "duration": 0.021999,
     "end_time": "2020-05-12T09:05:00.869742",
     "exception": false,
     "start_time": "2020-05-12T09:05:00.847743",
     "status": "completed"
    },
    "tags": []
   },
   "source": [
    "Load rating data sets:"
   ]
  },
  {
   "cell_type": "code",
   "execution_count": 13,
   "metadata": {
    "papermill": {
     "duration": 5.582481,
     "end_time": "2020-05-12T09:05:06.474224",
     "exception": false,
     "start_time": "2020-05-12T09:05:00.891743",
     "status": "completed"
    },
    "tags": []
   },
   "outputs": [
    {
     "name": "stderr",
     "output_type": "stream",
     "text": [
      "loading ratings for AZ\n"
     ]
    },
    {
     "name": "stderr",
     "output_type": "stream",
     "text": [
      "loading ratings for BX-E\n",
      "loading ratings for BX-I\n",
      "loading ratings for GR-E\n"
     ]
    },
    {
     "name": "stderr",
     "output_type": "stream",
     "text": [
      "loading ratings for GR-I\n"
     ]
    }
   ],
   "source": [
    "ratings = {}\n",
    "for ds in datasets:\n",
    "    eprint('loading ratings for', ds)\n",
    "    ratings[ds] = pd.read_parquet(f'data/{ds}/ratings.parquet')"
   ]
  },
  {
   "cell_type": "markdown",
   "metadata": {
    "papermill": {
     "duration": 0.025,
     "end_time": "2020-05-12T09:05:06.522255",
     "exception": false,
     "start_time": "2020-05-12T09:05:06.497255",
     "status": "completed"
    },
    "tags": []
   },
   "source": [
    "## Basic Data Set Stats"
   ]
  },
  {
   "cell_type": "code",
   "execution_count": 14,
   "metadata": {
    "papermill": {
     "duration": 9.279663,
     "end_time": "2020-05-12T09:05:15.824917",
     "exception": false,
     "start_time": "2020-05-12T09:05:06.545254",
     "status": "completed"
    },
    "tags": []
   },
   "outputs": [
    {
     "data": {
      "text/html": [
       "<div>\n",
       "<style scoped>\n",
       "    .dataframe tbody tr th:only-of-type {\n",
       "        vertical-align: middle;\n",
       "    }\n",
       "\n",
       "    .dataframe tbody tr th {\n",
       "        vertical-align: top;\n",
       "    }\n",
       "\n",
       "    .dataframe thead th {\n",
       "        text-align: right;\n",
       "    }\n",
       "</style>\n",
       "<table border=\"1\" class=\"dataframe\">\n",
       "  <thead>\n",
       "    <tr style=\"text-align: right;\">\n",
       "      <th></th>\n",
       "      <th>Users</th>\n",
       "      <th>Items</th>\n",
       "      <th>Pairs</th>\n",
       "      <th>Density</th>\n",
       "    </tr>\n",
       "  </thead>\n",
       "  <tbody>\n",
       "    <tr>\n",
       "      <th>AZ</th>\n",
       "      <td>8026324</td>\n",
       "      <td>2268142</td>\n",
       "      <td>22460535</td>\n",
       "      <td>0.000001</td>\n",
       "    </tr>\n",
       "    <tr>\n",
       "      <th>BX-E</th>\n",
       "      <td>77805</td>\n",
       "      <td>151670</td>\n",
       "      <td>427283</td>\n",
       "      <td>0.000036</td>\n",
       "    </tr>\n",
       "    <tr>\n",
       "      <th>BX-I</th>\n",
       "      <td>105283</td>\n",
       "      <td>279501</td>\n",
       "      <td>1129814</td>\n",
       "      <td>0.000038</td>\n",
       "    </tr>\n",
       "    <tr>\n",
       "      <th>GR-E</th>\n",
       "      <td>808782</td>\n",
       "      <td>1080777</td>\n",
       "      <td>86537566</td>\n",
       "      <td>0.000099</td>\n",
       "    </tr>\n",
       "    <tr>\n",
       "      <th>GR-I</th>\n",
       "      <td>870011</td>\n",
       "      <td>1096636</td>\n",
       "      <td>188943278</td>\n",
       "      <td>0.000198</td>\n",
       "    </tr>\n",
       "  </tbody>\n",
       "</table>\n",
       "</div>"
      ],
      "text/plain": [
       "        Users    Items      Pairs   Density\n",
       "AZ    8026324  2268142   22460535  0.000001\n",
       "BX-E    77805   151670     427283  0.000036\n",
       "BX-I   105283   279501    1129814  0.000038\n",
       "GR-E   808782  1080777   86537566  0.000099\n",
       "GR-I   870011  1096636  188943278  0.000198"
      ]
     },
     "execution_count": 14,
     "metadata": {},
     "output_type": "execute_result"
    }
   ],
   "source": [
    "ds_summary = pd.DataFrame.from_dict(dict(\n",
    "    (n, {'Users': f['user'].nunique(), 'Items': f['item'].nunique(), 'Pairs': len(f)})\n",
    "    for (n, f) in ratings.items()\n",
    "), orient='index')\n",
    "ds_summary['Density'] = ds_summary['Pairs'] / (ds_summary['Users'] * ds_summary['Items'])\n",
    "ds_summary"
   ]
  },
  {
   "cell_type": "code",
   "execution_count": 15,
   "metadata": {
    "papermill": {
     "duration": 0.038019,
     "end_time": "2020-05-12T09:05:15.885935",
     "exception": false,
     "start_time": "2020-05-12T09:05:15.847916",
     "status": "completed"
    },
    "tags": []
   },
   "outputs": [
    {
     "name": "stdout",
     "output_type": "stream",
     "text": [
      "\\begin{tabular}{lrrrr}\n",
      "\\toprule\n",
      "{} &     Users &     Items &       Pairs & Density \\\\\n",
      "\\midrule\n",
      "AZ   & 8,026,324 & 2,268,142 &  22,460,535 & 0.0001\\% \\\\\n",
      "BX-E &    77,805 &   151,670 &     427,283 & 0.0036\\% \\\\\n",
      "BX-I &   105,283 &   279,501 &   1,129,814 & 0.0038\\% \\\\\n",
      "GR-E &   808,782 & 1,080,777 &  86,537,566 & 0.0099\\% \\\\\n",
      "GR-I &   870,011 & 1,096,636 & 188,943,278 & 0.0198\\% \\\\\n",
      "\\bottomrule\n",
      "\\end{tabular}\n",
      "\n"
     ]
    }
   ],
   "source": [
    "def pct_fmt(p):\n",
    "    return '{:.4f}%'.format(p * 100)\n",
    "def n_fmt(n):\n",
    "    return '{:,d}'.format(n)\n",
    "print(ds_summary.to_latex(formatters={\n",
    "    'Users': n_fmt,\n",
    "    'Items': n_fmt,\n",
    "    'Pairs': n_fmt,\n",
    "    'Density': pct_fmt\n",
    "}))"
   ]
  },
  {
   "cell_type": "markdown",
   "metadata": {
    "papermill": {
     "duration": 0.024004,
     "end_time": "2020-05-12T09:05:15.933937",
     "exception": false,
     "start_time": "2020-05-12T09:05:15.909933",
     "status": "completed"
    },
    "tags": []
   },
   "source": [
    "### Distributions"
   ]
  },
  {
   "cell_type": "markdown",
   "metadata": {
    "papermill": {
     "duration": 0.024969,
     "end_time": "2020-05-12T09:05:15.981916",
     "exception": false,
     "start_time": "2020-05-12T09:05:15.956947",
     "status": "completed"
    },
    "tags": []
   },
   "source": [
    "What is the rating distribution for explicit-feedback data sets?"
   ]
  },
  {
   "cell_type": "code",
   "execution_count": 16,
   "metadata": {
    "papermill": {
     "duration": 0.029032,
     "end_time": "2020-05-12T09:05:16.033947",
     "exception": false,
     "start_time": "2020-05-12T09:05:16.004915",
     "status": "completed"
    },
    "tags": []
   },
   "outputs": [
    {
     "data": {
      "text/plain": [
       "['AZ', 'BX-E', 'GR-E']"
      ]
     },
     "execution_count": 16,
     "metadata": {},
     "output_type": "execute_result"
    }
   ],
   "source": [
    "exp_re = re.compile(r'^\\w\\w(-E|$)')\n",
    "[ds for ds in ratings.keys() if exp_re.match(ds)]"
   ]
  },
  {
   "cell_type": "code",
   "execution_count": 17,
   "metadata": {
    "papermill": {
     "duration": 2.324109,
     "end_time": "2020-05-12T09:05:18.381051",
     "exception": false,
     "start_time": "2020-05-12T09:05:16.056942",
     "status": "completed"
    },
    "tags": []
   },
   "outputs": [
    {
     "data": {
      "text/html": [
       "<div>\n",
       "<style scoped>\n",
       "    .dataframe tbody tr th:only-of-type {\n",
       "        vertical-align: middle;\n",
       "    }\n",
       "\n",
       "    .dataframe tbody tr th {\n",
       "        vertical-align: top;\n",
       "    }\n",
       "\n",
       "    .dataframe thead th {\n",
       "        text-align: right;\n",
       "    }\n",
       "</style>\n",
       "<table border=\"1\" class=\"dataframe\">\n",
       "  <thead>\n",
       "    <tr style=\"text-align: right;\">\n",
       "      <th></th>\n",
       "      <th>rating</th>\n",
       "      <th>count</th>\n",
       "      <th>Set</th>\n",
       "    </tr>\n",
       "  </thead>\n",
       "  <tbody>\n",
       "    <tr>\n",
       "      <th>0</th>\n",
       "      <td>1.0</td>\n",
       "      <td>1115069</td>\n",
       "      <td>AZ</td>\n",
       "    </tr>\n",
       "    <tr>\n",
       "      <th>1</th>\n",
       "      <td>1.5</td>\n",
       "      <td>254</td>\n",
       "      <td>AZ</td>\n",
       "    </tr>\n",
       "    <tr>\n",
       "      <th>2</th>\n",
       "      <td>2.0</td>\n",
       "      <td>976839</td>\n",
       "      <td>AZ</td>\n",
       "    </tr>\n",
       "    <tr>\n",
       "      <th>3</th>\n",
       "      <td>2.5</td>\n",
       "      <td>453</td>\n",
       "      <td>AZ</td>\n",
       "    </tr>\n",
       "    <tr>\n",
       "      <th>4</th>\n",
       "      <td>3.0</td>\n",
       "      <td>1918050</td>\n",
       "      <td>AZ</td>\n",
       "    </tr>\n",
       "  </tbody>\n",
       "</table>\n",
       "</div>"
      ],
      "text/plain": [
       "   rating    count Set\n",
       "0     1.0  1115069  AZ\n",
       "1     1.5      254  AZ\n",
       "2     2.0   976839  AZ\n",
       "3     2.5      453  AZ\n",
       "4     3.0  1918050  AZ"
      ]
     },
     "execution_count": 17,
     "metadata": {},
     "output_type": "execute_result"
    }
   ],
   "source": [
    "exp_rate_stats = pd.concat(\n",
    "    (rates.groupby('rating').item.count().reset_index(name='count').assign(Set=ds)\n",
    "     for (ds, rates) in ratings.items() if exp_re.match(ds))\n",
    ", ignore_index=True)\n",
    "exp_rate_stats.head()"
   ]
  },
  {
   "cell_type": "code",
   "execution_count": 18,
   "metadata": {
    "papermill": {
     "duration": 0.424999,
     "end_time": "2020-05-12T09:05:18.830039",
     "exception": false,
     "start_time": "2020-05-12T09:05:18.405040",
     "status": "completed"
    },
    "tags": []
   },
   "outputs": [
    {
     "name": "stderr",
     "output_type": "stream",
     "text": [
      "C:\\Users\\michaelekstrand\\Anaconda3\\envs\\bookfair\\lib\\site-packages\\seaborn\\axisgrid.py:728: UserWarning: Using the barplot function without specifying `order` is likely to produce an incorrect plot.\n",
      "  warnings.warn(warning)\n"
     ]
    },
    {
     "data": {
      "text/plain": [
       "<seaborn.axisgrid.FacetGrid at 0x2970109fbc8>"
      ]
     },
     "execution_count": 18,
     "metadata": {},
     "output_type": "execute_result"
    },
    {
     "data": {
      "image/png": "[encoded data removed]",
      "text/plain": [
       "<Figure size 648x216 with 3 Axes>"
      ]
     },
     "metadata": {
      "needs_background": "light"
     },
     "output_type": "display_data"
    }
   ],
   "source": [
    "grid = sns.FacetGrid(col='Set', data=exp_rate_stats, sharex=False, sharey=False)\n",
    "grid.map(sns.barplot, 'rating', 'count')"
   ]
  },
  {
   "cell_type": "code",
   "execution_count": 19,
   "metadata": {
    "papermill": {
     "duration": 9.183284,
     "end_time": "2020-05-12T09:05:28.038323",
     "exception": false,
     "start_time": "2020-05-12T09:05:18.855039",
     "status": "completed"
    },
    "tags": []
   },
   "outputs": [
    {
     "data": {
      "text/html": [
       "<div>\n",
       "<style scoped>\n",
       "    .dataframe tbody tr th:only-of-type {\n",
       "        vertical-align: middle;\n",
       "    }\n",
       "\n",
       "    .dataframe tbody tr th {\n",
       "        vertical-align: top;\n",
       "    }\n",
       "\n",
       "    .dataframe thead th {\n",
       "        text-align: right;\n",
       "    }\n",
       "</style>\n",
       "<table border=\"1\" class=\"dataframe\">\n",
       "  <thead>\n",
       "    <tr style=\"text-align: right;\">\n",
       "      <th></th>\n",
       "      <th>user</th>\n",
       "      <th>AvgRating</th>\n",
       "      <th>Set</th>\n",
       "    </tr>\n",
       "  </thead>\n",
       "  <tbody>\n",
       "    <tr>\n",
       "      <th>0</th>\n",
       "      <td>1</td>\n",
       "      <td>5.000000</td>\n",
       "      <td>AZ</td>\n",
       "    </tr>\n",
       "    <tr>\n",
       "      <th>1</th>\n",
       "      <td>2</td>\n",
       "      <td>5.000000</td>\n",
       "      <td>AZ</td>\n",
       "    </tr>\n",
       "    <tr>\n",
       "      <th>2</th>\n",
       "      <td>3</td>\n",
       "      <td>5.000000</td>\n",
       "      <td>AZ</td>\n",
       "    </tr>\n",
       "    <tr>\n",
       "      <th>3</th>\n",
       "      <td>4</td>\n",
       "      <td>4.666667</td>\n",
       "      <td>AZ</td>\n",
       "    </tr>\n",
       "    <tr>\n",
       "      <th>4</th>\n",
       "      <td>5</td>\n",
       "      <td>4.000000</td>\n",
       "      <td>AZ</td>\n",
       "    </tr>\n",
       "  </tbody>\n",
       "</table>\n",
       "</div>"
      ],
      "text/plain": [
       "   user  AvgRating Set\n",
       "0     1   5.000000  AZ\n",
       "1     2   5.000000  AZ\n",
       "2     3   5.000000  AZ\n",
       "3     4   4.666667  AZ\n",
       "4     5   4.000000  AZ"
      ]
     },
     "execution_count": 19,
     "metadata": {},
     "output_type": "execute_result"
    }
   ],
   "source": [
    "user_means = pd.concat(\n",
    "    (rates.groupby('user').rating.mean().reset_index(name='AvgRating').assign(Set=ds)\n",
    "     for (ds, rates) in ratings.items() if exp_re.match(ds))\n",
    ", ignore_index=True)\n",
    "user_means.head()"
   ]
  },
  {
   "cell_type": "code",
   "execution_count": 20,
   "metadata": {
    "papermill": {
     "duration": 4.824112,
     "end_time": "2020-05-12T09:05:32.888410",
     "exception": false,
     "start_time": "2020-05-12T09:05:28.064298",
     "status": "completed"
    },
    "tags": []
   },
   "outputs": [
    {
     "data": {
      "text/plain": [
       "<seaborn.axisgrid.FacetGrid at 0x29701c03a48>"
      ]
     },
     "execution_count": 20,
     "metadata": {},
     "output_type": "execute_result"
    },
    {
     "data": {
      "image/png": "[encoded data removed]",
      "text/plain": [
       "<Figure size 648x216 with 3 Axes>"
      ]
     },
     "metadata": {
      "needs_background": "light"
     },
     "output_type": "display_data"
    }
   ],
   "source": [
    "grid = sns.FacetGrid(col='Set', data=user_means, sharey=False, sharex=False)\n",
    "grid.map(sns.distplot, 'AvgRating')"
   ]
  },
  {
   "cell_type": "code",
   "execution_count": 21,
   "metadata": {
    "papermill": {
     "duration": 6.932415,
     "end_time": "2020-05-12T09:05:39.844850",
     "exception": false,
     "start_time": "2020-05-12T09:05:32.912435",
     "status": "completed"
    },
    "tags": []
   },
   "outputs": [
    {
     "data": {
      "text/html": [
       "<div>\n",
       "<style scoped>\n",
       "    .dataframe tbody tr th:only-of-type {\n",
       "        vertical-align: middle;\n",
       "    }\n",
       "\n",
       "    .dataframe tbody tr th {\n",
       "        vertical-align: top;\n",
       "    }\n",
       "\n",
       "    .dataframe thead th {\n",
       "        text-align: right;\n",
       "    }\n",
       "</style>\n",
       "<table border=\"1\" class=\"dataframe\">\n",
       "  <thead>\n",
       "    <tr style=\"text-align: right;\">\n",
       "      <th></th>\n",
       "      <th>item</th>\n",
       "      <th>AvgRating</th>\n",
       "      <th>Set</th>\n",
       "    </tr>\n",
       "  </thead>\n",
       "  <tbody>\n",
       "    <tr>\n",
       "      <th>0</th>\n",
       "      <td>0</td>\n",
       "      <td>4.250000</td>\n",
       "      <td>AZ</td>\n",
       "    </tr>\n",
       "    <tr>\n",
       "      <th>1</th>\n",
       "      <td>2</td>\n",
       "      <td>4.523077</td>\n",
       "      <td>AZ</td>\n",
       "    </tr>\n",
       "    <tr>\n",
       "      <th>2</th>\n",
       "      <td>5</td>\n",
       "      <td>4.348315</td>\n",
       "      <td>AZ</td>\n",
       "    </tr>\n",
       "    <tr>\n",
       "      <th>3</th>\n",
       "      <td>8</td>\n",
       "      <td>4.368421</td>\n",
       "      <td>AZ</td>\n",
       "    </tr>\n",
       "    <tr>\n",
       "      <th>4</th>\n",
       "      <td>11</td>\n",
       "      <td>3.968750</td>\n",
       "      <td>AZ</td>\n",
       "    </tr>\n",
       "  </tbody>\n",
       "</table>\n",
       "</div>"
      ],
      "text/plain": [
       "   item  AvgRating Set\n",
       "0     0   4.250000  AZ\n",
       "1     2   4.523077  AZ\n",
       "2     5   4.348315  AZ\n",
       "3     8   4.368421  AZ\n",
       "4    11   3.968750  AZ"
      ]
     },
     "execution_count": 21,
     "metadata": {},
     "output_type": "execute_result"
    }
   ],
   "source": [
    "item_means = pd.concat(\n",
    "    (rates.groupby('item').rating.mean().reset_index(name='AvgRating').assign(Set=ds)\n",
    "     for (ds, rates) in ratings.items() if exp_re.match(ds))\n",
    ", ignore_index=True)\n",
    "item_means.head()"
   ]
  },
  {
   "cell_type": "code",
   "execution_count": 22,
   "metadata": {
    "papermill": {
     "duration": 2.356608,
     "end_time": "2020-05-12T09:05:42.227424",
     "exception": false,
     "start_time": "2020-05-12T09:05:39.870816",
     "status": "completed"
    },
    "tags": []
   },
   "outputs": [
    {
     "data": {
      "text/plain": [
       "<seaborn.axisgrid.FacetGrid at 0x29702975ec8>"
      ]
     },
     "execution_count": 22,
     "metadata": {},
     "output_type": "execute_result"
    },
    {
     "data": {
      "image/png": "[encoded data removed]",
      "text/plain": [
       "<Figure size 648x216 with 3 Axes>"
      ]
     },
     "metadata": {
      "needs_background": "light"
     },
     "output_type": "display_data"
    }
   ],
   "source": [
    "grid = sns.FacetGrid(col='Set', data=item_means, sharey=False, sharex=False)\n",
    "grid.map(sns.distplot, 'AvgRating')"
   ]
  },
  {
   "cell_type": "markdown",
   "metadata": {
    "papermill": {
     "duration": 0.027002,
     "end_time": "2020-05-12T09:05:42.281425",
     "exception": false,
     "start_time": "2020-05-12T09:05:42.254423",
     "status": "completed"
    },
    "tags": []
   },
   "source": [
    "## Count and Integrate\n",
    "\n",
    "Now that we have the data loaded, we need to do a few things:\n",
    "\n",
    "1. Connect with gender info\n",
    "2. Count books (or ratings) by gender. All kinds of unlinked gender are mapped to `unlinked`.\n",
    "3. Integrate into a single set of lists\n",
    "\n",
    "To start, we'll define a couple of helper for counting books or ratings:"
   ]
  },
  {
   "cell_type": "code",
   "execution_count": 23,
   "metadata": {
    "papermill": {
     "duration": 0.035,
     "end_time": "2020-05-12T09:05:42.343424",
     "exception": false,
     "start_time": "2020-05-12T09:05:42.308424",
     "status": "completed"
    },
    "tags": []
   },
   "outputs": [],
   "source": [
    "def gender_info(books, full=False):\n",
    "    # get gender info\n",
    "    books = books.join(book_gender, on='item', how='left')\n",
    "    # normalize things\n",
    "    if full:\n",
    "        books['gender'].cat.add_categories(['no-book'], inplace=True)\n",
    "        books['gender'].fillna('no-book', inplace=True)\n",
    "        books['gender'].cat.reorder_categories(['no-book', 'no-loc-author', 'no-viaf-author',\n",
    "                                                'unknown', 'ambiguous', 'female', 'male'], inplace=True)\n",
    "    else:\n",
    "        books['gender'].cat.add_categories(['unlinked'], inplace=True)\n",
    "        books['gender'].fillna('unlinked', inplace=True)\n",
    "        books.loc[books['gender'] == 'no-loc-author', 'gender'] = 'unlinked'\n",
    "        books.loc[books['gender'] == 'no-viaf-author', 'gender'] = 'unlinked'\n",
    "        books['gender'].cat.remove_unused_categories(inplace=True)\n",
    "        books['gender'].cat.reorder_categories(['female', 'male', 'ambiguous', 'unknown', 'unlinked'], inplace=True)\n",
    "    return books"
   ]
  },
  {
   "cell_type": "code",
   "execution_count": 24,
   "metadata": {
    "papermill": {
     "duration": 0.034001,
     "end_time": "2020-05-12T09:05:42.404424",
     "exception": false,
     "start_time": "2020-05-12T09:05:42.370423",
     "status": "completed"
    },
    "tags": []
   },
   "outputs": [],
   "source": [
    "def summarize_by_gender(book_frame, full=False):\n",
    "    # we only need the item column\n",
    "    books = gender_info(book_frame[['item']], full)\n",
    "\n",
    "    # join and count\n",
    "    counts = books.groupby('gender').agg(['count', 'nunique']).droplevel(0, axis=1)\n",
    "    counts = counts.rename(columns={'count': 'Ratings', 'nunique': 'Books'})\n",
    "    return counts"
   ]
  },
  {
   "cell_type": "markdown",
   "metadata": {
    "papermill": {
     "duration": 0.026003,
     "end_time": "2020-05-12T09:05:42.456427",
     "exception": false,
     "start_time": "2020-05-12T09:05:42.430424",
     "status": "completed"
    },
    "tags": []
   },
   "source": [
    "Let's see the function in action:"
   ]
  },
  {
   "cell_type": "code",
   "execution_count": 25,
   "metadata": {
    "papermill": {
     "duration": 1.023997,
     "end_time": "2020-05-12T09:05:43.506421",
     "exception": false,
     "start_time": "2020-05-12T09:05:42.482424",
     "status": "completed"
    },
    "tags": []
   },
   "outputs": [
    {
     "data": {
      "text/html": [
       "<div>\n",
       "<style scoped>\n",
       "    .dataframe tbody tr th:only-of-type {\n",
       "        vertical-align: middle;\n",
       "    }\n",
       "\n",
       "    .dataframe tbody tr th {\n",
       "        vertical-align: top;\n",
       "    }\n",
       "\n",
       "    .dataframe thead th {\n",
       "        text-align: right;\n",
       "    }\n",
       "</style>\n",
       "<table border=\"1\" class=\"dataframe\">\n",
       "  <thead>\n",
       "    <tr style=\"text-align: right;\">\n",
       "      <th></th>\n",
       "      <th>Ratings</th>\n",
       "      <th>Books</th>\n",
       "    </tr>\n",
       "    <tr>\n",
       "      <th>gender</th>\n",
       "      <th></th>\n",
       "      <th></th>\n",
       "    </tr>\n",
       "  </thead>\n",
       "  <tbody>\n",
       "    <tr>\n",
       "      <th>female</th>\n",
       "      <td>138827</td>\n",
       "      <td>38093</td>\n",
       "    </tr>\n",
       "    <tr>\n",
       "      <th>male</th>\n",
       "      <td>185054</td>\n",
       "      <td>55906</td>\n",
       "    </tr>\n",
       "    <tr>\n",
       "      <th>ambiguous</th>\n",
       "      <td>30444</td>\n",
       "      <td>4014</td>\n",
       "    </tr>\n",
       "    <tr>\n",
       "      <th>unknown</th>\n",
       "      <td>27434</td>\n",
       "      <td>16900</td>\n",
       "    </tr>\n",
       "    <tr>\n",
       "      <th>unlinked</th>\n",
       "      <td>45524</td>\n",
       "      <td>36757</td>\n",
       "    </tr>\n",
       "  </tbody>\n",
       "</table>\n",
       "</div>"
      ],
      "text/plain": [
       "           Ratings  Books\n",
       "gender                   \n",
       "female      138827  38093\n",
       "male        185054  55906\n",
       "ambiguous    30444   4014\n",
       "unknown      27434  16900\n",
       "unlinked     45524  36757"
      ]
     },
     "execution_count": 25,
     "metadata": {},
     "output_type": "execute_result"
    }
   ],
   "source": [
    "summarize_by_gender(ratings['BX-E'])"
   ]
  },
  {
   "cell_type": "markdown",
   "metadata": {
    "papermill": {
     "duration": 0.032998,
     "end_time": "2020-05-12T09:05:43.570422",
     "exception": false,
     "start_time": "2020-05-12T09:05:43.537424",
     "status": "completed"
    },
    "tags": []
   },
   "source": [
    "Now build up a full frame of everything:"
   ]
  },
  {
   "cell_type": "code",
   "execution_count": 26,
   "metadata": {
    "papermill": {
     "duration": 524.764354,
     "end_time": "2020-05-12T09:14:28.372777",
     "exception": false,
     "start_time": "2020-05-12T09:05:43.608423",
     "status": "completed"
    },
    "tags": []
   },
   "outputs": [
    {
     "name": "stderr",
     "output_type": "stream",
     "text": [
      "summarizing LOC\n"
     ]
    },
    {
     "name": "stderr",
     "output_type": "stream",
     "text": [
      "summarizing AZ\n"
     ]
    },
    {
     "name": "stderr",
     "output_type": "stream",
     "text": [
      "summarizing BX-E\n"
     ]
    },
    {
     "name": "stderr",
     "output_type": "stream",
     "text": [
      "summarizing BX-I\n"
     ]
    },
    {
     "name": "stderr",
     "output_type": "stream",
     "text": [
      "summarizing GR-E\n"
     ]
    },
    {
     "name": "stderr",
     "output_type": "stream",
     "text": [
      "summarizing GR-I\n"
     ]
    },
    {
     "name": "stdout",
     "output_type": "stream",
     "text": [
      "<class 'pandas.core.frame.DataFrame'>\n",
      "MultiIndex: 30 entries, ('LOC', 'female') to ('GR-I', 'unlinked')\n",
      "Data columns (total 2 columns):\n",
      " #   Column   Non-Null Count  Dtype\n",
      "---  ------   --------------  -----\n",
      " 0   Ratings  30 non-null     int64\n",
      " 1   Books    30 non-null     int64\n",
      "dtypes: int64(2)\n",
      "memory usage: 904.0+ bytes\n"
     ]
    }
   ],
   "source": [
    "eprint('summarizing LOC')\n",
    "summaries = {'LOC': summarize_by_gender(loc_books)}\n",
    "for ds, f in ratings.items():\n",
    "    eprint('summarizing', ds)\n",
    "    summaries[ds] = summarize_by_gender(f)\n",
    "gender_stats = pd.concat(summaries, names=['DataSet'])\n",
    "gender_stats.info()"
   ]
  },
  {
   "cell_type": "code",
   "execution_count": 27,
   "metadata": {
    "papermill": {
     "duration": 588.431031,
     "end_time": "2020-05-12T09:24:16.837805",
     "exception": false,
     "start_time": "2020-05-12T09:14:28.406774",
     "status": "completed"
    },
    "tags": []
   },
   "outputs": [
    {
     "name": "stderr",
     "output_type": "stream",
     "text": [
      "summarizing LOC\n"
     ]
    },
    {
     "name": "stderr",
     "output_type": "stream",
     "text": [
      "summarizing AZ\n"
     ]
    },
    {
     "name": "stderr",
     "output_type": "stream",
     "text": [
      "summarizing BX-E\n"
     ]
    },
    {
     "name": "stderr",
     "output_type": "stream",
     "text": [
      "summarizing BX-I\n"
     ]
    },
    {
     "name": "stderr",
     "output_type": "stream",
     "text": [
      "summarizing GR-E\n"
     ]
    },
    {
     "name": "stderr",
     "output_type": "stream",
     "text": [
      "summarizing GR-I\n"
     ]
    },
    {
     "name": "stdout",
     "output_type": "stream",
     "text": [
      "<class 'pandas.core.frame.DataFrame'>\n",
      "MultiIndex: 42 entries, ('LOC', 'ambiguous') to ('GR-I', 'no-book')\n",
      "Data columns (total 2 columns):\n",
      " #   Column   Non-Null Count  Dtype\n",
      "---  ------   --------------  -----\n",
      " 0   Ratings  42 non-null     int64\n",
      " 1   Books    42 non-null     int64\n",
      "dtypes: int64(2)\n",
      "memory usage: 1.3+ KB\n"
     ]
    }
   ],
   "source": [
    "eprint('summarizing LOC')\n",
    "fsums = {'LOC': summarize_by_gender(loc_books, True)}\n",
    "for ds, f in ratings.items():\n",
    "    eprint('summarizing', ds)\n",
    "    fsums[ds] = summarize_by_gender(f, True)\n",
    "full_stats = pd.concat(fsums, names=['DataSet'])\n",
    "full_stats.info()"
   ]
  },
  {
   "cell_type": "code",
   "execution_count": 28,
   "metadata": {
    "papermill": {
     "duration": 0.053998,
     "end_time": "2020-05-12T09:24:16.921803",
     "exception": false,
     "start_time": "2020-05-12T09:24:16.867805",
     "status": "completed"
    },
    "tags": []
   },
   "outputs": [
    {
     "data": {
      "text/html": [
       "<div>\n",
       "<style scoped>\n",
       "    .dataframe tbody tr th:only-of-type {\n",
       "        vertical-align: middle;\n",
       "    }\n",
       "\n",
       "    .dataframe tbody tr th {\n",
       "        vertical-align: top;\n",
       "    }\n",
       "\n",
       "    .dataframe thead th {\n",
       "        text-align: right;\n",
       "    }\n",
       "</style>\n",
       "<table border=\"1\" class=\"dataframe\">\n",
       "  <thead>\n",
       "    <tr style=\"text-align: right;\">\n",
       "      <th>gender</th>\n",
       "      <th>no-book</th>\n",
       "      <th>no-loc-author</th>\n",
       "      <th>no-viaf-author</th>\n",
       "      <th>unknown</th>\n",
       "      <th>ambiguous</th>\n",
       "      <th>male</th>\n",
       "      <th>female</th>\n",
       "    </tr>\n",
       "    <tr>\n",
       "      <th>DataSet</th>\n",
       "      <th></th>\n",
       "      <th></th>\n",
       "      <th></th>\n",
       "      <th></th>\n",
       "      <th></th>\n",
       "      <th></th>\n",
       "      <th></th>\n",
       "    </tr>\n",
       "  </thead>\n",
       "  <tbody>\n",
       "    <tr>\n",
       "      <th>LOC</th>\n",
       "      <td>0</td>\n",
       "      <td>842755</td>\n",
       "      <td>297405</td>\n",
       "      <td>1214597</td>\n",
       "      <td>53232</td>\n",
       "      <td>2195117</td>\n",
       "      <td>664221</td>\n",
       "    </tr>\n",
       "    <tr>\n",
       "      <th>AZ</th>\n",
       "      <td>934847</td>\n",
       "      <td>226764</td>\n",
       "      <td>157072</td>\n",
       "      <td>236219</td>\n",
       "      <td>17056</td>\n",
       "      <td>480628</td>\n",
       "      <td>215556</td>\n",
       "    </tr>\n",
       "    <tr>\n",
       "      <th>BX-E</th>\n",
       "      <td>22674</td>\n",
       "      <td>6456</td>\n",
       "      <td>7627</td>\n",
       "      <td>16900</td>\n",
       "      <td>4014</td>\n",
       "      <td>55906</td>\n",
       "      <td>38093</td>\n",
       "    </tr>\n",
       "    <tr>\n",
       "      <th>BX-I</th>\n",
       "      <td>45560</td>\n",
       "      <td>12906</td>\n",
       "      <td>15631</td>\n",
       "      <td>34614</td>\n",
       "      <td>6770</td>\n",
       "      <td>96933</td>\n",
       "      <td>67087</td>\n",
       "    </tr>\n",
       "    <tr>\n",
       "      <th>GR-E</th>\n",
       "      <td>0</td>\n",
       "      <td>487495</td>\n",
       "      <td>35267</td>\n",
       "      <td>95887</td>\n",
       "      <td>11087</td>\n",
       "      <td>276045</td>\n",
       "      <td>174996</td>\n",
       "    </tr>\n",
       "    <tr>\n",
       "      <th>GR-I</th>\n",
       "      <td>0</td>\n",
       "      <td>495592</td>\n",
       "      <td>36106</td>\n",
       "      <td>97667</td>\n",
       "      <td>11189</td>\n",
       "      <td>279442</td>\n",
       "      <td>176640</td>\n",
       "    </tr>\n",
       "  </tbody>\n",
       "</table>\n",
       "</div>"
      ],
      "text/plain": [
       "gender   no-book  no-loc-author  no-viaf-author  unknown  ambiguous     male  \\\n",
       "DataSet                                                                        \n",
       "LOC            0         842755          297405  1214597      53232  2195117   \n",
       "AZ        934847         226764          157072   236219      17056   480628   \n",
       "BX-E       22674           6456            7627    16900       4014    55906   \n",
       "BX-I       45560          12906           15631    34614       6770    96933   \n",
       "GR-E           0         487495           35267    95887      11087   276045   \n",
       "GR-I           0         495592           36106    97667      11189   279442   \n",
       "\n",
       "gender   female  \n",
       "DataSet          \n",
       "LOC      664221  \n",
       "AZ       215556  \n",
       "BX-E      38093  \n",
       "BX-I      67087  \n",
       "GR-E     174996  \n",
       "GR-I     176640  "
      ]
     },
     "execution_count": 28,
     "metadata": {},
     "output_type": "execute_result"
    }
   ],
   "source": [
    "book_counts = full_stats['Books'].unstack()\n",
    "book_counts = book_counts[['no-book', 'no-loc-author', 'no-viaf-author', 'unknown', 'ambiguous', 'male', 'female']]\n",
    "book_counts"
   ]
  },
  {
   "cell_type": "code",
   "execution_count": 29,
   "metadata": {
    "papermill": {
     "duration": 0.04,
     "end_time": "2020-05-12T09:24:16.993801",
     "exception": false,
     "start_time": "2020-05-12T09:24:16.953801",
     "status": "completed"
    },
    "tags": []
   },
   "outputs": [
    {
     "data": {
      "text/plain": [
       "DataSet\n",
       "LOC     1140160\n",
       "AZ      1318683\n",
       "BX-E      36757\n",
       "BX-I      74097\n",
       "GR-E     522762\n",
       "GR-I     531698\n",
       "dtype: int64"
      ]
     },
     "execution_count": 29,
     "metadata": {},
     "output_type": "execute_result"
    }
   ],
   "source": [
    "book_counts[['no-book', 'no-loc-author', 'no-viaf-author']].sum(axis=1)"
   ]
  },
  {
   "cell_type": "code",
   "execution_count": 30,
   "metadata": {
    "papermill": {
     "duration": 0.043001,
     "end_time": "2020-05-12T09:24:17.065801",
     "exception": false,
     "start_time": "2020-05-12T09:24:17.022800",
     "status": "completed"
    },
    "tags": []
   },
   "outputs": [
    {
     "data": {
      "text/html": [
       "<div>\n",
       "<style scoped>\n",
       "    .dataframe tbody tr th:only-of-type {\n",
       "        vertical-align: middle;\n",
       "    }\n",
       "\n",
       "    .dataframe tbody tr th {\n",
       "        vertical-align: top;\n",
       "    }\n",
       "\n",
       "    .dataframe thead th {\n",
       "        text-align: right;\n",
       "    }\n",
       "</style>\n",
       "<table border=\"1\" class=\"dataframe\">\n",
       "  <thead>\n",
       "    <tr style=\"text-align: right;\">\n",
       "      <th>gender</th>\n",
       "      <th>no-book</th>\n",
       "      <th>no-loc-author</th>\n",
       "      <th>no-viaf-author</th>\n",
       "      <th>unknown</th>\n",
       "      <th>ambiguous</th>\n",
       "      <th>male</th>\n",
       "      <th>female</th>\n",
       "    </tr>\n",
       "    <tr>\n",
       "      <th>DataSet</th>\n",
       "      <th></th>\n",
       "      <th></th>\n",
       "      <th></th>\n",
       "      <th></th>\n",
       "      <th></th>\n",
       "      <th></th>\n",
       "      <th></th>\n",
       "    </tr>\n",
       "  </thead>\n",
       "  <tbody>\n",
       "    <tr>\n",
       "      <th>LOC</th>\n",
       "      <td>0.000000</td>\n",
       "      <td>0.159997</td>\n",
       "      <td>0.056462</td>\n",
       "      <td>0.230591</td>\n",
       "      <td>0.010106</td>\n",
       "      <td>0.416742</td>\n",
       "      <td>0.126102</td>\n",
       "    </tr>\n",
       "    <tr>\n",
       "      <th>AZ</th>\n",
       "      <td>0.412164</td>\n",
       "      <td>0.099978</td>\n",
       "      <td>0.069251</td>\n",
       "      <td>0.104146</td>\n",
       "      <td>0.007520</td>\n",
       "      <td>0.211904</td>\n",
       "      <td>0.095036</td>\n",
       "    </tr>\n",
       "    <tr>\n",
       "      <th>BX-E</th>\n",
       "      <td>0.149496</td>\n",
       "      <td>0.042566</td>\n",
       "      <td>0.050287</td>\n",
       "      <td>0.111426</td>\n",
       "      <td>0.026465</td>\n",
       "      <td>0.368603</td>\n",
       "      <td>0.251157</td>\n",
       "    </tr>\n",
       "    <tr>\n",
       "      <th>BX-I</th>\n",
       "      <td>0.163005</td>\n",
       "      <td>0.046175</td>\n",
       "      <td>0.055925</td>\n",
       "      <td>0.123842</td>\n",
       "      <td>0.024222</td>\n",
       "      <td>0.346807</td>\n",
       "      <td>0.240024</td>\n",
       "    </tr>\n",
       "    <tr>\n",
       "      <th>GR-E</th>\n",
       "      <td>0.000000</td>\n",
       "      <td>0.451060</td>\n",
       "      <td>0.032631</td>\n",
       "      <td>0.088720</td>\n",
       "      <td>0.010258</td>\n",
       "      <td>0.255413</td>\n",
       "      <td>0.161917</td>\n",
       "    </tr>\n",
       "    <tr>\n",
       "      <th>GR-I</th>\n",
       "      <td>0.000000</td>\n",
       "      <td>0.451920</td>\n",
       "      <td>0.032924</td>\n",
       "      <td>0.089061</td>\n",
       "      <td>0.010203</td>\n",
       "      <td>0.254817</td>\n",
       "      <td>0.161074</td>\n",
       "    </tr>\n",
       "  </tbody>\n",
       "</table>\n",
       "</div>"
      ],
      "text/plain": [
       "gender    no-book  no-loc-author  no-viaf-author   unknown  ambiguous  \\\n",
       "DataSet                                                                 \n",
       "LOC      0.000000       0.159997        0.056462  0.230591   0.010106   \n",
       "AZ       0.412164       0.099978        0.069251  0.104146   0.007520   \n",
       "BX-E     0.149496       0.042566        0.050287  0.111426   0.026465   \n",
       "BX-I     0.163005       0.046175        0.055925  0.123842   0.024222   \n",
       "GR-E     0.000000       0.451060        0.032631  0.088720   0.010258   \n",
       "GR-I     0.000000       0.451920        0.032924  0.089061   0.010203   \n",
       "\n",
       "gender       male    female  \n",
       "DataSet                      \n",
       "LOC      0.416742  0.126102  \n",
       "AZ       0.211904  0.095036  \n",
       "BX-E     0.368603  0.251157  \n",
       "BX-I     0.346807  0.240024  \n",
       "GR-E     0.255413  0.161917  \n",
       "GR-I     0.254817  0.161074  "
      ]
     },
     "execution_count": 30,
     "metadata": {},
     "output_type": "execute_result"
    }
   ],
   "source": [
    "book_fracs = book_counts.divide(book_counts.sum(axis=1), axis=0)\n",
    "book_fracs"
   ]
  },
  {
   "cell_type": "code",
   "execution_count": 31,
   "metadata": {
    "papermill": {
     "duration": 0.042998,
     "end_time": "2020-05-12T09:24:17.137798",
     "exception": false,
     "start_time": "2020-05-12T09:24:17.094800",
     "status": "completed"
    },
    "tags": []
   },
   "outputs": [],
   "source": [
    "# book_counts.divide(book_counts.sum(axis=1), axis=0) * 100"
   ]
  },
  {
   "cell_type": "code",
   "execution_count": 32,
   "metadata": {
    "papermill": {
     "duration": 0.040999,
     "end_time": "2020-05-12T09:24:17.209306",
     "exception": false,
     "start_time": "2020-05-12T09:24:17.168307",
     "status": "completed"
    },
    "tags": []
   },
   "outputs": [
    {
     "name": "stdout",
     "output_type": "stream",
     "text": [
      "\\begin{tabular}{lrrrrrrr}\n",
      "\\toprule\n",
      "gender &  no-book &  no-loc-author &  no-viaf-author &  unknown &  ambiguous &  male &  female \\\\\n",
      "DataSet &          &                &                 &          &            &       &         \\\\\n",
      "\\midrule\n",
      "LOC     &     0.0\\% &          16.0\\% &            5.6\\% &    23.1\\% &       1.0\\% & 41.7\\% &   12.6\\% \\\\\n",
      "AZ      &    41.2\\% &          10.0\\% &            6.9\\% &    10.4\\% &       0.8\\% & 21.2\\% &    9.5\\% \\\\\n",
      "BX-E    &    14.9\\% &           4.3\\% &            5.0\\% &    11.1\\% &       2.6\\% & 36.9\\% &   25.1\\% \\\\\n",
      "BX-I    &    16.3\\% &           4.6\\% &            5.6\\% &    12.4\\% &       2.4\\% & 34.7\\% &   24.0\\% \\\\\n",
      "GR-E    &     0.0\\% &          45.1\\% &            3.3\\% &     8.9\\% &       1.0\\% & 25.5\\% &   16.2\\% \\\\\n",
      "GR-I    &     0.0\\% &          45.2\\% &            3.3\\% &     8.9\\% &       1.0\\% & 25.5\\% &   16.1\\% \\\\\n",
      "\\bottomrule\n",
      "\\end{tabular}\n",
      "\n"
     ]
    }
   ],
   "source": [
    "print((book_counts.divide(book_counts.sum(axis=1), axis=0) * 100).to_latex(float_format='%.1f%%'))"
   ]
  },
  {
   "cell_type": "markdown",
   "metadata": {
    "papermill": {
     "duration": 0.030999,
     "end_time": "2020-05-12T09:24:17.272304",
     "exception": false,
     "start_time": "2020-05-12T09:24:17.241305",
     "status": "completed"
    },
    "tags": []
   },
   "source": [
    "To facilitate plotting, we need to do a few more transformations:\n",
    "\n",
    "1. Shift into a tall format with a `Scope`\n",
    "2. Convert counts to percents\n",
    "3. Drop the LOC Ratings, because it is meaningless"
   ]
  },
  {
   "cell_type": "code",
   "execution_count": 33,
   "metadata": {
    "papermill": {
     "duration": 0.066999,
     "end_time": "2020-05-12T09:24:17.369303",
     "exception": false,
     "start_time": "2020-05-12T09:24:17.302304",
     "status": "completed"
    },
    "tags": []
   },
   "outputs": [
    {
     "data": {
      "text/html": [
       "<div>\n",
       "<style scoped>\n",
       "    .dataframe tbody tr th:only-of-type {\n",
       "        vertical-align: middle;\n",
       "    }\n",
       "\n",
       "    .dataframe tbody tr th {\n",
       "        vertical-align: top;\n",
       "    }\n",
       "\n",
       "    .dataframe thead th {\n",
       "        text-align: right;\n",
       "    }\n",
       "</style>\n",
       "<table border=\"1\" class=\"dataframe\">\n",
       "  <thead>\n",
       "    <tr style=\"text-align: right;\">\n",
       "      <th></th>\n",
       "      <th>DataSet</th>\n",
       "      <th>Scope</th>\n",
       "      <th>Gender</th>\n",
       "      <th>Count</th>\n",
       "      <th>Fraction</th>\n",
       "    </tr>\n",
       "  </thead>\n",
       "  <tbody>\n",
       "    <tr>\n",
       "      <th>0</th>\n",
       "      <td>AZ</td>\n",
       "      <td>Books</td>\n",
       "      <td>F</td>\n",
       "      <td>215556</td>\n",
       "      <td>0.095036</td>\n",
       "    </tr>\n",
       "    <tr>\n",
       "      <th>1</th>\n",
       "      <td>AZ</td>\n",
       "      <td>Books</td>\n",
       "      <td>M</td>\n",
       "      <td>480628</td>\n",
       "      <td>0.211904</td>\n",
       "    </tr>\n",
       "    <tr>\n",
       "      <th>2</th>\n",
       "      <td>AZ</td>\n",
       "      <td>Books</td>\n",
       "      <td>Amb.</td>\n",
       "      <td>17056</td>\n",
       "      <td>0.007520</td>\n",
       "    </tr>\n",
       "    <tr>\n",
       "      <th>3</th>\n",
       "      <td>AZ</td>\n",
       "      <td>Books</td>\n",
       "      <td>UnK</td>\n",
       "      <td>236219</td>\n",
       "      <td>0.104146</td>\n",
       "    </tr>\n",
       "    <tr>\n",
       "      <th>4</th>\n",
       "      <td>AZ</td>\n",
       "      <td>Books</td>\n",
       "      <td>UnL</td>\n",
       "      <td>1318683</td>\n",
       "      <td>0.581393</td>\n",
       "    </tr>\n",
       "    <tr>\n",
       "      <th>5</th>\n",
       "      <td>AZ</td>\n",
       "      <td>Ratings</td>\n",
       "      <td>F</td>\n",
       "      <td>4313858</td>\n",
       "      <td>0.192064</td>\n",
       "    </tr>\n",
       "    <tr>\n",
       "      <th>6</th>\n",
       "      <td>AZ</td>\n",
       "      <td>Ratings</td>\n",
       "      <td>M</td>\n",
       "      <td>6557232</td>\n",
       "      <td>0.291945</td>\n",
       "    </tr>\n",
       "    <tr>\n",
       "      <th>7</th>\n",
       "      <td>AZ</td>\n",
       "      <td>Ratings</td>\n",
       "      <td>Amb.</td>\n",
       "      <td>535239</td>\n",
       "      <td>0.023830</td>\n",
       "    </tr>\n",
       "    <tr>\n",
       "      <th>8</th>\n",
       "      <td>AZ</td>\n",
       "      <td>Ratings</td>\n",
       "      <td>UnK</td>\n",
       "      <td>2069787</td>\n",
       "      <td>0.092152</td>\n",
       "    </tr>\n",
       "    <tr>\n",
       "      <th>9</th>\n",
       "      <td>AZ</td>\n",
       "      <td>Ratings</td>\n",
       "      <td>UnL</td>\n",
       "      <td>8984419</td>\n",
       "      <td>0.400009</td>\n",
       "    </tr>\n",
       "    <tr>\n",
       "      <th>10</th>\n",
       "      <td>BX-E</td>\n",
       "      <td>Books</td>\n",
       "      <td>F</td>\n",
       "      <td>38093</td>\n",
       "      <td>0.251157</td>\n",
       "    </tr>\n",
       "    <tr>\n",
       "      <th>11</th>\n",
       "      <td>BX-E</td>\n",
       "      <td>Books</td>\n",
       "      <td>M</td>\n",
       "      <td>55906</td>\n",
       "      <td>0.368603</td>\n",
       "    </tr>\n",
       "    <tr>\n",
       "      <th>12</th>\n",
       "      <td>BX-E</td>\n",
       "      <td>Books</td>\n",
       "      <td>Amb.</td>\n",
       "      <td>4014</td>\n",
       "      <td>0.026465</td>\n",
       "    </tr>\n",
       "    <tr>\n",
       "      <th>13</th>\n",
       "      <td>BX-E</td>\n",
       "      <td>Books</td>\n",
       "      <td>UnK</td>\n",
       "      <td>16900</td>\n",
       "      <td>0.111426</td>\n",
       "    </tr>\n",
       "    <tr>\n",
       "      <th>14</th>\n",
       "      <td>BX-E</td>\n",
       "      <td>Books</td>\n",
       "      <td>UnL</td>\n",
       "      <td>36757</td>\n",
       "      <td>0.242349</td>\n",
       "    </tr>\n",
       "    <tr>\n",
       "      <th>15</th>\n",
       "      <td>BX-E</td>\n",
       "      <td>Ratings</td>\n",
       "      <td>F</td>\n",
       "      <td>138827</td>\n",
       "      <td>0.324906</td>\n",
       "    </tr>\n",
       "    <tr>\n",
       "      <th>16</th>\n",
       "      <td>BX-E</td>\n",
       "      <td>Ratings</td>\n",
       "      <td>M</td>\n",
       "      <td>185054</td>\n",
       "      <td>0.433095</td>\n",
       "    </tr>\n",
       "    <tr>\n",
       "      <th>17</th>\n",
       "      <td>BX-E</td>\n",
       "      <td>Ratings</td>\n",
       "      <td>Amb.</td>\n",
       "      <td>30444</td>\n",
       "      <td>0.071250</td>\n",
       "    </tr>\n",
       "    <tr>\n",
       "      <th>18</th>\n",
       "      <td>BX-E</td>\n",
       "      <td>Ratings</td>\n",
       "      <td>UnK</td>\n",
       "      <td>27434</td>\n",
       "      <td>0.064206</td>\n",
       "    </tr>\n",
       "    <tr>\n",
       "      <th>19</th>\n",
       "      <td>BX-E</td>\n",
       "      <td>Ratings</td>\n",
       "      <td>UnL</td>\n",
       "      <td>45524</td>\n",
       "      <td>0.106543</td>\n",
       "    </tr>\n",
       "    <tr>\n",
       "      <th>20</th>\n",
       "      <td>BX-I</td>\n",
       "      <td>Books</td>\n",
       "      <td>F</td>\n",
       "      <td>67087</td>\n",
       "      <td>0.240024</td>\n",
       "    </tr>\n",
       "    <tr>\n",
       "      <th>21</th>\n",
       "      <td>BX-I</td>\n",
       "      <td>Books</td>\n",
       "      <td>M</td>\n",
       "      <td>96933</td>\n",
       "      <td>0.346807</td>\n",
       "    </tr>\n",
       "    <tr>\n",
       "      <th>22</th>\n",
       "      <td>BX-I</td>\n",
       "      <td>Books</td>\n",
       "      <td>Amb.</td>\n",
       "      <td>6770</td>\n",
       "      <td>0.024222</td>\n",
       "    </tr>\n",
       "    <tr>\n",
       "      <th>23</th>\n",
       "      <td>BX-I</td>\n",
       "      <td>Books</td>\n",
       "      <td>UnK</td>\n",
       "      <td>34614</td>\n",
       "      <td>0.123842</td>\n",
       "    </tr>\n",
       "    <tr>\n",
       "      <th>24</th>\n",
       "      <td>BX-I</td>\n",
       "      <td>Books</td>\n",
       "      <td>UnL</td>\n",
       "      <td>74097</td>\n",
       "      <td>0.265105</td>\n",
       "    </tr>\n",
       "    <tr>\n",
       "      <th>25</th>\n",
       "      <td>BX-I</td>\n",
       "      <td>Ratings</td>\n",
       "      <td>F</td>\n",
       "      <td>391728</td>\n",
       "      <td>0.346719</td>\n",
       "    </tr>\n",
       "    <tr>\n",
       "      <th>26</th>\n",
       "      <td>BX-I</td>\n",
       "      <td>Ratings</td>\n",
       "      <td>M</td>\n",
       "      <td>467603</td>\n",
       "      <td>0.413876</td>\n",
       "    </tr>\n",
       "    <tr>\n",
       "      <th>27</th>\n",
       "      <td>BX-I</td>\n",
       "      <td>Ratings</td>\n",
       "      <td>Amb.</td>\n",
       "      <td>76294</td>\n",
       "      <td>0.067528</td>\n",
       "    </tr>\n",
       "    <tr>\n",
       "      <th>28</th>\n",
       "      <td>BX-I</td>\n",
       "      <td>Ratings</td>\n",
       "      <td>UnK</td>\n",
       "      <td>77892</td>\n",
       "      <td>0.068942</td>\n",
       "    </tr>\n",
       "    <tr>\n",
       "      <th>29</th>\n",
       "      <td>BX-I</td>\n",
       "      <td>Ratings</td>\n",
       "      <td>UnL</td>\n",
       "      <td>116297</td>\n",
       "      <td>0.102935</td>\n",
       "    </tr>\n",
       "    <tr>\n",
       "      <th>30</th>\n",
       "      <td>GR-E</td>\n",
       "      <td>Books</td>\n",
       "      <td>F</td>\n",
       "      <td>174996</td>\n",
       "      <td>0.161917</td>\n",
       "    </tr>\n",
       "    <tr>\n",
       "      <th>31</th>\n",
       "      <td>GR-E</td>\n",
       "      <td>Books</td>\n",
       "      <td>M</td>\n",
       "      <td>276045</td>\n",
       "      <td>0.255413</td>\n",
       "    </tr>\n",
       "    <tr>\n",
       "      <th>32</th>\n",
       "      <td>GR-E</td>\n",
       "      <td>Books</td>\n",
       "      <td>Amb.</td>\n",
       "      <td>11087</td>\n",
       "      <td>0.010258</td>\n",
       "    </tr>\n",
       "    <tr>\n",
       "      <th>33</th>\n",
       "      <td>GR-E</td>\n",
       "      <td>Books</td>\n",
       "      <td>UnK</td>\n",
       "      <td>95887</td>\n",
       "      <td>0.088720</td>\n",
       "    </tr>\n",
       "    <tr>\n",
       "      <th>34</th>\n",
       "      <td>GR-E</td>\n",
       "      <td>Books</td>\n",
       "      <td>UnL</td>\n",
       "      <td>522762</td>\n",
       "      <td>0.483691</td>\n",
       "    </tr>\n",
       "    <tr>\n",
       "      <th>35</th>\n",
       "      <td>GR-E</td>\n",
       "      <td>Ratings</td>\n",
       "      <td>F</td>\n",
       "      <td>32348714</td>\n",
       "      <td>0.373811</td>\n",
       "    </tr>\n",
       "    <tr>\n",
       "      <th>36</th>\n",
       "      <td>GR-E</td>\n",
       "      <td>Ratings</td>\n",
       "      <td>M</td>\n",
       "      <td>33638049</td>\n",
       "      <td>0.388710</td>\n",
       "    </tr>\n",
       "    <tr>\n",
       "      <th>37</th>\n",
       "      <td>GR-E</td>\n",
       "      <td>Ratings</td>\n",
       "      <td>Amb.</td>\n",
       "      <td>8346632</td>\n",
       "      <td>0.096451</td>\n",
       "    </tr>\n",
       "    <tr>\n",
       "      <th>38</th>\n",
       "      <td>GR-E</td>\n",
       "      <td>Ratings</td>\n",
       "      <td>UnK</td>\n",
       "      <td>3598667</td>\n",
       "      <td>0.041585</td>\n",
       "    </tr>\n",
       "    <tr>\n",
       "      <th>39</th>\n",
       "      <td>GR-E</td>\n",
       "      <td>Ratings</td>\n",
       "      <td>UnL</td>\n",
       "      <td>8605504</td>\n",
       "      <td>0.099442</td>\n",
       "    </tr>\n",
       "    <tr>\n",
       "      <th>40</th>\n",
       "      <td>GR-I</td>\n",
       "      <td>Books</td>\n",
       "      <td>F</td>\n",
       "      <td>176640</td>\n",
       "      <td>0.161074</td>\n",
       "    </tr>\n",
       "    <tr>\n",
       "      <th>41</th>\n",
       "      <td>GR-I</td>\n",
       "      <td>Books</td>\n",
       "      <td>M</td>\n",
       "      <td>279442</td>\n",
       "      <td>0.254817</td>\n",
       "    </tr>\n",
       "    <tr>\n",
       "      <th>42</th>\n",
       "      <td>GR-I</td>\n",
       "      <td>Books</td>\n",
       "      <td>Amb.</td>\n",
       "      <td>11189</td>\n",
       "      <td>0.010203</td>\n",
       "    </tr>\n",
       "    <tr>\n",
       "      <th>43</th>\n",
       "      <td>GR-I</td>\n",
       "      <td>Books</td>\n",
       "      <td>UnK</td>\n",
       "      <td>97667</td>\n",
       "      <td>0.089061</td>\n",
       "    </tr>\n",
       "    <tr>\n",
       "      <th>44</th>\n",
       "      <td>GR-I</td>\n",
       "      <td>Books</td>\n",
       "      <td>UnL</td>\n",
       "      <td>531698</td>\n",
       "      <td>0.484845</td>\n",
       "    </tr>\n",
       "    <tr>\n",
       "      <th>45</th>\n",
       "      <td>GR-I</td>\n",
       "      <td>Ratings</td>\n",
       "      <td>F</td>\n",
       "      <td>71070367</td>\n",
       "      <td>0.376147</td>\n",
       "    </tr>\n",
       "    <tr>\n",
       "      <th>46</th>\n",
       "      <td>GR-I</td>\n",
       "      <td>Ratings</td>\n",
       "      <td>M</td>\n",
       "      <td>68540386</td>\n",
       "      <td>0.362756</td>\n",
       "    </tr>\n",
       "    <tr>\n",
       "      <th>47</th>\n",
       "      <td>GR-I</td>\n",
       "      <td>Ratings</td>\n",
       "      <td>Amb.</td>\n",
       "      <td>13491116</td>\n",
       "      <td>0.071403</td>\n",
       "    </tr>\n",
       "    <tr>\n",
       "      <th>48</th>\n",
       "      <td>GR-I</td>\n",
       "      <td>Ratings</td>\n",
       "      <td>UnK</td>\n",
       "      <td>9640560</td>\n",
       "      <td>0.051024</td>\n",
       "    </tr>\n",
       "    <tr>\n",
       "      <th>49</th>\n",
       "      <td>GR-I</td>\n",
       "      <td>Ratings</td>\n",
       "      <td>UnL</td>\n",
       "      <td>26200849</td>\n",
       "      <td>0.138670</td>\n",
       "    </tr>\n",
       "    <tr>\n",
       "      <th>50</th>\n",
       "      <td>LOC</td>\n",
       "      <td>Books</td>\n",
       "      <td>F</td>\n",
       "      <td>664221</td>\n",
       "      <td>0.126102</td>\n",
       "    </tr>\n",
       "    <tr>\n",
       "      <th>51</th>\n",
       "      <td>LOC</td>\n",
       "      <td>Books</td>\n",
       "      <td>M</td>\n",
       "      <td>2195117</td>\n",
       "      <td>0.416742</td>\n",
       "    </tr>\n",
       "    <tr>\n",
       "      <th>52</th>\n",
       "      <td>LOC</td>\n",
       "      <td>Books</td>\n",
       "      <td>Amb.</td>\n",
       "      <td>53232</td>\n",
       "      <td>0.010106</td>\n",
       "    </tr>\n",
       "    <tr>\n",
       "      <th>53</th>\n",
       "      <td>LOC</td>\n",
       "      <td>Books</td>\n",
       "      <td>UnK</td>\n",
       "      <td>1214597</td>\n",
       "      <td>0.230591</td>\n",
       "    </tr>\n",
       "    <tr>\n",
       "      <th>54</th>\n",
       "      <td>LOC</td>\n",
       "      <td>Books</td>\n",
       "      <td>UnL</td>\n",
       "      <td>1140160</td>\n",
       "      <td>0.216459</td>\n",
       "    </tr>\n",
       "  </tbody>\n",
       "</table>\n",
       "</div>"
      ],
      "text/plain": [
       "   DataSet    Scope Gender     Count  Fraction\n",
       "0       AZ    Books      F    215556  0.095036\n",
       "1       AZ    Books      M    480628  0.211904\n",
       "2       AZ    Books   Amb.     17056  0.007520\n",
       "3       AZ    Books    UnK    236219  0.104146\n",
       "4       AZ    Books    UnL   1318683  0.581393\n",
       "5       AZ  Ratings      F   4313858  0.192064\n",
       "6       AZ  Ratings      M   6557232  0.291945\n",
       "7       AZ  Ratings   Amb.    535239  0.023830\n",
       "8       AZ  Ratings    UnK   2069787  0.092152\n",
       "9       AZ  Ratings    UnL   8984419  0.400009\n",
       "10    BX-E    Books      F     38093  0.251157\n",
       "11    BX-E    Books      M     55906  0.368603\n",
       "12    BX-E    Books   Amb.      4014  0.026465\n",
       "13    BX-E    Books    UnK     16900  0.111426\n",
       "14    BX-E    Books    UnL     36757  0.242349\n",
       "15    BX-E  Ratings      F    138827  0.324906\n",
       "16    BX-E  Ratings      M    185054  0.433095\n",
       "17    BX-E  Ratings   Amb.     30444  0.071250\n",
       "18    BX-E  Ratings    UnK     27434  0.064206\n",
       "19    BX-E  Ratings    UnL     45524  0.106543\n",
       "20    BX-I    Books      F     67087  0.240024\n",
       "21    BX-I    Books      M     96933  0.346807\n",
       "22    BX-I    Books   Amb.      6770  0.024222\n",
       "23    BX-I    Books    UnK     34614  0.123842\n",
       "24    BX-I    Books    UnL     74097  0.265105\n",
       "25    BX-I  Ratings      F    391728  0.346719\n",
       "26    BX-I  Ratings      M    467603  0.413876\n",
       "27    BX-I  Ratings   Amb.     76294  0.067528\n",
       "28    BX-I  Ratings    UnK     77892  0.068942\n",
       "29    BX-I  Ratings    UnL    116297  0.102935\n",
       "30    GR-E    Books      F    174996  0.161917\n",
       "31    GR-E    Books      M    276045  0.255413\n",
       "32    GR-E    Books   Amb.     11087  0.010258\n",
       "33    GR-E    Books    UnK     95887  0.088720\n",
       "34    GR-E    Books    UnL    522762  0.483691\n",
       "35    GR-E  Ratings      F  32348714  0.373811\n",
       "36    GR-E  Ratings      M  33638049  0.388710\n",
       "37    GR-E  Ratings   Amb.   8346632  0.096451\n",
       "38    GR-E  Ratings    UnK   3598667  0.041585\n",
       "39    GR-E  Ratings    UnL   8605504  0.099442\n",
       "40    GR-I    Books      F    176640  0.161074\n",
       "41    GR-I    Books      M    279442  0.254817\n",
       "42    GR-I    Books   Amb.     11189  0.010203\n",
       "43    GR-I    Books    UnK     97667  0.089061\n",
       "44    GR-I    Books    UnL    531698  0.484845\n",
       "45    GR-I  Ratings      F  71070367  0.376147\n",
       "46    GR-I  Ratings      M  68540386  0.362756\n",
       "47    GR-I  Ratings   Amb.  13491116  0.071403\n",
       "48    GR-I  Ratings    UnK   9640560  0.051024\n",
       "49    GR-I  Ratings    UnL  26200849  0.138670\n",
       "50     LOC    Books      F    664221  0.126102\n",
       "51     LOC    Books      M   2195117  0.416742\n",
       "52     LOC    Books   Amb.     53232  0.010106\n",
       "53     LOC    Books    UnK   1214597  0.230591\n",
       "54     LOC    Books    UnL   1140160  0.216459"
      ]
     },
     "execution_count": 33,
     "metadata": {},
     "output_type": "execute_result"
    }
   ],
   "source": [
    "gs_tall = pd.DataFrame({'Count': gender_stats.stack()})\n",
    "gs_tall.index.rename(['DataSet', 'Gender', 'Scope'], inplace=True)\n",
    "gs_tall = gs_tall.reorder_levels(['DataSet', 'Scope', 'Gender']).sort_index()\n",
    "gs_tall['Fraction'] = gs_tall['Count'] / gs_tall.groupby(level=['DataSet', 'Scope'])['Count'].sum()\n",
    "gs_tall.drop(('LOC', 'Ratings'), inplace=True)\n",
    "gs_tall.sort_index(inplace=True)\n",
    "gs_tall.reset_index(inplace=True)\n",
    "gs_tall['Gender'].cat.rename_categories({\n",
    "    'female': 'F',\n",
    "    'male': 'M',\n",
    "    'ambiguous': 'Amb.',\n",
    "    'unknown': 'UnK',\n",
    "    'unlinked': 'UnL'\n",
    "}, inplace=True)\n",
    "gs_tall['DataSet'] = gs_tall['DataSet'].astype('category')\n",
    "gs_tall['DataSet'].cat.reorder_categories(['LOC', 'AZ', 'BX-I', 'BX-E', 'GR-I', 'GR-E'], inplace=True)\n",
    "gs_tall"
   ]
  },
  {
   "cell_type": "markdown",
   "metadata": {
    "papermill": {
     "duration": 0.031001,
     "end_time": "2020-05-12T09:24:17.430303",
     "exception": false,
     "start_time": "2020-05-12T09:24:17.399302",
     "status": "completed"
    },
    "tags": []
   },
   "source": [
    "Finally, we can plot it:"
   ]
  },
  {
   "cell_type": "code",
   "execution_count": 34,
   "metadata": {
    "papermill": {
     "duration": 0.928568,
     "end_time": "2020-05-12T09:24:18.389871",
     "exception": false,
     "start_time": "2020-05-12T09:24:17.461303",
     "status": "completed"
    },
    "tags": []
   },
   "outputs": [
    {
     "data": {
      "text/plain": [
       "<seaborn.axisgrid.FacetGrid at 0x29701d0c708>"
      ]
     },
     "execution_count": 34,
     "metadata": {},
     "output_type": "execute_result"
    },
    {
     "data": {
      "image/png": "[encoded data removed]",
      "text/plain": [
       "<Figure size 649.75x432 with 6 Axes>"
      ]
     },
     "metadata": {
      "needs_background": "light"
     },
     "output_type": "display_data"
    }
   ],
   "source": [
    "sns.catplot(x='Gender', y='Fraction', col='DataSet', col_wrap=2, hue='Scope',\n",
    "            data=gs_tall.reset_index(),\n",
    "            kind='bar', sharey=False, height=2, aspect=2)"
   ]
  },
  {
   "cell_type": "markdown",
   "metadata": {
    "papermill": {
     "duration": 0.029998,
     "end_time": "2020-05-12T09:24:18.450869",
     "exception": false,
     "start_time": "2020-05-12T09:24:18.420871",
     "status": "completed"
    },
    "tags": []
   },
   "source": [
    "Manual plotting logic for the paper:"
   ]
  },
  {
   "cell_type": "code",
   "execution_count": 35,
   "metadata": {
    "papermill": {
     "duration": 3.847027,
     "end_time": "2020-05-12T09:24:22.329897",
     "exception": false,
     "start_time": "2020-05-12T09:24:18.482870",
     "status": "completed"
    },
    "tags": []
   },
   "outputs": [
    {
     "name": "stderr",
     "output_type": "stream",
     "text": [
      "C:\\Users\\michaelekstrand\\Anaconda3\\envs\\bookfair\\lib\\site-packages\\plotnine\\ggplot.py:729: PlotnineWarning: Saving 7 x 4.5 in image.\n",
      "  from_inches(height, units), units), PlotnineWarning)\n",
      "C:\\Users\\michaelekstrand\\Anaconda3\\envs\\bookfair\\lib\\site-packages\\plotnine\\ggplot.py:730: PlotnineWarning: Filename: figures\\DataSummary\\link-stats.pdf\n",
      "  warn('Filename: {}'.format(filename), PlotnineWarning)\n"
     ]
    },
    {
     "name": "stderr",
     "output_type": "stream",
     "text": [
      "findfont: Font family ['Open Sans'] not found. Falling back to DejaVu Sans.\n"
     ]
    },
    {
     "name": "stderr",
     "output_type": "stream",
     "text": [
      "findfont: Font family ['Open Sans'] not found. Falling back to DejaVu Sans.\n"
     ]
    },
    {
     "name": "stderr",
     "output_type": "stream",
     "text": [
      "findfont: Font family ['Open Sans'] not found. Falling back to DejaVu Sans.\n"
     ]
    },
    {
     "data": {
      "image/png": "[encoded data removed]",
      "text/plain": [
       "<Figure size 640x480 with 6 Axes>"
      ]
     },
     "metadata": {
      "needs_background": "light"
     },
     "output_type": "display_data"
    },
    {
     "data": {
      "text/plain": [
       "<ggplot: (-9223371858880154080)>"
      ]
     },
     "execution_count": 35,
     "metadata": {},
     "output_type": "execute_result"
    }
   ],
   "source": [
    "make_plot(gs_tall, p.aes('Gender', 'Fraction', fill='Scope'),\n",
    "    p.geom_bar(stat='identity', position='dodge'),\n",
    "    p.geom_text(p.aes(label='Fraction*100'), format_string='{:.1f}%', size=5, \n",
    "                position=p.position_dodge(width=1), va='bottom'),\n",
    "    p.facet_wrap('~DataSet', ncol=2),\n",
    "    p.scale_fill_brewer('qual', 'Dark2'),\n",
    "    p.scale_y_continuous(labels=lbl_pct),\n",
    "    p.ylab('% of Books or Ratings'),\n",
    "    legend_position='top', legend_title=p.element_blank(),\n",
    "    file='link-stats.pdf', width=7, height=4.5)"
   ]
  },
  {
   "cell_type": "markdown",
   "metadata": {
    "papermill": {
     "duration": 0.032995,
     "end_time": "2020-05-12T09:24:22.396859",
     "exception": false,
     "start_time": "2020-05-12T09:24:22.363864",
     "status": "completed"
    },
    "tags": []
   },
   "source": [
    "Known-gender books:"
   ]
  },
  {
   "cell_type": "code",
   "execution_count": 36,
   "metadata": {
    "papermill": {
     "duration": 0.048,
     "end_time": "2020-05-12T09:24:22.478858",
     "exception": false,
     "start_time": "2020-05-12T09:24:22.430858",
     "status": "completed"
    },
    "tags": []
   },
   "outputs": [
    {
     "data": {
      "text/html": [
       "<div>\n",
       "<style scoped>\n",
       "    .dataframe tbody tr th:only-of-type {\n",
       "        vertical-align: middle;\n",
       "    }\n",
       "\n",
       "    .dataframe tbody tr th {\n",
       "        vertical-align: top;\n",
       "    }\n",
       "\n",
       "    .dataframe thead th {\n",
       "        text-align: right;\n",
       "    }\n",
       "</style>\n",
       "<table border=\"1\" class=\"dataframe\">\n",
       "  <thead>\n",
       "    <tr style=\"text-align: right;\">\n",
       "      <th>gender</th>\n",
       "      <th>male</th>\n",
       "      <th>female</th>\n",
       "    </tr>\n",
       "    <tr>\n",
       "      <th>DataSet</th>\n",
       "      <th></th>\n",
       "      <th></th>\n",
       "    </tr>\n",
       "  </thead>\n",
       "  <tbody>\n",
       "    <tr>\n",
       "      <th>LOC</th>\n",
       "      <td>0.767701</td>\n",
       "      <td>0.232299</td>\n",
       "    </tr>\n",
       "    <tr>\n",
       "      <th>AZ</th>\n",
       "      <td>0.690375</td>\n",
       "      <td>0.309625</td>\n",
       "    </tr>\n",
       "    <tr>\n",
       "      <th>BX-I</th>\n",
       "      <td>0.590983</td>\n",
       "      <td>0.409017</td>\n",
       "    </tr>\n",
       "    <tr>\n",
       "      <th>GR-I</th>\n",
       "      <td>0.612701</td>\n",
       "      <td>0.387299</td>\n",
       "    </tr>\n",
       "  </tbody>\n",
       "</table>\n",
       "</div>"
      ],
      "text/plain": [
       "gender       male    female\n",
       "DataSet                    \n",
       "LOC      0.767701  0.232299\n",
       "AZ       0.690375  0.309625\n",
       "BX-I     0.590983  0.409017\n",
       "GR-I     0.612701  0.387299"
      ]
     },
     "execution_count": 36,
     "metadata": {},
     "output_type": "execute_result"
    }
   ],
   "source": [
    "k_bc = book_counts[['male', 'female']]\n",
    "k_bf = k_bc.divide(k_bc.sum(axis=1), axis=0)\n",
    "k_bf = k_bf.loc[['LOC', 'AZ', 'BX-I', 'GR-I']]\n",
    "k_bf"
   ]
  },
  {
   "cell_type": "code",
   "execution_count": 37,
   "metadata": {
    "papermill": {
     "duration": 0.043999,
     "end_time": "2020-05-12T09:24:22.556856",
     "exception": false,
     "start_time": "2020-05-12T09:24:22.512857",
     "status": "completed"
    },
    "tags": []
   },
   "outputs": [
    {
     "name": "stdout",
     "output_type": "stream",
     "text": [
      "\\begin{tabular}{lrr}\n",
      "\\toprule\n",
      "gender &  male &  female \\\\\n",
      "DataSet &       &         \\\\\n",
      "\\midrule\n",
      "LOC     & 76.8\\% &   23.2\\% \\\\\n",
      "AZ      & 69.0\\% &   31.0\\% \\\\\n",
      "BX-I    & 59.1\\% &   40.9\\% \\\\\n",
      "GR-I    & 61.3\\% &   38.7\\% \\\\\n",
      "\\bottomrule\n",
      "\\end{tabular}\n",
      "\n"
     ]
    }
   ],
   "source": [
    "print((k_bf * 100).to_latex(float_format='%.1f%%'))"
   ]
  },
  {
   "cell_type": "code",
   "execution_count": 38,
   "metadata": {
    "papermill": {
     "duration": 0.045998,
     "end_time": "2020-05-12T09:24:22.638854",
     "exception": false,
     "start_time": "2020-05-12T09:24:22.592856",
     "status": "completed"
    },
    "tags": []
   },
   "outputs": [],
   "source": [
    "k_bf.columns = k_bf.columns.astype('str')\n",
    "k_bft = k_bf.reset_index().melt(id_vars='DataSet')\n",
    "k_bft['gender'] = k_bft.gender.astype('category').cat.reorder_categories(['male', 'female'])\n",
    "k_bft['DataSet'] = k_bft.DataSet.astype('category').cat.reorder_categories(['LOC', 'AZ', 'BX-I', 'GR-I'])"
   ]
  },
  {
   "cell_type": "code",
   "execution_count": 39,
   "metadata": {
    "papermill": {
     "duration": 0.448989,
     "end_time": "2020-05-12T09:24:23.126847",
     "exception": false,
     "start_time": "2020-05-12T09:24:22.677858",
     "status": "completed"
    },
    "tags": []
   },
   "outputs": [
    {
     "name": "stderr",
     "output_type": "stream",
     "text": [
      "C:\\Users\\michaelekstrand\\Anaconda3\\envs\\bookfair\\lib\\site-packages\\plotnine\\ggplot.py:729: PlotnineWarning: Saving 4 x 2.5 in image.\n",
      "  from_inches(height, units), units), PlotnineWarning)\n",
      "C:\\Users\\michaelekstrand\\Anaconda3\\envs\\bookfair\\lib\\site-packages\\plotnine\\ggplot.py:730: PlotnineWarning: Filename: figures\\DataSummary\\frac-known-books.pdf\n",
      "  warn('Filename: {}'.format(filename), PlotnineWarning)\n",
      "findfont: Font family ['Open Sans'] not found. Falling back to DejaVu Sans.\n"
     ]
    },
    {
     "data": {
      "image/png": "[encoded data removed]",
      "text/plain": [
       "<Figure size 640x480 with 1 Axes>"
      ]
     },
     "metadata": {
      "needs_background": "light"
     },
     "output_type": "display_data"
    },
    {
     "data": {
      "text/plain": [
       "<ggplot: (-9223371858879291152)>"
      ]
     },
     "execution_count": 39,
     "metadata": {},
     "output_type": "execute_result"
    }
   ],
   "source": [
    "make_plot(k_bft, p.aes('DataSet', 'value', fill='gender'),\n",
    "          p.geom_bar(stat='identity'),\n",
    "          p.scale_fill_brewer('qual', 'Dark2'),\n",
    "          p.ylab('% of Books'),\n",
    "          p.scale_y_continuous(labels=lbl_pct),\n",
    "          file='frac-known-books.pdf', width=4, height=2.5)"
   ]
  },
  {
   "cell_type": "markdown",
   "metadata": {
    "papermill": {
     "duration": 0.041009,
     "end_time": "2020-05-12T09:24:23.202855",
     "exception": false,
     "start_time": "2020-05-12T09:24:23.161846",
     "status": "completed"
    },
    "tags": []
   },
   "source": [
    "And do that again for ratings."
   ]
  },
  {
   "cell_type": "code",
   "execution_count": 40,
   "metadata": {
    "papermill": {
     "duration": 0.052998,
     "end_time": "2020-05-12T09:24:23.294844",
     "exception": false,
     "start_time": "2020-05-12T09:24:23.241846",
     "status": "completed"
    },
    "scrolled": true,
    "tags": []
   },
   "outputs": [
    {
     "data": {
      "text/html": [
       "<div>\n",
       "<style scoped>\n",
       "    .dataframe tbody tr th:only-of-type {\n",
       "        vertical-align: middle;\n",
       "    }\n",
       "\n",
       "    .dataframe tbody tr th {\n",
       "        vertical-align: top;\n",
       "    }\n",
       "\n",
       "    .dataframe thead th {\n",
       "        text-align: right;\n",
       "    }\n",
       "</style>\n",
       "<table border=\"1\" class=\"dataframe\">\n",
       "  <thead>\n",
       "    <tr style=\"text-align: right;\">\n",
       "      <th>gender</th>\n",
       "      <th>male</th>\n",
       "      <th>female</th>\n",
       "    </tr>\n",
       "    <tr>\n",
       "      <th>DataSet</th>\n",
       "      <th></th>\n",
       "      <th></th>\n",
       "    </tr>\n",
       "  </thead>\n",
       "  <tbody>\n",
       "    <tr>\n",
       "      <th>AZ</th>\n",
       "      <td>0.603181</td>\n",
       "      <td>0.396819</td>\n",
       "    </tr>\n",
       "    <tr>\n",
       "      <th>BX-E</th>\n",
       "      <td>0.571364</td>\n",
       "      <td>0.428636</td>\n",
       "    </tr>\n",
       "    <tr>\n",
       "      <th>BX-I</th>\n",
       "      <td>0.544148</td>\n",
       "      <td>0.455852</td>\n",
       "    </tr>\n",
       "    <tr>\n",
       "      <th>GR-E</th>\n",
       "      <td>0.509770</td>\n",
       "      <td>0.490230</td>\n",
       "    </tr>\n",
       "    <tr>\n",
       "      <th>GR-I</th>\n",
       "      <td>0.490939</td>\n",
       "      <td>0.509061</td>\n",
       "    </tr>\n",
       "  </tbody>\n",
       "</table>\n",
       "</div>"
      ],
      "text/plain": [
       "gender       male    female\n",
       "DataSet                    \n",
       "AZ       0.603181  0.396819\n",
       "BX-E     0.571364  0.428636\n",
       "BX-I     0.544148  0.455852\n",
       "GR-E     0.509770  0.490230\n",
       "GR-I     0.490939  0.509061"
      ]
     },
     "execution_count": 40,
     "metadata": {},
     "output_type": "execute_result"
    }
   ],
   "source": [
    "rate_counts = full_stats['Ratings'].unstack()\n",
    "k_rc = rate_counts[['male', 'female']]\n",
    "k_rf = k_rc.divide(k_rc.sum(axis=1), axis=0)\n",
    "k_rf = k_rf.loc[datasets]\n",
    "k_rf"
   ]
  },
  {
   "cell_type": "code",
   "execution_count": 41,
   "metadata": {
    "papermill": {
     "duration": 0.054997,
     "end_time": "2020-05-12T09:24:23.388842",
     "exception": false,
     "start_time": "2020-05-12T09:24:23.333845",
     "status": "completed"
    },
    "scrolled": true,
    "tags": []
   },
   "outputs": [
    {
     "name": "stdout",
     "output_type": "stream",
     "text": [
      "\\begin{tabular}{lrrrr}\n",
      "\\toprule\n",
      "{} & \\multicolumn{2}{l}{Books} & \\multicolumn{2}{l}{Ratings} \\\\\n",
      "gender & female &  male &  female &  male \\\\\n",
      "DataSet &        &       &         &       \\\\\n",
      "\\midrule\n",
      "LOC     &  23.2\\% & 76.8\\% &   23.2\\% & 76.8\\% \\\\\n",
      "AZ      &  31.0\\% & 69.0\\% &   39.7\\% & 60.3\\% \\\\\n",
      "BX-E    &  40.5\\% & 59.5\\% &   42.9\\% & 57.1\\% \\\\\n",
      "BX-I    &  40.9\\% & 59.1\\% &   45.6\\% & 54.4\\% \\\\\n",
      "GR-E    &  38.8\\% & 61.2\\% &   49.0\\% & 51.0\\% \\\\\n",
      "GR-I    &  38.7\\% & 61.3\\% &   50.9\\% & 49.1\\% \\\\\n",
      "\\bottomrule\n",
      "\\end{tabular}\n",
      "\n"
     ]
    }
   ],
   "source": [
    "all_cts = full_stats.reorder_levels([1,0]).loc[['male', 'female']].reorder_levels([1,0]).unstack()\n",
    "all_cts.sort_index(axis=1, inplace=True)\n",
    "print(all_cts.divide(all_cts.sum(axis=1, level=0), axis=0, level=0).to_latex(float_format=lambda f: '{:.1f}%'.format(f*100)))"
   ]
  },
  {
   "cell_type": "code",
   "execution_count": 42,
   "metadata": {
    "papermill": {
     "duration": 0.045998,
     "end_time": "2020-05-12T09:24:23.470841",
     "exception": false,
     "start_time": "2020-05-12T09:24:23.424843",
     "status": "completed"
    },
    "tags": []
   },
   "outputs": [],
   "source": [
    "k_rf.columns = k_rf.columns.astype('str')\n",
    "k_rft = k_rf.reset_index().melt(id_vars='DataSet')\n",
    "k_rft['gender'] = k_rft.gender.astype('category').cat.reorder_categories(['male', 'female'])\n",
    "k_rft['DataSet'] = k_rft.DataSet.astype('category').cat.reorder_categories(datasets)"
   ]
  },
  {
   "cell_type": "code",
   "execution_count": 43,
   "metadata": {
    "papermill": {
     "duration": 0.456992,
     "end_time": "2020-05-12T09:24:23.964832",
     "exception": false,
     "start_time": "2020-05-12T09:24:23.507840",
     "status": "completed"
    },
    "tags": []
   },
   "outputs": [
    {
     "name": "stderr",
     "output_type": "stream",
     "text": [
      "C:\\Users\\michaelekstrand\\Anaconda3\\envs\\bookfair\\lib\\site-packages\\plotnine\\ggplot.py:729: PlotnineWarning: Saving 4 x 2.5 in image.\n",
      "  from_inches(height, units), units), PlotnineWarning)\n",
      "C:\\Users\\michaelekstrand\\Anaconda3\\envs\\bookfair\\lib\\site-packages\\plotnine\\ggplot.py:730: PlotnineWarning: Filename: figures\\DataSummary\\frac-known-rates.pdf\n",
      "  warn('Filename: {}'.format(filename), PlotnineWarning)\n"
     ]
    },
    {
     "data": {
      "image/png": "[encoded data removed]",
      "text/plain": [
       "<Figure size 640x480 with 1 Axes>"
      ]
     },
     "metadata": {
      "needs_background": "light"
     },
     "output_type": "display_data"
    },
    {
     "data": {
      "text/plain": [
       "<ggplot: (-9223371858877696692)>"
      ]
     },
     "execution_count": 43,
     "metadata": {},
     "output_type": "execute_result"
    }
   ],
   "source": [
    "make_plot(k_rft, p.aes('DataSet', 'value', fill='gender'),\n",
    "          p.geom_bar(stat='identity'),\n",
    "          p.scale_fill_brewer('qual', 'Dark2'),\n",
    "          p.scale_y_continuous(labels=lbl_pct),\n",
    "          p.ylab('% of Ratings'),\n",
    "          file='frac-known-rates.pdf', width=4, height=2.5)"
   ]
  },
  {
   "cell_type": "markdown",
   "metadata": {
    "papermill": {
     "duration": 0.037031,
     "end_time": "2020-05-12T09:24:24.037863",
     "exception": false,
     "start_time": "2020-05-12T09:24:24.000832",
     "status": "completed"
    },
    "tags": []
   },
   "source": [
    "## Popularity and Gender Distributions\n",
    "\n",
    "We now want to look at popularity and assorted distributions.\n",
    "\n",
    "We will start by computing item statistics."
   ]
  },
  {
   "cell_type": "code",
   "execution_count": 44,
   "metadata": {
    "papermill": {
     "duration": 15.144465,
     "end_time": "2020-05-12T09:24:39.218808",
     "exception": false,
     "start_time": "2020-05-12T09:24:24.074343",
     "status": "completed"
    },
    "tags": []
   },
   "outputs": [
    {
     "name": "stderr",
     "output_type": "stream",
     "text": [
      "summarizing  AZ\n"
     ]
    },
    {
     "name": "stderr",
     "output_type": "stream",
     "text": [
      "summarizing  BX-I\n"
     ]
    },
    {
     "name": "stderr",
     "output_type": "stream",
     "text": [
      "summarizing  GR-I\n"
     ]
    },
    {
     "data": {
      "text/html": [
       "<div>\n",
       "<style scoped>\n",
       "    .dataframe tbody tr th:only-of-type {\n",
       "        vertical-align: middle;\n",
       "    }\n",
       "\n",
       "    .dataframe tbody tr th {\n",
       "        vertical-align: top;\n",
       "    }\n",
       "\n",
       "    .dataframe thead th {\n",
       "        text-align: right;\n",
       "    }\n",
       "</style>\n",
       "<table border=\"1\" class=\"dataframe\">\n",
       "  <thead>\n",
       "    <tr style=\"text-align: right;\">\n",
       "      <th></th>\n",
       "      <th>item</th>\n",
       "      <th>nratings</th>\n",
       "      <th>gender</th>\n",
       "      <th>PopRank</th>\n",
       "      <th>PopQ</th>\n",
       "      <th>Set</th>\n",
       "    </tr>\n",
       "  </thead>\n",
       "  <tbody>\n",
       "    <tr>\n",
       "      <th>0</th>\n",
       "      <td>0</td>\n",
       "      <td>4</td>\n",
       "      <td>male</td>\n",
       "      <td>0.652857</td>\n",
       "      <td>65</td>\n",
       "      <td>AZ</td>\n",
       "    </tr>\n",
       "    <tr>\n",
       "      <th>1</th>\n",
       "      <td>2</td>\n",
       "      <td>65</td>\n",
       "      <td>male</td>\n",
       "      <td>0.977629</td>\n",
       "      <td>97</td>\n",
       "      <td>AZ</td>\n",
       "    </tr>\n",
       "    <tr>\n",
       "      <th>2</th>\n",
       "      <td>5</td>\n",
       "      <td>89</td>\n",
       "      <td>unlinked</td>\n",
       "      <td>0.984913</td>\n",
       "      <td>98</td>\n",
       "      <td>AZ</td>\n",
       "    </tr>\n",
       "    <tr>\n",
       "      <th>3</th>\n",
       "      <td>8</td>\n",
       "      <td>19</td>\n",
       "      <td>male</td>\n",
       "      <td>0.911341</td>\n",
       "      <td>91</td>\n",
       "      <td>AZ</td>\n",
       "    </tr>\n",
       "    <tr>\n",
       "      <th>4</th>\n",
       "      <td>11</td>\n",
       "      <td>32</td>\n",
       "      <td>male</td>\n",
       "      <td>0.948883</td>\n",
       "      <td>94</td>\n",
       "      <td>AZ</td>\n",
       "    </tr>\n",
       "  </tbody>\n",
       "</table>\n",
       "</div>"
      ],
      "text/plain": [
       "   item  nratings    gender   PopRank  PopQ Set\n",
       "0     0         4      male  0.652857    65  AZ\n",
       "1     2        65      male  0.977629    97  AZ\n",
       "2     5        89  unlinked  0.984913    98  AZ\n",
       "3     8        19      male  0.911341    91  AZ\n",
       "4    11        32      male  0.948883    94  AZ"
      ]
     },
     "execution_count": 44,
     "metadata": {},
     "output_type": "execute_result"
    }
   ],
   "source": [
    "def _ds_stats(ds, df):\n",
    "    eprint('summarizing ', ds)\n",
    "    stats = df.groupby('item').user.count().reset_index(name='nratings')\n",
    "    stats = gender_info(stats)\n",
    "    stats['PopRank'] = stats['nratings'].rank()\n",
    "    stats['PopRank'] = stats['PopRank'] / stats['PopRank'].max()\n",
    "    stats['PopQ'] = (stats['PopRank'] * 100 - 0.001).astype('i4')\n",
    "    stats['Set'] = ds\n",
    "    return stats\n",
    "item_stats = pd.concat(_ds_stats(ds, df) for (ds, df) in ratings.items() if not ds.endswith('-E'))\n",
    "item_stats['Set'] = item_stats['Set'].astype('category')\n",
    "item_stats.head()"
   ]
  },
  {
   "cell_type": "markdown",
   "metadata": {
    "papermill": {
     "duration": 0.034996,
     "end_time": "2020-05-12T09:24:39.289801",
     "exception": false,
     "start_time": "2020-05-12T09:24:39.254805",
     "status": "completed"
    },
    "tags": []
   },
   "source": [
    "Compute rating count histograms:"
   ]
  },
  {
   "cell_type": "code",
   "execution_count": 45,
   "metadata": {
    "papermill": {
     "duration": 2.373923,
     "end_time": "2020-05-12T09:24:41.700723",
     "exception": false,
     "start_time": "2020-05-12T09:24:39.326800",
     "status": "completed"
    },
    "tags": []
   },
   "outputs": [
    {
     "name": "stderr",
     "output_type": "stream",
     "text": [
      "C:\\Users\\michaelekstrand\\Anaconda3\\envs\\bookfair\\lib\\site-packages\\pandas\\core\\series.py:679: RuntimeWarning: divide by zero encountered in log10\n",
      "  result = getattr(ufunc, method)(*inputs, **kwargs)\n"
     ]
    },
    {
     "data": {
      "image/png": "[encoded data removed]",
      "text/plain": [
       "<Figure size 640x480 with 1 Axes>"
      ]
     },
     "metadata": {
      "needs_background": "light"
     },
     "output_type": "display_data"
    },
    {
     "data": {
      "text/plain": [
       "<ggplot: (-9223371858877655768)>"
      ]
     },
     "execution_count": 45,
     "metadata": {},
     "output_type": "execute_result"
    }
   ],
   "source": [
    "nr_hist = item_stats.groupby(['Set', 'nratings'])['item'].count().reset_index(name='items')\n",
    "make_plot(nr_hist, p.aes(x='nratings', y='items', color='Set'),\n",
    "          p.geom_point(),\n",
    "          p.scale_x_log10(),\n",
    "          p.scale_y_log10())"
   ]
  },
  {
   "cell_type": "markdown",
   "metadata": {
    "papermill": {
     "duration": 0.038,
     "end_time": "2020-05-12T09:24:41.779722",
     "exception": false,
     "start_time": "2020-05-12T09:24:41.741722",
     "status": "completed"
    },
    "tags": []
   },
   "source": [
    "Let's look at rating count per book by gender resolution:"
   ]
  },
  {
   "cell_type": "code",
   "execution_count": 46,
   "metadata": {
    "papermill": {
     "duration": 0.343031,
     "end_time": "2020-05-12T09:24:42.158752",
     "exception": false,
     "start_time": "2020-05-12T09:24:41.815721",
     "status": "completed"
    },
    "tags": []
   },
   "outputs": [
    {
     "name": "stdout",
     "output_type": "stream",
     "text": [
      "\\begin{tabular}{lrrrr}\n",
      "\\toprule\n",
      "gender & \\multicolumn{2}{l}{female} & \\multicolumn{2}{l}{male} \\\\\n",
      "{} &   mean & median &   mean & median \\\\\n",
      "Set  &        &        &        &        \\\\\n",
      "\\midrule\n",
      "AZ   &  20.01 &      4 &  13.64 &      3 \\\\\n",
      "BX-I &   5.84 &      2 &   4.82 &      1 \\\\\n",
      "GR-I & 402.35 &     34 & 245.28 &     20 \\\\\n",
      "\\bottomrule\n",
      "\\end{tabular}\n",
      "\n"
     ]
    }
   ],
   "source": [
    "rate_rates = item_stats.groupby(['Set', 'gender'])['nratings'].agg(['mean', 'median'])\n",
    "rr_stat = rate_rates.unstack().swaplevel(axis=1).loc[:, ['male', 'female']].sort_index(axis=1)\n",
    "print(rr_stat.to_latex(float_format='%.2f'))"
   ]
  },
  {
   "cell_type": "markdown",
   "metadata": {
    "papermill": {
     "duration": 0.037999,
     "end_time": "2020-05-12T09:24:42.235769",
     "exception": false,
     "start_time": "2020-05-12T09:24:42.197770",
     "status": "completed"
    },
    "tags": []
   },
   "source": [
    "Now compute gender histograms by percentile so we can stack:"
   ]
  },
  {
   "cell_type": "code",
   "execution_count": 47,
   "metadata": {
    "papermill": {
     "duration": 0.351994,
     "end_time": "2020-05-12T09:24:42.625763",
     "exception": false,
     "start_time": "2020-05-12T09:24:42.273769",
     "status": "completed"
    },
    "tags": []
   },
   "outputs": [
    {
     "data": {
      "text/html": [
       "<div>\n",
       "<style scoped>\n",
       "    .dataframe tbody tr th:only-of-type {\n",
       "        vertical-align: middle;\n",
       "    }\n",
       "\n",
       "    .dataframe tbody tr th {\n",
       "        vertical-align: top;\n",
       "    }\n",
       "\n",
       "    .dataframe thead th {\n",
       "        text-align: right;\n",
       "    }\n",
       "</style>\n",
       "<table border=\"1\" class=\"dataframe\">\n",
       "  <thead>\n",
       "    <tr style=\"text-align: right;\">\n",
       "      <th></th>\n",
       "      <th>gender</th>\n",
       "      <th>male</th>\n",
       "      <th>unlinked</th>\n",
       "      <th>female</th>\n",
       "      <th>unknown</th>\n",
       "      <th>ambiguous</th>\n",
       "    </tr>\n",
       "    <tr>\n",
       "      <th>Set</th>\n",
       "      <th>PopQ</th>\n",
       "      <th></th>\n",
       "      <th></th>\n",
       "      <th></th>\n",
       "      <th></th>\n",
       "      <th></th>\n",
       "    </tr>\n",
       "  </thead>\n",
       "  <tbody>\n",
       "    <tr>\n",
       "      <th rowspan=\"5\" valign=\"top\">AZ</th>\n",
       "      <th>18</th>\n",
       "      <td>0.174433</td>\n",
       "      <td>0.667347</td>\n",
       "      <td>0.067153</td>\n",
       "      <td>0.085216</td>\n",
       "      <td>0.005852</td>\n",
       "    </tr>\n",
       "    <tr>\n",
       "      <th>44</th>\n",
       "      <td>0.207661</td>\n",
       "      <td>0.593931</td>\n",
       "      <td>0.085052</td>\n",
       "      <td>0.106450</td>\n",
       "      <td>0.006905</td>\n",
       "    </tr>\n",
       "    <tr>\n",
       "      <th>57</th>\n",
       "      <td>0.219571</td>\n",
       "      <td>0.567501</td>\n",
       "      <td>0.091894</td>\n",
       "      <td>0.114128</td>\n",
       "      <td>0.006906</td>\n",
       "    </tr>\n",
       "    <tr>\n",
       "      <th>65</th>\n",
       "      <td>0.225784</td>\n",
       "      <td>0.554707</td>\n",
       "      <td>0.095220</td>\n",
       "      <td>0.116672</td>\n",
       "      <td>0.007617</td>\n",
       "    </tr>\n",
       "    <tr>\n",
       "      <th>70</th>\n",
       "      <td>0.229021</td>\n",
       "      <td>0.542932</td>\n",
       "      <td>0.100422</td>\n",
       "      <td>0.120130</td>\n",
       "      <td>0.007495</td>\n",
       "    </tr>\n",
       "  </tbody>\n",
       "</table>\n",
       "</div>"
      ],
      "text/plain": [
       "gender        male  unlinked    female   unknown  ambiguous\n",
       "Set PopQ                                                   \n",
       "AZ  18    0.174433  0.667347  0.067153  0.085216   0.005852\n",
       "    44    0.207661  0.593931  0.085052  0.106450   0.006905\n",
       "    57    0.219571  0.567501  0.091894  0.114128   0.006906\n",
       "    65    0.225784  0.554707  0.095220  0.116672   0.007617\n",
       "    70    0.229021  0.542932  0.100422  0.120130   0.007495"
      ]
     },
     "execution_count": 47,
     "metadata": {},
     "output_type": "execute_result"
    }
   ],
   "source": [
    "pop_g = item_stats.groupby(['Set', 'PopQ', 'gender'], observed=True)['item'].count().unstack()\n",
    "pop_g.fillna(0, inplace=True)\n",
    "pop_g = pop_g.divide(pop_g.sum(axis=1), axis=0)\n",
    "pop_g.sort_index(inplace=True)\n",
    "pop_g.head()"
   ]
  },
  {
   "cell_type": "markdown",
   "metadata": {
    "papermill": {
     "duration": 0.039998,
     "end_time": "2020-05-12T09:24:42.710760",
     "exception": false,
     "start_time": "2020-05-12T09:24:42.670762",
     "status": "completed"
    },
    "tags": []
   },
   "source": [
    "Propagate to percentile 0:"
   ]
  },
  {
   "cell_type": "code",
   "execution_count": 48,
   "metadata": {
    "papermill": {
     "duration": 0.056999,
     "end_time": "2020-05-12T09:24:42.805760",
     "exception": false,
     "start_time": "2020-05-12T09:24:42.748761",
     "status": "completed"
    },
    "tags": []
   },
   "outputs": [],
   "source": [
    "for ds in pop_g.index.levels[0].categories:\n",
    "    dspg = pop_g.loc[ds, :]\n",
    "    pop_g.loc[(ds, 0), :] = dspg.iloc[0, :]\n",
    "pop_g.sort_index(inplace=True)"
   ]
  },
  {
   "cell_type": "markdown",
   "metadata": {
    "papermill": {
     "duration": 0.039999,
     "end_time": "2020-05-12T09:24:42.882758",
     "exception": false,
     "start_time": "2020-05-12T09:24:42.842759",
     "status": "completed"
    },
    "tags": []
   },
   "source": [
    "Stack for plotting:"
   ]
  },
  {
   "cell_type": "code",
   "execution_count": 49,
   "metadata": {
    "papermill": {
     "duration": 0.053973,
     "end_time": "2020-05-12T09:24:42.974757",
     "exception": false,
     "start_time": "2020-05-12T09:24:42.920784",
     "status": "completed"
    },
    "tags": []
   },
   "outputs": [
    {
     "data": {
      "text/html": [
       "<div>\n",
       "<style scoped>\n",
       "    .dataframe tbody tr th:only-of-type {\n",
       "        vertical-align: middle;\n",
       "    }\n",
       "\n",
       "    .dataframe tbody tr th {\n",
       "        vertical-align: top;\n",
       "    }\n",
       "\n",
       "    .dataframe thead th {\n",
       "        text-align: right;\n",
       "    }\n",
       "</style>\n",
       "<table border=\"1\" class=\"dataframe\">\n",
       "  <thead>\n",
       "    <tr style=\"text-align: right;\">\n",
       "      <th></th>\n",
       "      <th>Set</th>\n",
       "      <th>PopQ</th>\n",
       "      <th>gender</th>\n",
       "      <th>items</th>\n",
       "    </tr>\n",
       "  </thead>\n",
       "  <tbody>\n",
       "    <tr>\n",
       "      <th>0</th>\n",
       "      <td>AZ</td>\n",
       "      <td>0</td>\n",
       "      <td>male</td>\n",
       "      <td>0.174433</td>\n",
       "    </tr>\n",
       "    <tr>\n",
       "      <th>1</th>\n",
       "      <td>AZ</td>\n",
       "      <td>0</td>\n",
       "      <td>unlinked</td>\n",
       "      <td>0.667347</td>\n",
       "    </tr>\n",
       "    <tr>\n",
       "      <th>2</th>\n",
       "      <td>AZ</td>\n",
       "      <td>0</td>\n",
       "      <td>female</td>\n",
       "      <td>0.067153</td>\n",
       "    </tr>\n",
       "    <tr>\n",
       "      <th>3</th>\n",
       "      <td>AZ</td>\n",
       "      <td>0</td>\n",
       "      <td>unknown</td>\n",
       "      <td>0.085216</td>\n",
       "    </tr>\n",
       "    <tr>\n",
       "      <th>4</th>\n",
       "      <td>AZ</td>\n",
       "      <td>0</td>\n",
       "      <td>ambiguous</td>\n",
       "      <td>0.005852</td>\n",
       "    </tr>\n",
       "  </tbody>\n",
       "</table>\n",
       "</div>"
      ],
      "text/plain": [
       "  Set  PopQ     gender     items\n",
       "0  AZ     0       male  0.174433\n",
       "1  AZ     0   unlinked  0.667347\n",
       "2  AZ     0     female  0.067153\n",
       "3  AZ     0    unknown  0.085216\n",
       "4  AZ     0  ambiguous  0.005852"
      ]
     },
     "execution_count": 49,
     "metadata": {},
     "output_type": "execute_result"
    }
   ],
   "source": [
    "pop_g = pop_g.stack().reset_index(name='items')\n",
    "pop_g.head()"
   ]
  },
  {
   "cell_type": "markdown",
   "metadata": {
    "papermill": {
     "duration": 0.038997,
     "end_time": "2020-05-12T09:24:43.051755",
     "exception": false,
     "start_time": "2020-05-12T09:24:43.012758",
     "status": "completed"
    },
    "tags": []
   },
   "source": [
    "And make an area plot."
   ]
  },
  {
   "cell_type": "code",
   "execution_count": 50,
   "metadata": {
    "papermill": {
     "duration": 2.325031,
     "end_time": "2020-05-12T09:24:45.417786",
     "exception": false,
     "start_time": "2020-05-12T09:24:43.092755",
     "status": "completed"
    },
    "tags": []
   },
   "outputs": [
    {
     "name": "stderr",
     "output_type": "stream",
     "text": [
      "C:\\Users\\michaelekstrand\\Anaconda3\\envs\\bookfair\\lib\\site-packages\\plotnine\\ggplot.py:729: PlotnineWarning: Saving 8 x 5 in image.\n",
      "  from_inches(height, units), units), PlotnineWarning)\n",
      "C:\\Users\\michaelekstrand\\Anaconda3\\envs\\bookfair\\lib\\site-packages\\plotnine\\ggplot.py:730: PlotnineWarning: Filename: figures\\DataSummary\\gender-by-pop.pdf\n",
      "  warn('Filename: {}'.format(filename), PlotnineWarning)\n"
     ]
    },
    {
     "data": {
      "image/png": "[encoded data removed]",
      "text/plain": [
       "<Figure size 640x480 with 3 Axes>"
      ]
     },
     "metadata": {
      "needs_background": "light"
     },
     "output_type": "display_data"
    },
    {
     "data": {
      "text/plain": [
       "<ggplot: (-9223371858879844724)>"
      ]
     },
     "execution_count": 50,
     "metadata": {},
     "output_type": "execute_result"
    }
   ],
   "source": [
    "make_plot(pop_g, p.aes(x='PopQ', y='items', fill='gender'),\n",
    "          p.geom_area(),\n",
    "          p.scale_fill_brewer('qual', 'Set2'),\n",
    "          p.facet_grid('Set ~'),\n",
    "          p.xlab('Item Popularity Percentile (100 is most popular)'),\n",
    "          p.ylab('% of Books'),\n",
    "          p.scale_y_continuous(labels=lbl_pct),\n",
    "          file='gender-by-pop.pdf', width=8, height=5)"
   ]
  }
 ],
 "metadata": {
  "kernelspec": {
   "display_name": "Python 3",
   "language": "python",
   "name": "python3"
  },
  "language_info": {
   "codemirror_mode": {
    "name": "ipython",
    "version": 3
   },
   "file_extension": ".py",
   "mimetype": "text/x-python",
   "name": "python",
   "nbconvert_exporter": "python",
   "pygments_lexer": "ipython3",
   "version": "3.7.6"
  },
  "papermill": {
   "duration": 1194.333892,
   "end_time": "2020-05-12T09:24:46.869757",
   "environment_variables": {},
   "exception": null,
   "input_path": "DataSummary.ipynb",
   "output_path": "DataSummary.temp.ipynb",
   "parameters": {},
   "start_time": "2020-05-12T09:04:52.535865",
   "version": "1.0.1"
  },
  "widgets": {
   "application/vnd.jupyter.widget-state+json": {
    "state": {
     "0764791808b44048826b651d7874925f": {
      "model_module": "@jupyter-widgets/controls",
      "model_module_version": "1.5.0",
      "model_name": "IntProgressModel",
      "state": {
       "_dom_classes": [],
       "_model_module": "@jupyter-widgets/controls",
       "_model_module_version": "1.5.0",
       "_model_name": "IntProgressModel",
       "_view_count": null,
       "_view_module": "@jupyter-widgets/controls",
       "_view_module_version": "1.5.0",
       "_view_name": "ProgressView",
       "bar_style": "success",
       "description": "",
       "description_tooltip": null,
       "layout": "IPY_MODEL_492dffeadaa0486eb6651f3c0eed9281",
       "max": 5,
       "min": 0,
       "orientation": "horizontal",
       "style": "IPY_MODEL_51fe952897094592945dad2184893626",
       "value": 5
      }
     },
     "27f775bd7d094d8b95dfdaa2554019f8": {
      "model_module": "@jupyter-widgets/controls",
      "model_module_version": "1.5.0",
      "model_name": "DescriptionStyleModel",
      "state": {
       "_model_module": "@jupyter-widgets/controls",
       "_model_module_version": "1.5.0",
       "_model_name": "DescriptionStyleModel",
       "_view_count": null,
       "_view_module": "@jupyter-widgets/base",
       "_view_module_version": "1.2.0",
       "_view_name": "StyleView",
       "description_width": ""
      }
     },
     "309bd7041c174922b1ff4b13fd9d4062": {
      "model_module": "@jupyter-widgets/base",
      "model_module_version": "1.2.0",
      "model_name": "LayoutModel",
      "state": {
       "_model_module": "@jupyter-widgets/base",
       "_model_module_version": "1.2.0",
       "_model_name": "LayoutModel",
       "_view_count": null,
       "_view_module": "@jupyter-widgets/base",
       "_view_module_version": "1.2.0",
       "_view_name": "LayoutView",
       "align_content": null,
       "align_items": null,
       "align_self": null,
       "border": null,
       "bottom": null,
       "display": null,
       "flex": null,
       "flex_flow": null,
       "grid_area": null,
       "grid_auto_columns": null,
       "grid_auto_flow": null,
       "grid_auto_rows": null,
       "grid_column": null,
       "grid_gap": null,
       "grid_row": null,
       "grid_template_areas": null,
       "grid_template_columns": null,
       "grid_template_rows": null,
       "height": null,
       "justify_content": null,
       "justify_items": null,
       "left": null,
       "margin": null,
       "max_height": null,
       "max_width": null,
       "min_height": null,
       "min_width": null,
       "object_fit": null,
       "object_position": null,
       "order": null,
       "overflow": null,
       "overflow_x": null,
       "overflow_y": null,
       "padding": null,
       "right": null,
       "top": null,
       "visibility": null,
       "width": null
      }
     },
     "492dffeadaa0486eb6651f3c0eed9281": {
      "model_module": "@jupyter-widgets/base",
      "model_module_version": "1.2.0",
      "model_name": "LayoutModel",
      "state": {
       "_model_module": "@jupyter-widgets/base",
       "_model_module_version": "1.2.0",
       "_model_name": "LayoutModel",
       "_view_count": null,
       "_view_module": "@jupyter-widgets/base",
       "_view_module_version": "1.2.0",
       "_view_name": "LayoutView",
       "align_content": null,
       "align_items": null,
       "align_self": null,
       "border": null,
       "bottom": null,
       "display": null,
       "flex": null,
       "flex_flow": null,
       "grid_area": null,
       "grid_auto_columns": null,
       "grid_auto_flow": null,
       "grid_auto_rows": null,
       "grid_column": null,
       "grid_gap": null,
       "grid_row": null,
       "grid_template_areas": null,
       "grid_template_columns": null,
       "grid_template_rows": null,
       "height": null,
       "justify_content": null,
       "justify_items": null,
       "left": null,
       "margin": null,
       "max_height": null,
       "max_width": null,
       "min_height": null,
       "min_width": null,
       "object_fit": null,
       "object_position": null,
       "order": null,
       "overflow": null,
       "overflow_x": null,
       "overflow_y": null,
       "padding": null,
       "right": null,
       "top": null,
       "visibility": null,
       "width": null
      }
     },
     "51fe952897094592945dad2184893626": {
      "model_module": "@jupyter-widgets/controls",
      "model_module_version": "1.5.0",
      "model_name": "ProgressStyleModel",
      "state": {
       "_model_module": "@jupyter-widgets/controls",
       "_model_module_version": "1.5.0",
       "_model_name": "ProgressStyleModel",
       "_view_count": null,
       "_view_module": "@jupyter-widgets/base",
       "_view_module_version": "1.2.0",
       "_view_name": "StyleView",
       "bar_color": null,
       "description_width": ""
      }
     },
     "702a75be8a054296aec81ab42cd75183": {
      "model_module": "@jupyter-widgets/controls",
      "model_module_version": "1.5.0",
      "model_name": "HTMLModel",
      "state": {
       "_dom_classes": [],
       "_model_module": "@jupyter-widgets/controls",
       "_model_module_version": "1.5.0",
       "_model_name": "HTMLModel",
       "_view_count": null,
       "_view_module": "@jupyter-widgets/controls",
       "_view_module_version": "1.5.0",
       "_view_name": "HTMLView",
       "description": "",
       "description_tooltip": null,
       "layout": "IPY_MODEL_a05c07166d3b4857b72726a640aead03",
       "placeholder": "​",
       "style": "IPY_MODEL_27f775bd7d094d8b95dfdaa2554019f8",
       "value": "100% 5/5 [00:15&lt;00:00,  3.89s/it]"
      }
     },
     "96ab6ada778948089457d439c0eb4814": {
      "model_module": "@jupyter-widgets/controls",
      "model_module_version": "1.5.0",
      "model_name": "HBoxModel",
      "state": {
       "_dom_classes": [],
       "_model_module": "@jupyter-widgets/controls",
       "_model_module_version": "1.5.0",
       "_model_name": "HBoxModel",
       "_view_count": null,
       "_view_module": "@jupyter-widgets/controls",
       "_view_module_version": "1.5.0",
       "_view_name": "HBoxView",
       "box_style": "",
       "children": [
        "IPY_MODEL_0764791808b44048826b651d7874925f",
        "IPY_MODEL_702a75be8a054296aec81ab42cd75183"
       ],
       "layout": "IPY_MODEL_309bd7041c174922b1ff4b13fd9d4062"
      }
     },
     "a05c07166d3b4857b72726a640aead03": {
      "model_module": "@jupyter-widgets/base",
      "model_module_version": "1.2.0",
      "model_name": "LayoutModel",
      "state": {
       "_model_module": "@jupyter-widgets/base",
       "_model_module_version": "1.2.0",
       "_model_name": "LayoutModel",
       "_view_count": null,
       "_view_module": "@jupyter-widgets/base",
       "_view_module_version": "1.2.0",
       "_view_name": "LayoutView",
       "align_content": null,
       "align_items": null,
       "align_self": null,
       "border": null,
       "bottom": null,
       "display": null,
       "flex": null,
       "flex_flow": null,
       "grid_area": null,
       "grid_auto_columns": null,
       "grid_auto_flow": null,
       "grid_auto_rows": null,
       "grid_column": null,
       "grid_gap": null,
       "grid_row": null,
       "grid_template_areas": null,
       "grid_template_columns": null,
       "grid_template_rows": null,
       "height": null,
       "justify_content": null,
       "justify_items": null,
       "left": null,
       "margin": null,
       "max_height": null,
       "max_width": null,
       "min_height": null,
       "min_width": null,
       "object_fit": null,
       "object_position": null,
       "order": null,
       "overflow": null,
       "overflow_x": null,
       "overflow_y": null,
       "padding": null,
       "right": null,
       "top": null,
       "visibility": null,
       "width": null
      }
     }
    },
    "version_major": 2,
    "version_minor": 0
   }
  }
 },
 "nbformat": 4,
 "nbformat_minor": 2
}