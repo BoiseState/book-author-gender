{
 "cells": [
  {
   "cell_type": "markdown",
   "metadata": {},
   "source": [
    "# Bias Model Code\n",
    "\n",
    "This R code defines the hierarchical Bayesian bias model that we use."
   ]
  },
  {
   "cell_type": "code",
   "execution_count": null,
   "metadata": {},
   "outputs": [],
   "source": [
    "library(tidyverse)\n",
    "library(foreach)"
   ]
  },
  {
   "cell_type": "markdown",
   "metadata": {},
   "source": [
    "## Prior\n",
    "\n",
    "$$P(\\alpha,\\beta) \\propto (\\alpha + \\beta)^{-5/2}$$"
   ]
  },
  {
   "cell_type": "code",
   "execution_count": null,
   "metadata": {},
   "outputs": [],
   "source": [
    "model.prior = function(alpha, beta) {\n",
    "    (alpha + beta) ^ (-5 / 2)\n",
    "}"
   ]
  },
  {
   "cell_type": "markdown",
   "metadata": {},
   "source": [
    "## Likelihood Function"
   ]
  },
  {
   "cell_type": "code",
   "execution_count": null,
   "metadata": {},
   "outputs": [],
   "source": [
    "pure_loglike = function(alpha, beta, ys, ns) {\n",
    "    base = lgamma(alpha + beta) - lgamma(alpha) - lgamma(beta)\n",
    "    data = map2_dbl(alpha, beta, function(a, b) {\n",
    "        sum(lgamma(a + ys) + \n",
    "                lgamma(b + ns - ys) - \n",
    "                lgamma(a + b + ns))\n",
    "    })\n",
    "    length(ys) * base + data\n",
    "}\n",
    "model.loglike = pure_loglike"
   ]
  },
  {
   "cell_type": "markdown",
   "metadata": {},
   "source": [
    "## Optimized Likelihood Function"
   ]
  },
  {
   "cell_type": "markdown",
   "metadata": {},
   "source": [
    "```r\n",
    "if (library(rustinr, logical.return=TRUE)) {\n",
    "    message(\"loading optimized likelihood model\")\n",
    "    rust(path='optimized-loglike.rs')\n",
    "    model.loglike = fast_loglike\n",
    "}\n",
    "```"
   ]
  },
  {
   "cell_type": "markdown",
   "metadata": {},
   "source": [
    "## Integrated Posterior Distribution"
   ]
  },
  {
   "cell_type": "code",
   "execution_count": null,
   "metadata": {},
   "outputs": [],
   "source": [
    "model.theta.post = function(theta, norm, counts, totals, loglike=model.loglike, prior=model.prior, max=Inf) {\n",
    "    foreach(thv=theta, .combine=c) %dopar% {\n",
    "        integrate(function(beta) {\n",
    "            map_dbl(beta, function(bv) {\n",
    "                integrate(function(alpha) {\n",
    "                    print(alpha)\n",
    "                    print(bv)\n",
    "                    print(summary(counts))\n",
    "                    ll = loglike(alpha, bv, counts, totals)\n",
    "                    pth = dbeta(thv, alpha, bv)\n",
    "                    res = exp(log(pth) + log(prior(alpha, bv)) + ll - norm)\n",
    "                    res\n",
    "                }, 1.0e-6, max, rel.tol = 0.001)$value\n",
    "            })\n",
    "        }, 1.0e-6, max, rel.tol = 0.001)$value\n",
    "    }\n",
    "}"
   ]
  },
  {
   "cell_type": "markdown",
   "metadata": {},
   "source": [
    "## Change of Parameters"
   ]
  },
  {
   "cell_type": "code",
   "execution_count": null,
   "metadata": {},
   "outputs": [],
   "source": [
    "par.beta = function(x, y) {\n",
    "    exp(y) / (exp(x) + 1)\n",
    "}\n",
    "par.alpha = function(x, y) {\n",
    "    exp(x) * par.beta(x, y)\n",
    "}"
   ]
  },
  {
   "cell_type": "code",
   "execution_count": null,
   "metadata": {},
   "outputs": [],
   "source": [
    "xydensity = function(x, y, counts, totals, prior=model.prior, loglike=model.loglike) {\n",
    "    crossing(x=x, y=y) %>%\n",
    "        mutate(alpha = par.alpha(x, y),\n",
    "               beta = par.beta(x, y)) %>%\n",
    "        mutate(logPrior = log(prior(alpha, beta)),\n",
    "               logLike = loglike(alpha, beta, counts, totals),\n",
    "               rawLogPost = logPrior + logLike) %>%\n",
    "        mutate(logJacobian = log(alpha) + log(beta),\n",
    "               logPost = rawLogPost + logJacobian)\n",
    "}"
   ]
  },
  {
   "cell_type": "markdown",
   "metadata": {},
   "source": [
    "## Utility Functions"
   ]
  },
  {
   "cell_type": "code",
   "execution_count": null,
   "metadata": {},
   "outputs": [],
   "source": [
    "density_frame = function(xs, ...) {\n",
    "    dens = density(xs, ...)\n",
    "    data_frame(value=dens$x, density=dens$y)\n",
    "}"
   ]
  },
  {
   "cell_type": "markdown",
   "metadata": {},
   "source": [
    "## MCMC Model"
   ]
  },
  {
   "cell_type": "markdown",
   "metadata": {},
   "source": [
    "First, the independent model."
   ]
  },
  {
   "cell_type": "code",
   "execution_count": null,
   "metadata": {},
   "outputs": [],
   "source": [
    "message(\"compiling independent Bayesian model\")\n",
    "indep_model = stan_model(file='independent.stan', auto_write=TRUE)\n",
    "indep_model"
   ]
  },
  {
   "cell_type": "code",
   "execution_count": null,
   "metadata": {},
   "outputs": [],
   "source": [
    "message(\"compiling independent Bayesian model with logit-normal\")\n",
    "logit_norm_model = stan_model(file='logitnormal.stan', auto_write=TRUE)\n",
    "logit_norm_model"
   ]
  },
  {
   "cell_type": "markdown",
   "metadata": {},
   "source": [
    "Then the algorithm-integrated model:"
   ]
  },
  {
   "cell_type": "code",
   "execution_count": null,
   "metadata": {},
   "outputs": [],
   "source": [
    "message(\"compiling full Bayesian model\")\n",
    "full_model = stan_model(file='withrecs.stan', auto_write=TRUE)\n",
    "full_model"
   ]
  }
 ],
 "metadata": {
  "kernelspec": {
   "display_name": "R",
   "language": "R",
   "name": "ir"
  },
  "language_info": {
   "codemirror_mode": "r",
   "file_extension": ".r",
   "mimetype": "text/x-r-source",
   "name": "R",
   "pygments_lexer": "r",
   "version": "3.4.2"
  }
 },
 "nbformat": 4,
 "nbformat_minor": 1
}
