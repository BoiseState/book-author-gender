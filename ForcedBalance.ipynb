{
 "cells": [
  {
   "cell_type": "markdown",
   "metadata": {},
   "source": [
    "\n",
    "# Forced Balance Analysis"
   ]
  },
  {
   "cell_type": "code",
   "execution_count": null,
   "metadata": {},
   "outputs": [],
   "source": [
    "library(rstan)\n",
    "library(tidyverse)\n",
    "library(ggplot2)\n",
    "library(modelr)\n",
    "library(xtable)"
   ]
  },
  {
   "cell_type": "code",
   "execution_count": null,
   "metadata": {},
   "outputs": [],
   "source": [
    "options(repr.plot.height = 5)\n",
    "options(mc.cores=parallel::detectCores())\n",
    "rstan_options(auto_write=TRUE)"
   ]
  },
  {
   "cell_type": "code",
   "execution_count": null,
   "metadata": {},
   "outputs": [],
   "source": [
    "source(\"utils.R\")"
   ]
  },
  {
   "cell_type": "markdown",
   "metadata": {},
   "source": [
    "Load eval user results"
   ]
  },
  {
   "cell_type": "code",
   "execution_count": null,
   "metadata": {},
   "outputs": [],
   "source": [
    "exp.users.bx = read_csv(\"build/eval-users-explicit-genderBalance-bx.csv\")\n",
    "imp.users.bx = read_csv(\"build/eval-users-implicit-genderBalance-bx.csv\") "
   ]
  },
  {
   "cell_type": "code",
   "execution_count": null,
   "metadata": {},
   "outputs": [],
   "source": [
    "exp.users.az = read_csv(\"build/eval-users-explicit-genderBalance-amazon.csv\")\n",
    "imp.users.az = read_csv(\"build/eval-users-implicit-genderBalance-amazon.csv\")"
   ]
  },
  {
   "cell_type": "code",
   "execution_count": null,
   "metadata": {},
   "outputs": [],
   "source": [
    "unique(exp.users.az$Algorithm)"
   ]
  },
  {
   "cell_type": "code",
   "execution_count": null,
   "metadata": {},
   "outputs": [],
   "source": [
    "results = bind_rows(`BX-E`=exp.users.bx,\n",
    "                    `BX-I`=imp.users.bx,\n",
    "                    `AZ-E`=exp.users.az,\n",
    "                    `AZ-I`=imp.users.az,\n",
    "                    .id='Run') %>%\n",
    "    mutate(Algorithm=gsub(\"^FunkSVD\", \"MF\", Algorithm)) %>%\n",
    "    filter(!endsWith(Algorithm, \"Optimized\")) %>%\n",
    "    mutate(DataSet=gsub('-(E|I)', '', Run),\n",
    "           DataMode=recode(Run, `BX-E`='Explicit', `BX-I`='Implicit',\n",
    "                           `AZ-E`='Explicit', `AZ-I`='Implicit'),\n",
    "           Algorithm=gsub(\"(ity)?-?BalanceForced$\", \"-B\", Algorithm),\n",
    "           AlgoFamily=as.factor(gsub(\"(ity)?(-Implicit)?(-B)?$\", \"\", Algorithm)),\n",
    "           Mode=as.factor(if_else(endsWith(Algorithm, \"-B\"), \"Balanced\", \"Natural\")))\n",
    "results %>% select(Run, AlgoFamily, Mode, nDCG) %>% summary()"
   ]
  },
  {
   "cell_type": "code",
   "execution_count": null,
   "metadata": {},
   "outputs": [],
   "source": [
    "print(results)"
   ]
  },
  {
   "cell_type": "code",
   "execution_count": null,
   "metadata": {},
   "outputs": [],
   "source": [
    "reclist.ndcg = results %>%\n",
    "    mutate(nDCG=ifelse(!is.nan(nDCG), nDCG, NA)) %>%\n",
    "    select(Run, AlgoFamily, User, Mode, nDCG) %>%\n",
    "    spread(Mode, nDCG) %>%\n",
    "    mutate(Penalty = Natural - Balanced) %>%\n",
    "    unite(Instance, Run, AlgoFamily, remove=FALSE) %>%\n",
    "    mutate(Instance=as.factor(Instance), Run=as.factor(Run))\n",
    "print(reclist.ndcg)"
   ]
  },
  {
   "cell_type": "code",
   "execution_count": null,
   "metadata": {},
   "outputs": [],
   "source": [
    "summary(reclist.ndcg)"
   ]
  },
  {
   "cell_type": "markdown",
   "metadata": {},
   "source": [
    "Let's summarize some statistics:"
   ]
  },
  {
   "cell_type": "code",
   "execution_count": null,
   "metadata": {},
   "outputs": [],
   "source": [
    "reclist.ndcg %>%\n",
    "    group_by(Run, AlgoFamily) %>%\n",
    "    summarize(Nat=mean(Natural)) %>%\n",
    "    spread(Run, Nat)"
   ]
  },
  {
   "cell_type": "code",
   "execution_count": null,
   "metadata": {},
   "outputs": [],
   "source": [
    "reclist.ndcg %>%\n",
    "    group_by(Run, AlgoFamily) %>%\n",
    "    summarize(Bal=mean(Balanced)) %>%\n",
    "    spread(Run, Bal)"
   ]
  },
  {
   "cell_type": "code",
   "execution_count": null,
   "metadata": {},
   "outputs": [],
   "source": [
    "penalties = reclist.ndcg %>%\n",
    "    group_by(Run, AlgoFamily) %>%\n",
    "    summarize(AvgPenalty=mean(Penalty, na.rm=TRUE)) %>%\n",
    "    mutate(AvgPenalty=sprintf(\"%0.4f\", AvgPenalty)) %>%\n",
    "    spread(Run, AvgPenalty)\n",
    "penalties"
   ]
  },
  {
   "cell_type": "code",
   "execution_count": null,
   "metadata": {},
   "outputs": [],
   "source": [
    "print(xtable(penalties), booktabs = TRUE, include.rownames=FALSE)"
   ]
  },
  {
   "cell_type": "markdown",
   "metadata": {},
   "source": [
    "And plot the mess!"
   ]
  },
  {
   "cell_type": "code",
   "execution_count": null,
   "metadata": {},
   "outputs": [],
   "source": [
    "ndcg.stats = results %>%\n",
    "    mutate(nDCG=ifelse(!is.nan(nDCG), nDCG, NA)) %>%\n",
    "    group_by(Run, AlgoFamily, Mode, DataSet, DataMode) %>%\n",
    "    summarize(nDCG=mean(nDCG, na.rm=TRUE)) %>%\n",
    "    group_by(DataMode, DataSet) %>%\n",
    "    mutate(high=nDCG > max(nDCG) * 0.5)"
   ]
  },
  {
   "cell_type": "code",
   "execution_count": null,
   "metadata": {},
   "outputs": [],
   "source": [
    "drawplot(file='build/figures/force-balance-results', width=5, height=3.5, {\n",
    "ggplot(ndcg.stats) +\n",
    "    aes(x=AlgoFamily, y=nDCG, fill=Mode, label=sprintf(\"%0.3f\", nDCG)) +\n",
    "    geom_bar(stat='identity', position='dodge') +\n",
    "    geom_text(position=position_dodge(width=1), size=3, angle=90,\n",
    "              mapping=aes(hjust=if_else(high, 1.05, -0.05),\n",
    "                          color=if_else(high, \"white\", \"black\"))) +\n",
    "    facet_grid(DataMode ~ DataSet, scales=\"free\") +\n",
    "    scale_fill_manual(values=c(Balanced=\"firebrick4\", Natural=\"indianred2\")) +\n",
    "    scale_color_identity() +\n",
    "    xlab(\"Algorithm\") +\n",
    "    theme_paper() +\n",
    "    theme(axis.text.x=element_text(angle=45, hjust=1),\n",
    "          legend.position='bottom')\n",
    "})"
   ]
  },
  {
   "cell_type": "markdown",
   "metadata": {},
   "source": [
    "## Inference for Penalties"
   ]
  },
  {
   "cell_type": "code",
   "execution_count": null,
   "metadata": {},
   "outputs": [],
   "source": [
    "reclist.ndcg %>% mutate(Usable = Natural > 0 | Balanced > 0) %>% select(-Instance) %>% summary()"
   ]
  },
  {
   "cell_type": "markdown",
   "metadata": {},
   "source": [
    "We will infer the average penalty for each algorithm using a simple Bayesian model: $\\bar l_a \\sim \\mathrm{Normal}(\\mu_a, \\sigma_a)$."
   ]
  },
  {
   "cell_type": "code",
   "execution_count": null,
   "metadata": {},
   "outputs": [],
   "source": [
    "pen_model = stan_model(file='models/penalty-means.stan')\n",
    "pen_model"
   ]
  },
  {
   "cell_type": "markdown",
   "metadata": {},
   "source": [
    "```\n",
    "pen_fit = sampling(pen_model,\n",
    "                   data=list(`NA`=length(levels(reclist.ndcg$Instance)),\n",
    "                             NU=nrow(reclist.ndcg),\n",
    "                             algo=as.integer(reclist.ndcg$Instance),\n",
    "                             natAcc=reclist.ndcg$Natural,\n",
    "                             balAcc=reclist.ndcg$Balanced),\n",
    "                   chains=4, iter=5000)\n",
    "```"
   ]
  },
  {
   "cell_type": "markdown",
   "metadata": {},
   "source": [
    "# Evaluation Results\n",
    "\n",
    "**Explicit Data BX**\n",
    "\n",
    "Summarize the mean of each metric."
   ]
  },
  {
   "cell_type": "code",
   "execution_count": null,
   "metadata": {},
   "outputs": [],
   "source": [
    "exp.users.bx %>%\n",
    "    filter(!endsWith(Algorithm, \"Optimized\")) %>%\n",
    "    group_by(DataSet, Algorithm) %>%\n",
    "    summarize(nDCG = mean(nDCG, na.rm = TRUE),\n",
    "              MRR = mean(RecipRank, na.rm = TRUE),\n",
    "              MAP = mean(AvgPrec, na.rm = TRUE),\n",
    "              TopN.numFemale = mean(TopN.numFemale, na.rm = TRUE),\n",
    "              TopN.numUnknown = mean(TopN.numUnknown, na.rm = TRUE),\n",
    "              TopN.numMale = mean(TopN.numMale, na.rm = TRUE)) %>%\n",
    "    ungroup() %>%\n",
    "    arrange(Algorithm)"
   ]
  },
  {
   "cell_type": "markdown",
   "metadata": {},
   "source": [
    "Statistical test for each algorithm"
   ]
  },
  {
   "cell_type": "code",
   "execution_count": null,
   "metadata": {},
   "outputs": [],
   "source": [
    "wilcox.test(filter(exp.users.bx, Algorithm == \"Bias\")$RecipRank,\n",
    "            filter(exp.users.bx, Algorithm == \"BiasBalanceForced\")$RecipRank)"
   ]
  },
  {
   "cell_type": "code",
   "execution_count": null,
   "metadata": {},
   "outputs": [],
   "source": [
    "wilcox.test(filter(exp.users.bx, Algorithm == \"Popular\")$RecipRank,\n",
    "            filter(exp.users.bx, Algorithm == \"PopularityBalanceForced\")$RecipRank)"
   ]
  },
  {
   "cell_type": "code",
   "execution_count": null,
   "metadata": {},
   "outputs": [],
   "source": [
    "wilcox.test(filter(exp.users.bx, Algorithm == \"UserUser\")$RecipRank,\n",
    "            filter(exp.users.bx, Algorithm == \"UserUserBalanceForced\")$RecipRank)"
   ]
  },
  {
   "cell_type": "code",
   "execution_count": null,
   "metadata": {},
   "outputs": [],
   "source": [
    "wilcox.test(filter(exp.users.bx, Algorithm == \"ItemItem\")$RecipRank,\n",
    "            filter(exp.users.bx, Algorithm == \"ItemItemBalanceForced\")$RecipRank)"
   ]
  },
  {
   "cell_type": "code",
   "execution_count": null,
   "metadata": {},
   "outputs": [],
   "source": [
    "wilcox.test(filter(exp.users.bx, Algorithm == \"MF\")$RecipRank,\n",
    "            filter(exp.users.bx, Algorithm == \"FunkSVDBalanceForced\")$RecipRank)"
   ]
  },
  {
   "cell_type": "code",
   "execution_count": null,
   "metadata": {},
   "outputs": [],
   "source": [
    "wilcox.test(filter(exp.users.bx, Algorithm == \"PF\")$RecipRank,\n",
    "            filter(exp.users.bx, Algorithm == \"PFBalanceForced\")$RecipRank)"
   ]
  },
  {
   "cell_type": "markdown",
   "metadata": {},
   "source": [
    "**Implicit Data BX**\n",
    "\n",
    "Summarize the mean of each metric."
   ]
  },
  {
   "cell_type": "code",
   "execution_count": null,
   "metadata": {},
   "outputs": [],
   "source": [
    "imp.users.bx %>%\n",
    "    filter(!endsWith(Algorithm, \"Optimized\")) %>%\n",
    "    group_by(DataSet, Algorithm) %>%\n",
    "    summarize(nDCG = mean(nDCG, na.rm = TRUE),\n",
    "              MRR = mean(RecipRank, na.rm = TRUE),\n",
    "              MAP = mean(AvgPrec, na.rm = TRUE),\n",
    "              TopN.numFemale = mean(TopN.numFemale, na.rm = TRUE),\n",
    "              TopN.numUnknown = mean(TopN.numUnknown, na.rm = TRUE),\n",
    "              TopN.numMale = mean(TopN.numMale, na.rm = TRUE)) %>%\n",
    "    ungroup() %>%\n",
    "    arrange(DataSet, Algorithm)"
   ]
  },
  {
   "cell_type": "code",
   "execution_count": null,
   "metadata": {},
   "outputs": [],
   "source": [
    "wilcox.test(filter(imp.users.bx, Algorithm == \"Popular-Implicit\")$RecipRank,\n",
    "            filter(imp.users.bx, Algorithm == \"Popularity-Implicit-BalanceForced\")$RecipRank)"
   ]
  },
  {
   "cell_type": "code",
   "execution_count": null,
   "metadata": {},
   "outputs": [],
   "source": [
    "wilcox.test(filter(imp.users.bx, Algorithm == \"UserUser-Implicit\")$RecipRank,\n",
    "            filter(imp.users.bx, Algorithm == \"UserUser-Implicit-BalanceForced\")$RecipRank)"
   ]
  },
  {
   "cell_type": "code",
   "execution_count": null,
   "metadata": {},
   "outputs": [],
   "source": [
    "wilcox.test(filter(imp.users.bx, Algorithm == \"ItemItem-Implicit\")$RecipRank,\n",
    "            filter(imp.users.bx, Algorithm == \"ItemItem-Implicit-BalanceForced\")$RecipRank)"
   ]
  },
  {
   "cell_type": "code",
   "execution_count": null,
   "metadata": {},
   "outputs": [],
   "source": [
    "wilcox.test(filter(imp.users.bx, Algorithm == \"MF-Implicit\")$RecipRank,\n",
    "            filter(imp.users.bx, Algorithm == \"FunkSVD-Implicit-BalanceForced\")$RecipRank)"
   ]
  },
  {
   "cell_type": "code",
   "execution_count": null,
   "metadata": {},
   "outputs": [],
   "source": [
    "wilcox.test(filter(imp.users.bx, Algorithm == \"PF-Implicit\")$RecipRank,\n",
    "            filter(imp.users.bx, Algorithm == \"PF-Implicit-BalanceForced\")$RecipRank)"
   ]
  },
  {
   "cell_type": "markdown",
   "metadata": {},
   "source": [
    "## Linear Regression\n",
    "\n",
    "Fit the linear regression model for each algorithm pair using unbalanced ndcg as the feature, forcebalaced ndcg as the label.\n",
    "\n",
    "Transform data to the required format."
   ]
  },
  {
   "cell_type": "code",
   "execution_count": null,
   "metadata": {},
   "outputs": [],
   "source": [
    "explicit.algorithm.list = list(Bias=c('Bias', 'BiasBalanceForced'),\n",
    "                               Popular=c('Popular', 'PopularityBalanceForced'),\n",
    "                               UserUser=c('UserUser', 'UserUserBalanceForced'),\n",
    "                               ItemItem=c('ItemItem', 'ItemItemBalanceForced'),\n",
    "                               FunkSVD=c('MF', 'FunkSVDBalanceForced'),\n",
    "                               PF=c('PF', 'PFBalanceForced'))"
   ]
  },
  {
   "cell_type": "code",
   "execution_count": null,
   "metadata": {},
   "outputs": [],
   "source": [
    "ndcg.explicit.bx = map_dfr(explicit.algorithm.list, function(algorithm) {\n",
    "    exp.users.bx %>%\n",
    "        select(DataSet, Algorithm, User, nDCG) %>%\n",
    "        filter(!is.na(nDCG)) %>%\n",
    "        filter(Algorithm %in% algorithm) %>%\n",
    "        mutate(Algorithm = ifelse(Algorithm == algorithm[[1]], 'original', 'forcebalanced')) %>%\n",
    "        spread(Algorithm, nDCG)\n",
    "}, .id = \"Algorithm\")\n",
    "head(ndcg.explicit.bx)"
   ]
  },
  {
   "cell_type": "code",
   "execution_count": null,
   "metadata": {},
   "outputs": [],
   "source": [
    "implicit.algorithm.list = list(Popular=c('Popular-Implicit', 'Popularity-Implicit-BalanceForced'),\n",
    "                               UserUser=c('UserUser-Implicit', 'UserUser-Implicit-BalanceForced'),\n",
    "                               ItemItem=c('ItemItem-Implicit', 'ItemItem-Implicit-BalanceForced'),\n",
    "                               FunkSVD=c('MF-Implicit', 'FunkSVD-Implicit-BalanceForced'),\n",
    "                               PF=c('PF-Implicit', 'PF-Implicit-BalanceForced'))"
   ]
  },
  {
   "cell_type": "code",
   "execution_count": null,
   "metadata": {},
   "outputs": [],
   "source": [
    "ndcg.implicit.bx = map_dfr(implicit.algorithm.list, function(algorithm) {\n",
    "    imp.users.bx %>%\n",
    "        select(DataSet, Algorithm, User, nDCG) %>%\n",
    "        filter(!is.na(nDCG)) %>%\n",
    "        filter(Algorithm %in% algorithm) %>%\n",
    "        mutate(Algorithm = ifelse(Algorithm == algorithm[[1]], 'original', 'forcebalanced')) %>%\n",
    "        spread(Algorithm, nDCG)\n",
    "}, .id = \"Algorithm\")\n",
    "head(ndcg.implicit.bx)"
   ]
  },
  {
   "cell_type": "code",
   "execution_count": null,
   "metadata": {},
   "outputs": [],
   "source": [
    "user.ndcg.bx = bind_rows(ndcg.explicit.bx, ndcg.implicit.bx) %>%\n",
    "    select(DataSet, Algorithm, User, Unbalanced=original, Balanced=forcebalanced)\n",
    "head(user.ndcg.bx)"
   ]
  },
  {
   "cell_type": "markdown",
   "metadata": {},
   "source": [
    "Plot it\n",
    "\n",
    "Explicit ratings"
   ]
  },
  {
   "cell_type": "code",
   "execution_count": null,
   "metadata": {},
   "outputs": [],
   "source": [
    "ggplot(user.ndcg.bx %>% filter(DataSet=='bx-explicit')) +\n",
    "    aes(x=Unbalanced, y=Balanced) +\n",
    "    geom_point() +\n",
    "    geom_rug() +\n",
    "    facet_wrap(~ Algorithm)"
   ]
  },
  {
   "cell_type": "markdown",
   "metadata": {},
   "source": [
    "Implicit ratings"
   ]
  },
  {
   "cell_type": "code",
   "execution_count": null,
   "metadata": {},
   "outputs": [],
   "source": [
    "ggplot(user.ndcg.bx %>% filter(DataSet=='bx-implicit')) +\n",
    "    aes(x=Unbalanced, y=Balanced) +\n",
    "    geom_point() +\n",
    "    geom_rug() +\n",
    "    facet_wrap(~ Algorithm)"
   ]
  },
  {
   "cell_type": "markdown",
   "metadata": {},
   "source": [
    "Fit a linear model for each algorithm in each data set\n",
    "\n",
    "BX Explicit"
   ]
  },
  {
   "cell_type": "code",
   "execution_count": null,
   "metadata": {},
   "outputs": [],
   "source": [
    "bxe.algorithms = unique(filter(user.ndcg.bx, DataSet == 'bx-explicit')$Algorithm)\n",
    "bxe.algorithms"
   ]
  },
  {
   "cell_type": "code",
   "execution_count": null,
   "metadata": {},
   "outputs": [],
   "source": [
    "bxe.bias.ndcg.model = lm(Balanced ~ Unbalanced, \n",
    "                                 data = filter(user.ndcg.bx, DataSet == 'bx-explicit', Algorithm == 'Bias'))\n",
    "summary(bxe.bias.ndcg.model)"
   ]
  },
  {
   "cell_type": "code",
   "execution_count": null,
   "metadata": {},
   "outputs": [],
   "source": [
    "bxe.popular.ndcg.model = lm(Balanced ~ Unbalanced, \n",
    "                                 data = filter(user.ndcg.bx, DataSet == 'bx-explicit', Algorithm == 'Popular'))\n",
    "summary(bxe.popular.ndcg.model)"
   ]
  },
  {
   "cell_type": "code",
   "execution_count": null,
   "metadata": {},
   "outputs": [],
   "source": [
    "bxe.useruser.ndcg.model = lm(Balanced ~ Unbalanced, \n",
    "                                 data = filter(user.ndcg.bx, DataSet == 'bx-explicit', Algorithm == 'UserUser'))\n",
    "summary(bxe.useruser.ndcg.model)"
   ]
  },
  {
   "cell_type": "code",
   "execution_count": null,
   "metadata": {},
   "outputs": [],
   "source": [
    "bxe.itemitem.ndcg.model = lm(Balanced ~ Unbalanced, \n",
    "                                 data = filter(user.ndcg.bx, DataSet == 'bx-explicit', Algorithm == 'ItemItem'))\n",
    "summary(bxe.itemitem.ndcg.model)"
   ]
  },
  {
   "cell_type": "code",
   "execution_count": null,
   "metadata": {},
   "outputs": [],
   "source": [
    "bxe.funksvd.ndcg.model = lm(Balanced ~ Unbalanced, \n",
    "                                 data = filter(user.ndcg.bx, DataSet == 'bx-explicit', Algorithm == 'FunkSVD'))\n",
    "summary(bxe.funksvd.ndcg.model)"
   ]
  },
  {
   "cell_type": "code",
   "execution_count": null,
   "metadata": {},
   "outputs": [],
   "source": [
    "bxe.pf.ndcg.model = lm(Balanced ~ Unbalanced, \n",
    "                                 data = filter(user.ndcg.bx, DataSet == 'bx-explicit', Algorithm == 'PF'))\n",
    "summary(bxe.pf.ndcg.model)"
   ]
  },
  {
   "cell_type": "markdown",
   "metadata": {},
   "source": [
    "Combine the predictions and the learned parameters (intercept and coefficient ($\\alpha$))"
   ]
  },
  {
   "cell_type": "code",
   "execution_count": null,
   "metadata": {},
   "outputs": [],
   "source": [
    "bxe.ndcg.models = list(bxe.bias.ndcg.model, bxe.popular.ndcg.model, bxe.useruser.ndcg.model,\n",
    "                       bxe.itemitem.ndcg.model, bxe.funksvd.ndcg.model, bxe.pf.ndcg.model)"
   ]
  },
  {
   "cell_type": "code",
   "execution_count": null,
   "metadata": {},
   "outputs": [],
   "source": [
    "bxe.ndcg.preds = map_dfr(1:length(bxe.algorithms), function(modelID) {\n",
    "    user.ndcg.bx %>%\n",
    "        filter(DataSet == 'bx-explicit', Algorithm == bxe.algorithms[[modelID]]) %>%\n",
    "        add_predictions(bxe.ndcg.models[[modelID]]) %>%\n",
    "        mutate(resid = Balanced - pred,\n",
    "               intercept = bxe.ndcg.models[[modelID]]$coefficients[['(Intercept)']],\n",
    "               coefficient = bxe.ndcg.models[[modelID]]$coefficients[['Unbalanced']])\n",
    "})\n",
    "head(bxe.ndcg.preds)"
   ]
  },
  {
   "cell_type": "markdown",
   "metadata": {},
   "source": [
    "BX implicit"
   ]
  },
  {
   "cell_type": "code",
   "execution_count": null,
   "metadata": {},
   "outputs": [],
   "source": [
    "bxi.algorithms = unique(filter(user.ndcg.bx, DataSet == 'bx-implicit')$Algorithm)\n",
    "bxi.algorithms"
   ]
  },
  {
   "cell_type": "code",
   "execution_count": null,
   "metadata": {},
   "outputs": [],
   "source": [
    "bxi.popular.ndcg.model = lm(Balanced ~ Unbalanced, \n",
    "                                 data = filter(user.ndcg.bx, DataSet == 'bx-implicit', Algorithm == 'Popular'))\n",
    "summary(bxi.popular.ndcg.model)"
   ]
  },
  {
   "cell_type": "code",
   "execution_count": null,
   "metadata": {},
   "outputs": [],
   "source": [
    "bxi.useruser.ndcg.model = lm(Balanced ~ Unbalanced, \n",
    "                                 data = filter(user.ndcg.bx, DataSet == 'bx-implicit', Algorithm == 'UserUser'))\n",
    "summary(bxi.useruser.ndcg.model)"
   ]
  },
  {
   "cell_type": "code",
   "execution_count": null,
   "metadata": {},
   "outputs": [],
   "source": [
    "bxi.itemitem.ndcg.model = lm(Balanced ~ Unbalanced, \n",
    "                                 data = filter(user.ndcg.bx, DataSet == 'bx-implicit', Algorithm == 'ItemItem'))\n",
    "summary(bxi.itemitem.ndcg.model)"
   ]
  },
  {
   "cell_type": "code",
   "execution_count": null,
   "metadata": {},
   "outputs": [],
   "source": [
    "bxi.funksvd.ndcg.model = lm(Balanced ~ Unbalanced, \n",
    "                                 data = filter(user.ndcg.bx, DataSet == 'bx-implicit', Algorithm == 'FunkSVD'))\n",
    "summary(bxi.funksvd.ndcg.model)"
   ]
  },
  {
   "cell_type": "code",
   "execution_count": null,
   "metadata": {},
   "outputs": [],
   "source": [
    "bxi.pf.ndcg.model = lm(Balanced ~ Unbalanced, \n",
    "                                 data = filter(user.ndcg.bx, DataSet == 'bx-implicit', Algorithm == 'PF'))\n",
    "summary(bxi.pf.ndcg.model)"
   ]
  },
  {
   "cell_type": "markdown",
   "metadata": {},
   "source": [
    "Combine models"
   ]
  },
  {
   "cell_type": "code",
   "execution_count": null,
   "metadata": {},
   "outputs": [],
   "source": [
    "bxi.ndcg.models = list(bxi.popular.ndcg.model, bxi.useruser.ndcg.model, bxi.itemitem.ndcg.model, \n",
    "                       bxi.funksvd.ndcg.model, bxi.pf.ndcg.model)"
   ]
  },
  {
   "cell_type": "code",
   "execution_count": null,
   "metadata": {},
   "outputs": [],
   "source": [
    "bxi.ndcg.preds = map_dfr(1:length(bxi.algorithms), function(modelID) {\n",
    "    user.ndcg.bx %>%\n",
    "        filter(DataSet == 'bx-implicit', Algorithm == bxi.algorithms[[modelID]]) %>%\n",
    "        add_predictions(bxi.ndcg.models[[modelID]]) %>%\n",
    "        mutate(resid = Balanced - pred,\n",
    "               intercept = bxi.ndcg.models[[modelID]]$coefficients[['(Intercept)']],\n",
    "               coefficient = bxi.ndcg.models[[modelID]]$coefficients[['Unbalanced']])\n",
    "})\n",
    "head(bxi.ndcg.preds)"
   ]
  },
  {
   "cell_type": "markdown",
   "metadata": {},
   "source": [
    "Bind predictions of all data sets"
   ]
  },
  {
   "cell_type": "code",
   "execution_count": null,
   "metadata": {},
   "outputs": [],
   "source": [
    "bx.ndcg.preds = bind_rows(bxe.ndcg.preds,\n",
    "                          bxi.ndcg.preds)\n",
    "head(bx.ndcg.preds)"
   ]
  },
  {
   "cell_type": "code",
   "execution_count": null,
   "metadata": {},
   "outputs": [],
   "source": [
    "tail(bx.ndcg.preds)"
   ]
  },
  {
   "cell_type": "code",
   "execution_count": null,
   "metadata": {},
   "outputs": [],
   "source": []
  }
 ],
 "metadata": {
  "kernelspec": {
   "display_name": "R",
   "language": "R",
   "name": "ir"
  },
  "language_info": {
   "codemirror_mode": "r",
   "file_extension": ".r",
   "mimetype": "text/x-r-source",
   "name": "R",
   "pygments_lexer": "r",
   "version": "3.4.3"
  }
 },
 "nbformat": 4,
 "nbformat_minor": 2
}
