{
 "cells": [
  {
   "cell_type": "markdown",
   "metadata": {
    "papermill": {
     "duration": 0.05656,
     "end_time": "2020-05-08T03:34:32.329300",
     "exception": false,
     "start_time": "2020-05-08T03:34:32.272740",
     "status": "completed"
    },
    "tags": []
   },
   "source": [
    "# User Profile Data Prep\n",
    "\n",
    "This notebook does the data preparation for Bayesian inference for the model analysis."
   ]
  },
  {
   "cell_type": "markdown",
   "metadata": {
    "papermill": {
     "duration": 0.05407,
     "end_time": "2020-05-08T03:34:32.438247",
     "exception": false,
     "start_time": "2020-05-08T03:34:32.384177",
     "status": "completed"
    },
    "tags": []
   },
   "source": [
    "## Setup"
   ]
  },
  {
   "cell_type": "code",
   "execution_count": 1,
   "metadata": {
    "papermill": {
     "duration": 0.06991,
     "end_time": "2020-05-08T03:34:32.565188",
     "exception": false,
     "start_time": "2020-05-08T03:34:32.495278",
     "status": "completed"
    },
    "tags": []
   },
   "outputs": [],
   "source": [
    "from pathlib import Path"
   ]
  },
  {
   "cell_type": "code",
   "execution_count": 2,
   "metadata": {
    "papermill": {
     "duration": 2.090999,
     "end_time": "2020-05-08T03:34:34.711129",
     "exception": false,
     "start_time": "2020-05-08T03:34:32.620130",
     "status": "completed"
    },
    "tags": []
   },
   "outputs": [],
   "source": [
    "import pandas as pd\n",
    "import numpy as np\n",
    "import seaborn as sns\n",
    "import matplotlib.pyplot as plt\n",
    "from plotnine import *\n",
    "import ujson"
   ]
  },
  {
   "cell_type": "code",
   "execution_count": 3,
   "metadata": {
    "papermill": {
     "duration": 0.194735,
     "end_time": "2020-05-08T03:34:34.960602",
     "exception": false,
     "start_time": "2020-05-08T03:34:34.765867",
     "status": "completed"
    },
    "tags": []
   },
   "outputs": [],
   "source": [
    "from bookgender.config import data_dir\n",
    "from bookgender.nbutils import *"
   ]
  },
  {
   "cell_type": "code",
   "execution_count": 4,
   "metadata": {
    "papermill": {
     "duration": 0.076641,
     "end_time": "2020-05-08T03:34:35.092662",
     "exception": false,
     "start_time": "2020-05-08T03:34:35.016021",
     "status": "completed"
    },
    "tags": []
   },
   "outputs": [
    {
     "name": "stdout",
     "output_type": "stream",
     "text": [
      "using figure dir figures/ProfileData\n"
     ]
    }
   ],
   "source": [
    "fig_dir = init_figs('ProfileData')"
   ]
  },
  {
   "cell_type": "markdown",
   "metadata": {
    "papermill": {
     "duration": 0.055835,
     "end_time": "2020-05-08T03:34:35.204268",
     "exception": false,
     "start_time": "2020-05-08T03:34:35.148433",
     "status": "completed"
    },
    "tags": []
   },
   "source": [
    "## Load Data\n",
    "\n",
    "We need to load the author-gender information:"
   ]
  },
  {
   "cell_type": "code",
   "execution_count": 5,
   "metadata": {
    "papermill": {
     "duration": 7.393277,
     "end_time": "2020-05-08T03:34:42.657628",
     "exception": false,
     "start_time": "2020-05-08T03:34:35.264351",
     "status": "completed"
    },
    "tags": []
   },
   "outputs": [
    {
     "data": {
      "text/plain": [
       "count     12234574\n",
       "unique           6\n",
       "top           male\n",
       "freq       3645216\n",
       "Name: gender, dtype: object"
      ]
     },
     "execution_count": 5,
     "metadata": {},
     "output_type": "execute_result"
    }
   ],
   "source": [
    "book_gender = pd.read_csv(data_dir / 'author-gender.csv.gz')\n",
    "book_gender = book_gender.set_index('item')['gender']\n",
    "book_gender.describe()"
   ]
  },
  {
   "cell_type": "code",
   "execution_count": 6,
   "metadata": {
    "papermill": {
     "duration": 5.524567,
     "end_time": "2020-05-08T03:34:48.236303",
     "exception": false,
     "start_time": "2020-05-08T03:34:42.711736",
     "status": "completed"
    },
    "tags": []
   },
   "outputs": [
    {
     "data": {
      "text/plain": [
       "[male, unlinked, female, unknown, ambiguous]\n",
       "Categories (5, object): [male, unlinked, female, unknown, ambiguous]"
      ]
     },
     "execution_count": 6,
     "metadata": {},
     "output_type": "execute_result"
    }
   ],
   "source": [
    "book_gender[book_gender == 'no-viaf-author'] = 'unlinked'\n",
    "book_gender[book_gender == 'no-loc-author'] = 'unlinked'\n",
    "book_gender[book_gender == 'no-loc-book'] = 'unlinked'\n",
    "book_gender = book_gender.astype('category')\n",
    "book_gender.unique()"
   ]
  },
  {
   "cell_type": "markdown",
   "metadata": {
    "papermill": {
     "duration": 0.057075,
     "end_time": "2020-05-08T03:34:48.350561",
     "exception": false,
     "start_time": "2020-05-08T03:34:48.293486",
     "status": "completed"
    },
    "tags": []
   },
   "source": [
    "And we load book hashes, to set up our dummy bias:"
   ]
  },
  {
   "cell_type": "code",
   "execution_count": 7,
   "metadata": {
    "papermill": {
     "duration": 18.899345,
     "end_time": "2020-05-08T03:35:07.307688",
     "exception": false,
     "start_time": "2020-05-08T03:34:48.408343",
     "status": "completed"
    },
    "tags": []
   },
   "outputs": [
    {
     "data": {
      "text/html": [
       "<div>\n",
       "<style scoped>\n",
       "    .dataframe tbody tr th:only-of-type {\n",
       "        vertical-align: middle;\n",
       "    }\n",
       "\n",
       "    .dataframe tbody tr th {\n",
       "        vertical-align: top;\n",
       "    }\n",
       "\n",
       "    .dataframe thead th {\n",
       "        text-align: right;\n",
       "    }\n",
       "</style>\n",
       "<table border=\"1\" class=\"dataframe\">\n",
       "  <thead>\n",
       "    <tr style=\"text-align: right;\">\n",
       "      <th></th>\n",
       "      <th>nisbns</th>\n",
       "      <th>md5</th>\n",
       "      <th>dcode</th>\n",
       "    </tr>\n",
       "    <tr>\n",
       "      <th>item</th>\n",
       "      <th></th>\n",
       "      <th></th>\n",
       "      <th></th>\n",
       "    </tr>\n",
       "  </thead>\n",
       "  <tbody>\n",
       "    <tr>\n",
       "      <th>0</th>\n",
       "      <td>17</td>\n",
       "      <td>3781b82fabd530590c70cac955b52bb0</td>\n",
       "      <td>0</td>\n",
       "    </tr>\n",
       "    <tr>\n",
       "      <th>1</th>\n",
       "      <td>2</td>\n",
       "      <td>4c6606ab43bfbe946a436c0ce7633a7a</td>\n",
       "      <td>0</td>\n",
       "    </tr>\n",
       "    <tr>\n",
       "      <th>2</th>\n",
       "      <td>38</td>\n",
       "      <td>e16249d40bf94b35d8a784d73d0511c5</td>\n",
       "      <td>1</td>\n",
       "    </tr>\n",
       "    <tr>\n",
       "      <th>3</th>\n",
       "      <td>2</td>\n",
       "      <td>289071ab1041c090ac252616a76fe079</td>\n",
       "      <td>1</td>\n",
       "    </tr>\n",
       "    <tr>\n",
       "      <th>4</th>\n",
       "      <td>4</td>\n",
       "      <td>7308735b39347b616ee6be0ab093541e</td>\n",
       "      <td>0</td>\n",
       "    </tr>\n",
       "  </tbody>\n",
       "</table>\n",
       "</div>"
      ],
      "text/plain": [
       "      nisbns                               md5  dcode\n",
       "item                                                 \n",
       "0         17  3781b82fabd530590c70cac955b52bb0      0\n",
       "1          2  4c6606ab43bfbe946a436c0ce7633a7a      0\n",
       "2         38  e16249d40bf94b35d8a784d73d0511c5      1\n",
       "3          2  289071ab1041c090ac252616a76fe079      1\n",
       "4          4  7308735b39347b616ee6be0ab093541e      0"
      ]
     },
     "execution_count": 7,
     "metadata": {},
     "output_type": "execute_result"
    }
   ],
   "source": [
    "book_hash = pd.read_parquet(data_dir / 'book-hash.parquet').rename(columns={'cluster': 'item'})\n",
    "book_hash['dcode'] = book_hash['md5'].apply(lambda x: int(x[-1], 16) % 2)\n",
    "book_hash = book_hash.set_index('item')\n",
    "book_hash.head()"
   ]
  },
  {
   "cell_type": "markdown",
   "metadata": {
    "papermill": {
     "duration": 0.036231,
     "end_time": "2020-05-08T03:35:07.380090",
     "exception": false,
     "start_time": "2020-05-08T03:35:07.343859",
     "status": "completed"
    },
    "tags": []
   },
   "source": [
    "Load the sample user ratings for each data set:"
   ]
  },
  {
   "cell_type": "code",
   "execution_count": 8,
   "metadata": {
    "papermill": {
     "duration": 1.922147,
     "end_time": "2020-05-08T03:35:09.338882",
     "exception": false,
     "start_time": "2020-05-08T03:35:07.416735",
     "status": "completed"
    },
    "tags": []
   },
   "outputs": [
    {
     "data": {
      "text/html": [
       "<div>\n",
       "<style scoped>\n",
       "    .dataframe tbody tr th:only-of-type {\n",
       "        vertical-align: middle;\n",
       "    }\n",
       "\n",
       "    .dataframe tbody tr th {\n",
       "        vertical-align: top;\n",
       "    }\n",
       "\n",
       "    .dataframe thead th {\n",
       "        text-align: right;\n",
       "    }\n",
       "</style>\n",
       "<table border=\"1\" class=\"dataframe\">\n",
       "  <thead>\n",
       "    <tr style=\"text-align: right;\">\n",
       "      <th></th>\n",
       "      <th>Set</th>\n",
       "      <th>user</th>\n",
       "      <th>item</th>\n",
       "      <th>timestamp</th>\n",
       "      <th>nactions</th>\n",
       "      <th>first_time</th>\n",
       "      <th>last_time</th>\n",
       "    </tr>\n",
       "  </thead>\n",
       "  <tbody>\n",
       "    <tr>\n",
       "      <th>0</th>\n",
       "      <td>AZ</td>\n",
       "      <td>4975592</td>\n",
       "      <td>462114</td>\n",
       "      <td>1.233101e+09</td>\n",
       "      <td>NaN</td>\n",
       "      <td>NaN</td>\n",
       "      <td>NaN</td>\n",
       "    </tr>\n",
       "    <tr>\n",
       "      <th>1</th>\n",
       "      <td>AZ</td>\n",
       "      <td>4975592</td>\n",
       "      <td>1662785</td>\n",
       "      <td>1.233101e+09</td>\n",
       "      <td>NaN</td>\n",
       "      <td>NaN</td>\n",
       "      <td>NaN</td>\n",
       "    </tr>\n",
       "    <tr>\n",
       "      <th>2</th>\n",
       "      <td>AZ</td>\n",
       "      <td>4975592</td>\n",
       "      <td>7287509</td>\n",
       "      <td>1.233101e+09</td>\n",
       "      <td>NaN</td>\n",
       "      <td>NaN</td>\n",
       "      <td>NaN</td>\n",
       "    </tr>\n",
       "    <tr>\n",
       "      <th>3</th>\n",
       "      <td>AZ</td>\n",
       "      <td>4975592</td>\n",
       "      <td>8866889</td>\n",
       "      <td>1.233101e+09</td>\n",
       "      <td>NaN</td>\n",
       "      <td>NaN</td>\n",
       "      <td>NaN</td>\n",
       "    </tr>\n",
       "    <tr>\n",
       "      <th>4</th>\n",
       "      <td>AZ</td>\n",
       "      <td>4975592</td>\n",
       "      <td>10031188</td>\n",
       "      <td>1.233101e+09</td>\n",
       "      <td>NaN</td>\n",
       "      <td>NaN</td>\n",
       "      <td>NaN</td>\n",
       "    </tr>\n",
       "  </tbody>\n",
       "</table>\n",
       "</div>"
      ],
      "text/plain": [
       "  Set     user      item     timestamp  nactions  first_time  last_time\n",
       "0  AZ  4975592    462114  1.233101e+09       NaN         NaN        NaN\n",
       "1  AZ  4975592   1662785  1.233101e+09       NaN         NaN        NaN\n",
       "2  AZ  4975592   7287509  1.233101e+09       NaN         NaN        NaN\n",
       "3  AZ  4975592   8866889  1.233101e+09       NaN         NaN        NaN\n",
       "4  AZ  4975592  10031188  1.233101e+09       NaN         NaN        NaN"
      ]
     },
     "execution_count": 8,
     "metadata": {},
     "output_type": "execute_result"
    }
   ],
   "source": [
    "user_ratings = pd.read_csv(data_dir / 'study-ratings.csv')\n",
    "user_ratings.drop(columns=['rating'], inplace=True)\n",
    "user_ratings.rename(columns={'dataset': 'Set'}, inplace=True)\n",
    "user_ratings.head()"
   ]
  },
  {
   "cell_type": "code",
   "execution_count": 9,
   "metadata": {
    "papermill": {
     "duration": 6.717506,
     "end_time": "2020-05-08T03:35:16.116636",
     "exception": false,
     "start_time": "2020-05-08T03:35:09.399130",
     "status": "completed"
    },
    "tags": []
   },
   "outputs": [
    {
     "data": {
      "text/html": [
       "<div>\n",
       "<style scoped>\n",
       "    .dataframe tbody tr th:only-of-type {\n",
       "        vertical-align: middle;\n",
       "    }\n",
       "\n",
       "    .dataframe tbody tr th {\n",
       "        vertical-align: top;\n",
       "    }\n",
       "\n",
       "    .dataframe thead th {\n",
       "        text-align: right;\n",
       "    }\n",
       "</style>\n",
       "<table border=\"1\" class=\"dataframe\">\n",
       "  <thead>\n",
       "    <tr style=\"text-align: right;\">\n",
       "      <th></th>\n",
       "      <th>Set</th>\n",
       "      <th>user</th>\n",
       "      <th>item</th>\n",
       "      <th>timestamp</th>\n",
       "      <th>nactions</th>\n",
       "      <th>first_time</th>\n",
       "      <th>last_time</th>\n",
       "      <th>gender</th>\n",
       "      <th>dcode</th>\n",
       "    </tr>\n",
       "  </thead>\n",
       "  <tbody>\n",
       "    <tr>\n",
       "      <th>0</th>\n",
       "      <td>AZ</td>\n",
       "      <td>4975592</td>\n",
       "      <td>462114</td>\n",
       "      <td>1.233101e+09</td>\n",
       "      <td>NaN</td>\n",
       "      <td>NaN</td>\n",
       "      <td>NaN</td>\n",
       "      <td>male</td>\n",
       "      <td>0.0</td>\n",
       "    </tr>\n",
       "    <tr>\n",
       "      <th>1</th>\n",
       "      <td>AZ</td>\n",
       "      <td>4975592</td>\n",
       "      <td>1662785</td>\n",
       "      <td>1.233101e+09</td>\n",
       "      <td>NaN</td>\n",
       "      <td>NaN</td>\n",
       "      <td>NaN</td>\n",
       "      <td>male</td>\n",
       "      <td>1.0</td>\n",
       "    </tr>\n",
       "    <tr>\n",
       "      <th>2</th>\n",
       "      <td>AZ</td>\n",
       "      <td>4975592</td>\n",
       "      <td>7287509</td>\n",
       "      <td>1.233101e+09</td>\n",
       "      <td>NaN</td>\n",
       "      <td>NaN</td>\n",
       "      <td>NaN</td>\n",
       "      <td>male</td>\n",
       "      <td>1.0</td>\n",
       "    </tr>\n",
       "    <tr>\n",
       "      <th>3</th>\n",
       "      <td>AZ</td>\n",
       "      <td>4975592</td>\n",
       "      <td>8866889</td>\n",
       "      <td>1.233101e+09</td>\n",
       "      <td>NaN</td>\n",
       "      <td>NaN</td>\n",
       "      <td>NaN</td>\n",
       "      <td>unknown</td>\n",
       "      <td>0.0</td>\n",
       "    </tr>\n",
       "    <tr>\n",
       "      <th>4</th>\n",
       "      <td>AZ</td>\n",
       "      <td>4975592</td>\n",
       "      <td>10031188</td>\n",
       "      <td>1.233101e+09</td>\n",
       "      <td>NaN</td>\n",
       "      <td>NaN</td>\n",
       "      <td>NaN</td>\n",
       "      <td>male</td>\n",
       "      <td>0.0</td>\n",
       "    </tr>\n",
       "    <tr>\n",
       "      <th>5</th>\n",
       "      <td>AZ</td>\n",
       "      <td>4975592</td>\n",
       "      <td>43930</td>\n",
       "      <td>1.233274e+09</td>\n",
       "      <td>NaN</td>\n",
       "      <td>NaN</td>\n",
       "      <td>NaN</td>\n",
       "      <td>male</td>\n",
       "      <td>1.0</td>\n",
       "    </tr>\n",
       "    <tr>\n",
       "      <th>6</th>\n",
       "      <td>AZ</td>\n",
       "      <td>4975592</td>\n",
       "      <td>11005013</td>\n",
       "      <td>1.233274e+09</td>\n",
       "      <td>NaN</td>\n",
       "      <td>NaN</td>\n",
       "      <td>NaN</td>\n",
       "      <td>unknown</td>\n",
       "      <td>1.0</td>\n",
       "    </tr>\n",
       "    <tr>\n",
       "      <th>7</th>\n",
       "      <td>AZ</td>\n",
       "      <td>4975592</td>\n",
       "      <td>3649898</td>\n",
       "      <td>1.233619e+09</td>\n",
       "      <td>NaN</td>\n",
       "      <td>NaN</td>\n",
       "      <td>NaN</td>\n",
       "      <td>male</td>\n",
       "      <td>1.0</td>\n",
       "    </tr>\n",
       "    <tr>\n",
       "      <th>8</th>\n",
       "      <td>AZ</td>\n",
       "      <td>4975592</td>\n",
       "      <td>8462465</td>\n",
       "      <td>1.233619e+09</td>\n",
       "      <td>NaN</td>\n",
       "      <td>NaN</td>\n",
       "      <td>NaN</td>\n",
       "      <td>male</td>\n",
       "      <td>0.0</td>\n",
       "    </tr>\n",
       "    <tr>\n",
       "      <th>9</th>\n",
       "      <td>AZ</td>\n",
       "      <td>4975592</td>\n",
       "      <td>3727790</td>\n",
       "      <td>1.234656e+09</td>\n",
       "      <td>NaN</td>\n",
       "      <td>NaN</td>\n",
       "      <td>NaN</td>\n",
       "      <td>male</td>\n",
       "      <td>0.0</td>\n",
       "    </tr>\n",
       "    <tr>\n",
       "      <th>10</th>\n",
       "      <td>AZ</td>\n",
       "      <td>4975592</td>\n",
       "      <td>856425</td>\n",
       "      <td>1.234829e+09</td>\n",
       "      <td>NaN</td>\n",
       "      <td>NaN</td>\n",
       "      <td>NaN</td>\n",
       "      <td>male</td>\n",
       "      <td>0.0</td>\n",
       "    </tr>\n",
       "    <tr>\n",
       "      <th>11</th>\n",
       "      <td>AZ</td>\n",
       "      <td>4975592</td>\n",
       "      <td>4457778</td>\n",
       "      <td>1.234829e+09</td>\n",
       "      <td>NaN</td>\n",
       "      <td>NaN</td>\n",
       "      <td>NaN</td>\n",
       "      <td>unknown</td>\n",
       "      <td>1.0</td>\n",
       "    </tr>\n",
       "    <tr>\n",
       "      <th>12</th>\n",
       "      <td>AZ</td>\n",
       "      <td>4975592</td>\n",
       "      <td>1551960</td>\n",
       "      <td>1.235002e+09</td>\n",
       "      <td>NaN</td>\n",
       "      <td>NaN</td>\n",
       "      <td>NaN</td>\n",
       "      <td>male</td>\n",
       "      <td>0.0</td>\n",
       "    </tr>\n",
       "    <tr>\n",
       "      <th>13</th>\n",
       "      <td>AZ</td>\n",
       "      <td>4975592</td>\n",
       "      <td>2835913</td>\n",
       "      <td>1.238026e+09</td>\n",
       "      <td>NaN</td>\n",
       "      <td>NaN</td>\n",
       "      <td>NaN</td>\n",
       "      <td>unknown</td>\n",
       "      <td>0.0</td>\n",
       "    </tr>\n",
       "    <tr>\n",
       "      <th>14</th>\n",
       "      <td>AZ</td>\n",
       "      <td>4975592</td>\n",
       "      <td>8845927</td>\n",
       "      <td>1.238544e+09</td>\n",
       "      <td>NaN</td>\n",
       "      <td>NaN</td>\n",
       "      <td>NaN</td>\n",
       "      <td>unknown</td>\n",
       "      <td>1.0</td>\n",
       "    </tr>\n",
       "  </tbody>\n",
       "</table>\n",
       "</div>"
      ],
      "text/plain": [
       "   Set     user      item     timestamp  nactions  first_time  last_time  \\\n",
       "0   AZ  4975592    462114  1.233101e+09       NaN         NaN        NaN   \n",
       "1   AZ  4975592   1662785  1.233101e+09       NaN         NaN        NaN   \n",
       "2   AZ  4975592   7287509  1.233101e+09       NaN         NaN        NaN   \n",
       "3   AZ  4975592   8866889  1.233101e+09       NaN         NaN        NaN   \n",
       "4   AZ  4975592  10031188  1.233101e+09       NaN         NaN        NaN   \n",
       "5   AZ  4975592     43930  1.233274e+09       NaN         NaN        NaN   \n",
       "6   AZ  4975592  11005013  1.233274e+09       NaN         NaN        NaN   \n",
       "7   AZ  4975592   3649898  1.233619e+09       NaN         NaN        NaN   \n",
       "8   AZ  4975592   8462465  1.233619e+09       NaN         NaN        NaN   \n",
       "9   AZ  4975592   3727790  1.234656e+09       NaN         NaN        NaN   \n",
       "10  AZ  4975592    856425  1.234829e+09       NaN         NaN        NaN   \n",
       "11  AZ  4975592   4457778  1.234829e+09       NaN         NaN        NaN   \n",
       "12  AZ  4975592   1551960  1.235002e+09       NaN         NaN        NaN   \n",
       "13  AZ  4975592   2835913  1.238026e+09       NaN         NaN        NaN   \n",
       "14  AZ  4975592   8845927  1.238544e+09       NaN         NaN        NaN   \n",
       "\n",
       "     gender  dcode  \n",
       "0      male    0.0  \n",
       "1      male    1.0  \n",
       "2      male    1.0  \n",
       "3   unknown    0.0  \n",
       "4      male    0.0  \n",
       "5      male    1.0  \n",
       "6   unknown    1.0  \n",
       "7      male    1.0  \n",
       "8      male    0.0  \n",
       "9      male    0.0  \n",
       "10     male    0.0  \n",
       "11  unknown    1.0  \n",
       "12     male    0.0  \n",
       "13  unknown    0.0  \n",
       "14  unknown    1.0  "
      ]
     },
     "execution_count": 9,
     "metadata": {},
     "output_type": "execute_result"
    }
   ],
   "source": [
    "user_ratings = user_ratings.join(book_gender, on='item', how='left')\n",
    "user_ratings['gender'].fillna('unlinked', inplace=True)\n",
    "user_ratings = user_ratings.join(book_hash['dcode'], on='item', how='left')\n",
    "user_ratings.head(15)"
   ]
  },
  {
   "cell_type": "markdown",
   "metadata": {
    "papermill": {
     "duration": 0.060949,
     "end_time": "2020-05-08T03:35:16.238148",
     "exception": false,
     "start_time": "2020-05-08T03:35:16.177199",
     "status": "completed"
    },
    "tags": []
   },
   "source": [
    "Now we will summarize user profiles:"
   ]
  },
  {
   "cell_type": "code",
   "execution_count": 10,
   "metadata": {
    "papermill": {
     "duration": 0.089575,
     "end_time": "2020-05-08T03:35:16.389783",
     "exception": false,
     "start_time": "2020-05-08T03:35:16.300208",
     "status": "completed"
    },
    "tags": []
   },
   "outputs": [],
   "source": [
    "def summarize_profile(df):\n",
    "    gender = df['gender']\n",
    "    dc = df['dcode']\n",
    "    data = {\n",
    "        'count': len(df),\n",
    "        'linked': np.sum(gender != 'unlinked'),\n",
    "        'ambiguous': np.sum(gender == 'ambiguous'),\n",
    "        'male': np.sum(gender == 'male'),\n",
    "        'female': np.sum(gender == 'female'),\n",
    "        'dcknown': dc.count(),\n",
    "        'dcyes': dc.sum(skipna=True),\n",
    "        'PropDC': dc.mean()\n",
    "    }\n",
    "    data['Known'] = data['male'] + data['female']\n",
    "    data['PropFemale'] = data['female'] / data['Known']\n",
    "    data['PropKnown'] = data['Known'] / data['count']\n",
    "    return pd.Series(data)"
   ]
  },
  {
   "cell_type": "code",
   "execution_count": 11,
   "metadata": {
    "papermill": {
     "duration": 79.232407,
     "end_time": "2020-05-08T03:36:35.684635",
     "exception": false,
     "start_time": "2020-05-08T03:35:16.452228",
     "status": "completed"
    },
    "tags": []
   },
   "outputs": [
    {
     "data": {
      "text/html": [
       "<div>\n",
       "<style scoped>\n",
       "    .dataframe tbody tr th:only-of-type {\n",
       "        vertical-align: middle;\n",
       "    }\n",
       "\n",
       "    .dataframe tbody tr th {\n",
       "        vertical-align: top;\n",
       "    }\n",
       "\n",
       "    .dataframe thead th {\n",
       "        text-align: right;\n",
       "    }\n",
       "</style>\n",
       "<table border=\"1\" class=\"dataframe\">\n",
       "  <thead>\n",
       "    <tr style=\"text-align: right;\">\n",
       "      <th></th>\n",
       "      <th></th>\n",
       "      <th>count</th>\n",
       "      <th>linked</th>\n",
       "      <th>ambiguous</th>\n",
       "      <th>male</th>\n",
       "      <th>female</th>\n",
       "      <th>dcknown</th>\n",
       "      <th>dcyes</th>\n",
       "      <th>PropDC</th>\n",
       "      <th>Known</th>\n",
       "      <th>PropFemale</th>\n",
       "      <th>PropKnown</th>\n",
       "    </tr>\n",
       "    <tr>\n",
       "      <th>Set</th>\n",
       "      <th>user</th>\n",
       "      <th></th>\n",
       "      <th></th>\n",
       "      <th></th>\n",
       "      <th></th>\n",
       "      <th></th>\n",
       "      <th></th>\n",
       "      <th></th>\n",
       "      <th></th>\n",
       "      <th></th>\n",
       "      <th></th>\n",
       "      <th></th>\n",
       "    </tr>\n",
       "  </thead>\n",
       "  <tbody>\n",
       "    <tr>\n",
       "      <th rowspan=\"5\" valign=\"top\">AZ</th>\n",
       "      <th>529</th>\n",
       "      <td>8</td>\n",
       "      <td>8</td>\n",
       "      <td>2</td>\n",
       "      <td>1</td>\n",
       "      <td>4</td>\n",
       "      <td>8</td>\n",
       "      <td>3</td>\n",
       "      <td>0.375000</td>\n",
       "      <td>5</td>\n",
       "      <td>0.800000</td>\n",
       "      <td>0.625000</td>\n",
       "    </tr>\n",
       "    <tr>\n",
       "      <th>1723</th>\n",
       "      <td>25</td>\n",
       "      <td>24</td>\n",
       "      <td>3</td>\n",
       "      <td>15</td>\n",
       "      <td>6</td>\n",
       "      <td>25</td>\n",
       "      <td>14</td>\n",
       "      <td>0.560000</td>\n",
       "      <td>21</td>\n",
       "      <td>0.285714</td>\n",
       "      <td>0.840000</td>\n",
       "    </tr>\n",
       "    <tr>\n",
       "      <th>1810</th>\n",
       "      <td>14</td>\n",
       "      <td>6</td>\n",
       "      <td>0</td>\n",
       "      <td>6</td>\n",
       "      <td>0</td>\n",
       "      <td>8</td>\n",
       "      <td>1</td>\n",
       "      <td>0.125000</td>\n",
       "      <td>6</td>\n",
       "      <td>0.000000</td>\n",
       "      <td>0.428571</td>\n",
       "    </tr>\n",
       "    <tr>\n",
       "      <th>2781</th>\n",
       "      <td>8</td>\n",
       "      <td>8</td>\n",
       "      <td>1</td>\n",
       "      <td>5</td>\n",
       "      <td>1</td>\n",
       "      <td>8</td>\n",
       "      <td>5</td>\n",
       "      <td>0.625000</td>\n",
       "      <td>6</td>\n",
       "      <td>0.166667</td>\n",
       "      <td>0.750000</td>\n",
       "    </tr>\n",
       "    <tr>\n",
       "      <th>2863</th>\n",
       "      <td>6</td>\n",
       "      <td>6</td>\n",
       "      <td>0</td>\n",
       "      <td>6</td>\n",
       "      <td>0</td>\n",
       "      <td>6</td>\n",
       "      <td>4</td>\n",
       "      <td>0.666667</td>\n",
       "      <td>6</td>\n",
       "      <td>0.000000</td>\n",
       "      <td>1.000000</td>\n",
       "    </tr>\n",
       "  </tbody>\n",
       "</table>\n",
       "</div>"
      ],
      "text/plain": [
       "          count  linked  ambiguous  male  female  dcknown  dcyes    PropDC  \\\n",
       "Set user                                                                     \n",
       "AZ  529       8       8          2     1       4        8      3  0.375000   \n",
       "    1723     25      24          3    15       6       25     14  0.560000   \n",
       "    1810     14       6          0     6       0        8      1  0.125000   \n",
       "    2781      8       8          1     5       1        8      5  0.625000   \n",
       "    2863      6       6          0     6       0        6      4  0.666667   \n",
       "\n",
       "          Known  PropFemale  PropKnown  \n",
       "Set user                                \n",
       "AZ  529       5    0.800000   0.625000  \n",
       "    1723     21    0.285714   0.840000  \n",
       "    1810      6    0.000000   0.428571  \n",
       "    2781      6    0.166667   0.750000  \n",
       "    2863      6    0.000000   1.000000  "
      ]
     },
     "execution_count": 11,
     "metadata": {},
     "output_type": "execute_result"
    }
   ],
   "source": [
    "profiles = user_ratings.groupby(['Set', 'user']).apply(summarize_profile)\n",
    "profiles = profiles.apply(lambda s: s if s.name.startswith('Prop') else s.astype('i4'))\n",
    "profiles.head()"
   ]
  },
  {
   "cell_type": "markdown",
   "metadata": {
    "papermill": {
     "duration": 0.061786,
     "end_time": "2020-05-08T03:36:35.809283",
     "exception": false,
     "start_time": "2020-05-08T03:36:35.747497",
     "status": "completed"
    },
    "tags": []
   },
   "source": [
    "How are profile sizes distributed?"
   ]
  },
  {
   "cell_type": "code",
   "execution_count": 12,
   "metadata": {
    "papermill": {
     "duration": 2.877552,
     "end_time": "2020-05-08T03:36:38.750065",
     "exception": false,
     "start_time": "2020-05-08T03:36:35.872513",
     "status": "completed"
    },
    "tags": []
   },
   "outputs": [
    {
     "data": {
      "image/png": "[encoded data removed]",
      "text/plain": [
       "<Figure size 720x144 with 5 Axes>"
      ]
     },
     "metadata": {
      "needs_background": "light"
     },
     "output_type": "display_data"
    }
   ],
   "source": [
    "g = sns.FacetGrid(profiles.reset_index(), col='Set', sharex=False, sharey=False, height=2)\n",
    "g.map(sns.distplot, 'count')\n",
    "plt.savefig(fig_dir / 'profile-size-all.pdf')"
   ]
  },
  {
   "cell_type": "code",
   "execution_count": 13,
   "metadata": {
    "papermill": {
     "duration": 2.759299,
     "end_time": "2020-05-08T03:36:41.571838",
     "exception": false,
     "start_time": "2020-05-08T03:36:38.812539",
     "status": "completed"
    },
    "tags": []
   },
   "outputs": [
    {
     "data": {
      "image/png": "[encoded data removed]",
      "text/plain": [
       "<Figure size 720x144 with 5 Axes>"
      ]
     },
     "metadata": {
      "needs_background": "light"
     },
     "output_type": "display_data"
    }
   ],
   "source": [
    "g = sns.FacetGrid(profiles.reset_index(), col='Set', sharex=False, sharey=False, height=2)\n",
    "g.map(sns.distplot, 'Known')\n",
    "plt.savefig(fig_dir / 'profile-size-known.pdf')"
   ]
  },
  {
   "cell_type": "markdown",
   "metadata": {
    "papermill": {
     "duration": 0.065854,
     "end_time": "2020-05-08T03:36:41.701767",
     "exception": false,
     "start_time": "2020-05-08T03:36:41.635913",
     "status": "completed"
    },
    "tags": []
   },
   "source": [
    "For the paper, we want to make some changes - we're going to show this on a scatter plot."
   ]
  },
  {
   "cell_type": "code",
   "execution_count": 14,
   "metadata": {
    "papermill": {
     "duration": 0.143,
     "end_time": "2020-05-08T03:36:41.907513",
     "exception": false,
     "start_time": "2020-05-08T03:36:41.764513",
     "status": "completed"
    },
    "tags": []
   },
   "outputs": [
    {
     "data": {
      "text/html": [
       "<div>\n",
       "<style scoped>\n",
       "    .dataframe tbody tr th:only-of-type {\n",
       "        vertical-align: middle;\n",
       "    }\n",
       "\n",
       "    .dataframe tbody tr th {\n",
       "        vertical-align: top;\n",
       "    }\n",
       "\n",
       "    .dataframe thead th {\n",
       "        text-align: right;\n",
       "    }\n",
       "</style>\n",
       "<table border=\"1\" class=\"dataframe\">\n",
       "  <thead>\n",
       "    <tr style=\"text-align: right;\">\n",
       "      <th></th>\n",
       "      <th>Set</th>\n",
       "      <th>user</th>\n",
       "      <th>Type</th>\n",
       "      <th>Size</th>\n",
       "    </tr>\n",
       "  </thead>\n",
       "  <tbody>\n",
       "    <tr>\n",
       "      <th>0</th>\n",
       "      <td>AZ</td>\n",
       "      <td>529</td>\n",
       "      <td>All</td>\n",
       "      <td>8</td>\n",
       "    </tr>\n",
       "    <tr>\n",
       "      <th>1</th>\n",
       "      <td>AZ</td>\n",
       "      <td>1723</td>\n",
       "      <td>All</td>\n",
       "      <td>25</td>\n",
       "    </tr>\n",
       "    <tr>\n",
       "      <th>2</th>\n",
       "      <td>AZ</td>\n",
       "      <td>1810</td>\n",
       "      <td>All</td>\n",
       "      <td>14</td>\n",
       "    </tr>\n",
       "    <tr>\n",
       "      <th>3</th>\n",
       "      <td>AZ</td>\n",
       "      <td>2781</td>\n",
       "      <td>All</td>\n",
       "      <td>8</td>\n",
       "    </tr>\n",
       "    <tr>\n",
       "      <th>4</th>\n",
       "      <td>AZ</td>\n",
       "      <td>2863</td>\n",
       "      <td>All</td>\n",
       "      <td>6</td>\n",
       "    </tr>\n",
       "  </tbody>\n",
       "</table>\n",
       "</div>"
      ],
      "text/plain": [
       "  Set  user Type  Size\n",
       "0  AZ   529  All     8\n",
       "1  AZ  1723  All    25\n",
       "2  AZ  1810  All    14\n",
       "3  AZ  2781  All     8\n",
       "4  AZ  2863  All     6"
      ]
     },
     "execution_count": 14,
     "metadata": {},
     "output_type": "execute_result"
    }
   ],
   "source": [
    "up_sizes = profiles[['count', 'Known']].reset_index().melt(id_vars=['Set', 'user'], var_name='Type', value_name='Size')\n",
    "up_sizes['Type'] = up_sizes['Type'].astype('category').cat.rename_categories({\n",
    "    'count': 'All',\n",
    "    'Known': 'Known-Gender'\n",
    "})\n",
    "up_sizes.head()"
   ]
  },
  {
   "cell_type": "code",
   "execution_count": 15,
   "metadata": {
    "papermill": {
     "duration": 0.207822,
     "end_time": "2020-05-08T03:36:42.154324",
     "exception": false,
     "start_time": "2020-05-08T03:36:41.946502",
     "status": "completed"
    },
    "tags": []
   },
   "outputs": [
    {
     "data": {
      "text/html": [
       "<div>\n",
       "<style scoped>\n",
       "    .dataframe tbody tr th:only-of-type {\n",
       "        vertical-align: middle;\n",
       "    }\n",
       "\n",
       "    .dataframe tbody tr th {\n",
       "        vertical-align: top;\n",
       "    }\n",
       "\n",
       "    .dataframe thead th {\n",
       "        text-align: right;\n",
       "    }\n",
       "</style>\n",
       "<table border=\"1\" class=\"dataframe\">\n",
       "  <thead>\n",
       "    <tr style=\"text-align: right;\">\n",
       "      <th></th>\n",
       "      <th>Set</th>\n",
       "      <th>Type</th>\n",
       "      <th>Size</th>\n",
       "      <th>Users</th>\n",
       "    </tr>\n",
       "  </thead>\n",
       "  <tbody>\n",
       "    <tr>\n",
       "      <th>0</th>\n",
       "      <td>AZ</td>\n",
       "      <td>Known-Gender</td>\n",
       "      <td>5</td>\n",
       "      <td>1300</td>\n",
       "    </tr>\n",
       "    <tr>\n",
       "      <th>1</th>\n",
       "      <td>AZ</td>\n",
       "      <td>Known-Gender</td>\n",
       "      <td>6</td>\n",
       "      <td>829</td>\n",
       "    </tr>\n",
       "    <tr>\n",
       "      <th>2</th>\n",
       "      <td>AZ</td>\n",
       "      <td>Known-Gender</td>\n",
       "      <td>7</td>\n",
       "      <td>572</td>\n",
       "    </tr>\n",
       "    <tr>\n",
       "      <th>3</th>\n",
       "      <td>AZ</td>\n",
       "      <td>Known-Gender</td>\n",
       "      <td>8</td>\n",
       "      <td>416</td>\n",
       "    </tr>\n",
       "    <tr>\n",
       "      <th>4</th>\n",
       "      <td>AZ</td>\n",
       "      <td>Known-Gender</td>\n",
       "      <td>9</td>\n",
       "      <td>284</td>\n",
       "    </tr>\n",
       "  </tbody>\n",
       "</table>\n",
       "</div>"
      ],
      "text/plain": [
       "  Set          Type  Size  Users\n",
       "0  AZ  Known-Gender     5   1300\n",
       "1  AZ  Known-Gender     6    829\n",
       "2  AZ  Known-Gender     7    572\n",
       "3  AZ  Known-Gender     8    416\n",
       "4  AZ  Known-Gender     9    284"
      ]
     },
     "execution_count": 15,
     "metadata": {},
     "output_type": "execute_result"
    }
   ],
   "source": [
    "size_counts = up_sizes.groupby(['Set', 'Type', 'Size'])['user'].count().reset_index(name='Users')\n",
    "size_counts = size_counts[size_counts['Users'] > 0]\n",
    "size_counts.head()"
   ]
  },
  {
   "cell_type": "code",
   "execution_count": 16,
   "metadata": {
    "papermill": {
     "duration": 0.099594,
     "end_time": "2020-05-08T03:36:42.324672",
     "exception": false,
     "start_time": "2020-05-08T03:36:42.225078",
     "status": "completed"
    },
    "tags": []
   },
   "outputs": [
    {
     "data": {
      "text/plain": [
       "count    4202.000000\n",
       "mean       11.899096\n",
       "std        46.498697\n",
       "min         1.000000\n",
       "25%         1.000000\n",
       "50%         2.000000\n",
       "75%         7.000000\n",
       "max      1300.000000\n",
       "Name: Users, dtype: float64"
      ]
     },
     "execution_count": 16,
     "metadata": {},
     "output_type": "execute_result"
    }
   ],
   "source": [
    "size_counts['Users'].describe()"
   ]
  },
  {
   "cell_type": "code",
   "execution_count": 17,
   "metadata": {
    "papermill": {
     "duration": 17.040578,
     "end_time": "2020-05-08T03:36:59.435841",
     "exception": false,
     "start_time": "2020-05-08T03:36:42.395263",
     "status": "completed"
    },
    "tags": []
   },
   "outputs": [
    {
     "name": "stderr",
     "output_type": "stream",
     "text": [
      "/home/MICHAELEKSTRAND/anaconda3/envs/bookfair/lib/python3.7/site-packages/plotnine/ggplot.py:729: PlotnineWarning: Saving 7 x 3.2 in image.\n",
      "  from_inches(height, units), units), PlotnineWarning)\n",
      "/home/MICHAELEKSTRAND/anaconda3/envs/bookfair/lib/python3.7/site-packages/plotnine/ggplot.py:730: PlotnineWarning: Filename: figures/ProfileData/profile-size.pdf\n",
      "  warn('Filename: {}'.format(filename), PlotnineWarning)\n"
     ]
    },
    {
     "data": {
      "image/png": "[encoded data removed]",
      "text/plain": [
       "<Figure size 640x480 with 10 Axes>"
      ]
     },
     "metadata": {
      "needs_background": "light"
     },
     "output_type": "display_data"
    },
    {
     "data": {
      "text/plain": [
       "<ggplot: (8782675280353)>"
      ]
     },
     "execution_count": 17,
     "metadata": {},
     "output_type": "execute_result"
    }
   ],
   "source": [
    "make_plot(size_counts, aes(x='Size', y='Users'),\n",
    "          geom_point(),\n",
    "          scale_x_log10(),\n",
    "          scale_y_log10(),\n",
    "          facet_grid('Type ~ Set', scales='free'),\n",
    "          xlab('# of Consumed Items'),\n",
    "          ylab('# of Users'),\n",
    "          panel_grid=element_blank(),\n",
    "          file='profile-size.pdf', width=7, height=3.2)"
   ]
  },
  {
   "cell_type": "markdown",
   "metadata": {
    "papermill": {
     "duration": 0.073588,
     "end_time": "2020-05-08T03:36:59.582513",
     "exception": false,
     "start_time": "2020-05-08T03:36:59.508925",
     "status": "completed"
    },
    "tags": []
   },
   "source": [
    "And % known?"
   ]
  },
  {
   "cell_type": "code",
   "execution_count": 18,
   "metadata": {
    "papermill": {
     "duration": 2.38235,
     "end_time": "2020-05-08T03:37:02.029726",
     "exception": false,
     "start_time": "2020-05-08T03:36:59.647376",
     "status": "completed"
    },
    "tags": []
   },
   "outputs": [
    {
     "data": {
      "text/plain": [
       "<seaborn.axisgrid.FacetGrid at 0x7fce06753bd0>"
      ]
     },
     "execution_count": 18,
     "metadata": {},
     "output_type": "execute_result"
    },
    {
     "data": {
      "image/png": "[encoded data removed]",
      "text/plain": [
       "<Figure size 1080x216 with 5 Axes>"
      ]
     },
     "metadata": {
      "needs_background": "light"
     },
     "output_type": "display_data"
    }
   ],
   "source": [
    "g = sns.FacetGrid(profiles.reset_index(), col='Set')\n",
    "g.map(sns.distplot, 'PropKnown')"
   ]
  },
  {
   "cell_type": "markdown",
   "metadata": {
    "papermill": {
     "duration": 0.078553,
     "end_time": "2020-05-08T03:37:02.187238",
     "exception": false,
     "start_time": "2020-05-08T03:37:02.108685",
     "status": "completed"
    },
    "tags": []
   },
   "source": [
    "## Distribution of Female Authors\n",
    "\n",
    "Quick empirical inspection:"
   ]
  },
  {
   "cell_type": "code",
   "execution_count": 19,
   "metadata": {
    "papermill": {
     "duration": 1.906982,
     "end_time": "2020-05-08T03:37:04.173942",
     "exception": false,
     "start_time": "2020-05-08T03:37:02.266960",
     "status": "completed"
    },
    "tags": []
   },
   "outputs": [
    {
     "data": {
      "text/plain": [
       "<seaborn.axisgrid.FacetGrid at 0x7fce067169d0>"
      ]
     },
     "execution_count": 19,
     "metadata": {},
     "output_type": "execute_result"
    },
    {
     "data": {
      "image/png": "[encoded data removed]",
      "text/plain": [
       "<Figure size 1080x216 with 5 Axes>"
      ]
     },
     "metadata": {
      "needs_background": "light"
     },
     "output_type": "display_data"
    }
   ],
   "source": [
    "g = sns.FacetGrid(profiles.reset_index(), col='Set', sharey=False)\n",
    "g.map(sns.distplot, 'PropFemale')"
   ]
  },
  {
   "cell_type": "code",
   "execution_count": 20,
   "metadata": {
    "papermill": {
     "duration": 0.111915,
     "end_time": "2020-05-08T03:37:04.368749",
     "exception": false,
     "start_time": "2020-05-08T03:37:04.256834",
     "status": "completed"
    },
    "tags": []
   },
   "outputs": [
    {
     "data": {
      "text/plain": [
       "Set\n",
       "AZ      0.414445\n",
       "BX-E    0.418886\n",
       "BX-I    0.407030\n",
       "GR-E    0.446998\n",
       "GR-I    0.450201\n",
       "Name: PropFemale, dtype: float64"
      ]
     },
     "execution_count": 20,
     "metadata": {},
     "output_type": "execute_result"
    }
   ],
   "source": [
    "profiles.groupby('Set')['PropFemale'].mean()"
   ]
  },
  {
   "cell_type": "code",
   "execution_count": 21,
   "metadata": {
    "papermill": {
     "duration": 0.112704,
     "end_time": "2020-05-08T03:37:04.559536",
     "exception": false,
     "start_time": "2020-05-08T03:37:04.446832",
     "status": "completed"
    },
    "tags": []
   },
   "outputs": [
    {
     "data": {
      "text/plain": [
       "Set\n",
       "AZ      0.329436\n",
       "BX-E    0.267354\n",
       "BX-I    0.254304\n",
       "GR-E    0.276480\n",
       "GR-I    0.269127\n",
       "Name: PropFemale, dtype: float64"
      ]
     },
     "execution_count": 21,
     "metadata": {},
     "output_type": "execute_result"
    }
   ],
   "source": [
    "np.sqrt(profiles.groupby('Set')['PropFemale'].var())"
   ]
  },
  {
   "cell_type": "markdown",
   "metadata": {
    "papermill": {
     "duration": 0.085467,
     "end_time": "2020-05-08T03:37:04.731342",
     "exception": false,
     "start_time": "2020-05-08T03:37:04.645875",
     "status": "completed"
    },
    "tags": []
   },
   "source": [
    "## Distribution of Dummy Codes\n",
    "\n",
    "Quick empirical inspection - this should be noise:"
   ]
  },
  {
   "cell_type": "code",
   "execution_count": 22,
   "metadata": {
    "papermill": {
     "duration": 3.167559,
     "end_time": "2020-05-08T03:37:07.984538",
     "exception": false,
     "start_time": "2020-05-08T03:37:04.816979",
     "status": "completed"
    },
    "tags": []
   },
   "outputs": [
    {
     "data": {
      "text/plain": [
       "<seaborn.axisgrid.FacetGrid at 0x7fcdd3aebc10>"
      ]
     },
     "execution_count": 22,
     "metadata": {},
     "output_type": "execute_result"
    },
    {
     "data": {
      "image/png": "[encoded data removed]",
      "text/plain": [
       "<Figure size 216x1080 with 5 Axes>"
      ]
     },
     "metadata": {
      "needs_background": "light"
     },
     "output_type": "display_data"
    }
   ],
   "source": [
    "g = sns.FacetGrid(profiles.reset_index(), row='Set', sharey=False)\n",
    "g.map(sns.distplot, 'PropDC')"
   ]
  },
  {
   "cell_type": "markdown",
   "metadata": {
    "papermill": {
     "duration": 0.089866,
     "end_time": "2020-05-08T03:37:08.161719",
     "exception": false,
     "start_time": "2020-05-08T03:37:08.071853",
     "status": "completed"
    },
    "tags": []
   },
   "source": [
    "## Saving Outputs\n",
    "\n",
    "We save profile data frame to be reloaded in the Bayesian analysis."
   ]
  },
  {
   "cell_type": "code",
   "execution_count": 23,
   "metadata": {
    "papermill": {
     "duration": 0.115371,
     "end_time": "2020-05-08T03:37:08.367180",
     "exception": false,
     "start_time": "2020-05-08T03:37:08.251809",
     "status": "completed"
    },
    "tags": []
   },
   "outputs": [],
   "source": [
    "profiles.to_pickle('data/profile-data.pkl')"
   ]
  },
  {
   "cell_type": "markdown",
   "metadata": {
    "papermill": {
     "duration": 0.089919,
     "end_time": "2020-05-08T03:37:08.548234",
     "exception": false,
     "start_time": "2020-05-08T03:37:08.458315",
     "status": "completed"
    },
    "tags": []
   },
   "source": [
    "We also want to save the data for STAN."
   ]
  },
  {
   "cell_type": "code",
   "execution_count": 24,
   "metadata": {
    "papermill": {
     "duration": 0.10957,
     "end_time": "2020-05-08T03:37:08.754619",
     "exception": false,
     "start_time": "2020-05-08T03:37:08.645049",
     "status": "completed"
    },
    "tags": []
   },
   "outputs": [],
   "source": [
    "def stan_inputs(data, kc, pc):\n",
    "    return {\n",
    "        'J': len(data),\n",
    "        'n': data[kc],\n",
    "        'y': data[pc]\n",
    "    }"
   ]
  },
  {
   "cell_type": "code",
   "execution_count": 25,
   "metadata": {
    "papermill": {
     "duration": 0.105411,
     "end_time": "2020-05-08T03:37:08.950211",
     "exception": false,
     "start_time": "2020-05-08T03:37:08.844800",
     "status": "completed"
    },
    "tags": []
   },
   "outputs": [],
   "source": [
    "def inf_dir(sname):\n",
    "    return data_dir / sname / 'inference'"
   ]
  },
  {
   "cell_type": "code",
   "execution_count": 26,
   "metadata": {
    "papermill": {
     "duration": 0.153444,
     "end_time": "2020-05-08T03:37:09.195378",
     "exception": false,
     "start_time": "2020-05-08T03:37:09.041934",
     "status": "completed"
    },
    "tags": []
   },
   "outputs": [
    {
     "name": "stdout",
     "output_type": "stream",
     "text": [
      "preparing STAN input for AZ\n",
      "preparing STAN input for BX-E\n",
      "preparing STAN input for BX-I\n",
      "preparing STAN input for GR-E\n",
      "preparing STAN input for GR-I\n"
     ]
    }
   ],
   "source": [
    "for sname, frame in profiles.groupby('Set'):\n",
    "    print('preparing STAN input for', sname)\n",
    "    dir = inf_dir(sname)\n",
    "    dir.mkdir(exist_ok=True)\n",
    "    in_fn = dir / 'profile-inputs.json'\n",
    "    in_fn.write_text(ujson.dumps(stan_inputs(frame, 'Known', 'female')))\n",
    "    in_fn = dir / 'profile-dcode-inputs.json'\n",
    "    in_fn.write_text(ujson.dumps(stan_inputs(frame, 'dcknown', 'dcyes')))"
   ]
  }
 ],
 "metadata": {
  "kernelspec": {
   "display_name": "Python 3",
   "language": "python",
   "name": "python3"
  },
  "language_info": {
   "codemirror_mode": {
    "name": "ipython",
    "version": 3
   },
   "file_extension": ".py",
   "mimetype": "text/x-python",
   "name": "python",
   "nbconvert_exporter": "python",
   "pygments_lexer": "ipython3",
   "version": "3.7.6"
  },
  "papermill": {
   "duration": 159.623951,
   "end_time": "2020-05-08T03:37:10.892003",
   "environment_variables": {},
   "exception": null,
   "input_path": "ProfileDataPrep.ipynb",
   "output_path": "ProfileDataPrep.temp.ipynb",
   "parameters": {},
   "start_time": "2020-05-08T03:34:31.268052",
   "version": "1.0.1"
  }
 },
 "nbformat": 4,
 "nbformat_minor": 2
}