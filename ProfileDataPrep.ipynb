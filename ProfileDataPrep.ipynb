{
 "cells": [
  {
   "cell_type": "markdown",
   "metadata": {
    "papermill": {
     "duration": 0.010677,
     "end_time": "2019-09-12T23:08:31.168909",
     "exception": false,
     "start_time": "2019-09-12T23:08:31.158232",
     "status": "completed"
    },
    "tags": []
   },
   "source": [
    "# User Profile Data Prep\n",
    "\n",
    "This notebook does the data preparation for Bayesian inference for the model analysis."
   ]
  },
  {
   "cell_type": "markdown",
   "metadata": {
    "papermill": {
     "duration": 0.009686,
     "end_time": "2019-09-12T23:08:31.188559",
     "exception": false,
     "start_time": "2019-09-12T23:08:31.178873",
     "status": "completed"
    },
    "tags": []
   },
   "source": [
    "## Setup"
   ]
  },
  {
   "cell_type": "code",
   "execution_count": 1,
   "metadata": {
    "papermill": {
     "duration": 4.571809,
     "end_time": "2019-09-12T23:08:35.769967",
     "exception": false,
     "start_time": "2019-09-12T23:08:31.198158",
     "status": "completed"
    },
    "tags": []
   },
   "outputs": [],
   "source": [
    "import pandas as pd\n",
    "import numpy as np\n",
    "import seaborn as sns\n",
    "import matplotlib.pyplot as plt\n",
    "import pystan"
   ]
  },
  {
   "cell_type": "code",
   "execution_count": 2,
   "metadata": {
    "papermill": {
     "duration": 0.015285,
     "end_time": "2019-09-12T23:08:35.795040",
     "exception": false,
     "start_time": "2019-09-12T23:08:35.779755",
     "status": "completed"
    },
    "tags": [
     "parameters"
    ]
   },
   "outputs": [],
   "source": [
    "variable = 'gender'"
   ]
  },
  {
   "cell_type": "markdown",
   "metadata": {
    "papermill": {
     "duration": 0.009712,
     "end_time": "2019-09-12T23:08:35.814657",
     "exception": false,
     "start_time": "2019-09-12T23:08:35.804945",
     "status": "completed"
    },
    "tags": []
   },
   "source": [
    "## Load Data\n",
    "\n",
    "We need to load the author-gender information:"
   ]
  },
  {
   "cell_type": "code",
   "execution_count": 3,
   "metadata": {
    "papermill": {
     "duration": 3.887073,
     "end_time": "2019-09-12T23:08:39.711243",
     "exception": false,
     "start_time": "2019-09-12T23:08:35.824170",
     "status": "completed"
    },
    "tags": []
   },
   "outputs": [
    {
     "data": {
      "text/plain": [
       "count     10735373\n",
       "unique           6\n",
       "top           male\n",
       "freq       3245842\n",
       "Name: gender, dtype: object"
      ]
     },
     "execution_count": 3,
     "metadata": {},
     "output_type": "execute_result"
    }
   ],
   "source": [
    "book_gender = pd.read_csv('data/author-gender.csv.gz')\n",
    "book_gender = book_gender.set_index('item')['gender']\n",
    "book_gender.describe()"
   ]
  },
  {
   "cell_type": "code",
   "execution_count": 4,
   "metadata": {
    "papermill": {
     "duration": 2.284747,
     "end_time": "2019-09-12T23:08:42.005636",
     "exception": false,
     "start_time": "2019-09-12T23:08:39.720889",
     "status": "completed"
    },
    "tags": []
   },
   "outputs": [
    {
     "data": {
      "text/plain": [
       "[unknown, unlinked, female, male, ambiguous]\n",
       "Categories (5, object): [unknown, unlinked, female, male, ambiguous]"
      ]
     },
     "execution_count": 4,
     "metadata": {},
     "output_type": "execute_result"
    }
   ],
   "source": [
    "book_gender[book_gender == 'no-viaf-author'] = 'unlinked'\n",
    "book_gender[book_gender == 'no-loc-author'] = 'unlinked'\n",
    "book_gender[book_gender == 'no-loc-book'] = 'unlinked'\n",
    "book_gender = book_gender.astype('category')\n",
    "book_gender.unique()"
   ]
  },
  {
   "cell_type": "markdown",
   "metadata": {
    "papermill": {
     "duration": 0.009927,
     "end_time": "2019-09-12T23:08:42.026003",
     "exception": false,
     "start_time": "2019-09-12T23:08:42.016076",
     "status": "completed"
    },
    "tags": []
   },
   "source": [
    "And we load book hashes, to set up our dummy bias:"
   ]
  },
  {
   "cell_type": "code",
   "execution_count": 5,
   "metadata": {
    "papermill": {
     "duration": 9.00505,
     "end_time": "2019-09-12T23:08:51.041458",
     "exception": false,
     "start_time": "2019-09-12T23:08:42.036408",
     "status": "completed"
    },
    "tags": []
   },
   "outputs": [
    {
     "name": "stderr",
     "output_type": "stream",
     "text": [
      "/home/mekstrand/miniconda2/envs/bookfair/lib/python3.7/site-packages/pyarrow/pandas_compat.py:708: FutureWarning: .labels was deprecated in version 0.24.0. Use .codes instead.\n",
      "  labels = getattr(columns, 'labels', None) or [\n",
      "/home/mekstrand/miniconda2/envs/bookfair/lib/python3.7/site-packages/pyarrow/pandas_compat.py:735: FutureWarning: the 'labels' keyword is deprecated, use 'codes' instead\n",
      "  return pd.MultiIndex(levels=new_levels, labels=labels, names=columns.names)\n",
      "/home/mekstrand/miniconda2/envs/bookfair/lib/python3.7/site-packages/pyarrow/pandas_compat.py:752: FutureWarning: .labels was deprecated in version 0.24.0. Use .codes instead.\n",
      "  labels, = index.labels\n"
     ]
    },
    {
     "data": {
      "text/html": [
       "<div>\n",
       "<style scoped>\n",
       "    .dataframe tbody tr th:only-of-type {\n",
       "        vertical-align: middle;\n",
       "    }\n",
       "\n",
       "    .dataframe tbody tr th {\n",
       "        vertical-align: top;\n",
       "    }\n",
       "\n",
       "    .dataframe thead th {\n",
       "        text-align: right;\n",
       "    }\n",
       "</style>\n",
       "<table border=\"1\" class=\"dataframe\">\n",
       "  <thead>\n",
       "    <tr style=\"text-align: right;\">\n",
       "      <th></th>\n",
       "      <th>nisbns</th>\n",
       "      <th>md5</th>\n",
       "      <th>dcode</th>\n",
       "    </tr>\n",
       "    <tr>\n",
       "      <th>item</th>\n",
       "      <th></th>\n",
       "      <th></th>\n",
       "      <th></th>\n",
       "    </tr>\n",
       "  </thead>\n",
       "  <tbody>\n",
       "    <tr>\n",
       "      <th>100000001</th>\n",
       "      <td>2</td>\n",
       "      <td>b6797168fc729b01cac4ea70ffeeb66b</td>\n",
       "      <td>1</td>\n",
       "    </tr>\n",
       "    <tr>\n",
       "      <th>100000002</th>\n",
       "      <td>2</td>\n",
       "      <td>a4085a8051976573c2b51d5f87d2f1d3</td>\n",
       "      <td>1</td>\n",
       "    </tr>\n",
       "    <tr>\n",
       "      <th>100000003</th>\n",
       "      <td>2</td>\n",
       "      <td>829f0158d2f4328e5d034ef88282f8bc</td>\n",
       "      <td>0</td>\n",
       "    </tr>\n",
       "    <tr>\n",
       "      <th>100000004</th>\n",
       "      <td>5</td>\n",
       "      <td>699786577b6425c7d565d1394f794a70</td>\n",
       "      <td>0</td>\n",
       "    </tr>\n",
       "    <tr>\n",
       "      <th>100000005</th>\n",
       "      <td>2</td>\n",
       "      <td>d0e89179cb36957e032c7884b3df4fd9</td>\n",
       "      <td>1</td>\n",
       "    </tr>\n",
       "  </tbody>\n",
       "</table>\n",
       "</div>"
      ],
      "text/plain": [
       "           nisbns                               md5  dcode\n",
       "item                                                      \n",
       "100000001       2  b6797168fc729b01cac4ea70ffeeb66b      1\n",
       "100000002       2  a4085a8051976573c2b51d5f87d2f1d3      1\n",
       "100000003       2  829f0158d2f4328e5d034ef88282f8bc      0\n",
       "100000004       5  699786577b6425c7d565d1394f794a70      0\n",
       "100000005       2  d0e89179cb36957e032c7884b3df4fd9      1"
      ]
     },
     "execution_count": 5,
     "metadata": {},
     "output_type": "execute_result"
    }
   ],
   "source": [
    "book_hash = pd.read_parquet('data/book-hash.parquet').rename(columns={'cluster': 'item'})\n",
    "book_hash['dcode'] = book_hash['md5'].apply(lambda x: int(x[-1], 16) % 2)\n",
    "book_hash = book_hash.set_index('item')\n",
    "book_hash.head()"
   ]
  },
  {
   "cell_type": "markdown",
   "metadata": {
    "papermill": {
     "duration": 0.010594,
     "end_time": "2019-09-12T23:08:51.063510",
     "exception": false,
     "start_time": "2019-09-12T23:08:51.052916",
     "status": "completed"
    },
    "tags": []
   },
   "source": [
    "Load the sample user ratings for each data set:"
   ]
  },
  {
   "cell_type": "code",
   "execution_count": 6,
   "metadata": {
    "papermill": {
     "duration": 0.283994,
     "end_time": "2019-09-12T23:08:51.357996",
     "exception": false,
     "start_time": "2019-09-12T23:08:51.074002",
     "status": "completed"
    },
    "tags": []
   },
   "outputs": [
    {
     "data": {
      "text/html": [
       "<div>\n",
       "<style scoped>\n",
       "    .dataframe tbody tr th:only-of-type {\n",
       "        vertical-align: middle;\n",
       "    }\n",
       "\n",
       "    .dataframe tbody tr th {\n",
       "        vertical-align: top;\n",
       "    }\n",
       "\n",
       "    .dataframe thead th {\n",
       "        text-align: right;\n",
       "    }\n",
       "</style>\n",
       "<table border=\"1\" class=\"dataframe\">\n",
       "  <thead>\n",
       "    <tr style=\"text-align: right;\">\n",
       "      <th></th>\n",
       "      <th>Set</th>\n",
       "      <th>user</th>\n",
       "      <th>item</th>\n",
       "      <th>first_time</th>\n",
       "      <th>last_time</th>\n",
       "      <th>nactions</th>\n",
       "      <th>timestamp</th>\n",
       "    </tr>\n",
       "  </thead>\n",
       "  <tbody>\n",
       "    <tr>\n",
       "      <th>0</th>\n",
       "      <td>AZ</td>\n",
       "      <td>5670400</td>\n",
       "      <td>101873593</td>\n",
       "      <td>NaN</td>\n",
       "      <td>NaN</td>\n",
       "      <td>NaN</td>\n",
       "      <td>1.369526e+09</td>\n",
       "    </tr>\n",
       "    <tr>\n",
       "      <th>1</th>\n",
       "      <td>AZ</td>\n",
       "      <td>5670400</td>\n",
       "      <td>102121678</td>\n",
       "      <td>NaN</td>\n",
       "      <td>NaN</td>\n",
       "      <td>NaN</td>\n",
       "      <td>1.380413e+09</td>\n",
       "    </tr>\n",
       "    <tr>\n",
       "      <th>2</th>\n",
       "      <td>AZ</td>\n",
       "      <td>5670400</td>\n",
       "      <td>102779907</td>\n",
       "      <td>NaN</td>\n",
       "      <td>NaN</td>\n",
       "      <td>NaN</td>\n",
       "      <td>1.339632e+09</td>\n",
       "    </tr>\n",
       "    <tr>\n",
       "      <th>3</th>\n",
       "      <td>AZ</td>\n",
       "      <td>5670400</td>\n",
       "      <td>102906342</td>\n",
       "      <td>NaN</td>\n",
       "      <td>NaN</td>\n",
       "      <td>NaN</td>\n",
       "      <td>1.353629e+09</td>\n",
       "    </tr>\n",
       "    <tr>\n",
       "      <th>4</th>\n",
       "      <td>AZ</td>\n",
       "      <td>5670400</td>\n",
       "      <td>103238152</td>\n",
       "      <td>NaN</td>\n",
       "      <td>NaN</td>\n",
       "      <td>NaN</td>\n",
       "      <td>1.371341e+09</td>\n",
       "    </tr>\n",
       "  </tbody>\n",
       "</table>\n",
       "</div>"
      ],
      "text/plain": [
       "  Set     user       item  first_time  last_time  nactions     timestamp\n",
       "0  AZ  5670400  101873593         NaN        NaN       NaN  1.369526e+09\n",
       "1  AZ  5670400  102121678         NaN        NaN       NaN  1.380413e+09\n",
       "2  AZ  5670400  102779907         NaN        NaN       NaN  1.339632e+09\n",
       "3  AZ  5670400  102906342         NaN        NaN       NaN  1.353629e+09\n",
       "4  AZ  5670400  103238152         NaN        NaN       NaN  1.371341e+09"
      ]
     },
     "execution_count": 6,
     "metadata": {},
     "output_type": "execute_result"
    }
   ],
   "source": [
    "user_ratings = pd.read_csv('data/study-ratings.csv')\n",
    "user_ratings.drop(columns=['rating'], inplace=True)\n",
    "user_ratings.rename(columns={'dataset': 'Set'}, inplace=True)\n",
    "user_ratings.head()"
   ]
  },
  {
   "cell_type": "code",
   "execution_count": 7,
   "metadata": {
    "papermill": {
     "duration": 2.939208,
     "end_time": "2019-09-12T23:08:54.308390",
     "exception": false,
     "start_time": "2019-09-12T23:08:51.369182",
     "status": "completed"
    },
    "tags": []
   },
   "outputs": [
    {
     "data": {
      "text/html": [
       "<div>\n",
       "<style scoped>\n",
       "    .dataframe tbody tr th:only-of-type {\n",
       "        vertical-align: middle;\n",
       "    }\n",
       "\n",
       "    .dataframe tbody tr th {\n",
       "        vertical-align: top;\n",
       "    }\n",
       "\n",
       "    .dataframe thead th {\n",
       "        text-align: right;\n",
       "    }\n",
       "</style>\n",
       "<table border=\"1\" class=\"dataframe\">\n",
       "  <thead>\n",
       "    <tr style=\"text-align: right;\">\n",
       "      <th></th>\n",
       "      <th>Set</th>\n",
       "      <th>user</th>\n",
       "      <th>item</th>\n",
       "      <th>first_time</th>\n",
       "      <th>last_time</th>\n",
       "      <th>nactions</th>\n",
       "      <th>timestamp</th>\n",
       "      <th>gender</th>\n",
       "      <th>dcode</th>\n",
       "    </tr>\n",
       "  </thead>\n",
       "  <tbody>\n",
       "    <tr>\n",
       "      <th>0</th>\n",
       "      <td>AZ</td>\n",
       "      <td>5670400</td>\n",
       "      <td>101873593</td>\n",
       "      <td>NaN</td>\n",
       "      <td>NaN</td>\n",
       "      <td>NaN</td>\n",
       "      <td>1.369526e+09</td>\n",
       "      <td>female</td>\n",
       "      <td>NaN</td>\n",
       "    </tr>\n",
       "    <tr>\n",
       "      <th>1</th>\n",
       "      <td>AZ</td>\n",
       "      <td>5670400</td>\n",
       "      <td>102121678</td>\n",
       "      <td>NaN</td>\n",
       "      <td>NaN</td>\n",
       "      <td>NaN</td>\n",
       "      <td>1.380413e+09</td>\n",
       "      <td>male</td>\n",
       "      <td>NaN</td>\n",
       "    </tr>\n",
       "    <tr>\n",
       "      <th>2</th>\n",
       "      <td>AZ</td>\n",
       "      <td>5670400</td>\n",
       "      <td>102779907</td>\n",
       "      <td>NaN</td>\n",
       "      <td>NaN</td>\n",
       "      <td>NaN</td>\n",
       "      <td>1.339632e+09</td>\n",
       "      <td>female</td>\n",
       "      <td>NaN</td>\n",
       "    </tr>\n",
       "    <tr>\n",
       "      <th>3</th>\n",
       "      <td>AZ</td>\n",
       "      <td>5670400</td>\n",
       "      <td>102906342</td>\n",
       "      <td>NaN</td>\n",
       "      <td>NaN</td>\n",
       "      <td>NaN</td>\n",
       "      <td>1.353629e+09</td>\n",
       "      <td>female</td>\n",
       "      <td>0.0</td>\n",
       "    </tr>\n",
       "    <tr>\n",
       "      <th>4</th>\n",
       "      <td>AZ</td>\n",
       "      <td>5670400</td>\n",
       "      <td>103238152</td>\n",
       "      <td>NaN</td>\n",
       "      <td>NaN</td>\n",
       "      <td>NaN</td>\n",
       "      <td>1.371341e+09</td>\n",
       "      <td>female</td>\n",
       "      <td>NaN</td>\n",
       "    </tr>\n",
       "    <tr>\n",
       "      <th>5</th>\n",
       "      <td>AZ</td>\n",
       "      <td>5670400</td>\n",
       "      <td>105031321</td>\n",
       "      <td>NaN</td>\n",
       "      <td>NaN</td>\n",
       "      <td>NaN</td>\n",
       "      <td>1.371341e+09</td>\n",
       "      <td>male</td>\n",
       "      <td>0.0</td>\n",
       "    </tr>\n",
       "    <tr>\n",
       "      <th>6</th>\n",
       "      <td>AZ</td>\n",
       "      <td>5670400</td>\n",
       "      <td>105469180</td>\n",
       "      <td>NaN</td>\n",
       "      <td>NaN</td>\n",
       "      <td>NaN</td>\n",
       "      <td>1.361664e+09</td>\n",
       "      <td>male</td>\n",
       "      <td>0.0</td>\n",
       "    </tr>\n",
       "    <tr>\n",
       "      <th>7</th>\n",
       "      <td>AZ</td>\n",
       "      <td>5670400</td>\n",
       "      <td>108871645</td>\n",
       "      <td>NaN</td>\n",
       "      <td>NaN</td>\n",
       "      <td>NaN</td>\n",
       "      <td>1.363738e+09</td>\n",
       "      <td>male</td>\n",
       "      <td>1.0</td>\n",
       "    </tr>\n",
       "    <tr>\n",
       "      <th>8</th>\n",
       "      <td>AZ</td>\n",
       "      <td>5670400</td>\n",
       "      <td>111518119</td>\n",
       "      <td>NaN</td>\n",
       "      <td>NaN</td>\n",
       "      <td>NaN</td>\n",
       "      <td>1.371341e+09</td>\n",
       "      <td>ambiguous</td>\n",
       "      <td>0.0</td>\n",
       "    </tr>\n",
       "    <tr>\n",
       "      <th>9</th>\n",
       "      <td>AZ</td>\n",
       "      <td>5670400</td>\n",
       "      <td>111838236</td>\n",
       "      <td>NaN</td>\n",
       "      <td>NaN</td>\n",
       "      <td>NaN</td>\n",
       "      <td>1.361664e+09</td>\n",
       "      <td>unlinked</td>\n",
       "      <td>NaN</td>\n",
       "    </tr>\n",
       "    <tr>\n",
       "      <th>10</th>\n",
       "      <td>AZ</td>\n",
       "      <td>5670400</td>\n",
       "      <td>414182295</td>\n",
       "      <td>NaN</td>\n",
       "      <td>NaN</td>\n",
       "      <td>NaN</td>\n",
       "      <td>1.376525e+09</td>\n",
       "      <td>unlinked</td>\n",
       "      <td>NaN</td>\n",
       "    </tr>\n",
       "    <tr>\n",
       "      <th>11</th>\n",
       "      <td>AZ</td>\n",
       "      <td>5670400</td>\n",
       "      <td>421989125</td>\n",
       "      <td>NaN</td>\n",
       "      <td>NaN</td>\n",
       "      <td>NaN</td>\n",
       "      <td>1.399594e+09</td>\n",
       "      <td>unlinked</td>\n",
       "      <td>NaN</td>\n",
       "    </tr>\n",
       "    <tr>\n",
       "      <th>12</th>\n",
       "      <td>AZ</td>\n",
       "      <td>5670400</td>\n",
       "      <td>423641053</td>\n",
       "      <td>NaN</td>\n",
       "      <td>NaN</td>\n",
       "      <td>NaN</td>\n",
       "      <td>1.361664e+09</td>\n",
       "      <td>unlinked</td>\n",
       "      <td>NaN</td>\n",
       "    </tr>\n",
       "    <tr>\n",
       "      <th>13</th>\n",
       "      <td>AZ</td>\n",
       "      <td>5670400</td>\n",
       "      <td>425976962</td>\n",
       "      <td>NaN</td>\n",
       "      <td>NaN</td>\n",
       "      <td>NaN</td>\n",
       "      <td>1.392163e+09</td>\n",
       "      <td>unlinked</td>\n",
       "      <td>NaN</td>\n",
       "    </tr>\n",
       "    <tr>\n",
       "      <th>14</th>\n",
       "      <td>AZ</td>\n",
       "      <td>5670400</td>\n",
       "      <td>921137395</td>\n",
       "      <td>NaN</td>\n",
       "      <td>NaN</td>\n",
       "      <td>NaN</td>\n",
       "      <td>1.392163e+09</td>\n",
       "      <td>unlinked</td>\n",
       "      <td>NaN</td>\n",
       "    </tr>\n",
       "  </tbody>\n",
       "</table>\n",
       "</div>"
      ],
      "text/plain": [
       "   Set     user       item  first_time  last_time  nactions     timestamp  \\\n",
       "0   AZ  5670400  101873593         NaN        NaN       NaN  1.369526e+09   \n",
       "1   AZ  5670400  102121678         NaN        NaN       NaN  1.380413e+09   \n",
       "2   AZ  5670400  102779907         NaN        NaN       NaN  1.339632e+09   \n",
       "3   AZ  5670400  102906342         NaN        NaN       NaN  1.353629e+09   \n",
       "4   AZ  5670400  103238152         NaN        NaN       NaN  1.371341e+09   \n",
       "5   AZ  5670400  105031321         NaN        NaN       NaN  1.371341e+09   \n",
       "6   AZ  5670400  105469180         NaN        NaN       NaN  1.361664e+09   \n",
       "7   AZ  5670400  108871645         NaN        NaN       NaN  1.363738e+09   \n",
       "8   AZ  5670400  111518119         NaN        NaN       NaN  1.371341e+09   \n",
       "9   AZ  5670400  111838236         NaN        NaN       NaN  1.361664e+09   \n",
       "10  AZ  5670400  414182295         NaN        NaN       NaN  1.376525e+09   \n",
       "11  AZ  5670400  421989125         NaN        NaN       NaN  1.399594e+09   \n",
       "12  AZ  5670400  423641053         NaN        NaN       NaN  1.361664e+09   \n",
       "13  AZ  5670400  425976962         NaN        NaN       NaN  1.392163e+09   \n",
       "14  AZ  5670400  921137395         NaN        NaN       NaN  1.392163e+09   \n",
       "\n",
       "       gender  dcode  \n",
       "0      female    NaN  \n",
       "1        male    NaN  \n",
       "2      female    NaN  \n",
       "3      female    0.0  \n",
       "4      female    NaN  \n",
       "5        male    0.0  \n",
       "6        male    0.0  \n",
       "7        male    1.0  \n",
       "8   ambiguous    0.0  \n",
       "9    unlinked    NaN  \n",
       "10   unlinked    NaN  \n",
       "11   unlinked    NaN  \n",
       "12   unlinked    NaN  \n",
       "13   unlinked    NaN  \n",
       "14   unlinked    NaN  "
      ]
     },
     "execution_count": 7,
     "metadata": {},
     "output_type": "execute_result"
    }
   ],
   "source": [
    "user_ratings = user_ratings.join(book_gender, on='item', how='left')\n",
    "user_ratings['gender'].fillna('unlinked', inplace=True)\n",
    "user_ratings = user_ratings.join(book_hash['dcode'], on='item', how='left')\n",
    "user_ratings.head(15)"
   ]
  },
  {
   "cell_type": "markdown",
   "metadata": {
    "papermill": {
     "duration": 0.011356,
     "end_time": "2019-09-12T23:08:54.331654",
     "exception": false,
     "start_time": "2019-09-12T23:08:54.320298",
     "status": "completed"
    },
    "tags": []
   },
   "source": [
    "Now we will summarize user profiles:"
   ]
  },
  {
   "cell_type": "code",
   "execution_count": 8,
   "metadata": {
    "papermill": {
     "duration": 0.019168,
     "end_time": "2019-09-12T23:08:54.362044",
     "exception": false,
     "start_time": "2019-09-12T23:08:54.342876",
     "status": "completed"
    },
    "tags": []
   },
   "outputs": [],
   "source": [
    "def summarize_profile(df):\n",
    "    gender = df['gender']\n",
    "    dc = df['dcode']\n",
    "    data = {\n",
    "        'count': len(df),\n",
    "        'linked': np.sum(gender != 'unlinked'),\n",
    "        'ambiguous': np.sum(gender == 'ambiguous'),\n",
    "        'male': np.sum(gender == 'male'),\n",
    "        'female': np.sum(gender == 'female'),\n",
    "        'dcknown': dc.count(),\n",
    "        'dcyes': dc.sum(skipna=True),\n",
    "        'PropDC': dc.mean()\n",
    "    }\n",
    "    data['Known'] = data['male'] + data['female']\n",
    "    data['PropFemale'] = data['female'] / data['Known']\n",
    "    data['PropKnown'] = data['Known'] / data['count']\n",
    "    return pd.Series(data)"
   ]
  },
  {
   "cell_type": "code",
   "execution_count": 9,
   "metadata": {
    "papermill": {
     "duration": 7.79679,
     "end_time": "2019-09-12T23:09:02.170622",
     "exception": false,
     "start_time": "2019-09-12T23:08:54.373832",
     "status": "completed"
    },
    "tags": []
   },
   "outputs": [
    {
     "data": {
      "text/html": [
       "<div>\n",
       "<style scoped>\n",
       "    .dataframe tbody tr th:only-of-type {\n",
       "        vertical-align: middle;\n",
       "    }\n",
       "\n",
       "    .dataframe tbody tr th {\n",
       "        vertical-align: top;\n",
       "    }\n",
       "\n",
       "    .dataframe thead th {\n",
       "        text-align: right;\n",
       "    }\n",
       "</style>\n",
       "<table border=\"1\" class=\"dataframe\">\n",
       "  <thead>\n",
       "    <tr style=\"text-align: right;\">\n",
       "      <th></th>\n",
       "      <th></th>\n",
       "      <th>count</th>\n",
       "      <th>linked</th>\n",
       "      <th>ambiguous</th>\n",
       "      <th>male</th>\n",
       "      <th>female</th>\n",
       "      <th>dcknown</th>\n",
       "      <th>dcyes</th>\n",
       "      <th>PropDC</th>\n",
       "      <th>Known</th>\n",
       "      <th>PropFemale</th>\n",
       "      <th>PropKnown</th>\n",
       "    </tr>\n",
       "    <tr>\n",
       "      <th>Set</th>\n",
       "      <th>user</th>\n",
       "      <th></th>\n",
       "      <th></th>\n",
       "      <th></th>\n",
       "      <th></th>\n",
       "      <th></th>\n",
       "      <th></th>\n",
       "      <th></th>\n",
       "      <th></th>\n",
       "      <th></th>\n",
       "      <th></th>\n",
       "      <th></th>\n",
       "    </tr>\n",
       "  </thead>\n",
       "  <tbody>\n",
       "    <tr>\n",
       "      <th rowspan=\"5\" valign=\"top\">AZ</th>\n",
       "      <th>34891</th>\n",
       "      <td>26</td>\n",
       "      <td>6</td>\n",
       "      <td>0</td>\n",
       "      <td>0</td>\n",
       "      <td>5</td>\n",
       "      <td>3</td>\n",
       "      <td>1</td>\n",
       "      <td>0.333333</td>\n",
       "      <td>5</td>\n",
       "      <td>1.000000</td>\n",
       "      <td>0.192308</td>\n",
       "    </tr>\n",
       "    <tr>\n",
       "      <th>35841</th>\n",
       "      <td>7</td>\n",
       "      <td>7</td>\n",
       "      <td>1</td>\n",
       "      <td>0</td>\n",
       "      <td>5</td>\n",
       "      <td>3</td>\n",
       "      <td>3</td>\n",
       "      <td>1.000000</td>\n",
       "      <td>5</td>\n",
       "      <td>1.000000</td>\n",
       "      <td>0.714286</td>\n",
       "    </tr>\n",
       "    <tr>\n",
       "      <th>39018</th>\n",
       "      <td>17</td>\n",
       "      <td>10</td>\n",
       "      <td>1</td>\n",
       "      <td>3</td>\n",
       "      <td>5</td>\n",
       "      <td>7</td>\n",
       "      <td>3</td>\n",
       "      <td>0.428571</td>\n",
       "      <td>8</td>\n",
       "      <td>0.625000</td>\n",
       "      <td>0.470588</td>\n",
       "    </tr>\n",
       "    <tr>\n",
       "      <th>52563</th>\n",
       "      <td>8</td>\n",
       "      <td>8</td>\n",
       "      <td>0</td>\n",
       "      <td>0</td>\n",
       "      <td>8</td>\n",
       "      <td>4</td>\n",
       "      <td>2</td>\n",
       "      <td>0.500000</td>\n",
       "      <td>8</td>\n",
       "      <td>1.000000</td>\n",
       "      <td>1.000000</td>\n",
       "    </tr>\n",
       "    <tr>\n",
       "      <th>60825</th>\n",
       "      <td>45</td>\n",
       "      <td>38</td>\n",
       "      <td>0</td>\n",
       "      <td>31</td>\n",
       "      <td>7</td>\n",
       "      <td>18</td>\n",
       "      <td>11</td>\n",
       "      <td>0.611111</td>\n",
       "      <td>38</td>\n",
       "      <td>0.184211</td>\n",
       "      <td>0.844444</td>\n",
       "    </tr>\n",
       "  </tbody>\n",
       "</table>\n",
       "</div>"
      ],
      "text/plain": [
       "           count  linked  ambiguous  male  female  dcknown  dcyes    PropDC  \\\n",
       "Set user                                                                      \n",
       "AZ  34891     26       6          0     0       5        3      1  0.333333   \n",
       "    35841      7       7          1     0       5        3      3  1.000000   \n",
       "    39018     17      10          1     3       5        7      3  0.428571   \n",
       "    52563      8       8          0     0       8        4      2  0.500000   \n",
       "    60825     45      38          0    31       7       18     11  0.611111   \n",
       "\n",
       "           Known  PropFemale  PropKnown  \n",
       "Set user                                 \n",
       "AZ  34891      5    1.000000   0.192308  \n",
       "    35841      5    1.000000   0.714286  \n",
       "    39018      8    0.625000   0.470588  \n",
       "    52563      8    1.000000   1.000000  \n",
       "    60825     38    0.184211   0.844444  "
      ]
     },
     "execution_count": 9,
     "metadata": {},
     "output_type": "execute_result"
    }
   ],
   "source": [
    "profiles = user_ratings.groupby(['Set', 'user']).apply(summarize_profile)\n",
    "profiles = profiles.apply(lambda s: s if s.name.startswith('Prop') else s.astype('i4'))\n",
    "profiles.head()"
   ]
  },
  {
   "cell_type": "markdown",
   "metadata": {
    "papermill": {
     "duration": 0.011404,
     "end_time": "2019-09-12T23:09:02.194039",
     "exception": false,
     "start_time": "2019-09-12T23:09:02.182635",
     "status": "completed"
    },
    "tags": []
   },
   "source": [
    "How are profile sizes distributed?"
   ]
  },
  {
   "cell_type": "code",
   "execution_count": 10,
   "metadata": {
    "papermill": {
     "duration": 1.343933,
     "end_time": "2019-09-12T23:09:03.549613",
     "exception": false,
     "start_time": "2019-09-12T23:09:02.205680",
     "status": "completed"
    },
    "tags": []
   },
   "outputs": [
    {
     "data": {
      "image/png": "[encoded data removed]",
      "text/plain": [
       "<Figure size 720x144 with 5 Axes>"
      ]
     },
     "metadata": {
      "needs_background": "light"
     },
     "output_type": "display_data"
    }
   ],
   "source": [
    "g = sns.FacetGrid(profiles.reset_index(), col='Set', sharex=False, sharey=False, height=2)\n",
    "g.map(sns.distplot, 'count')\n",
    "plt.savefig('figures/profile-size-all.pdf')"
   ]
  },
  {
   "cell_type": "code",
   "execution_count": 11,
   "metadata": {
    "papermill": {
     "duration": 1.325083,
     "end_time": "2019-09-12T23:09:04.886999",
     "exception": false,
     "start_time": "2019-09-12T23:09:03.561916",
     "status": "completed"
    },
    "tags": []
   },
   "outputs": [
    {
     "data": {
      "image/png": "[encoded data removed]",
      "text/plain": [
       "<Figure size 720x144 with 5 Axes>"
      ]
     },
     "metadata": {
      "needs_background": "light"
     },
     "output_type": "display_data"
    }
   ],
   "source": [
    "g = sns.FacetGrid(profiles.reset_index(), col='Set', sharex=False, sharey=False, height=2)\n",
    "g.map(sns.distplot, 'Known')\n",
    "plt.savefig('figures/profile-size-known.pdf')"
   ]
  },
  {
   "cell_type": "markdown",
   "metadata": {
    "papermill": {
     "duration": 0.012432,
     "end_time": "2019-09-12T23:09:04.912433",
     "exception": false,
     "start_time": "2019-09-12T23:09:04.900001",
     "status": "completed"
    },
    "tags": []
   },
   "source": [
    "And % known?"
   ]
  },
  {
   "cell_type": "code",
   "execution_count": 12,
   "metadata": {
    "papermill": {
     "duration": 0.954252,
     "end_time": "2019-09-12T23:09:05.880291",
     "exception": false,
     "start_time": "2019-09-12T23:09:04.926039",
     "status": "completed"
    },
    "tags": []
   },
   "outputs": [
    {
     "data": {
      "text/plain": [
       "<seaborn.axisgrid.FacetGrid at 0x2aabb0ae2e90>"
      ]
     },
     "execution_count": 12,
     "metadata": {},
     "output_type": "execute_result"
    },
    {
     "data": {
      "image/png": "[encoded data removed]",
      "text/plain": [
       "<Figure size 1080x216 with 5 Axes>"
      ]
     },
     "metadata": {
      "needs_background": "light"
     },
     "output_type": "display_data"
    }
   ],
   "source": [
    "g = sns.FacetGrid(profiles.reset_index(), col='Set')\n",
    "g.map(sns.distplot, 'PropKnown')"
   ]
  },
  {
   "cell_type": "markdown",
   "metadata": {
    "papermill": {
     "duration": 0.013269,
     "end_time": "2019-09-12T23:09:05.907991",
     "exception": false,
     "start_time": "2019-09-12T23:09:05.894722",
     "status": "completed"
    },
    "tags": []
   },
   "source": [
    "## Distribution of Female Authors\n",
    "\n",
    "Quick empirical inspection:"
   ]
  },
  {
   "cell_type": "code",
   "execution_count": 13,
   "metadata": {
    "papermill": {
     "duration": 0.860834,
     "end_time": "2019-09-12T23:09:06.782556",
     "exception": false,
     "start_time": "2019-09-12T23:09:05.921722",
     "status": "completed"
    },
    "tags": []
   },
   "outputs": [
    {
     "data": {
      "text/plain": [
       "<seaborn.axisgrid.FacetGrid at 0x2aabb14ca3d0>"
      ]
     },
     "execution_count": 13,
     "metadata": {},
     "output_type": "execute_result"
    },
    {
     "data": {
      "image/png": "[encoded data removed]",
      "text/plain": [
       "<Figure size 1080x216 with 5 Axes>"
      ]
     },
     "metadata": {
      "needs_background": "light"
     },
     "output_type": "display_data"
    }
   ],
   "source": [
    "g = sns.FacetGrid(profiles.reset_index(), col='Set', sharey=False)\n",
    "g.map(sns.distplot, 'PropFemale')"
   ]
  },
  {
   "cell_type": "code",
   "execution_count": 14,
   "metadata": {
    "papermill": {
     "duration": 0.022747,
     "end_time": "2019-09-12T23:09:06.820284",
     "exception": false,
     "start_time": "2019-09-12T23:09:06.797537",
     "status": "completed"
    },
    "tags": []
   },
   "outputs": [
    {
     "data": {
      "text/plain": [
       "Set\n",
       "AZ      0.394471\n",
       "BX-E    0.412705\n",
       "BX-I    0.410818\n",
       "GR-E    0.453435\n",
       "GR-I    0.448197\n",
       "Name: PropFemale, dtype: float64"
      ]
     },
     "execution_count": 14,
     "metadata": {},
     "output_type": "execute_result"
    }
   ],
   "source": [
    "profiles.groupby('Set')['PropFemale'].mean()"
   ]
  },
  {
   "cell_type": "code",
   "execution_count": 15,
   "metadata": {
    "papermill": {
     "duration": 0.022436,
     "end_time": "2019-09-12T23:09:06.858113",
     "exception": false,
     "start_time": "2019-09-12T23:09:06.835677",
     "status": "completed"
    },
    "tags": []
   },
   "outputs": [
    {
     "data": {
      "text/plain": [
       "Set\n",
       "AZ      0.319049\n",
       "BX-E    0.265400\n",
       "BX-I    0.253278\n",
       "GR-E    0.278924\n",
       "GR-I    0.264529\n",
       "Name: PropFemale, dtype: float64"
      ]
     },
     "execution_count": 15,
     "metadata": {},
     "output_type": "execute_result"
    }
   ],
   "source": [
    "np.sqrt(profiles.groupby('Set')['PropFemale'].var())"
   ]
  },
  {
   "cell_type": "markdown",
   "metadata": {
    "papermill": {
     "duration": 0.01504,
     "end_time": "2019-09-12T23:09:06.888565",
     "exception": false,
     "start_time": "2019-09-12T23:09:06.873525",
     "status": "completed"
    },
    "tags": []
   },
   "source": [
    "## Distribution of Dummy Codes\n",
    "\n",
    "Quick empirical inspection - this should be noise:"
   ]
  },
  {
   "cell_type": "code",
   "execution_count": 16,
   "metadata": {
    "papermill": {
     "duration": 1.490705,
     "end_time": "2019-09-12T23:09:08.394179",
     "exception": false,
     "start_time": "2019-09-12T23:09:06.903474",
     "status": "completed"
    },
    "tags": []
   },
   "outputs": [
    {
     "data": {
      "text/plain": [
       "<seaborn.axisgrid.FacetGrid at 0x2aabb1794710>"
      ]
     },
     "execution_count": 16,
     "metadata": {},
     "output_type": "execute_result"
    },
    {
     "data": {
      "image/png": "[encoded data removed]",
      "text/plain": [
       "<Figure size 216x1080 with 5 Axes>"
      ]
     },
     "metadata": {
      "needs_background": "light"
     },
     "output_type": "display_data"
    }
   ],
   "source": [
    "g = sns.FacetGrid(profiles.reset_index(), row='Set', sharey=False)\n",
    "g.map(sns.distplot, 'PropDC')"
   ]
  },
  {
   "cell_type": "markdown",
   "metadata": {
    "papermill": {
     "duration": 0.016405,
     "end_time": "2019-09-12T23:09:08.427258",
     "exception": false,
     "start_time": "2019-09-12T23:09:08.410853",
     "status": "completed"
    },
    "tags": []
   },
   "source": [
    "## Saving Outputs\n",
    "\n",
    "We save profile data frame to be reloaded in the Bayesian analysis."
   ]
  },
  {
   "cell_type": "code",
   "execution_count": 17,
   "metadata": {
    "papermill": {
     "duration": 0.024316,
     "end_time": "2019-09-12T23:09:08.468169",
     "exception": false,
     "start_time": "2019-09-12T23:09:08.443853",
     "status": "completed"
    },
    "tags": []
   },
   "outputs": [],
   "source": [
    "profiles.to_pickle('data/profile-data.pkl')"
   ]
  }
 ],
 "metadata": {
  "celltoolbar": "Tags",
  "kernelspec": {
   "display_name": "Python 3",
   "language": "python",
   "name": "python3"
  },
  "language_info": {
   "codemirror_mode": {
    "name": "ipython",
    "version": 3
   },
   "file_extension": ".py",
   "mimetype": "text/x-python",
   "name": "python",
   "nbconvert_exporter": "python",
   "pygments_lexer": "ipython3",
   "version": "3.7.4"
  },
  "papermill": {
   "duration": 39.13625,
   "end_time": "2019-09-12T23:09:09.492329",
   "environment_variables": {},
   "exception": null,
   "input_path": "ProfileDataPrep.ipynb",
   "output_path": "ProfileDataPrep.temp.ipynb",
   "parameters": {},
   "start_time": "2019-09-12T23:08:30.356079",
   "version": "1.0.1"
  }
 },
 "nbformat": 4,
 "nbformat_minor": 2
}