{
 "cells": [
  {
   "cell_type": "markdown",
   "metadata": {
    "papermill": {
     "duration": 0.015006,
     "end_time": "2020-05-12T09:24:56.152705",
     "exception": false,
     "start_time": "2020-05-12T09:24:56.137699",
     "status": "completed"
    },
    "tags": []
   },
   "source": [
    "# User Profile Bayesian Analysis\n",
    "\n",
    "This notebook analyzes the results of the Bayesian analysis of the user profile data.\n",
    "\n",
    "We split our Bayesian analyses into three steps:\n",
    "\n",
    "1. Exploratory analysis of data + preparation for sampling (notebook)\n",
    "2. Sampling (Python script)\n",
    "3. Analysis of sampling results (notebook)\n",
    "\n",
    "This is to enable the sampling process and its results to be managed and cached by DVC, and to avoid re-running the Bayesian sampling process when we only want to change how we look at its results."
   ]
  },
  {
   "cell_type": "markdown",
   "metadata": {
    "papermill": {
     "duration": 0.015,
     "end_time": "2020-05-12T09:24:56.195705",
     "exception": false,
     "start_time": "2020-05-12T09:24:56.180705",
     "status": "completed"
    },
    "tags": []
   },
   "source": [
    "## Setup"
   ]
  },
  {
   "cell_type": "code",
   "execution_count": 1,
   "metadata": {
    "papermill": {
     "duration": 0.023998,
     "end_time": "2020-05-12T09:24:56.234705",
     "exception": false,
     "start_time": "2020-05-12T09:24:56.210707",
     "status": "completed"
    },
    "tags": [
     "parameters"
    ]
   },
   "outputs": [],
   "source": [
    "model = 'profile'"
   ]
  },
  {
   "cell_type": "code",
   "execution_count": 2,
   "metadata": {
    "papermill": {
     "duration": 0.021,
     "end_time": "2020-05-12T09:24:56.271703",
     "exception": false,
     "start_time": "2020-05-12T09:24:56.250703",
     "status": "completed"
    },
    "tags": []
   },
   "outputs": [],
   "source": [
    "import os\n",
    "from pathlib import Path"
   ]
  },
  {
   "cell_type": "code",
   "execution_count": 3,
   "metadata": {
    "papermill": {
     "duration": 1.584972,
     "end_time": "2020-05-12T09:24:57.871677",
     "exception": false,
     "start_time": "2020-05-12T09:24:56.286705",
     "status": "completed"
    },
    "tags": []
   },
   "outputs": [],
   "source": [
    "import pandas as pd\n",
    "import numpy as np\n",
    "import scipy.special as sps\n",
    "from scipy import stats\n",
    "import seaborn as sns\n",
    "import plotnine as p\n",
    "import matplotlib.pyplot as plt\n",
    "from statsmodels.nonparametric.kde import KDEUnivariate\n",
    "import zarr\n",
    "from IPython.display import display, Markdown"
   ]
  },
  {
   "cell_type": "code",
   "execution_count": 4,
   "metadata": {
    "papermill": {
     "duration": 1.016984,
     "end_time": "2020-05-12T09:24:58.903660",
     "exception": false,
     "start_time": "2020-05-12T09:24:57.886676",
     "status": "completed"
    },
    "tags": []
   },
   "outputs": [
    {
     "name": "stderr",
     "output_type": "stream",
     "text": [
      "C:\\Users\\michaelekstrand\\Anaconda3\\envs\\bookfair\\lib\\site-packages\\fastparquet\\dataframe.py:5: FutureWarning: pandas.core.index is deprecated and will be removed in a future version.  The public classes are available in the top-level namespace.\n",
      "  from pandas.core.index import CategoricalIndex, RangeIndex, Index, MultiIndex\n"
     ]
    }
   ],
   "source": [
    "from bookgender.config import rng_seed\n",
    "from lenskit.util import init_rng\n",
    "import bookgender.datatools as dt\n",
    "from bookgender.nbutils import *"
   ]
  },
  {
   "cell_type": "code",
   "execution_count": 5,
   "metadata": {
    "papermill": {
     "duration": 0.022,
     "end_time": "2020-05-12T09:24:58.941659",
     "exception": false,
     "start_time": "2020-05-12T09:24:58.919659",
     "status": "completed"
    },
    "tags": []
   },
   "outputs": [
    {
     "data": {
      "text/plain": [
       "SeedSequence(\n",
       "    entropy=261868553827208103807548308384201786360,\n",
       "    spawn_key=(2851018176,),\n",
       ")"
      ]
     },
     "execution_count": 5,
     "metadata": {},
     "output_type": "execute_result"
    }
   ],
   "source": [
    "seed = init_rng(rng_seed(), 'ProfileModelAnalysis', propagate=True)\n",
    "rng = np.random.default_rng(seed)\n",
    "seed"
   ]
  },
  {
   "cell_type": "code",
   "execution_count": 6,
   "metadata": {
    "papermill": {
     "duration": 0.021,
     "end_time": "2020-05-12T09:24:58.977658",
     "exception": false,
     "start_time": "2020-05-12T09:24:58.956658",
     "status": "completed"
    },
    "tags": []
   },
   "outputs": [
    {
     "data": {
      "text/plain": [
       "'profile'"
      ]
     },
     "execution_count": 6,
     "metadata": {},
     "output_type": "execute_result"
    }
   ],
   "source": [
    "if model.startswith('profile'):\n",
    "    fig_key = model\n",
    "else:\n",
    "    fig_key = 'profile-' + model\n",
    "fig_key"
   ]
  },
  {
   "cell_type": "code",
   "execution_count": 7,
   "metadata": {
    "papermill": {
     "duration": 0.021759,
     "end_time": "2020-05-12T09:24:59.014417",
     "exception": false,
     "start_time": "2020-05-12T09:24:58.992658",
     "status": "completed"
    },
    "tags": []
   },
   "outputs": [
    {
     "name": "stdout",
     "output_type": "stream",
     "text": [
      "using figure dir figures\\PMA-profile\n"
     ]
    }
   ],
   "source": [
    "fig_dir = init_figs(f'PMA-{fig_key}')"
   ]
  },
  {
   "cell_type": "markdown",
   "metadata": {
    "papermill": {
     "duration": 0.01597,
     "end_time": "2020-05-12T09:24:59.046386",
     "exception": false,
     "start_time": "2020-05-12T09:24:59.030416",
     "status": "completed"
    },
    "tags": []
   },
   "source": [
    "## Load Data"
   ]
  },
  {
   "cell_type": "code",
   "execution_count": 8,
   "metadata": {
    "papermill": {
     "duration": 0.027508,
     "end_time": "2020-05-12T09:24:59.089894",
     "exception": false,
     "start_time": "2020-05-12T09:24:59.062386",
     "status": "completed"
    },
    "tags": []
   },
   "outputs": [
    {
     "data": {
      "text/plain": [
       "['AZ', 'BX-E', 'BX-I', 'GR-E', 'GR-I']"
      ]
     },
     "execution_count": 8,
     "metadata": {},
     "output_type": "execute_result"
    }
   ],
   "source": [
    "datasets = list(dt.datasets.keys())\n",
    "datasets"
   ]
  },
  {
   "cell_type": "markdown",
   "metadata": {
    "papermill": {
     "duration": 0.019,
     "end_time": "2020-05-12T09:24:59.126893",
     "exception": false,
     "start_time": "2020-05-12T09:24:59.107893",
     "status": "completed"
    },
    "tags": []
   },
   "source": [
    "We need to load the sampling results for each data set:"
   ]
  },
  {
   "cell_type": "code",
   "execution_count": 9,
   "metadata": {
    "papermill": {
     "duration": 0.132991,
     "end_time": "2020-05-12T09:24:59.276891",
     "exception": false,
     "start_time": "2020-05-12T09:24:59.143900",
     "status": "completed"
    },
    "scrolled": false,
    "tags": []
   },
   "outputs": [
    {
     "data": {
      "text/html": [
       "<div>\n",
       "<style scoped>\n",
       "    .dataframe tbody tr th:only-of-type {\n",
       "        vertical-align: middle;\n",
       "    }\n",
       "\n",
       "    .dataframe tbody tr th {\n",
       "        vertical-align: top;\n",
       "    }\n",
       "\n",
       "    .dataframe thead th {\n",
       "        text-align: right;\n",
       "    }\n",
       "</style>\n",
       "<table border=\"1\" class=\"dataframe\">\n",
       "  <thead>\n",
       "    <tr style=\"text-align: right;\">\n",
       "      <th></th>\n",
       "      <th></th>\n",
       "      <th>Mean</th>\n",
       "      <th>MCSE</th>\n",
       "      <th>StdDev</th>\n",
       "      <th>5%</th>\n",
       "      <th>50%</th>\n",
       "      <th>95%</th>\n",
       "      <th>N_Eff</th>\n",
       "      <th>N_Eff/s</th>\n",
       "      <th>R_hat</th>\n",
       "    </tr>\n",
       "    <tr>\n",
       "      <th>Set</th>\n",
       "      <th>name</th>\n",
       "      <th></th>\n",
       "      <th></th>\n",
       "      <th></th>\n",
       "      <th></th>\n",
       "      <th></th>\n",
       "      <th></th>\n",
       "      <th></th>\n",
       "      <th></th>\n",
       "      <th></th>\n",
       "    </tr>\n",
       "  </thead>\n",
       "  <tbody>\n",
       "    <tr>\n",
       "      <th rowspan=\"5\" valign=\"top\">AZ</th>\n",
       "      <th>lp__</th>\n",
       "      <td>-38486.600000</td>\n",
       "      <td>1.205860</td>\n",
       "      <td>59.937900</td>\n",
       "      <td>-38585.400000</td>\n",
       "      <td>-38486.600000</td>\n",
       "      <td>-38389.500000</td>\n",
       "      <td>2470.63</td>\n",
       "      <td>7.02802</td>\n",
       "      <td>1.001160</td>\n",
       "    </tr>\n",
       "    <tr>\n",
       "      <th>mu</th>\n",
       "      <td>-0.514324</td>\n",
       "      <td>0.000239</td>\n",
       "      <td>0.030539</td>\n",
       "      <td>-0.564679</td>\n",
       "      <td>-0.514312</td>\n",
       "      <td>-0.464619</td>\n",
       "      <td>16390.50</td>\n",
       "      <td>46.62480</td>\n",
       "      <td>0.999683</td>\n",
       "    </tr>\n",
       "    <tr>\n",
       "      <th>sigma</th>\n",
       "      <td>1.875070</td>\n",
       "      <td>0.000432</td>\n",
       "      <td>0.030105</td>\n",
       "      <td>1.825890</td>\n",
       "      <td>1.874820</td>\n",
       "      <td>1.925420</td>\n",
       "      <td>4846.20</td>\n",
       "      <td>13.78560</td>\n",
       "      <td>1.000050</td>\n",
       "    </tr>\n",
       "    <tr>\n",
       "      <th>nTheta[1]</th>\n",
       "      <td>1.054400</td>\n",
       "      <td>0.006098</td>\n",
       "      <td>0.927009</td>\n",
       "      <td>-0.392912</td>\n",
       "      <td>1.019800</td>\n",
       "      <td>2.638920</td>\n",
       "      <td>23110.10</td>\n",
       "      <td>65.73970</td>\n",
       "      <td>0.999805</td>\n",
       "    </tr>\n",
       "    <tr>\n",
       "      <th>nTheta[2]</th>\n",
       "      <td>-0.934858</td>\n",
       "      <td>0.003410</td>\n",
       "      <td>0.487180</td>\n",
       "      <td>-1.760500</td>\n",
       "      <td>-0.920706</td>\n",
       "      <td>-0.159354</td>\n",
       "      <td>20405.70</td>\n",
       "      <td>58.04650</td>\n",
       "      <td>0.999767</td>\n",
       "    </tr>\n",
       "  </tbody>\n",
       "</table>\n",
       "</div>"
      ],
      "text/plain": [
       "                       Mean      MCSE     StdDev            5%           50%  \\\n",
       "Set name                                                                       \n",
       "AZ  lp__      -38486.600000  1.205860  59.937900 -38585.400000 -38486.600000   \n",
       "    mu            -0.514324  0.000239   0.030539     -0.564679     -0.514312   \n",
       "    sigma          1.875070  0.000432   0.030105      1.825890      1.874820   \n",
       "    nTheta[1]      1.054400  0.006098   0.927009     -0.392912      1.019800   \n",
       "    nTheta[2]     -0.934858  0.003410   0.487180     -1.760500     -0.920706   \n",
       "\n",
       "                        95%     N_Eff   N_Eff/s     R_hat  \n",
       "Set name                                                   \n",
       "AZ  lp__      -38389.500000   2470.63   7.02802  1.001160  \n",
       "    mu            -0.464619  16390.50  46.62480  0.999683  \n",
       "    sigma          1.925420   4846.20  13.78560  1.000050  \n",
       "    nTheta[1]      2.638920  23110.10  65.73970  0.999805  \n",
       "    nTheta[2]     -0.159354  20405.70  58.04650  0.999767  "
      ]
     },
     "execution_count": 9,
     "metadata": {},
     "output_type": "execute_result"
    }
   ],
   "source": [
    "samples = {}\n",
    "summary = {}\n",
    "for ds in datasets:\n",
    "    _zf = zarr.ZipStore(f'data/{ds}/inference/{model}/samples.zarr', mode='r')\n",
    "    _c = zarr.LRUStoreCache(_zf, 2**30)\n",
    "    samples[ds] = zarr.group(_c)\n",
    "    summary[ds] = pd.read_csv(f'data/{ds}/inference/{model}-summary.csv', index_col='name')\n",
    "summary = pd.concat(summary, names=['Set'])\n",
    "summary.head()"
   ]
  },
  {
   "cell_type": "markdown",
   "metadata": {
    "papermill": {
     "duration": 0.018999,
     "end_time": "2020-05-12T09:24:59.312890",
     "exception": false,
     "start_time": "2020-05-12T09:24:59.293891",
     "status": "completed"
    },
    "tags": []
   },
   "source": [
    "Extract and verify sample size:"
   ]
  },
  {
   "cell_type": "code",
   "execution_count": 10,
   "metadata": {
    "papermill": {
     "duration": 0.024001,
     "end_time": "2020-05-12T09:24:59.353891",
     "exception": false,
     "start_time": "2020-05-12T09:24:59.329890",
     "status": "completed"
    },
    "tags": []
   },
   "outputs": [
    {
     "data": {
      "text/plain": [
       "10000"
      ]
     },
     "execution_count": 10,
     "metadata": {},
     "output_type": "execute_result"
    }
   ],
   "source": [
    "sample_size = len(samples['AZ']['lp__'])\n",
    "assert all(len(s['lp__']) == sample_size for s in samples.values())\n",
    "sample_size"
   ]
  },
  {
   "cell_type": "markdown",
   "metadata": {
    "papermill": {
     "duration": 0.017998,
     "end_time": "2020-05-12T09:24:59.387889",
     "exception": false,
     "start_time": "2020-05-12T09:24:59.369891",
     "status": "completed"
    },
    "tags": []
   },
   "source": [
    "## Quality Checks"
   ]
  },
  {
   "cell_type": "markdown",
   "metadata": {
    "papermill": {
     "duration": 0.015999,
     "end_time": "2020-05-12T09:24:59.419889",
     "exception": false,
     "start_time": "2020-05-12T09:24:59.403890",
     "status": "completed"
    },
    "tags": []
   },
   "source": [
    "Do we have parameters with bad mixing? (high $\\hat{R}$)"
   ]
  },
  {
   "cell_type": "code",
   "execution_count": 11,
   "metadata": {
    "papermill": {
     "duration": 0.035,
     "end_time": "2020-05-12T09:24:59.470888",
     "exception": false,
     "start_time": "2020-05-12T09:24:59.435888",
     "status": "completed"
    },
    "tags": []
   },
   "outputs": [
    {
     "data": {
      "text/html": [
       "<div>\n",
       "<style scoped>\n",
       "    .dataframe tbody tr th:only-of-type {\n",
       "        vertical-align: middle;\n",
       "    }\n",
       "\n",
       "    .dataframe tbody tr th {\n",
       "        vertical-align: top;\n",
       "    }\n",
       "\n",
       "    .dataframe thead th {\n",
       "        text-align: right;\n",
       "    }\n",
       "</style>\n",
       "<table border=\"1\" class=\"dataframe\">\n",
       "  <thead>\n",
       "    <tr style=\"text-align: right;\">\n",
       "      <th></th>\n",
       "      <th></th>\n",
       "      <th>Mean</th>\n",
       "      <th>MCSE</th>\n",
       "      <th>StdDev</th>\n",
       "      <th>5%</th>\n",
       "      <th>50%</th>\n",
       "      <th>95%</th>\n",
       "      <th>N_Eff</th>\n",
       "      <th>N_Eff/s</th>\n",
       "      <th>R_hat</th>\n",
       "    </tr>\n",
       "    <tr>\n",
       "      <th>Set</th>\n",
       "      <th>name</th>\n",
       "      <th></th>\n",
       "      <th></th>\n",
       "      <th></th>\n",
       "      <th></th>\n",
       "      <th></th>\n",
       "      <th></th>\n",
       "      <th></th>\n",
       "      <th></th>\n",
       "      <th></th>\n",
       "    </tr>\n",
       "  </thead>\n",
       "  <tbody>\n",
       "    <tr>\n",
       "      <th>BX-E</th>\n",
       "      <th>log_lik[4647]</th>\n",
       "      <td>-1.64209</td>\n",
       "      <td>0.009218</td>\n",
       "      <td>0.514282</td>\n",
       "      <td>-2.68315</td>\n",
       "      <td>-1.44387</td>\n",
       "      <td>-1.26870</td>\n",
       "      <td>3112.65</td>\n",
       "      <td>9.33244</td>\n",
       "      <td>1.00506</td>\n",
       "    </tr>\n",
       "    <tr>\n",
       "      <th rowspan=\"2\" valign=\"top\">GR-I</th>\n",
       "      <th>log_lik[1010]</th>\n",
       "      <td>-3.83992</td>\n",
       "      <td>0.011997</td>\n",
       "      <td>0.699917</td>\n",
       "      <td>-5.23830</td>\n",
       "      <td>-3.56766</td>\n",
       "      <td>-3.33978</td>\n",
       "      <td>3403.51</td>\n",
       "      <td>10.82510</td>\n",
       "      <td>1.00484</td>\n",
       "    </tr>\n",
       "    <tr>\n",
       "      <th>log_lik[4433]</th>\n",
       "      <td>-2.40830</td>\n",
       "      <td>0.012284</td>\n",
       "      <td>0.658181</td>\n",
       "      <td>-3.79130</td>\n",
       "      <td>-2.14496</td>\n",
       "      <td>-1.93683</td>\n",
       "      <td>2870.91</td>\n",
       "      <td>9.13111</td>\n",
       "      <td>1.00481</td>\n",
       "    </tr>\n",
       "    <tr>\n",
       "      <th>BX-I</th>\n",
       "      <th>log_lik[360]</th>\n",
       "      <td>-2.12231</td>\n",
       "      <td>0.010487</td>\n",
       "      <td>0.598602</td>\n",
       "      <td>-3.32954</td>\n",
       "      <td>-1.89253</td>\n",
       "      <td>-1.70068</td>\n",
       "      <td>3257.91</td>\n",
       "      <td>9.59960</td>\n",
       "      <td>1.00471</td>\n",
       "    </tr>\n",
       "    <tr>\n",
       "      <th>GR-I</th>\n",
       "      <th>log_lik[2111]</th>\n",
       "      <td>-3.54390</td>\n",
       "      <td>0.015330</td>\n",
       "      <td>0.734541</td>\n",
       "      <td>-5.02787</td>\n",
       "      <td>-3.25711</td>\n",
       "      <td>-3.03061</td>\n",
       "      <td>2295.88</td>\n",
       "      <td>7.30219</td>\n",
       "      <td>1.00453</td>\n",
       "    </tr>\n",
       "  </tbody>\n",
       "</table>\n",
       "</div>"
      ],
      "text/plain": [
       "                       Mean      MCSE    StdDev       5%      50%      95%  \\\n",
       "Set  name                                                                    \n",
       "BX-E log_lik[4647] -1.64209  0.009218  0.514282 -2.68315 -1.44387 -1.26870   \n",
       "GR-I log_lik[1010] -3.83992  0.011997  0.699917 -5.23830 -3.56766 -3.33978   \n",
       "     log_lik[4433] -2.40830  0.012284  0.658181 -3.79130 -2.14496 -1.93683   \n",
       "BX-I log_lik[360]  -2.12231  0.010487  0.598602 -3.32954 -1.89253 -1.70068   \n",
       "GR-I log_lik[2111] -3.54390  0.015330  0.734541 -5.02787 -3.25711 -3.03061   \n",
       "\n",
       "                      N_Eff   N_Eff/s    R_hat  \n",
       "Set  name                                       \n",
       "BX-E log_lik[4647]  3112.65   9.33244  1.00506  \n",
       "GR-I log_lik[1010]  3403.51  10.82510  1.00484  \n",
       "     log_lik[4433]  2870.91   9.13111  1.00481  \n",
       "BX-I log_lik[360]   3257.91   9.59960  1.00471  \n",
       "GR-I log_lik[2111]  2295.88   7.30219  1.00453  "
      ]
     },
     "execution_count": 11,
     "metadata": {},
     "output_type": "execute_result"
    }
   ],
   "source": [
    "summary.sort_values('R_hat', ascending=False).head()"
   ]
  },
  {
   "cell_type": "markdown",
   "metadata": {
    "papermill": {
     "duration": 0.017,
     "end_time": "2020-05-12T09:24:59.503888",
     "exception": false,
     "start_time": "2020-05-12T09:24:59.486888",
     "status": "completed"
    },
    "tags": []
   },
   "source": [
    "Let's compute LPPD and WAIC for each of our models:"
   ]
  },
  {
   "cell_type": "code",
   "execution_count": 12,
   "metadata": {
    "papermill": {
     "duration": 0.033,
     "end_time": "2020-05-12T09:24:59.552886",
     "exception": false,
     "start_time": "2020-05-12T09:24:59.519886",
     "status": "completed"
    },
    "tags": []
   },
   "outputs": [
    {
     "data": {
      "text/html": [
       "<div>\n",
       "<style scoped>\n",
       "    .dataframe tbody tr th:only-of-type {\n",
       "        vertical-align: middle;\n",
       "    }\n",
       "\n",
       "    .dataframe tbody tr th {\n",
       "        vertical-align: top;\n",
       "    }\n",
       "\n",
       "    .dataframe thead th {\n",
       "        text-align: right;\n",
       "    }\n",
       "</style>\n",
       "<table border=\"1\" class=\"dataframe\">\n",
       "  <thead>\n",
       "    <tr style=\"text-align: right;\">\n",
       "      <th></th>\n",
       "      <th>lppd</th>\n",
       "      <th>pWAIC</th>\n",
       "      <th>WAIC</th>\n",
       "    </tr>\n",
       "    <tr>\n",
       "      <th>Set</th>\n",
       "      <th></th>\n",
       "      <th></th>\n",
       "      <th></th>\n",
       "    </tr>\n",
       "  </thead>\n",
       "  <tbody>\n",
       "    <tr>\n",
       "      <th>AZ</th>\n",
       "      <td>-6413.234228</td>\n",
       "      <td>2258.789672</td>\n",
       "      <td>17344.047799</td>\n",
       "    </tr>\n",
       "    <tr>\n",
       "      <th>BX-E</th>\n",
       "      <td>-8210.900013</td>\n",
       "      <td>2298.205891</td>\n",
       "      <td>21018.211808</td>\n",
       "    </tr>\n",
       "    <tr>\n",
       "      <th>BX-I</th>\n",
       "      <td>-8837.921196</td>\n",
       "      <td>2296.897944</td>\n",
       "      <td>22269.638279</td>\n",
       "    </tr>\n",
       "    <tr>\n",
       "      <th>GR-E</th>\n",
       "      <td>-11181.420201</td>\n",
       "      <td>2488.399088</td>\n",
       "      <td>27339.638579</td>\n",
       "    </tr>\n",
       "    <tr>\n",
       "      <th>GR-I</th>\n",
       "      <td>-12605.109108</td>\n",
       "      <td>2521.594828</td>\n",
       "      <td>30253.407871</td>\n",
       "    </tr>\n",
       "  </tbody>\n",
       "</table>\n",
       "</div>"
      ],
      "text/plain": [
       "              lppd        pWAIC          WAIC\n",
       "Set                                          \n",
       "AZ    -6413.234228  2258.789672  17344.047799\n",
       "BX-E  -8210.900013  2298.205891  21018.211808\n",
       "BX-I  -8837.921196  2296.897944  22269.638279\n",
       "GR-E -11181.420201  2488.399088  27339.638579\n",
       "GR-I -12605.109108  2521.594828  30253.407871"
      ]
     },
     "execution_count": 12,
     "metadata": {},
     "output_type": "execute_result"
    }
   ],
   "source": [
    "def ll_stats(ds):\n",
    "    ll_exp = samples[ds]['ll_exp']\n",
    "    ll_var = samples[ds]['ll_var']\n",
    "    lppd = np.sum(ll_exp)\n",
    "    pwaic = np.sum(ll_var)\n",
    "    return pd.Series({'lppd': lppd, 'pWAIC': pwaic, 'WAIC': -2 * (lppd - pwaic)})\n",
    "pd.Series(datasets).apply(ll_stats).assign(Set=datasets).set_index('Set')"
   ]
  },
  {
   "cell_type": "markdown",
   "metadata": {
    "papermill": {
     "duration": 0.019,
     "end_time": "2020-05-12T09:24:59.590886",
     "exception": false,
     "start_time": "2020-05-12T09:24:59.571886",
     "status": "completed"
    },
    "tags": []
   },
   "source": [
    "## Extract and Summarize"
   ]
  },
  {
   "cell_type": "markdown",
   "metadata": {
    "papermill": {
     "duration": 0.016,
     "end_time": "2020-05-12T09:24:59.624394",
     "exception": false,
     "start_time": "2020-05-12T09:24:59.608394",
     "status": "completed"
    },
    "tags": []
   },
   "source": [
    "Extract sample data in a form usable for plotting:"
   ]
  },
  {
   "cell_type": "code",
   "execution_count": 13,
   "metadata": {
    "papermill": {
     "duration": 0.048,
     "end_time": "2020-05-12T09:24:59.690393",
     "exception": false,
     "start_time": "2020-05-12T09:24:59.642393",
     "status": "completed"
    },
    "tags": []
   },
   "outputs": [
    {
     "data": {
      "text/html": [
       "<div>\n",
       "<style scoped>\n",
       "    .dataframe tbody tr th:only-of-type {\n",
       "        vertical-align: middle;\n",
       "    }\n",
       "\n",
       "    .dataframe tbody tr th {\n",
       "        vertical-align: top;\n",
       "    }\n",
       "\n",
       "    .dataframe thead th {\n",
       "        text-align: right;\n",
       "    }\n",
       "</style>\n",
       "<table border=\"1\" class=\"dataframe\">\n",
       "  <thead>\n",
       "    <tr style=\"text-align: right;\">\n",
       "      <th></th>\n",
       "      <th></th>\n",
       "      <th>Mu</th>\n",
       "      <th>Sigma</th>\n",
       "      <th>Theta</th>\n",
       "    </tr>\n",
       "    <tr>\n",
       "      <th>Set</th>\n",
       "      <th></th>\n",
       "      <th></th>\n",
       "      <th></th>\n",
       "      <th></th>\n",
       "    </tr>\n",
       "  </thead>\n",
       "  <tbody>\n",
       "    <tr>\n",
       "      <th rowspan=\"5\" valign=\"top\">AZ</th>\n",
       "      <th>0</th>\n",
       "      <td>-0.517427</td>\n",
       "      <td>1.89591</td>\n",
       "      <td>0.074957</td>\n",
       "    </tr>\n",
       "    <tr>\n",
       "      <th>1</th>\n",
       "      <td>-0.549932</td>\n",
       "      <td>1.88656</td>\n",
       "      <td>0.195367</td>\n",
       "    </tr>\n",
       "    <tr>\n",
       "      <th>2</th>\n",
       "      <td>-0.494122</td>\n",
       "      <td>1.86783</td>\n",
       "      <td>0.692173</td>\n",
       "    </tr>\n",
       "    <tr>\n",
       "      <th>3</th>\n",
       "      <td>-0.558269</td>\n",
       "      <td>1.89490</td>\n",
       "      <td>0.170902</td>\n",
       "    </tr>\n",
       "    <tr>\n",
       "      <th>4</th>\n",
       "      <td>-0.460593</td>\n",
       "      <td>1.86343</td>\n",
       "      <td>0.347322</td>\n",
       "    </tr>\n",
       "    <tr>\n",
       "      <th>...</th>\n",
       "      <th>...</th>\n",
       "      <td>...</td>\n",
       "      <td>...</td>\n",
       "      <td>...</td>\n",
       "    </tr>\n",
       "    <tr>\n",
       "      <th rowspan=\"5\" valign=\"top\">GR-I</th>\n",
       "      <th>9995</th>\n",
       "      <td>-0.277604</td>\n",
       "      <td>1.43525</td>\n",
       "      <td>0.055015</td>\n",
       "    </tr>\n",
       "    <tr>\n",
       "      <th>9996</th>\n",
       "      <td>-0.256107</td>\n",
       "      <td>1.47247</td>\n",
       "      <td>0.337325</td>\n",
       "    </tr>\n",
       "    <tr>\n",
       "      <th>9997</th>\n",
       "      <td>-0.258977</td>\n",
       "      <td>1.42790</td>\n",
       "      <td>0.602984</td>\n",
       "    </tr>\n",
       "    <tr>\n",
       "      <th>9998</th>\n",
       "      <td>-0.249830</td>\n",
       "      <td>1.44898</td>\n",
       "      <td>0.621380</td>\n",
       "    </tr>\n",
       "    <tr>\n",
       "      <th>9999</th>\n",
       "      <td>-0.257523</td>\n",
       "      <td>1.44148</td>\n",
       "      <td>0.880777</td>\n",
       "    </tr>\n",
       "  </tbody>\n",
       "</table>\n",
       "<p>50000 rows × 3 columns</p>\n",
       "</div>"
      ],
      "text/plain": [
       "                 Mu    Sigma     Theta\n",
       "Set                                   \n",
       "AZ   0    -0.517427  1.89591  0.074957\n",
       "     1    -0.549932  1.88656  0.195367\n",
       "     2    -0.494122  1.86783  0.692173\n",
       "     3    -0.558269  1.89490  0.170902\n",
       "     4    -0.460593  1.86343  0.347322\n",
       "...             ...      ...       ...\n",
       "GR-I 9995 -0.277604  1.43525  0.055015\n",
       "     9996 -0.256107  1.47247  0.337325\n",
       "     9997 -0.258977  1.42790  0.602984\n",
       "     9998 -0.249830  1.44898  0.621380\n",
       "     9999 -0.257523  1.44148  0.880777\n",
       "\n",
       "[50000 rows x 3 columns]"
      ]
     },
     "execution_count": 13,
     "metadata": {},
     "output_type": "execute_result"
    }
   ],
   "source": [
    "samp_df = pd.concat(dict((ds, pd.DataFrame({\n",
    "    'Mu': samples[ds]['mu'],\n",
    "    'Sigma': samples[ds]['sigma'],\n",
    "    'Theta': samples[ds]['thetaP']\n",
    "})) for ds in datasets), names=['Set']).copy()\n",
    "samp_df"
   ]
  },
  {
   "cell_type": "markdown",
   "metadata": {
    "papermill": {
     "duration": 0.019,
     "end_time": "2020-05-12T09:24:59.727392",
     "exception": false,
     "start_time": "2020-05-12T09:24:59.708392",
     "status": "completed"
    },
    "tags": []
   },
   "source": [
    "We also want to show observed distributions:"
   ]
  },
  {
   "cell_type": "code",
   "execution_count": 14,
   "metadata": {
    "papermill": {
     "duration": 0.041,
     "end_time": "2020-05-12T09:24:59.786391",
     "exception": false,
     "start_time": "2020-05-12T09:24:59.745391",
     "status": "completed"
    },
    "tags": []
   },
   "outputs": [
    {
     "data": {
      "text/html": [
       "<div>\n",
       "<style scoped>\n",
       "    .dataframe tbody tr th:only-of-type {\n",
       "        vertical-align: middle;\n",
       "    }\n",
       "\n",
       "    .dataframe tbody tr th {\n",
       "        vertical-align: top;\n",
       "    }\n",
       "\n",
       "    .dataframe thead th {\n",
       "        text-align: right;\n",
       "    }\n",
       "</style>\n",
       "<table border=\"1\" class=\"dataframe\">\n",
       "  <thead>\n",
       "    <tr style=\"text-align: right;\">\n",
       "      <th></th>\n",
       "      <th></th>\n",
       "      <th>count</th>\n",
       "      <th>linked</th>\n",
       "      <th>ambiguous</th>\n",
       "      <th>male</th>\n",
       "      <th>female</th>\n",
       "      <th>dcknown</th>\n",
       "      <th>dcyes</th>\n",
       "      <th>PropDC</th>\n",
       "      <th>Known</th>\n",
       "      <th>PropFemale</th>\n",
       "      <th>PropKnown</th>\n",
       "    </tr>\n",
       "    <tr>\n",
       "      <th>Set</th>\n",
       "      <th>user</th>\n",
       "      <th></th>\n",
       "      <th></th>\n",
       "      <th></th>\n",
       "      <th></th>\n",
       "      <th></th>\n",
       "      <th></th>\n",
       "      <th></th>\n",
       "      <th></th>\n",
       "      <th></th>\n",
       "      <th></th>\n",
       "      <th></th>\n",
       "    </tr>\n",
       "  </thead>\n",
       "  <tbody>\n",
       "    <tr>\n",
       "      <th rowspan=\"5\" valign=\"top\">AZ</th>\n",
       "      <th>529</th>\n",
       "      <td>8</td>\n",
       "      <td>8</td>\n",
       "      <td>2</td>\n",
       "      <td>1</td>\n",
       "      <td>4</td>\n",
       "      <td>8</td>\n",
       "      <td>3</td>\n",
       "      <td>0.375000</td>\n",
       "      <td>5</td>\n",
       "      <td>0.800000</td>\n",
       "      <td>0.625000</td>\n",
       "    </tr>\n",
       "    <tr>\n",
       "      <th>1723</th>\n",
       "      <td>25</td>\n",
       "      <td>24</td>\n",
       "      <td>3</td>\n",
       "      <td>15</td>\n",
       "      <td>6</td>\n",
       "      <td>25</td>\n",
       "      <td>14</td>\n",
       "      <td>0.560000</td>\n",
       "      <td>21</td>\n",
       "      <td>0.285714</td>\n",
       "      <td>0.840000</td>\n",
       "    </tr>\n",
       "    <tr>\n",
       "      <th>1810</th>\n",
       "      <td>14</td>\n",
       "      <td>6</td>\n",
       "      <td>0</td>\n",
       "      <td>6</td>\n",
       "      <td>0</td>\n",
       "      <td>8</td>\n",
       "      <td>1</td>\n",
       "      <td>0.125000</td>\n",
       "      <td>6</td>\n",
       "      <td>0.000000</td>\n",
       "      <td>0.428571</td>\n",
       "    </tr>\n",
       "    <tr>\n",
       "      <th>2781</th>\n",
       "      <td>8</td>\n",
       "      <td>8</td>\n",
       "      <td>1</td>\n",
       "      <td>5</td>\n",
       "      <td>1</td>\n",
       "      <td>8</td>\n",
       "      <td>5</td>\n",
       "      <td>0.625000</td>\n",
       "      <td>6</td>\n",
       "      <td>0.166667</td>\n",
       "      <td>0.750000</td>\n",
       "    </tr>\n",
       "    <tr>\n",
       "      <th>2863</th>\n",
       "      <td>6</td>\n",
       "      <td>6</td>\n",
       "      <td>0</td>\n",
       "      <td>6</td>\n",
       "      <td>0</td>\n",
       "      <td>6</td>\n",
       "      <td>4</td>\n",
       "      <td>0.666667</td>\n",
       "      <td>6</td>\n",
       "      <td>0.000000</td>\n",
       "      <td>1.000000</td>\n",
       "    </tr>\n",
       "  </tbody>\n",
       "</table>\n",
       "</div>"
      ],
      "text/plain": [
       "          count  linked  ambiguous  male  female  dcknown  dcyes    PropDC  \\\n",
       "Set user                                                                     \n",
       "AZ  529       8       8          2     1       4        8      3  0.375000   \n",
       "    1723     25      24          3    15       6       25     14  0.560000   \n",
       "    1810     14       6          0     6       0        8      1  0.125000   \n",
       "    2781      8       8          1     5       1        8      5  0.625000   \n",
       "    2863      6       6          0     6       0        6      4  0.666667   \n",
       "\n",
       "          Known  PropFemale  PropKnown  \n",
       "Set user                                \n",
       "AZ  529       5    0.800000   0.625000  \n",
       "    1723     21    0.285714   0.840000  \n",
       "    1810      6    0.000000   0.428571  \n",
       "    2781      6    0.166667   0.750000  \n",
       "    2863      6    0.000000   1.000000  "
      ]
     },
     "execution_count": 14,
     "metadata": {},
     "output_type": "execute_result"
    }
   ],
   "source": [
    "profiles = pd.read_pickle('data/profile-data.pkl')\n",
    "profiles.head()"
   ]
  },
  {
   "cell_type": "markdown",
   "metadata": {
    "papermill": {
     "duration": 0.017001,
     "end_time": "2020-05-12T09:24:59.820391",
     "exception": false,
     "start_time": "2020-05-12T09:24:59.803390",
     "status": "completed"
    },
    "tags": []
   },
   "source": [
    "For each sample, we want to sample a predicted observation.  We do this by:\n",
    "\n",
    "1. Sample $n'$ from the observed profile sizes\n",
    "2. Sample $y' \\sim \\mathrm{Binomial}(n', \\theta')$\n",
    "3. Compute $y'/n'$"
   ]
  },
  {
   "cell_type": "code",
   "execution_count": 15,
   "metadata": {
    "papermill": {
     "duration": 0.043995,
     "end_time": "2020-05-12T09:24:59.881417",
     "exception": false,
     "start_time": "2020-05-12T09:24:59.837422",
     "status": "completed"
    },
    "tags": []
   },
   "outputs": [
    {
     "data": {
      "text/plain": [
       "Set       \n",
       "AZ    0         6\n",
       "      1         5\n",
       "      2         9\n",
       "      3         8\n",
       "      4        22\n",
       "             ... \n",
       "GR-I  9995    124\n",
       "      9996     27\n",
       "      9997    338\n",
       "      9998     33\n",
       "      9999     37\n",
       "Length: 50000, dtype: int32"
      ]
     },
     "execution_count": 15,
     "metadata": {},
     "output_type": "execute_result"
    }
   ],
   "source": [
    "def _sample_ns(df):\n",
    "    known = profiles.loc[df.name, 'Known']\n",
    "    # return known.sample(len(df), replace=True).reset_index(drop=True)\n",
    "    return pd.Series(rng.choice(known, len(df)))\n",
    "samp_df.groupby('Set').apply(_sample_ns).stack()"
   ]
  },
  {
   "cell_type": "code",
   "execution_count": 16,
   "metadata": {
    "papermill": {
     "duration": 0.063,
     "end_time": "2020-05-12T09:24:59.962388",
     "exception": false,
     "start_time": "2020-05-12T09:24:59.899388",
     "status": "completed"
    },
    "tags": []
   },
   "outputs": [
    {
     "data": {
      "text/html": [
       "<div>\n",
       "<style scoped>\n",
       "    .dataframe tbody tr th:only-of-type {\n",
       "        vertical-align: middle;\n",
       "    }\n",
       "\n",
       "    .dataframe tbody tr th {\n",
       "        vertical-align: top;\n",
       "    }\n",
       "\n",
       "    .dataframe thead th {\n",
       "        text-align: right;\n",
       "    }\n",
       "</style>\n",
       "<table border=\"1\" class=\"dataframe\">\n",
       "  <thead>\n",
       "    <tr style=\"text-align: right;\">\n",
       "      <th></th>\n",
       "      <th></th>\n",
       "      <th>Mu</th>\n",
       "      <th>Sigma</th>\n",
       "      <th>Theta</th>\n",
       "      <th>N</th>\n",
       "      <th>Y</th>\n",
       "      <th>PropFemale</th>\n",
       "    </tr>\n",
       "    <tr>\n",
       "      <th>Set</th>\n",
       "      <th></th>\n",
       "      <th></th>\n",
       "      <th></th>\n",
       "      <th></th>\n",
       "      <th></th>\n",
       "      <th></th>\n",
       "      <th></th>\n",
       "    </tr>\n",
       "  </thead>\n",
       "  <tbody>\n",
       "    <tr>\n",
       "      <th rowspan=\"5\" valign=\"top\">AZ</th>\n",
       "      <th>0</th>\n",
       "      <td>-0.517427</td>\n",
       "      <td>1.89591</td>\n",
       "      <td>0.074957</td>\n",
       "      <td>5</td>\n",
       "      <td>1</td>\n",
       "      <td>0.200000</td>\n",
       "    </tr>\n",
       "    <tr>\n",
       "      <th>1</th>\n",
       "      <td>-0.549932</td>\n",
       "      <td>1.88656</td>\n",
       "      <td>0.195367</td>\n",
       "      <td>17</td>\n",
       "      <td>3</td>\n",
       "      <td>0.176471</td>\n",
       "    </tr>\n",
       "    <tr>\n",
       "      <th>2</th>\n",
       "      <td>-0.494122</td>\n",
       "      <td>1.86783</td>\n",
       "      <td>0.692173</td>\n",
       "      <td>17</td>\n",
       "      <td>13</td>\n",
       "      <td>0.764706</td>\n",
       "    </tr>\n",
       "    <tr>\n",
       "      <th>3</th>\n",
       "      <td>-0.558269</td>\n",
       "      <td>1.89490</td>\n",
       "      <td>0.170902</td>\n",
       "      <td>44</td>\n",
       "      <td>6</td>\n",
       "      <td>0.136364</td>\n",
       "    </tr>\n",
       "    <tr>\n",
       "      <th>4</th>\n",
       "      <td>-0.460593</td>\n",
       "      <td>1.86343</td>\n",
       "      <td>0.347322</td>\n",
       "      <td>11</td>\n",
       "      <td>3</td>\n",
       "      <td>0.272727</td>\n",
       "    </tr>\n",
       "  </tbody>\n",
       "</table>\n",
       "</div>"
      ],
      "text/plain": [
       "             Mu    Sigma     Theta   N   Y  PropFemale\n",
       "Set                                                   \n",
       "AZ  0 -0.517427  1.89591  0.074957   5   1    0.200000\n",
       "    1 -0.549932  1.88656  0.195367  17   3    0.176471\n",
       "    2 -0.494122  1.86783  0.692173  17  13    0.764706\n",
       "    3 -0.558269  1.89490  0.170902  44   6    0.136364\n",
       "    4 -0.460593  1.86343  0.347322  11   3    0.272727"
      ]
     },
     "execution_count": 16,
     "metadata": {},
     "output_type": "execute_result"
    }
   ],
   "source": [
    "samp_df['N'] = samp_df.groupby('Set').apply(_sample_ns).stack()\n",
    "samp_df['Y'] = rng.binomial(samp_df['N'], samp_df['Theta'], len(samp_df))\n",
    "samp_df['PropFemale'] = samp_df['Y'] / samp_df['N']\n",
    "samp_df.head()"
   ]
  },
  {
   "cell_type": "markdown",
   "metadata": {
    "papermill": {
     "duration": 0.018013,
     "end_time": "2020-05-12T09:24:59.997400",
     "exception": false,
     "start_time": "2020-05-12T09:24:59.979387",
     "status": "completed"
    },
    "tags": []
   },
   "source": [
    "## Summarize Statistics and Parameters"
   ]
  },
  {
   "cell_type": "markdown",
   "metadata": {
    "papermill": {
     "duration": 0.018,
     "end_time": "2020-05-12T09:25:00.034387",
     "exception": false,
     "start_time": "2020-05-12T09:25:00.016387",
     "status": "completed"
    },
    "tags": []
   },
   "source": [
    "We want to report summary statistics of the various parameters.  We will start with observed ratios:"
   ]
  },
  {
   "cell_type": "code",
   "execution_count": 17,
   "metadata": {
    "papermill": {
     "duration": 0.031001,
     "end_time": "2020-05-12T09:25:00.082387",
     "exception": false,
     "start_time": "2020-05-12T09:25:00.051386",
     "status": "completed"
    },
    "tags": []
   },
   "outputs": [
    {
     "data": {
      "text/html": [
       "<div>\n",
       "<style scoped>\n",
       "    .dataframe tbody tr th:only-of-type {\n",
       "        vertical-align: middle;\n",
       "    }\n",
       "\n",
       "    .dataframe tbody tr th {\n",
       "        vertical-align: top;\n",
       "    }\n",
       "\n",
       "    .dataframe thead th {\n",
       "        text-align: right;\n",
       "    }\n",
       "</style>\n",
       "<table border=\"1\" class=\"dataframe\">\n",
       "  <thead>\n",
       "    <tr style=\"text-align: right;\">\n",
       "      <th>Set</th>\n",
       "      <th>AZ</th>\n",
       "      <th>BX-E</th>\n",
       "      <th>BX-I</th>\n",
       "      <th>GR-E</th>\n",
       "      <th>GR-I</th>\n",
       "    </tr>\n",
       "  </thead>\n",
       "  <tbody>\n",
       "    <tr>\n",
       "      <th>mean</th>\n",
       "      <td>0.414445</td>\n",
       "      <td>0.418886</td>\n",
       "      <td>0.407030</td>\n",
       "      <td>0.446998</td>\n",
       "      <td>0.450201</td>\n",
       "    </tr>\n",
       "    <tr>\n",
       "      <th>std</th>\n",
       "      <td>0.329436</td>\n",
       "      <td>0.267354</td>\n",
       "      <td>0.254304</td>\n",
       "      <td>0.276480</td>\n",
       "      <td>0.269127</td>\n",
       "    </tr>\n",
       "  </tbody>\n",
       "</table>\n",
       "</div>"
      ],
      "text/plain": [
       "Set         AZ      BX-E      BX-I      GR-E      GR-I\n",
       "mean  0.414445  0.418886  0.407030  0.446998  0.450201\n",
       "std   0.329436  0.267354  0.254304  0.276480  0.269127"
      ]
     },
     "execution_count": 17,
     "metadata": {},
     "output_type": "execute_result"
    }
   ],
   "source": [
    "profiles.groupby('Set')['PropFemale'].agg(['mean', 'std']).T"
   ]
  },
  {
   "cell_type": "code",
   "execution_count": 18,
   "metadata": {
    "papermill": {
     "duration": 0.033998,
     "end_time": "2020-05-12T09:25:00.140384",
     "exception": false,
     "start_time": "2020-05-12T09:25:00.106386",
     "status": "completed"
    },
    "tags": []
   },
   "outputs": [
    {
     "name": "stdout",
     "output_type": "stream",
     "text": [
      "\\begin{tabular}{lrrrrr}\n",
      "\\toprule\n",
      "Set &    AZ &  BX-E &  BX-I &  GR-E &  GR-I \\\\\n",
      "\\midrule\n",
      "mean & 0.414 & 0.419 & 0.407 & 0.447 & 0.450 \\\\\n",
      "std  & 0.329 & 0.267 & 0.254 & 0.276 & 0.269 \\\\\n",
      "\\bottomrule\n",
      "\\end{tabular}\n",
      "\n"
     ]
    }
   ],
   "source": [
    "print(profiles.groupby('Set')['PropFemale'].agg(['mean', 'std']).T.to_latex(float_format='%.3f'))"
   ]
  },
  {
   "cell_type": "markdown",
   "metadata": {
    "papermill": {
     "duration": 0.017999,
     "end_time": "2020-05-12T09:25:00.177384",
     "exception": false,
     "start_time": "2020-05-12T09:25:00.159385",
     "status": "completed"
    },
    "tags": []
   },
   "source": [
    "What about our est. mean log odds ($\\mu$) and variance ($\\sigma$)?  We also want to the posterior mean tendancy ($\\theta$) and its variance.\n",
    "\n",
    "It's important to distinguish between the *estimated variance of users* ($\\sigma$) and the *variance of the estimate* (e.g. the variance of $\\mu$). Since $\\theta$ is a sample of a random unseen user, its variance should be comparable to the variance of the underlying users."
   ]
  },
  {
   "cell_type": "code",
   "execution_count": 19,
   "metadata": {
    "papermill": {
     "duration": 0.043999,
     "end_time": "2020-05-12T09:25:00.240384",
     "exception": false,
     "start_time": "2020-05-12T09:25:00.196385",
     "status": "completed"
    },
    "tags": []
   },
   "outputs": [
    {
     "data": {
      "text/html": [
       "<div>\n",
       "<style scoped>\n",
       "    .dataframe tbody tr th:only-of-type {\n",
       "        vertical-align: middle;\n",
       "    }\n",
       "\n",
       "    .dataframe tbody tr th {\n",
       "        vertical-align: top;\n",
       "    }\n",
       "\n",
       "    .dataframe thead th {\n",
       "        text-align: right;\n",
       "    }\n",
       "</style>\n",
       "<table border=\"1\" class=\"dataframe\">\n",
       "  <thead>\n",
       "    <tr style=\"text-align: right;\">\n",
       "      <th></th>\n",
       "      <th>Set</th>\n",
       "      <th>AZ</th>\n",
       "      <th>BX-E</th>\n",
       "      <th>BX-I</th>\n",
       "      <th>GR-E</th>\n",
       "      <th>GR-I</th>\n",
       "    </tr>\n",
       "  </thead>\n",
       "  <tbody>\n",
       "    <tr>\n",
       "      <th rowspan=\"2\" valign=\"top\">Mu</th>\n",
       "      <th>mean</th>\n",
       "      <td>-0.514324</td>\n",
       "      <td>-0.399788</td>\n",
       "      <td>-0.443699</td>\n",
       "      <td>-0.273188</td>\n",
       "      <td>-0.254082</td>\n",
       "    </tr>\n",
       "    <tr>\n",
       "      <th>std</th>\n",
       "      <td>0.030539</td>\n",
       "      <td>0.019782</td>\n",
       "      <td>0.018357</td>\n",
       "      <td>0.022253</td>\n",
       "      <td>0.021304</td>\n",
       "    </tr>\n",
       "    <tr>\n",
       "      <th rowspan=\"2\" valign=\"top\">Sigma</th>\n",
       "      <th>mean</th>\n",
       "      <td>1.875065</td>\n",
       "      <td>1.185700</td>\n",
       "      <td>1.083546</td>\n",
       "      <td>1.498579</td>\n",
       "      <td>1.444677</td>\n",
       "    </tr>\n",
       "    <tr>\n",
       "      <th>std</th>\n",
       "      <td>0.030105</td>\n",
       "      <td>0.018620</td>\n",
       "      <td>0.016934</td>\n",
       "      <td>0.018377</td>\n",
       "      <td>0.016772</td>\n",
       "    </tr>\n",
       "    <tr>\n",
       "      <th rowspan=\"2\" valign=\"top\">Theta</th>\n",
       "      <th>mean</th>\n",
       "      <td>0.422618</td>\n",
       "      <td>0.422504</td>\n",
       "      <td>0.412017</td>\n",
       "      <td>0.451731</td>\n",
       "      <td>0.452796</td>\n",
       "    </tr>\n",
       "    <tr>\n",
       "      <th>std</th>\n",
       "      <td>0.300345</td>\n",
       "      <td>0.230205</td>\n",
       "      <td>0.214590</td>\n",
       "      <td>0.267270</td>\n",
       "      <td>0.261241</td>\n",
       "    </tr>\n",
       "  </tbody>\n",
       "</table>\n",
       "</div>"
      ],
      "text/plain": [
       "Set               AZ      BX-E      BX-I      GR-E      GR-I\n",
       "Mu    mean -0.514324 -0.399788 -0.443699 -0.273188 -0.254082\n",
       "      std   0.030539  0.019782  0.018357  0.022253  0.021304\n",
       "Sigma mean  1.875065  1.185700  1.083546  1.498579  1.444677\n",
       "      std   0.030105  0.018620  0.016934  0.018377  0.016772\n",
       "Theta mean  0.422618  0.422504  0.412017  0.451731  0.452796\n",
       "      std   0.300345  0.230205  0.214590  0.267270  0.261241"
      ]
     },
     "execution_count": 19,
     "metadata": {},
     "output_type": "execute_result"
    }
   ],
   "source": [
    "samp_df.groupby('Set')[['Mu', 'Sigma', 'Theta']].agg(['mean', 'std']).T"
   ]
  },
  {
   "cell_type": "markdown",
   "metadata": {
    "papermill": {
     "duration": 0.018993,
     "end_time": "2020-05-12T09:25:00.278383",
     "exception": false,
     "start_time": "2020-05-12T09:25:00.259390",
     "status": "completed"
    },
    "tags": []
   },
   "source": [
    "Find the 95% confidence intervals of $\\mu$:"
   ]
  },
  {
   "cell_type": "code",
   "execution_count": 20,
   "metadata": {
    "papermill": {
     "duration": 0.038,
     "end_time": "2020-05-12T09:25:00.334382",
     "exception": false,
     "start_time": "2020-05-12T09:25:00.296382",
     "status": "completed"
    },
    "tags": []
   },
   "outputs": [
    {
     "data": {
      "text/html": [
       "<div>\n",
       "<style scoped>\n",
       "    .dataframe tbody tr th:only-of-type {\n",
       "        vertical-align: middle;\n",
       "    }\n",
       "\n",
       "    .dataframe tbody tr th {\n",
       "        vertical-align: top;\n",
       "    }\n",
       "\n",
       "    .dataframe thead th {\n",
       "        text-align: right;\n",
       "    }\n",
       "</style>\n",
       "<table border=\"1\" class=\"dataframe\">\n",
       "  <thead>\n",
       "    <tr style=\"text-align: right;\">\n",
       "      <th></th>\n",
       "      <th>Low</th>\n",
       "      <th>High</th>\n",
       "    </tr>\n",
       "    <tr>\n",
       "      <th>Set</th>\n",
       "      <th></th>\n",
       "      <th></th>\n",
       "    </tr>\n",
       "  </thead>\n",
       "  <tbody>\n",
       "    <tr>\n",
       "      <th>AZ</th>\n",
       "      <td>-0.575250</td>\n",
       "      <td>-0.455224</td>\n",
       "    </tr>\n",
       "    <tr>\n",
       "      <th>BX-E</th>\n",
       "      <td>-0.439076</td>\n",
       "      <td>-0.361210</td>\n",
       "    </tr>\n",
       "    <tr>\n",
       "      <th>BX-I</th>\n",
       "      <td>-0.479702</td>\n",
       "      <td>-0.407404</td>\n",
       "    </tr>\n",
       "    <tr>\n",
       "      <th>GR-E</th>\n",
       "      <td>-0.316602</td>\n",
       "      <td>-0.229702</td>\n",
       "    </tr>\n",
       "    <tr>\n",
       "      <th>GR-I</th>\n",
       "      <td>-0.295727</td>\n",
       "      <td>-0.212234</td>\n",
       "    </tr>\n",
       "  </tbody>\n",
       "</table>\n",
       "</div>"
      ],
      "text/plain": [
       "           Low      High\n",
       "Set                     \n",
       "AZ   -0.575250 -0.455224\n",
       "BX-E -0.439076 -0.361210\n",
       "BX-I -0.479702 -0.407404\n",
       "GR-E -0.316602 -0.229702\n",
       "GR-I -0.295727 -0.212234"
      ]
     },
     "execution_count": 20,
     "metadata": {},
     "output_type": "execute_result"
    }
   ],
   "source": [
    "samp_df.groupby('Set')['Mu'].apply(lambda s: {\n",
    "    'Low': s.quantile(0.025),\n",
    "    'High': s.quantile(0.975)\n",
    "}).unstack()"
   ]
  },
  {
   "cell_type": "markdown",
   "metadata": {
    "papermill": {
     "duration": 0.017998,
     "end_time": "2020-05-12T09:25:00.371380",
     "exception": false,
     "start_time": "2020-05-12T09:25:00.353382",
     "status": "completed"
    },
    "tags": []
   },
   "source": [
    "Let's look at the STAN summary output for these parameters too:"
   ]
  },
  {
   "cell_type": "code",
   "execution_count": 21,
   "metadata": {
    "papermill": {
     "duration": 0.030969,
     "end_time": "2020-05-12T09:25:00.421381",
     "exception": false,
     "start_time": "2020-05-12T09:25:00.390412",
     "status": "completed"
    },
    "tags": []
   },
   "outputs": [
    {
     "data": {
      "text/html": [
       "<div>\n",
       "<style scoped>\n",
       "    .dataframe tbody tr th:only-of-type {\n",
       "        vertical-align: middle;\n",
       "    }\n",
       "\n",
       "    .dataframe tbody tr th {\n",
       "        vertical-align: top;\n",
       "    }\n",
       "\n",
       "    .dataframe thead th {\n",
       "        text-align: right;\n",
       "    }\n",
       "</style>\n",
       "<table border=\"1\" class=\"dataframe\">\n",
       "  <thead>\n",
       "    <tr style=\"text-align: right;\">\n",
       "      <th>Set</th>\n",
       "      <th>AZ</th>\n",
       "      <th>BX-E</th>\n",
       "      <th>BX-I</th>\n",
       "      <th>GR-E</th>\n",
       "      <th>GR-I</th>\n",
       "    </tr>\n",
       "  </thead>\n",
       "  <tbody>\n",
       "    <tr>\n",
       "      <th>Mean</th>\n",
       "      <td>-0.514324</td>\n",
       "      <td>-0.399788</td>\n",
       "      <td>-0.443699</td>\n",
       "      <td>-0.273188</td>\n",
       "      <td>-0.254082</td>\n",
       "    </tr>\n",
       "    <tr>\n",
       "      <th>StdDev</th>\n",
       "      <td>0.030539</td>\n",
       "      <td>0.019782</td>\n",
       "      <td>0.018357</td>\n",
       "      <td>0.022253</td>\n",
       "      <td>0.021304</td>\n",
       "    </tr>\n",
       "    <tr>\n",
       "      <th>5%</th>\n",
       "      <td>-0.564679</td>\n",
       "      <td>-0.432862</td>\n",
       "      <td>-0.473772</td>\n",
       "      <td>-0.309588</td>\n",
       "      <td>-0.288754</td>\n",
       "    </tr>\n",
       "    <tr>\n",
       "      <th>95%</th>\n",
       "      <td>-0.464619</td>\n",
       "      <td>-0.367577</td>\n",
       "      <td>-0.413480</td>\n",
       "      <td>-0.236570</td>\n",
       "      <td>-0.219111</td>\n",
       "    </tr>\n",
       "  </tbody>\n",
       "</table>\n",
       "</div>"
      ],
      "text/plain": [
       "Set           AZ      BX-E      BX-I      GR-E      GR-I\n",
       "Mean   -0.514324 -0.399788 -0.443699 -0.273188 -0.254082\n",
       "StdDev  0.030539  0.019782  0.018357  0.022253  0.021304\n",
       "5%     -0.564679 -0.432862 -0.473772 -0.309588 -0.288754\n",
       "95%    -0.464619 -0.367577 -0.413480 -0.236570 -0.219111"
      ]
     },
     "execution_count": 21,
     "metadata": {},
     "output_type": "execute_result"
    }
   ],
   "source": [
    "summary.swaplevel().loc['mu', ['Mean', 'StdDev', '5%', '95%']].T"
   ]
  },
  {
   "cell_type": "code",
   "execution_count": 22,
   "metadata": {
    "papermill": {
     "duration": 0.032,
     "end_time": "2020-05-12T09:25:00.473380",
     "exception": false,
     "start_time": "2020-05-12T09:25:00.441380",
     "status": "completed"
    },
    "tags": []
   },
   "outputs": [
    {
     "data": {
      "text/html": [
       "<div>\n",
       "<style scoped>\n",
       "    .dataframe tbody tr th:only-of-type {\n",
       "        vertical-align: middle;\n",
       "    }\n",
       "\n",
       "    .dataframe tbody tr th {\n",
       "        vertical-align: top;\n",
       "    }\n",
       "\n",
       "    .dataframe thead th {\n",
       "        text-align: right;\n",
       "    }\n",
       "</style>\n",
       "<table border=\"1\" class=\"dataframe\">\n",
       "  <thead>\n",
       "    <tr style=\"text-align: right;\">\n",
       "      <th>Set</th>\n",
       "      <th>AZ</th>\n",
       "      <th>BX-E</th>\n",
       "      <th>BX-I</th>\n",
       "      <th>GR-E</th>\n",
       "      <th>GR-I</th>\n",
       "    </tr>\n",
       "  </thead>\n",
       "  <tbody>\n",
       "    <tr>\n",
       "      <th>Mean</th>\n",
       "      <td>1.875070</td>\n",
       "      <td>1.185700</td>\n",
       "      <td>1.083550</td>\n",
       "      <td>1.498580</td>\n",
       "      <td>1.444680</td>\n",
       "    </tr>\n",
       "    <tr>\n",
       "      <th>StdDev</th>\n",
       "      <td>0.030105</td>\n",
       "      <td>0.018621</td>\n",
       "      <td>0.016934</td>\n",
       "      <td>0.018377</td>\n",
       "      <td>0.016772</td>\n",
       "    </tr>\n",
       "    <tr>\n",
       "      <th>5%</th>\n",
       "      <td>1.825890</td>\n",
       "      <td>1.155360</td>\n",
       "      <td>1.055850</td>\n",
       "      <td>1.468210</td>\n",
       "      <td>1.417360</td>\n",
       "    </tr>\n",
       "    <tr>\n",
       "      <th>95%</th>\n",
       "      <td>1.925420</td>\n",
       "      <td>1.216610</td>\n",
       "      <td>1.111790</td>\n",
       "      <td>1.529110</td>\n",
       "      <td>1.472570</td>\n",
       "    </tr>\n",
       "  </tbody>\n",
       "</table>\n",
       "</div>"
      ],
      "text/plain": [
       "Set           AZ      BX-E      BX-I      GR-E      GR-I\n",
       "Mean    1.875070  1.185700  1.083550  1.498580  1.444680\n",
       "StdDev  0.030105  0.018621  0.016934  0.018377  0.016772\n",
       "5%      1.825890  1.155360  1.055850  1.468210  1.417360\n",
       "95%     1.925420  1.216610  1.111790  1.529110  1.472570"
      ]
     },
     "execution_count": 22,
     "metadata": {},
     "output_type": "execute_result"
    }
   ],
   "source": [
    "summary.swaplevel().loc['sigma', ['Mean', 'StdDev', '5%', '95%']].T"
   ]
  },
  {
   "cell_type": "code",
   "execution_count": 23,
   "metadata": {
    "papermill": {
     "duration": 0.031049,
     "end_time": "2020-05-12T09:25:00.523430",
     "exception": false,
     "start_time": "2020-05-12T09:25:00.492381",
     "status": "completed"
    },
    "tags": []
   },
   "outputs": [
    {
     "data": {
      "text/html": [
       "<div>\n",
       "<style scoped>\n",
       "    .dataframe tbody tr th:only-of-type {\n",
       "        vertical-align: middle;\n",
       "    }\n",
       "\n",
       "    .dataframe tbody tr th {\n",
       "        vertical-align: top;\n",
       "    }\n",
       "\n",
       "    .dataframe thead th {\n",
       "        text-align: right;\n",
       "    }\n",
       "</style>\n",
       "<table border=\"1\" class=\"dataframe\">\n",
       "  <thead>\n",
       "    <tr style=\"text-align: right;\">\n",
       "      <th>Set</th>\n",
       "      <th>AZ</th>\n",
       "      <th>BX-E</th>\n",
       "      <th>BX-I</th>\n",
       "      <th>GR-E</th>\n",
       "      <th>GR-I</th>\n",
       "    </tr>\n",
       "  </thead>\n",
       "  <tbody>\n",
       "    <tr>\n",
       "      <th>Mean</th>\n",
       "      <td>0.422618</td>\n",
       "      <td>0.422504</td>\n",
       "      <td>0.412017</td>\n",
       "      <td>0.451731</td>\n",
       "      <td>0.452796</td>\n",
       "    </tr>\n",
       "    <tr>\n",
       "      <th>StdDev</th>\n",
       "      <td>0.300345</td>\n",
       "      <td>0.230205</td>\n",
       "      <td>0.214590</td>\n",
       "      <td>0.267270</td>\n",
       "      <td>0.261241</td>\n",
       "    </tr>\n",
       "    <tr>\n",
       "      <th>5%</th>\n",
       "      <td>0.027185</td>\n",
       "      <td>0.085766</td>\n",
       "      <td>0.096002</td>\n",
       "      <td>0.062607</td>\n",
       "      <td>0.068967</td>\n",
       "    </tr>\n",
       "    <tr>\n",
       "      <th>95%</th>\n",
       "      <td>0.926785</td>\n",
       "      <td>0.821006</td>\n",
       "      <td>0.790900</td>\n",
       "      <td>0.899438</td>\n",
       "      <td>0.892961</td>\n",
       "    </tr>\n",
       "  </tbody>\n",
       "</table>\n",
       "</div>"
      ],
      "text/plain": [
       "Set           AZ      BX-E      BX-I      GR-E      GR-I\n",
       "Mean    0.422618  0.422504  0.412017  0.451731  0.452796\n",
       "StdDev  0.300345  0.230205  0.214590  0.267270  0.261241\n",
       "5%      0.027185  0.085766  0.096002  0.062607  0.068967\n",
       "95%     0.926785  0.821006  0.790900  0.899438  0.892961"
      ]
     },
     "execution_count": 23,
     "metadata": {},
     "output_type": "execute_result"
    }
   ],
   "source": [
    "summary.swaplevel().loc['thetaP', ['Mean', 'StdDev', '5%', '95%']].T"
   ]
  },
  {
   "cell_type": "markdown",
   "metadata": {
    "papermill": {
     "duration": 0.019,
     "end_time": "2020-05-12T09:25:00.561409",
     "exception": false,
     "start_time": "2020-05-12T09:25:00.542409",
     "status": "completed"
    },
    "tags": []
   },
   "source": [
    "## Plot Distributions"
   ]
  },
  {
   "cell_type": "markdown",
   "metadata": {
    "papermill": {
     "duration": 0.022971,
     "end_time": "2020-05-12T09:25:00.609377",
     "exception": false,
     "start_time": "2020-05-12T09:25:00.586406",
     "status": "completed"
    },
    "tags": []
   },
   "source": [
    "Stack simulated proportions from two sources:"
   ]
  },
  {
   "cell_type": "code",
   "execution_count": 24,
   "metadata": {
    "papermill": {
     "duration": 0.049996,
     "end_time": "2020-05-12T09:25:00.680375",
     "exception": false,
     "start_time": "2020-05-12T09:25:00.630379",
     "status": "completed"
    },
    "tags": []
   },
   "outputs": [
    {
     "data": {
      "text/html": [
       "<div>\n",
       "<style scoped>\n",
       "    .dataframe tbody tr th:only-of-type {\n",
       "        vertical-align: middle;\n",
       "    }\n",
       "\n",
       "    .dataframe tbody tr th {\n",
       "        vertical-align: top;\n",
       "    }\n",
       "\n",
       "    .dataframe thead th {\n",
       "        text-align: right;\n",
       "    }\n",
       "</style>\n",
       "<table border=\"1\" class=\"dataframe\">\n",
       "  <thead>\n",
       "    <tr style=\"text-align: right;\">\n",
       "      <th></th>\n",
       "      <th>Set</th>\n",
       "      <th>Method</th>\n",
       "      <th>value</th>\n",
       "    </tr>\n",
       "  </thead>\n",
       "  <tbody>\n",
       "    <tr>\n",
       "      <th>0</th>\n",
       "      <td>AZ</td>\n",
       "      <td>Theta</td>\n",
       "      <td>0.074957</td>\n",
       "    </tr>\n",
       "    <tr>\n",
       "      <th>1</th>\n",
       "      <td>AZ</td>\n",
       "      <td>PropFemale</td>\n",
       "      <td>0.200000</td>\n",
       "    </tr>\n",
       "    <tr>\n",
       "      <th>2</th>\n",
       "      <td>AZ</td>\n",
       "      <td>Theta</td>\n",
       "      <td>0.195367</td>\n",
       "    </tr>\n",
       "    <tr>\n",
       "      <th>3</th>\n",
       "      <td>AZ</td>\n",
       "      <td>PropFemale</td>\n",
       "      <td>0.176471</td>\n",
       "    </tr>\n",
       "    <tr>\n",
       "      <th>4</th>\n",
       "      <td>AZ</td>\n",
       "      <td>Theta</td>\n",
       "      <td>0.692173</td>\n",
       "    </tr>\n",
       "  </tbody>\n",
       "</table>\n",
       "</div>"
      ],
      "text/plain": [
       "  Set      Method     value\n",
       "0  AZ       Theta  0.074957\n",
       "1  AZ  PropFemale  0.200000\n",
       "2  AZ       Theta  0.195367\n",
       "3  AZ  PropFemale  0.176471\n",
       "4  AZ       Theta  0.692173"
      ]
     },
     "execution_count": 24,
     "metadata": {},
     "output_type": "execute_result"
    }
   ],
   "source": [
    "simulated_prop = pd.DataFrame({'value': samp_df[['Theta', 'PropFemale']].stack()})\n",
    "simulated_prop.reset_index([0,2], inplace=True)\n",
    "simulated_prop['Set'] = simulated_prop['Set'].astype('category')\n",
    "simulated_prop.rename(columns={'level_2': 'Method'}, inplace=True)\n",
    "simulated_prop.reset_index(drop=True, inplace=True)\n",
    "simulated_prop.head()"
   ]
  },
  {
   "cell_type": "code",
   "execution_count": 25,
   "metadata": {
    "papermill": {
     "duration": 0.054,
     "end_time": "2020-05-12T09:25:00.757375",
     "exception": false,
     "start_time": "2020-05-12T09:25:00.703375",
     "status": "completed"
    },
    "tags": []
   },
   "outputs": [
    {
     "data": {
      "text/html": [
       "<div>\n",
       "<style scoped>\n",
       "    .dataframe tbody tr th:only-of-type {\n",
       "        vertical-align: middle;\n",
       "    }\n",
       "\n",
       "    .dataframe tbody tr th {\n",
       "        vertical-align: top;\n",
       "    }\n",
       "\n",
       "    .dataframe thead th {\n",
       "        text-align: right;\n",
       "    }\n",
       "</style>\n",
       "<table border=\"1\" class=\"dataframe\">\n",
       "  <thead>\n",
       "    <tr style=\"text-align: right;\">\n",
       "      <th></th>\n",
       "      <th>Set</th>\n",
       "      <th>Method</th>\n",
       "      <th>value</th>\n",
       "    </tr>\n",
       "  </thead>\n",
       "  <tbody>\n",
       "    <tr>\n",
       "      <th>0</th>\n",
       "      <td>AZ</td>\n",
       "      <td>Observed</td>\n",
       "      <td>0.000000</td>\n",
       "    </tr>\n",
       "    <tr>\n",
       "      <th>1</th>\n",
       "      <td>AZ</td>\n",
       "      <td>Observed</td>\n",
       "      <td>0.538462</td>\n",
       "    </tr>\n",
       "    <tr>\n",
       "      <th>2</th>\n",
       "      <td>AZ</td>\n",
       "      <td>Observed</td>\n",
       "      <td>1.000000</td>\n",
       "    </tr>\n",
       "    <tr>\n",
       "      <th>3</th>\n",
       "      <td>AZ</td>\n",
       "      <td>Observed</td>\n",
       "      <td>1.000000</td>\n",
       "    </tr>\n",
       "    <tr>\n",
       "      <th>4</th>\n",
       "      <td>AZ</td>\n",
       "      <td>Observed</td>\n",
       "      <td>0.666667</td>\n",
       "    </tr>\n",
       "  </tbody>\n",
       "</table>\n",
       "</div>"
      ],
      "text/plain": [
       "  Set    Method     value\n",
       "0  AZ  Observed  0.000000\n",
       "1  AZ  Observed  0.538462\n",
       "2  AZ  Observed  1.000000\n",
       "3  AZ  Observed  1.000000\n",
       "4  AZ  Observed  0.666667"
      ]
     },
     "execution_count": 25,
     "metadata": {},
     "output_type": "execute_result"
    }
   ],
   "source": [
    "obs_prop = profiles.groupby('Set').apply(lambda df: df['PropFemale'].sample(sample_size, replace=True))\n",
    "obs_prop.name = 'value'\n",
    "obs_prop = obs_prop.reset_index(0)\n",
    "obs_prop.reset_index(drop=True, inplace=True)\n",
    "obs_prop['Method'] = 'Observed'\n",
    "obs_prop = obs_prop[['Set', 'Method', 'value']]\n",
    "obs_prop.head()"
   ]
  },
  {
   "cell_type": "code",
   "execution_count": 26,
   "metadata": {
    "papermill": {
     "duration": 0.04,
     "end_time": "2020-05-12T09:25:00.817374",
     "exception": false,
     "start_time": "2020-05-12T09:25:00.777374",
     "status": "completed"
    },
    "tags": []
   },
   "outputs": [
    {
     "data": {
      "text/html": [
       "<div>\n",
       "<style scoped>\n",
       "    .dataframe tbody tr th:only-of-type {\n",
       "        vertical-align: middle;\n",
       "    }\n",
       "\n",
       "    .dataframe tbody tr th {\n",
       "        vertical-align: top;\n",
       "    }\n",
       "\n",
       "    .dataframe thead th {\n",
       "        text-align: right;\n",
       "    }\n",
       "</style>\n",
       "<table border=\"1\" class=\"dataframe\">\n",
       "  <thead>\n",
       "    <tr style=\"text-align: right;\">\n",
       "      <th></th>\n",
       "      <th>Set</th>\n",
       "      <th>Method</th>\n",
       "      <th>value</th>\n",
       "    </tr>\n",
       "  </thead>\n",
       "  <tbody>\n",
       "    <tr>\n",
       "      <th>0</th>\n",
       "      <td>AZ</td>\n",
       "      <td>Smoothed</td>\n",
       "      <td>0.074957</td>\n",
       "    </tr>\n",
       "    <tr>\n",
       "      <th>1</th>\n",
       "      <td>AZ</td>\n",
       "      <td>Predicted y/n</td>\n",
       "      <td>0.200000</td>\n",
       "    </tr>\n",
       "    <tr>\n",
       "      <th>2</th>\n",
       "      <td>AZ</td>\n",
       "      <td>Smoothed</td>\n",
       "      <td>0.195367</td>\n",
       "    </tr>\n",
       "    <tr>\n",
       "      <th>3</th>\n",
       "      <td>AZ</td>\n",
       "      <td>Predicted y/n</td>\n",
       "      <td>0.176471</td>\n",
       "    </tr>\n",
       "    <tr>\n",
       "      <th>4</th>\n",
       "      <td>AZ</td>\n",
       "      <td>Smoothed</td>\n",
       "      <td>0.692173</td>\n",
       "    </tr>\n",
       "  </tbody>\n",
       "</table>\n",
       "</div>"
      ],
      "text/plain": [
       "  Set         Method     value\n",
       "0  AZ       Smoothed  0.074957\n",
       "1  AZ  Predicted y/n  0.200000\n",
       "2  AZ       Smoothed  0.195367\n",
       "3  AZ  Predicted y/n  0.176471\n",
       "4  AZ       Smoothed  0.692173"
      ]
     },
     "execution_count": 26,
     "metadata": {},
     "output_type": "execute_result"
    }
   ],
   "source": [
    "all_prop = pd.concat([simulated_prop, obs_prop], ignore_index=True)\n",
    "all_prop['Method'] = all_prop['Method'].astype('category')\n",
    "all_prop['Method'].cat.reorder_categories(['Theta', 'PropFemale', 'Observed'], inplace=True)\n",
    "all_prop['Method'].cat.rename_categories({'Theta': 'Smoothed', 'PropFemale': 'Predicted y/n', 'Observed': 'Observed y/n'}, inplace=True)\n",
    "all_prop.head()"
   ]
  },
  {
   "cell_type": "markdown",
   "metadata": {
    "papermill": {
     "duration": 0.02,
     "end_time": "2020-05-12T09:25:00.857373",
     "exception": false,
     "start_time": "2020-05-12T09:25:00.837373",
     "status": "completed"
    },
    "tags": []
   },
   "source": [
    "We want the mean for each method to show:"
   ]
  },
  {
   "cell_type": "code",
   "execution_count": 27,
   "metadata": {
    "papermill": {
     "duration": 0.045,
     "end_time": "2020-05-12T09:25:00.924372",
     "exception": false,
     "start_time": "2020-05-12T09:25:00.879372",
     "status": "completed"
    },
    "tags": []
   },
   "outputs": [
    {
     "data": {
      "text/html": [
       "<div>\n",
       "<style scoped>\n",
       "    .dataframe tbody tr th:only-of-type {\n",
       "        vertical-align: middle;\n",
       "    }\n",
       "\n",
       "    .dataframe tbody tr th {\n",
       "        vertical-align: top;\n",
       "    }\n",
       "\n",
       "    .dataframe thead th {\n",
       "        text-align: right;\n",
       "    }\n",
       "</style>\n",
       "<table border=\"1\" class=\"dataframe\">\n",
       "  <thead>\n",
       "    <tr style=\"text-align: right;\">\n",
       "      <th></th>\n",
       "      <th>Set</th>\n",
       "      <th>Method</th>\n",
       "      <th>value</th>\n",
       "    </tr>\n",
       "  </thead>\n",
       "  <tbody>\n",
       "    <tr>\n",
       "      <th>0</th>\n",
       "      <td>AZ</td>\n",
       "      <td>Smoothed</td>\n",
       "      <td>0.422618</td>\n",
       "    </tr>\n",
       "    <tr>\n",
       "      <th>1</th>\n",
       "      <td>AZ</td>\n",
       "      <td>Predicted y/n</td>\n",
       "      <td>0.422601</td>\n",
       "    </tr>\n",
       "    <tr>\n",
       "      <th>2</th>\n",
       "      <td>AZ</td>\n",
       "      <td>Observed y/n</td>\n",
       "      <td>0.415334</td>\n",
       "    </tr>\n",
       "    <tr>\n",
       "      <th>3</th>\n",
       "      <td>BX-E</td>\n",
       "      <td>Smoothed</td>\n",
       "      <td>0.422504</td>\n",
       "    </tr>\n",
       "    <tr>\n",
       "      <th>4</th>\n",
       "      <td>BX-E</td>\n",
       "      <td>Predicted y/n</td>\n",
       "      <td>0.422523</td>\n",
       "    </tr>\n",
       "    <tr>\n",
       "      <th>5</th>\n",
       "      <td>BX-E</td>\n",
       "      <td>Observed y/n</td>\n",
       "      <td>0.417955</td>\n",
       "    </tr>\n",
       "    <tr>\n",
       "      <th>6</th>\n",
       "      <td>BX-I</td>\n",
       "      <td>Smoothed</td>\n",
       "      <td>0.412017</td>\n",
       "    </tr>\n",
       "    <tr>\n",
       "      <th>7</th>\n",
       "      <td>BX-I</td>\n",
       "      <td>Predicted y/n</td>\n",
       "      <td>0.411594</td>\n",
       "    </tr>\n",
       "    <tr>\n",
       "      <th>8</th>\n",
       "      <td>BX-I</td>\n",
       "      <td>Observed y/n</td>\n",
       "      <td>0.410036</td>\n",
       "    </tr>\n",
       "    <tr>\n",
       "      <th>9</th>\n",
       "      <td>GR-E</td>\n",
       "      <td>Smoothed</td>\n",
       "      <td>0.451731</td>\n",
       "    </tr>\n",
       "    <tr>\n",
       "      <th>10</th>\n",
       "      <td>GR-E</td>\n",
       "      <td>Predicted y/n</td>\n",
       "      <td>0.453571</td>\n",
       "    </tr>\n",
       "    <tr>\n",
       "      <th>11</th>\n",
       "      <td>GR-E</td>\n",
       "      <td>Observed y/n</td>\n",
       "      <td>0.444459</td>\n",
       "    </tr>\n",
       "    <tr>\n",
       "      <th>12</th>\n",
       "      <td>GR-I</td>\n",
       "      <td>Smoothed</td>\n",
       "      <td>0.452796</td>\n",
       "    </tr>\n",
       "    <tr>\n",
       "      <th>13</th>\n",
       "      <td>GR-I</td>\n",
       "      <td>Predicted y/n</td>\n",
       "      <td>0.451868</td>\n",
       "    </tr>\n",
       "    <tr>\n",
       "      <th>14</th>\n",
       "      <td>GR-I</td>\n",
       "      <td>Observed y/n</td>\n",
       "      <td>0.446730</td>\n",
       "    </tr>\n",
       "  </tbody>\n",
       "</table>\n",
       "</div>"
      ],
      "text/plain": [
       "     Set         Method     value\n",
       "0     AZ       Smoothed  0.422618\n",
       "1     AZ  Predicted y/n  0.422601\n",
       "2     AZ   Observed y/n  0.415334\n",
       "3   BX-E       Smoothed  0.422504\n",
       "4   BX-E  Predicted y/n  0.422523\n",
       "5   BX-E   Observed y/n  0.417955\n",
       "6   BX-I       Smoothed  0.412017\n",
       "7   BX-I  Predicted y/n  0.411594\n",
       "8   BX-I   Observed y/n  0.410036\n",
       "9   GR-E       Smoothed  0.451731\n",
       "10  GR-E  Predicted y/n  0.453571\n",
       "11  GR-E   Observed y/n  0.444459\n",
       "12  GR-I       Smoothed  0.452796\n",
       "13  GR-I  Predicted y/n  0.451868\n",
       "14  GR-I   Observed y/n  0.446730"
      ]
     },
     "execution_count": 27,
     "metadata": {},
     "output_type": "execute_result"
    }
   ],
   "source": [
    "prop_means = all_prop.groupby(['Set', 'Method'])['value'].mean().reset_index()\n",
    "prop_means"
   ]
  },
  {
   "cell_type": "markdown",
   "metadata": {
    "papermill": {
     "duration": 0.02,
     "end_time": "2020-05-12T09:25:00.964372",
     "exception": false,
     "start_time": "2020-05-12T09:25:00.944372",
     "status": "completed"
    },
    "tags": []
   },
   "source": [
    "Now finally we can view densities:"
   ]
  },
  {
   "cell_type": "code",
   "execution_count": 28,
   "metadata": {
    "papermill": {
     "duration": 1.437483,
     "end_time": "2020-05-12T09:25:02.421914",
     "exception": false,
     "start_time": "2020-05-12T09:25:00.984431",
     "status": "completed"
    },
    "tags": []
   },
   "outputs": [
    {
     "data": {
      "text/plain": [
       "(0, 1)"
      ]
     },
     "execution_count": 28,
     "metadata": {},
     "output_type": "execute_result"
    },
    {
     "data": {
      "image/png": "[encoded data removed]",
      "text/plain": [
       "<Figure size 822.625x720 with 5 Axes>"
      ]
     },
     "metadata": {
      "needs_background": "light"
     },
     "output_type": "display_data"
    }
   ],
   "source": [
    "grid = sns.FacetGrid(all_prop.assign(hist=all_prop.Method == 'Observed y/n'), row='Set', hue='Method',\n",
    "                     sharey=False, height=2, aspect=5)\n",
    "for (r, c, h), df in grid.facet_data():\n",
    "    if h == 0:\n",
    "        sns.distplot(df['value'], kde=False, norm_hist=True, ax=grid.axes[r, c])\n",
    "grid.map(sns.kdeplot, 'value', clip=(0,1)).add_legend()\n",
    "plt.xlim(0, 1)\n",
    "# plt.savefig(fig_dir / 'dist.pdf')"
   ]
  },
  {
   "cell_type": "code",
   "execution_count": 29,
   "metadata": {
    "papermill": {
     "duration": 13.265505,
     "end_time": "2020-05-12T09:25:15.709418",
     "exception": false,
     "start_time": "2020-05-12T09:25:02.443913",
     "status": "completed"
    },
    "tags": []
   },
   "outputs": [
    {
     "name": "stderr",
     "output_type": "stream",
     "text": [
      "C:\\Users\\michaelekstrand\\Anaconda3\\envs\\bookfair\\lib\\site-packages\\plotnine\\ggplot.py:729: PlotnineWarning: Saving 8 x 6 in image.\n",
      "  from_inches(height, units), units), PlotnineWarning)\n",
      "C:\\Users\\michaelekstrand\\Anaconda3\\envs\\bookfair\\lib\\site-packages\\plotnine\\ggplot.py:730: PlotnineWarning: Filename: figures\\PMA-profile\\profile-dist.pdf\n",
      "  warn('Filename: {}'.format(filename), PlotnineWarning)\n"
     ]
    },
    {
     "name": "stderr",
     "output_type": "stream",
     "text": [
      "findfont: Font family ['Open Sans'] not found. Falling back to DejaVu Sans.\n"
     ]
    },
    {
     "name": "stderr",
     "output_type": "stream",
     "text": [
      "findfont: Font family ['Open Sans'] not found. Falling back to DejaVu Sans.\n"
     ]
    },
    {
     "data": {
      "image/png": "[encoded data removed]",
      "text/plain": [
       "<Figure size 640x480 with 5 Axes>"
      ]
     },
     "metadata": {
      "needs_background": "light"
     },
     "output_type": "display_data"
    },
    {
     "data": {
      "text/plain": [
       "<ggplot: (-9223371901382758996)>"
      ]
     },
     "execution_count": 29,
     "metadata": {},
     "output_type": "execute_result"
    }
   ],
   "source": [
    "from bookgender.nbutils import make_plot\n",
    "make_plot(all_prop, p.aes('value'),\n",
    "          p.geom_histogram(p.aes(y='..density..'), data=obs_prop,\n",
    "                           binwidth=0.05, fill='#CCCCCC'),\n",
    "          p.geom_line(p.aes(color='Method', linetype='Method'),\n",
    "                      stat='density', bw='scott', adjust=0.5),\n",
    "          p.geom_vline(p.aes(xintercept='value', color='Method', linetype='Method'),\n",
    "                       data=prop_means, show_legend=False),\n",
    "          p.facet_grid('Set ~', scales='free_y'),\n",
    "          p.scale_color_brewer('qual', 'Dark2'),\n",
    "          p.xlab(\"P(Female | Known)\"),\n",
    "          p.ylab(\"Density\"),\n",
    "          legend_position='top', legend_title=p.element_blank(),\n",
    "          file='profile-dist.pdf', width=8, height=6)"
   ]
  },
  {
   "cell_type": "markdown",
   "metadata": {
    "papermill": {
     "duration": 0.027998,
     "end_time": "2020-05-12T09:25:15.763417",
     "exception": false,
     "start_time": "2020-05-12T09:25:15.735419",
     "status": "completed"
    },
    "tags": []
   },
   "source": [
    "## Robustness of Individual Inferences\n",
    "\n",
    "The profiling process infers a $g(\\theta_u)$ value for each user.  What is the variance of those estimates?"
   ]
  },
  {
   "cell_type": "code",
   "execution_count": 30,
   "metadata": {
    "papermill": {
     "duration": 28.688555,
     "end_time": "2020-05-12T09:25:44.477972",
     "exception": false,
     "start_time": "2020-05-12T09:25:15.789417",
     "status": "completed"
    },
    "tags": []
   },
   "outputs": [
    {
     "data": {
      "text/html": [
       "<div>\n",
       "<style scoped>\n",
       "    .dataframe tbody tr th:only-of-type {\n",
       "        vertical-align: middle;\n",
       "    }\n",
       "\n",
       "    .dataframe tbody tr th {\n",
       "        vertical-align: top;\n",
       "    }\n",
       "\n",
       "    .dataframe thead th {\n",
       "        text-align: right;\n",
       "    }\n",
       "</style>\n",
       "<table border=\"1\" class=\"dataframe\">\n",
       "  <thead>\n",
       "    <tr style=\"text-align: right;\">\n",
       "      <th></th>\n",
       "      <th></th>\n",
       "      <th>mean</th>\n",
       "      <th>var</th>\n",
       "      <th>lo</th>\n",
       "      <th>hi</th>\n",
       "    </tr>\n",
       "    <tr>\n",
       "      <th>Set</th>\n",
       "      <th>uidx</th>\n",
       "      <th></th>\n",
       "      <th></th>\n",
       "      <th></th>\n",
       "      <th></th>\n",
       "    </tr>\n",
       "  </thead>\n",
       "  <tbody>\n",
       "    <tr>\n",
       "      <th rowspan=\"5\" valign=\"top\">AZ</th>\n",
       "      <th>0</th>\n",
       "      <td>1.054401</td>\n",
       "      <td>0.859259</td>\n",
       "      <td>-0.700571</td>\n",
       "      <td>3.002711</td>\n",
       "    </tr>\n",
       "    <tr>\n",
       "      <th>1</th>\n",
       "      <td>-0.934858</td>\n",
       "      <td>0.237320</td>\n",
       "      <td>-1.930807</td>\n",
       "      <td>-0.018967</td>\n",
       "    </tr>\n",
       "    <tr>\n",
       "      <th>2</th>\n",
       "      <td>-2.654415</td>\n",
       "      <td>1.442534</td>\n",
       "      <td>-5.297968</td>\n",
       "      <td>-0.577858</td>\n",
       "    </tr>\n",
       "    <tr>\n",
       "      <th>3</th>\n",
       "      <td>-1.526691</td>\n",
       "      <td>0.928144</td>\n",
       "      <td>-3.603834</td>\n",
       "      <td>0.212650</td>\n",
       "    </tr>\n",
       "    <tr>\n",
       "      <th>4</th>\n",
       "      <td>-2.666763</td>\n",
       "      <td>1.462858</td>\n",
       "      <td>-5.313519</td>\n",
       "      <td>-0.560131</td>\n",
       "    </tr>\n",
       "    <tr>\n",
       "      <th>...</th>\n",
       "      <th>...</th>\n",
       "      <td>...</td>\n",
       "      <td>...</td>\n",
       "      <td>...</td>\n",
       "      <td>...</td>\n",
       "    </tr>\n",
       "    <tr>\n",
       "      <th rowspan=\"5\" valign=\"top\">GR-I</th>\n",
       "      <th>4995</th>\n",
       "      <td>1.067249</td>\n",
       "      <td>0.002733</td>\n",
       "      <td>0.965943</td>\n",
       "      <td>1.169451</td>\n",
       "    </tr>\n",
       "    <tr>\n",
       "      <th>4996</th>\n",
       "      <td>-1.541715</td>\n",
       "      <td>0.614372</td>\n",
       "      <td>-3.199276</td>\n",
       "      <td>-0.101126</td>\n",
       "    </tr>\n",
       "    <tr>\n",
       "      <th>4997</th>\n",
       "      <td>-0.918005</td>\n",
       "      <td>0.050949</td>\n",
       "      <td>-1.365600</td>\n",
       "      <td>-0.494744</td>\n",
       "    </tr>\n",
       "    <tr>\n",
       "      <th>4998</th>\n",
       "      <td>1.510707</td>\n",
       "      <td>0.035612</td>\n",
       "      <td>1.153674</td>\n",
       "      <td>1.886884</td>\n",
       "    </tr>\n",
       "    <tr>\n",
       "      <th>4999</th>\n",
       "      <td>-2.026441</td>\n",
       "      <td>0.028055</td>\n",
       "      <td>-2.370763</td>\n",
       "      <td>-1.703400</td>\n",
       "    </tr>\n",
       "  </tbody>\n",
       "</table>\n",
       "<p>25000 rows × 4 columns</p>\n",
       "</div>"
      ],
      "text/plain": [
       "               mean       var        lo        hi\n",
       "Set  uidx                                        \n",
       "AZ   0     1.054401  0.859259 -0.700571  3.002711\n",
       "     1    -0.934858  0.237320 -1.930807 -0.018967\n",
       "     2    -2.654415  1.442534 -5.297968 -0.577858\n",
       "     3    -1.526691  0.928144 -3.603834  0.212650\n",
       "     4    -2.666763  1.462858 -5.313519 -0.560131\n",
       "...             ...       ...       ...       ...\n",
       "GR-I 4995  1.067249  0.002733  0.965943  1.169451\n",
       "     4996 -1.541715  0.614372 -3.199276 -0.101126\n",
       "     4997 -0.918005  0.050949 -1.365600 -0.494744\n",
       "     4998  1.510707  0.035612  1.153674  1.886884\n",
       "     4999 -2.026441  0.028055 -2.370763 -1.703400\n",
       "\n",
       "[25000 rows x 4 columns]"
      ]
     },
     "execution_count": 30,
     "metadata": {},
     "output_type": "execute_result"
    }
   ],
   "source": [
    "def u_stats(ds):\n",
    "    ths = samples[ds]['nTheta'][...].T\n",
    "    return pd.DataFrame({\n",
    "        'mean': np.mean(ths, axis=1),\n",
    "        'var': np.var(ths, axis=1),\n",
    "        'lo': np.quantile(ths, 0.025, axis=1),\n",
    "        'hi': np.quantile(ths, 0.975, axis=1)\n",
    "    })\n",
    "user_biases = pd.concat(dict(\n",
    "    (ds, u_stats(ds)) for ds in datasets\n",
    "), names=['Set', 'uidx'])\n",
    "user_biases"
   ]
  },
  {
   "cell_type": "code",
   "execution_count": 31,
   "metadata": {
    "papermill": {
     "duration": 1.629593,
     "end_time": "2020-05-12T09:25:46.134564",
     "exception": false,
     "start_time": "2020-05-12T09:25:44.504971",
     "status": "completed"
    },
    "tags": []
   },
   "outputs": [
    {
     "name": "stderr",
     "output_type": "stream",
     "text": [
      "C:\\Users\\michaelekstrand\\Anaconda3\\envs\\bookfair\\lib\\site-packages\\plotnine\\stats\\stat_bin.py:93: PlotnineWarning: 'stat_bin()' using 'bins = 85'. Pick better value with 'binwidth'.\n",
      "  warn(msg.format(params['bins']), PlotnineWarning)\n"
     ]
    },
    {
     "data": {
      "image/png": "[encoded data removed]",
      "text/plain": [
       "<Figure size 640x480 with 5 Axes>"
      ]
     },
     "metadata": {},
     "output_type": "display_data"
    },
    {
     "data": {
      "text/plain": [
       "<ggplot: (-9223371901382535968)>"
      ]
     },
     "execution_count": 31,
     "metadata": {},
     "output_type": "execute_result"
    }
   ],
   "source": [
    "(p.ggplot(user_biases.reset_index(), p.aes('mean'))\n",
    " + p.geom_histogram()\n",
    " + p.facet_grid('Set ~'))"
   ]
  },
  {
   "cell_type": "code",
   "execution_count": 32,
   "metadata": {
    "papermill": {
     "duration": 1.263986,
     "end_time": "2020-05-12T09:25:47.427518",
     "exception": false,
     "start_time": "2020-05-12T09:25:46.163532",
     "status": "completed"
    },
    "tags": []
   },
   "outputs": [
    {
     "name": "stderr",
     "output_type": "stream",
     "text": [
      "C:\\Users\\michaelekstrand\\Anaconda3\\envs\\bookfair\\lib\\site-packages\\plotnine\\stats\\stat_bin.py:93: PlotnineWarning: 'stat_bin()' using 'bins = 54'. Pick better value with 'binwidth'.\n",
      "  warn(msg.format(params['bins']), PlotnineWarning)\n"
     ]
    },
    {
     "data": {
      "image/png": "[encoded data removed]",
      "text/plain": [
       "<Figure size 640x480 with 5 Axes>"
      ]
     },
     "metadata": {},
     "output_type": "display_data"
    },
    {
     "data": {
      "text/plain": [
       "<ggplot: (-9223371901335464864)>"
      ]
     },
     "execution_count": 32,
     "metadata": {},
     "output_type": "execute_result"
    }
   ],
   "source": [
    "(p.ggplot(user_biases.reset_index(), p.aes('var'))\n",
    " + p.geom_histogram()\n",
    " + p.facet_grid('Set ~'))"
   ]
  },
  {
   "cell_type": "markdown",
   "metadata": {
    "papermill": {
     "duration": 0.028002,
     "end_time": "2020-05-12T09:25:47.482519",
     "exception": false,
     "start_time": "2020-05-12T09:25:47.454517",
     "status": "completed"
    },
    "tags": []
   },
   "source": [
    "This indicates quite a few $\\theta_u$ values have high posterior variance, so we really do want to use the entire distribution."
   ]
  },
  {
   "cell_type": "code",
   "execution_count": null,
   "metadata": {
    "papermill": {
     "duration": 0.027,
     "end_time": "2020-05-12T09:25:47.535516",
     "exception": false,
     "start_time": "2020-05-12T09:25:47.508516",
     "status": "completed"
    },
    "tags": []
   },
   "outputs": [],
   "source": []
  }
 ],
 "metadata": {
  "kernelspec": {
   "display_name": "Python 3",
   "language": "python",
   "name": "python3"
  },
  "language_info": {
   "codemirror_mode": {
    "name": "ipython",
    "version": 3
   },
   "file_extension": ".py",
   "mimetype": "text/x-python",
   "name": "python",
   "nbconvert_exporter": "python",
   "pygments_lexer": "ipython3",
   "version": "3.7.6"
  },
  "papermill": {
   "duration": 52.867994,
   "end_time": "2020-05-12T09:25:48.171366",
   "environment_variables": {},
   "exception": null,
   "input_path": "ProfileModelAnalysis.ipynb",
   "output_path": "ProfileModelAnalysis.temp.ipynb",
   "parameters": {},
   "start_time": "2020-05-12T09:24:55.303372",
   "version": "1.0.1"
  }
 },
 "nbformat": 4,
 "nbformat_minor": 2
}