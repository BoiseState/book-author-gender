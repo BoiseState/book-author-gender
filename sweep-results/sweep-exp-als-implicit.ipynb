{
 "cells": [
  {
   "cell_type": "markdown",
   "metadata": {
    "lk_template": true
   },
   "source": [
    "# Accuracy Sweep (exp-als-implicit)"
   ]
  },
  {
   "cell_type": "markdown",
   "metadata": {},
   "source": [
    "## Configuration"
   ]
  },
  {
   "cell_type": "code",
   "execution_count": null,
   "metadata": {},
   "outputs": [],
   "source": [
    "from pathlib import Path"
   ]
  },
  {
   "cell_type": "code",
   "execution_count": null,
   "metadata": {
    "lk_var": "work_dir"
   },
   "outputs": [],
   "source": [
    "work_dir = Path('../work')"
   ]
  },
  {
   "cell_type": "code",
   "execution_count": null,
   "metadata": {
    "lk_var": "sweep_name"
   },
   "outputs": [],
   "source": [
    "sweep_name = 'exp-als-implicit'"
   ]
  },
  {
   "cell_type": "code",
   "execution_count": null,
   "metadata": {
    "lk_var": "data_sfx"
   },
   "outputs": [],
   "source": [
    "data_sfx = ''"
   ]
  },
  {
   "cell_type": "code",
   "execution_count": null,
   "metadata": {
    "lk_var": "attrs"
   },
   "outputs": [],
   "source": [
    "attrs = ['factors']"
   ]
  },
  {
   "cell_type": "markdown",
   "metadata": {},
   "source": [
    "## Environment Setup"
   ]
  },
  {
   "cell_type": "code",
   "execution_count": null,
   "metadata": {},
   "outputs": [],
   "source": [
    "%matplotlib inline\n",
    "%load_ext autoreload\n",
    "%autoreload"
   ]
  },
  {
   "cell_type": "code",
   "execution_count": null,
   "metadata": {},
   "outputs": [],
   "source": [
    "import pandas as pd\n",
    "import numpy as np\n",
    "import seaborn as sns"
   ]
  },
  {
   "cell_type": "code",
   "execution_count": null,
   "metadata": {},
   "outputs": [],
   "source": [
    "from lenskit import topn"
   ]
  },
  {
   "cell_type": "markdown",
   "metadata": {},
   "source": [
    "## Collect Run Info"
   ]
  },
  {
   "cell_type": "code",
   "execution_count": null,
   "metadata": {},
   "outputs": [],
   "source": [
    "run_files = work_dir.glob(f'*/sweep-{sweep_name}/runs.parquet')\n",
    "runs = pd.concat((pd.read_parquet(rf) for rf in run_files), ignore_index=True)\n",
    "runs['DataSet'] = runs.DataSet.astype('category')\n",
    "runs.head()"
   ]
  },
  {
   "cell_type": "code",
   "execution_count": null,
   "metadata": {},
   "outputs": [],
   "source": [
    "meta = runs[['DataSet', 'RunId', 'Partition'] + attrs]\n",
    "meta = meta.set_index(['DataSet', 'RunId'])\n",
    "meta.head()"
   ]
  },
  {
   "cell_type": "code",
   "execution_count": null,
   "metadata": {},
   "outputs": [],
   "source": [
    "datasets = runs.DataSet.cat.categories\n",
    "datasets"
   ]
  },
  {
   "cell_type": "code",
   "execution_count": null,
   "metadata": {},
   "outputs": [],
   "source": [
    "def ds_dir(ds):\n",
    "    return work_dir / ds"
   ]
  },
  {
   "cell_type": "code",
   "execution_count": null,
   "metadata": {},
   "outputs": [],
   "source": [
    "def sweep_dir(ds):\n",
    "    return ds_dir(ds) / f'sweep-{sweep_name}'"
   ]
  },
  {
   "cell_type": "markdown",
   "metadata": {},
   "source": [
    "## Load Test Data\n",
    "\n",
    "Before we can compute true accuracies, we want to load the test data and compute our ideal DCGs."
   ]
  },
  {
   "cell_type": "code",
   "execution_count": null,
   "metadata": {},
   "outputs": [],
   "source": [
    "def load_test_file(ds, file):\n",
    "    df = pd.read_parquet(file)\n",
    "    df = df.assign(DataSet=ds)\n",
    "    cols = ['DataSet', 'user', 'item']\n",
    "    if 'rating' in df.columns:\n",
    "        cols.append('rating')\n",
    "    df = df[cols]\n",
    "    return df"
   ]
  },
  {
   "cell_type": "code",
   "execution_count": null,
   "metadata": {},
   "outputs": [],
   "source": [
    "test = pd.concat((load_test_file(ds, file)\n",
    "                  for ds in datasets for file in ds_dir(ds).glob(f'tune-*-test{data_sfx}.parquet')),\n",
    "                 ignore_index=True)\n",
    "test['DataSet'] = test.DataSet.astype('category')\n",
    "test.info()"
   ]
  },
  {
   "cell_type": "markdown",
   "metadata": {},
   "source": [
    "## Load Recommendation Data"
   ]
  },
  {
   "cell_type": "code",
   "execution_count": null,
   "metadata": {},
   "outputs": [],
   "source": [
    "def load_recs(ds):\n",
    "    df = pd.read_parquet(sweep_dir(ds) / 'recommendations.parquet')\n",
    "    return df.assign(DataSet=ds)"
   ]
  },
  {
   "cell_type": "code",
   "execution_count": null,
   "metadata": {},
   "outputs": [],
   "source": [
    "recs = pd.concat([load_recs(ds) for ds in datasets],\n",
    "                 ignore_index=True)\n",
    "recs['DataSet'] = recs.DataSet.astype('category')\n",
    "recs.info()"
   ]
  },
  {
   "cell_type": "markdown",
   "metadata": {},
   "source": [
    "## Analzye Accuracy"
   ]
  },
  {
   "cell_type": "markdown",
   "metadata": {},
   "source": [
    "Now we compute the per-user analysis:"
   ]
  },
  {
   "cell_type": "code",
   "execution_count": null,
   "metadata": {},
   "outputs": [],
   "source": [
    "rla = topn.RecListAnalysis(['DataSet', 'RunId', 'user'])\n",
    "rla.add_metric(topn.ndcg)"
   ]
  },
  {
   "cell_type": "code",
   "execution_count": null,
   "metadata": {},
   "outputs": [],
   "source": [
    "user_ndcg = rla.compute(recs, test)\n",
    "user_ndcg.head()"
   ]
  },
  {
   "cell_type": "code",
   "execution_count": null,
   "metadata": {},
   "outputs": [],
   "source": [
    "agg_ndcg = user_ndcg.groupby(['DataSet'] + attrs).nDCG.mean()\n",
    "agg_ndcg = agg_ndcg.reset_index()\n",
    "agg_ndcg.head()"
   ]
  },
  {
   "cell_type": "code",
   "execution_count": null,
   "metadata": {},
   "outputs": [],
   "source": [
    "props = {'x': attrs[0]}\n",
    "if len(attrs) > 1:\n",
    "    props['hue'] = attrs[1]\n",
    "sns.relplot(y=\"nDCG\", col=\"DataSet\", data=agg_ndcg, kind=\"line\", **props)"
   ]
  },
  {
   "cell_type": "code",
   "execution_count": null,
   "metadata": {},
   "outputs": [],
   "source": []
  }
 ],
 "metadata": {
  "celltoolbar": "Edit Metadata",
  "kernelspec": {
   "display_name": "Python 3",
   "language": "python",
   "name": "python3"
  },
  "language_info": {
   "codemirror_mode": {
    "name": "ipython",
    "version": 3
   },
   "file_extension": ".py",
   "mimetype": "text/x-python",
   "name": "python",
   "nbconvert_exporter": "python",
   "pygments_lexer": "ipython3",
   "version": "3.6.7"
  }
 },
 "nbformat": 4,
 "nbformat_minor": 2
}
