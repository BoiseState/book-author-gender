{
 "cells": [
  {
   "cell_type": "markdown",
   "metadata": {
    "papermill": {
     "duration": 0.010856,
     "end_time": "2020-05-12T09:31:02.590456",
     "exception": false,
     "start_time": "2020-05-12T09:31:02.579600",
     "status": "completed"
    },
    "tags": []
   },
   "source": [
    "# Correlational analysis\n",
    "\n",
    "This notebook contains correlational analyses of the recommendation list inputs and outputs, for comparison purposes and also to analyze the control bias."
   ]
  },
  {
   "cell_type": "markdown",
   "metadata": {
    "papermill": {
     "duration": 0.010043,
     "end_time": "2020-05-12T09:31:02.610497",
     "exception": false,
     "start_time": "2020-05-12T09:31:02.600454",
     "status": "completed"
    },
    "tags": []
   },
   "source": [
    "## Setup"
   ]
  },
  {
   "cell_type": "code",
   "execution_count": 1,
   "metadata": {
    "papermill": {
     "duration": 0.017,
     "end_time": "2020-05-12T09:31:02.656836",
     "exception": false,
     "start_time": "2020-05-12T09:31:02.639836",
     "status": "completed"
    },
    "tags": []
   },
   "outputs": [],
   "source": [
    "import pickle"
   ]
  },
  {
   "cell_type": "code",
   "execution_count": 2,
   "metadata": {
    "papermill": {
     "duration": 0.874543,
     "end_time": "2020-05-12T09:31:03.542410",
     "exception": false,
     "start_time": "2020-05-12T09:31:02.667867",
     "status": "completed"
    },
    "tags": []
   },
   "outputs": [],
   "source": [
    "import pandas as pd\n",
    "import numpy as np\n",
    "import seaborn as sns\n",
    "import matplotlib.pyplot as plt\n",
    "from scipy.special import logit, expit"
   ]
  },
  {
   "cell_type": "code",
   "execution_count": 3,
   "metadata": {
    "papermill": {
     "duration": 0.030585,
     "end_time": "2020-05-12T09:31:03.582992",
     "exception": false,
     "start_time": "2020-05-12T09:31:03.552407",
     "status": "completed"
    },
    "tags": []
   },
   "outputs": [
    {
     "name": "stdout",
     "output_type": "stream",
     "text": [
      "<class 'pandas.core.frame.DataFrame'>\n",
      "MultiIndex: 25000 entries, ('AZ', 529) to ('GR-I', 875516)\n",
      "Data columns (total 11 columns):\n",
      " #   Column      Non-Null Count  Dtype  \n",
      "---  ------      --------------  -----  \n",
      " 0   count       25000 non-null  int32  \n",
      " 1   linked      25000 non-null  int32  \n",
      " 2   ambiguous   25000 non-null  int32  \n",
      " 3   male        25000 non-null  int32  \n",
      " 4   female      25000 non-null  int32  \n",
      " 5   dcknown     25000 non-null  int32  \n",
      " 6   dcyes       25000 non-null  int32  \n",
      " 7   PropDC      25000 non-null  float64\n",
      " 8   Known       25000 non-null  int32  \n",
      " 9   PropFemale  25000 non-null  float64\n",
      " 10  PropKnown   25000 non-null  float64\n",
      "dtypes: float64(3), int32(8)\n",
      "memory usage: 2.2+ MB\n"
     ]
    }
   ],
   "source": [
    "with open('data/profile-data.pkl', 'rb') as f:\n",
    "    profiles = pickle.load(f)\n",
    "profiles.info()"
   ]
  },
  {
   "cell_type": "code",
   "execution_count": 4,
   "metadata": {
    "papermill": {
     "duration": 0.030981,
     "end_time": "2020-05-12T09:31:03.624960",
     "exception": false,
     "start_time": "2020-05-12T09:31:03.593979",
     "status": "completed"
    },
    "tags": []
   },
   "outputs": [
    {
     "name": "stdout",
     "output_type": "stream",
     "text": [
      "<class 'pandas.core.frame.DataFrame'>\n",
      "MultiIndex: 94146 entries, ('AZ', 'als', 529) to ('GR-I', 'wrls', 875516)\n",
      "Data columns (total 11 columns):\n",
      " #   Column      Non-Null Count  Dtype  \n",
      "---  ------      --------------  -----  \n",
      " 0   ambiguous   94146 non-null  int64  \n",
      " 1   female      94146 non-null  int64  \n",
      " 2   male        94146 non-null  int64  \n",
      " 3   unknown     94146 non-null  int64  \n",
      " 4   Total       94146 non-null  int64  \n",
      " 5   Known       94146 non-null  int64  \n",
      " 6   PropKnown   94146 non-null  float64\n",
      " 7   PropFemale  93926 non-null  float64\n",
      " 8   dcknown     94146 non-null  int64  \n",
      " 9   dcyes       94146 non-null  int32  \n",
      " 10  PropDC      94115 non-null  float64\n",
      "dtypes: float64(3), int32(1), int64(7)\n",
      "memory usage: 8.7+ MB\n"
     ]
    }
   ],
   "source": [
    "with open('data/rec-data.pkl', 'rb') as f:\n",
    "    recs = pickle.load(f)\n",
    "recs.info()"
   ]
  },
  {
   "cell_type": "markdown",
   "metadata": {
    "papermill": {
     "duration": 0.012992,
     "end_time": "2020-05-12T09:31:03.649959",
     "exception": false,
     "start_time": "2020-05-12T09:31:03.636967",
     "status": "completed"
    },
    "tags": []
   },
   "source": [
    "Helpers from RecModel Analysis:"
   ]
  },
  {
   "cell_type": "code",
   "execution_count": 5,
   "metadata": {
    "papermill": {
     "duration": 0.021514,
     "end_time": "2020-05-12T09:31:03.683473",
     "exception": false,
     "start_time": "2020-05-12T09:31:03.661959",
     "status": "completed"
    },
    "tags": []
   },
   "outputs": [],
   "source": [
    "def select_implicit(data, reset=True):\n",
    "    if reset:\n",
    "        data = data.reset_index()\n",
    "    implicit = data['Set'].str.endswith('-I')\n",
    "    if 'Algorithm' in data.columns:\n",
    "        implicit |= data['Algorithm'].str.endswith('-imp')\n",
    "    else:\n",
    "        implicit |= data['Set'] == 'AZ'\n",
    "    data = data.loc[implicit].assign(Set=data['Set'].str.replace('-I', ''))\n",
    "    if 'Algorithm' in data.columns:\n",
    "        data['Algorithm'] = data['Algorithm'].str.replace('-imp', '').str.replace('wrls', 'als')\n",
    "    return data"
   ]
  },
  {
   "cell_type": "code",
   "execution_count": 6,
   "metadata": {
    "papermill": {
     "duration": 0.016958,
     "end_time": "2020-05-12T09:31:03.712473",
     "exception": false,
     "start_time": "2020-05-12T09:31:03.695515",
     "status": "completed"
    },
    "tags": []
   },
   "outputs": [],
   "source": [
    "def select_explicit(data, reset=True):\n",
    "    if reset:\n",
    "        data = data.reset_index()\n",
    "    implicit = data['Set'].str.endswith('-I') \n",
    "    if 'Algorithm' in data.columns:\n",
    "        implicit |= data['Algorithm'].str.endswith('-imp')\n",
    "    data = data[~implicit].assign(Set=data['Set'].str.replace('-E', ''))\n",
    "    return data"
   ]
  },
  {
   "cell_type": "markdown",
   "metadata": {
    "papermill": {
     "duration": 0.011,
     "end_time": "2020-05-12T09:31:03.734473",
     "exception": false,
     "start_time": "2020-05-12T09:31:03.723473",
     "status": "completed"
    },
    "tags": []
   },
   "source": [
    "## Observed Profile Parameters"
   ]
  },
  {
   "cell_type": "markdown",
   "metadata": {
    "papermill": {
     "duration": 0.012019,
     "end_time": "2020-05-12T09:31:03.757492",
     "exception": false,
     "start_time": "2020-05-12T09:31:03.745473",
     "status": "completed"
    },
    "tags": []
   },
   "source": [
    "What do proportions look like, for both female authors and dummy codes?"
   ]
  },
  {
   "cell_type": "code",
   "execution_count": 7,
   "metadata": {
    "papermill": {
     "duration": 0.031017,
     "end_time": "2020-05-12T09:31:03.799501",
     "exception": false,
     "start_time": "2020-05-12T09:31:03.768484",
     "status": "completed"
    },
    "tags": []
   },
   "outputs": [
    {
     "data": {
      "text/html": [
       "<div>\n",
       "<style scoped>\n",
       "    .dataframe tbody tr th:only-of-type {\n",
       "        vertical-align: middle;\n",
       "    }\n",
       "\n",
       "    .dataframe tbody tr th {\n",
       "        vertical-align: top;\n",
       "    }\n",
       "\n",
       "    .dataframe thead th {\n",
       "        text-align: right;\n",
       "    }\n",
       "</style>\n",
       "<table border=\"1\" class=\"dataframe\">\n",
       "  <thead>\n",
       "    <tr style=\"text-align: right;\">\n",
       "      <th></th>\n",
       "      <th>Set</th>\n",
       "      <th>AZ</th>\n",
       "      <th>BX-E</th>\n",
       "      <th>BX-I</th>\n",
       "      <th>GR-E</th>\n",
       "      <th>GR-I</th>\n",
       "    </tr>\n",
       "  </thead>\n",
       "  <tbody>\n",
       "    <tr>\n",
       "      <th rowspan=\"2\" valign=\"top\">PropFemale</th>\n",
       "      <th>mean</th>\n",
       "      <td>0.414445</td>\n",
       "      <td>0.418886</td>\n",
       "      <td>0.407030</td>\n",
       "      <td>0.446998</td>\n",
       "      <td>0.450201</td>\n",
       "    </tr>\n",
       "    <tr>\n",
       "      <th>std</th>\n",
       "      <td>0.329436</td>\n",
       "      <td>0.267354</td>\n",
       "      <td>0.254304</td>\n",
       "      <td>0.276480</td>\n",
       "      <td>0.269127</td>\n",
       "    </tr>\n",
       "    <tr>\n",
       "      <th rowspan=\"2\" valign=\"top\">PropDC</th>\n",
       "      <th>mean</th>\n",
       "      <td>0.498460</td>\n",
       "      <td>0.494217</td>\n",
       "      <td>0.499506</td>\n",
       "      <td>0.494855</td>\n",
       "      <td>0.497091</td>\n",
       "    </tr>\n",
       "    <tr>\n",
       "      <th>std</th>\n",
       "      <td>0.160820</td>\n",
       "      <td>0.151552</td>\n",
       "      <td>0.144868</td>\n",
       "      <td>0.082914</td>\n",
       "      <td>0.069235</td>\n",
       "    </tr>\n",
       "  </tbody>\n",
       "</table>\n",
       "</div>"
      ],
      "text/plain": [
       "Set                    AZ      BX-E      BX-I      GR-E      GR-I\n",
       "PropFemale mean  0.414445  0.418886  0.407030  0.446998  0.450201\n",
       "           std   0.329436  0.267354  0.254304  0.276480  0.269127\n",
       "PropDC     mean  0.498460  0.494217  0.499506  0.494855  0.497091\n",
       "           std   0.160820  0.151552  0.144868  0.082914  0.069235"
      ]
     },
     "execution_count": 7,
     "metadata": {},
     "output_type": "execute_result"
    }
   ],
   "source": [
    "profiles.groupby('Set')[['PropFemale', 'PropDC']].agg(['mean', 'std']).T"
   ]
  },
  {
   "cell_type": "markdown",
   "metadata": {
    "papermill": {
     "duration": 0.010968,
     "end_time": "2020-05-12T09:31:03.821501",
     "exception": false,
     "start_time": "2020-05-12T09:31:03.810533",
     "status": "completed"
    },
    "tags": []
   },
   "source": [
    "What does the distribution look like?"
   ]
  },
  {
   "cell_type": "code",
   "execution_count": 8,
   "metadata": {
    "papermill": {
     "duration": 0.028999,
     "end_time": "2020-05-12T09:31:03.861501",
     "exception": false,
     "start_time": "2020-05-12T09:31:03.832502",
     "status": "completed"
    },
    "tags": []
   },
   "outputs": [
    {
     "data": {
      "text/html": [
       "<div>\n",
       "<style scoped>\n",
       "    .dataframe tbody tr th:only-of-type {\n",
       "        vertical-align: middle;\n",
       "    }\n",
       "\n",
       "    .dataframe tbody tr th {\n",
       "        vertical-align: top;\n",
       "    }\n",
       "\n",
       "    .dataframe thead th {\n",
       "        text-align: right;\n",
       "    }\n",
       "</style>\n",
       "<table border=\"1\" class=\"dataframe\">\n",
       "  <thead>\n",
       "    <tr style=\"text-align: right;\">\n",
       "      <th></th>\n",
       "      <th>Set</th>\n",
       "      <th>user</th>\n",
       "      <th>variable</th>\n",
       "      <th>value</th>\n",
       "    </tr>\n",
       "  </thead>\n",
       "  <tbody>\n",
       "    <tr>\n",
       "      <th>0</th>\n",
       "      <td>AZ</td>\n",
       "      <td>529</td>\n",
       "      <td>PropFemale</td>\n",
       "      <td>0.800000</td>\n",
       "    </tr>\n",
       "    <tr>\n",
       "      <th>1</th>\n",
       "      <td>AZ</td>\n",
       "      <td>1723</td>\n",
       "      <td>PropFemale</td>\n",
       "      <td>0.285714</td>\n",
       "    </tr>\n",
       "    <tr>\n",
       "      <th>2</th>\n",
       "      <td>AZ</td>\n",
       "      <td>1810</td>\n",
       "      <td>PropFemale</td>\n",
       "      <td>0.000000</td>\n",
       "    </tr>\n",
       "    <tr>\n",
       "      <th>3</th>\n",
       "      <td>AZ</td>\n",
       "      <td>2781</td>\n",
       "      <td>PropFemale</td>\n",
       "      <td>0.166667</td>\n",
       "    </tr>\n",
       "    <tr>\n",
       "      <th>4</th>\n",
       "      <td>AZ</td>\n",
       "      <td>2863</td>\n",
       "      <td>PropFemale</td>\n",
       "      <td>0.000000</td>\n",
       "    </tr>\n",
       "  </tbody>\n",
       "</table>\n",
       "</div>"
      ],
      "text/plain": [
       "  Set  user    variable     value\n",
       "0  AZ   529  PropFemale  0.800000\n",
       "1  AZ  1723  PropFemale  0.285714\n",
       "2  AZ  1810  PropFemale  0.000000\n",
       "3  AZ  2781  PropFemale  0.166667\n",
       "4  AZ  2863  PropFemale  0.000000"
      ]
     },
     "execution_count": 8,
     "metadata": {},
     "output_type": "execute_result"
    }
   ],
   "source": [
    "props = pd.melt(profiles.reset_index(), ['Set', 'user'], ['PropFemale', 'PropDC'])\n",
    "props.head()"
   ]
  },
  {
   "cell_type": "code",
   "execution_count": 9,
   "metadata": {
    "papermill": {
     "duration": 1.997559,
     "end_time": "2020-05-12T09:31:05.870059",
     "exception": false,
     "start_time": "2020-05-12T09:31:03.872500",
     "status": "completed"
    },
    "tags": []
   },
   "outputs": [
    {
     "data": {
      "text/plain": [
       "<seaborn.axisgrid.FacetGrid at 0x1bed0aa62c8>"
      ]
     },
     "execution_count": 9,
     "metadata": {},
     "output_type": "execute_result"
    },
    {
     "data": {
      "image/png": "[encoded data removed]",
      "text/plain": [
       "<Figure size 432x1080 with 10 Axes>"
      ]
     },
     "metadata": {
      "needs_background": "light"
     },
     "output_type": "display_data"
    }
   ],
   "source": [
    "grid = sns.FacetGrid(props, col='variable', row='Set', sharey=False)\n",
    "grid.map(sns.distplot, 'value')"
   ]
  },
  {
   "cell_type": "markdown",
   "metadata": {
    "papermill": {
     "duration": 0.013,
     "end_time": "2020-05-12T09:31:05.896059",
     "exception": false,
     "start_time": "2020-05-12T09:31:05.883059",
     "status": "completed"
    },
    "tags": []
   },
   "source": [
    "## Rec list distributions"
   ]
  },
  {
   "cell_type": "code",
   "execution_count": 10,
   "metadata": {
    "papermill": {
     "duration": 0.056029,
     "end_time": "2020-05-12T09:31:05.965087",
     "exception": false,
     "start_time": "2020-05-12T09:31:05.909058",
     "status": "completed"
    },
    "tags": []
   },
   "outputs": [
    {
     "data": {
      "text/html": [
       "<div>\n",
       "<style scoped>\n",
       "    .dataframe tbody tr th:only-of-type {\n",
       "        vertical-align: middle;\n",
       "    }\n",
       "\n",
       "    .dataframe tbody tr th {\n",
       "        vertical-align: top;\n",
       "    }\n",
       "\n",
       "    .dataframe thead th {\n",
       "        text-align: right;\n",
       "    }\n",
       "</style>\n",
       "<table border=\"1\" class=\"dataframe\">\n",
       "  <thead>\n",
       "    <tr style=\"text-align: right;\">\n",
       "      <th></th>\n",
       "      <th>Set</th>\n",
       "      <th>Algorithm</th>\n",
       "      <th>user</th>\n",
       "      <th>variable</th>\n",
       "      <th>value</th>\n",
       "    </tr>\n",
       "  </thead>\n",
       "  <tbody>\n",
       "    <tr>\n",
       "      <th>0</th>\n",
       "      <td>AZ</td>\n",
       "      <td>als</td>\n",
       "      <td>529</td>\n",
       "      <td>PropFemale</td>\n",
       "      <td>0.296296</td>\n",
       "    </tr>\n",
       "    <tr>\n",
       "      <th>1</th>\n",
       "      <td>AZ</td>\n",
       "      <td>als</td>\n",
       "      <td>1723</td>\n",
       "      <td>PropFemale</td>\n",
       "      <td>0.571429</td>\n",
       "    </tr>\n",
       "    <tr>\n",
       "      <th>2</th>\n",
       "      <td>AZ</td>\n",
       "      <td>als</td>\n",
       "      <td>1810</td>\n",
       "      <td>PropFemale</td>\n",
       "      <td>0.400000</td>\n",
       "    </tr>\n",
       "    <tr>\n",
       "      <th>3</th>\n",
       "      <td>AZ</td>\n",
       "      <td>als</td>\n",
       "      <td>2781</td>\n",
       "      <td>PropFemale</td>\n",
       "      <td>0.320000</td>\n",
       "    </tr>\n",
       "    <tr>\n",
       "      <th>4</th>\n",
       "      <td>AZ</td>\n",
       "      <td>als</td>\n",
       "      <td>2863</td>\n",
       "      <td>PropFemale</td>\n",
       "      <td>0.137931</td>\n",
       "    </tr>\n",
       "  </tbody>\n",
       "</table>\n",
       "</div>"
      ],
      "text/plain": [
       "  Set Algorithm  user    variable     value\n",
       "0  AZ       als   529  PropFemale  0.296296\n",
       "1  AZ       als  1723  PropFemale  0.571429\n",
       "2  AZ       als  1810  PropFemale  0.400000\n",
       "3  AZ       als  2781  PropFemale  0.320000\n",
       "4  AZ       als  2863  PropFemale  0.137931"
      ]
     },
     "execution_count": 10,
     "metadata": {},
     "output_type": "execute_result"
    }
   ],
   "source": [
    "rec_props = pd.melt(recs.reset_index(), ['Set', 'Algorithm', 'user'], ['PropFemale', 'PropDC'])\n",
    "rec_props.head()"
   ]
  },
  {
   "cell_type": "markdown",
   "metadata": {
    "papermill": {
     "duration": 0.011988,
     "end_time": "2020-05-12T09:31:05.990084",
     "exception": false,
     "start_time": "2020-05-12T09:31:05.978096",
     "status": "completed"
    },
    "tags": []
   },
   "source": [
    "Implicit algorithm distributions:"
   ]
  },
  {
   "cell_type": "code",
   "execution_count": 11,
   "metadata": {
    "papermill": {
     "duration": 2.717339,
     "end_time": "2020-05-12T09:31:08.720427",
     "exception": false,
     "start_time": "2020-05-12T09:31:06.003088",
     "status": "completed"
    },
    "tags": []
   },
   "outputs": [
    {
     "data": {
      "text/plain": [
       "<seaborn.axisgrid.FacetGrid at 0x1bed2231cc8>"
      ]
     },
     "execution_count": 11,
     "metadata": {},
     "output_type": "execute_result"
    },
    {
     "data": {
      "image/png": "[encoded data removed]",
      "text/plain": [
       "<Figure size 959x648 with 12 Axes>"
      ]
     },
     "metadata": {
      "needs_background": "light"
     },
     "output_type": "display_data"
    }
   ],
   "source": [
    "grid = sns.FacetGrid(select_implicit(rec_props), row='Set', col='Algorithm', hue='variable')\n",
    "grid.map(sns.kdeplot, 'value')\n",
    "grid.add_legend()"
   ]
  },
  {
   "cell_type": "markdown",
   "metadata": {
    "papermill": {
     "duration": 0.015978,
     "end_time": "2020-05-12T09:31:08.753397",
     "exception": false,
     "start_time": "2020-05-12T09:31:08.737419",
     "status": "completed"
    },
    "tags": []
   },
   "source": [
    "Explicit algorithm distributions:"
   ]
  },
  {
   "cell_type": "code",
   "execution_count": 12,
   "metadata": {
    "papermill": {
     "duration": 1.981721,
     "end_time": "2020-05-12T09:31:10.754133",
     "exception": false,
     "start_time": "2020-05-12T09:31:08.772412",
     "status": "completed"
    },
    "tags": []
   },
   "outputs": [
    {
     "data": {
      "text/plain": [
       "<seaborn.axisgrid.FacetGrid at 0x1bed2ba9508>"
      ]
     },
     "execution_count": 12,
     "metadata": {},
     "output_type": "execute_result"
    },
    {
     "data": {
      "image/png": "[encoded data removed]",
      "text/plain": [
       "<Figure size 743x648 with 9 Axes>"
      ]
     },
     "metadata": {
      "needs_background": "light"
     },
     "output_type": "display_data"
    }
   ],
   "source": [
    "grid = sns.FacetGrid(select_explicit(rec_props), row='Set', col='Algorithm', hue='variable')\n",
    "grid.map(sns.kdeplot, 'value')\n",
    "grid.add_legend()"
   ]
  },
  {
   "cell_type": "markdown",
   "metadata": {
    "papermill": {
     "duration": 0.01712,
     "end_time": "2020-05-12T09:31:10.788225",
     "exception": false,
     "start_time": "2020-05-12T09:31:10.771105",
     "status": "completed"
    },
    "tags": []
   },
   "source": [
    "## Let's look at correlations!"
   ]
  },
  {
   "cell_type": "markdown",
   "metadata": {
    "papermill": {
     "duration": 0.019118,
     "end_time": "2020-05-12T09:31:10.823326",
     "exception": false,
     "start_time": "2020-05-12T09:31:10.804208",
     "status": "completed"
    },
    "tags": []
   },
   "source": [
    "### Implicit feedback mode\n",
    "\n",
    "First, extract the recommendation data:"
   ]
  },
  {
   "cell_type": "code",
   "execution_count": 13,
   "metadata": {
    "papermill": {
     "duration": 0.244038,
     "end_time": "2020-05-12T09:31:11.083363",
     "exception": false,
     "start_time": "2020-05-12T09:31:10.839325",
     "status": "completed"
    },
    "tags": []
   },
   "outputs": [
    {
     "data": {
      "text/html": [
       "<div>\n",
       "<style scoped>\n",
       "    .dataframe tbody tr th:only-of-type {\n",
       "        vertical-align: middle;\n",
       "    }\n",
       "\n",
       "    .dataframe tbody tr th {\n",
       "        vertical-align: top;\n",
       "    }\n",
       "\n",
       "    .dataframe thead th {\n",
       "        text-align: right;\n",
       "    }\n",
       "</style>\n",
       "<table border=\"1\" class=\"dataframe\">\n",
       "  <thead>\n",
       "    <tr style=\"text-align: right;\">\n",
       "      <th></th>\n",
       "      <th></th>\n",
       "      <th></th>\n",
       "      <th></th>\n",
       "      <th>recs</th>\n",
       "    </tr>\n",
       "    <tr>\n",
       "      <th>Set</th>\n",
       "      <th>user</th>\n",
       "      <th>Algorithm</th>\n",
       "      <th>variable</th>\n",
       "      <th></th>\n",
       "    </tr>\n",
       "  </thead>\n",
       "  <tbody>\n",
       "    <tr>\n",
       "      <th rowspan=\"5\" valign=\"top\">AZ</th>\n",
       "      <th rowspan=\"5\" valign=\"top\">529</th>\n",
       "      <th rowspan=\"2\" valign=\"top\">als</th>\n",
       "      <th>PropDC</th>\n",
       "      <td>0.489796</td>\n",
       "    </tr>\n",
       "    <tr>\n",
       "      <th>PropFemale</th>\n",
       "      <td>0.800000</td>\n",
       "    </tr>\n",
       "    <tr>\n",
       "      <th rowspan=\"2\" valign=\"top\">bpr</th>\n",
       "      <th>PropDC</th>\n",
       "      <td>0.466667</td>\n",
       "    </tr>\n",
       "    <tr>\n",
       "      <th>PropFemale</th>\n",
       "      <td>0.464286</td>\n",
       "    </tr>\n",
       "    <tr>\n",
       "      <th>item-item</th>\n",
       "      <th>PropDC</th>\n",
       "      <td>0.600000</td>\n",
       "    </tr>\n",
       "    <tr>\n",
       "      <th>...</th>\n",
       "      <th>...</th>\n",
       "      <th>...</th>\n",
       "      <th>...</th>\n",
       "      <td>...</td>\n",
       "    </tr>\n",
       "    <tr>\n",
       "      <th rowspan=\"5\" valign=\"top\">GR</th>\n",
       "      <th rowspan=\"5\" valign=\"top\">875516</th>\n",
       "      <th>bpr</th>\n",
       "      <th>PropFemale</th>\n",
       "      <td>0.093023</td>\n",
       "    </tr>\n",
       "    <tr>\n",
       "      <th rowspan=\"2\" valign=\"top\">item-item</th>\n",
       "      <th>PropDC</th>\n",
       "      <td>0.400000</td>\n",
       "    </tr>\n",
       "    <tr>\n",
       "      <th>PropFemale</th>\n",
       "      <td>0.361111</td>\n",
       "    </tr>\n",
       "    <tr>\n",
       "      <th rowspan=\"2\" valign=\"top\">user-user</th>\n",
       "      <th>PropDC</th>\n",
       "      <td>0.520000</td>\n",
       "    </tr>\n",
       "    <tr>\n",
       "      <th>PropFemale</th>\n",
       "      <td>0.083333</td>\n",
       "    </tr>\n",
       "  </tbody>\n",
       "</table>\n",
       "<p>119950 rows × 1 columns</p>\n",
       "</div>"
      ],
      "text/plain": [
       "                                     recs\n",
       "Set user   Algorithm variable            \n",
       "AZ  529    als       PropDC      0.489796\n",
       "                     PropFemale  0.800000\n",
       "           bpr       PropDC      0.466667\n",
       "                     PropFemale  0.464286\n",
       "           item-item PropDC      0.600000\n",
       "...                                   ...\n",
       "GR  875516 bpr       PropFemale  0.093023\n",
       "           item-item PropDC      0.400000\n",
       "                     PropFemale  0.361111\n",
       "           user-user PropDC      0.520000\n",
       "                     PropFemale  0.083333\n",
       "\n",
       "[119950 rows x 1 columns]"
      ]
     },
     "execution_count": 13,
     "metadata": {},
     "output_type": "execute_result"
    }
   ],
   "source": [
    "imp_rd = select_implicit(recs)\n",
    "imp_rd = imp_rd.melt(['Set', 'user', 'Algorithm'], ['PropFemale', 'PropDC'], value_name='recs')\n",
    "imp_rd.set_index(['Set', 'user', 'Algorithm', 'variable'], inplace=True)\n",
    "imp_rd.sort_index(inplace=True)\n",
    "imp_rd"
   ]
  },
  {
   "cell_type": "markdown",
   "metadata": {
    "papermill": {
     "duration": 0.021745,
     "end_time": "2020-05-12T09:31:11.125078",
     "exception": false,
     "start_time": "2020-05-12T09:31:11.103333",
     "status": "completed"
    },
    "tags": []
   },
   "source": [
    "Now the profile data:"
   ]
  },
  {
   "cell_type": "code",
   "execution_count": 14,
   "metadata": {
    "papermill": {
     "duration": 0.072089,
     "end_time": "2020-05-12T09:31:11.215282",
     "exception": false,
     "start_time": "2020-05-12T09:31:11.143193",
     "status": "completed"
    },
    "tags": []
   },
   "outputs": [
    {
     "data": {
      "text/html": [
       "<div>\n",
       "<style scoped>\n",
       "    .dataframe tbody tr th:only-of-type {\n",
       "        vertical-align: middle;\n",
       "    }\n",
       "\n",
       "    .dataframe tbody tr th {\n",
       "        vertical-align: top;\n",
       "    }\n",
       "\n",
       "    .dataframe thead th {\n",
       "        text-align: right;\n",
       "    }\n",
       "</style>\n",
       "<table border=\"1\" class=\"dataframe\">\n",
       "  <thead>\n",
       "    <tr style=\"text-align: right;\">\n",
       "      <th></th>\n",
       "      <th></th>\n",
       "      <th></th>\n",
       "      <th>profile</th>\n",
       "    </tr>\n",
       "    <tr>\n",
       "      <th>Set</th>\n",
       "      <th>user</th>\n",
       "      <th>variable</th>\n",
       "      <th></th>\n",
       "    </tr>\n",
       "  </thead>\n",
       "  <tbody>\n",
       "    <tr>\n",
       "      <th rowspan=\"5\" valign=\"top\">AZ</th>\n",
       "      <th rowspan=\"2\" valign=\"top\">529</th>\n",
       "      <th>PropDC</th>\n",
       "      <td>0.375000</td>\n",
       "    </tr>\n",
       "    <tr>\n",
       "      <th>PropFemale</th>\n",
       "      <td>0.800000</td>\n",
       "    </tr>\n",
       "    <tr>\n",
       "      <th rowspan=\"2\" valign=\"top\">1723</th>\n",
       "      <th>PropDC</th>\n",
       "      <td>0.560000</td>\n",
       "    </tr>\n",
       "    <tr>\n",
       "      <th>PropFemale</th>\n",
       "      <td>0.285714</td>\n",
       "    </tr>\n",
       "    <tr>\n",
       "      <th>1810</th>\n",
       "      <th>PropDC</th>\n",
       "      <td>0.125000</td>\n",
       "    </tr>\n",
       "    <tr>\n",
       "      <th>...</th>\n",
       "      <th>...</th>\n",
       "      <th>...</th>\n",
       "      <td>...</td>\n",
       "    </tr>\n",
       "    <tr>\n",
       "      <th rowspan=\"5\" valign=\"top\">GR</th>\n",
       "      <th>875408</th>\n",
       "      <th>PropFemale</th>\n",
       "      <td>0.284211</td>\n",
       "    </tr>\n",
       "    <tr>\n",
       "      <th rowspan=\"2\" valign=\"top\">875441</th>\n",
       "      <th>PropDC</th>\n",
       "      <td>0.485714</td>\n",
       "    </tr>\n",
       "    <tr>\n",
       "      <th>PropFemale</th>\n",
       "      <td>0.821990</td>\n",
       "    </tr>\n",
       "    <tr>\n",
       "      <th rowspan=\"2\" valign=\"top\">875516</th>\n",
       "      <th>PropDC</th>\n",
       "      <td>0.523148</td>\n",
       "    </tr>\n",
       "    <tr>\n",
       "      <th>PropFemale</th>\n",
       "      <td>0.115044</td>\n",
       "    </tr>\n",
       "  </tbody>\n",
       "</table>\n",
       "<p>30000 rows × 1 columns</p>\n",
       "</div>"
      ],
      "text/plain": [
       "                        profile\n",
       "Set user   variable            \n",
       "AZ  529    PropDC      0.375000\n",
       "           PropFemale  0.800000\n",
       "    1723   PropDC      0.560000\n",
       "           PropFemale  0.285714\n",
       "    1810   PropDC      0.125000\n",
       "...                         ...\n",
       "GR  875408 PropFemale  0.284211\n",
       "    875441 PropDC      0.485714\n",
       "           PropFemale  0.821990\n",
       "    875516 PropDC      0.523148\n",
       "           PropFemale  0.115044\n",
       "\n",
       "[30000 rows x 1 columns]"
      ]
     },
     "execution_count": 14,
     "metadata": {},
     "output_type": "execute_result"
    }
   ],
   "source": [
    "imp_prof = profiles.reset_index()\n",
    "imp_prof = imp_prof[~imp_prof['Set'].str.endswith('-E')]\n",
    "imp_prof['Set'] = imp_prof['Set'].str.replace('-I$', '')\n",
    "imp_prof = imp_prof.melt(['Set', 'user'], ['PropFemale', 'PropDC'], value_name='profile')\n",
    "imp_prof.set_index(['Set', 'user', 'variable'], inplace=True)\n",
    "imp_prof.sort_index(inplace=True)\n",
    "imp_prof"
   ]
  },
  {
   "cell_type": "markdown",
   "metadata": {
    "papermill": {
     "duration": 0.017023,
     "end_time": "2020-05-12T09:31:11.249282",
     "exception": false,
     "start_time": "2020-05-12T09:31:11.232259",
     "status": "completed"
    },
    "tags": []
   },
   "source": [
    "And now merge it:"
   ]
  },
  {
   "cell_type": "code",
   "execution_count": 15,
   "metadata": {
    "papermill": {
     "duration": 0.20807,
     "end_time": "2020-05-12T09:31:11.474388",
     "exception": false,
     "start_time": "2020-05-12T09:31:11.266318",
     "status": "completed"
    },
    "tags": []
   },
   "outputs": [
    {
     "data": {
      "text/html": [
       "<div>\n",
       "<style scoped>\n",
       "    .dataframe tbody tr th:only-of-type {\n",
       "        vertical-align: middle;\n",
       "    }\n",
       "\n",
       "    .dataframe tbody tr th {\n",
       "        vertical-align: top;\n",
       "    }\n",
       "\n",
       "    .dataframe thead th {\n",
       "        text-align: right;\n",
       "    }\n",
       "</style>\n",
       "<table border=\"1\" class=\"dataframe\">\n",
       "  <thead>\n",
       "    <tr style=\"text-align: right;\">\n",
       "      <th></th>\n",
       "      <th></th>\n",
       "      <th></th>\n",
       "      <th></th>\n",
       "      <th>profile</th>\n",
       "      <th>recs</th>\n",
       "    </tr>\n",
       "    <tr>\n",
       "      <th>Set</th>\n",
       "      <th>user</th>\n",
       "      <th>variable</th>\n",
       "      <th>Algorithm</th>\n",
       "      <th></th>\n",
       "      <th></th>\n",
       "    </tr>\n",
       "  </thead>\n",
       "  <tbody>\n",
       "    <tr>\n",
       "      <th rowspan=\"5\" valign=\"top\">AZ</th>\n",
       "      <th rowspan=\"5\" valign=\"top\">529</th>\n",
       "      <th rowspan=\"4\" valign=\"top\">PropDC</th>\n",
       "      <th>als</th>\n",
       "      <td>0.375000</td>\n",
       "      <td>0.489796</td>\n",
       "    </tr>\n",
       "    <tr>\n",
       "      <th>bpr</th>\n",
       "      <td>0.375000</td>\n",
       "      <td>0.466667</td>\n",
       "    </tr>\n",
       "    <tr>\n",
       "      <th>item-item</th>\n",
       "      <td>0.375000</td>\n",
       "      <td>0.600000</td>\n",
       "    </tr>\n",
       "    <tr>\n",
       "      <th>user-user</th>\n",
       "      <td>0.375000</td>\n",
       "      <td>0.489796</td>\n",
       "    </tr>\n",
       "    <tr>\n",
       "      <th>PropFemale</th>\n",
       "      <th>als</th>\n",
       "      <td>0.800000</td>\n",
       "      <td>0.800000</td>\n",
       "    </tr>\n",
       "    <tr>\n",
       "      <th>...</th>\n",
       "      <th>...</th>\n",
       "      <th>...</th>\n",
       "      <th>...</th>\n",
       "      <td>...</td>\n",
       "      <td>...</td>\n",
       "    </tr>\n",
       "    <tr>\n",
       "      <th rowspan=\"5\" valign=\"top\">GR</th>\n",
       "      <th rowspan=\"5\" valign=\"top\">875516</th>\n",
       "      <th>PropDC</th>\n",
       "      <th>user-user</th>\n",
       "      <td>0.523148</td>\n",
       "      <td>0.520000</td>\n",
       "    </tr>\n",
       "    <tr>\n",
       "      <th rowspan=\"4\" valign=\"top\">PropFemale</th>\n",
       "      <th>als</th>\n",
       "      <td>0.115044</td>\n",
       "      <td>0.040000</td>\n",
       "    </tr>\n",
       "    <tr>\n",
       "      <th>bpr</th>\n",
       "      <td>0.115044</td>\n",
       "      <td>0.093023</td>\n",
       "    </tr>\n",
       "    <tr>\n",
       "      <th>item-item</th>\n",
       "      <td>0.115044</td>\n",
       "      <td>0.361111</td>\n",
       "    </tr>\n",
       "    <tr>\n",
       "      <th>user-user</th>\n",
       "      <td>0.115044</td>\n",
       "      <td>0.083333</td>\n",
       "    </tr>\n",
       "  </tbody>\n",
       "</table>\n",
       "<p>119950 rows × 2 columns</p>\n",
       "</div>"
      ],
      "text/plain": [
       "                                  profile      recs\n",
       "Set user   variable   Algorithm                    \n",
       "AZ  529    PropDC     als        0.375000  0.489796\n",
       "                      bpr        0.375000  0.466667\n",
       "                      item-item  0.375000  0.600000\n",
       "                      user-user  0.375000  0.489796\n",
       "           PropFemale als        0.800000  0.800000\n",
       "...                                   ...       ...\n",
       "GR  875516 PropDC     user-user  0.523148  0.520000\n",
       "           PropFemale als        0.115044  0.040000\n",
       "                      bpr        0.115044  0.093023\n",
       "                      item-item  0.115044  0.361111\n",
       "                      user-user  0.115044  0.083333\n",
       "\n",
       "[119950 rows x 2 columns]"
      ]
     },
     "execution_count": 15,
     "metadata": {},
     "output_type": "execute_result"
    }
   ],
   "source": [
    "joint = imp_prof.join(imp_rd)\n",
    "joint"
   ]
  },
  {
   "cell_type": "markdown",
   "metadata": {
    "papermill": {
     "duration": 0.016995,
     "end_time": "2020-05-12T09:31:11.508389",
     "exception": false,
     "start_time": "2020-05-12T09:31:11.491394",
     "status": "completed"
    },
    "tags": []
   },
   "source": [
    "And compute profile-rec correlations:"
   ]
  },
  {
   "cell_type": "code",
   "execution_count": 16,
   "metadata": {
    "papermill": {
     "duration": 0.064964,
     "end_time": "2020-05-12T09:31:11.591355",
     "exception": false,
     "start_time": "2020-05-12T09:31:11.526391",
     "status": "completed"
    },
    "tags": []
   },
   "outputs": [
    {
     "data": {
      "text/html": [
       "<div>\n",
       "<style scoped>\n",
       "    .dataframe tbody tr th:only-of-type {\n",
       "        vertical-align: middle;\n",
       "    }\n",
       "\n",
       "    .dataframe tbody tr th {\n",
       "        vertical-align: top;\n",
       "    }\n",
       "\n",
       "    .dataframe thead th {\n",
       "        text-align: right;\n",
       "    }\n",
       "</style>\n",
       "<table border=\"1\" class=\"dataframe\">\n",
       "  <thead>\n",
       "    <tr style=\"text-align: right;\">\n",
       "      <th></th>\n",
       "      <th>variable</th>\n",
       "      <th>PropDC</th>\n",
       "      <th>PropFemale</th>\n",
       "    </tr>\n",
       "    <tr>\n",
       "      <th>Set</th>\n",
       "      <th>Algorithm</th>\n",
       "      <th></th>\n",
       "      <th></th>\n",
       "    </tr>\n",
       "  </thead>\n",
       "  <tbody>\n",
       "    <tr>\n",
       "      <th rowspan=\"4\" valign=\"top\">AZ</th>\n",
       "      <th>als</th>\n",
       "      <td>-0.024951</td>\n",
       "      <td>0.822392</td>\n",
       "    </tr>\n",
       "    <tr>\n",
       "      <th>bpr</th>\n",
       "      <td>-0.021407</td>\n",
       "      <td>0.630675</td>\n",
       "    </tr>\n",
       "    <tr>\n",
       "      <th>item-item</th>\n",
       "      <td>0.012452</td>\n",
       "      <td>0.705908</td>\n",
       "    </tr>\n",
       "    <tr>\n",
       "      <th>user-user</th>\n",
       "      <td>0.005395</td>\n",
       "      <td>0.803753</td>\n",
       "    </tr>\n",
       "    <tr>\n",
       "      <th rowspan=\"4\" valign=\"top\">BX</th>\n",
       "      <th>als</th>\n",
       "      <td>-0.002632</td>\n",
       "      <td>0.735219</td>\n",
       "    </tr>\n",
       "    <tr>\n",
       "      <th>bpr</th>\n",
       "      <td>-0.001114</td>\n",
       "      <td>0.774075</td>\n",
       "    </tr>\n",
       "    <tr>\n",
       "      <th>item-item</th>\n",
       "      <td>-0.023173</td>\n",
       "      <td>0.560200</td>\n",
       "    </tr>\n",
       "    <tr>\n",
       "      <th>user-user</th>\n",
       "      <td>-0.045251</td>\n",
       "      <td>0.595326</td>\n",
       "    </tr>\n",
       "    <tr>\n",
       "      <th rowspan=\"4\" valign=\"top\">GR</th>\n",
       "      <th>als</th>\n",
       "      <td>-0.008759</td>\n",
       "      <td>0.902928</td>\n",
       "    </tr>\n",
       "    <tr>\n",
       "      <th>bpr</th>\n",
       "      <td>0.001138</td>\n",
       "      <td>0.892903</td>\n",
       "    </tr>\n",
       "    <tr>\n",
       "      <th>item-item</th>\n",
       "      <td>-0.064934</td>\n",
       "      <td>0.773523</td>\n",
       "    </tr>\n",
       "    <tr>\n",
       "      <th>user-user</th>\n",
       "      <td>-0.062454</td>\n",
       "      <td>0.813079</td>\n",
       "    </tr>\n",
       "  </tbody>\n",
       "</table>\n",
       "</div>"
      ],
      "text/plain": [
       "variable         PropDC  PropFemale\n",
       "Set Algorithm                      \n",
       "AZ  als       -0.024951    0.822392\n",
       "    bpr       -0.021407    0.630675\n",
       "    item-item  0.012452    0.705908\n",
       "    user-user  0.005395    0.803753\n",
       "BX  als       -0.002632    0.735219\n",
       "    bpr       -0.001114    0.774075\n",
       "    item-item -0.023173    0.560200\n",
       "    user-user -0.045251    0.595326\n",
       "GR  als       -0.008759    0.902928\n",
       "    bpr        0.001138    0.892903\n",
       "    item-item -0.064934    0.773523\n",
       "    user-user -0.062454    0.813079"
      ]
     },
     "execution_count": 16,
     "metadata": {},
     "output_type": "execute_result"
    }
   ],
   "source": [
    "joint.groupby(['Set', 'Algorithm', 'variable']).apply(lambda df: df['profile'].corr(df['recs'])).unstack()"
   ]
  },
  {
   "cell_type": "markdown",
   "metadata": {
    "papermill": {
     "duration": 0.020982,
     "end_time": "2020-05-12T09:31:11.630355",
     "exception": false,
     "start_time": "2020-05-12T09:31:11.609373",
     "status": "completed"
    },
    "tags": []
   },
   "source": [
    "### Explicit-feedback mode\n",
    "\n",
    "First, extract the recommendation data:"
   ]
  },
  {
   "cell_type": "code",
   "execution_count": 17,
   "metadata": {
    "papermill": {
     "duration": 0.191234,
     "end_time": "2020-05-12T09:31:11.846589",
     "exception": false,
     "start_time": "2020-05-12T09:31:11.655355",
     "status": "completed"
    },
    "tags": []
   },
   "outputs": [
    {
     "data": {
      "text/html": [
       "<div>\n",
       "<style scoped>\n",
       "    .dataframe tbody tr th:only-of-type {\n",
       "        vertical-align: middle;\n",
       "    }\n",
       "\n",
       "    .dataframe tbody tr th {\n",
       "        vertical-align: top;\n",
       "    }\n",
       "\n",
       "    .dataframe thead th {\n",
       "        text-align: right;\n",
       "    }\n",
       "</style>\n",
       "<table border=\"1\" class=\"dataframe\">\n",
       "  <thead>\n",
       "    <tr style=\"text-align: right;\">\n",
       "      <th></th>\n",
       "      <th></th>\n",
       "      <th></th>\n",
       "      <th></th>\n",
       "      <th>recs</th>\n",
       "    </tr>\n",
       "    <tr>\n",
       "      <th>Set</th>\n",
       "      <th>user</th>\n",
       "      <th>Algorithm</th>\n",
       "      <th>variable</th>\n",
       "      <th></th>\n",
       "    </tr>\n",
       "  </thead>\n",
       "  <tbody>\n",
       "    <tr>\n",
       "      <th rowspan=\"5\" valign=\"top\">AZ</th>\n",
       "      <th rowspan=\"5\" valign=\"top\">529</th>\n",
       "      <th rowspan=\"2\" valign=\"top\">als</th>\n",
       "      <th>PropDC</th>\n",
       "      <td>0.522727</td>\n",
       "    </tr>\n",
       "    <tr>\n",
       "      <th>PropFemale</th>\n",
       "      <td>0.296296</td>\n",
       "    </tr>\n",
       "    <tr>\n",
       "      <th rowspan=\"2\" valign=\"top\">item-item</th>\n",
       "      <th>PropDC</th>\n",
       "      <td>0.512195</td>\n",
       "    </tr>\n",
       "    <tr>\n",
       "      <th>PropFemale</th>\n",
       "      <td>0.684211</td>\n",
       "    </tr>\n",
       "    <tr>\n",
       "      <th>user-user</th>\n",
       "      <th>PropDC</th>\n",
       "      <td>0.613636</td>\n",
       "    </tr>\n",
       "    <tr>\n",
       "      <th>...</th>\n",
       "      <th>...</th>\n",
       "      <th>...</th>\n",
       "      <th>...</th>\n",
       "      <td>...</td>\n",
       "    </tr>\n",
       "    <tr>\n",
       "      <th rowspan=\"5\" valign=\"top\">GR</th>\n",
       "      <th>875920</th>\n",
       "      <th>user-user</th>\n",
       "      <th>PropFemale</th>\n",
       "      <td>0.192308</td>\n",
       "    </tr>\n",
       "    <tr>\n",
       "      <th rowspan=\"4\" valign=\"top\">875927</th>\n",
       "      <th rowspan=\"2\" valign=\"top\">item-item</th>\n",
       "      <th>PropDC</th>\n",
       "      <td>0.560000</td>\n",
       "    </tr>\n",
       "    <tr>\n",
       "      <th>PropFemale</th>\n",
       "      <td>0.500000</td>\n",
       "    </tr>\n",
       "    <tr>\n",
       "      <th rowspan=\"2\" valign=\"top\">user-user</th>\n",
       "      <th>PropDC</th>\n",
       "      <td>0.540000</td>\n",
       "    </tr>\n",
       "    <tr>\n",
       "      <th>PropFemale</th>\n",
       "      <td>0.304348</td>\n",
       "    </tr>\n",
       "  </tbody>\n",
       "</table>\n",
       "<p>68342 rows × 1 columns</p>\n",
       "</div>"
      ],
      "text/plain": [
       "                                     recs\n",
       "Set user   Algorithm variable            \n",
       "AZ  529    als       PropDC      0.522727\n",
       "                     PropFemale  0.296296\n",
       "           item-item PropDC      0.512195\n",
       "                     PropFemale  0.684211\n",
       "           user-user PropDC      0.613636\n",
       "...                                   ...\n",
       "GR  875920 user-user PropFemale  0.192308\n",
       "    875927 item-item PropDC      0.560000\n",
       "                     PropFemale  0.500000\n",
       "           user-user PropDC      0.540000\n",
       "                     PropFemale  0.304348\n",
       "\n",
       "[68342 rows x 1 columns]"
      ]
     },
     "execution_count": 17,
     "metadata": {},
     "output_type": "execute_result"
    }
   ],
   "source": [
    "exp_rd = select_explicit(recs)\n",
    "exp_rd = exp_rd.melt(['Set', 'user', 'Algorithm'], ['PropFemale', 'PropDC'], value_name='recs')\n",
    "exp_rd.set_index(['Set', 'user', 'Algorithm', 'variable'], inplace=True)\n",
    "exp_rd.sort_index(inplace=True)\n",
    "exp_rd"
   ]
  },
  {
   "cell_type": "markdown",
   "metadata": {
    "papermill": {
     "duration": 0.020987,
     "end_time": "2020-05-12T09:31:11.894589",
     "exception": false,
     "start_time": "2020-05-12T09:31:11.873602",
     "status": "completed"
    },
    "tags": []
   },
   "source": [
    "Now the profile data:"
   ]
  },
  {
   "cell_type": "code",
   "execution_count": 18,
   "metadata": {
    "papermill": {
     "duration": 0.083739,
     "end_time": "2020-05-12T09:31:11.998463",
     "exception": false,
     "start_time": "2020-05-12T09:31:11.914724",
     "status": "completed"
    },
    "tags": []
   },
   "outputs": [
    {
     "data": {
      "text/html": [
       "<div>\n",
       "<style scoped>\n",
       "    .dataframe tbody tr th:only-of-type {\n",
       "        vertical-align: middle;\n",
       "    }\n",
       "\n",
       "    .dataframe tbody tr th {\n",
       "        vertical-align: top;\n",
       "    }\n",
       "\n",
       "    .dataframe thead th {\n",
       "        text-align: right;\n",
       "    }\n",
       "</style>\n",
       "<table border=\"1\" class=\"dataframe\">\n",
       "  <thead>\n",
       "    <tr style=\"text-align: right;\">\n",
       "      <th></th>\n",
       "      <th></th>\n",
       "      <th></th>\n",
       "      <th>profile</th>\n",
       "    </tr>\n",
       "    <tr>\n",
       "      <th>Set</th>\n",
       "      <th>user</th>\n",
       "      <th>variable</th>\n",
       "      <th></th>\n",
       "    </tr>\n",
       "  </thead>\n",
       "  <tbody>\n",
       "    <tr>\n",
       "      <th rowspan=\"5\" valign=\"top\">AZ</th>\n",
       "      <th rowspan=\"2\" valign=\"top\">529</th>\n",
       "      <th>PropDC</th>\n",
       "      <td>0.375000</td>\n",
       "    </tr>\n",
       "    <tr>\n",
       "      <th>PropFemale</th>\n",
       "      <td>0.800000</td>\n",
       "    </tr>\n",
       "    <tr>\n",
       "      <th rowspan=\"2\" valign=\"top\">1723</th>\n",
       "      <th>PropDC</th>\n",
       "      <td>0.560000</td>\n",
       "    </tr>\n",
       "    <tr>\n",
       "      <th>PropFemale</th>\n",
       "      <td>0.285714</td>\n",
       "    </tr>\n",
       "    <tr>\n",
       "      <th>1810</th>\n",
       "      <th>PropDC</th>\n",
       "      <td>0.125000</td>\n",
       "    </tr>\n",
       "    <tr>\n",
       "      <th>...</th>\n",
       "      <th>...</th>\n",
       "      <th>...</th>\n",
       "      <td>...</td>\n",
       "    </tr>\n",
       "    <tr>\n",
       "      <th rowspan=\"5\" valign=\"top\">GR</th>\n",
       "      <th>875863</th>\n",
       "      <th>PropFemale</th>\n",
       "      <td>0.964602</td>\n",
       "    </tr>\n",
       "    <tr>\n",
       "      <th rowspan=\"2\" valign=\"top\">875920</th>\n",
       "      <th>PropDC</th>\n",
       "      <td>0.451613</td>\n",
       "    </tr>\n",
       "    <tr>\n",
       "      <th>PropFemale</th>\n",
       "      <td>0.133333</td>\n",
       "    </tr>\n",
       "    <tr>\n",
       "      <th rowspan=\"2\" valign=\"top\">875927</th>\n",
       "      <th>PropDC</th>\n",
       "      <td>0.608696</td>\n",
       "    </tr>\n",
       "    <tr>\n",
       "      <th>PropFemale</th>\n",
       "      <td>0.588235</td>\n",
       "    </tr>\n",
       "  </tbody>\n",
       "</table>\n",
       "<p>30000 rows × 1 columns</p>\n",
       "</div>"
      ],
      "text/plain": [
       "                        profile\n",
       "Set user   variable            \n",
       "AZ  529    PropDC      0.375000\n",
       "           PropFemale  0.800000\n",
       "    1723   PropDC      0.560000\n",
       "           PropFemale  0.285714\n",
       "    1810   PropDC      0.125000\n",
       "...                         ...\n",
       "GR  875863 PropFemale  0.964602\n",
       "    875920 PropDC      0.451613\n",
       "           PropFemale  0.133333\n",
       "    875927 PropDC      0.608696\n",
       "           PropFemale  0.588235\n",
       "\n",
       "[30000 rows x 1 columns]"
      ]
     },
     "execution_count": 18,
     "metadata": {},
     "output_type": "execute_result"
    }
   ],
   "source": [
    "exp_prof = profiles.reset_index()\n",
    "exp_prof = exp_prof[~exp_prof['Set'].str.endswith('-I')]\n",
    "exp_prof['Set'] = exp_prof['Set'].str.replace('-E$', '')\n",
    "exp_prof = exp_prof.melt(['Set', 'user'], ['PropFemale', 'PropDC'], value_name='profile')\n",
    "exp_prof.set_index(['Set', 'user', 'variable'], inplace=True)\n",
    "exp_prof.sort_index(inplace=True)\n",
    "exp_prof"
   ]
  },
  {
   "cell_type": "markdown",
   "metadata": {
    "papermill": {
     "duration": 0.01904,
     "end_time": "2020-05-12T09:31:12.036155",
     "exception": false,
     "start_time": "2020-05-12T09:31:12.017115",
     "status": "completed"
    },
    "tags": []
   },
   "source": [
    "And now merge it:"
   ]
  },
  {
   "cell_type": "code",
   "execution_count": 19,
   "metadata": {
    "papermill": {
     "duration": 0.152376,
     "end_time": "2020-05-12T09:31:12.208097",
     "exception": false,
     "start_time": "2020-05-12T09:31:12.055721",
     "status": "completed"
    },
    "tags": []
   },
   "outputs": [
    {
     "data": {
      "text/html": [
       "<div>\n",
       "<style scoped>\n",
       "    .dataframe tbody tr th:only-of-type {\n",
       "        vertical-align: middle;\n",
       "    }\n",
       "\n",
       "    .dataframe tbody tr th {\n",
       "        vertical-align: top;\n",
       "    }\n",
       "\n",
       "    .dataframe thead th {\n",
       "        text-align: right;\n",
       "    }\n",
       "</style>\n",
       "<table border=\"1\" class=\"dataframe\">\n",
       "  <thead>\n",
       "    <tr style=\"text-align: right;\">\n",
       "      <th></th>\n",
       "      <th></th>\n",
       "      <th></th>\n",
       "      <th></th>\n",
       "      <th>profile</th>\n",
       "      <th>recs</th>\n",
       "    </tr>\n",
       "    <tr>\n",
       "      <th>Set</th>\n",
       "      <th>user</th>\n",
       "      <th>variable</th>\n",
       "      <th>Algorithm</th>\n",
       "      <th></th>\n",
       "      <th></th>\n",
       "    </tr>\n",
       "  </thead>\n",
       "  <tbody>\n",
       "    <tr>\n",
       "      <th rowspan=\"5\" valign=\"top\">AZ</th>\n",
       "      <th rowspan=\"5\" valign=\"top\">529</th>\n",
       "      <th rowspan=\"3\" valign=\"top\">PropDC</th>\n",
       "      <th>als</th>\n",
       "      <td>0.375000</td>\n",
       "      <td>0.522727</td>\n",
       "    </tr>\n",
       "    <tr>\n",
       "      <th>item-item</th>\n",
       "      <td>0.375000</td>\n",
       "      <td>0.512195</td>\n",
       "    </tr>\n",
       "    <tr>\n",
       "      <th>user-user</th>\n",
       "      <td>0.375000</td>\n",
       "      <td>0.613636</td>\n",
       "    </tr>\n",
       "    <tr>\n",
       "      <th rowspan=\"2\" valign=\"top\">PropFemale</th>\n",
       "      <th>als</th>\n",
       "      <td>0.800000</td>\n",
       "      <td>0.296296</td>\n",
       "    </tr>\n",
       "    <tr>\n",
       "      <th>item-item</th>\n",
       "      <td>0.800000</td>\n",
       "      <td>0.684211</td>\n",
       "    </tr>\n",
       "    <tr>\n",
       "      <th>...</th>\n",
       "      <th>...</th>\n",
       "      <th>...</th>\n",
       "      <th>...</th>\n",
       "      <td>...</td>\n",
       "      <td>...</td>\n",
       "    </tr>\n",
       "    <tr>\n",
       "      <th rowspan=\"5\" valign=\"top\">GR</th>\n",
       "      <th>875920</th>\n",
       "      <th>PropFemale</th>\n",
       "      <th>user-user</th>\n",
       "      <td>0.133333</td>\n",
       "      <td>0.192308</td>\n",
       "    </tr>\n",
       "    <tr>\n",
       "      <th rowspan=\"4\" valign=\"top\">875927</th>\n",
       "      <th rowspan=\"2\" valign=\"top\">PropDC</th>\n",
       "      <th>item-item</th>\n",
       "      <td>0.608696</td>\n",
       "      <td>0.560000</td>\n",
       "    </tr>\n",
       "    <tr>\n",
       "      <th>user-user</th>\n",
       "      <td>0.608696</td>\n",
       "      <td>0.540000</td>\n",
       "    </tr>\n",
       "    <tr>\n",
       "      <th rowspan=\"2\" valign=\"top\">PropFemale</th>\n",
       "      <th>item-item</th>\n",
       "      <td>0.588235</td>\n",
       "      <td>0.500000</td>\n",
       "    </tr>\n",
       "    <tr>\n",
       "      <th>user-user</th>\n",
       "      <td>0.588235</td>\n",
       "      <td>0.304348</td>\n",
       "    </tr>\n",
       "  </tbody>\n",
       "</table>\n",
       "<p>68364 rows × 2 columns</p>\n",
       "</div>"
      ],
      "text/plain": [
       "                                  profile      recs\n",
       "Set user   variable   Algorithm                    \n",
       "AZ  529    PropDC     als        0.375000  0.522727\n",
       "                      item-item  0.375000  0.512195\n",
       "                      user-user  0.375000  0.613636\n",
       "           PropFemale als        0.800000  0.296296\n",
       "                      item-item  0.800000  0.684211\n",
       "...                                   ...       ...\n",
       "GR  875920 PropFemale user-user  0.133333  0.192308\n",
       "    875927 PropDC     item-item  0.608696  0.560000\n",
       "                      user-user  0.608696  0.540000\n",
       "           PropFemale item-item  0.588235  0.500000\n",
       "                      user-user  0.588235  0.304348\n",
       "\n",
       "[68364 rows x 2 columns]"
      ]
     },
     "execution_count": 19,
     "metadata": {},
     "output_type": "execute_result"
    }
   ],
   "source": [
    "joint = exp_prof.join(exp_rd)\n",
    "joint"
   ]
  },
  {
   "cell_type": "markdown",
   "metadata": {
    "papermill": {
     "duration": 0.019002,
     "end_time": "2020-05-12T09:31:12.245096",
     "exception": false,
     "start_time": "2020-05-12T09:31:12.226094",
     "status": "completed"
    },
    "tags": []
   },
   "source": [
    "And compute profile-rec correlations:"
   ]
  },
  {
   "cell_type": "code",
   "execution_count": 20,
   "metadata": {
    "papermill": {
     "duration": 0.049969,
     "end_time": "2020-05-12T09:31:12.314104",
     "exception": false,
     "start_time": "2020-05-12T09:31:12.264135",
     "status": "completed"
    },
    "tags": []
   },
   "outputs": [
    {
     "data": {
      "text/html": [
       "<div>\n",
       "<style scoped>\n",
       "    .dataframe tbody tr th:only-of-type {\n",
       "        vertical-align: middle;\n",
       "    }\n",
       "\n",
       "    .dataframe tbody tr th {\n",
       "        vertical-align: top;\n",
       "    }\n",
       "\n",
       "    .dataframe thead th {\n",
       "        text-align: right;\n",
       "    }\n",
       "</style>\n",
       "<table border=\"1\" class=\"dataframe\">\n",
       "  <thead>\n",
       "    <tr style=\"text-align: right;\">\n",
       "      <th></th>\n",
       "      <th>variable</th>\n",
       "      <th>PropDC</th>\n",
       "      <th>PropFemale</th>\n",
       "    </tr>\n",
       "    <tr>\n",
       "      <th>Set</th>\n",
       "      <th>Algorithm</th>\n",
       "      <th></th>\n",
       "      <th></th>\n",
       "    </tr>\n",
       "  </thead>\n",
       "  <tbody>\n",
       "    <tr>\n",
       "      <th rowspan=\"3\" valign=\"top\">AZ</th>\n",
       "      <th>als</th>\n",
       "      <td>-0.030883</td>\n",
       "      <td>0.220817</td>\n",
       "    </tr>\n",
       "    <tr>\n",
       "      <th>item-item</th>\n",
       "      <td>0.011453</td>\n",
       "      <td>0.619091</td>\n",
       "    </tr>\n",
       "    <tr>\n",
       "      <th>user-user</th>\n",
       "      <td>-0.026146</td>\n",
       "      <td>0.535963</td>\n",
       "    </tr>\n",
       "    <tr>\n",
       "      <th rowspan=\"2\" valign=\"top\">BX</th>\n",
       "      <th>item-item</th>\n",
       "      <td>-0.034358</td>\n",
       "      <td>0.296007</td>\n",
       "    </tr>\n",
       "    <tr>\n",
       "      <th>user-user</th>\n",
       "      <td>0.001537</td>\n",
       "      <td>0.379183</td>\n",
       "    </tr>\n",
       "    <tr>\n",
       "      <th rowspan=\"2\" valign=\"top\">GR</th>\n",
       "      <th>item-item</th>\n",
       "      <td>-0.035269</td>\n",
       "      <td>0.622149</td>\n",
       "    </tr>\n",
       "    <tr>\n",
       "      <th>user-user</th>\n",
       "      <td>0.006073</td>\n",
       "      <td>0.487080</td>\n",
       "    </tr>\n",
       "  </tbody>\n",
       "</table>\n",
       "</div>"
      ],
      "text/plain": [
       "variable         PropDC  PropFemale\n",
       "Set Algorithm                      \n",
       "AZ  als       -0.030883    0.220817\n",
       "    item-item  0.011453    0.619091\n",
       "    user-user -0.026146    0.535963\n",
       "BX  item-item -0.034358    0.296007\n",
       "    user-user  0.001537    0.379183\n",
       "GR  item-item -0.035269    0.622149\n",
       "    user-user  0.006073    0.487080"
      ]
     },
     "execution_count": 20,
     "metadata": {},
     "output_type": "execute_result"
    }
   ],
   "source": [
    "joint.groupby(['Set', 'Algorithm', 'variable']).apply(lambda df: df['profile'].corr(df['recs'])).unstack()"
   ]
  },
  {
   "cell_type": "code",
   "execution_count": null,
   "metadata": {
    "papermill": {
     "duration": 0.022985,
     "end_time": "2020-05-12T09:31:12.360103",
     "exception": false,
     "start_time": "2020-05-12T09:31:12.337118",
     "status": "completed"
    },
    "tags": []
   },
   "outputs": [],
   "source": []
  }
 ],
 "metadata": {
  "kernelspec": {
   "display_name": "Python 3",
   "language": "python",
   "name": "python3"
  },
  "language_info": {
   "codemirror_mode": {
    "name": "ipython",
    "version": 3
   },
   "file_extension": ".py",
   "mimetype": "text/x-python",
   "name": "python",
   "nbconvert_exporter": "python",
   "pygments_lexer": "ipython3",
   "version": "3.7.6"
  },
  "papermill": {
   "duration": 10.972683,
   "end_time": "2020-05-12T09:31:12.688786",
   "environment_variables": {},
   "exception": null,
   "input_path": "RecCorrelations.ipynb",
   "output_path": "RecCorrelations.temp.ipynb",
   "parameters": {},
   "start_time": "2020-05-12T09:31:01.716103",
   "version": "1.2.1"
  }
 },
 "nbformat": 4,
 "nbformat_minor": 2
}