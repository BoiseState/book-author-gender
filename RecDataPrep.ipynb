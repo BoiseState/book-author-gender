{
 "cells": [
  {
   "cell_type": "markdown",
   "metadata": {
    "papermill": {
     "duration": 0.025543,
     "end_time": "2019-09-24T19:53:47.271381",
     "exception": false,
     "start_time": "2019-09-24T19:53:47.245838",
     "status": "completed"
    },
    "tags": []
   },
   "source": [
    "# Recommendation List Data Prep\n",
    "\n",
    "This notebook does the data preparation for the recommendation list analysis."
   ]
  },
  {
   "cell_type": "markdown",
   "metadata": {
    "papermill": {
     "duration": 0.021877,
     "end_time": "2019-09-24T19:53:47.316540",
     "exception": false,
     "start_time": "2019-09-24T19:53:47.294663",
     "status": "completed"
    },
    "tags": []
   },
   "source": [
    "## Setup"
   ]
  },
  {
   "cell_type": "code",
   "execution_count": 1,
   "metadata": {
    "papermill": {
     "duration": 1.942329,
     "end_time": "2019-09-24T19:53:49.280772",
     "exception": false,
     "start_time": "2019-09-24T19:53:47.338443",
     "status": "completed"
    },
    "tags": []
   },
   "outputs": [],
   "source": [
    "import pandas as pd\n",
    "import numpy as np\n",
    "import seaborn as sns\n",
    "import matplotlib.pyplot as plt\n",
    "import pystan"
   ]
  },
  {
   "cell_type": "markdown",
   "metadata": {
    "papermill": {
     "duration": 0.021878,
     "end_time": "2019-09-24T19:53:49.325620",
     "exception": false,
     "start_time": "2019-09-24T19:53:49.303742",
     "status": "completed"
    },
    "tags": []
   },
   "source": [
    "## Load Data"
   ]
  },
  {
   "cell_type": "markdown",
   "metadata": {
    "papermill": {
     "duration": 0.025613,
     "end_time": "2019-09-24T19:53:49.373359",
     "exception": false,
     "start_time": "2019-09-24T19:53:49.347746",
     "status": "completed"
    },
    "tags": []
   },
   "source": [
    "Load book gender data and clean it up:"
   ]
  },
  {
   "cell_type": "code",
   "execution_count": 2,
   "metadata": {
    "papermill": {
     "duration": 6.913995,
     "end_time": "2019-09-24T19:53:56.310183",
     "exception": false,
     "start_time": "2019-09-24T19:53:49.396188",
     "status": "completed"
    },
    "tags": []
   },
   "outputs": [
    {
     "data": {
      "text/plain": [
       "count     10735373\n",
       "unique           4\n",
       "top        unknown\n",
       "freq       6366798\n",
       "Name: gender, dtype: object"
      ]
     },
     "execution_count": 2,
     "metadata": {},
     "output_type": "execute_result"
    }
   ],
   "source": [
    "book_gender = pd.read_csv('data/author-gender.csv.gz')\n",
    "book_gender = book_gender.set_index('item')['gender']\n",
    "book_gender.loc[book_gender.str.startswith('no-')] = 'unknown'\n",
    "book_gender.loc[book_gender == 'unlinked'] = 'unknown'\n",
    "book_gender = book_gender.astype('category')\n",
    "book_gender.describe()"
   ]
  },
  {
   "cell_type": "code",
   "execution_count": 3,
   "metadata": {
    "papermill": {
     "duration": 0.033778,
     "end_time": "2019-09-24T19:53:56.368263",
     "exception": false,
     "start_time": "2019-09-24T19:53:56.334485",
     "status": "completed"
    },
    "tags": []
   },
   "outputs": [
    {
     "data": {
      "text/plain": [
       "item\n",
       "101005672    unknown\n",
       "101005673    unknown\n",
       "101005674    unknown\n",
       "101005675     female\n",
       "101005676    unknown\n",
       "Name: gender, dtype: category\n",
       "Categories (4, object): [ambiguous, female, male, unknown]"
      ]
     },
     "execution_count": 3,
     "metadata": {},
     "output_type": "execute_result"
    }
   ],
   "source": [
    "book_gender.head()"
   ]
  },
  {
   "cell_type": "markdown",
   "metadata": {
    "papermill": {
     "duration": 0.023426,
     "end_time": "2019-09-24T19:53:56.415454",
     "exception": false,
     "start_time": "2019-09-24T19:53:56.392028",
     "status": "completed"
    },
    "tags": []
   },
   "source": [
    "And load hashes:"
   ]
  },
  {
   "cell_type": "code",
   "execution_count": 4,
   "metadata": {
    "papermill": {
     "duration": 10.777905,
     "end_time": "2019-09-24T19:54:07.217326",
     "exception": false,
     "start_time": "2019-09-24T19:53:56.439421",
     "status": "completed"
    },
    "tags": []
   },
   "outputs": [
    {
     "data": {
      "text/html": [
       "<div>\n",
       "<style scoped>\n",
       "    .dataframe tbody tr th:only-of-type {\n",
       "        vertical-align: middle;\n",
       "    }\n",
       "\n",
       "    .dataframe tbody tr th {\n",
       "        vertical-align: top;\n",
       "    }\n",
       "\n",
       "    .dataframe thead th {\n",
       "        text-align: right;\n",
       "    }\n",
       "</style>\n",
       "<table border=\"1\" class=\"dataframe\">\n",
       "  <thead>\n",
       "    <tr style=\"text-align: right;\">\n",
       "      <th></th>\n",
       "      <th>nisbns</th>\n",
       "      <th>md5</th>\n",
       "      <th>dcode</th>\n",
       "    </tr>\n",
       "    <tr>\n",
       "      <th>item</th>\n",
       "      <th></th>\n",
       "      <th></th>\n",
       "      <th></th>\n",
       "    </tr>\n",
       "  </thead>\n",
       "  <tbody>\n",
       "    <tr>\n",
       "      <td>100000001</td>\n",
       "      <td>2</td>\n",
       "      <td>b6797168fc729b01cac4ea70ffeeb66b</td>\n",
       "      <td>1</td>\n",
       "    </tr>\n",
       "    <tr>\n",
       "      <td>100000002</td>\n",
       "      <td>2</td>\n",
       "      <td>a4085a8051976573c2b51d5f87d2f1d3</td>\n",
       "      <td>1</td>\n",
       "    </tr>\n",
       "    <tr>\n",
       "      <td>100000003</td>\n",
       "      <td>2</td>\n",
       "      <td>829f0158d2f4328e5d034ef88282f8bc</td>\n",
       "      <td>0</td>\n",
       "    </tr>\n",
       "    <tr>\n",
       "      <td>100000004</td>\n",
       "      <td>5</td>\n",
       "      <td>699786577b6425c7d565d1394f794a70</td>\n",
       "      <td>0</td>\n",
       "    </tr>\n",
       "    <tr>\n",
       "      <td>100000005</td>\n",
       "      <td>2</td>\n",
       "      <td>d0e89179cb36957e032c7884b3df4fd9</td>\n",
       "      <td>1</td>\n",
       "    </tr>\n",
       "  </tbody>\n",
       "</table>\n",
       "</div>"
      ],
      "text/plain": [
       "           nisbns                               md5  dcode\n",
       "item                                                      \n",
       "100000001       2  b6797168fc729b01cac4ea70ffeeb66b      1\n",
       "100000002       2  a4085a8051976573c2b51d5f87d2f1d3      1\n",
       "100000003       2  829f0158d2f4328e5d034ef88282f8bc      0\n",
       "100000004       5  699786577b6425c7d565d1394f794a70      0\n",
       "100000005       2  d0e89179cb36957e032c7884b3df4fd9      1"
      ]
     },
     "execution_count": 4,
     "metadata": {},
     "output_type": "execute_result"
    }
   ],
   "source": [
    "book_hash = pd.read_parquet('data/book-hash.parquet').rename(columns={'cluster': 'item'})\n",
    "book_hash['dcode'] = book_hash['md5'].apply(lambda x: int(x[-1], 16) % 2)\n",
    "book_hash = book_hash.set_index('item')\n",
    "book_hash.head()"
   ]
  },
  {
   "cell_type": "markdown",
   "metadata": {
    "papermill": {
     "duration": 0.022562,
     "end_time": "2019-09-24T19:54:07.263754",
     "exception": false,
     "start_time": "2019-09-24T19:54:07.241192",
     "status": "completed"
    },
    "tags": []
   },
   "source": [
    "Load the user profile data:"
   ]
  },
  {
   "cell_type": "code",
   "execution_count": 5,
   "metadata": {
    "papermill": {
     "duration": 0.039395,
     "end_time": "2019-09-24T19:54:07.326034",
     "exception": false,
     "start_time": "2019-09-24T19:54:07.286639",
     "status": "completed"
    },
    "tags": []
   },
   "outputs": [
    {
     "data": {
      "text/html": [
       "<div>\n",
       "<style scoped>\n",
       "    .dataframe tbody tr th:only-of-type {\n",
       "        vertical-align: middle;\n",
       "    }\n",
       "\n",
       "    .dataframe tbody tr th {\n",
       "        vertical-align: top;\n",
       "    }\n",
       "\n",
       "    .dataframe thead th {\n",
       "        text-align: right;\n",
       "    }\n",
       "</style>\n",
       "<table border=\"1\" class=\"dataframe\">\n",
       "  <thead>\n",
       "    <tr style=\"text-align: right;\">\n",
       "      <th></th>\n",
       "      <th></th>\n",
       "      <th>count</th>\n",
       "      <th>linked</th>\n",
       "      <th>ambiguous</th>\n",
       "      <th>male</th>\n",
       "      <th>female</th>\n",
       "      <th>dcknown</th>\n",
       "      <th>dcyes</th>\n",
       "      <th>PropDC</th>\n",
       "      <th>Known</th>\n",
       "      <th>PropFemale</th>\n",
       "      <th>PropKnown</th>\n",
       "    </tr>\n",
       "    <tr>\n",
       "      <th>Set</th>\n",
       "      <th>user</th>\n",
       "      <th></th>\n",
       "      <th></th>\n",
       "      <th></th>\n",
       "      <th></th>\n",
       "      <th></th>\n",
       "      <th></th>\n",
       "      <th></th>\n",
       "      <th></th>\n",
       "      <th></th>\n",
       "      <th></th>\n",
       "      <th></th>\n",
       "    </tr>\n",
       "  </thead>\n",
       "  <tbody>\n",
       "    <tr>\n",
       "      <td rowspan=\"5\" valign=\"top\">AZ</td>\n",
       "      <td>34891</td>\n",
       "      <td>26</td>\n",
       "      <td>6</td>\n",
       "      <td>0</td>\n",
       "      <td>0</td>\n",
       "      <td>5</td>\n",
       "      <td>3</td>\n",
       "      <td>1</td>\n",
       "      <td>0.333333</td>\n",
       "      <td>5</td>\n",
       "      <td>1.000000</td>\n",
       "      <td>0.192308</td>\n",
       "    </tr>\n",
       "    <tr>\n",
       "      <td>35841</td>\n",
       "      <td>7</td>\n",
       "      <td>7</td>\n",
       "      <td>1</td>\n",
       "      <td>0</td>\n",
       "      <td>5</td>\n",
       "      <td>3</td>\n",
       "      <td>3</td>\n",
       "      <td>1.000000</td>\n",
       "      <td>5</td>\n",
       "      <td>1.000000</td>\n",
       "      <td>0.714286</td>\n",
       "    </tr>\n",
       "    <tr>\n",
       "      <td>39018</td>\n",
       "      <td>17</td>\n",
       "      <td>10</td>\n",
       "      <td>1</td>\n",
       "      <td>3</td>\n",
       "      <td>5</td>\n",
       "      <td>7</td>\n",
       "      <td>3</td>\n",
       "      <td>0.428571</td>\n",
       "      <td>8</td>\n",
       "      <td>0.625000</td>\n",
       "      <td>0.470588</td>\n",
       "    </tr>\n",
       "    <tr>\n",
       "      <td>52563</td>\n",
       "      <td>8</td>\n",
       "      <td>8</td>\n",
       "      <td>0</td>\n",
       "      <td>0</td>\n",
       "      <td>8</td>\n",
       "      <td>4</td>\n",
       "      <td>2</td>\n",
       "      <td>0.500000</td>\n",
       "      <td>8</td>\n",
       "      <td>1.000000</td>\n",
       "      <td>1.000000</td>\n",
       "    </tr>\n",
       "    <tr>\n",
       "      <td>60825</td>\n",
       "      <td>45</td>\n",
       "      <td>38</td>\n",
       "      <td>0</td>\n",
       "      <td>31</td>\n",
       "      <td>7</td>\n",
       "      <td>18</td>\n",
       "      <td>11</td>\n",
       "      <td>0.611111</td>\n",
       "      <td>38</td>\n",
       "      <td>0.184211</td>\n",
       "      <td>0.844444</td>\n",
       "    </tr>\n",
       "  </tbody>\n",
       "</table>\n",
       "</div>"
      ],
      "text/plain": [
       "           count  linked  ambiguous  male  female  dcknown  dcyes    PropDC  \\\n",
       "Set user                                                                      \n",
       "AZ  34891     26       6          0     0       5        3      1  0.333333   \n",
       "    35841      7       7          1     0       5        3      3  1.000000   \n",
       "    39018     17      10          1     3       5        7      3  0.428571   \n",
       "    52563      8       8          0     0       8        4      2  0.500000   \n",
       "    60825     45      38          0    31       7       18     11  0.611111   \n",
       "\n",
       "           Known  PropFemale  PropKnown  \n",
       "Set user                                 \n",
       "AZ  34891      5    1.000000   0.192308  \n",
       "    35841      5    1.000000   0.714286  \n",
       "    39018      8    0.625000   0.470588  \n",
       "    52563      8    1.000000   1.000000  \n",
       "    60825     38    0.184211   0.844444  "
      ]
     },
     "execution_count": 5,
     "metadata": {},
     "output_type": "execute_result"
    }
   ],
   "source": [
    "profiles = pd.read_pickle('data/profile-data.pkl')\n",
    "profiles.head()"
   ]
  },
  {
   "cell_type": "code",
   "execution_count": 6,
   "metadata": {
    "papermill": {
     "duration": 0.029665,
     "end_time": "2019-09-24T19:54:07.379944",
     "exception": false,
     "start_time": "2019-09-24T19:54:07.350279",
     "status": "completed"
    },
    "tags": []
   },
   "outputs": [
    {
     "data": {
      "text/plain": [
       "['AZ', 'BX-E', 'BX-I', 'GR-E', 'GR-I']"
      ]
     },
     "execution_count": 6,
     "metadata": {},
     "output_type": "execute_result"
    }
   ],
   "source": [
    "datasets = list(profiles.index.levels[0])\n",
    "datasets"
   ]
  },
  {
   "cell_type": "markdown",
   "metadata": {
    "papermill": {
     "duration": 0.023454,
     "end_time": "2019-09-24T19:54:07.427574",
     "exception": false,
     "start_time": "2019-09-24T19:54:07.404120",
     "status": "completed"
    },
    "tags": []
   },
   "source": [
    "And load the recommendations:"
   ]
  },
  {
   "cell_type": "code",
   "execution_count": 7,
   "metadata": {
    "papermill": {
     "duration": 0.601316,
     "end_time": "2019-09-24T19:54:08.052472",
     "exception": false,
     "start_time": "2019-09-24T19:54:07.451156",
     "status": "completed"
    },
    "tags": []
   },
   "outputs": [
    {
     "data": {
      "text/html": [
       "<div>\n",
       "<style scoped>\n",
       "    .dataframe tbody tr th:only-of-type {\n",
       "        vertical-align: middle;\n",
       "    }\n",
       "\n",
       "    .dataframe tbody tr th {\n",
       "        vertical-align: top;\n",
       "    }\n",
       "\n",
       "    .dataframe thead th {\n",
       "        text-align: right;\n",
       "    }\n",
       "</style>\n",
       "<table border=\"1\" class=\"dataframe\">\n",
       "  <thead>\n",
       "    <tr style=\"text-align: right;\">\n",
       "      <th></th>\n",
       "      <th>Set</th>\n",
       "      <th>Algorithm</th>\n",
       "      <th>item</th>\n",
       "      <th>score</th>\n",
       "      <th>user</th>\n",
       "      <th>rank</th>\n",
       "    </tr>\n",
       "  </thead>\n",
       "  <tbody>\n",
       "    <tr>\n",
       "      <td>0</td>\n",
       "      <td>BX-E</td>\n",
       "      <td>user-user</td>\n",
       "      <td>102518254</td>\n",
       "      <td>12.424905</td>\n",
       "      <td>109864</td>\n",
       "      <td>1</td>\n",
       "    </tr>\n",
       "    <tr>\n",
       "      <td>1</td>\n",
       "      <td>BX-E</td>\n",
       "      <td>user-user</td>\n",
       "      <td>104203137</td>\n",
       "      <td>12.424905</td>\n",
       "      <td>109864</td>\n",
       "      <td>2</td>\n",
       "    </tr>\n",
       "    <tr>\n",
       "      <td>2</td>\n",
       "      <td>BX-E</td>\n",
       "      <td>user-user</td>\n",
       "      <td>104700337</td>\n",
       "      <td>12.424905</td>\n",
       "      <td>109864</td>\n",
       "      <td>3</td>\n",
       "    </tr>\n",
       "    <tr>\n",
       "      <td>3</td>\n",
       "      <td>BX-E</td>\n",
       "      <td>user-user</td>\n",
       "      <td>110046659</td>\n",
       "      <td>12.424905</td>\n",
       "      <td>109864</td>\n",
       "      <td>4</td>\n",
       "    </tr>\n",
       "    <tr>\n",
       "      <td>4</td>\n",
       "      <td>BX-E</td>\n",
       "      <td>user-user</td>\n",
       "      <td>110195353</td>\n",
       "      <td>12.424905</td>\n",
       "      <td>109864</td>\n",
       "      <td>5</td>\n",
       "    </tr>\n",
       "  </tbody>\n",
       "</table>\n",
       "</div>"
      ],
      "text/plain": [
       "    Set  Algorithm       item      score    user  rank\n",
       "0  BX-E  user-user  102518254  12.424905  109864     1\n",
       "1  BX-E  user-user  104203137  12.424905  109864     2\n",
       "2  BX-E  user-user  104700337  12.424905  109864     3\n",
       "3  BX-E  user-user  110046659  12.424905  109864     4\n",
       "4  BX-E  user-user  110195353  12.424905  109864     5"
      ]
     },
     "execution_count": 7,
     "metadata": {},
     "output_type": "execute_result"
    }
   ],
   "source": [
    "recs = pd.read_parquet('data/study-recs.parquet')\n",
    "recs.rename(columns={'dataset': 'Set', 'algorithm': 'Algorithm'}, inplace=True)\n",
    "recs.head()"
   ]
  },
  {
   "cell_type": "markdown",
   "metadata": {
    "papermill": {
     "duration": 0.025506,
     "end_time": "2019-09-24T19:54:08.103744",
     "exception": false,
     "start_time": "2019-09-24T19:54:08.078238",
     "status": "completed"
    },
    "tags": []
   },
   "source": [
    "The original paper truncated recommendation lists to 50. Let's do that too:"
   ]
  },
  {
   "cell_type": "code",
   "execution_count": 8,
   "metadata": {
    "papermill": {
     "duration": 0.079523,
     "end_time": "2019-09-24T19:54:08.207955",
     "exception": false,
     "start_time": "2019-09-24T19:54:08.128432",
     "status": "completed"
    },
    "tags": []
   },
   "outputs": [],
   "source": [
    "recs = recs[recs['rank'] <= 50]"
   ]
  },
  {
   "cell_type": "code",
   "execution_count": 9,
   "metadata": {
    "papermill": {
     "duration": 0.057645,
     "end_time": "2019-09-24T19:54:08.290132",
     "exception": false,
     "start_time": "2019-09-24T19:54:08.232487",
     "status": "completed"
    },
    "tags": []
   },
   "outputs": [
    {
     "data": {
      "text/plain": [
       "array(['BX-E', 'BX-I', 'AZ', 'GR-E', 'GR-I'], dtype=object)"
      ]
     },
     "execution_count": 9,
     "metadata": {},
     "output_type": "execute_result"
    }
   ],
   "source": [
    "recs.Set.unique()"
   ]
  },
  {
   "cell_type": "code",
   "execution_count": 10,
   "metadata": {
    "papermill": {
     "duration": 0.060387,
     "end_time": "2019-09-24T19:54:08.375744",
     "exception": false,
     "start_time": "2019-09-24T19:54:08.315357",
     "status": "completed"
    },
    "tags": []
   },
   "outputs": [
    {
     "data": {
      "text/plain": [
       "array(['user-user', 'item-item', 'als', 'wrls', 'bpr', 'user-user-imp',\n",
       "       'item-item-imp', 'wrls-imp', 'bpr-imp'], dtype=object)"
      ]
     },
     "execution_count": 10,
     "metadata": {},
     "output_type": "execute_result"
    }
   ],
   "source": [
    "recs.Algorithm.unique()"
   ]
  },
  {
   "cell_type": "markdown",
   "metadata": {
    "papermill": {
     "duration": 0.025075,
     "end_time": "2019-09-24T19:54:08.426656",
     "exception": false,
     "start_time": "2019-09-24T19:54:08.401581",
     "status": "completed"
    },
    "tags": []
   },
   "source": [
    "We will need to extract implicit/explicit from those.  In the new paper, we are going to separate out implicit and explicit data for presentation; these functions will help with that."
   ]
  },
  {
   "cell_type": "code",
   "execution_count": 11,
   "metadata": {
    "papermill": {
     "duration": 0.031439,
     "end_time": "2019-09-24T19:54:08.482441",
     "exception": false,
     "start_time": "2019-09-24T19:54:08.451002",
     "status": "completed"
    },
    "tags": []
   },
   "outputs": [],
   "source": [
    "def select_implicit(data, reset=True):\n",
    "    if reset:\n",
    "        data = data.reset_index()\n",
    "    implicit = data['Algorithm'].str.endswith('-imp') | data['Set'].str.endswith('-I')\n",
    "    data = data[implicit].assign(Set=data['Set'].str.replace('-I', ''),\n",
    "                                 Algorithm=data['Algorithm'].str.replace('-imp', ''))\n",
    "    data['Algorithm'] = data['Algorithm'].str.replace('wrls', 'als')\n",
    "    return data"
   ]
  },
  {
   "cell_type": "code",
   "execution_count": 12,
   "metadata": {
    "papermill": {
     "duration": 0.033868,
     "end_time": "2019-09-24T19:54:08.541917",
     "exception": false,
     "start_time": "2019-09-24T19:54:08.508049",
     "status": "completed"
    },
    "tags": []
   },
   "outputs": [],
   "source": [
    "def select_explicit(data, reset=True):\n",
    "    if reset:\n",
    "        data = data.reset_index()\n",
    "    implicit = data['Algorithm'].str.endswith('-imp') | data['Set'].str.endswith('-I')\n",
    "    data = data[~implicit].assign(Set=data['Set'].str.replace('-E', ''))\n",
    "    return data"
   ]
  },
  {
   "cell_type": "markdown",
   "metadata": {
    "papermill": {
     "duration": 0.025199,
     "end_time": "2019-09-24T19:54:08.591155",
     "exception": false,
     "start_time": "2019-09-24T19:54:08.565956",
     "status": "completed"
    },
    "tags": []
   },
   "source": [
    "## Analyze Rec List Composition"
   ]
  },
  {
   "cell_type": "markdown",
   "metadata": {
    "papermill": {
     "duration": 0.024976,
     "end_time": "2019-09-24T19:54:08.642739",
     "exception": false,
     "start_time": "2019-09-24T19:54:08.617763",
     "status": "completed"
    },
    "tags": []
   },
   "source": [
    "In the mean time, let's proceed by computing recommendation list gender data."
   ]
  },
  {
   "cell_type": "code",
   "execution_count": 13,
   "metadata": {
    "papermill": {
     "duration": 1.822288,
     "end_time": "2019-09-24T19:54:10.492451",
     "exception": false,
     "start_time": "2019-09-24T19:54:08.670163",
     "status": "completed"
    },
    "tags": []
   },
   "outputs": [
    {
     "data": {
      "text/plain": [
       "count     978330\n",
       "unique         4\n",
       "top         male\n",
       "freq      381966\n",
       "Name: gender, dtype: object"
      ]
     },
     "execution_count": 13,
     "metadata": {},
     "output_type": "execute_result"
    }
   ],
   "source": [
    "recs.drop(columns=['gender'], errors='ignore', inplace=True)\n",
    "recs = recs.join(book_gender, on='item', how='left')\n",
    "recs['gender'] = recs['gender'].fillna('unknown')\n",
    "recs['gender'].describe()"
   ]
  },
  {
   "cell_type": "markdown",
   "metadata": {
    "papermill": {
     "duration": 0.024931,
     "end_time": "2019-09-24T19:54:10.543586",
     "exception": false,
     "start_time": "2019-09-24T19:54:10.518655",
     "status": "completed"
    },
    "tags": []
   },
   "source": [
    "And mix in the dummy code data:"
   ]
  },
  {
   "cell_type": "code",
   "execution_count": 14,
   "metadata": {
    "papermill": {
     "duration": 1.760171,
     "end_time": "2019-09-24T19:54:12.328782",
     "exception": false,
     "start_time": "2019-09-24T19:54:10.568611",
     "status": "completed"
    },
    "tags": []
   },
   "outputs": [
    {
     "data": {
      "text/html": [
       "<div>\n",
       "<style scoped>\n",
       "    .dataframe tbody tr th:only-of-type {\n",
       "        vertical-align: middle;\n",
       "    }\n",
       "\n",
       "    .dataframe tbody tr th {\n",
       "        vertical-align: top;\n",
       "    }\n",
       "\n",
       "    .dataframe thead th {\n",
       "        text-align: right;\n",
       "    }\n",
       "</style>\n",
       "<table border=\"1\" class=\"dataframe\">\n",
       "  <thead>\n",
       "    <tr style=\"text-align: right;\">\n",
       "      <th></th>\n",
       "      <th>Set</th>\n",
       "      <th>Algorithm</th>\n",
       "      <th>item</th>\n",
       "      <th>score</th>\n",
       "      <th>user</th>\n",
       "      <th>rank</th>\n",
       "      <th>gender</th>\n",
       "      <th>dcode</th>\n",
       "    </tr>\n",
       "  </thead>\n",
       "  <tbody>\n",
       "    <tr>\n",
       "      <td>0</td>\n",
       "      <td>BX-E</td>\n",
       "      <td>user-user</td>\n",
       "      <td>102518254</td>\n",
       "      <td>12.424905</td>\n",
       "      <td>109864</td>\n",
       "      <td>1</td>\n",
       "      <td>male</td>\n",
       "      <td>1.0</td>\n",
       "    </tr>\n",
       "    <tr>\n",
       "      <td>1</td>\n",
       "      <td>BX-E</td>\n",
       "      <td>user-user</td>\n",
       "      <td>104203137</td>\n",
       "      <td>12.424905</td>\n",
       "      <td>109864</td>\n",
       "      <td>2</td>\n",
       "      <td>female</td>\n",
       "      <td>NaN</td>\n",
       "    </tr>\n",
       "    <tr>\n",
       "      <td>2</td>\n",
       "      <td>BX-E</td>\n",
       "      <td>user-user</td>\n",
       "      <td>104700337</td>\n",
       "      <td>12.424905</td>\n",
       "      <td>109864</td>\n",
       "      <td>3</td>\n",
       "      <td>unknown</td>\n",
       "      <td>NaN</td>\n",
       "    </tr>\n",
       "    <tr>\n",
       "      <td>3</td>\n",
       "      <td>BX-E</td>\n",
       "      <td>user-user</td>\n",
       "      <td>110046659</td>\n",
       "      <td>12.424905</td>\n",
       "      <td>109864</td>\n",
       "      <td>4</td>\n",
       "      <td>male</td>\n",
       "      <td>1.0</td>\n",
       "    </tr>\n",
       "    <tr>\n",
       "      <td>4</td>\n",
       "      <td>BX-E</td>\n",
       "      <td>user-user</td>\n",
       "      <td>110195353</td>\n",
       "      <td>12.424905</td>\n",
       "      <td>109864</td>\n",
       "      <td>5</td>\n",
       "      <td>male</td>\n",
       "      <td>NaN</td>\n",
       "    </tr>\n",
       "  </tbody>\n",
       "</table>\n",
       "</div>"
      ],
      "text/plain": [
       "    Set  Algorithm       item      score    user  rank   gender  dcode\n",
       "0  BX-E  user-user  102518254  12.424905  109864     1     male    1.0\n",
       "1  BX-E  user-user  104203137  12.424905  109864     2   female    NaN\n",
       "2  BX-E  user-user  104700337  12.424905  109864     3  unknown    NaN\n",
       "3  BX-E  user-user  110046659  12.424905  109864     4     male    1.0\n",
       "4  BX-E  user-user  110195353  12.424905  109864     5     male    NaN"
      ]
     },
     "execution_count": 14,
     "metadata": {},
     "output_type": "execute_result"
    }
   ],
   "source": [
    "recs.drop(columns=['dcode'], errors='ignore', inplace=True)\n",
    "recs = recs.join(book_hash['dcode'], on='item', how='left')\n",
    "recs.head()"
   ]
  },
  {
   "cell_type": "markdown",
   "metadata": {
    "papermill": {
     "duration": 0.025339,
     "end_time": "2019-09-24T19:54:12.380280",
     "exception": false,
     "start_time": "2019-09-24T19:54:12.354941",
     "status": "completed"
    },
    "tags": []
   },
   "source": [
    "Count up the statistics for each list by gender:"
   ]
  },
  {
   "cell_type": "code",
   "execution_count": 15,
   "metadata": {
    "papermill": {
     "duration": 0.245825,
     "end_time": "2019-09-24T19:54:12.650943",
     "exception": false,
     "start_time": "2019-09-24T19:54:12.405118",
     "status": "completed"
    },
    "tags": []
   },
   "outputs": [
    {
     "data": {
      "text/html": [
       "<div>\n",
       "<style scoped>\n",
       "    .dataframe tbody tr th:only-of-type {\n",
       "        vertical-align: middle;\n",
       "    }\n",
       "\n",
       "    .dataframe tbody tr th {\n",
       "        vertical-align: top;\n",
       "    }\n",
       "\n",
       "    .dataframe thead th {\n",
       "        text-align: right;\n",
       "    }\n",
       "</style>\n",
       "<table border=\"1\" class=\"dataframe\">\n",
       "  <thead>\n",
       "    <tr style=\"text-align: right;\">\n",
       "      <th></th>\n",
       "      <th></th>\n",
       "      <th>gender</th>\n",
       "      <th>ambiguous</th>\n",
       "      <th>female</th>\n",
       "      <th>male</th>\n",
       "      <th>unknown</th>\n",
       "      <th>Total</th>\n",
       "      <th>Known</th>\n",
       "      <th>PropKnown</th>\n",
       "      <th>PropFemale</th>\n",
       "    </tr>\n",
       "    <tr>\n",
       "      <th>Set</th>\n",
       "      <th>Algorithm</th>\n",
       "      <th>user</th>\n",
       "      <th></th>\n",
       "      <th></th>\n",
       "      <th></th>\n",
       "      <th></th>\n",
       "      <th></th>\n",
       "      <th></th>\n",
       "      <th></th>\n",
       "      <th></th>\n",
       "    </tr>\n",
       "  </thead>\n",
       "  <tbody>\n",
       "    <tr>\n",
       "      <td rowspan=\"5\" valign=\"top\">AZ</td>\n",
       "      <td rowspan=\"5\" valign=\"top\">als</td>\n",
       "      <td>34891</td>\n",
       "      <td>0</td>\n",
       "      <td>6</td>\n",
       "      <td>8</td>\n",
       "      <td>36</td>\n",
       "      <td>50</td>\n",
       "      <td>14</td>\n",
       "      <td>0.28</td>\n",
       "      <td>0.428571</td>\n",
       "    </tr>\n",
       "    <tr>\n",
       "      <td>35841</td>\n",
       "      <td>0</td>\n",
       "      <td>3</td>\n",
       "      <td>1</td>\n",
       "      <td>46</td>\n",
       "      <td>50</td>\n",
       "      <td>4</td>\n",
       "      <td>0.08</td>\n",
       "      <td>0.750000</td>\n",
       "    </tr>\n",
       "    <tr>\n",
       "      <td>39018</td>\n",
       "      <td>0</td>\n",
       "      <td>1</td>\n",
       "      <td>14</td>\n",
       "      <td>35</td>\n",
       "      <td>50</td>\n",
       "      <td>15</td>\n",
       "      <td>0.30</td>\n",
       "      <td>0.066667</td>\n",
       "    </tr>\n",
       "    <tr>\n",
       "      <td>52563</td>\n",
       "      <td>0</td>\n",
       "      <td>8</td>\n",
       "      <td>12</td>\n",
       "      <td>30</td>\n",
       "      <td>50</td>\n",
       "      <td>20</td>\n",
       "      <td>0.40</td>\n",
       "      <td>0.400000</td>\n",
       "    </tr>\n",
       "    <tr>\n",
       "      <td>60825</td>\n",
       "      <td>1</td>\n",
       "      <td>13</td>\n",
       "      <td>8</td>\n",
       "      <td>28</td>\n",
       "      <td>50</td>\n",
       "      <td>21</td>\n",
       "      <td>0.42</td>\n",
       "      <td>0.619048</td>\n",
       "    </tr>\n",
       "    <tr>\n",
       "      <td>...</td>\n",
       "      <td>...</td>\n",
       "      <td>...</td>\n",
       "      <td>...</td>\n",
       "      <td>...</td>\n",
       "      <td>...</td>\n",
       "      <td>...</td>\n",
       "      <td>...</td>\n",
       "      <td>...</td>\n",
       "      <td>...</td>\n",
       "      <td>...</td>\n",
       "    </tr>\n",
       "    <tr>\n",
       "      <td rowspan=\"5\" valign=\"top\">GR-I</td>\n",
       "      <td rowspan=\"5\" valign=\"top\">wrls</td>\n",
       "      <td>872560</td>\n",
       "      <td>0</td>\n",
       "      <td>24</td>\n",
       "      <td>6</td>\n",
       "      <td>20</td>\n",
       "      <td>50</td>\n",
       "      <td>30</td>\n",
       "      <td>0.60</td>\n",
       "      <td>0.800000</td>\n",
       "    </tr>\n",
       "    <tr>\n",
       "      <td>873083</td>\n",
       "      <td>10</td>\n",
       "      <td>6</td>\n",
       "      <td>33</td>\n",
       "      <td>1</td>\n",
       "      <td>50</td>\n",
       "      <td>39</td>\n",
       "      <td>0.78</td>\n",
       "      <td>0.153846</td>\n",
       "    </tr>\n",
       "    <tr>\n",
       "      <td>873823</td>\n",
       "      <td>11</td>\n",
       "      <td>8</td>\n",
       "      <td>30</td>\n",
       "      <td>1</td>\n",
       "      <td>50</td>\n",
       "      <td>38</td>\n",
       "      <td>0.76</td>\n",
       "      <td>0.210526</td>\n",
       "    </tr>\n",
       "    <tr>\n",
       "      <td>874959</td>\n",
       "      <td>16</td>\n",
       "      <td>12</td>\n",
       "      <td>22</td>\n",
       "      <td>0</td>\n",
       "      <td>50</td>\n",
       "      <td>34</td>\n",
       "      <td>0.68</td>\n",
       "      <td>0.352941</td>\n",
       "    </tr>\n",
       "    <tr>\n",
       "      <td>875836</td>\n",
       "      <td>5</td>\n",
       "      <td>12</td>\n",
       "      <td>18</td>\n",
       "      <td>15</td>\n",
       "      <td>50</td>\n",
       "      <td>30</td>\n",
       "      <td>0.60</td>\n",
       "      <td>0.400000</td>\n",
       "    </tr>\n",
       "  </tbody>\n",
       "</table>\n",
       "<p>19840 rows × 8 columns</p>\n",
       "</div>"
      ],
      "text/plain": [
       "gender                 ambiguous  female  male  unknown  Total  Known  \\\n",
       "Set  Algorithm user                                                     \n",
       "AZ   als       34891           0       6     8       36     50     14   \n",
       "               35841           0       3     1       46     50      4   \n",
       "               39018           0       1    14       35     50     15   \n",
       "               52563           0       8    12       30     50     20   \n",
       "               60825           1      13     8       28     50     21   \n",
       "...                          ...     ...   ...      ...    ...    ...   \n",
       "GR-I wrls      872560          0      24     6       20     50     30   \n",
       "               873083         10       6    33        1     50     39   \n",
       "               873823         11       8    30        1     50     38   \n",
       "               874959         16      12    22        0     50     34   \n",
       "               875836          5      12    18       15     50     30   \n",
       "\n",
       "gender                 PropKnown  PropFemale  \n",
       "Set  Algorithm user                           \n",
       "AZ   als       34891        0.28    0.428571  \n",
       "               35841        0.08    0.750000  \n",
       "               39018        0.30    0.066667  \n",
       "               52563        0.40    0.400000  \n",
       "               60825        0.42    0.619048  \n",
       "...                          ...         ...  \n",
       "GR-I wrls      872560       0.60    0.800000  \n",
       "               873083       0.78    0.153846  \n",
       "               873823       0.76    0.210526  \n",
       "               874959       0.68    0.352941  \n",
       "               875836       0.60    0.400000  \n",
       "\n",
       "[19840 rows x 8 columns]"
      ]
     },
     "execution_count": 15,
     "metadata": {},
     "output_type": "execute_result"
    }
   ],
   "source": [
    "rec_stats = recs.groupby(['Set', 'Algorithm', 'user', 'gender'])['item'].count().unstack().fillna(0).astype('i4')\n",
    "rec_stats.columns = rec_stats.columns.astype('object')\n",
    "rec_stats['Total'] = rec_stats.sum(axis=1)\n",
    "rec_stats['Known'] = rec_stats['male'] + rec_stats['female']\n",
    "rec_stats['PropKnown'] = rec_stats['Known'] / rec_stats['Total']\n",
    "rec_stats['PropFemale'] = rec_stats['female'] / rec_stats['Known']\n",
    "rec_stats"
   ]
  },
  {
   "cell_type": "markdown",
   "metadata": {
    "papermill": {
     "duration": 0.025772,
     "end_time": "2019-09-24T19:54:12.703773",
     "exception": false,
     "start_time": "2019-09-24T19:54:12.678001",
     "status": "completed"
    },
    "tags": []
   },
   "source": [
    "Mix in info from dummy codes:"
   ]
  },
  {
   "cell_type": "code",
   "execution_count": 16,
   "metadata": {
    "papermill": {
     "duration": 0.227298,
     "end_time": "2019-09-24T19:54:12.956762",
     "exception": false,
     "start_time": "2019-09-24T19:54:12.729464",
     "status": "completed"
    },
    "tags": []
   },
   "outputs": [
    {
     "data": {
      "text/html": [
       "<div>\n",
       "<style scoped>\n",
       "    .dataframe tbody tr th:only-of-type {\n",
       "        vertical-align: middle;\n",
       "    }\n",
       "\n",
       "    .dataframe tbody tr th {\n",
       "        vertical-align: top;\n",
       "    }\n",
       "\n",
       "    .dataframe thead th {\n",
       "        text-align: right;\n",
       "    }\n",
       "</style>\n",
       "<table border=\"1\" class=\"dataframe\">\n",
       "  <thead>\n",
       "    <tr style=\"text-align: right;\">\n",
       "      <th></th>\n",
       "      <th></th>\n",
       "      <th></th>\n",
       "      <th>dcknown</th>\n",
       "      <th>dcyes</th>\n",
       "      <th>PropDC</th>\n",
       "    </tr>\n",
       "    <tr>\n",
       "      <th>Set</th>\n",
       "      <th>Algorithm</th>\n",
       "      <th>user</th>\n",
       "      <th></th>\n",
       "      <th></th>\n",
       "      <th></th>\n",
       "    </tr>\n",
       "  </thead>\n",
       "  <tbody>\n",
       "    <tr>\n",
       "      <td rowspan=\"5\" valign=\"top\">AZ</td>\n",
       "      <td rowspan=\"5\" valign=\"top\">als</td>\n",
       "      <td>34891</td>\n",
       "      <td>10</td>\n",
       "      <td>5</td>\n",
       "      <td>0.500000</td>\n",
       "    </tr>\n",
       "    <tr>\n",
       "      <td>35841</td>\n",
       "      <td>3</td>\n",
       "      <td>1</td>\n",
       "      <td>0.333333</td>\n",
       "    </tr>\n",
       "    <tr>\n",
       "      <td>39018</td>\n",
       "      <td>9</td>\n",
       "      <td>3</td>\n",
       "      <td>0.333333</td>\n",
       "    </tr>\n",
       "    <tr>\n",
       "      <td>52563</td>\n",
       "      <td>14</td>\n",
       "      <td>5</td>\n",
       "      <td>0.357143</td>\n",
       "    </tr>\n",
       "    <tr>\n",
       "      <td>60825</td>\n",
       "      <td>13</td>\n",
       "      <td>9</td>\n",
       "      <td>0.692308</td>\n",
       "    </tr>\n",
       "  </tbody>\n",
       "</table>\n",
       "</div>"
      ],
      "text/plain": [
       "                     dcknown  dcyes    PropDC\n",
       "Set Algorithm user                           \n",
       "AZ  als       34891       10      5  0.500000\n",
       "              35841        3      1  0.333333\n",
       "              39018        9      3  0.333333\n",
       "              52563       14      5  0.357143\n",
       "              60825       13      9  0.692308"
      ]
     },
     "execution_count": 16,
     "metadata": {},
     "output_type": "execute_result"
    }
   ],
   "source": [
    "rec_dc_stats = recs.groupby(['Set', 'Algorithm', 'user'])['dcode'].agg(['count', 'sum', 'mean'])\n",
    "rec_dc_stats.rename(columns={'count': 'dcknown', 'sum': 'dcyes', 'mean': 'PropDC'}, inplace=True)\n",
    "rec_dc_stats['dcyes'] = rec_dc_stats['dcyes'].astype('i4')\n",
    "rec_dc_stats.head()"
   ]
  },
  {
   "cell_type": "code",
   "execution_count": 17,
   "metadata": {
    "papermill": {
     "duration": 0.067814,
     "end_time": "2019-09-24T19:54:13.050599",
     "exception": false,
     "start_time": "2019-09-24T19:54:12.982785",
     "status": "completed"
    },
    "tags": []
   },
   "outputs": [
    {
     "data": {
      "text/html": [
       "<div>\n",
       "<style scoped>\n",
       "    .dataframe tbody tr th:only-of-type {\n",
       "        vertical-align: middle;\n",
       "    }\n",
       "\n",
       "    .dataframe tbody tr th {\n",
       "        vertical-align: top;\n",
       "    }\n",
       "\n",
       "    .dataframe thead th {\n",
       "        text-align: right;\n",
       "    }\n",
       "</style>\n",
       "<table border=\"1\" class=\"dataframe\">\n",
       "  <thead>\n",
       "    <tr style=\"text-align: right;\">\n",
       "      <th></th>\n",
       "      <th></th>\n",
       "      <th></th>\n",
       "      <th>ambiguous</th>\n",
       "      <th>female</th>\n",
       "      <th>male</th>\n",
       "      <th>unknown</th>\n",
       "      <th>Total</th>\n",
       "      <th>Known</th>\n",
       "      <th>PropKnown</th>\n",
       "      <th>PropFemale</th>\n",
       "      <th>dcknown</th>\n",
       "      <th>dcyes</th>\n",
       "      <th>PropDC</th>\n",
       "    </tr>\n",
       "    <tr>\n",
       "      <th>Set</th>\n",
       "      <th>Algorithm</th>\n",
       "      <th>user</th>\n",
       "      <th></th>\n",
       "      <th></th>\n",
       "      <th></th>\n",
       "      <th></th>\n",
       "      <th></th>\n",
       "      <th></th>\n",
       "      <th></th>\n",
       "      <th></th>\n",
       "      <th></th>\n",
       "      <th></th>\n",
       "      <th></th>\n",
       "    </tr>\n",
       "  </thead>\n",
       "  <tbody>\n",
       "    <tr>\n",
       "      <td rowspan=\"5\" valign=\"top\">AZ</td>\n",
       "      <td rowspan=\"5\" valign=\"top\">als</td>\n",
       "      <td>34891</td>\n",
       "      <td>0</td>\n",
       "      <td>6</td>\n",
       "      <td>8</td>\n",
       "      <td>36</td>\n",
       "      <td>50</td>\n",
       "      <td>14</td>\n",
       "      <td>0.28</td>\n",
       "      <td>0.428571</td>\n",
       "      <td>10</td>\n",
       "      <td>5</td>\n",
       "      <td>0.500000</td>\n",
       "    </tr>\n",
       "    <tr>\n",
       "      <td>35841</td>\n",
       "      <td>0</td>\n",
       "      <td>3</td>\n",
       "      <td>1</td>\n",
       "      <td>46</td>\n",
       "      <td>50</td>\n",
       "      <td>4</td>\n",
       "      <td>0.08</td>\n",
       "      <td>0.750000</td>\n",
       "      <td>3</td>\n",
       "      <td>1</td>\n",
       "      <td>0.333333</td>\n",
       "    </tr>\n",
       "    <tr>\n",
       "      <td>39018</td>\n",
       "      <td>0</td>\n",
       "      <td>1</td>\n",
       "      <td>14</td>\n",
       "      <td>35</td>\n",
       "      <td>50</td>\n",
       "      <td>15</td>\n",
       "      <td>0.30</td>\n",
       "      <td>0.066667</td>\n",
       "      <td>9</td>\n",
       "      <td>3</td>\n",
       "      <td>0.333333</td>\n",
       "    </tr>\n",
       "    <tr>\n",
       "      <td>52563</td>\n",
       "      <td>0</td>\n",
       "      <td>8</td>\n",
       "      <td>12</td>\n",
       "      <td>30</td>\n",
       "      <td>50</td>\n",
       "      <td>20</td>\n",
       "      <td>0.40</td>\n",
       "      <td>0.400000</td>\n",
       "      <td>14</td>\n",
       "      <td>5</td>\n",
       "      <td>0.357143</td>\n",
       "    </tr>\n",
       "    <tr>\n",
       "      <td>60825</td>\n",
       "      <td>1</td>\n",
       "      <td>13</td>\n",
       "      <td>8</td>\n",
       "      <td>28</td>\n",
       "      <td>50</td>\n",
       "      <td>21</td>\n",
       "      <td>0.42</td>\n",
       "      <td>0.619048</td>\n",
       "      <td>13</td>\n",
       "      <td>9</td>\n",
       "      <td>0.692308</td>\n",
       "    </tr>\n",
       "  </tbody>\n",
       "</table>\n",
       "</div>"
      ],
      "text/plain": [
       "                     ambiguous  female  male  unknown  Total  Known  \\\n",
       "Set Algorithm user                                                    \n",
       "AZ  als       34891          0       6     8       36     50     14   \n",
       "              35841          0       3     1       46     50      4   \n",
       "              39018          0       1    14       35     50     15   \n",
       "              52563          0       8    12       30     50     20   \n",
       "              60825          1      13     8       28     50     21   \n",
       "\n",
       "                     PropKnown  PropFemale  dcknown  dcyes    PropDC  \n",
       "Set Algorithm user                                                    \n",
       "AZ  als       34891       0.28    0.428571       10      5  0.500000  \n",
       "              35841       0.08    0.750000        3      1  0.333333  \n",
       "              39018       0.30    0.066667        9      3  0.333333  \n",
       "              52563       0.40    0.400000       14      5  0.357143  \n",
       "              60825       0.42    0.619048       13      9  0.692308  "
      ]
     },
     "execution_count": 17,
     "metadata": {},
     "output_type": "execute_result"
    }
   ],
   "source": [
    "rec_stats = rec_stats.join(rec_dc_stats)\n",
    "rec_stats.head()"
   ]
  },
  {
   "cell_type": "markdown",
   "metadata": {
    "papermill": {
     "duration": 0.026444,
     "end_time": "2019-09-24T19:54:13.104526",
     "exception": false,
     "start_time": "2019-09-24T19:54:13.078082",
     "status": "completed"
    },
    "tags": []
   },
   "source": [
    "Quick status-check on the number of recommendation lists per algorithm, implicit feedback:"
   ]
  },
  {
   "cell_type": "code",
   "execution_count": 18,
   "metadata": {
    "papermill": {
     "duration": 0.082058,
     "end_time": "2019-09-24T19:54:13.212757",
     "exception": false,
     "start_time": "2019-09-24T19:54:13.130699",
     "status": "completed"
    },
    "tags": []
   },
   "outputs": [
    {
     "data": {
      "text/html": [
       "<div>\n",
       "<style scoped>\n",
       "    .dataframe tbody tr th:only-of-type {\n",
       "        vertical-align: middle;\n",
       "    }\n",
       "\n",
       "    .dataframe tbody tr th {\n",
       "        vertical-align: top;\n",
       "    }\n",
       "\n",
       "    .dataframe thead th {\n",
       "        text-align: right;\n",
       "    }\n",
       "</style>\n",
       "<table border=\"1\" class=\"dataframe\">\n",
       "  <thead>\n",
       "    <tr style=\"text-align: right;\">\n",
       "      <th>Algorithm</th>\n",
       "      <th>als</th>\n",
       "      <th>bpr</th>\n",
       "      <th>item-item</th>\n",
       "      <th>user-user</th>\n",
       "    </tr>\n",
       "    <tr>\n",
       "      <th>Set</th>\n",
       "      <th></th>\n",
       "      <th></th>\n",
       "      <th></th>\n",
       "      <th></th>\n",
       "    </tr>\n",
       "  </thead>\n",
       "  <tbody>\n",
       "    <tr>\n",
       "      <td>AZ</td>\n",
       "      <td>1000</td>\n",
       "      <td>1000</td>\n",
       "      <td>1000</td>\n",
       "      <td>1000</td>\n",
       "    </tr>\n",
       "    <tr>\n",
       "      <td>BX</td>\n",
       "      <td>1000</td>\n",
       "      <td>1000</td>\n",
       "      <td>998</td>\n",
       "      <td>996</td>\n",
       "    </tr>\n",
       "    <tr>\n",
       "      <td>GR</td>\n",
       "      <td>1000</td>\n",
       "      <td>1000</td>\n",
       "      <td>1000</td>\n",
       "      <td>1000</td>\n",
       "    </tr>\n",
       "  </tbody>\n",
       "</table>\n",
       "</div>"
      ],
      "text/plain": [
       "Algorithm   als   bpr  item-item  user-user\n",
       "Set                                        \n",
       "AZ         1000  1000       1000       1000\n",
       "BX         1000  1000        998        996\n",
       "GR         1000  1000       1000       1000"
      ]
     },
     "execution_count": 18,
     "metadata": {},
     "output_type": "execute_result"
    }
   ],
   "source": [
    "select_implicit(rec_stats).groupby(['Set', 'Algorithm'])['Total'].count().unstack()"
   ]
  },
  {
   "cell_type": "markdown",
   "metadata": {
    "papermill": {
     "duration": 0.026497,
     "end_time": "2019-09-24T19:54:13.267004",
     "exception": false,
     "start_time": "2019-09-24T19:54:13.240507",
     "status": "completed"
    },
    "tags": []
   },
   "source": [
    "Explicit feedback:"
   ]
  },
  {
   "cell_type": "code",
   "execution_count": 19,
   "metadata": {
    "papermill": {
     "duration": 0.064939,
     "end_time": "2019-09-24T19:54:13.358522",
     "exception": false,
     "start_time": "2019-09-24T19:54:13.293583",
     "status": "completed"
    },
    "tags": []
   },
   "outputs": [
    {
     "data": {
      "text/html": [
       "<div>\n",
       "<style scoped>\n",
       "    .dataframe tbody tr th:only-of-type {\n",
       "        vertical-align: middle;\n",
       "    }\n",
       "\n",
       "    .dataframe tbody tr th {\n",
       "        vertical-align: top;\n",
       "    }\n",
       "\n",
       "    .dataframe thead th {\n",
       "        text-align: right;\n",
       "    }\n",
       "</style>\n",
       "<table border=\"1\" class=\"dataframe\">\n",
       "  <thead>\n",
       "    <tr style=\"text-align: right;\">\n",
       "      <th>Algorithm</th>\n",
       "      <th>als</th>\n",
       "      <th>item-item</th>\n",
       "      <th>user-user</th>\n",
       "    </tr>\n",
       "    <tr>\n",
       "      <th>Set</th>\n",
       "      <th></th>\n",
       "      <th></th>\n",
       "      <th></th>\n",
       "    </tr>\n",
       "  </thead>\n",
       "  <tbody>\n",
       "    <tr>\n",
       "      <td>AZ</td>\n",
       "      <td>1000.0</td>\n",
       "      <td>999.0</td>\n",
       "      <td>904.0</td>\n",
       "    </tr>\n",
       "    <tr>\n",
       "      <td>BX</td>\n",
       "      <td>1000.0</td>\n",
       "      <td>998.0</td>\n",
       "      <td>968.0</td>\n",
       "    </tr>\n",
       "    <tr>\n",
       "      <td>GR</td>\n",
       "      <td>NaN</td>\n",
       "      <td>1000.0</td>\n",
       "      <td>977.0</td>\n",
       "    </tr>\n",
       "  </tbody>\n",
       "</table>\n",
       "</div>"
      ],
      "text/plain": [
       "Algorithm     als  item-item  user-user\n",
       "Set                                    \n",
       "AZ         1000.0      999.0      904.0\n",
       "BX         1000.0      998.0      968.0\n",
       "GR            NaN     1000.0      977.0"
      ]
     },
     "execution_count": 19,
     "metadata": {},
     "output_type": "execute_result"
    }
   ],
   "source": [
    "select_explicit(rec_stats).groupby(['Set', 'Algorithm'])['Total'].count().unstack()"
   ]
  },
  {
   "cell_type": "markdown",
   "metadata": {
    "papermill": {
     "duration": 0.026806,
     "end_time": "2019-09-24T19:54:13.413552",
     "exception": false,
     "start_time": "2019-09-24T19:54:13.386746",
     "status": "completed"
    },
    "tags": []
   },
   "source": [
    "## Non-personalized Recommendations\n",
    "\n",
    "We also want to compute the makeup of non-personalized recommendations, to get a baseline level for each algorithm."
   ]
  },
  {
   "cell_type": "code",
   "execution_count": 20,
   "metadata": {
    "papermill": {
     "duration": 5.932691,
     "end_time": "2019-09-24T19:54:19.373469",
     "exception": false,
     "start_time": "2019-09-24T19:54:13.440778",
     "status": "completed"
    },
    "tags": []
   },
   "outputs": [],
   "source": [
    "az_ratings = pd.read_parquet('data/AZ/ratings.parquet')\n",
    "bxi_ratings = pd.read_parquet('data/BX-I/ratings.parquet')\n",
    "bxe_ratings = pd.read_parquet('data/BX-E/ratings.parquet')\n",
    "gre_ratings = pd.read_parquet('data/GR-E/ratings.parquet')\n",
    "gri_ratings = pd.read_parquet('data/GR-I/ratings.parquet')"
   ]
  },
  {
   "cell_type": "code",
   "execution_count": 21,
   "metadata": {
    "papermill": {
     "duration": 6.827878,
     "end_time": "2019-09-24T19:54:26.230023",
     "exception": false,
     "start_time": "2019-09-24T19:54:19.402145",
     "status": "completed"
    },
    "tags": []
   },
   "outputs": [
    {
     "data": {
      "text/html": [
       "<div>\n",
       "<style scoped>\n",
       "    .dataframe tbody tr th:only-of-type {\n",
       "        vertical-align: middle;\n",
       "    }\n",
       "\n",
       "    .dataframe tbody tr th {\n",
       "        vertical-align: top;\n",
       "    }\n",
       "\n",
       "    .dataframe thead th {\n",
       "        text-align: right;\n",
       "    }\n",
       "</style>\n",
       "<table border=\"1\" class=\"dataframe\">\n",
       "  <thead>\n",
       "    <tr style=\"text-align: right;\">\n",
       "      <th></th>\n",
       "      <th>Set</th>\n",
       "      <th>item</th>\n",
       "      <th>count</th>\n",
       "    </tr>\n",
       "  </thead>\n",
       "  <tbody>\n",
       "    <tr>\n",
       "      <td>0</td>\n",
       "      <td>AZ</td>\n",
       "      <td>104758200</td>\n",
       "      <td>21575</td>\n",
       "    </tr>\n",
       "    <tr>\n",
       "      <td>1</td>\n",
       "      <td>AZ</td>\n",
       "      <td>103155988</td>\n",
       "      <td>19922</td>\n",
       "    </tr>\n",
       "    <tr>\n",
       "      <td>2</td>\n",
       "      <td>AZ</td>\n",
       "      <td>101555762</td>\n",
       "      <td>18650</td>\n",
       "    </tr>\n",
       "    <tr>\n",
       "      <td>3</td>\n",
       "      <td>AZ</td>\n",
       "      <td>101610590</td>\n",
       "      <td>15105</td>\n",
       "    </tr>\n",
       "    <tr>\n",
       "      <td>4</td>\n",
       "      <td>AZ</td>\n",
       "      <td>102066529</td>\n",
       "      <td>13905</td>\n",
       "    </tr>\n",
       "  </tbody>\n",
       "</table>\n",
       "</div>"
      ],
      "text/plain": [
       "  Set       item  count\n",
       "0  AZ  104758200  21575\n",
       "1  AZ  103155988  19922\n",
       "2  AZ  101555762  18650\n",
       "3  AZ  101610590  15105\n",
       "4  AZ  102066529  13905"
      ]
     },
     "execution_count": 21,
     "metadata": {},
     "output_type": "execute_result"
    }
   ],
   "source": [
    "istats = pd.concat({\n",
    "    'AZ': az_ratings.groupby('item')['user'].count().nlargest(50),\n",
    "    'BX-I': bxi_ratings.groupby('item')['user'].count().nlargest(50),\n",
    "    'BX-E': bxe_ratings.groupby('item')['user'].count().nlargest(50),\n",
    "    'GR-I': gri_ratings.groupby('item')['user'].count().nlargest(50),\n",
    "    'GR-E': gre_ratings.groupby('item')['user'].count().nlargest(50)\n",
    "}, names=['Set'])\n",
    "istats = istats.reset_index(name='count')\n",
    "istats.head()"
   ]
  },
  {
   "cell_type": "code",
   "execution_count": 22,
   "metadata": {
    "papermill": {
     "duration": 1.536268,
     "end_time": "2019-09-24T19:54:27.795136",
     "exception": false,
     "start_time": "2019-09-24T19:54:26.258868",
     "status": "completed"
    },
    "tags": []
   },
   "outputs": [
    {
     "data": {
      "text/html": [
       "<div>\n",
       "<style scoped>\n",
       "    .dataframe tbody tr th:only-of-type {\n",
       "        vertical-align: middle;\n",
       "    }\n",
       "\n",
       "    .dataframe tbody tr th {\n",
       "        vertical-align: top;\n",
       "    }\n",
       "\n",
       "    .dataframe thead th {\n",
       "        text-align: right;\n",
       "    }\n",
       "</style>\n",
       "<table border=\"1\" class=\"dataframe\">\n",
       "  <thead>\n",
       "    <tr style=\"text-align: right;\">\n",
       "      <th></th>\n",
       "      <th>Set</th>\n",
       "      <th>item</th>\n",
       "      <th>count</th>\n",
       "      <th>gender</th>\n",
       "    </tr>\n",
       "  </thead>\n",
       "  <tbody>\n",
       "    <tr>\n",
       "      <td>0</td>\n",
       "      <td>AZ</td>\n",
       "      <td>104758200</td>\n",
       "      <td>21575</td>\n",
       "      <td>female</td>\n",
       "    </tr>\n",
       "    <tr>\n",
       "      <td>1</td>\n",
       "      <td>AZ</td>\n",
       "      <td>103155988</td>\n",
       "      <td>19922</td>\n",
       "      <td>female</td>\n",
       "    </tr>\n",
       "    <tr>\n",
       "      <td>2</td>\n",
       "      <td>AZ</td>\n",
       "      <td>101555762</td>\n",
       "      <td>18650</td>\n",
       "      <td>ambiguous</td>\n",
       "    </tr>\n",
       "    <tr>\n",
       "      <td>3</td>\n",
       "      <td>AZ</td>\n",
       "      <td>101610590</td>\n",
       "      <td>15105</td>\n",
       "      <td>ambiguous</td>\n",
       "    </tr>\n",
       "    <tr>\n",
       "      <td>4</td>\n",
       "      <td>AZ</td>\n",
       "      <td>102066529</td>\n",
       "      <td>13905</td>\n",
       "      <td>male</td>\n",
       "    </tr>\n",
       "  </tbody>\n",
       "</table>\n",
       "</div>"
      ],
      "text/plain": [
       "  Set       item  count     gender\n",
       "0  AZ  104758200  21575     female\n",
       "1  AZ  103155988  19922     female\n",
       "2  AZ  101555762  18650  ambiguous\n",
       "3  AZ  101610590  15105  ambiguous\n",
       "4  AZ  102066529  13905       male"
      ]
     },
     "execution_count": 22,
     "metadata": {},
     "output_type": "execute_result"
    }
   ],
   "source": [
    "irecs = istats.join(book_gender, on='item', how='left')\n",
    "irecs['gender'] = irecs['gender'].fillna('unknown')\n",
    "irecs.head()"
   ]
  },
  {
   "cell_type": "code",
   "execution_count": 23,
   "metadata": {
    "papermill": {
     "duration": 0.045484,
     "end_time": "2019-09-24T19:54:27.869590",
     "exception": false,
     "start_time": "2019-09-24T19:54:27.824106",
     "status": "completed"
    },
    "tags": []
   },
   "outputs": [
    {
     "data": {
      "text/html": [
       "<div>\n",
       "<style scoped>\n",
       "    .dataframe tbody tr th:only-of-type {\n",
       "        vertical-align: middle;\n",
       "    }\n",
       "\n",
       "    .dataframe tbody tr th {\n",
       "        vertical-align: top;\n",
       "    }\n",
       "\n",
       "    .dataframe thead th {\n",
       "        text-align: right;\n",
       "    }\n",
       "</style>\n",
       "<table border=\"1\" class=\"dataframe\">\n",
       "  <thead>\n",
       "    <tr style=\"text-align: right;\">\n",
       "      <th>gender</th>\n",
       "      <th>ambiguous</th>\n",
       "      <th>female</th>\n",
       "      <th>male</th>\n",
       "      <th>unknown</th>\n",
       "      <th>Total</th>\n",
       "      <th>Known</th>\n",
       "      <th>PropKnown</th>\n",
       "      <th>PropFemale</th>\n",
       "    </tr>\n",
       "    <tr>\n",
       "      <th>Set</th>\n",
       "      <th></th>\n",
       "      <th></th>\n",
       "      <th></th>\n",
       "      <th></th>\n",
       "      <th></th>\n",
       "      <th></th>\n",
       "      <th></th>\n",
       "      <th></th>\n",
       "    </tr>\n",
       "  </thead>\n",
       "  <tbody>\n",
       "    <tr>\n",
       "      <td>AZ</td>\n",
       "      <td>8</td>\n",
       "      <td>17</td>\n",
       "      <td>18</td>\n",
       "      <td>7</td>\n",
       "      <td>50</td>\n",
       "      <td>35</td>\n",
       "      <td>0.70</td>\n",
       "      <td>0.485714</td>\n",
       "    </tr>\n",
       "    <tr>\n",
       "      <td>BX-E</td>\n",
       "      <td>9</td>\n",
       "      <td>19</td>\n",
       "      <td>22</td>\n",
       "      <td>0</td>\n",
       "      <td>50</td>\n",
       "      <td>41</td>\n",
       "      <td>0.82</td>\n",
       "      <td>0.463415</td>\n",
       "    </tr>\n",
       "    <tr>\n",
       "      <td>BX-I</td>\n",
       "      <td>9</td>\n",
       "      <td>16</td>\n",
       "      <td>25</td>\n",
       "      <td>0</td>\n",
       "      <td>50</td>\n",
       "      <td>41</td>\n",
       "      <td>0.82</td>\n",
       "      <td>0.390244</td>\n",
       "    </tr>\n",
       "    <tr>\n",
       "      <td>GR-E</td>\n",
       "      <td>18</td>\n",
       "      <td>13</td>\n",
       "      <td>18</td>\n",
       "      <td>1</td>\n",
       "      <td>50</td>\n",
       "      <td>31</td>\n",
       "      <td>0.62</td>\n",
       "      <td>0.419355</td>\n",
       "    </tr>\n",
       "    <tr>\n",
       "      <td>GR-I</td>\n",
       "      <td>16</td>\n",
       "      <td>14</td>\n",
       "      <td>19</td>\n",
       "      <td>1</td>\n",
       "      <td>50</td>\n",
       "      <td>33</td>\n",
       "      <td>0.66</td>\n",
       "      <td>0.424242</td>\n",
       "    </tr>\n",
       "  </tbody>\n",
       "</table>\n",
       "</div>"
      ],
      "text/plain": [
       "gender  ambiguous  female  male  unknown  Total  Known  PropKnown  PropFemale\n",
       "Set                                                                          \n",
       "AZ              8      17    18        7     50     35       0.70    0.485714\n",
       "BX-E            9      19    22        0     50     41       0.82    0.463415\n",
       "BX-I            9      16    25        0     50     41       0.82    0.390244\n",
       "GR-E           18      13    18        1     50     31       0.62    0.419355\n",
       "GR-I           16      14    19        1     50     33       0.66    0.424242"
      ]
     },
     "execution_count": 23,
     "metadata": {},
     "output_type": "execute_result"
    }
   ],
   "source": [
    "pop_gender = irecs.groupby(['Set', 'gender']).item.count().unstack().fillna(0).astype('i4')\n",
    "pop_gender.columns = pop_gender.columns.astype('object')\n",
    "pop_gender['Total'] = pop_gender.sum(axis=1)\n",
    "pop_gender['Known'] = pop_gender['male'] + pop_gender['female']\n",
    "pop_gender['PropKnown'] = pop_gender['Known'] / pop_gender['Total']\n",
    "pop_gender['PropFemale'] = pop_gender['female'] / pop_gender['Known']\n",
    "pop_gender"
   ]
  },
  {
   "cell_type": "markdown",
   "metadata": {
    "papermill": {
     "duration": 0.028204,
     "end_time": "2019-09-24T19:54:27.926423",
     "exception": false,
     "start_time": "2019-09-24T19:54:27.898219",
     "status": "completed"
    },
    "tags": []
   },
   "source": [
    "## Recommendation Coverage & Diversity\n",
    "\n",
    "We want to understand how the recommendation lists work to better understand how many items we get."
   ]
  },
  {
   "cell_type": "code",
   "execution_count": 24,
   "metadata": {
    "papermill": {
     "duration": 0.191051,
     "end_time": "2019-09-24T19:54:28.147631",
     "exception": false,
     "start_time": "2019-09-24T19:54:27.956580",
     "status": "completed"
    },
    "tags": []
   },
   "outputs": [],
   "source": [
    "list_counts = recs.groupby(['Set', 'Algorithm'])['user'].nunique()\n",
    "list_counts.name = 'Lists'"
   ]
  },
  {
   "cell_type": "code",
   "execution_count": 25,
   "metadata": {
    "papermill": {
     "duration": 0.285833,
     "end_time": "2019-09-24T19:54:28.462870",
     "exception": false,
     "start_time": "2019-09-24T19:54:28.177037",
     "status": "completed"
    },
    "tags": []
   },
   "outputs": [],
   "source": [
    "item_counts = recs.groupby(['Set', 'Algorithm'])['item'].agg(['count', 'nunique'])\n",
    "item_counts.rename(columns={'count': 'Recs', 'nunique': 'Distinct'}, inplace=True)\n",
    "item_counts = item_counts.join(list_counts)\n",
    "item_counts['FracDistinct'] = item_counts['Distinct'] / item_counts['Recs']"
   ]
  },
  {
   "cell_type": "markdown",
   "metadata": {
    "papermill": {
     "duration": 0.028031,
     "end_time": "2019-09-24T19:54:28.518603",
     "exception": false,
     "start_time": "2019-09-24T19:54:28.490572",
     "status": "completed"
    },
    "tags": []
   },
   "source": [
    "What does this look like for implicit?"
   ]
  },
  {
   "cell_type": "code",
   "execution_count": 26,
   "metadata": {
    "papermill": {
     "duration": 0.052661,
     "end_time": "2019-09-24T19:54:28.598947",
     "exception": false,
     "start_time": "2019-09-24T19:54:28.546286",
     "status": "completed"
    },
    "tags": []
   },
   "outputs": [
    {
     "data": {
      "text/html": [
       "<div>\n",
       "<style scoped>\n",
       "    .dataframe tbody tr th:only-of-type {\n",
       "        vertical-align: middle;\n",
       "    }\n",
       "\n",
       "    .dataframe tbody tr th {\n",
       "        vertical-align: top;\n",
       "    }\n",
       "\n",
       "    .dataframe thead tr th {\n",
       "        text-align: left;\n",
       "    }\n",
       "\n",
       "    .dataframe thead tr:last-of-type th {\n",
       "        text-align: right;\n",
       "    }\n",
       "</style>\n",
       "<table border=\"1\" class=\"dataframe\">\n",
       "  <thead>\n",
       "    <tr>\n",
       "      <th>Set</th>\n",
       "      <th colspan=\"4\" halign=\"left\">AZ</th>\n",
       "      <th colspan=\"4\" halign=\"left\">BX</th>\n",
       "      <th colspan=\"4\" halign=\"left\">GR</th>\n",
       "    </tr>\n",
       "    <tr>\n",
       "      <th></th>\n",
       "      <th>Recs</th>\n",
       "      <th>Distinct</th>\n",
       "      <th>Lists</th>\n",
       "      <th>FracDistinct</th>\n",
       "      <th>Recs</th>\n",
       "      <th>Distinct</th>\n",
       "      <th>Lists</th>\n",
       "      <th>FracDistinct</th>\n",
       "      <th>Recs</th>\n",
       "      <th>Distinct</th>\n",
       "      <th>Lists</th>\n",
       "      <th>FracDistinct</th>\n",
       "    </tr>\n",
       "    <tr>\n",
       "      <th>Algorithm</th>\n",
       "      <th></th>\n",
       "      <th></th>\n",
       "      <th></th>\n",
       "      <th></th>\n",
       "      <th></th>\n",
       "      <th></th>\n",
       "      <th></th>\n",
       "      <th></th>\n",
       "      <th></th>\n",
       "      <th></th>\n",
       "      <th></th>\n",
       "      <th></th>\n",
       "    </tr>\n",
       "  </thead>\n",
       "  <tbody>\n",
       "    <tr>\n",
       "      <td>als</td>\n",
       "      <td>50000.0</td>\n",
       "      <td>10920.0</td>\n",
       "      <td>1000.0</td>\n",
       "      <td>0.218400</td>\n",
       "      <td>50000.0</td>\n",
       "      <td>5926.0</td>\n",
       "      <td>1000.0</td>\n",
       "      <td>0.118520</td>\n",
       "      <td>50000.0</td>\n",
       "      <td>8783.0</td>\n",
       "      <td>1000.0</td>\n",
       "      <td>0.175660</td>\n",
       "    </tr>\n",
       "    <tr>\n",
       "      <td>bpr</td>\n",
       "      <td>50000.0</td>\n",
       "      <td>8764.0</td>\n",
       "      <td>1000.0</td>\n",
       "      <td>0.175280</td>\n",
       "      <td>50000.0</td>\n",
       "      <td>19595.0</td>\n",
       "      <td>1000.0</td>\n",
       "      <td>0.391900</td>\n",
       "      <td>50000.0</td>\n",
       "      <td>35683.0</td>\n",
       "      <td>1000.0</td>\n",
       "      <td>0.713660</td>\n",
       "    </tr>\n",
       "    <tr>\n",
       "      <td>item-item</td>\n",
       "      <td>49952.0</td>\n",
       "      <td>36582.0</td>\n",
       "      <td>1000.0</td>\n",
       "      <td>0.732343</td>\n",
       "      <td>49900.0</td>\n",
       "      <td>20417.0</td>\n",
       "      <td>998.0</td>\n",
       "      <td>0.409158</td>\n",
       "      <td>50000.0</td>\n",
       "      <td>8569.0</td>\n",
       "      <td>1000.0</td>\n",
       "      <td>0.171380</td>\n",
       "    </tr>\n",
       "    <tr>\n",
       "      <td>user-user</td>\n",
       "      <td>49952.0</td>\n",
       "      <td>16287.0</td>\n",
       "      <td>1000.0</td>\n",
       "      <td>0.326053</td>\n",
       "      <td>49660.0</td>\n",
       "      <td>5921.0</td>\n",
       "      <td>996.0</td>\n",
       "      <td>0.119231</td>\n",
       "      <td>49908.0</td>\n",
       "      <td>6420.0</td>\n",
       "      <td>1000.0</td>\n",
       "      <td>0.128637</td>\n",
       "    </tr>\n",
       "  </tbody>\n",
       "</table>\n",
       "</div>"
      ],
      "text/plain": [
       "Set             AZ                                     BX                   \\\n",
       "              Recs Distinct   Lists FracDistinct     Recs Distinct   Lists   \n",
       "Algorithm                                                                    \n",
       "als        50000.0  10920.0  1000.0     0.218400  50000.0   5926.0  1000.0   \n",
       "bpr        50000.0   8764.0  1000.0     0.175280  50000.0  19595.0  1000.0   \n",
       "item-item  49952.0  36582.0  1000.0     0.732343  49900.0  20417.0   998.0   \n",
       "user-user  49952.0  16287.0  1000.0     0.326053  49660.0   5921.0   996.0   \n",
       "\n",
       "Set                          GR                                \n",
       "          FracDistinct     Recs Distinct   Lists FracDistinct  \n",
       "Algorithm                                                      \n",
       "als           0.118520  50000.0   8783.0  1000.0     0.175660  \n",
       "bpr           0.391900  50000.0  35683.0  1000.0     0.713660  \n",
       "item-item     0.409158  50000.0   8569.0  1000.0     0.171380  \n",
       "user-user     0.119231  49908.0   6420.0  1000.0     0.128637  "
      ]
     },
     "execution_count": 26,
     "metadata": {},
     "output_type": "execute_result"
    }
   ],
   "source": [
    "df = select_implicit(item_counts).set_index(['Algorithm', 'Set']).stack().reorder_levels([0, 2, 1]).unstack().unstack()\n",
    "df"
   ]
  },
  {
   "cell_type": "code",
   "execution_count": 27,
   "metadata": {
    "papermill": {
     "duration": 0.039413,
     "end_time": "2019-09-24T19:54:28.667394",
     "exception": false,
     "start_time": "2019-09-24T19:54:28.627981",
     "status": "completed"
    },
    "tags": []
   },
   "outputs": [
    {
     "name": "stdout",
     "output_type": "stream",
     "text": [
      "\\begin{tabular}{lrrrrrrrrrrrr}\n",
      "\\toprule\n",
      "Set & \\multicolumn{4}{l}{AZ} & \\multicolumn{4}{l}{BX} & \\multicolumn{4}{l}{GR} \\\\\n",
      "{} &     Recs & Distinct &   Lists & FracDistinct &     Recs & Distinct &   Lists & FracDistinct &     Recs & Distinct &   Lists & FracDistinct \\\\\n",
      "Algorithm &          &          &         &              &          &          &         &              &          &          &         &              \\\\\n",
      "\\midrule\n",
      "als       &  50000.0 &  10920.0 &  1000.0 &     0.218400 &  50000.0 &   5926.0 &  1000.0 &     0.118520 &  50000.0 &   8783.0 &  1000.0 &     0.175660 \\\\\n",
      "bpr       &  50000.0 &   8764.0 &  1000.0 &     0.175280 &  50000.0 &  19595.0 &  1000.0 &     0.391900 &  50000.0 &  35683.0 &  1000.0 &     0.713660 \\\\\n",
      "item-item &  49952.0 &  36582.0 &  1000.0 &     0.732343 &  49900.0 &  20417.0 &   998.0 &     0.409158 &  50000.0 &   8569.0 &  1000.0 &     0.171380 \\\\\n",
      "user-user &  49952.0 &  16287.0 &  1000.0 &     0.326053 &  49660.0 &   5921.0 &   996.0 &     0.119231 &  49908.0 &   6420.0 &  1000.0 &     0.128637 \\\\\n",
      "\\bottomrule\n",
      "\\end{tabular}\n",
      "\n"
     ]
    }
   ],
   "source": [
    "print(df.to_latex())"
   ]
  },
  {
   "cell_type": "markdown",
   "metadata": {
    "papermill": {
     "duration": 0.028154,
     "end_time": "2019-09-24T19:54:28.723880",
     "exception": false,
     "start_time": "2019-09-24T19:54:28.695726",
     "status": "completed"
    },
    "tags": []
   },
   "source": [
    "And explicit?"
   ]
  },
  {
   "cell_type": "code",
   "execution_count": 28,
   "metadata": {
    "papermill": {
     "duration": 0.05136,
     "end_time": "2019-09-24T19:54:28.803330",
     "exception": false,
     "start_time": "2019-09-24T19:54:28.751970",
     "status": "completed"
    },
    "tags": []
   },
   "outputs": [
    {
     "data": {
      "text/html": [
       "<div>\n",
       "<style scoped>\n",
       "    .dataframe tbody tr th:only-of-type {\n",
       "        vertical-align: middle;\n",
       "    }\n",
       "\n",
       "    .dataframe tbody tr th {\n",
       "        vertical-align: top;\n",
       "    }\n",
       "\n",
       "    .dataframe thead tr th {\n",
       "        text-align: left;\n",
       "    }\n",
       "\n",
       "    .dataframe thead tr:last-of-type th {\n",
       "        text-align: right;\n",
       "    }\n",
       "</style>\n",
       "<table border=\"1\" class=\"dataframe\">\n",
       "  <thead>\n",
       "    <tr>\n",
       "      <th></th>\n",
       "      <th colspan=\"3\" halign=\"left\">Recs</th>\n",
       "      <th colspan=\"3\" halign=\"left\">Distinct</th>\n",
       "      <th colspan=\"3\" halign=\"left\">Lists</th>\n",
       "      <th colspan=\"3\" halign=\"left\">FracDistinct</th>\n",
       "    </tr>\n",
       "    <tr>\n",
       "      <th>Set</th>\n",
       "      <th>AZ</th>\n",
       "      <th>BX</th>\n",
       "      <th>GR</th>\n",
       "      <th>AZ</th>\n",
       "      <th>BX</th>\n",
       "      <th>GR</th>\n",
       "      <th>AZ</th>\n",
       "      <th>BX</th>\n",
       "      <th>GR</th>\n",
       "      <th>AZ</th>\n",
       "      <th>BX</th>\n",
       "      <th>GR</th>\n",
       "    </tr>\n",
       "    <tr>\n",
       "      <th>Algorithm</th>\n",
       "      <th></th>\n",
       "      <th></th>\n",
       "      <th></th>\n",
       "      <th></th>\n",
       "      <th></th>\n",
       "      <th></th>\n",
       "      <th></th>\n",
       "      <th></th>\n",
       "      <th></th>\n",
       "      <th></th>\n",
       "      <th></th>\n",
       "      <th></th>\n",
       "    </tr>\n",
       "  </thead>\n",
       "  <tbody>\n",
       "    <tr>\n",
       "      <td>als</td>\n",
       "      <td>50000.0</td>\n",
       "      <td>50000.0</td>\n",
       "      <td>NaN</td>\n",
       "      <td>16164.0</td>\n",
       "      <td>69.0</td>\n",
       "      <td>NaN</td>\n",
       "      <td>1000.0</td>\n",
       "      <td>1000.0</td>\n",
       "      <td>NaN</td>\n",
       "      <td>0.323280</td>\n",
       "      <td>0.001380</td>\n",
       "      <td>NaN</td>\n",
       "    </tr>\n",
       "    <tr>\n",
       "      <td>item-item</td>\n",
       "      <td>48326.0</td>\n",
       "      <td>49741.0</td>\n",
       "      <td>49534.0</td>\n",
       "      <td>35236.0</td>\n",
       "      <td>10238.0</td>\n",
       "      <td>29452.0</td>\n",
       "      <td>999.0</td>\n",
       "      <td>998.0</td>\n",
       "      <td>1000.0</td>\n",
       "      <td>0.729131</td>\n",
       "      <td>0.205826</td>\n",
       "      <td>0.594581</td>\n",
       "    </tr>\n",
       "    <tr>\n",
       "      <td>user-user</td>\n",
       "      <td>38417.0</td>\n",
       "      <td>44353.0</td>\n",
       "      <td>48587.0</td>\n",
       "      <td>31834.0</td>\n",
       "      <td>19570.0</td>\n",
       "      <td>25547.0</td>\n",
       "      <td>904.0</td>\n",
       "      <td>968.0</td>\n",
       "      <td>977.0</td>\n",
       "      <td>0.828644</td>\n",
       "      <td>0.441233</td>\n",
       "      <td>0.525799</td>\n",
       "    </tr>\n",
       "  </tbody>\n",
       "</table>\n",
       "</div>"
      ],
      "text/plain": [
       "              Recs                   Distinct                     Lists  \\\n",
       "Set             AZ       BX       GR       AZ       BX       GR      AZ   \n",
       "Algorithm                                                                 \n",
       "als        50000.0  50000.0      NaN  16164.0     69.0      NaN  1000.0   \n",
       "item-item  48326.0  49741.0  49534.0  35236.0  10238.0  29452.0   999.0   \n",
       "user-user  38417.0  44353.0  48587.0  31834.0  19570.0  25547.0   904.0   \n",
       "\n",
       "                          FracDistinct                      \n",
       "Set            BX      GR           AZ        BX        GR  \n",
       "Algorithm                                                   \n",
       "als        1000.0     NaN     0.323280  0.001380       NaN  \n",
       "item-item   998.0  1000.0     0.729131  0.205826  0.594581  \n",
       "user-user   968.0   977.0     0.828644  0.441233  0.525799  "
      ]
     },
     "execution_count": 28,
     "metadata": {},
     "output_type": "execute_result"
    }
   ],
   "source": [
    "select_explicit(item_counts).set_index(['Algorithm', 'Set']).unstack()"
   ]
  },
  {
   "cell_type": "markdown",
   "metadata": {
    "papermill": {
     "duration": 0.029298,
     "end_time": "2019-09-24T19:54:28.862562",
     "exception": false,
     "start_time": "2019-09-24T19:54:28.833264",
     "status": "completed"
    },
    "tags": []
   },
   "source": [
    "## Dist. Table"
   ]
  },
  {
   "cell_type": "code",
   "execution_count": 29,
   "metadata": {
    "papermill": {
     "duration": 0.08349,
     "end_time": "2019-09-24T19:54:28.974662",
     "exception": false,
     "start_time": "2019-09-24T19:54:28.891172",
     "status": "completed"
    },
    "tags": []
   },
   "outputs": [
    {
     "data": {
      "text/html": [
       "<div>\n",
       "<style scoped>\n",
       "    .dataframe tbody tr th:only-of-type {\n",
       "        vertical-align: middle;\n",
       "    }\n",
       "\n",
       "    .dataframe tbody tr th {\n",
       "        vertical-align: top;\n",
       "    }\n",
       "\n",
       "    .dataframe thead th {\n",
       "        text-align: right;\n",
       "    }\n",
       "</style>\n",
       "<table border=\"1\" class=\"dataframe\">\n",
       "  <thead>\n",
       "    <tr style=\"text-align: right;\">\n",
       "      <th>Set</th>\n",
       "      <th>AZ</th>\n",
       "      <th>BX</th>\n",
       "      <th>GR</th>\n",
       "    </tr>\n",
       "    <tr>\n",
       "      <th>Algorithm</th>\n",
       "      <th></th>\n",
       "      <th></th>\n",
       "      <th></th>\n",
       "    </tr>\n",
       "  </thead>\n",
       "  <tbody>\n",
       "    <tr>\n",
       "      <td>als</td>\n",
       "      <td>0.389144</td>\n",
       "      <td>0.405522</td>\n",
       "      <td>0.436977</td>\n",
       "    </tr>\n",
       "    <tr>\n",
       "      <td>bpr</td>\n",
       "      <td>0.382724</td>\n",
       "      <td>0.425341</td>\n",
       "      <td>0.445633</td>\n",
       "    </tr>\n",
       "    <tr>\n",
       "      <td>item-item</td>\n",
       "      <td>0.364534</td>\n",
       "      <td>0.454264</td>\n",
       "      <td>0.490734</td>\n",
       "    </tr>\n",
       "    <tr>\n",
       "      <td>user-user</td>\n",
       "      <td>0.401199</td>\n",
       "      <td>0.393445</td>\n",
       "      <td>0.422023</td>\n",
       "    </tr>\n",
       "  </tbody>\n",
       "</table>\n",
       "</div>"
      ],
      "text/plain": [
       "Set              AZ        BX        GR\n",
       "Algorithm                              \n",
       "als        0.389144  0.405522  0.436977\n",
       "bpr        0.382724  0.425341  0.445633\n",
       "item-item  0.364534  0.454264  0.490734\n",
       "user-user  0.401199  0.393445  0.422023"
      ]
     },
     "execution_count": 29,
     "metadata": {},
     "output_type": "execute_result"
    }
   ],
   "source": [
    "select_implicit(rec_stats).groupby(['Algorithm', 'Set']).PropFemale.mean().unstack()"
   ]
  },
  {
   "cell_type": "code",
   "execution_count": 30,
   "metadata": {
    "papermill": {
     "duration": 0.084157,
     "end_time": "2019-09-24T19:54:29.089292",
     "exception": false,
     "start_time": "2019-09-24T19:54:29.005135",
     "status": "completed"
    },
    "tags": []
   },
   "outputs": [
    {
     "data": {
      "text/html": [
       "<div>\n",
       "<style scoped>\n",
       "    .dataframe tbody tr th:only-of-type {\n",
       "        vertical-align: middle;\n",
       "    }\n",
       "\n",
       "    .dataframe tbody tr th {\n",
       "        vertical-align: top;\n",
       "    }\n",
       "\n",
       "    .dataframe thead th {\n",
       "        text-align: right;\n",
       "    }\n",
       "</style>\n",
       "<table border=\"1\" class=\"dataframe\">\n",
       "  <thead>\n",
       "    <tr style=\"text-align: right;\">\n",
       "      <th>Set</th>\n",
       "      <th>AZ</th>\n",
       "      <th>BX</th>\n",
       "      <th>GR</th>\n",
       "    </tr>\n",
       "    <tr>\n",
       "      <th>Algorithm</th>\n",
       "      <th></th>\n",
       "      <th></th>\n",
       "      <th></th>\n",
       "    </tr>\n",
       "  </thead>\n",
       "  <tbody>\n",
       "    <tr>\n",
       "      <td>als</td>\n",
       "      <td>0.302458</td>\n",
       "      <td>0.189872</td>\n",
       "      <td>0.274364</td>\n",
       "    </tr>\n",
       "    <tr>\n",
       "      <td>bpr</td>\n",
       "      <td>0.298222</td>\n",
       "      <td>0.269291</td>\n",
       "      <td>0.316125</td>\n",
       "    </tr>\n",
       "    <tr>\n",
       "      <td>item-item</td>\n",
       "      <td>0.305145</td>\n",
       "      <td>0.204459</td>\n",
       "      <td>0.238008</td>\n",
       "    </tr>\n",
       "    <tr>\n",
       "      <td>user-user</td>\n",
       "      <td>0.270555</td>\n",
       "      <td>0.169215</td>\n",
       "      <td>0.259903</td>\n",
       "    </tr>\n",
       "  </tbody>\n",
       "</table>\n",
       "</div>"
      ],
      "text/plain": [
       "Set              AZ        BX        GR\n",
       "Algorithm                              \n",
       "als        0.302458  0.189872  0.274364\n",
       "bpr        0.298222  0.269291  0.316125\n",
       "item-item  0.305145  0.204459  0.238008\n",
       "user-user  0.270555  0.169215  0.259903"
      ]
     },
     "execution_count": 30,
     "metadata": {},
     "output_type": "execute_result"
    }
   ],
   "source": [
    "np.sqrt(select_implicit(rec_stats).groupby(['Algorithm', 'Set']).PropFemale.var()).unstack()"
   ]
  },
  {
   "cell_type": "code",
   "execution_count": 31,
   "metadata": {
    "papermill": {
     "duration": 0.068211,
     "end_time": "2019-09-24T19:54:29.187768",
     "exception": false,
     "start_time": "2019-09-24T19:54:29.119557",
     "status": "completed"
    },
    "tags": []
   },
   "outputs": [
    {
     "data": {
      "text/html": [
       "<div>\n",
       "<style scoped>\n",
       "    .dataframe tbody tr th:only-of-type {\n",
       "        vertical-align: middle;\n",
       "    }\n",
       "\n",
       "    .dataframe tbody tr th {\n",
       "        vertical-align: top;\n",
       "    }\n",
       "\n",
       "    .dataframe thead th {\n",
       "        text-align: right;\n",
       "    }\n",
       "</style>\n",
       "<table border=\"1\" class=\"dataframe\">\n",
       "  <thead>\n",
       "    <tr style=\"text-align: right;\">\n",
       "      <th>Set</th>\n",
       "      <th>AZ</th>\n",
       "      <th>BX</th>\n",
       "      <th>GR</th>\n",
       "    </tr>\n",
       "    <tr>\n",
       "      <th>Algorithm</th>\n",
       "      <th></th>\n",
       "      <th></th>\n",
       "      <th></th>\n",
       "    </tr>\n",
       "  </thead>\n",
       "  <tbody>\n",
       "    <tr>\n",
       "      <td>als</td>\n",
       "      <td>0.379841</td>\n",
       "      <td>0.285635</td>\n",
       "      <td>NaN</td>\n",
       "    </tr>\n",
       "    <tr>\n",
       "      <td>item-item</td>\n",
       "      <td>0.377928</td>\n",
       "      <td>0.430288</td>\n",
       "      <td>0.395771</td>\n",
       "    </tr>\n",
       "    <tr>\n",
       "      <td>user-user</td>\n",
       "      <td>0.333566</td>\n",
       "      <td>0.394142</td>\n",
       "      <td>0.364067</td>\n",
       "    </tr>\n",
       "  </tbody>\n",
       "</table>\n",
       "</div>"
      ],
      "text/plain": [
       "Set              AZ        BX        GR\n",
       "Algorithm                              \n",
       "als        0.379841  0.285635       NaN\n",
       "item-item  0.377928  0.430288  0.395771\n",
       "user-user  0.333566  0.394142  0.364067"
      ]
     },
     "execution_count": 31,
     "metadata": {},
     "output_type": "execute_result"
    }
   ],
   "source": [
    "select_explicit(rec_stats).groupby(['Algorithm', 'Set']).PropFemale.mean().unstack()"
   ]
  },
  {
   "cell_type": "code",
   "execution_count": 32,
   "metadata": {
    "papermill": {
     "duration": 0.067422,
     "end_time": "2019-09-24T19:54:29.285986",
     "exception": false,
     "start_time": "2019-09-24T19:54:29.218564",
     "status": "completed"
    },
    "tags": []
   },
   "outputs": [
    {
     "data": {
      "text/html": [
       "<div>\n",
       "<style scoped>\n",
       "    .dataframe tbody tr th:only-of-type {\n",
       "        vertical-align: middle;\n",
       "    }\n",
       "\n",
       "    .dataframe tbody tr th {\n",
       "        vertical-align: top;\n",
       "    }\n",
       "\n",
       "    .dataframe thead th {\n",
       "        text-align: right;\n",
       "    }\n",
       "</style>\n",
       "<table border=\"1\" class=\"dataframe\">\n",
       "  <thead>\n",
       "    <tr style=\"text-align: right;\">\n",
       "      <th>Set</th>\n",
       "      <th>AZ</th>\n",
       "      <th>BX</th>\n",
       "      <th>GR</th>\n",
       "    </tr>\n",
       "    <tr>\n",
       "      <th>Algorithm</th>\n",
       "      <th></th>\n",
       "      <th></th>\n",
       "      <th></th>\n",
       "    </tr>\n",
       "  </thead>\n",
       "  <tbody>\n",
       "    <tr>\n",
       "      <td>als</td>\n",
       "      <td>0.154736</td>\n",
       "      <td>0.010468</td>\n",
       "      <td>NaN</td>\n",
       "    </tr>\n",
       "    <tr>\n",
       "      <td>item-item</td>\n",
       "      <td>0.242641</td>\n",
       "      <td>0.130458</td>\n",
       "      <td>0.238564</td>\n",
       "    </tr>\n",
       "    <tr>\n",
       "      <td>user-user</td>\n",
       "      <td>0.220675</td>\n",
       "      <td>0.154452</td>\n",
       "      <td>0.165785</td>\n",
       "    </tr>\n",
       "  </tbody>\n",
       "</table>\n",
       "</div>"
      ],
      "text/plain": [
       "Set              AZ        BX        GR\n",
       "Algorithm                              \n",
       "als        0.154736  0.010468       NaN\n",
       "item-item  0.242641  0.130458  0.238564\n",
       "user-user  0.220675  0.154452  0.165785"
      ]
     },
     "execution_count": 32,
     "metadata": {},
     "output_type": "execute_result"
    }
   ],
   "source": [
    "np.sqrt(select_explicit(rec_stats).groupby(['Algorithm', 'Set']).PropFemale.var()).unstack()"
   ]
  },
  {
   "cell_type": "markdown",
   "metadata": {
    "papermill": {
     "duration": 0.029392,
     "end_time": "2019-09-24T19:54:29.346620",
     "exception": false,
     "start_time": "2019-09-24T19:54:29.317228",
     "status": "completed"
    },
    "tags": []
   },
   "source": [
    "## Rec List Distributions\n",
    "\n",
    "Now that we have all of this, we can start to look at recommendation list distributions.  How is Proportion Female distributed?"
   ]
  },
  {
   "cell_type": "code",
   "execution_count": 33,
   "metadata": {
    "papermill": {
     "duration": 3.170052,
     "end_time": "2019-09-24T19:54:32.546653",
     "exception": false,
     "start_time": "2019-09-24T19:54:29.376601",
     "status": "completed"
    },
    "tags": []
   },
   "outputs": [
    {
     "data": {
      "text/plain": [
       "<seaborn.axisgrid.FacetGrid at 0x2aab9ff2ad50>"
      ]
     },
     "execution_count": 33,
     "metadata": {},
     "output_type": "execute_result"
    },
    {
     "data": {
      "image/png": "[encoded data removed]",
      "text/plain": [
       "<Figure size 648x864 with 12 Axes>"
      ]
     },
     "metadata": {
      "needs_background": "light"
     },
     "output_type": "display_data"
    }
   ],
   "source": [
    "grid = sns.FacetGrid(col='Set', row='Algorithm', data=select_implicit(rec_stats), sharey=False, margin_titles=True)\n",
    "grid.map(sns.distplot, 'PropFemale', kde=False, norm_hist=True)"
   ]
  },
  {
   "cell_type": "code",
   "execution_count": 34,
   "metadata": {
    "papermill": {
     "duration": 3.292948,
     "end_time": "2019-09-24T19:54:35.871779",
     "exception": false,
     "start_time": "2019-09-24T19:54:32.578831",
     "status": "completed"
    },
    "tags": []
   },
   "outputs": [
    {
     "data": {
      "text/plain": [
       "<seaborn.axisgrid.FacetGrid at 0x2aaae1543450>"
      ]
     },
     "execution_count": 34,
     "metadata": {},
     "output_type": "execute_result"
    },
    {
     "data": {
      "image/png": "[encoded data removed]",
      "text/plain": [
       "<Figure size 648x864 with 12 Axes>"
      ]
     },
     "metadata": {
      "needs_background": "light"
     },
     "output_type": "display_data"
    }
   ],
   "source": [
    "grid = sns.FacetGrid(col='Set', row='Algorithm', data=select_implicit(rec_stats), sharey=False, margin_titles=True)\n",
    "grid.map(sns.distplot, 'PropKnown', kde=False, norm_hist=True)"
   ]
  },
  {
   "cell_type": "code",
   "execution_count": 35,
   "metadata": {
    "papermill": {
     "duration": 2.341553,
     "end_time": "2019-09-24T19:54:38.246564",
     "exception": false,
     "start_time": "2019-09-24T19:54:35.905011",
     "status": "completed"
    },
    "tags": []
   },
   "outputs": [
    {
     "data": {
      "text/plain": [
       "<seaborn.axisgrid.FacetGrid at 0x2aaae1977f10>"
      ]
     },
     "execution_count": 35,
     "metadata": {},
     "output_type": "execute_result"
    },
    {
     "data": {
      "image/png": "[encoded data removed]",
      "text/plain": [
       "<Figure size 648x648 with 9 Axes>"
      ]
     },
     "metadata": {
      "needs_background": "light"
     },
     "output_type": "display_data"
    }
   ],
   "source": [
    "grid = sns.FacetGrid(col='Set', row='Algorithm', data=select_explicit(rec_stats), sharey=False, margin_titles=True)\n",
    "grid.map(sns.distplot, 'PropFemale', kde=False, norm_hist=True)"
   ]
  },
  {
   "cell_type": "code",
   "execution_count": 36,
   "metadata": {
    "papermill": {
     "duration": 2.312961,
     "end_time": "2019-09-24T19:54:40.592844",
     "exception": false,
     "start_time": "2019-09-24T19:54:38.279883",
     "status": "completed"
    },
    "tags": []
   },
   "outputs": [
    {
     "data": {
      "text/plain": [
       "<seaborn.axisgrid.FacetGrid at 0x2aaae20c3850>"
      ]
     },
     "execution_count": 36,
     "metadata": {},
     "output_type": "execute_result"
    },
    {
     "data": {
      "image/png": "[encoded data removed]",
      "text/plain": [
       "<Figure size 648x648 with 9 Axes>"
      ]
     },
     "metadata": {
      "needs_background": "light"
     },
     "output_type": "display_data"
    }
   ],
   "source": [
    "grid = sns.FacetGrid(col='Set', row='Algorithm', data=select_explicit(rec_stats), sharey=False, margin_titles=True)\n",
    "grid.map(sns.distplot, 'PropKnown', kde=False, norm_hist=True)"
   ]
  },
  {
   "cell_type": "markdown",
   "metadata": {
    "papermill": {
     "duration": 0.033949,
     "end_time": "2019-09-24T19:54:40.661491",
     "exception": false,
     "start_time": "2019-09-24T19:54:40.627542",
     "status": "completed"
    },
    "tags": []
   },
   "source": [
    "## Dummy Code Distributions"
   ]
  },
  {
   "cell_type": "code",
   "execution_count": 37,
   "metadata": {
    "papermill": {
     "duration": 3.519024,
     "end_time": "2019-09-24T19:54:44.214699",
     "exception": false,
     "start_time": "2019-09-24T19:54:40.695675",
     "status": "completed"
    },
    "tags": []
   },
   "outputs": [
    {
     "data": {
      "text/plain": [
       "<seaborn.axisgrid.FacetGrid at 0x2aaae22bd850>"
      ]
     },
     "execution_count": 37,
     "metadata": {},
     "output_type": "execute_result"
    },
    {
     "data": {
      "image/png": "[encoded data removed]",
      "text/plain": [
       "<Figure size 648x864 with 12 Axes>"
      ]
     },
     "metadata": {
      "needs_background": "light"
     },
     "output_type": "display_data"
    }
   ],
   "source": [
    "grid = sns.FacetGrid(col='Set', row='Algorithm', data=select_implicit(rec_stats), sharey=False, margin_titles=True)\n",
    "grid.map(sns.distplot, 'PropDC', kde=False, norm_hist=True)"
   ]
  },
  {
   "cell_type": "code",
   "execution_count": 38,
   "metadata": {
    "papermill": {
     "duration": 2.328871,
     "end_time": "2019-09-24T19:54:46.578814",
     "exception": false,
     "start_time": "2019-09-24T19:54:44.249943",
     "status": "completed"
    },
    "tags": []
   },
   "outputs": [
    {
     "data": {
      "text/plain": [
       "<seaborn.axisgrid.FacetGrid at 0x2aaae2c7e790>"
      ]
     },
     "execution_count": 38,
     "metadata": {},
     "output_type": "execute_result"
    },
    {
     "data": {
      "image/png": "[encoded data removed]",
      "text/plain": [
       "<Figure size 648x648 with 9 Axes>"
      ]
     },
     "metadata": {
      "needs_background": "light"
     },
     "output_type": "display_data"
    }
   ],
   "source": [
    "grid = sns.FacetGrid(col='Set', row='Algorithm', data=select_explicit(rec_stats), sharey=False, margin_titles=True)\n",
    "grid.map(sns.distplot, 'PropDC', kde=False, norm_hist=True)"
   ]
  },
  {
   "cell_type": "markdown",
   "metadata": {
    "papermill": {
     "duration": 0.034916,
     "end_time": "2019-09-24T19:54:46.649739",
     "exception": false,
     "start_time": "2019-09-24T19:54:46.614823",
     "status": "completed"
    },
    "tags": []
   },
   "source": [
    "## Prepare for Modeling\n",
    "\n",
    "With this analysis, we need to prepare our recommendation data for modeling."
   ]
  },
  {
   "cell_type": "markdown",
   "metadata": {
    "papermill": {
     "duration": 0.034847,
     "end_time": "2019-09-24T19:54:46.719778",
     "exception": false,
     "start_time": "2019-09-24T19:54:46.684931",
     "status": "completed"
    },
    "tags": []
   },
   "source": [
    "Because ALS on BX-E behaves _so_ badly, we can't really use it. Drop from further analysis."
   ]
  },
  {
   "cell_type": "code",
   "execution_count": 39,
   "metadata": {
    "papermill": {
     "duration": 0.185083,
     "end_time": "2019-09-24T19:54:46.939662",
     "exception": false,
     "start_time": "2019-09-24T19:54:46.754579",
     "status": "completed"
    },
    "tags": []
   },
   "outputs": [],
   "source": [
    "rec_stats = rec_stats.drop(('BX-E', 'als'))"
   ]
  },
  {
   "cell_type": "code",
   "execution_count": 40,
   "metadata": {
    "papermill": {
     "duration": 0.050479,
     "end_time": "2019-09-24T19:54:47.026234",
     "exception": false,
     "start_time": "2019-09-24T19:54:46.975755",
     "status": "completed"
    },
    "tags": []
   },
   "outputs": [],
   "source": [
    "rec_stats.to_pickle('data/rec-data.pkl')"
   ]
  },
  {
   "cell_type": "code",
   "execution_count": null,
   "metadata": {
    "papermill": {
     "duration": 0.032735,
     "end_time": "2019-09-24T19:54:47.092651",
     "exception": false,
     "start_time": "2019-09-24T19:54:47.059916",
     "status": "completed"
    },
    "tags": []
   },
   "outputs": [],
   "source": []
  }
 ],
 "metadata": {
  "kernelspec": {
   "display_name": "Python 3",
   "language": "python",
   "name": "python3"
  },
  "language_info": {
   "codemirror_mode": {
    "name": "ipython",
    "version": 3
   },
   "file_extension": ".py",
   "mimetype": "text/x-python",
   "name": "python",
   "nbconvert_exporter": "python",
   "pygments_lexer": "ipython3",
   "version": "3.7.4"
  },
  "papermill": {
   "duration": 62.155191,
   "end_time": "2019-09-24T19:54:48.335489",
   "environment_variables": {},
   "exception": null,
   "input_path": "RecDataPrep.ipynb",
   "output_path": "RecDataPrep.temp.ipynb",
   "parameters": {},
   "start_time": "2019-09-24T19:53:46.180298",
   "version": "1.0.1"
  }
 },
 "nbformat": 4,
 "nbformat_minor": 4
}