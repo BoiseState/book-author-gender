{
 "cells": [
  {
   "cell_type": "markdown",
   "metadata": {
    "papermill": {
     "duration": 0.021999,
     "end_time": "2020-05-12T09:25:50.911014",
     "exception": false,
     "start_time": "2020-05-12T09:25:50.889015",
     "status": "completed"
    },
    "tags": []
   },
   "source": [
    "# Recommendation List Data Prep\n",
    "\n",
    "This notebook does the data preparation for the recommendation list analysis."
   ]
  },
  {
   "cell_type": "markdown",
   "metadata": {
    "papermill": {
     "duration": 0.021022,
     "end_time": "2020-05-12T09:25:50.956015",
     "exception": false,
     "start_time": "2020-05-12T09:25:50.934993",
     "status": "completed"
    },
    "tags": []
   },
   "source": [
    "## Setup"
   ]
  },
  {
   "cell_type": "code",
   "execution_count": 1,
   "metadata": {
    "papermill": {
     "duration": 0.87456,
     "end_time": "2020-05-12T09:25:51.851576",
     "exception": false,
     "start_time": "2020-05-12T09:25:50.977016",
     "status": "completed"
    },
    "tags": []
   },
   "outputs": [],
   "source": [
    "import pandas as pd\n",
    "import numpy as np\n",
    "import seaborn as sns\n",
    "import matplotlib.pyplot as plt\n",
    "from itertools import product"
   ]
  },
  {
   "cell_type": "code",
   "execution_count": 2,
   "metadata": {
    "papermill": {
     "duration": 0.033033,
     "end_time": "2020-05-12T09:25:51.910579",
     "exception": false,
     "start_time": "2020-05-12T09:25:51.877546",
     "status": "completed"
    },
    "tags": []
   },
   "outputs": [],
   "source": [
    "import ujson"
   ]
  },
  {
   "cell_type": "code",
   "execution_count": 3,
   "metadata": {
    "papermill": {
     "duration": 0.173999,
     "end_time": "2020-05-12T09:25:52.106542",
     "exception": false,
     "start_time": "2020-05-12T09:25:51.932543",
     "status": "completed"
    },
    "tags": []
   },
   "outputs": [],
   "source": [
    "from bookgender.config import data_dir"
   ]
  },
  {
   "cell_type": "markdown",
   "metadata": {
    "papermill": {
     "duration": 0.024029,
     "end_time": "2020-05-12T09:25:52.156570",
     "exception": false,
     "start_time": "2020-05-12T09:25:52.132541",
     "status": "completed"
    },
    "tags": []
   },
   "source": [
    "## Load Data"
   ]
  },
  {
   "cell_type": "markdown",
   "metadata": {
    "papermill": {
     "duration": 0.021961,
     "end_time": "2020-05-12T09:25:52.199539",
     "exception": false,
     "start_time": "2020-05-12T09:25:52.177578",
     "status": "completed"
    },
    "tags": []
   },
   "source": [
    "Load book gender data and clean it up:"
   ]
  },
  {
   "cell_type": "code",
   "execution_count": 4,
   "metadata": {
    "papermill": {
     "duration": 6.819439,
     "end_time": "2020-05-12T09:25:59.040008",
     "exception": false,
     "start_time": "2020-05-12T09:25:52.220569",
     "status": "completed"
    },
    "tags": []
   },
   "outputs": [
    {
     "data": {
      "text/plain": [
       "count     12234574\n",
       "unique           4\n",
       "top        unknown\n",
       "freq       7271039\n",
       "Name: gender, dtype: object"
      ]
     },
     "execution_count": 4,
     "metadata": {},
     "output_type": "execute_result"
    }
   ],
   "source": [
    "book_gender = pd.read_csv('data/author-gender.csv.gz')\n",
    "book_gender = book_gender.set_index('item')['gender']\n",
    "book_gender.loc[book_gender.str.startswith('no-')] = 'unknown'\n",
    "book_gender.loc[book_gender == 'unlinked'] = 'unknown'\n",
    "book_gender = book_gender.astype('category')\n",
    "book_gender.describe()"
   ]
  },
  {
   "cell_type": "code",
   "execution_count": 5,
   "metadata": {
    "papermill": {
     "duration": 0.029996,
     "end_time": "2020-05-12T09:25:59.092033",
     "exception": false,
     "start_time": "2020-05-12T09:25:59.062037",
     "status": "completed"
    },
    "tags": []
   },
   "outputs": [
    {
     "data": {
      "text/plain": [
       "item\n",
       "0       male\n",
       "1    unknown\n",
       "2       male\n",
       "3    unknown\n",
       "4       male\n",
       "Name: gender, dtype: category\n",
       "Categories (4, object): [ambiguous, female, male, unknown]"
      ]
     },
     "execution_count": 5,
     "metadata": {},
     "output_type": "execute_result"
    }
   ],
   "source": [
    "book_gender.head()"
   ]
  },
  {
   "cell_type": "markdown",
   "metadata": {
    "papermill": {
     "duration": 0.02405,
     "end_time": "2020-05-12T09:25:59.143056",
     "exception": false,
     "start_time": "2020-05-12T09:25:59.119006",
     "status": "completed"
    },
    "tags": []
   },
   "source": [
    "And load hashes:"
   ]
  },
  {
   "cell_type": "code",
   "execution_count": 6,
   "metadata": {
    "papermill": {
     "duration": 12.430592,
     "end_time": "2020-05-12T09:26:11.595624",
     "exception": false,
     "start_time": "2020-05-12T09:25:59.165032",
     "status": "completed"
    },
    "tags": []
   },
   "outputs": [
    {
     "data": {
      "text/html": [
       "<div>\n",
       "<style scoped>\n",
       "    .dataframe tbody tr th:only-of-type {\n",
       "        vertical-align: middle;\n",
       "    }\n",
       "\n",
       "    .dataframe tbody tr th {\n",
       "        vertical-align: top;\n",
       "    }\n",
       "\n",
       "    .dataframe thead th {\n",
       "        text-align: right;\n",
       "    }\n",
       "</style>\n",
       "<table border=\"1\" class=\"dataframe\">\n",
       "  <thead>\n",
       "    <tr style=\"text-align: right;\">\n",
       "      <th></th>\n",
       "      <th>nisbns</th>\n",
       "      <th>md5</th>\n",
       "      <th>dcode</th>\n",
       "    </tr>\n",
       "    <tr>\n",
       "      <th>item</th>\n",
       "      <th></th>\n",
       "      <th></th>\n",
       "      <th></th>\n",
       "    </tr>\n",
       "  </thead>\n",
       "  <tbody>\n",
       "    <tr>\n",
       "      <th>0</th>\n",
       "      <td>17</td>\n",
       "      <td>3781b82fabd530590c70cac955b52bb0</td>\n",
       "      <td>0</td>\n",
       "    </tr>\n",
       "    <tr>\n",
       "      <th>1</th>\n",
       "      <td>2</td>\n",
       "      <td>4c6606ab43bfbe946a436c0ce7633a7a</td>\n",
       "      <td>0</td>\n",
       "    </tr>\n",
       "    <tr>\n",
       "      <th>2</th>\n",
       "      <td>38</td>\n",
       "      <td>e16249d40bf94b35d8a784d73d0511c5</td>\n",
       "      <td>1</td>\n",
       "    </tr>\n",
       "    <tr>\n",
       "      <th>3</th>\n",
       "      <td>2</td>\n",
       "      <td>289071ab1041c090ac252616a76fe079</td>\n",
       "      <td>1</td>\n",
       "    </tr>\n",
       "    <tr>\n",
       "      <th>4</th>\n",
       "      <td>4</td>\n",
       "      <td>7308735b39347b616ee6be0ab093541e</td>\n",
       "      <td>0</td>\n",
       "    </tr>\n",
       "  </tbody>\n",
       "</table>\n",
       "</div>"
      ],
      "text/plain": [
       "      nisbns                               md5  dcode\n",
       "item                                                 \n",
       "0         17  3781b82fabd530590c70cac955b52bb0      0\n",
       "1          2  4c6606ab43bfbe946a436c0ce7633a7a      0\n",
       "2         38  e16249d40bf94b35d8a784d73d0511c5      1\n",
       "3          2  289071ab1041c090ac252616a76fe079      1\n",
       "4          4  7308735b39347b616ee6be0ab093541e      0"
      ]
     },
     "execution_count": 6,
     "metadata": {},
     "output_type": "execute_result"
    }
   ],
   "source": [
    "book_hash = pd.read_parquet('data/book-hash.parquet').rename(columns={'cluster': 'item'})\n",
    "book_hash['dcode'] = book_hash['md5'].apply(lambda x: int(x[-1], 16) % 2)\n",
    "book_hash = book_hash.set_index('item')\n",
    "book_hash.head()"
   ]
  },
  {
   "cell_type": "markdown",
   "metadata": {
    "papermill": {
     "duration": 0.027002,
     "end_time": "2020-05-12T09:26:11.644648",
     "exception": false,
     "start_time": "2020-05-12T09:26:11.617646",
     "status": "completed"
    },
    "tags": []
   },
   "source": [
    "Load the user profile data:"
   ]
  },
  {
   "cell_type": "code",
   "execution_count": 7,
   "metadata": {
    "papermill": {
     "duration": 0.043,
     "end_time": "2020-05-12T09:26:11.710634",
     "exception": false,
     "start_time": "2020-05-12T09:26:11.667634",
     "status": "completed"
    },
    "tags": []
   },
   "outputs": [
    {
     "data": {
      "text/html": [
       "<div>\n",
       "<style scoped>\n",
       "    .dataframe tbody tr th:only-of-type {\n",
       "        vertical-align: middle;\n",
       "    }\n",
       "\n",
       "    .dataframe tbody tr th {\n",
       "        vertical-align: top;\n",
       "    }\n",
       "\n",
       "    .dataframe thead th {\n",
       "        text-align: right;\n",
       "    }\n",
       "</style>\n",
       "<table border=\"1\" class=\"dataframe\">\n",
       "  <thead>\n",
       "    <tr style=\"text-align: right;\">\n",
       "      <th></th>\n",
       "      <th></th>\n",
       "      <th>count</th>\n",
       "      <th>linked</th>\n",
       "      <th>ambiguous</th>\n",
       "      <th>male</th>\n",
       "      <th>female</th>\n",
       "      <th>dcknown</th>\n",
       "      <th>dcyes</th>\n",
       "      <th>PropDC</th>\n",
       "      <th>Known</th>\n",
       "      <th>PropFemale</th>\n",
       "      <th>PropKnown</th>\n",
       "    </tr>\n",
       "    <tr>\n",
       "      <th>Set</th>\n",
       "      <th>user</th>\n",
       "      <th></th>\n",
       "      <th></th>\n",
       "      <th></th>\n",
       "      <th></th>\n",
       "      <th></th>\n",
       "      <th></th>\n",
       "      <th></th>\n",
       "      <th></th>\n",
       "      <th></th>\n",
       "      <th></th>\n",
       "      <th></th>\n",
       "    </tr>\n",
       "  </thead>\n",
       "  <tbody>\n",
       "    <tr>\n",
       "      <th rowspan=\"5\" valign=\"top\">AZ</th>\n",
       "      <th>529</th>\n",
       "      <td>8</td>\n",
       "      <td>8</td>\n",
       "      <td>2</td>\n",
       "      <td>1</td>\n",
       "      <td>4</td>\n",
       "      <td>8</td>\n",
       "      <td>3</td>\n",
       "      <td>0.375000</td>\n",
       "      <td>5</td>\n",
       "      <td>0.800000</td>\n",
       "      <td>0.625000</td>\n",
       "    </tr>\n",
       "    <tr>\n",
       "      <th>1723</th>\n",
       "      <td>25</td>\n",
       "      <td>24</td>\n",
       "      <td>3</td>\n",
       "      <td>15</td>\n",
       "      <td>6</td>\n",
       "      <td>25</td>\n",
       "      <td>14</td>\n",
       "      <td>0.560000</td>\n",
       "      <td>21</td>\n",
       "      <td>0.285714</td>\n",
       "      <td>0.840000</td>\n",
       "    </tr>\n",
       "    <tr>\n",
       "      <th>1810</th>\n",
       "      <td>14</td>\n",
       "      <td>6</td>\n",
       "      <td>0</td>\n",
       "      <td>6</td>\n",
       "      <td>0</td>\n",
       "      <td>8</td>\n",
       "      <td>1</td>\n",
       "      <td>0.125000</td>\n",
       "      <td>6</td>\n",
       "      <td>0.000000</td>\n",
       "      <td>0.428571</td>\n",
       "    </tr>\n",
       "    <tr>\n",
       "      <th>2781</th>\n",
       "      <td>8</td>\n",
       "      <td>8</td>\n",
       "      <td>1</td>\n",
       "      <td>5</td>\n",
       "      <td>1</td>\n",
       "      <td>8</td>\n",
       "      <td>5</td>\n",
       "      <td>0.625000</td>\n",
       "      <td>6</td>\n",
       "      <td>0.166667</td>\n",
       "      <td>0.750000</td>\n",
       "    </tr>\n",
       "    <tr>\n",
       "      <th>2863</th>\n",
       "      <td>6</td>\n",
       "      <td>6</td>\n",
       "      <td>0</td>\n",
       "      <td>6</td>\n",
       "      <td>0</td>\n",
       "      <td>6</td>\n",
       "      <td>4</td>\n",
       "      <td>0.666667</td>\n",
       "      <td>6</td>\n",
       "      <td>0.000000</td>\n",
       "      <td>1.000000</td>\n",
       "    </tr>\n",
       "  </tbody>\n",
       "</table>\n",
       "</div>"
      ],
      "text/plain": [
       "          count  linked  ambiguous  male  female  dcknown  dcyes    PropDC  \\\n",
       "Set user                                                                     \n",
       "AZ  529       8       8          2     1       4        8      3  0.375000   \n",
       "    1723     25      24          3    15       6       25     14  0.560000   \n",
       "    1810     14       6          0     6       0        8      1  0.125000   \n",
       "    2781      8       8          1     5       1        8      5  0.625000   \n",
       "    2863      6       6          0     6       0        6      4  0.666667   \n",
       "\n",
       "          Known  PropFemale  PropKnown  \n",
       "Set user                                \n",
       "AZ  529       5    0.800000   0.625000  \n",
       "    1723     21    0.285714   0.840000  \n",
       "    1810      6    0.000000   0.428571  \n",
       "    2781      6    0.166667   0.750000  \n",
       "    2863      6    0.000000   1.000000  "
      ]
     },
     "execution_count": 7,
     "metadata": {},
     "output_type": "execute_result"
    }
   ],
   "source": [
    "profiles = pd.read_pickle('data/profile-data.pkl')\n",
    "profiles.head()"
   ]
  },
  {
   "cell_type": "code",
   "execution_count": 8,
   "metadata": {
    "papermill": {
     "duration": 0.031991,
     "end_time": "2020-05-12T09:26:11.767633",
     "exception": false,
     "start_time": "2020-05-12T09:26:11.735642",
     "status": "completed"
    },
    "tags": []
   },
   "outputs": [
    {
     "data": {
      "text/plain": [
       "['AZ', 'BX-E', 'BX-I', 'GR-E', 'GR-I']"
      ]
     },
     "execution_count": 8,
     "metadata": {},
     "output_type": "execute_result"
    }
   ],
   "source": [
    "datasets = list(profiles.index.levels[0])\n",
    "datasets"
   ]
  },
  {
   "cell_type": "markdown",
   "metadata": {
    "papermill": {
     "duration": 0.022001,
     "end_time": "2020-05-12T09:26:11.812633",
     "exception": false,
     "start_time": "2020-05-12T09:26:11.790632",
     "status": "completed"
    },
    "tags": []
   },
   "source": [
    "And load the recommendations:"
   ]
  },
  {
   "cell_type": "code",
   "execution_count": 9,
   "metadata": {
    "papermill": {
     "duration": 1.138614,
     "end_time": "2020-05-12T09:26:12.975247",
     "exception": false,
     "start_time": "2020-05-12T09:26:11.836633",
     "status": "completed"
    },
    "tags": []
   },
   "outputs": [
    {
     "data": {
      "text/html": [
       "<div>\n",
       "<style scoped>\n",
       "    .dataframe tbody tr th:only-of-type {\n",
       "        vertical-align: middle;\n",
       "    }\n",
       "\n",
       "    .dataframe tbody tr th {\n",
       "        vertical-align: top;\n",
       "    }\n",
       "\n",
       "    .dataframe thead th {\n",
       "        text-align: right;\n",
       "    }\n",
       "</style>\n",
       "<table border=\"1\" class=\"dataframe\">\n",
       "  <thead>\n",
       "    <tr style=\"text-align: right;\">\n",
       "      <th></th>\n",
       "      <th>Set</th>\n",
       "      <th>Algorithm</th>\n",
       "      <th>item</th>\n",
       "      <th>score</th>\n",
       "      <th>user</th>\n",
       "      <th>rank</th>\n",
       "    </tr>\n",
       "  </thead>\n",
       "  <tbody>\n",
       "    <tr>\n",
       "      <th>0</th>\n",
       "      <td>BX-E</td>\n",
       "      <td>user-user</td>\n",
       "      <td>49809</td>\n",
       "      <td>11.815094</td>\n",
       "      <td>206877</td>\n",
       "      <td>1</td>\n",
       "    </tr>\n",
       "    <tr>\n",
       "      <th>1</th>\n",
       "      <td>BX-E</td>\n",
       "      <td>user-user</td>\n",
       "      <td>481460</td>\n",
       "      <td>11.815094</td>\n",
       "      <td>206877</td>\n",
       "      <td>2</td>\n",
       "    </tr>\n",
       "    <tr>\n",
       "      <th>2</th>\n",
       "      <td>BX-E</td>\n",
       "      <td>user-user</td>\n",
       "      <td>559704</td>\n",
       "      <td>11.815094</td>\n",
       "      <td>206877</td>\n",
       "      <td>3</td>\n",
       "    </tr>\n",
       "    <tr>\n",
       "      <th>3</th>\n",
       "      <td>BX-E</td>\n",
       "      <td>user-user</td>\n",
       "      <td>572967</td>\n",
       "      <td>11.815094</td>\n",
       "      <td>206877</td>\n",
       "      <td>4</td>\n",
       "    </tr>\n",
       "    <tr>\n",
       "      <th>4</th>\n",
       "      <td>BX-E</td>\n",
       "      <td>user-user</td>\n",
       "      <td>2340806</td>\n",
       "      <td>11.815094</td>\n",
       "      <td>206877</td>\n",
       "      <td>5</td>\n",
       "    </tr>\n",
       "  </tbody>\n",
       "</table>\n",
       "</div>"
      ],
      "text/plain": [
       "    Set  Algorithm     item      score    user  rank\n",
       "0  BX-E  user-user    49809  11.815094  206877     1\n",
       "1  BX-E  user-user   481460  11.815094  206877     2\n",
       "2  BX-E  user-user   559704  11.815094  206877     3\n",
       "3  BX-E  user-user   572967  11.815094  206877     4\n",
       "4  BX-E  user-user  2340806  11.815094  206877     5"
      ]
     },
     "execution_count": 9,
     "metadata": {},
     "output_type": "execute_result"
    }
   ],
   "source": [
    "recs = pd.read_parquet('data/study-recs.parquet')\n",
    "recs.rename(columns={'dataset': 'Set', 'algorithm': 'Algorithm'}, inplace=True)\n",
    "recs.head()"
   ]
  },
  {
   "cell_type": "markdown",
   "metadata": {
    "papermill": {
     "duration": 0.023,
     "end_time": "2020-05-12T09:26:13.020247",
     "exception": false,
     "start_time": "2020-05-12T09:26:12.997247",
     "status": "completed"
    },
    "tags": []
   },
   "source": [
    "The original paper truncated recommendation lists to 50. Let's do that too:"
   ]
  },
  {
   "cell_type": "code",
   "execution_count": 10,
   "metadata": {
    "papermill": {
     "duration": 0.262011,
     "end_time": "2020-05-12T09:26:13.305258",
     "exception": false,
     "start_time": "2020-05-12T09:26:13.043247",
     "status": "completed"
    },
    "tags": []
   },
   "outputs": [],
   "source": [
    "recs = recs[recs['rank'] <= 50]"
   ]
  },
  {
   "cell_type": "code",
   "execution_count": 11,
   "metadata": {
    "papermill": {
     "duration": 0.131967,
     "end_time": "2020-05-12T09:26:13.462240",
     "exception": false,
     "start_time": "2020-05-12T09:26:13.330273",
     "status": "completed"
    },
    "tags": []
   },
   "outputs": [
    {
     "data": {
      "text/plain": [
       "array(['BX-E', 'BX-I', 'AZ', 'GR-E', 'GR-I'], dtype=object)"
      ]
     },
     "execution_count": 11,
     "metadata": {},
     "output_type": "execute_result"
    }
   ],
   "source": [
    "recs.Set.unique()"
   ]
  },
  {
   "cell_type": "code",
   "execution_count": 12,
   "metadata": {
    "papermill": {
     "duration": 0.173,
     "end_time": "2020-05-12T09:26:13.657238",
     "exception": false,
     "start_time": "2020-05-12T09:26:13.484238",
     "status": "completed"
    },
    "tags": []
   },
   "outputs": [
    {
     "data": {
      "text/plain": [
       "array(['user-user', 'item-item', 'als', 'wrls', 'bpr', 'user-user-imp',\n",
       "       'item-item-imp', 'wrls-imp', 'bpr-imp'], dtype=object)"
      ]
     },
     "execution_count": 12,
     "metadata": {},
     "output_type": "execute_result"
    }
   ],
   "source": [
    "recs.Algorithm.unique()"
   ]
  },
  {
   "cell_type": "markdown",
   "metadata": {
    "papermill": {
     "duration": 0.029999,
     "end_time": "2020-05-12T09:26:13.716234",
     "exception": false,
     "start_time": "2020-05-12T09:26:13.686235",
     "status": "completed"
    },
    "tags": []
   },
   "source": [
    "We will need to extract implicit/explicit from those.  In the new paper, we are going to separate out implicit and explicit data for presentation; these functions will help with that."
   ]
  },
  {
   "cell_type": "code",
   "execution_count": 13,
   "metadata": {
    "papermill": {
     "duration": 0.036,
     "end_time": "2020-05-12T09:26:13.777234",
     "exception": false,
     "start_time": "2020-05-12T09:26:13.741234",
     "status": "completed"
    },
    "tags": []
   },
   "outputs": [],
   "source": [
    "def select_implicit(data, reset=True):\n",
    "    if reset:\n",
    "        data = data.reset_index()\n",
    "    implicit = data['Algorithm'].str.endswith('-imp') | data['Set'].str.endswith('-I')\n",
    "    data = data[implicit].assign(Set=data['Set'].str.replace('-I', ''),\n",
    "                                 Algorithm=data['Algorithm'].str.replace('-imp', ''))\n",
    "    data['Algorithm'] = data['Algorithm'].str.replace('wrls', 'als')\n",
    "    return data"
   ]
  },
  {
   "cell_type": "code",
   "execution_count": 14,
   "metadata": {
    "papermill": {
     "duration": 0.030999,
     "end_time": "2020-05-12T09:26:13.837233",
     "exception": false,
     "start_time": "2020-05-12T09:26:13.806234",
     "status": "completed"
    },
    "tags": []
   },
   "outputs": [],
   "source": [
    "def select_explicit(data, reset=True):\n",
    "    if reset:\n",
    "        data = data.reset_index()\n",
    "    implicit = data['Algorithm'].str.endswith('-imp') | data['Set'].str.endswith('-I')\n",
    "    data = data[~implicit].assign(Set=data['Set'].str.replace('-E', ''))\n",
    "    return data"
   ]
  },
  {
   "cell_type": "markdown",
   "metadata": {
    "papermill": {
     "duration": 0.024999,
     "end_time": "2020-05-12T09:26:13.885232",
     "exception": false,
     "start_time": "2020-05-12T09:26:13.860233",
     "status": "completed"
    },
    "tags": []
   },
   "source": [
    "And give ourselves a handy way to relable algorithms:"
   ]
  },
  {
   "cell_type": "code",
   "execution_count": 15,
   "metadata": {
    "papermill": {
     "duration": 0.030999,
     "end_time": "2020-05-12T09:26:13.941231",
     "exception": false,
     "start_time": "2020-05-12T09:26:13.910232",
     "status": "completed"
    },
    "tags": []
   },
   "outputs": [],
   "source": [
    "algo_labels = {\n",
    "    'als': 'ALS',\n",
    "    'bpr': 'BPR',\n",
    "    'item-item': 'II',\n",
    "    'user-user': 'UU'\n",
    "}"
   ]
  },
  {
   "cell_type": "markdown",
   "metadata": {
    "papermill": {
     "duration": 0.02502,
     "end_time": "2020-05-12T09:26:13.989251",
     "exception": false,
     "start_time": "2020-05-12T09:26:13.964231",
     "status": "completed"
    },
    "tags": []
   },
   "source": [
    "## Analyze Rec List Composition"
   ]
  },
  {
   "cell_type": "markdown",
   "metadata": {
    "papermill": {
     "duration": 0.025998,
     "end_time": "2020-05-12T09:26:14.040230",
     "exception": false,
     "start_time": "2020-05-12T09:26:14.014232",
     "status": "completed"
    },
    "tags": []
   },
   "source": [
    "In the mean time, let's proceed by computing recommendation list gender data."
   ]
  },
  {
   "cell_type": "code",
   "execution_count": 16,
   "metadata": {
    "papermill": {
     "duration": 1.758015,
     "end_time": "2020-05-12T09:26:15.822258",
     "exception": false,
     "start_time": "2020-05-12T09:26:14.064243",
     "status": "completed"
    },
    "tags": []
   },
   "outputs": [
    {
     "data": {
      "text/plain": [
       "count     4883258\n",
       "unique          4\n",
       "top          male\n",
       "freq      1935586\n",
       "Name: gender, dtype: object"
      ]
     },
     "execution_count": 16,
     "metadata": {},
     "output_type": "execute_result"
    }
   ],
   "source": [
    "recs.drop(columns=['gender'], errors='ignore', inplace=True)\n",
    "recs = recs.join(book_gender, on='item', how='left')\n",
    "recs['gender'] = recs['gender'].fillna('unknown')\n",
    "recs['gender'].describe()"
   ]
  },
  {
   "cell_type": "markdown",
   "metadata": {
    "papermill": {
     "duration": 0.023,
     "end_time": "2020-05-12T09:26:15.868258",
     "exception": false,
     "start_time": "2020-05-12T09:26:15.845258",
     "status": "completed"
    },
    "tags": []
   },
   "source": [
    "And mix in the dummy code data:"
   ]
  },
  {
   "cell_type": "code",
   "execution_count": 17,
   "metadata": {
    "papermill": {
     "duration": 1.888476,
     "end_time": "2020-05-12T09:26:17.779733",
     "exception": false,
     "start_time": "2020-05-12T09:26:15.891257",
     "status": "completed"
    },
    "tags": []
   },
   "outputs": [
    {
     "data": {
      "text/html": [
       "<div>\n",
       "<style scoped>\n",
       "    .dataframe tbody tr th:only-of-type {\n",
       "        vertical-align: middle;\n",
       "    }\n",
       "\n",
       "    .dataframe tbody tr th {\n",
       "        vertical-align: top;\n",
       "    }\n",
       "\n",
       "    .dataframe thead th {\n",
       "        text-align: right;\n",
       "    }\n",
       "</style>\n",
       "<table border=\"1\" class=\"dataframe\">\n",
       "  <thead>\n",
       "    <tr style=\"text-align: right;\">\n",
       "      <th></th>\n",
       "      <th>Set</th>\n",
       "      <th>Algorithm</th>\n",
       "      <th>item</th>\n",
       "      <th>score</th>\n",
       "      <th>user</th>\n",
       "      <th>rank</th>\n",
       "      <th>gender</th>\n",
       "      <th>dcode</th>\n",
       "    </tr>\n",
       "  </thead>\n",
       "  <tbody>\n",
       "    <tr>\n",
       "      <th>0</th>\n",
       "      <td>BX-E</td>\n",
       "      <td>user-user</td>\n",
       "      <td>49809</td>\n",
       "      <td>11.815094</td>\n",
       "      <td>206877</td>\n",
       "      <td>1</td>\n",
       "      <td>female</td>\n",
       "      <td>1.0</td>\n",
       "    </tr>\n",
       "    <tr>\n",
       "      <th>1</th>\n",
       "      <td>BX-E</td>\n",
       "      <td>user-user</td>\n",
       "      <td>481460</td>\n",
       "      <td>11.815094</td>\n",
       "      <td>206877</td>\n",
       "      <td>2</td>\n",
       "      <td>male</td>\n",
       "      <td>0.0</td>\n",
       "    </tr>\n",
       "    <tr>\n",
       "      <th>2</th>\n",
       "      <td>BX-E</td>\n",
       "      <td>user-user</td>\n",
       "      <td>559704</td>\n",
       "      <td>11.815094</td>\n",
       "      <td>206877</td>\n",
       "      <td>3</td>\n",
       "      <td>male</td>\n",
       "      <td>1.0</td>\n",
       "    </tr>\n",
       "    <tr>\n",
       "      <th>3</th>\n",
       "      <td>BX-E</td>\n",
       "      <td>user-user</td>\n",
       "      <td>572967</td>\n",
       "      <td>11.815094</td>\n",
       "      <td>206877</td>\n",
       "      <td>4</td>\n",
       "      <td>male</td>\n",
       "      <td>1.0</td>\n",
       "    </tr>\n",
       "    <tr>\n",
       "      <th>4</th>\n",
       "      <td>BX-E</td>\n",
       "      <td>user-user</td>\n",
       "      <td>2340806</td>\n",
       "      <td>11.815094</td>\n",
       "      <td>206877</td>\n",
       "      <td>5</td>\n",
       "      <td>male</td>\n",
       "      <td>0.0</td>\n",
       "    </tr>\n",
       "  </tbody>\n",
       "</table>\n",
       "</div>"
      ],
      "text/plain": [
       "    Set  Algorithm     item      score    user  rank  gender  dcode\n",
       "0  BX-E  user-user    49809  11.815094  206877     1  female    1.0\n",
       "1  BX-E  user-user   481460  11.815094  206877     2    male    0.0\n",
       "2  BX-E  user-user   559704  11.815094  206877     3    male    1.0\n",
       "3  BX-E  user-user   572967  11.815094  206877     4    male    1.0\n",
       "4  BX-E  user-user  2340806  11.815094  206877     5    male    0.0"
      ]
     },
     "execution_count": 17,
     "metadata": {},
     "output_type": "execute_result"
    }
   ],
   "source": [
    "recs.drop(columns=['dcode'], errors='ignore', inplace=True)\n",
    "recs = recs.join(book_hash['dcode'], on='item', how='left')\n",
    "recs.head()"
   ]
  },
  {
   "cell_type": "markdown",
   "metadata": {
    "papermill": {
     "duration": 0.026005,
     "end_time": "2020-05-12T09:26:17.829738",
     "exception": false,
     "start_time": "2020-05-12T09:26:17.803733",
     "status": "completed"
    },
    "tags": []
   },
   "source": [
    "Count up the statistics for each list by gender:"
   ]
  },
  {
   "cell_type": "code",
   "execution_count": 18,
   "metadata": {
    "papermill": {
     "duration": 1.977042,
     "end_time": "2020-05-12T09:26:19.833774",
     "exception": false,
     "start_time": "2020-05-12T09:26:17.856732",
     "status": "completed"
    },
    "tags": []
   },
   "outputs": [
    {
     "data": {
      "text/html": [
       "<div>\n",
       "<style scoped>\n",
       "    .dataframe tbody tr th:only-of-type {\n",
       "        vertical-align: middle;\n",
       "    }\n",
       "\n",
       "    .dataframe tbody tr th {\n",
       "        vertical-align: top;\n",
       "    }\n",
       "\n",
       "    .dataframe thead th {\n",
       "        text-align: right;\n",
       "    }\n",
       "</style>\n",
       "<table border=\"1\" class=\"dataframe\">\n",
       "  <thead>\n",
       "    <tr style=\"text-align: right;\">\n",
       "      <th></th>\n",
       "      <th></th>\n",
       "      <th>gender</th>\n",
       "      <th>ambiguous</th>\n",
       "      <th>female</th>\n",
       "      <th>male</th>\n",
       "      <th>unknown</th>\n",
       "      <th>Total</th>\n",
       "      <th>Known</th>\n",
       "      <th>PropKnown</th>\n",
       "      <th>PropFemale</th>\n",
       "    </tr>\n",
       "    <tr>\n",
       "      <th>Set</th>\n",
       "      <th>Algorithm</th>\n",
       "      <th>user</th>\n",
       "      <th></th>\n",
       "      <th></th>\n",
       "      <th></th>\n",
       "      <th></th>\n",
       "      <th></th>\n",
       "      <th></th>\n",
       "      <th></th>\n",
       "      <th></th>\n",
       "    </tr>\n",
       "  </thead>\n",
       "  <tbody>\n",
       "    <tr>\n",
       "      <th rowspan=\"5\" valign=\"top\">AZ</th>\n",
       "      <th rowspan=\"5\" valign=\"top\">als</th>\n",
       "      <th>529</th>\n",
       "      <td>2</td>\n",
       "      <td>8</td>\n",
       "      <td>19</td>\n",
       "      <td>21</td>\n",
       "      <td>50</td>\n",
       "      <td>27</td>\n",
       "      <td>0.54</td>\n",
       "      <td>0.296296</td>\n",
       "    </tr>\n",
       "    <tr>\n",
       "      <th>1723</th>\n",
       "      <td>0</td>\n",
       "      <td>12</td>\n",
       "      <td>9</td>\n",
       "      <td>29</td>\n",
       "      <td>50</td>\n",
       "      <td>21</td>\n",
       "      <td>0.42</td>\n",
       "      <td>0.571429</td>\n",
       "    </tr>\n",
       "    <tr>\n",
       "      <th>1810</th>\n",
       "      <td>2</td>\n",
       "      <td>6</td>\n",
       "      <td>9</td>\n",
       "      <td>33</td>\n",
       "      <td>50</td>\n",
       "      <td>15</td>\n",
       "      <td>0.30</td>\n",
       "      <td>0.400000</td>\n",
       "    </tr>\n",
       "    <tr>\n",
       "      <th>2781</th>\n",
       "      <td>1</td>\n",
       "      <td>8</td>\n",
       "      <td>17</td>\n",
       "      <td>24</td>\n",
       "      <td>50</td>\n",
       "      <td>25</td>\n",
       "      <td>0.50</td>\n",
       "      <td>0.320000</td>\n",
       "    </tr>\n",
       "    <tr>\n",
       "      <th>2863</th>\n",
       "      <td>2</td>\n",
       "      <td>4</td>\n",
       "      <td>25</td>\n",
       "      <td>19</td>\n",
       "      <td>50</td>\n",
       "      <td>29</td>\n",
       "      <td>0.58</td>\n",
       "      <td>0.137931</td>\n",
       "    </tr>\n",
       "    <tr>\n",
       "      <th>...</th>\n",
       "      <th>...</th>\n",
       "      <th>...</th>\n",
       "      <td>...</td>\n",
       "      <td>...</td>\n",
       "      <td>...</td>\n",
       "      <td>...</td>\n",
       "      <td>...</td>\n",
       "      <td>...</td>\n",
       "      <td>...</td>\n",
       "      <td>...</td>\n",
       "    </tr>\n",
       "    <tr>\n",
       "      <th rowspan=\"5\" valign=\"top\">GR-I</th>\n",
       "      <th rowspan=\"5\" valign=\"top\">wrls</th>\n",
       "      <th>874933</th>\n",
       "      <td>4</td>\n",
       "      <td>32</td>\n",
       "      <td>14</td>\n",
       "      <td>0</td>\n",
       "      <td>50</td>\n",
       "      <td>46</td>\n",
       "      <td>0.92</td>\n",
       "      <td>0.695652</td>\n",
       "    </tr>\n",
       "    <tr>\n",
       "      <th>875157</th>\n",
       "      <td>8</td>\n",
       "      <td>5</td>\n",
       "      <td>34</td>\n",
       "      <td>3</td>\n",
       "      <td>50</td>\n",
       "      <td>39</td>\n",
       "      <td>0.78</td>\n",
       "      <td>0.128205</td>\n",
       "    </tr>\n",
       "    <tr>\n",
       "      <th>875408</th>\n",
       "      <td>14</td>\n",
       "      <td>7</td>\n",
       "      <td>29</td>\n",
       "      <td>0</td>\n",
       "      <td>50</td>\n",
       "      <td>36</td>\n",
       "      <td>0.72</td>\n",
       "      <td>0.194444</td>\n",
       "    </tr>\n",
       "    <tr>\n",
       "      <th>875441</th>\n",
       "      <td>3</td>\n",
       "      <td>40</td>\n",
       "      <td>7</td>\n",
       "      <td>0</td>\n",
       "      <td>50</td>\n",
       "      <td>47</td>\n",
       "      <td>0.94</td>\n",
       "      <td>0.851064</td>\n",
       "    </tr>\n",
       "    <tr>\n",
       "      <th>875516</th>\n",
       "      <td>25</td>\n",
       "      <td>1</td>\n",
       "      <td>24</td>\n",
       "      <td>0</td>\n",
       "      <td>50</td>\n",
       "      <td>25</td>\n",
       "      <td>0.50</td>\n",
       "      <td>0.040000</td>\n",
       "    </tr>\n",
       "  </tbody>\n",
       "</table>\n",
       "<p>99146 rows × 8 columns</p>\n",
       "</div>"
      ],
      "text/plain": [
       "gender                 ambiguous  female  male  unknown  Total  Known  \\\n",
       "Set  Algorithm user                                                     \n",
       "AZ   als       529             2       8    19       21     50     27   \n",
       "               1723            0      12     9       29     50     21   \n",
       "               1810            2       6     9       33     50     15   \n",
       "               2781            1       8    17       24     50     25   \n",
       "               2863            2       4    25       19     50     29   \n",
       "...                          ...     ...   ...      ...    ...    ...   \n",
       "GR-I wrls      874933          4      32    14        0     50     46   \n",
       "               875157          8       5    34        3     50     39   \n",
       "               875408         14       7    29        0     50     36   \n",
       "               875441          3      40     7        0     50     47   \n",
       "               875516         25       1    24        0     50     25   \n",
       "\n",
       "gender                 PropKnown  PropFemale  \n",
       "Set  Algorithm user                           \n",
       "AZ   als       529          0.54    0.296296  \n",
       "               1723         0.42    0.571429  \n",
       "               1810         0.30    0.400000  \n",
       "               2781         0.50    0.320000  \n",
       "               2863         0.58    0.137931  \n",
       "...                          ...         ...  \n",
       "GR-I wrls      874933       0.92    0.695652  \n",
       "               875157       0.78    0.128205  \n",
       "               875408       0.72    0.194444  \n",
       "               875441       0.94    0.851064  \n",
       "               875516       0.50    0.040000  \n",
       "\n",
       "[99146 rows x 8 columns]"
      ]
     },
     "execution_count": 18,
     "metadata": {},
     "output_type": "execute_result"
    }
   ],
   "source": [
    "rec_stats = recs.groupby(['Set', 'Algorithm', 'user'])['gender'].value_counts().unstack(fill_value=0)\n",
    "rec_stats.columns = rec_stats.columns.astype('object')\n",
    "rec_stats['Total'] = rec_stats.sum(axis=1)\n",
    "rec_stats['Known'] = rec_stats['male'].fillna(0) + rec_stats['female'].fillna(0)\n",
    "rec_stats['PropKnown'] = rec_stats['Known'] / rec_stats['Total']\n",
    "rec_stats['PropFemale'] = rec_stats['female'] / rec_stats['Known']\n",
    "rec_stats"
   ]
  },
  {
   "cell_type": "code",
   "execution_count": 19,
   "metadata": {
    "papermill": {
     "duration": 0.044,
     "end_time": "2020-05-12T09:26:19.901773",
     "exception": false,
     "start_time": "2020-05-12T09:26:19.857773",
     "status": "completed"
    },
    "tags": []
   },
   "outputs": [
    {
     "name": "stdout",
     "output_type": "stream",
     "text": [
      "<class 'pandas.core.frame.DataFrame'>\n",
      "MultiIndex: 99146 entries, ('AZ', 'als', 529) to ('GR-I', 'wrls', 875516)\n",
      "Data columns (total 8 columns):\n",
      " #   Column      Non-Null Count  Dtype  \n",
      "---  ------      --------------  -----  \n",
      " 0   ambiguous   99146 non-null  int64  \n",
      " 1   female      99146 non-null  int64  \n",
      " 2   male        99146 non-null  int64  \n",
      " 3   unknown     99146 non-null  int64  \n",
      " 4   Total       99146 non-null  int64  \n",
      " 5   Known       99146 non-null  int64  \n",
      " 6   PropKnown   99146 non-null  float64\n",
      " 7   PropFemale  98926 non-null  float64\n",
      "dtypes: float64(2), int64(6)\n",
      "memory usage: 6.6+ MB\n"
     ]
    }
   ],
   "source": [
    "rec_stats.info()"
   ]
  },
  {
   "cell_type": "markdown",
   "metadata": {
    "papermill": {
     "duration": 0.022999,
     "end_time": "2020-05-12T09:26:19.948771",
     "exception": false,
     "start_time": "2020-05-12T09:26:19.925772",
     "status": "completed"
    },
    "tags": []
   },
   "source": [
    "Mix in info from dummy codes:"
   ]
  },
  {
   "cell_type": "code",
   "execution_count": 20,
   "metadata": {
    "papermill": {
     "duration": 0.904025,
     "end_time": "2020-05-12T09:26:20.880796",
     "exception": false,
     "start_time": "2020-05-12T09:26:19.976771",
     "status": "completed"
    },
    "tags": []
   },
   "outputs": [
    {
     "data": {
      "text/html": [
       "<div>\n",
       "<style scoped>\n",
       "    .dataframe tbody tr th:only-of-type {\n",
       "        vertical-align: middle;\n",
       "    }\n",
       "\n",
       "    .dataframe tbody tr th {\n",
       "        vertical-align: top;\n",
       "    }\n",
       "\n",
       "    .dataframe thead th {\n",
       "        text-align: right;\n",
       "    }\n",
       "</style>\n",
       "<table border=\"1\" class=\"dataframe\">\n",
       "  <thead>\n",
       "    <tr style=\"text-align: right;\">\n",
       "      <th></th>\n",
       "      <th></th>\n",
       "      <th></th>\n",
       "      <th>dcknown</th>\n",
       "      <th>dcyes</th>\n",
       "      <th>PropDC</th>\n",
       "    </tr>\n",
       "    <tr>\n",
       "      <th>Set</th>\n",
       "      <th>Algorithm</th>\n",
       "      <th>user</th>\n",
       "      <th></th>\n",
       "      <th></th>\n",
       "      <th></th>\n",
       "    </tr>\n",
       "  </thead>\n",
       "  <tbody>\n",
       "    <tr>\n",
       "      <th rowspan=\"5\" valign=\"top\">AZ</th>\n",
       "      <th rowspan=\"5\" valign=\"top\">als</th>\n",
       "      <th>529</th>\n",
       "      <td>44</td>\n",
       "      <td>23</td>\n",
       "      <td>0.522727</td>\n",
       "    </tr>\n",
       "    <tr>\n",
       "      <th>1723</th>\n",
       "      <td>39</td>\n",
       "      <td>17</td>\n",
       "      <td>0.435897</td>\n",
       "    </tr>\n",
       "    <tr>\n",
       "      <th>1810</th>\n",
       "      <td>31</td>\n",
       "      <td>16</td>\n",
       "      <td>0.516129</td>\n",
       "    </tr>\n",
       "    <tr>\n",
       "      <th>2781</th>\n",
       "      <td>35</td>\n",
       "      <td>17</td>\n",
       "      <td>0.485714</td>\n",
       "    </tr>\n",
       "    <tr>\n",
       "      <th>2863</th>\n",
       "      <td>37</td>\n",
       "      <td>20</td>\n",
       "      <td>0.540541</td>\n",
       "    </tr>\n",
       "  </tbody>\n",
       "</table>\n",
       "</div>"
      ],
      "text/plain": [
       "                    dcknown  dcyes    PropDC\n",
       "Set Algorithm user                          \n",
       "AZ  als       529        44     23  0.522727\n",
       "              1723       39     17  0.435897\n",
       "              1810       31     16  0.516129\n",
       "              2781       35     17  0.485714\n",
       "              2863       37     20  0.540541"
      ]
     },
     "execution_count": 20,
     "metadata": {},
     "output_type": "execute_result"
    }
   ],
   "source": [
    "rec_dc_stats = recs.groupby(['Set', 'Algorithm', 'user'])['dcode'].agg(['count', 'sum', 'mean'])\n",
    "rec_dc_stats.rename(columns={'count': 'dcknown', 'sum': 'dcyes', 'mean': 'PropDC'}, inplace=True)\n",
    "rec_dc_stats['dcyes'] = rec_dc_stats['dcyes'].astype('i4')\n",
    "rec_dc_stats.head()"
   ]
  },
  {
   "cell_type": "code",
   "execution_count": 21,
   "metadata": {
    "papermill": {
     "duration": 0.058028,
     "end_time": "2020-05-12T09:26:20.963796",
     "exception": false,
     "start_time": "2020-05-12T09:26:20.905768",
     "status": "completed"
    },
    "tags": []
   },
   "outputs": [
    {
     "data": {
      "text/html": [
       "<div>\n",
       "<style scoped>\n",
       "    .dataframe tbody tr th:only-of-type {\n",
       "        vertical-align: middle;\n",
       "    }\n",
       "\n",
       "    .dataframe tbody tr th {\n",
       "        vertical-align: top;\n",
       "    }\n",
       "\n",
       "    .dataframe thead th {\n",
       "        text-align: right;\n",
       "    }\n",
       "</style>\n",
       "<table border=\"1\" class=\"dataframe\">\n",
       "  <thead>\n",
       "    <tr style=\"text-align: right;\">\n",
       "      <th></th>\n",
       "      <th></th>\n",
       "      <th></th>\n",
       "      <th>ambiguous</th>\n",
       "      <th>female</th>\n",
       "      <th>male</th>\n",
       "      <th>unknown</th>\n",
       "      <th>Total</th>\n",
       "      <th>Known</th>\n",
       "      <th>PropKnown</th>\n",
       "      <th>PropFemale</th>\n",
       "      <th>dcknown</th>\n",
       "      <th>dcyes</th>\n",
       "      <th>PropDC</th>\n",
       "    </tr>\n",
       "    <tr>\n",
       "      <th>Set</th>\n",
       "      <th>Algorithm</th>\n",
       "      <th>user</th>\n",
       "      <th></th>\n",
       "      <th></th>\n",
       "      <th></th>\n",
       "      <th></th>\n",
       "      <th></th>\n",
       "      <th></th>\n",
       "      <th></th>\n",
       "      <th></th>\n",
       "      <th></th>\n",
       "      <th></th>\n",
       "      <th></th>\n",
       "    </tr>\n",
       "  </thead>\n",
       "  <tbody>\n",
       "    <tr>\n",
       "      <th rowspan=\"5\" valign=\"top\">AZ</th>\n",
       "      <th rowspan=\"5\" valign=\"top\">als</th>\n",
       "      <th>529</th>\n",
       "      <td>2</td>\n",
       "      <td>8</td>\n",
       "      <td>19</td>\n",
       "      <td>21</td>\n",
       "      <td>50</td>\n",
       "      <td>27</td>\n",
       "      <td>0.54</td>\n",
       "      <td>0.296296</td>\n",
       "      <td>44</td>\n",
       "      <td>23</td>\n",
       "      <td>0.522727</td>\n",
       "    </tr>\n",
       "    <tr>\n",
       "      <th>1723</th>\n",
       "      <td>0</td>\n",
       "      <td>12</td>\n",
       "      <td>9</td>\n",
       "      <td>29</td>\n",
       "      <td>50</td>\n",
       "      <td>21</td>\n",
       "      <td>0.42</td>\n",
       "      <td>0.571429</td>\n",
       "      <td>39</td>\n",
       "      <td>17</td>\n",
       "      <td>0.435897</td>\n",
       "    </tr>\n",
       "    <tr>\n",
       "      <th>1810</th>\n",
       "      <td>2</td>\n",
       "      <td>6</td>\n",
       "      <td>9</td>\n",
       "      <td>33</td>\n",
       "      <td>50</td>\n",
       "      <td>15</td>\n",
       "      <td>0.30</td>\n",
       "      <td>0.400000</td>\n",
       "      <td>31</td>\n",
       "      <td>16</td>\n",
       "      <td>0.516129</td>\n",
       "    </tr>\n",
       "    <tr>\n",
       "      <th>2781</th>\n",
       "      <td>1</td>\n",
       "      <td>8</td>\n",
       "      <td>17</td>\n",
       "      <td>24</td>\n",
       "      <td>50</td>\n",
       "      <td>25</td>\n",
       "      <td>0.50</td>\n",
       "      <td>0.320000</td>\n",
       "      <td>35</td>\n",
       "      <td>17</td>\n",
       "      <td>0.485714</td>\n",
       "    </tr>\n",
       "    <tr>\n",
       "      <th>2863</th>\n",
       "      <td>2</td>\n",
       "      <td>4</td>\n",
       "      <td>25</td>\n",
       "      <td>19</td>\n",
       "      <td>50</td>\n",
       "      <td>29</td>\n",
       "      <td>0.58</td>\n",
       "      <td>0.137931</td>\n",
       "      <td>37</td>\n",
       "      <td>20</td>\n",
       "      <td>0.540541</td>\n",
       "    </tr>\n",
       "  </tbody>\n",
       "</table>\n",
       "</div>"
      ],
      "text/plain": [
       "                    ambiguous  female  male  unknown  Total  Known  PropKnown  \\\n",
       "Set Algorithm user                                                              \n",
       "AZ  als       529           2       8    19       21     50     27       0.54   \n",
       "              1723          0      12     9       29     50     21       0.42   \n",
       "              1810          2       6     9       33     50     15       0.30   \n",
       "              2781          1       8    17       24     50     25       0.50   \n",
       "              2863          2       4    25       19     50     29       0.58   \n",
       "\n",
       "                    PropFemale  dcknown  dcyes    PropDC  \n",
       "Set Algorithm user                                        \n",
       "AZ  als       529     0.296296       44     23  0.522727  \n",
       "              1723    0.571429       39     17  0.435897  \n",
       "              1810    0.400000       31     16  0.516129  \n",
       "              2781    0.320000       35     17  0.485714  \n",
       "              2863    0.137931       37     20  0.540541  "
      ]
     },
     "execution_count": 21,
     "metadata": {},
     "output_type": "execute_result"
    }
   ],
   "source": [
    "rec_stats = rec_stats.join(rec_dc_stats)\n",
    "rec_stats.head()"
   ]
  },
  {
   "cell_type": "markdown",
   "metadata": {
    "papermill": {
     "duration": 0.023032,
     "end_time": "2020-05-12T09:26:21.010798",
     "exception": false,
     "start_time": "2020-05-12T09:26:20.987766",
     "status": "completed"
    },
    "tags": []
   },
   "source": [
    "Quick status-check on the number of recommendation lists per algorithm, implicit feedback:"
   ]
  },
  {
   "cell_type": "code",
   "execution_count": 22,
   "metadata": {
    "papermill": {
     "duration": 0.246575,
     "end_time": "2020-05-12T09:26:21.281303",
     "exception": false,
     "start_time": "2020-05-12T09:26:21.034728",
     "status": "completed"
    },
    "tags": []
   },
   "outputs": [
    {
     "data": {
      "text/html": [
       "<div>\n",
       "<style scoped>\n",
       "    .dataframe tbody tr th:only-of-type {\n",
       "        vertical-align: middle;\n",
       "    }\n",
       "\n",
       "    .dataframe tbody tr th {\n",
       "        vertical-align: top;\n",
       "    }\n",
       "\n",
       "    .dataframe thead th {\n",
       "        text-align: right;\n",
       "    }\n",
       "</style>\n",
       "<table border=\"1\" class=\"dataframe\">\n",
       "  <thead>\n",
       "    <tr style=\"text-align: right;\">\n",
       "      <th>Algorithm</th>\n",
       "      <th>als</th>\n",
       "      <th>bpr</th>\n",
       "      <th>item-item</th>\n",
       "      <th>user-user</th>\n",
       "    </tr>\n",
       "    <tr>\n",
       "      <th>Set</th>\n",
       "      <th></th>\n",
       "      <th></th>\n",
       "      <th></th>\n",
       "      <th></th>\n",
       "    </tr>\n",
       "  </thead>\n",
       "  <tbody>\n",
       "    <tr>\n",
       "      <th>AZ</th>\n",
       "      <td>5000</td>\n",
       "      <td>5000</td>\n",
       "      <td>5000</td>\n",
       "      <td>5000</td>\n",
       "    </tr>\n",
       "    <tr>\n",
       "      <th>BX</th>\n",
       "      <td>5000</td>\n",
       "      <td>5000</td>\n",
       "      <td>4994</td>\n",
       "      <td>4987</td>\n",
       "    </tr>\n",
       "    <tr>\n",
       "      <th>GR</th>\n",
       "      <td>5000</td>\n",
       "      <td>5000</td>\n",
       "      <td>5000</td>\n",
       "      <td>4994</td>\n",
       "    </tr>\n",
       "  </tbody>\n",
       "</table>\n",
       "</div>"
      ],
      "text/plain": [
       "Algorithm   als   bpr  item-item  user-user\n",
       "Set                                        \n",
       "AZ         5000  5000       5000       5000\n",
       "BX         5000  5000       4994       4987\n",
       "GR         5000  5000       5000       4994"
      ]
     },
     "execution_count": 22,
     "metadata": {},
     "output_type": "execute_result"
    }
   ],
   "source": [
    "select_implicit(rec_stats).groupby(['Set', 'Algorithm'])['Total'].count().unstack()"
   ]
  },
  {
   "cell_type": "markdown",
   "metadata": {
    "papermill": {
     "duration": 0.026019,
     "end_time": "2020-05-12T09:26:21.334300",
     "exception": false,
     "start_time": "2020-05-12T09:26:21.308281",
     "status": "completed"
    },
    "tags": []
   },
   "source": [
    "Explicit feedback:"
   ]
  },
  {
   "cell_type": "code",
   "execution_count": 23,
   "metadata": {
    "papermill": {
     "duration": 0.150028,
     "end_time": "2020-05-12T09:26:21.510296",
     "exception": false,
     "start_time": "2020-05-12T09:26:21.360268",
     "status": "completed"
    },
    "tags": []
   },
   "outputs": [
    {
     "data": {
      "text/html": [
       "<div>\n",
       "<style scoped>\n",
       "    .dataframe tbody tr th:only-of-type {\n",
       "        vertical-align: middle;\n",
       "    }\n",
       "\n",
       "    .dataframe tbody tr th {\n",
       "        vertical-align: top;\n",
       "    }\n",
       "\n",
       "    .dataframe thead th {\n",
       "        text-align: right;\n",
       "    }\n",
       "</style>\n",
       "<table border=\"1\" class=\"dataframe\">\n",
       "  <thead>\n",
       "    <tr style=\"text-align: right;\">\n",
       "      <th>Algorithm</th>\n",
       "      <th>als</th>\n",
       "      <th>item-item</th>\n",
       "      <th>user-user</th>\n",
       "    </tr>\n",
       "    <tr>\n",
       "      <th>Set</th>\n",
       "      <th></th>\n",
       "      <th></th>\n",
       "      <th></th>\n",
       "    </tr>\n",
       "  </thead>\n",
       "  <tbody>\n",
       "    <tr>\n",
       "      <th>AZ</th>\n",
       "      <td>5000.0</td>\n",
       "      <td>4986.0</td>\n",
       "      <td>4503.0</td>\n",
       "    </tr>\n",
       "    <tr>\n",
       "      <th>BX</th>\n",
       "      <td>5000.0</td>\n",
       "      <td>4988.0</td>\n",
       "      <td>4818.0</td>\n",
       "    </tr>\n",
       "    <tr>\n",
       "      <th>GR</th>\n",
       "      <td>NaN</td>\n",
       "      <td>5000.0</td>\n",
       "      <td>4876.0</td>\n",
       "    </tr>\n",
       "  </tbody>\n",
       "</table>\n",
       "</div>"
      ],
      "text/plain": [
       "Algorithm     als  item-item  user-user\n",
       "Set                                    \n",
       "AZ         5000.0     4986.0     4503.0\n",
       "BX         5000.0     4988.0     4818.0\n",
       "GR            NaN     5000.0     4876.0"
      ]
     },
     "execution_count": 23,
     "metadata": {},
     "output_type": "execute_result"
    }
   ],
   "source": [
    "select_explicit(rec_stats).groupby(['Set', 'Algorithm'])['Total'].count().unstack()"
   ]
  },
  {
   "cell_type": "markdown",
   "metadata": {
    "papermill": {
     "duration": 0.025032,
     "end_time": "2020-05-12T09:26:21.561296",
     "exception": false,
     "start_time": "2020-05-12T09:26:21.536264",
     "status": "completed"
    },
    "tags": []
   },
   "source": [
    "## Non-personalized Recommendations\n",
    "\n",
    "We also want to compute the makeup of non-personalized recommendations, to get a baseline level for each algorithm."
   ]
  },
  {
   "cell_type": "code",
   "execution_count": 24,
   "metadata": {
    "papermill": {
     "duration": 5.648164,
     "end_time": "2020-05-12T09:26:27.235433",
     "exception": false,
     "start_time": "2020-05-12T09:26:21.587269",
     "status": "completed"
    },
    "tags": []
   },
   "outputs": [],
   "source": [
    "az_ratings = pd.read_parquet('data/AZ/ratings.parquet')\n",
    "bxi_ratings = pd.read_parquet('data/BX-I/ratings.parquet')\n",
    "bxe_ratings = pd.read_parquet('data/BX-E/ratings.parquet')\n",
    "gre_ratings = pd.read_parquet('data/GR-E/ratings.parquet')\n",
    "gri_ratings = pd.read_parquet('data/GR-I/ratings.parquet')"
   ]
  },
  {
   "cell_type": "markdown",
   "metadata": {
    "papermill": {
     "duration": 0.024997,
     "end_time": "2020-05-12T09:26:27.285449",
     "exception": false,
     "start_time": "2020-05-12T09:26:27.260452",
     "status": "completed"
    },
    "tags": []
   },
   "source": [
    "### Popularity"
   ]
  },
  {
   "cell_type": "code",
   "execution_count": 25,
   "metadata": {
    "papermill": {
     "duration": 13.565638,
     "end_time": "2020-05-12T09:26:40.879087",
     "exception": false,
     "start_time": "2020-05-12T09:26:27.313449",
     "status": "completed"
    },
    "tags": []
   },
   "outputs": [
    {
     "data": {
      "text/html": [
       "<div>\n",
       "<style scoped>\n",
       "    .dataframe tbody tr th:only-of-type {\n",
       "        vertical-align: middle;\n",
       "    }\n",
       "\n",
       "    .dataframe tbody tr th {\n",
       "        vertical-align: top;\n",
       "    }\n",
       "\n",
       "    .dataframe thead th {\n",
       "        text-align: right;\n",
       "    }\n",
       "</style>\n",
       "<table border=\"1\" class=\"dataframe\">\n",
       "  <thead>\n",
       "    <tr style=\"text-align: right;\">\n",
       "      <th></th>\n",
       "      <th>Set</th>\n",
       "      <th>item</th>\n",
       "      <th>count</th>\n",
       "    </tr>\n",
       "  </thead>\n",
       "  <tbody>\n",
       "    <tr>\n",
       "      <th>0</th>\n",
       "      <td>AZ</td>\n",
       "      <td>785</td>\n",
       "      <td>21575</td>\n",
       "    </tr>\n",
       "    <tr>\n",
       "      <th>1</th>\n",
       "      <td>AZ</td>\n",
       "      <td>8022</td>\n",
       "      <td>19922</td>\n",
       "    </tr>\n",
       "    <tr>\n",
       "      <th>2</th>\n",
       "      <td>AZ</td>\n",
       "      <td>1264</td>\n",
       "      <td>18640</td>\n",
       "    </tr>\n",
       "    <tr>\n",
       "      <th>3</th>\n",
       "      <td>AZ</td>\n",
       "      <td>27660</td>\n",
       "      <td>15105</td>\n",
       "    </tr>\n",
       "    <tr>\n",
       "      <th>4</th>\n",
       "      <td>AZ</td>\n",
       "      <td>5668</td>\n",
       "      <td>13905</td>\n",
       "    </tr>\n",
       "  </tbody>\n",
       "</table>\n",
       "</div>"
      ],
      "text/plain": [
       "  Set   item  count\n",
       "0  AZ    785  21575\n",
       "1  AZ   8022  19922\n",
       "2  AZ   1264  18640\n",
       "3  AZ  27660  15105\n",
       "4  AZ   5668  13905"
      ]
     },
     "execution_count": 25,
     "metadata": {},
     "output_type": "execute_result"
    }
   ],
   "source": [
    "istats = pd.concat({\n",
    "    'AZ': az_ratings.groupby('item')['user'].count().nlargest(50),\n",
    "    'BX-I': bxi_ratings.groupby('item')['user'].count().nlargest(50),\n",
    "    'BX-E': bxe_ratings.groupby('item')['user'].count().nlargest(50),\n",
    "    'GR-I': gri_ratings.groupby('item')['user'].count().nlargest(50),\n",
    "    'GR-E': gre_ratings.groupby('item')['user'].count().nlargest(50)\n",
    "}, names=['Set'])\n",
    "istats = istats.reset_index(name='count')\n",
    "istats.head()"
   ]
  },
  {
   "cell_type": "code",
   "execution_count": 26,
   "metadata": {
    "papermill": {
     "duration": 0.900653,
     "end_time": "2020-05-12T09:26:41.805739",
     "exception": false,
     "start_time": "2020-05-12T09:26:40.905086",
     "status": "completed"
    },
    "tags": []
   },
   "outputs": [
    {
     "data": {
      "text/html": [
       "<div>\n",
       "<style scoped>\n",
       "    .dataframe tbody tr th:only-of-type {\n",
       "        vertical-align: middle;\n",
       "    }\n",
       "\n",
       "    .dataframe tbody tr th {\n",
       "        vertical-align: top;\n",
       "    }\n",
       "\n",
       "    .dataframe thead th {\n",
       "        text-align: right;\n",
       "    }\n",
       "</style>\n",
       "<table border=\"1\" class=\"dataframe\">\n",
       "  <thead>\n",
       "    <tr style=\"text-align: right;\">\n",
       "      <th></th>\n",
       "      <th>Set</th>\n",
       "      <th>item</th>\n",
       "      <th>count</th>\n",
       "      <th>gender</th>\n",
       "    </tr>\n",
       "  </thead>\n",
       "  <tbody>\n",
       "    <tr>\n",
       "      <th>0</th>\n",
       "      <td>AZ</td>\n",
       "      <td>785</td>\n",
       "      <td>21575</td>\n",
       "      <td>female</td>\n",
       "    </tr>\n",
       "    <tr>\n",
       "      <th>1</th>\n",
       "      <td>AZ</td>\n",
       "      <td>8022</td>\n",
       "      <td>19922</td>\n",
       "      <td>female</td>\n",
       "    </tr>\n",
       "    <tr>\n",
       "      <th>2</th>\n",
       "      <td>AZ</td>\n",
       "      <td>1264</td>\n",
       "      <td>18640</td>\n",
       "      <td>ambiguous</td>\n",
       "    </tr>\n",
       "    <tr>\n",
       "      <th>3</th>\n",
       "      <td>AZ</td>\n",
       "      <td>27660</td>\n",
       "      <td>15105</td>\n",
       "      <td>ambiguous</td>\n",
       "    </tr>\n",
       "    <tr>\n",
       "      <th>4</th>\n",
       "      <td>AZ</td>\n",
       "      <td>5668</td>\n",
       "      <td>13905</td>\n",
       "      <td>male</td>\n",
       "    </tr>\n",
       "  </tbody>\n",
       "</table>\n",
       "</div>"
      ],
      "text/plain": [
       "  Set   item  count     gender\n",
       "0  AZ    785  21575     female\n",
       "1  AZ   8022  19922     female\n",
       "2  AZ   1264  18640  ambiguous\n",
       "3  AZ  27660  15105  ambiguous\n",
       "4  AZ   5668  13905       male"
      ]
     },
     "execution_count": 26,
     "metadata": {},
     "output_type": "execute_result"
    }
   ],
   "source": [
    "irecs = istats.join(book_gender, on='item', how='left')\n",
    "irecs['gender'] = irecs['gender'].fillna('unknown')\n",
    "irecs.head()"
   ]
  },
  {
   "cell_type": "code",
   "execution_count": 27,
   "metadata": {
    "papermill": {
     "duration": 0.046008,
     "end_time": "2020-05-12T09:26:41.876776",
     "exception": false,
     "start_time": "2020-05-12T09:26:41.830768",
     "status": "completed"
    },
    "tags": []
   },
   "outputs": [
    {
     "data": {
      "text/html": [
       "<div>\n",
       "<style scoped>\n",
       "    .dataframe tbody tr th:only-of-type {\n",
       "        vertical-align: middle;\n",
       "    }\n",
       "\n",
       "    .dataframe tbody tr th {\n",
       "        vertical-align: top;\n",
       "    }\n",
       "\n",
       "    .dataframe thead th {\n",
       "        text-align: right;\n",
       "    }\n",
       "</style>\n",
       "<table border=\"1\" class=\"dataframe\">\n",
       "  <thead>\n",
       "    <tr style=\"text-align: right;\">\n",
       "      <th>gender</th>\n",
       "      <th>ambiguous</th>\n",
       "      <th>female</th>\n",
       "      <th>male</th>\n",
       "      <th>unknown</th>\n",
       "      <th>Total</th>\n",
       "      <th>Known</th>\n",
       "      <th>PropKnown</th>\n",
       "      <th>PropFemale</th>\n",
       "    </tr>\n",
       "    <tr>\n",
       "      <th>Set</th>\n",
       "      <th></th>\n",
       "      <th></th>\n",
       "      <th></th>\n",
       "      <th></th>\n",
       "      <th></th>\n",
       "      <th></th>\n",
       "      <th></th>\n",
       "      <th></th>\n",
       "    </tr>\n",
       "  </thead>\n",
       "  <tbody>\n",
       "    <tr>\n",
       "      <th>AZ</th>\n",
       "      <td>8</td>\n",
       "      <td>17</td>\n",
       "      <td>19</td>\n",
       "      <td>6</td>\n",
       "      <td>50</td>\n",
       "      <td>36</td>\n",
       "      <td>0.72</td>\n",
       "      <td>0.472222</td>\n",
       "    </tr>\n",
       "    <tr>\n",
       "      <th>BX-E</th>\n",
       "      <td>8</td>\n",
       "      <td>20</td>\n",
       "      <td>22</td>\n",
       "      <td>0</td>\n",
       "      <td>50</td>\n",
       "      <td>42</td>\n",
       "      <td>0.84</td>\n",
       "      <td>0.476190</td>\n",
       "    </tr>\n",
       "    <tr>\n",
       "      <th>BX-I</th>\n",
       "      <td>8</td>\n",
       "      <td>17</td>\n",
       "      <td>25</td>\n",
       "      <td>0</td>\n",
       "      <td>50</td>\n",
       "      <td>42</td>\n",
       "      <td>0.84</td>\n",
       "      <td>0.404762</td>\n",
       "    </tr>\n",
       "    <tr>\n",
       "      <th>GR-E</th>\n",
       "      <td>18</td>\n",
       "      <td>13</td>\n",
       "      <td>19</td>\n",
       "      <td>0</td>\n",
       "      <td>50</td>\n",
       "      <td>32</td>\n",
       "      <td>0.64</td>\n",
       "      <td>0.406250</td>\n",
       "    </tr>\n",
       "    <tr>\n",
       "      <th>GR-I</th>\n",
       "      <td>17</td>\n",
       "      <td>14</td>\n",
       "      <td>19</td>\n",
       "      <td>0</td>\n",
       "      <td>50</td>\n",
       "      <td>33</td>\n",
       "      <td>0.66</td>\n",
       "      <td>0.424242</td>\n",
       "    </tr>\n",
       "  </tbody>\n",
       "</table>\n",
       "</div>"
      ],
      "text/plain": [
       "gender  ambiguous  female  male  unknown  Total  Known  PropKnown  PropFemale\n",
       "Set                                                                          \n",
       "AZ              8      17    19        6     50     36       0.72    0.472222\n",
       "BX-E            8      20    22        0     50     42       0.84    0.476190\n",
       "BX-I            8      17    25        0     50     42       0.84    0.404762\n",
       "GR-E           18      13    19        0     50     32       0.64    0.406250\n",
       "GR-I           17      14    19        0     50     33       0.66    0.424242"
      ]
     },
     "execution_count": 27,
     "metadata": {},
     "output_type": "execute_result"
    }
   ],
   "source": [
    "pop_gender = irecs.groupby(['Set', 'gender']).item.count().unstack().fillna(0).astype('i4')\n",
    "pop_gender.columns = pop_gender.columns.astype('object')\n",
    "pop_gender['Total'] = pop_gender.sum(axis=1)\n",
    "pop_gender['Known'] = pop_gender['male'] + pop_gender['female']\n",
    "pop_gender['PropKnown'] = pop_gender['Known'] / pop_gender['Total']\n",
    "pop_gender['PropFemale'] = pop_gender['female'] / pop_gender['Known']\n",
    "pop_gender"
   ]
  },
  {
   "cell_type": "markdown",
   "metadata": {
    "papermill": {
     "duration": 0.027025,
     "end_time": "2020-05-12T09:26:41.928773",
     "exception": false,
     "start_time": "2020-05-12T09:26:41.901748",
     "status": "completed"
    },
    "tags": []
   },
   "source": [
    "### Highest Average Rating"
   ]
  },
  {
   "cell_type": "code",
   "execution_count": 28,
   "metadata": {
    "papermill": {
     "duration": 7.001446,
     "end_time": "2020-05-12T09:26:48.955182",
     "exception": false,
     "start_time": "2020-05-12T09:26:41.953736",
     "status": "completed"
    },
    "tags": []
   },
   "outputs": [
    {
     "data": {
      "text/html": [
       "<div>\n",
       "<style scoped>\n",
       "    .dataframe tbody tr th:only-of-type {\n",
       "        vertical-align: middle;\n",
       "    }\n",
       "\n",
       "    .dataframe tbody tr th {\n",
       "        vertical-align: top;\n",
       "    }\n",
       "\n",
       "    .dataframe thead th {\n",
       "        text-align: right;\n",
       "    }\n",
       "</style>\n",
       "<table border=\"1\" class=\"dataframe\">\n",
       "  <thead>\n",
       "    <tr style=\"text-align: right;\">\n",
       "      <th></th>\n",
       "      <th>Set</th>\n",
       "      <th>item</th>\n",
       "      <th>count</th>\n",
       "    </tr>\n",
       "  </thead>\n",
       "  <tbody>\n",
       "    <tr>\n",
       "      <th>0</th>\n",
       "      <td>AZ</td>\n",
       "      <td>13</td>\n",
       "      <td>5.0</td>\n",
       "    </tr>\n",
       "    <tr>\n",
       "      <th>1</th>\n",
       "      <td>AZ</td>\n",
       "      <td>23</td>\n",
       "      <td>5.0</td>\n",
       "    </tr>\n",
       "    <tr>\n",
       "      <th>2</th>\n",
       "      <td>AZ</td>\n",
       "      <td>26</td>\n",
       "      <td>5.0</td>\n",
       "    </tr>\n",
       "    <tr>\n",
       "      <th>3</th>\n",
       "      <td>AZ</td>\n",
       "      <td>39</td>\n",
       "      <td>5.0</td>\n",
       "    </tr>\n",
       "    <tr>\n",
       "      <th>4</th>\n",
       "      <td>AZ</td>\n",
       "      <td>66</td>\n",
       "      <td>5.0</td>\n",
       "    </tr>\n",
       "  </tbody>\n",
       "</table>\n",
       "</div>"
      ],
      "text/plain": [
       "  Set  item  count\n",
       "0  AZ    13    5.0\n",
       "1  AZ    23    5.0\n",
       "2  AZ    26    5.0\n",
       "3  AZ    39    5.0\n",
       "4  AZ    66    5.0"
      ]
     },
     "execution_count": 28,
     "metadata": {},
     "output_type": "execute_result"
    }
   ],
   "source": [
    "astats = pd.concat({\n",
    "    'AZ': az_ratings.groupby('item')['rating'].mean().nlargest(50),\n",
    "    'BX-E': bxe_ratings.groupby('item')['rating'].mean().nlargest(50),\n",
    "    'GR-E': gre_ratings.groupby('item')['rating'].mean().nlargest(50)\n",
    "}, names=['Set'])\n",
    "astats = astats.reset_index(name='count')\n",
    "astats.head()"
   ]
  },
  {
   "cell_type": "code",
   "execution_count": 29,
   "metadata": {
    "papermill": {
     "duration": 0.929698,
     "end_time": "2020-05-12T09:26:49.911884",
     "exception": false,
     "start_time": "2020-05-12T09:26:48.982186",
     "status": "completed"
    },
    "tags": []
   },
   "outputs": [
    {
     "data": {
      "text/html": [
       "<div>\n",
       "<style scoped>\n",
       "    .dataframe tbody tr th:only-of-type {\n",
       "        vertical-align: middle;\n",
       "    }\n",
       "\n",
       "    .dataframe tbody tr th {\n",
       "        vertical-align: top;\n",
       "    }\n",
       "\n",
       "    .dataframe thead th {\n",
       "        text-align: right;\n",
       "    }\n",
       "</style>\n",
       "<table border=\"1\" class=\"dataframe\">\n",
       "  <thead>\n",
       "    <tr style=\"text-align: right;\">\n",
       "      <th></th>\n",
       "      <th>Set</th>\n",
       "      <th>item</th>\n",
       "      <th>count</th>\n",
       "      <th>gender</th>\n",
       "    </tr>\n",
       "  </thead>\n",
       "  <tbody>\n",
       "    <tr>\n",
       "      <th>0</th>\n",
       "      <td>AZ</td>\n",
       "      <td>13</td>\n",
       "      <td>5.0</td>\n",
       "      <td>male</td>\n",
       "    </tr>\n",
       "    <tr>\n",
       "      <th>1</th>\n",
       "      <td>AZ</td>\n",
       "      <td>23</td>\n",
       "      <td>5.0</td>\n",
       "      <td>unknown</td>\n",
       "    </tr>\n",
       "    <tr>\n",
       "      <th>2</th>\n",
       "      <td>AZ</td>\n",
       "      <td>26</td>\n",
       "      <td>5.0</td>\n",
       "      <td>male</td>\n",
       "    </tr>\n",
       "    <tr>\n",
       "      <th>3</th>\n",
       "      <td>AZ</td>\n",
       "      <td>39</td>\n",
       "      <td>5.0</td>\n",
       "      <td>unknown</td>\n",
       "    </tr>\n",
       "    <tr>\n",
       "      <th>4</th>\n",
       "      <td>AZ</td>\n",
       "      <td>66</td>\n",
       "      <td>5.0</td>\n",
       "      <td>unknown</td>\n",
       "    </tr>\n",
       "  </tbody>\n",
       "</table>\n",
       "</div>"
      ],
      "text/plain": [
       "  Set  item  count   gender\n",
       "0  AZ    13    5.0     male\n",
       "1  AZ    23    5.0  unknown\n",
       "2  AZ    26    5.0     male\n",
       "3  AZ    39    5.0  unknown\n",
       "4  AZ    66    5.0  unknown"
      ]
     },
     "execution_count": 29,
     "metadata": {},
     "output_type": "execute_result"
    }
   ],
   "source": [
    "arecs = astats.join(book_gender, on='item', how='left')\n",
    "arecs['gender'] = arecs['gender'].fillna('unknown')\n",
    "arecs.head()"
   ]
  },
  {
   "cell_type": "code",
   "execution_count": 30,
   "metadata": {
    "papermill": {
     "duration": 0.048001,
     "end_time": "2020-05-12T09:26:49.986882",
     "exception": false,
     "start_time": "2020-05-12T09:26:49.938881",
     "status": "completed"
    },
    "tags": []
   },
   "outputs": [
    {
     "data": {
      "text/html": [
       "<div>\n",
       "<style scoped>\n",
       "    .dataframe tbody tr th:only-of-type {\n",
       "        vertical-align: middle;\n",
       "    }\n",
       "\n",
       "    .dataframe tbody tr th {\n",
       "        vertical-align: top;\n",
       "    }\n",
       "\n",
       "    .dataframe thead th {\n",
       "        text-align: right;\n",
       "    }\n",
       "</style>\n",
       "<table border=\"1\" class=\"dataframe\">\n",
       "  <thead>\n",
       "    <tr style=\"text-align: right;\">\n",
       "      <th>gender</th>\n",
       "      <th>ambiguous</th>\n",
       "      <th>female</th>\n",
       "      <th>male</th>\n",
       "      <th>unknown</th>\n",
       "      <th>Total</th>\n",
       "      <th>Known</th>\n",
       "      <th>PropKnown</th>\n",
       "      <th>PropFemale</th>\n",
       "    </tr>\n",
       "    <tr>\n",
       "      <th>Set</th>\n",
       "      <th></th>\n",
       "      <th></th>\n",
       "      <th></th>\n",
       "      <th></th>\n",
       "      <th></th>\n",
       "      <th></th>\n",
       "      <th></th>\n",
       "      <th></th>\n",
       "    </tr>\n",
       "  </thead>\n",
       "  <tbody>\n",
       "    <tr>\n",
       "      <th>AZ</th>\n",
       "      <td>0</td>\n",
       "      <td>7</td>\n",
       "      <td>17</td>\n",
       "      <td>26</td>\n",
       "      <td>50</td>\n",
       "      <td>24</td>\n",
       "      <td>0.48</td>\n",
       "      <td>0.291667</td>\n",
       "    </tr>\n",
       "    <tr>\n",
       "      <th>BX-E</th>\n",
       "      <td>3</td>\n",
       "      <td>8</td>\n",
       "      <td>31</td>\n",
       "      <td>8</td>\n",
       "      <td>50</td>\n",
       "      <td>39</td>\n",
       "      <td>0.78</td>\n",
       "      <td>0.205128</td>\n",
       "    </tr>\n",
       "    <tr>\n",
       "      <th>GR-E</th>\n",
       "      <td>0</td>\n",
       "      <td>1</td>\n",
       "      <td>7</td>\n",
       "      <td>42</td>\n",
       "      <td>50</td>\n",
       "      <td>8</td>\n",
       "      <td>0.16</td>\n",
       "      <td>0.125000</td>\n",
       "    </tr>\n",
       "  </tbody>\n",
       "</table>\n",
       "</div>"
      ],
      "text/plain": [
       "gender  ambiguous  female  male  unknown  Total  Known  PropKnown  PropFemale\n",
       "Set                                                                          \n",
       "AZ              0       7    17       26     50     24       0.48    0.291667\n",
       "BX-E            3       8    31        8     50     39       0.78    0.205128\n",
       "GR-E            0       1     7       42     50      8       0.16    0.125000"
      ]
     },
     "execution_count": 30,
     "metadata": {},
     "output_type": "execute_result"
    }
   ],
   "source": [
    "avg_gender = arecs.groupby(['Set', 'gender']).item.count().unstack().fillna(0).astype('i4')\n",
    "avg_gender.columns = avg_gender.columns.astype('object')\n",
    "avg_gender['Total'] = avg_gender.sum(axis=1)\n",
    "avg_gender['Known'] = avg_gender['male'] + avg_gender['female']\n",
    "avg_gender['PropKnown'] = avg_gender['Known'] / avg_gender['Total']\n",
    "avg_gender['PropFemale'] = avg_gender['female'] / avg_gender['Known']\n",
    "avg_gender"
   ]
  },
  {
   "cell_type": "markdown",
   "metadata": {
    "papermill": {
     "duration": 0.02697,
     "end_time": "2020-05-12T09:26:50.038851",
     "exception": false,
     "start_time": "2020-05-12T09:26:50.011881",
     "status": "completed"
    },
    "tags": []
   },
   "source": [
    "## Recommendation Coverage & Diversity\n",
    "\n",
    "We want to understand how the recommendation lists work to better understand how many items we get."
   ]
  },
  {
   "cell_type": "code",
   "execution_count": 31,
   "metadata": {
    "papermill": {
     "duration": 1.126018,
     "end_time": "2020-05-12T09:26:51.191868",
     "exception": false,
     "start_time": "2020-05-12T09:26:50.065850",
     "status": "completed"
    },
    "tags": []
   },
   "outputs": [],
   "source": [
    "list_counts = recs.groupby(['Set', 'Algorithm'])['user'].nunique()\n",
    "list_counts.name = 'Lists'"
   ]
  },
  {
   "cell_type": "code",
   "execution_count": 32,
   "metadata": {
    "papermill": {
     "duration": 3.101748,
     "end_time": "2020-05-12T09:26:54.319648",
     "exception": false,
     "start_time": "2020-05-12T09:26:51.217900",
     "status": "completed"
    },
    "tags": []
   },
   "outputs": [],
   "source": [
    "item_counts = recs.groupby(['Set', 'Algorithm'])['item'].agg(['count', 'nunique'])\n",
    "item_counts.rename(columns={'count': 'Recs', 'nunique': 'Distinct'}, inplace=True)\n",
    "item_counts = item_counts.join(list_counts)\n",
    "item_counts['FracDistinct'] = item_counts['Distinct'] / item_counts['Recs']"
   ]
  },
  {
   "cell_type": "markdown",
   "metadata": {
    "papermill": {
     "duration": 0.027996,
     "end_time": "2020-05-12T09:26:54.376676",
     "exception": false,
     "start_time": "2020-05-12T09:26:54.348680",
     "status": "completed"
    },
    "tags": []
   },
   "source": [
    "What does this look like for implicit?"
   ]
  },
  {
   "cell_type": "code",
   "execution_count": 33,
   "metadata": {
    "papermill": {
     "duration": 0.048999,
     "end_time": "2020-05-12T09:26:54.452645",
     "exception": false,
     "start_time": "2020-05-12T09:26:54.403646",
     "status": "completed"
    },
    "scrolled": true,
    "tags": []
   },
   "outputs": [
    {
     "data": {
      "text/html": [
       "<div>\n",
       "<style scoped>\n",
       "    .dataframe tbody tr th:only-of-type {\n",
       "        vertical-align: middle;\n",
       "    }\n",
       "\n",
       "    .dataframe tbody tr th {\n",
       "        vertical-align: top;\n",
       "    }\n",
       "\n",
       "    .dataframe thead tr th {\n",
       "        text-align: left;\n",
       "    }\n",
       "\n",
       "    .dataframe thead tr:last-of-type th {\n",
       "        text-align: right;\n",
       "    }\n",
       "</style>\n",
       "<table border=\"1\" class=\"dataframe\">\n",
       "  <thead>\n",
       "    <tr>\n",
       "      <th>Set</th>\n",
       "      <th colspan=\"4\" halign=\"left\">AZ</th>\n",
       "      <th colspan=\"4\" halign=\"left\">BX</th>\n",
       "      <th colspan=\"4\" halign=\"left\">GR</th>\n",
       "    </tr>\n",
       "    <tr>\n",
       "      <th></th>\n",
       "      <th>Recs</th>\n",
       "      <th>Distinct</th>\n",
       "      <th>Lists</th>\n",
       "      <th>FracDistinct</th>\n",
       "      <th>Recs</th>\n",
       "      <th>Distinct</th>\n",
       "      <th>Lists</th>\n",
       "      <th>FracDistinct</th>\n",
       "      <th>Recs</th>\n",
       "      <th>Distinct</th>\n",
       "      <th>Lists</th>\n",
       "      <th>FracDistinct</th>\n",
       "    </tr>\n",
       "    <tr>\n",
       "      <th>Algorithm</th>\n",
       "      <th></th>\n",
       "      <th></th>\n",
       "      <th></th>\n",
       "      <th></th>\n",
       "      <th></th>\n",
       "      <th></th>\n",
       "      <th></th>\n",
       "      <th></th>\n",
       "      <th></th>\n",
       "      <th></th>\n",
       "      <th></th>\n",
       "      <th></th>\n",
       "    </tr>\n",
       "  </thead>\n",
       "  <tbody>\n",
       "    <tr>\n",
       "      <th>ALS</th>\n",
       "      <td>250000.0</td>\n",
       "      <td>17757.0</td>\n",
       "      <td>5000.0</td>\n",
       "      <td>0.071028</td>\n",
       "      <td>250000.0</td>\n",
       "      <td>10658.0</td>\n",
       "      <td>5000.0</td>\n",
       "      <td>0.042632</td>\n",
       "      <td>250000.0</td>\n",
       "      <td>16382.0</td>\n",
       "      <td>5000.0</td>\n",
       "      <td>0.065528</td>\n",
       "    </tr>\n",
       "    <tr>\n",
       "      <th>BPR</th>\n",
       "      <td>250000.0</td>\n",
       "      <td>13006.0</td>\n",
       "      <td>5000.0</td>\n",
       "      <td>0.052024</td>\n",
       "      <td>250000.0</td>\n",
       "      <td>42161.0</td>\n",
       "      <td>5000.0</td>\n",
       "      <td>0.168644</td>\n",
       "      <td>250000.0</td>\n",
       "      <td>98105.0</td>\n",
       "      <td>5000.0</td>\n",
       "      <td>0.392420</td>\n",
       "    </tr>\n",
       "    <tr>\n",
       "      <th>II</th>\n",
       "      <td>249949.0</td>\n",
       "      <td>120791.0</td>\n",
       "      <td>5000.0</td>\n",
       "      <td>0.483263</td>\n",
       "      <td>249700.0</td>\n",
       "      <td>56902.0</td>\n",
       "      <td>4994.0</td>\n",
       "      <td>0.227881</td>\n",
       "      <td>250000.0</td>\n",
       "      <td>25506.0</td>\n",
       "      <td>5000.0</td>\n",
       "      <td>0.102024</td>\n",
       "    </tr>\n",
       "    <tr>\n",
       "      <th>UU</th>\n",
       "      <td>249957.0</td>\n",
       "      <td>47142.0</td>\n",
       "      <td>5000.0</td>\n",
       "      <td>0.188600</td>\n",
       "      <td>248439.0</td>\n",
       "      <td>17978.0</td>\n",
       "      <td>4987.0</td>\n",
       "      <td>0.072364</td>\n",
       "      <td>249383.0</td>\n",
       "      <td>16542.0</td>\n",
       "      <td>4994.0</td>\n",
       "      <td>0.066332</td>\n",
       "    </tr>\n",
       "  </tbody>\n",
       "</table>\n",
       "</div>"
      ],
      "text/plain": [
       "Set              AZ                                       BX                   \\\n",
       "               Recs  Distinct   Lists FracDistinct      Recs Distinct   Lists   \n",
       "Algorithm                                                                       \n",
       "ALS        250000.0   17757.0  5000.0     0.071028  250000.0  10658.0  5000.0   \n",
       "BPR        250000.0   13006.0  5000.0     0.052024  250000.0  42161.0  5000.0   \n",
       "II         249949.0  120791.0  5000.0     0.483263  249700.0  56902.0  4994.0   \n",
       "UU         249957.0   47142.0  5000.0     0.188600  248439.0  17978.0  4987.0   \n",
       "\n",
       "Set                           GR                                \n",
       "          FracDistinct      Recs Distinct   Lists FracDistinct  \n",
       "Algorithm                                                       \n",
       "ALS           0.042632  250000.0  16382.0  5000.0     0.065528  \n",
       "BPR           0.168644  250000.0  98105.0  5000.0     0.392420  \n",
       "II            0.227881  250000.0  25506.0  5000.0     0.102024  \n",
       "UU            0.072364  249383.0  16542.0  4994.0     0.066332  "
      ]
     },
     "execution_count": 33,
     "metadata": {},
     "output_type": "execute_result"
    }
   ],
   "source": [
    "df = select_implicit(item_counts).set_index(['Algorithm', 'Set']).stack().reorder_levels([0, 2, 1]).unstack().unstack()\n",
    "df = df.rename(index=algo_labels)\n",
    "df"
   ]
  },
  {
   "cell_type": "code",
   "execution_count": 34,
   "metadata": {
    "papermill": {
     "duration": 0.033968,
     "end_time": "2020-05-12T09:26:54.516644",
     "exception": false,
     "start_time": "2020-05-12T09:26:54.482676",
     "status": "completed"
    },
    "tags": []
   },
   "outputs": [],
   "source": [
    "def f_n(n):\n",
    "    return '{:,.0f}'.format(n)\n",
    "def f_pct(n):\n",
    "    return '{:.1f}%'.format(n * 100)"
   ]
  },
  {
   "cell_type": "code",
   "execution_count": 35,
   "metadata": {
    "papermill": {
     "duration": 0.040999,
     "end_time": "2020-05-12T09:26:54.588642",
     "exception": false,
     "start_time": "2020-05-12T09:26:54.547643",
     "status": "completed"
    },
    "tags": []
   },
   "outputs": [
    {
     "name": "stdout",
     "output_type": "stream",
     "text": [
      "\\begin{tabular}{lrrrrrrrrr}\n",
      "\\toprule\n",
      "{} &    Recs & Distinct & FracDistinct &    Recs & Distinct & FracDistinct &    Recs & Distinct & FracDistinct \\\\\n",
      "Set &      AZ &       AZ &           AZ &      BX &       BX &           BX &      GR &       GR &           GR \\\\\n",
      "Algorithm &         &          &              &         &          &              &         &          &              \\\\\n",
      "\\midrule\n",
      "ALS       & 250,000 &   17,757 &         7.1\\% & 250,000 &   10,658 &         4.3\\% & 250,000 &   16,382 &         6.6\\% \\\\\n",
      "BPR       & 250,000 &   13,006 &         5.2\\% & 250,000 &   42,161 &        16.9\\% & 250,000 &   98,105 &        39.2\\% \\\\\n",
      "II        & 249,949 &  120,791 &        48.3\\% & 249,700 &   56,902 &        22.8\\% & 250,000 &   25,506 &        10.2\\% \\\\\n",
      "UU        & 249,957 &   47,142 &        18.9\\% & 248,439 &   17,978 &         7.2\\% & 249,383 &   16,542 &         6.6\\% \\\\\n",
      "\\bottomrule\n",
      "\\end{tabular}\n",
      "\n"
     ]
    }
   ],
   "source": [
    "print(df.swaplevel(axis=1).loc[:, ['Recs', 'Distinct', 'FracDistinct']].to_latex(formatters=[\n",
    "    f_n, f_n, f_pct,\n",
    "    f_n, f_n, f_pct,\n",
    "    f_n, f_n, f_pct\n",
    "]))"
   ]
  },
  {
   "cell_type": "markdown",
   "metadata": {
    "papermill": {
     "duration": 0.029,
     "end_time": "2020-05-12T09:26:54.643641",
     "exception": false,
     "start_time": "2020-05-12T09:26:54.614641",
     "status": "completed"
    },
    "tags": []
   },
   "source": [
    "And explicit?"
   ]
  },
  {
   "cell_type": "code",
   "execution_count": 36,
   "metadata": {
    "papermill": {
     "duration": 0.054999,
     "end_time": "2020-05-12T09:26:54.733640",
     "exception": false,
     "start_time": "2020-05-12T09:26:54.678641",
     "status": "completed"
    },
    "tags": []
   },
   "outputs": [
    {
     "data": {
      "text/html": [
       "<div>\n",
       "<style scoped>\n",
       "    .dataframe tbody tr th:only-of-type {\n",
       "        vertical-align: middle;\n",
       "    }\n",
       "\n",
       "    .dataframe tbody tr th {\n",
       "        vertical-align: top;\n",
       "    }\n",
       "\n",
       "    .dataframe thead tr th {\n",
       "        text-align: left;\n",
       "    }\n",
       "\n",
       "    .dataframe thead tr:last-of-type th {\n",
       "        text-align: right;\n",
       "    }\n",
       "</style>\n",
       "<table border=\"1\" class=\"dataframe\">\n",
       "  <thead>\n",
       "    <tr>\n",
       "      <th>Set</th>\n",
       "      <th colspan=\"4\" halign=\"left\">AZ</th>\n",
       "      <th colspan=\"4\" halign=\"left\">BX</th>\n",
       "      <th colspan=\"4\" halign=\"left\">GR</th>\n",
       "    </tr>\n",
       "    <tr>\n",
       "      <th></th>\n",
       "      <th>Recs</th>\n",
       "      <th>Distinct</th>\n",
       "      <th>Lists</th>\n",
       "      <th>FracDistinct</th>\n",
       "      <th>Recs</th>\n",
       "      <th>Distinct</th>\n",
       "      <th>Lists</th>\n",
       "      <th>FracDistinct</th>\n",
       "      <th>Recs</th>\n",
       "      <th>Distinct</th>\n",
       "      <th>Lists</th>\n",
       "      <th>FracDistinct</th>\n",
       "    </tr>\n",
       "    <tr>\n",
       "      <th>Algorithm</th>\n",
       "      <th></th>\n",
       "      <th></th>\n",
       "      <th></th>\n",
       "      <th></th>\n",
       "      <th></th>\n",
       "      <th></th>\n",
       "      <th></th>\n",
       "      <th></th>\n",
       "      <th></th>\n",
       "      <th></th>\n",
       "      <th></th>\n",
       "      <th></th>\n",
       "    </tr>\n",
       "  </thead>\n",
       "  <tbody>\n",
       "    <tr>\n",
       "      <th>ALS</th>\n",
       "      <td>250000.0</td>\n",
       "      <td>47308.0</td>\n",
       "      <td>5000.0</td>\n",
       "      <td>0.189232</td>\n",
       "      <td>250000.0</td>\n",
       "      <td>65.0</td>\n",
       "      <td>5000.0</td>\n",
       "      <td>0.000260</td>\n",
       "      <td>NaN</td>\n",
       "      <td>NaN</td>\n",
       "      <td>NaN</td>\n",
       "      <td>NaN</td>\n",
       "    </tr>\n",
       "    <tr>\n",
       "      <th>II</th>\n",
       "      <td>239412.0</td>\n",
       "      <td>113365.0</td>\n",
       "      <td>4986.0</td>\n",
       "      <td>0.473514</td>\n",
       "      <td>248316.0</td>\n",
       "      <td>18588.0</td>\n",
       "      <td>4988.0</td>\n",
       "      <td>0.074856</td>\n",
       "      <td>245944.0</td>\n",
       "      <td>90333.0</td>\n",
       "      <td>5000.0</td>\n",
       "      <td>0.367291</td>\n",
       "    </tr>\n",
       "    <tr>\n",
       "      <th>UU</th>\n",
       "      <td>191553.0</td>\n",
       "      <td>109755.0</td>\n",
       "      <td>4503.0</td>\n",
       "      <td>0.572975</td>\n",
       "      <td>219082.0</td>\n",
       "      <td>43475.0</td>\n",
       "      <td>4818.0</td>\n",
       "      <td>0.198442</td>\n",
       "      <td>241523.0</td>\n",
       "      <td>67473.0</td>\n",
       "      <td>4876.0</td>\n",
       "      <td>0.279365</td>\n",
       "    </tr>\n",
       "  </tbody>\n",
       "</table>\n",
       "</div>"
      ],
      "text/plain": [
       "Set              AZ                                       BX                   \\\n",
       "               Recs  Distinct   Lists FracDistinct      Recs Distinct   Lists   \n",
       "Algorithm                                                                       \n",
       "ALS        250000.0   47308.0  5000.0     0.189232  250000.0     65.0  5000.0   \n",
       "II         239412.0  113365.0  4986.0     0.473514  248316.0  18588.0  4988.0   \n",
       "UU         191553.0  109755.0  4503.0     0.572975  219082.0  43475.0  4818.0   \n",
       "\n",
       "Set                           GR                                \n",
       "          FracDistinct      Recs Distinct   Lists FracDistinct  \n",
       "Algorithm                                                       \n",
       "ALS           0.000260       NaN      NaN     NaN          NaN  \n",
       "II            0.074856  245944.0  90333.0  5000.0     0.367291  \n",
       "UU            0.198442  241523.0  67473.0  4876.0     0.279365  "
      ]
     },
     "execution_count": 36,
     "metadata": {},
     "output_type": "execute_result"
    }
   ],
   "source": [
    "df = select_explicit(item_counts).set_index(['Algorithm', 'Set']).stack().reorder_levels([0, 2, 1]).unstack().unstack()\n",
    "df = df.rename(index=algo_labels)\n",
    "df"
   ]
  },
  {
   "cell_type": "code",
   "execution_count": 37,
   "metadata": {
    "papermill": {
     "duration": 0.049999,
     "end_time": "2020-05-12T09:26:54.813638",
     "exception": false,
     "start_time": "2020-05-12T09:26:54.763639",
     "status": "completed"
    },
    "tags": []
   },
   "outputs": [
    {
     "name": "stdout",
     "output_type": "stream",
     "text": [
      "\\begin{tabular}{lrrrrrrrrr}\n",
      "\\toprule\n",
      "{} &    Recs & Distinct & FracDistinct &    Recs & Distinct & FracDistinct &    Recs & Distinct & FracDistinct \\\\\n",
      "Set &      AZ &       AZ &           AZ &      BX &       BX &           BX &      GR &       GR &           GR \\\\\n",
      "Algorithm &         &          &              &         &          &              &         &          &              \\\\\n",
      "\\midrule\n",
      "ALS       & 250,000 &   47,308 &        18.9\\% & 250,000 &       65 &         0.0\\% &     nan &      nan &         nan\\% \\\\\n",
      "II        & 239,412 &  113,365 &        47.4\\% & 248,316 &   18,588 &         7.5\\% & 245,944 &   90,333 &        36.7\\% \\\\\n",
      "UU        & 191,553 &  109,755 &        57.3\\% & 219,082 &   43,475 &        19.8\\% & 241,523 &   67,473 &        27.9\\% \\\\\n",
      "\\bottomrule\n",
      "\\end{tabular}\n",
      "\n"
     ]
    }
   ],
   "source": [
    "print(df.swaplevel(axis=1).loc[:, ['Recs', 'Distinct', 'FracDistinct']].to_latex(formatters=[\n",
    "    f_n, f_n, f_pct,\n",
    "    f_n, f_n, f_pct,\n",
    "    f_n, f_n, f_pct\n",
    "]))"
   ]
  },
  {
   "cell_type": "markdown",
   "metadata": {
    "papermill": {
     "duration": 0.027033,
     "end_time": "2020-05-12T09:26:54.868671",
     "exception": false,
     "start_time": "2020-05-12T09:26:54.841638",
     "status": "completed"
    },
    "tags": []
   },
   "source": [
    "## Dist. Table"
   ]
  },
  {
   "cell_type": "code",
   "execution_count": 38,
   "metadata": {
    "papermill": {
     "duration": 0.223993,
     "end_time": "2020-05-12T09:26:55.121633",
     "exception": false,
     "start_time": "2020-05-12T09:26:54.897640",
     "status": "completed"
    },
    "tags": []
   },
   "outputs": [
    {
     "data": {
      "text/html": [
       "<div>\n",
       "<style scoped>\n",
       "    .dataframe tbody tr th:only-of-type {\n",
       "        vertical-align: middle;\n",
       "    }\n",
       "\n",
       "    .dataframe tbody tr th {\n",
       "        vertical-align: top;\n",
       "    }\n",
       "\n",
       "    .dataframe thead th {\n",
       "        text-align: right;\n",
       "    }\n",
       "</style>\n",
       "<table border=\"1\" class=\"dataframe\">\n",
       "  <thead>\n",
       "    <tr style=\"text-align: right;\">\n",
       "      <th>Set</th>\n",
       "      <th>AZ</th>\n",
       "      <th>BX</th>\n",
       "      <th>GR</th>\n",
       "    </tr>\n",
       "    <tr>\n",
       "      <th>Algorithm</th>\n",
       "      <th></th>\n",
       "      <th></th>\n",
       "      <th></th>\n",
       "    </tr>\n",
       "  </thead>\n",
       "  <tbody>\n",
       "    <tr>\n",
       "      <th>als</th>\n",
       "      <td>0.408754</td>\n",
       "      <td>0.403938</td>\n",
       "      <td>0.438804</td>\n",
       "    </tr>\n",
       "    <tr>\n",
       "      <th>bpr</th>\n",
       "      <td>0.406626</td>\n",
       "      <td>0.423552</td>\n",
       "      <td>0.440484</td>\n",
       "    </tr>\n",
       "    <tr>\n",
       "      <th>item-item</th>\n",
       "      <td>0.387916</td>\n",
       "      <td>0.455593</td>\n",
       "      <td>0.484237</td>\n",
       "    </tr>\n",
       "    <tr>\n",
       "      <th>user-user</th>\n",
       "      <td>0.417181</td>\n",
       "      <td>0.389010</td>\n",
       "      <td>0.424384</td>\n",
       "    </tr>\n",
       "  </tbody>\n",
       "</table>\n",
       "</div>"
      ],
      "text/plain": [
       "Set              AZ        BX        GR\n",
       "Algorithm                              \n",
       "als        0.408754  0.403938  0.438804\n",
       "bpr        0.406626  0.423552  0.440484\n",
       "item-item  0.387916  0.455593  0.484237\n",
       "user-user  0.417181  0.389010  0.424384"
      ]
     },
     "execution_count": 38,
     "metadata": {},
     "output_type": "execute_result"
    }
   ],
   "source": [
    "select_implicit(rec_stats).groupby(['Algorithm', 'Set']).PropFemale.mean().unstack()"
   ]
  },
  {
   "cell_type": "code",
   "execution_count": 39,
   "metadata": {
    "papermill": {
     "duration": 0.221997,
     "end_time": "2020-05-12T09:26:55.371629",
     "exception": false,
     "start_time": "2020-05-12T09:26:55.149632",
     "status": "completed"
    },
    "tags": []
   },
   "outputs": [
    {
     "data": {
      "text/html": [
       "<div>\n",
       "<style scoped>\n",
       "    .dataframe tbody tr th:only-of-type {\n",
       "        vertical-align: middle;\n",
       "    }\n",
       "\n",
       "    .dataframe tbody tr th {\n",
       "        vertical-align: top;\n",
       "    }\n",
       "\n",
       "    .dataframe thead th {\n",
       "        text-align: right;\n",
       "    }\n",
       "</style>\n",
       "<table border=\"1\" class=\"dataframe\">\n",
       "  <thead>\n",
       "    <tr style=\"text-align: right;\">\n",
       "      <th>Set</th>\n",
       "      <th>AZ</th>\n",
       "      <th>BX</th>\n",
       "      <th>GR</th>\n",
       "    </tr>\n",
       "    <tr>\n",
       "      <th>Algorithm</th>\n",
       "      <th></th>\n",
       "      <th></th>\n",
       "      <th></th>\n",
       "    </tr>\n",
       "  </thead>\n",
       "  <tbody>\n",
       "    <tr>\n",
       "      <th>als</th>\n",
       "      <td>0.308367</td>\n",
       "      <td>0.188344</td>\n",
       "      <td>0.285130</td>\n",
       "    </tr>\n",
       "    <tr>\n",
       "      <th>bpr</th>\n",
       "      <td>0.284455</td>\n",
       "      <td>0.273894</td>\n",
       "      <td>0.316049</td>\n",
       "    </tr>\n",
       "    <tr>\n",
       "      <th>item-item</th>\n",
       "      <td>0.310644</td>\n",
       "      <td>0.207831</td>\n",
       "      <td>0.247467</td>\n",
       "    </tr>\n",
       "    <tr>\n",
       "      <th>user-user</th>\n",
       "      <td>0.278917</td>\n",
       "      <td>0.168030</td>\n",
       "      <td>0.265406</td>\n",
       "    </tr>\n",
       "  </tbody>\n",
       "</table>\n",
       "</div>"
      ],
      "text/plain": [
       "Set              AZ        BX        GR\n",
       "Algorithm                              \n",
       "als        0.308367  0.188344  0.285130\n",
       "bpr        0.284455  0.273894  0.316049\n",
       "item-item  0.310644  0.207831  0.247467\n",
       "user-user  0.278917  0.168030  0.265406"
      ]
     },
     "execution_count": 39,
     "metadata": {},
     "output_type": "execute_result"
    }
   ],
   "source": [
    "np.sqrt(select_implicit(rec_stats).groupby(['Algorithm', 'Set']).PropFemale.var()).unstack()"
   ]
  },
  {
   "cell_type": "code",
   "execution_count": 40,
   "metadata": {
    "papermill": {
     "duration": 0.152438,
     "end_time": "2020-05-12T09:26:55.552066",
     "exception": false,
     "start_time": "2020-05-12T09:26:55.399628",
     "status": "completed"
    },
    "tags": []
   },
   "outputs": [
    {
     "data": {
      "text/html": [
       "<div>\n",
       "<style scoped>\n",
       "    .dataframe tbody tr th:only-of-type {\n",
       "        vertical-align: middle;\n",
       "    }\n",
       "\n",
       "    .dataframe tbody tr th {\n",
       "        vertical-align: top;\n",
       "    }\n",
       "\n",
       "    .dataframe thead th {\n",
       "        text-align: right;\n",
       "    }\n",
       "</style>\n",
       "<table border=\"1\" class=\"dataframe\">\n",
       "  <thead>\n",
       "    <tr style=\"text-align: right;\">\n",
       "      <th>Set</th>\n",
       "      <th>AZ</th>\n",
       "      <th>BX</th>\n",
       "      <th>GR</th>\n",
       "    </tr>\n",
       "    <tr>\n",
       "      <th>Algorithm</th>\n",
       "      <th></th>\n",
       "      <th></th>\n",
       "      <th></th>\n",
       "    </tr>\n",
       "  </thead>\n",
       "  <tbody>\n",
       "    <tr>\n",
       "      <th>als</th>\n",
       "      <td>0.405716</td>\n",
       "      <td>0.301085</td>\n",
       "      <td>NaN</td>\n",
       "    </tr>\n",
       "    <tr>\n",
       "      <th>item-item</th>\n",
       "      <td>0.388304</td>\n",
       "      <td>0.433522</td>\n",
       "      <td>0.403719</td>\n",
       "    </tr>\n",
       "    <tr>\n",
       "      <th>user-user</th>\n",
       "      <td>0.345117</td>\n",
       "      <td>0.400959</td>\n",
       "      <td>0.381393</td>\n",
       "    </tr>\n",
       "  </tbody>\n",
       "</table>\n",
       "</div>"
      ],
      "text/plain": [
       "Set              AZ        BX        GR\n",
       "Algorithm                              \n",
       "als        0.405716  0.301085       NaN\n",
       "item-item  0.388304  0.433522  0.403719\n",
       "user-user  0.345117  0.400959  0.381393"
      ]
     },
     "execution_count": 40,
     "metadata": {},
     "output_type": "execute_result"
    }
   ],
   "source": [
    "select_explicit(rec_stats).groupby(['Algorithm', 'Set']).PropFemale.mean().unstack()"
   ]
  },
  {
   "cell_type": "code",
   "execution_count": 41,
   "metadata": {
    "papermill": {
     "duration": 0.163997,
     "end_time": "2020-05-12T09:26:55.746036",
     "exception": false,
     "start_time": "2020-05-12T09:26:55.582039",
     "status": "completed"
    },
    "tags": []
   },
   "outputs": [
    {
     "data": {
      "text/html": [
       "<div>\n",
       "<style scoped>\n",
       "    .dataframe tbody tr th:only-of-type {\n",
       "        vertical-align: middle;\n",
       "    }\n",
       "\n",
       "    .dataframe tbody tr th {\n",
       "        vertical-align: top;\n",
       "    }\n",
       "\n",
       "    .dataframe thead th {\n",
       "        text-align: right;\n",
       "    }\n",
       "</style>\n",
       "<table border=\"1\" class=\"dataframe\">\n",
       "  <thead>\n",
       "    <tr style=\"text-align: right;\">\n",
       "      <th>Set</th>\n",
       "      <th>AZ</th>\n",
       "      <th>BX</th>\n",
       "      <th>GR</th>\n",
       "    </tr>\n",
       "    <tr>\n",
       "      <th>Algorithm</th>\n",
       "      <th></th>\n",
       "      <th></th>\n",
       "      <th></th>\n",
       "    </tr>\n",
       "  </thead>\n",
       "  <tbody>\n",
       "    <tr>\n",
       "      <th>als</th>\n",
       "      <td>0.149709</td>\n",
       "      <td>0.012124</td>\n",
       "      <td>NaN</td>\n",
       "    </tr>\n",
       "    <tr>\n",
       "      <th>item-item</th>\n",
       "      <td>0.243808</td>\n",
       "      <td>0.137623</td>\n",
       "      <td>0.231388</td>\n",
       "    </tr>\n",
       "    <tr>\n",
       "      <th>user-user</th>\n",
       "      <td>0.236402</td>\n",
       "      <td>0.160681</td>\n",
       "      <td>0.161416</td>\n",
       "    </tr>\n",
       "  </tbody>\n",
       "</table>\n",
       "</div>"
      ],
      "text/plain": [
       "Set              AZ        BX        GR\n",
       "Algorithm                              \n",
       "als        0.149709  0.012124       NaN\n",
       "item-item  0.243808  0.137623  0.231388\n",
       "user-user  0.236402  0.160681  0.161416"
      ]
     },
     "execution_count": 41,
     "metadata": {},
     "output_type": "execute_result"
    }
   ],
   "source": [
    "np.sqrt(select_explicit(rec_stats).groupby(['Algorithm', 'Set']).PropFemale.var()).unstack()"
   ]
  },
  {
   "cell_type": "markdown",
   "metadata": {
    "papermill": {
     "duration": 0.028028,
     "end_time": "2020-05-12T09:26:55.805064",
     "exception": false,
     "start_time": "2020-05-12T09:26:55.777036",
     "status": "completed"
    },
    "tags": []
   },
   "source": [
    "## Rec List Distributions\n",
    "\n",
    "Now that we have all of this, we can start to look at recommendation list distributions.  How is Proportion Female distributed?"
   ]
  },
  {
   "cell_type": "code",
   "execution_count": 42,
   "metadata": {
    "papermill": {
     "duration": 2.479204,
     "end_time": "2020-05-12T09:26:58.312268",
     "exception": false,
     "start_time": "2020-05-12T09:26:55.833064",
     "status": "completed"
    },
    "tags": []
   },
   "outputs": [
    {
     "data": {
      "text/plain": [
       "<seaborn.axisgrid.FacetGrid at 0x28c3d5ea048>"
      ]
     },
     "execution_count": 42,
     "metadata": {},
     "output_type": "execute_result"
    },
    {
     "data": {
      "image/png": "[encoded data removed]",
      "text/plain": [
       "<Figure size 648x864 with 12 Axes>"
      ]
     },
     "metadata": {
      "needs_background": "light"
     },
     "output_type": "display_data"
    }
   ],
   "source": [
    "grid = sns.FacetGrid(col='Set', row='Algorithm', data=select_implicit(rec_stats), sharey=False, margin_titles=True)\n",
    "grid.map(sns.distplot, 'PropFemale', kde=False, norm_hist=True)"
   ]
  },
  {
   "cell_type": "code",
   "execution_count": 43,
   "metadata": {
    "papermill": {
     "duration": 2.689885,
     "end_time": "2020-05-12T09:27:01.031121",
     "exception": false,
     "start_time": "2020-05-12T09:26:58.341236",
     "status": "completed"
    },
    "tags": []
   },
   "outputs": [
    {
     "data": {
      "text/plain": [
       "<seaborn.axisgrid.FacetGrid at 0x28c3eeeb1c8>"
      ]
     },
     "execution_count": 43,
     "metadata": {},
     "output_type": "execute_result"
    },
    {
     "data": {
      "image/png": "[encoded data removed]",
      "text/plain": [
       "<Figure size 648x864 with 12 Axes>"
      ]
     },
     "metadata": {
      "needs_background": "light"
     },
     "output_type": "display_data"
    }
   ],
   "source": [
    "grid = sns.FacetGrid(col='Set', row='Algorithm', data=select_implicit(rec_stats), sharey=False, margin_titles=True)\n",
    "grid.map(sns.distplot, 'PropKnown', kde=False, norm_hist=True)"
   ]
  },
  {
   "cell_type": "code",
   "execution_count": 44,
   "metadata": {
    "papermill": {
     "duration": 1.921161,
     "end_time": "2020-05-12T09:27:02.984437",
     "exception": false,
     "start_time": "2020-05-12T09:27:01.063276",
     "status": "completed"
    },
    "tags": []
   },
   "outputs": [
    {
     "data": {
      "text/plain": [
       "<seaborn.axisgrid.FacetGrid at 0x28c45d54d48>"
      ]
     },
     "execution_count": 44,
     "metadata": {},
     "output_type": "execute_result"
    },
    {
     "data": {
      "image/png": "[encoded data removed]",
      "text/plain": [
       "<Figure size 648x648 with 9 Axes>"
      ]
     },
     "metadata": {
      "needs_background": "light"
     },
     "output_type": "display_data"
    }
   ],
   "source": [
    "grid = sns.FacetGrid(col='Set', row='Algorithm', data=select_explicit(rec_stats), sharey=False, margin_titles=True)\n",
    "grid.map(sns.distplot, 'PropFemale', kde=False, norm_hist=True)"
   ]
  },
  {
   "cell_type": "code",
   "execution_count": 45,
   "metadata": {
    "papermill": {
     "duration": 1.863977,
     "end_time": "2020-05-12T09:27:04.878420",
     "exception": false,
     "start_time": "2020-05-12T09:27:03.014443",
     "status": "completed"
    },
    "tags": []
   },
   "outputs": [
    {
     "data": {
      "text/plain": [
       "<seaborn.axisgrid.FacetGrid at 0x28c705f9788>"
      ]
     },
     "execution_count": 45,
     "metadata": {},
     "output_type": "execute_result"
    },
    {
     "data": {
      "image/png": "[encoded data removed]",
      "text/plain": [
       "<Figure size 648x648 with 9 Axes>"
      ]
     },
     "metadata": {
      "needs_background": "light"
     },
     "output_type": "display_data"
    }
   ],
   "source": [
    "grid = sns.FacetGrid(col='Set', row='Algorithm', data=select_explicit(rec_stats), sharey=False, margin_titles=True)\n",
    "grid.map(sns.distplot, 'PropKnown', kde=False, norm_hist=True)"
   ]
  },
  {
   "cell_type": "markdown",
   "metadata": {
    "papermill": {
     "duration": 0.033007,
     "end_time": "2020-05-12T09:27:04.945426",
     "exception": false,
     "start_time": "2020-05-12T09:27:04.912419",
     "status": "completed"
    },
    "tags": []
   },
   "source": [
    "## Dummy Code Distributions"
   ]
  },
  {
   "cell_type": "code",
   "execution_count": 46,
   "metadata": {
    "papermill": {
     "duration": 2.787695,
     "end_time": "2020-05-12T09:27:07.768114",
     "exception": false,
     "start_time": "2020-05-12T09:27:04.980419",
     "status": "completed"
    },
    "tags": []
   },
   "outputs": [
    {
     "data": {
      "text/plain": [
       "<seaborn.axisgrid.FacetGrid at 0x28c731a9fc8>"
      ]
     },
     "execution_count": 46,
     "metadata": {},
     "output_type": "execute_result"
    },
    {
     "data": {
      "image/png": "[encoded data removed]",
      "text/plain": [
       "<Figure size 648x864 with 12 Axes>"
      ]
     },
     "metadata": {
      "needs_background": "light"
     },
     "output_type": "display_data"
    }
   ],
   "source": [
    "grid = sns.FacetGrid(col='Set', row='Algorithm', data=select_implicit(rec_stats), sharey=False, margin_titles=True)\n",
    "grid.map(sns.distplot, 'PropDC', kde=False, norm_hist=True)"
   ]
  },
  {
   "cell_type": "code",
   "execution_count": 47,
   "metadata": {
    "papermill": {
     "duration": 1.974708,
     "end_time": "2020-05-12T09:27:09.779829",
     "exception": false,
     "start_time": "2020-05-12T09:27:07.805121",
     "status": "completed"
    },
    "tags": []
   },
   "outputs": [
    {
     "data": {
      "text/plain": [
       "<seaborn.axisgrid.FacetGrid at 0x28c73e33d88>"
      ]
     },
     "execution_count": 47,
     "metadata": {},
     "output_type": "execute_result"
    },
    {
     "data": {
      "image/png": "[encoded data removed]",
      "text/plain": [
       "<Figure size 648x648 with 9 Axes>"
      ]
     },
     "metadata": {
      "needs_background": "light"
     },
     "output_type": "display_data"
    }
   ],
   "source": [
    "grid = sns.FacetGrid(col='Set', row='Algorithm', data=select_explicit(rec_stats), sharey=False, margin_titles=True)\n",
    "grid.map(sns.distplot, 'PropDC', kde=False, norm_hist=True)"
   ]
  },
  {
   "cell_type": "markdown",
   "metadata": {
    "papermill": {
     "duration": 0.045004,
     "end_time": "2020-05-12T09:27:09.860835",
     "exception": false,
     "start_time": "2020-05-12T09:27:09.815831",
     "status": "completed"
    },
    "tags": []
   },
   "source": [
    "## Prepare for Modeling\n",
    "\n",
    "With this analysis, we need to prepare our recommendation data for modeling."
   ]
  },
  {
   "cell_type": "markdown",
   "metadata": {
    "papermill": {
     "duration": 0.035998,
     "end_time": "2020-05-12T09:27:09.941815",
     "exception": false,
     "start_time": "2020-05-12T09:27:09.905817",
     "status": "completed"
    },
    "tags": []
   },
   "source": [
    "Because ALS on BX-E behaves _so_ badly, we can't really use it. Drop from further analysis."
   ]
  },
  {
   "cell_type": "code",
   "execution_count": 48,
   "metadata": {
    "papermill": {
     "duration": 0.278994,
     "end_time": "2020-05-12T09:27:10.255809",
     "exception": false,
     "start_time": "2020-05-12T09:27:09.976815",
     "status": "completed"
    },
    "tags": []
   },
   "outputs": [],
   "source": [
    "rec_stats = rec_stats.drop(('BX-E', 'als'))"
   ]
  },
  {
   "cell_type": "code",
   "execution_count": 49,
   "metadata": {
    "papermill": {
     "duration": 0.054018,
     "end_time": "2020-05-12T09:27:10.345841",
     "exception": false,
     "start_time": "2020-05-12T09:27:10.291823",
     "status": "completed"
    },
    "tags": []
   },
   "outputs": [],
   "source": [
    "rec_stats.to_pickle('data/rec-data.pkl')"
   ]
  },
  {
   "cell_type": "markdown",
   "metadata": {
    "papermill": {
     "duration": 0.035024,
     "end_time": "2020-05-12T09:27:10.414837",
     "exception": false,
     "start_time": "2020-05-12T09:27:10.379813",
     "status": "completed"
    },
    "tags": []
   },
   "source": [
    "We also want to save this data for STAN."
   ]
  },
  {
   "cell_type": "code",
   "execution_count": 50,
   "metadata": {
    "papermill": {
     "duration": 0.040006,
     "end_time": "2020-05-12T09:27:10.487838",
     "exception": false,
     "start_time": "2020-05-12T09:27:10.447832",
     "status": "completed"
    },
    "tags": []
   },
   "outputs": [],
   "source": [
    "def inf_dir(sname):\n",
    "    return data_dir / sname / 'inference'"
   ]
  },
  {
   "cell_type": "code",
   "execution_count": 51,
   "metadata": {
    "papermill": {
     "duration": 0.171995,
     "end_time": "2020-05-12T09:27:10.693801",
     "exception": false,
     "start_time": "2020-05-12T09:27:10.521806",
     "status": "completed"
    },
    "tags": []
   },
   "outputs": [
    {
     "name": "stdout",
     "output_type": "stream",
     "text": [
      "preparing STAN input for AZ\n",
      "AZ has algorithms Index(['als', 'bpr-imp', 'item-item', 'item-item-imp', 'user-user',\n",
      "       'user-user-imp', 'wrls-imp'],\n",
      "      dtype='object')\n",
      "preparing STAN input for BX-E\n",
      "BX-E has algorithms Index(['item-item', 'user-user'], dtype='object')\n",
      "preparing STAN input for BX-I\n",
      "BX-I has algorithms Index(['bpr', 'item-item', 'user-user', 'wrls'], dtype='object')\n",
      "preparing STAN input for GR-E\n",
      "GR-E has algorithms Index(['item-item', 'user-user'], dtype='object')\n",
      "preparing STAN input for GR-I\n",
      "GR-I has algorithms Index(['bpr', 'item-item', 'user-user', 'wrls'], dtype='object')\n"
     ]
    }
   ],
   "source": [
    "for sname, frame in rec_stats.groupby('Set'):\n",
    "    print('preparing STAN input for', sname)\n",
    "    lists = frame.reset_index().astype({'Algorithm': 'category'})\n",
    "    algos = lists['Algorithm'].cat.categories\n",
    "    print(sname, 'has algorithms', algos)\n",
    "    \n",
    "    # set up the users\n",
    "    users = profiles.loc[sname, :]\n",
    "    users = users.assign(unum=np.arange(len(users), dtype='i4') + 1)\n",
    "    lists = lists.join(users[['unum']], on='user')\n",
    "    \n",
    "    data = {\n",
    "        'A': len(algos),\n",
    "        'J': len(users),\n",
    "        'NL': len(lists),\n",
    "        'n': users['Known'],\n",
    "        'y': users['female'],\n",
    "        'ru': lists['unum'],\n",
    "        'ra': lists['Algorithm'].cat.codes + 1,\n",
    "        'rn': lists['Known'],\n",
    "        'ry': lists['female']\n",
    "    }\n",
    "    \n",
    "    # and write\n",
    "    dir = inf_dir(sname)\n",
    "    dir.mkdir(exist_ok=True)\n",
    "    in_fn = dir / 'full-inputs.json'\n",
    "    in_fn.write_text(ujson.dumps(data))\n",
    "    # in_fn.write_text(ujson.dumps(stan_inputs(frame, 'Known', 'female')))"
   ]
  },
  {
   "cell_type": "code",
   "execution_count": null,
   "metadata": {
    "papermill": {
     "duration": 0.04297,
     "end_time": "2020-05-12T09:27:10.772804",
     "exception": false,
     "start_time": "2020-05-12T09:27:10.729834",
     "status": "completed"
    },
    "tags": []
   },
   "outputs": [],
   "source": []
  }
 ],
 "metadata": {
  "kernelspec": {
   "display_name": "Python 3",
   "language": "python",
   "name": "python3"
  },
  "language_info": {
   "codemirror_mode": {
    "name": "ipython",
    "version": 3
   },
   "file_extension": ".py",
   "mimetype": "text/x-python",
   "name": "python",
   "nbconvert_exporter": "python",
   "pygments_lexer": "ipython3",
   "version": "3.7.6"
  },
  "papermill": {
   "duration": 82.279201,
   "end_time": "2020-05-12T09:27:12.317715",
   "environment_variables": {},
   "exception": null,
   "input_path": "RecDataPrep.ipynb",
   "output_path": "RecDataPrep.temp.ipynb",
   "parameters": {},
   "start_time": "2020-05-12T09:25:50.038514",
   "version": "1.0.1"
  }
 },
 "nbformat": 4,
 "nbformat_minor": 4
}