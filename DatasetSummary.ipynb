{
 "cells": [
  {
   "cell_type": "markdown",
   "metadata": {},
   "source": [
    "## Rating Stats For BookCrossing and Amazon Datasets\n",
    "\n",
    "### Setup"
   ]
  },
  {
   "cell_type": "code",
   "execution_count": null,
   "metadata": {},
   "outputs": [],
   "source": [
    "library(tidyverse)"
   ]
  },
  {
   "cell_type": "code",
   "execution_count": null,
   "metadata": {},
   "outputs": [],
   "source": [
    "options(repr.matrix.max.rows=15, repr.plot.height=4.5)"
   ]
  },
  {
   "cell_type": "code",
   "execution_count": null,
   "metadata": {},
   "outputs": [],
   "source": [
    "source(\"utils.R\")"
   ]
  },
  {
   "cell_type": "markdown",
   "metadata": {},
   "source": [
    "Set database name, other parameters (e.g. password) are set in a local shell file."
   ]
  },
  {
   "cell_type": "code",
   "execution_count": null,
   "metadata": {},
   "outputs": [],
   "source": [
    "db = DBI::dbConnect(RPostgreSQL::PostgreSQL(), dbname='openlib')"
   ]
  },
  {
   "cell_type": "code",
   "execution_count": null,
   "metadata": {},
   "outputs": [],
   "source": [
    "book_genders = db %>% tbl('cluster_first_author_gender')\n",
    "head(book_genders)"
   ]
  },
  {
   "cell_type": "code",
   "execution_count": null,
   "metadata": {},
   "outputs": [],
   "source": [
    "all_gender_stats = book_genders %>% group_by(gender) %>% summarize(count=n()) %>% collect()\n",
    "all_gender_stats"
   ]
  },
  {
   "cell_type": "markdown",
   "metadata": {},
   "source": [
    "How many books are known?"
   ]
  },
  {
   "cell_type": "code",
   "execution_count": null,
   "metadata": {},
   "outputs": [],
   "source": [
    "sum(all_gender_stats$count)"
   ]
  },
  {
   "cell_type": "markdown",
   "metadata": {},
   "source": [
    "How many known-gender books?"
   ]
  },
  {
   "cell_type": "code",
   "execution_count": null,
   "metadata": {},
   "outputs": [],
   "source": [
    "all_gender_stats %>% filter(gender == \"female\" | gender == \"male\") %>% pull(count) %>% sum()"
   ]
  },
  {
   "cell_type": "code",
   "execution_count": null,
   "metadata": {},
   "outputs": [],
   "source": [
    "all_gender_stats %>% filter(gender == \"female\" | gender == \"male\") %>% mutate(frac=count / sum(count))"
   ]
  },
  {
   "cell_type": "markdown",
   "metadata": {},
   "source": [
    "How many ISBNs are known?"
   ]
  },
  {
   "cell_type": "code",
   "execution_count": null,
   "metadata": {},
   "outputs": [],
   "source": [
    "db %>% tbl('isbn_id') %>% summarize(n=n())"
   ]
  },
  {
   "cell_type": "markdown",
   "metadata": {},
   "source": [
    "How many books are known?"
   ]
  },
  {
   "cell_type": "code",
   "execution_count": null,
   "metadata": {},
   "outputs": [],
   "source": [
    "DBI::dbGetQuery(db, 'SELECT COUNT(DISTINCT COALESCE(cluster, bc_of_isbn(isbn_id))) FROM isbn_id LEFT JOIN isbn_cluster USING (isbn_id)')"
   ]
  },
  {
   "cell_type": "markdown",
   "metadata": {},
   "source": [
    "## LOC Data"
   ]
  },
  {
   "cell_type": "markdown",
   "metadata": {},
   "source": [
    "Let's load the table of books, with gender if available:"
   ]
  },
  {
   "cell_type": "code",
   "execution_count": null,
   "metadata": {},
   "outputs": [],
   "source": [
    "loc_books = tbl(db, 'loc_rec_isbn') %>%\n",
    "    inner_join(tbl(db, 'isbn_cluster')) %>%\n",
    "    select(cluster) %>%\n",
    "    distinct() %>%\n",
    "    inner_join(book_genders)\n",
    "head(loc_books)"
   ]
  },
  {
   "cell_type": "markdown",
   "metadata": {},
   "source": [
    "How many books do we have?"
   ]
  },
  {
   "cell_type": "code",
   "execution_count": null,
   "metadata": {},
   "outputs": [],
   "source": [
    "loc_books %>% summarize(nbooks=n()) %>% collect()"
   ]
  },
  {
   "cell_type": "markdown",
   "metadata": {},
   "source": [
    "What's the distribution of gender statuses?"
   ]
  },
  {
   "cell_type": "code",
   "execution_count": null,
   "metadata": {},
   "outputs": [],
   "source": [
    "loc_gender_stats = loc_books %>% group_by(gender) %>% summarize(count=n()) %>% collect() %>% mutate(fraction=count / sum(count))\n",
    "loc_gender_stats"
   ]
  },
  {
   "cell_type": "markdown",
   "metadata": {},
   "source": [
    "How many books in LOC?"
   ]
  },
  {
   "cell_type": "code",
   "execution_count": null,
   "metadata": {},
   "outputs": [],
   "source": [
    "loc_book_count = sum(loc_gender_stats$count)\n",
    "loc_book_count"
   ]
  },
  {
   "cell_type": "markdown",
   "metadata": {},
   "source": [
    "How many ISBNs in the LOC data?"
   ]
  },
  {
   "cell_type": "code",
   "execution_count": null,
   "metadata": {},
   "outputs": [],
   "source": [
    "tbl(db, 'loc_rec_isbn') %>% summarize(n=n_distinct(isbn_id))"
   ]
  },
  {
   "cell_type": "markdown",
   "metadata": {},
   "source": [
    "How many known-gender?"
   ]
  },
  {
   "cell_type": "code",
   "execution_count": null,
   "metadata": {},
   "outputs": [],
   "source": [
    "loc_gender_stats %>% filter(gender == \"female\" | gender == \"male\") %>% pull(count) %>% sum()"
   ]
  },
  {
   "cell_type": "code",
   "execution_count": null,
   "metadata": {},
   "outputs": [],
   "source": [
    "ggplot(loc_gender_stats) +\n",
    "    aes(x=gender, y=count) +\n",
    "    geom_bar(stat='identity') +\n",
    "    scale_y_continuous(sec.axis = sec_axis(~ . / loc_book_count, labels=scales::percent))"
   ]
  },
  {
   "cell_type": "markdown",
   "metadata": {},
   "source": [
    "## BX Data\n",
    "\n",
    "Let's grab the ratings"
   ]
  },
  {
   "cell_type": "code",
   "execution_count": null,
   "metadata": {},
   "outputs": [],
   "source": [
    "bx_all_ratings = db %>% tbl('bx_all_ratings')\n",
    "head(bx_all_ratings)"
   ]
  },
  {
   "cell_type": "code",
   "execution_count": null,
   "metadata": {},
   "outputs": [],
   "source": [
    "bx_explicit_ratings = db %>% tbl('bx_explicit_ratings')\n",
    "head(bx_explicit_ratings)"
   ]
  },
  {
   "cell_type": "markdown",
   "metadata": {},
   "source": [
    "### How often do we need to compute medians?"
   ]
  },
  {
   "cell_type": "markdown",
   "metadata": {},
   "source": [
    "All ratings (including implicit):"
   ]
  },
  {
   "cell_type": "code",
   "execution_count": null,
   "metadata": {},
   "outputs": [],
   "source": [
    "bx.all.stats = bx_all_ratings %>%\n",
    "    group_by(nratings) %>%\n",
    "    summarize(Count=n()) %>%\n",
    "    collect() %>% ungroup() %>%\n",
    "    mutate(Frac = Count/ sum(as.numeric(Count)))\n",
    "bx.all.stats %>%\n",
    "    arrange(nratings)"
   ]
  },
  {
   "cell_type": "markdown",
   "metadata": {},
   "source": [
    "Explicit ratings"
   ]
  },
  {
   "cell_type": "code",
   "execution_count": null,
   "metadata": {},
   "outputs": [],
   "source": [
    "bx.explicit.stats = bx_explicit_ratings %>%\n",
    "    group_by(nratings) %>%\n",
    "    summarize(Count=n()) %>%\n",
    "    collect() %>% ungroup() %>%\n",
    "    mutate(Frac = Count/ sum(as.numeric(Count)))\n",
    "bx.explicit.stats %>%\n",
    "    arrange(nratings)"
   ]
  },
  {
   "cell_type": "markdown",
   "metadata": {},
   "source": [
    "Not very often."
   ]
  },
  {
   "cell_type": "markdown",
   "metadata": {},
   "source": [
    "Let's look at more statistics:"
   ]
  },
  {
   "cell_type": "code",
   "execution_count": null,
   "metadata": {},
   "outputs": [],
   "source": [
    "bxa_stats = tbl(db, 'bx_ratings') %>% \n",
    "    inner_join(tbl(db, 'isbn_id'), by=c(\"isbn\")) %>%\n",
    "    left_join(tbl(db, 'isbn_cluster'), by=c(\"isbn_id\")) %>%\n",
    "    left_join(book_genders, by=c(\"cluster\")) %>%\n",
    "    summarize(ratings=n(), isbns=n_distinct(isbn), \n",
    "              books=n_distinct(coalesce(cluster, isbn_id)),\n",
    "              users=n_distinct(user_id),\n",
    "              matched_books=n_distinct(cluster),\n",
    "              gender_books=n_distinct(case_when(gender == \"male\" ~ cluster, gender == \"female\" ~ cluster))) %>%\n",
    "    collect()\n",
    "bxa_stats"
   ]
  },
  {
   "cell_type": "code",
   "execution_count": null,
   "metadata": {},
   "outputs": [],
   "source": [
    "bxe_stats = tbl(db, 'bx_ratings') %>% filter(rating > 0) %>% \n",
    "    inner_join(tbl(db, 'isbn_id'), by=c(\"isbn\")) %>%\n",
    "    left_join(tbl(db, 'isbn_cluster'), by=c(\"isbn_id\")) %>%\n",
    "    left_join(book_genders, by=c(\"cluster\")) %>%\n",
    "    summarize(ratings=n(), isbns=n_distinct(isbn), \n",
    "              books=n_distinct(coalesce(cluster, isbn_id)),\n",
    "              users=n_distinct(user_id),\n",
    "              matched_books=n_distinct(cluster),\n",
    "              gender_books=n_distinct(case_when(gender == \"male\" ~ cluster, gender == \"female\" ~ cluster))) %>%\n",
    "    collect()\n",
    "bxe_stats"
   ]
  },
  {
   "cell_type": "code",
   "execution_count": null,
   "metadata": {},
   "outputs": [],
   "source": [
    "bxa_gender_stats = bx_all_ratings %>%\n",
    "    left_join(book_genders, by=c(\"book_id\"=\"cluster\")) %>%\n",
    "    mutate(gender = coalesce(gender, 'no-record')) %>%\n",
    "    group_by(gender) %>%\n",
    "    summarize(count=n(), count_books=n_distinct(book_id)) %>%\n",
    "    collect() %>%\n",
    "    mutate(fraction = count / sum(count))\n",
    "bxa_gender_stats"
   ]
  },
  {
   "cell_type": "code",
   "execution_count": null,
   "metadata": {},
   "outputs": [],
   "source": [
    "bxe_gender_stats = bx_explicit_ratings %>%\n",
    "    left_join(book_genders, by=c(\"book_id\"=\"cluster\")) %>%\n",
    "    mutate(gender = coalesce(gender, 'no-record')) %>%\n",
    "    group_by(gender) %>%\n",
    "    summarize(count=n(), count_books=n_distinct(book_id)) %>%\n",
    "    collect() %>%\n",
    "    mutate(fraction = count / sum(count))\n",
    "bxe_gender_stats"
   ]
  },
  {
   "cell_type": "markdown",
   "metadata": {},
   "source": [
    "## Amazon Data\n",
    "\n",
    "Load database views"
   ]
  },
  {
   "cell_type": "code",
   "execution_count": null,
   "metadata": {},
   "outputs": [],
   "source": [
    "az_ratings = db %>% tbl('az_export_ratings')\n",
    "head(az_ratings)"
   ]
  },
  {
   "cell_type": "markdown",
   "metadata": {},
   "source": [
    "How often do we need to compute medians?"
   ]
  },
  {
   "cell_type": "code",
   "execution_count": null,
   "metadata": {},
   "outputs": [],
   "source": [
    "az.ratings.stats = az_ratings %>%\n",
    "    group_by(nratings) %>%\n",
    "    summarize(Count=n()) %>%\n",
    "    collect() %>% ungroup() %>%\n",
    "    mutate(Frac = Count/ sum(as.numeric(Count)))\n",
    "az.ratings.stats %>%\n",
    "    arrange(nratings)"
   ]
  },
  {
   "cell_type": "markdown",
   "metadata": {},
   "source": [
    "Again, not often."
   ]
  },
  {
   "cell_type": "markdown",
   "metadata": {},
   "source": [
    "Let's collect numeric stats on our rating table."
   ]
  },
  {
   "cell_type": "code",
   "execution_count": null,
   "metadata": {},
   "outputs": [],
   "source": [
    "az_stats = db %>% tbl('az_ratings') %>% \n",
    "    inner_join(tbl(db, 'isbn_id'), by=c(\"asin\"=\"isbn\")) %>%\n",
    "    left_join(tbl(db, 'isbn_cluster'), by=c(\"isbn_id\")) %>%\n",
    "    left_join(book_genders, by=c(\"cluster\")) %>%\n",
    "    summarize(ratings=n(), isbns=n_distinct(asin), \n",
    "              books=n_distinct(coalesce(cluster, isbn_id)),\n",
    "              users=n_distinct(user_key),\n",
    "              matched_books=n_distinct(cluster),\n",
    "              gender_books=n_distinct(case_when(gender == \"male\" ~ cluster, gender == \"female\" ~ cluster))) %>%\n",
    "    collect()\n",
    "az_stats"
   ]
  },
  {
   "cell_type": "code",
   "execution_count": null,
   "metadata": {},
   "outputs": [],
   "source": [
    "az_gender_stats = az_ratings %>%\n",
    "    left_join(book_genders, by=c(\"book_id\"=\"cluster\")) %>%\n",
    "    mutate(gender = coalesce(gender, 'no-record')) %>%\n",
    "    group_by(gender) %>%\n",
    "    summarize(count=n(), count_books=n_distinct(book_id)) %>%\n",
    "    collect() %>%\n",
    "    mutate(fraction = count / sum(count))\n",
    "az_gender_stats"
   ]
  },
  {
   "cell_type": "markdown",
   "metadata": {},
   "source": [
    "## Integrated Statistics"
   ]
  },
  {
   "cell_type": "code",
   "execution_count": null,
   "metadata": {},
   "outputs": [],
   "source": [
    "all_stats = bind_rows(BXA=bxa_stats, BXE=bxe_stats, AZ=az_stats, .id=\"DataSet\")\n",
    "all_stats"
   ]
  },
  {
   "cell_type": "code",
   "execution_count": null,
   "metadata": {},
   "outputs": [],
   "source": [
    "all_gender_stats =\n",
    "    bind_rows(LOC=loc_gender_stats %>% select(gender, Count=count) %>% mutate(Scope=\"Books\"),\n",
    "              BXA=bxa_gender_stats %>% select(gender, Ratings=count, Books=count_books) %>%\n",
    "                  gather(\"Scope\", \"Count\", Ratings, Books),\n",
    "              BXE=bxe_gender_stats %>% select(gender, Ratings=count, Books=count_books) %>%\n",
    "                  gather(\"Scope\", \"Count\", Ratings, Books),\n",
    "              AZ=az_gender_stats %>% select(gender, Ratings=count, Books=count_books) %>%\n",
    "                  gather(\"Scope\", \"Count\", Ratings, Books),\n",
    "              .id=\"Set\") %>%\n",
    "    mutate(Set=recode_factor(Set, LOC=\"LOC\", AZ=\"AZ\", BXA=\"BXA\", BXE=\"BXE\", .ordered = TRUE),\n",
    "           gender=recode_factor(gender,\n",
    "                                female=\"female\", male=\"male\", ambiguous=\"ambiguous\",\n",
    "                                unknown=\"unknown\",\n",
    "                                \"no-loc-author\"=\"unlinked\", \"no-viaf-author\"=\"unlinked\",\n",
    "                                \"no-record\"=\"unlinked\", .ordered=TRUE)) %>%\n",
    "    group_by(Set, Scope, gender) %>%\n",
    "    summarize(Count=sum(Count)) %>%\n",
    "    group_by(Set, Scope) %>%\n",
    "    mutate(fraction=Count/sum(Count))\n",
    "print(all_gender_stats)"
   ]
  },
  {
   "cell_type": "code",
   "execution_count": null,
   "metadata": {},
   "outputs": [],
   "source": [
    "drawplot(file=\"build/figures/link-coverage\", width=5, height=2.8, {\n",
    "    ggplot(all_gender_stats) +\n",
    "        aes(x=gender, y=fraction, fill=Scope, label=sprintf(\"%.1f%%\", fraction * 100)) +\n",
    "        geom_bar(stat='identity', position='dodge') +\n",
    "        scale_y_continuous(labels=scales::percent) +\n",
    "        scale_fill_brewer(palette = \"Dark2\") +\n",
    "        scale_color_identity() +\n",
    "        facet_wrap(~ Set, scales=\"free_y\") +\n",
    "        ylab(\"Coverage Percent\") +\n",
    "        xlab(\"Linking Result\") +\n",
    "        theme_paper() +\n",
    "        theme(axis.text.x = element_text(angle=45, hjust=1),\n",
    "              legend.margin=margin())        \n",
    "})"
   ]
  },
  {
   "cell_type": "markdown",
   "metadata": {},
   "source": [
    "## Test Agreement\n",
    "\n",
    "We want to see how much disagreement there is of our book rating statuses."
   ]
  },
  {
   "cell_type": "code",
   "execution_count": null,
   "metadata": {},
   "outputs": [],
   "source": [
    "gender_matrix = tbl(db, 'cluster_loc_author_gender') %>% rename(loc_gender=gender) %>%\n",
    "    inner_join(tbl(db, 'cluster_first_author_gender')) %>%\n",
    "    group_by(gender, loc_gender) %>%\n",
    "    summarize(nclusters=n()) %>%\n",
    "    collect()"
   ]
  },
  {
   "cell_type": "code",
   "execution_count": null,
   "metadata": {},
   "outputs": [],
   "source": [
    "gender_matrix %>% spread(gender, nclusters)"
   ]
  },
  {
   "cell_type": "markdown",
   "metadata": {},
   "source": [
    "## Rating and Gender over Time"
   ]
  },
  {
   "cell_type": "code",
   "execution_count": null,
   "metadata": {},
   "outputs": [],
   "source": [
    "cluster_year = tbl(db, 'loc_pub_year') %>%\n",
    "    inner_join(tbl(db, 'loc_rec_isbn')) %>%\n",
    "    inner_join(tbl(db, 'isbn_cluster')) %>%\n",
    "    group_by(cluster) %>%\n",
    "    summarize(pub_year=min(pub_year))\n",
    "explain(cluster_year)"
   ]
  },
  {
   "cell_type": "code",
   "execution_count": null,
   "metadata": {},
   "outputs": [],
   "source": [
    "cluster_year_gender = cluster_year %>%\n",
    "    left_join(tbl(db, 'cluster_first_author_gender')) %>%\n",
    "    group_by(pub_year, gender) %>%\n",
    "    summarize(count=n()) %>%\n",
    "    arrange(pub_year) %>%\n",
    "    collect() %>%\n",
    "    spread(gender, count, fill=0)"
   ]
  },
  {
   "cell_type": "code",
   "execution_count": null,
   "metadata": {},
   "outputs": [],
   "source": [
    "year_az_count = cluster_year %>%\n",
    "    inner_join(tbl(db, 'az_export_ratings') %>% select(cluster=book_id) %>% distinct()) %>%\n",
    "    left_join(tbl(db, 'cluster_first_author_gender')) %>%\n",
    "    group_by(pub_year, gender) %>%\n",
    "    summarize(nrated=n()) %>%\n",
    "    arrange(pub_year) %>%\n",
    "    collect()\n",
    "year_az_count = year_az_count %>% spread(gender, nrated, fill=0)\n",
    "print(year_az_count)"
   ]
  },
  {
   "cell_type": "code",
   "execution_count": null,
   "metadata": {},
   "outputs": [],
   "source": [
    "cluster_year_totals = cluster_year_gender %>%\n",
    "    gather(\"gender\", \"count\", -pub_year) %>%\n",
    "    group_by(pub_year) %>%\n",
    "    summarize(total=sum(count))\n",
    "cluster_year_totals %>% head()"
   ]
  },
  {
   "cell_type": "code",
   "execution_count": null,
   "metadata": {},
   "outputs": [],
   "source": [
    "year_az_totals = year_az_count %>%\n",
    "    gather(\"gender\", \"count\", -pub_year) %>%\n",
    "    group_by(pub_year) %>%\n",
    "    summarize(total=sum(count))\n",
    "year_az_totals %>% head()"
   ]
  },
  {
   "cell_type": "markdown",
   "metadata": {},
   "source": [
    "Let us look at % female over time."
   ]
  },
  {
   "cell_type": "code",
   "execution_count": null,
   "metadata": {},
   "outputs": [],
   "source": [
    "ggplot(cluster_year_totals %>% mutate(pub_year=as.integer(pub_year)) %>% filter(pub_year > 1960, pub_year < 2015)) +\n",
    "    aes(x=pub_year, y=total) +\n",
    "    geom_line() +\n",
    "    ylab(\"# of books\")"
   ]
  },
  {
   "cell_type": "code",
   "execution_count": null,
   "metadata": {},
   "outputs": [],
   "source": [
    "pct_female = cluster_year_gender %>% ungroup() %>%\n",
    "    filter(pub_year > 1960, pub_year < 2015) %>%\n",
    "    mutate(female_prop = female / (female + male), pub_year=as.integer(pub_year))\n",
    "ggplot(pct_female) +\n",
    "    aes(x=pub_year, y=female_prop) +\n",
    "    geom_line() +\n",
    "    ylab(\"% Female Books\")"
   ]
  },
  {
   "cell_type": "markdown",
   "metadata": {},
   "source": [
    "Percent rated in Amazon?"
   ]
  },
  {
   "cell_type": "code",
   "execution_count": null,
   "metadata": {},
   "outputs": [],
   "source": [
    "pct_rated = cluster_year_totals %>% ungroup() %>%\n",
    "    filter(pub_year > 1960, pub_year < 2015) %>%\n",
    "    left_join(year_az_totals %>% rename(rated=total)) %>%\n",
    "    replace_na(list(rated=0)) %>%\n",
    "    mutate(rated_prop = rated / total, pub_year=as.integer(pub_year))\n",
    "ggplot(pct_rated) +\n",
    "    aes(x=pub_year, y=rated_prop) +\n",
    "    geom_line() +\n",
    "    ylab(\"% Rated\")"
   ]
  },
  {
   "cell_type": "code",
   "execution_count": null,
   "metadata": {},
   "outputs": [],
   "source": [
    "odds_ratios = cluster_year_gender %>% ungroup() %>%\n",
    "    filter(pub_year > 1960, pub_year < 2015) %>%\n",
    "    mutate(year=as.integer(pub_year)) %>%\n",
    "    left_join(transmute(year_az_count, year=as.integer(pub_year),\n",
    "                        female_rated=female, male_rated=male, rated = male + female)) %>%\n",
    "    replace_na(list(female_rated=0, male_rated=0)) %>%\n",
    "    mutate(female_odds = female_rated / (female - female_rated),\n",
    "           male_odds = male_rated / (male - male_rated),\n",
    "           rate_odds = rated / (male + female - rated)) %>%\n",
    "    mutate(odds_ratio = log(female_odds) - log(male_odds))\n",
    "ggplot(odds_ratios) +\n",
    "    aes(x=year, y=odds_ratio) +\n",
    "    geom_line() +\n",
    "    ylab(\"Female/Male Rated Log Odds Ratio\") +\n",
    "    scale_y_continuous(sec.axis = sec_axis(~ exp(.)))"
   ]
  },
  {
   "cell_type": "code",
   "execution_count": null,
   "metadata": {},
   "outputs": [],
   "source": [
    "odds_ratios %>% select(year, All=rate_odds, Male=male_odds, Female=female_odds) %>%\n",
    "    gather(\"group\", \"Odds\", -year) %>%\n",
    "    ggplot() +\n",
    "    aes(x=year, y=Odds, color=group) +\n",
    "    geom_line()"
   ]
  },
  {
   "cell_type": "code",
   "execution_count": null,
   "metadata": {},
   "outputs": [],
   "source": [
    "odds_ratios %>% select(year, All=rate_odds, Male=male_odds, Female=female_odds) %>%\n",
    "    gather(\"group\", \"Odds\", -year) %>%\n",
    "    ggplot() +\n",
    "    aes(x=year, y=Odds, color=group) +\n",
    "    geom_line() +\n",
    "    scale_y_log10()"
   ]
  },
  {
   "cell_type": "markdown",
   "metadata": {},
   "source": [
    "## Representation by rating values"
   ]
  },
  {
   "cell_type": "code",
   "execution_count": null,
   "metadata": {},
   "outputs": [],
   "source": [
    "az_rg = az_ratings %>%\n",
    "    group_by(book_id) %>%\n",
    "    summarize(avg_rating=round(mean(rating))) %>%\n",
    "    left_join(book_genders, by=c(\"book_id\"=\"cluster\")) %>%\n",
    "    filter(gender == 'male' | gender == 'female') %>%\n",
    "    group_by(gender, avg_rating) %>%\n",
    "    summarize(count=n()) %>%\n",
    "    collect()"
   ]
  },
  {
   "cell_type": "code",
   "execution_count": null,
   "metadata": {},
   "outputs": [],
   "source": [
    "bx_rg = bx_explicit_ratings %>%\n",
    "    group_by(book_id) %>%\n",
    "    summarize(avg_rating=round(mean(rating))) %>%\n",
    "    left_join(book_genders, by=c(\"book_id\"=\"cluster\")) %>%\n",
    "    filter(gender == 'male' | gender == 'female') %>%\n",
    "    group_by(gender, avg_rating) %>%\n",
    "    summarize(count=n()) %>%\n",
    "    collect()"
   ]
  },
  {
   "cell_type": "code",
   "execution_count": null,
   "metadata": {},
   "outputs": [],
   "source": [
    "all_rg = bind_rows(AZ=az_rg, BXE=bx_rg, .id=\"Set\") %>% group_by(rating=avg_rating) %>% mutate(frac=count/sum(count))"
   ]
  },
  {
   "cell_type": "code",
   "execution_count": null,
   "metadata": {},
   "outputs": [],
   "source": [
    "ggplot(all_rg) + aes(x=rating, y=frac, fill=gender) +\n",
    "    geom_bar(stat='identity', position='dodge') +\n",
    "    facet_grid(~ Set, scales=\"free\")"
   ]
  },
  {
   "cell_type": "code",
   "execution_count": null,
   "metadata": {},
   "outputs": [],
   "source": []
  }
 ],
 "metadata": {
  "kernelspec": {
   "display_name": "R",
   "language": "R",
   "name": "ir"
  },
  "language_info": {
   "codemirror_mode": "r",
   "file_extension": ".r",
   "mimetype": "text/x-r-source",
   "name": "R",
   "pygments_lexer": "r",
   "version": "3.4.3"
  }
 },
 "nbformat": 4,
 "nbformat_minor": 2
}
