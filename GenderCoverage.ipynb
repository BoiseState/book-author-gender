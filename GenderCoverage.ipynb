{
 "cells": [
  {
   "cell_type": "markdown",
   "metadata": {},
   "source": [
    "# Gender Coverage"
   ]
  },
  {
   "cell_type": "markdown",
   "metadata": {},
   "source": [
    "## Setup"
   ]
  },
  {
   "cell_type": "code",
   "execution_count": 1,
   "metadata": {},
   "outputs": [
    {
     "name": "stderr",
     "output_type": "stream",
     "text": [
      "Loading tidyverse: ggplot2\n",
      "Loading tidyverse: tibble\n",
      "Loading tidyverse: tidyr\n",
      "Loading tidyverse: readr\n",
      "Loading tidyverse: purrr\n",
      "Loading tidyverse: dplyr\n",
      "Conflicts with tidy packages ---------------------------------------------------\n",
      "filter(): dplyr, stats\n",
      "lag():    dplyr, stats\n",
      "\n",
      "Attaching package: ‘dbplyr’\n",
      "\n",
      "The following objects are masked from ‘package:dplyr’:\n",
      "\n",
      "    ident, sql\n",
      "\n"
     ]
    }
   ],
   "source": [
    "library(tidyverse)\n",
    "library(dbplyr)"
   ]
  },
  {
   "cell_type": "code",
   "execution_count": 2,
   "metadata": {},
   "outputs": [],
   "source": [
    "db = src_postgres(dbname = 'openlib')"
   ]
  },
  {
   "cell_type": "code",
   "execution_count": 3,
   "metadata": {},
   "outputs": [],
   "source": [
    "options(repr.matrix.max.rows=15, repr.plot.height=4.5)"
   ]
  },
  {
   "cell_type": "markdown",
   "metadata": {},
   "source": [
    "## Basic Resolution Stats"
   ]
  },
  {
   "cell_type": "markdown",
   "metadata": {},
   "source": [
    "Let's code our authors by different resolution statuses."
   ]
  },
  {
   "cell_type": "code",
   "execution_count": 4,
   "metadata": {},
   "outputs": [
    {
     "data": {
      "text/html": [
       "<table>\n",
       "<thead><tr><th scope=col>status</th><th scope=col>Count</th><th scope=col>Frac</th></tr></thead>\n",
       "<tbody>\n",
       "\t<tr><td>ambiguous  </td><td>  1850     </td><td>0.003581745</td></tr>\n",
       "\t<tr><td>known      </td><td>247717     </td><td>0.479599542</td></tr>\n",
       "\t<tr><td>no-author  </td><td>112629     </td><td>0.218058578</td></tr>\n",
       "\t<tr><td>no-gender  </td><td>154312     </td><td>0.298760135</td></tr>\n",
       "</tbody>\n",
       "</table>\n"
      ],
      "text/latex": [
       "\\begin{tabular}{r|lll}\n",
       " status & Count & Frac\\\\\n",
       "\\hline\n",
       "\t ambiguous   &   1850      & 0.003581745\\\\\n",
       "\t known       & 247717      & 0.479599542\\\\\n",
       "\t no-author   & 112629      & 0.218058578\\\\\n",
       "\t no-gender   & 154312      & 0.298760135\\\\\n",
       "\\end{tabular}\n"
      ],
      "text/markdown": [
       "\n",
       "status | Count | Frac | \n",
       "|---|---|---|---|\n",
       "| ambiguous   |   1850      | 0.003581745 | \n",
       "| known       | 247717      | 0.479599542 | \n",
       "| no-author   | 112629      | 0.218058578 | \n",
       "| no-gender   | 154312      | 0.298760135 | \n",
       "\n",
       "\n"
      ],
      "text/plain": [
       "  status    Count  Frac       \n",
       "1 ambiguous   1850 0.003581745\n",
       "2 known     247717 0.479599542\n",
       "3 no-author 112629 0.218058578\n",
       "4 no-gender 154312 0.298760135"
      ]
     },
     "metadata": {},
     "output_type": "display_data"
    }
   ],
   "source": [
    "reso_stats = db %>% tbl('author_resolution_summary') %>%\n",
    "    group_by(status) %>%\n",
    "    summarize(Count=n()) %>%\n",
    "    collect() %>% ungroup() %>%\n",
    "    mutate(Frac=Count / sum(as.numeric(Count)))\n",
    "reso_stats"
   ]
  },
  {
   "cell_type": "code",
   "execution_count": 5,
   "metadata": {},
   "outputs": [
    {
     "data": {},
     "metadata": {},
     "output_type": "display_data"
    },
    {
     "data": {
      "image/png": "[encoded data removed]",
      "text/plain": [
       "plot without title"
      ]
     },
     "metadata": {},
     "output_type": "display_data"
    }
   ],
   "source": [
    "ggplot(reso_stats) +\n",
    "    aes(x=status, y=Frac) +\n",
    "    geom_bar(stat='identity') +\n",
    "    scale_y_continuous(labels=scales::percent)"
   ]
  },
  {
   "cell_type": "markdown",
   "metadata": {},
   "source": [
    "## Statistics for BookCrossing"
   ]
  },
  {
   "cell_type": "code",
   "execution_count": 7,
   "metadata": {},
   "outputs": [
    {
     "name": "stderr",
     "output_type": "stream",
     "text": [
      "Joining, by = \"isbn\"\n",
      "Joining, by = c(\"isbn\", \"book_id\")\n",
      "Joining, by = c(\"author_id\", \"author_name\")\n"
     ]
    }
   ],
   "source": [
    "bx_rate_stats = tbl(db, 'bx_ratings') %>%\n",
    "    inner_join(tbl(db, 'isbn_book_id')) %>%\n",
    "    inner_join(tbl(db, 'bx_book_info')) %>%\n",
    "    left_join(tbl(db, 'author_resolution_summary')) %>%\n",
    "    group_by(status) %>%\n",
    "    summarize(Count=n()) %>%\n",
    "    collect() %>% ungroup() %>%\n",
    "    mutate(Frac=Count / sum(as.numeric(Count)))"
   ]
  },
  {
   "cell_type": "code",
   "execution_count": 8,
   "metadata": {},
   "outputs": [
    {
     "data": {
      "text/html": [
       "<table>\n",
       "<thead><tr><th scope=col>status</th><th scope=col>Count</th><th scope=col>Frac</th></tr></thead>\n",
       "<tbody>\n",
       "\t<tr><td>ambiguous </td><td>  6631    </td><td>0.00576719</td></tr>\n",
       "\t<tr><td>known     </td><td>852247    </td><td>0.74122615</td></tr>\n",
       "\t<tr><td>no-author </td><td> 40322    </td><td>0.03506932</td></tr>\n",
       "\t<tr><td>no-gender </td><td> 92422    </td><td>0.08038233</td></tr>\n",
       "\t<tr><td>NA        </td><td>158158    </td><td>0.13755501</td></tr>\n",
       "</tbody>\n",
       "</table>\n"
      ],
      "text/latex": [
       "\\begin{tabular}{r|lll}\n",
       " status & Count & Frac\\\\\n",
       "\\hline\n",
       "\t ambiguous  &   6631     & 0.00576719\\\\\n",
       "\t known      & 852247     & 0.74122615\\\\\n",
       "\t no-author  &  40322     & 0.03506932\\\\\n",
       "\t no-gender  &  92422     & 0.08038233\\\\\n",
       "\t NA         & 158158     & 0.13755501\\\\\n",
       "\\end{tabular}\n"
      ],
      "text/markdown": [
       "\n",
       "status | Count | Frac | \n",
       "|---|---|---|---|---|\n",
       "| ambiguous  |   6631     | 0.00576719 | \n",
       "| known      | 852247     | 0.74122615 | \n",
       "| no-author  |  40322     | 0.03506932 | \n",
       "| no-gender  |  92422     | 0.08038233 | \n",
       "| NA         | 158158     | 0.13755501 | \n",
       "\n",
       "\n"
      ],
      "text/plain": [
       "  status    Count  Frac      \n",
       "1 ambiguous   6631 0.00576719\n",
       "2 known     852247 0.74122615\n",
       "3 no-author  40322 0.03506932\n",
       "4 no-gender  92422 0.08038233\n",
       "5 NA        158158 0.13755501"
      ]
     },
     "metadata": {},
     "output_type": "display_data"
    }
   ],
   "source": [
    "bx_rate_stats"
   ]
  },
  {
   "cell_type": "code",
   "execution_count": 9,
   "metadata": {},
   "outputs": [
    {
     "data": {},
     "metadata": {},
     "output_type": "display_data"
    },
    {
     "data": {
      "image/png": "[encoded data removed]",
      "text/plain": [
       "plot without title"
      ]
     },
     "metadata": {},
     "output_type": "display_data"
    }
   ],
   "source": [
    "ggplot(bx_rate_stats) +\n",
    "    aes(x=status, y=Frac) +\n",
    "    geom_bar(stat='identity') +\n",
    "    scale_y_continuous(labels=scales::percent)"
   ]
  },
  {
   "cell_type": "markdown",
   "metadata": {},
   "source": [
    "73.5% of ratings are of a book with unambiguously resolved gender."
   ]
  },
  {
   "cell_type": "markdown",
   "metadata": {},
   "source": [
    "## Statistics for Amazon"
   ]
  },
  {
   "cell_type": "code",
   "execution_count": null,
   "metadata": {},
   "outputs": [
    {
     "name": "stderr",
     "output_type": "stream",
     "text": [
      "Joining, by = \"isbn\"\n",
      "Joining, by = \"book_id\"\n",
      "Joining, by = c(\"author_id\", \"author_name\")\n"
     ]
    }
   ],
   "source": [
    "az_rate_stats = tbl(db, 'az_ratings') %>%\n",
    "    select(isbn=asin) %>%\n",
    "    inner_join(tbl(db, 'isbn_book_id')) %>%\n",
    "    inner_join(tbl(db, 'az_book_info')) %>%\n",
    "    left_join(tbl(db, 'author_resolution_summary')) %>%\n",
    "    group_by(status) %>%\n",
    "    summarize(Count=n()) %>%\n",
    "    collect() %>% ungroup() %>%\n",
    "    mutate(Frac=Count / sum(as.numeric(Count)))"
   ]
  },
  {
   "cell_type": "code",
   "execution_count": null,
   "metadata": {},
   "outputs": [],
   "source": [
    "az_rate_stats"
   ]
  },
  {
   "cell_type": "code",
   "execution_count": null,
   "metadata": {},
   "outputs": [],
   "source": [
    "ggplot(az_rate_stats) +\n",
    "    aes(x=status, y=Frac) +\n",
    "    geom_bar(stat='identity') +\n",
    "    scale_y_continuous(labels=scales::percent)"
   ]
  },
  {
   "cell_type": "code",
   "execution_count": null,
   "metadata": {},
   "outputs": [],
   "source": []
  }
 ],
 "metadata": {
  "kernelspec": {
   "display_name": "R",
   "language": "R",
   "name": "ir"
  },
  "language_info": {
   "codemirror_mode": "r",
   "file_extension": ".r",
   "mimetype": "text/x-r-source",
   "name": "R",
   "pygments_lexer": "r",
   "version": "3.4.2"
  }
 },
 "nbformat": 4,
 "nbformat_minor": 1
}
