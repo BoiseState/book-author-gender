{
 "cells": [
  {
   "cell_type": "markdown",
   "metadata": {},
   "source": [
    "# Gender Coverage"
   ]
  },
  {
   "cell_type": "markdown",
   "metadata": {},
   "source": [
    "## Setup"
   ]
  },
  {
   "cell_type": "code",
   "execution_count": null,
   "metadata": {},
   "outputs": [],
   "source": [
    "library(tidyverse)\n",
    "library(dbplyr)"
   ]
  },
  {
   "cell_type": "code",
   "execution_count": null,
   "metadata": {},
   "outputs": [],
   "source": [
    "db = src_postgres(dbname = 'openlib')"
   ]
  },
  {
   "cell_type": "code",
   "execution_count": null,
   "metadata": {},
   "outputs": [],
   "source": [
    "options(repr.matrix.max.rows=15, repr.plot.height=4.5)"
   ]
  },
  {
   "cell_type": "markdown",
   "metadata": {},
   "source": [
    "## Basic Resolution Stats"
   ]
  },
  {
   "cell_type": "markdown",
   "metadata": {},
   "source": [
    "Let's code our authors by different resolution statuses."
   ]
  },
  {
   "cell_type": "code",
   "execution_count": null,
   "metadata": {},
   "outputs": [],
   "source": [
    "reso_stats = db %>% tbl('author_resolution_summary') %>%\n",
    "    group_by(status) %>%\n",
    "    summarize(Count=n()) %>%\n",
    "    collect() %>% ungroup() %>%\n",
    "    mutate(Frac=Count / sum(as.numeric(Count)))\n",
    "reso_stats"
   ]
  },
  {
   "cell_type": "code",
   "execution_count": null,
   "metadata": {},
   "outputs": [],
   "source": [
    "ggplot(reso_stats) +\n",
    "    aes(x=status, y=Frac) +\n",
    "    geom_bar(stat='identity') +\n",
    "    scale_y_continuous(labels=scales::percent)"
   ]
  },
  {
   "cell_type": "markdown",
   "metadata": {},
   "source": [
    "## Statistics for BookCrossing"
   ]
  },
  {
   "cell_type": "code",
   "execution_count": null,
   "metadata": {},
   "outputs": [],
   "source": [
    "bx_rate_stats = tbl(db, 'bx_ratings') %>%\n",
    "    inner_join(tbl(db, 'isbn_book_id')) %>%\n",
    "    inner_join(tbl(db, 'bx_book_info')) %>%\n",
    "    left_join(tbl(db, 'author_resolution_summary')) %>%\n",
    "    group_by(status) %>%\n",
    "    summarize(Count=n()) %>%\n",
    "    collect() %>% ungroup() %>%\n",
    "    mutate(Frac=Count / sum(as.numeric(Count)))"
   ]
  },
  {
   "cell_type": "code",
   "execution_count": null,
   "metadata": {},
   "outputs": [],
   "source": [
    "bx_rate_stats"
   ]
  },
  {
   "cell_type": "code",
   "execution_count": null,
   "metadata": {},
   "outputs": [],
   "source": [
    "ggplot(bx_rate_stats) +\n",
    "    aes(x=status, y=Frac) +\n",
    "    geom_bar(stat='identity') +\n",
    "    scale_y_continuous(labels=scales::percent)"
   ]
  },
  {
   "cell_type": "markdown",
   "metadata": {},
   "source": [
    "73.5% of ratings are of a book with unambiguously resolved gender."
   ]
  },
  {
   "cell_type": "markdown",
   "metadata": {},
   "source": [
    "## Statistics for Amazon"
   ]
  },
  {
   "cell_type": "code",
   "execution_count": null,
   "metadata": {},
   "outputs": [],
   "source": [
    "az_rate_stats = tbl(db, 'az_ratings') %>%\n",
    "    select(isbn=asin) %>%\n",
    "    inner_join(tbl(db, 'isbn_book_id')) %>%\n",
    "    inner_join(tbl(db, 'az_book_info')) %>%\n",
    "    left_join(tbl(db, 'author_resolution_summary')) %>%\n",
    "    group_by(status) %>%\n",
    "    summarize(Count=n()) %>%\n",
    "    collect() %>% ungroup() %>%\n",
    "    mutate(Frac=Count / sum(as.numeric(Count)))"
   ]
  },
  {
   "cell_type": "code",
   "execution_count": null,
   "metadata": {},
   "outputs": [],
   "source": [
    "az_rate_stats"
   ]
  },
  {
   "cell_type": "code",
   "execution_count": null,
   "metadata": {},
   "outputs": [],
   "source": [
    "ggplot(az_rate_stats) +\n",
    "    aes(x=status, y=Frac) +\n",
    "    geom_bar(stat='identity') +\n",
    "    scale_y_continuous(labels=scales::percent)"
   ]
  },
  {
   "cell_type": "code",
   "execution_count": null,
   "metadata": {},
   "outputs": [],
   "source": []
  }
 ],
 "metadata": {
  "kernelspec": {
   "display_name": "R",
   "language": "R",
   "name": "ir"
  },
  "language_info": {
   "codemirror_mode": "r",
   "file_extension": ".r",
   "mimetype": "text/x-r-source",
   "name": "R",
   "pygments_lexer": "r",
   "version": "3.4.2"
  }
 },
 "nbformat": 4,
 "nbformat_minor": 1
}
