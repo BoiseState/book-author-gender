{
 "cells": [
  {
   "cell_type": "markdown",
   "metadata": {
    "papermill": {
     "duration": 0.051494,
     "end_time": "2020-05-09T16:28:35.372952",
     "exception": false,
     "start_time": "2020-05-09T16:28:35.321458",
     "status": "completed"
    },
    "tags": []
   },
   "source": [
    "# Comparison of Profile Models\n",
    "\n",
    "We sample two profile models:\n",
    "\n",
    "1. The isolated profile model (reported)\n",
    "2. The profile subcomponent of the full model\n",
    "\n",
    "This notebook compares those two models to see what impact full-model training has on user inference."
   ]
  },
  {
   "cell_type": "markdown",
   "metadata": {
    "papermill": {
     "duration": 0.04941,
     "end_time": "2020-05-09T16:28:35.473619",
     "exception": false,
     "start_time": "2020-05-09T16:28:35.424209",
     "status": "completed"
    },
    "tags": []
   },
   "source": [
    "## Setup"
   ]
  },
  {
   "cell_type": "code",
   "execution_count": 1,
   "metadata": {
    "papermill": {
     "duration": 0.067655,
     "end_time": "2020-05-09T16:28:35.591802",
     "exception": false,
     "start_time": "2020-05-09T16:28:35.524147",
     "status": "completed"
    },
    "tags": []
   },
   "outputs": [],
   "source": [
    "import os\n",
    "from pathlib import Path"
   ]
  },
  {
   "cell_type": "code",
   "execution_count": 2,
   "metadata": {
    "papermill": {
     "duration": 2.08903,
     "end_time": "2020-05-09T16:28:37.730665",
     "exception": false,
     "start_time": "2020-05-09T16:28:35.641635",
     "status": "completed"
    },
    "tags": []
   },
   "outputs": [],
   "source": [
    "import pandas as pd\n",
    "import numpy as np\n",
    "from scipy.special import expit, logit\n",
    "from scipy import stats\n",
    "import seaborn as sns\n",
    "import plotnine as p\n",
    "import matplotlib.pyplot as plt\n",
    "from statsmodels.nonparametric.kde import KDEUnivariate\n",
    "import zarr\n",
    "from IPython.display import display, Markdown"
   ]
  },
  {
   "cell_type": "code",
   "execution_count": 3,
   "metadata": {
    "papermill": {
     "duration": 0.212284,
     "end_time": "2020-05-09T16:28:38.047309",
     "exception": false,
     "start_time": "2020-05-09T16:28:37.835025",
     "status": "completed"
    },
    "tags": []
   },
   "outputs": [],
   "source": [
    "import bookgender.datatools as dt\n",
    "from bookgender.nbutils import *"
   ]
  },
  {
   "cell_type": "code",
   "execution_count": 4,
   "metadata": {
    "papermill": {
     "duration": 0.070787,
     "end_time": "2020-05-09T16:28:38.166383",
     "exception": false,
     "start_time": "2020-05-09T16:28:38.095596",
     "status": "completed"
    },
    "tags": []
   },
   "outputs": [
    {
     "name": "stdout",
     "output_type": "stream",
     "text": [
      "using figure dir figures/ProfileModelCompare\n"
     ]
    }
   ],
   "source": [
    "fig_dir = init_figs('ProfileModelCompare')"
   ]
  },
  {
   "cell_type": "markdown",
   "metadata": {
    "papermill": {
     "duration": 0.050194,
     "end_time": "2020-05-09T16:28:38.267301",
     "exception": false,
     "start_time": "2020-05-09T16:28:38.217107",
     "status": "completed"
    },
    "tags": []
   },
   "source": [
    "## Load Data"
   ]
  },
  {
   "cell_type": "code",
   "execution_count": 5,
   "metadata": {
    "papermill": {
     "duration": 0.081597,
     "end_time": "2020-05-09T16:28:38.400784",
     "exception": false,
     "start_time": "2020-05-09T16:28:38.319187",
     "status": "completed"
    },
    "tags": []
   },
   "outputs": [
    {
     "data": {
      "text/plain": [
       "['AZ', 'BX-E', 'BX-I', 'GR-E', 'GR-I']"
      ]
     },
     "execution_count": 5,
     "metadata": {},
     "output_type": "execute_result"
    }
   ],
   "source": [
    "datasets = list(dt.datasets.keys())\n",
    "datasets"
   ]
  },
  {
   "cell_type": "code",
   "execution_count": 6,
   "metadata": {
    "papermill": {
     "duration": 0.071584,
     "end_time": "2020-05-09T16:28:38.526096",
     "exception": false,
     "start_time": "2020-05-09T16:28:38.454512",
     "status": "completed"
    },
    "tags": []
   },
   "outputs": [],
   "source": [
    "def load(ds, model):\n",
    "    _zf = zarr.ZipStore(f'data/{ds}/inference/{model}/samples.zarr', mode='r')\n",
    "    _c = zarr.LRUStoreCache(_zf, 2**30)\n",
    "    return zarr.group(_c)"
   ]
  },
  {
   "cell_type": "code",
   "execution_count": 7,
   "metadata": {
    "papermill": {
     "duration": 0.214393,
     "end_time": "2020-05-09T16:28:38.793869",
     "exception": false,
     "start_time": "2020-05-09T16:28:38.579476",
     "status": "completed"
    },
    "tags": []
   },
   "outputs": [],
   "source": [
    "p_samp = {}\n",
    "f_samp = {}\n",
    "for ds in datasets:\n",
    "    p_samp[ds] = load(ds, 'profile')\n",
    "    f_samp[ds] = load(ds, 'full')"
   ]
  },
  {
   "cell_type": "markdown",
   "metadata": {
    "papermill": {
     "duration": 0.052264,
     "end_time": "2020-05-09T16:28:38.899895",
     "exception": false,
     "start_time": "2020-05-09T16:28:38.847631",
     "status": "completed"
    },
    "tags": []
   },
   "source": [
    "## Compare Summary Parameters"
   ]
  },
  {
   "cell_type": "markdown",
   "metadata": {
    "papermill": {
     "duration": 0.051724,
     "end_time": "2020-05-09T16:28:39.003773",
     "exception": false,
     "start_time": "2020-05-09T16:28:38.952049",
     "status": "completed"
    },
    "tags": []
   },
   "source": [
    "The primary parameters of interest for profiles are $\\mu$ and $\\sigma$ - the mean and variance of the (log odds) proportions."
   ]
  },
  {
   "cell_type": "code",
   "execution_count": 8,
   "metadata": {
    "papermill": {
     "duration": 0.165568,
     "end_time": "2020-05-09T16:28:39.222699",
     "exception": false,
     "start_time": "2020-05-09T16:28:39.057131",
     "status": "completed"
    },
    "tags": []
   },
   "outputs": [
    {
     "data": {
      "text/html": [
       "<div>\n",
       "<style scoped>\n",
       "    .dataframe tbody tr th:only-of-type {\n",
       "        vertical-align: middle;\n",
       "    }\n",
       "\n",
       "    .dataframe tbody tr th {\n",
       "        vertical-align: top;\n",
       "    }\n",
       "\n",
       "    .dataframe thead th {\n",
       "        text-align: right;\n",
       "    }\n",
       "</style>\n",
       "<table border=\"1\" class=\"dataframe\">\n",
       "  <thead>\n",
       "    <tr style=\"text-align: right;\">\n",
       "      <th></th>\n",
       "      <th>AZ</th>\n",
       "      <th>BX-E</th>\n",
       "      <th>BX-I</th>\n",
       "      <th>GR-E</th>\n",
       "      <th>GR-I</th>\n",
       "    </tr>\n",
       "  </thead>\n",
       "  <tbody>\n",
       "    <tr>\n",
       "      <th>count</th>\n",
       "      <td>10000.000000</td>\n",
       "      <td>10000.000000</td>\n",
       "      <td>10000.000000</td>\n",
       "      <td>10000.000000</td>\n",
       "      <td>10000.000000</td>\n",
       "    </tr>\n",
       "    <tr>\n",
       "      <th>mean</th>\n",
       "      <td>-0.514382</td>\n",
       "      <td>-0.399709</td>\n",
       "      <td>-0.443828</td>\n",
       "      <td>-0.273208</td>\n",
       "      <td>-0.254363</td>\n",
       "    </tr>\n",
       "    <tr>\n",
       "      <th>std</th>\n",
       "      <td>0.029801</td>\n",
       "      <td>0.020151</td>\n",
       "      <td>0.017970</td>\n",
       "      <td>0.022427</td>\n",
       "      <td>0.021380</td>\n",
       "    </tr>\n",
       "    <tr>\n",
       "      <th>min</th>\n",
       "      <td>-0.618320</td>\n",
       "      <td>-0.470822</td>\n",
       "      <td>-0.512055</td>\n",
       "      <td>-0.366509</td>\n",
       "      <td>-0.349278</td>\n",
       "    </tr>\n",
       "    <tr>\n",
       "      <th>25%</th>\n",
       "      <td>-0.534410</td>\n",
       "      <td>-0.413218</td>\n",
       "      <td>-0.455956</td>\n",
       "      <td>-0.288445</td>\n",
       "      <td>-0.268497</td>\n",
       "    </tr>\n",
       "    <tr>\n",
       "      <th>50%</th>\n",
       "      <td>-0.514355</td>\n",
       "      <td>-0.399837</td>\n",
       "      <td>-0.443576</td>\n",
       "      <td>-0.273294</td>\n",
       "      <td>-0.254363</td>\n",
       "    </tr>\n",
       "    <tr>\n",
       "      <th>75%</th>\n",
       "      <td>-0.494401</td>\n",
       "      <td>-0.386026</td>\n",
       "      <td>-0.431779</td>\n",
       "      <td>-0.258152</td>\n",
       "      <td>-0.239769</td>\n",
       "    </tr>\n",
       "    <tr>\n",
       "      <th>max</th>\n",
       "      <td>-0.407880</td>\n",
       "      <td>-0.317007</td>\n",
       "      <td>-0.374692</td>\n",
       "      <td>-0.187482</td>\n",
       "      <td>-0.152170</td>\n",
       "    </tr>\n",
       "  </tbody>\n",
       "</table>\n",
       "</div>"
      ],
      "text/plain": [
       "                 AZ          BX-E          BX-I          GR-E          GR-I\n",
       "count  10000.000000  10000.000000  10000.000000  10000.000000  10000.000000\n",
       "mean      -0.514382     -0.399709     -0.443828     -0.273208     -0.254363\n",
       "std        0.029801      0.020151      0.017970      0.022427      0.021380\n",
       "min       -0.618320     -0.470822     -0.512055     -0.366509     -0.349278\n",
       "25%       -0.534410     -0.413218     -0.455956     -0.288445     -0.268497\n",
       "50%       -0.514355     -0.399837     -0.443576     -0.273294     -0.254363\n",
       "75%       -0.494401     -0.386026     -0.431779     -0.258152     -0.239769\n",
       "max       -0.407880     -0.317007     -0.374692     -0.187482     -0.152170"
      ]
     },
     "execution_count": 8,
     "metadata": {},
     "output_type": "execute_result"
    }
   ],
   "source": [
    "p_mu = pd.DataFrame(dict((ds, p_samp[ds]['mu']) for ds in datasets))\n",
    "p_mu.index.name = 'Sample'\n",
    "p_mu.describe()"
   ]
  },
  {
   "cell_type": "code",
   "execution_count": 9,
   "metadata": {
    "papermill": {
     "duration": 0.152769,
     "end_time": "2020-05-09T16:28:39.429917",
     "exception": false,
     "start_time": "2020-05-09T16:28:39.277148",
     "status": "completed"
    },
    "tags": []
   },
   "outputs": [
    {
     "data": {
      "text/html": [
       "<div>\n",
       "<style scoped>\n",
       "    .dataframe tbody tr th:only-of-type {\n",
       "        vertical-align: middle;\n",
       "    }\n",
       "\n",
       "    .dataframe tbody tr th {\n",
       "        vertical-align: top;\n",
       "    }\n",
       "\n",
       "    .dataframe thead th {\n",
       "        text-align: right;\n",
       "    }\n",
       "</style>\n",
       "<table border=\"1\" class=\"dataframe\">\n",
       "  <thead>\n",
       "    <tr style=\"text-align: right;\">\n",
       "      <th></th>\n",
       "      <th>AZ</th>\n",
       "      <th>BX-E</th>\n",
       "      <th>BX-I</th>\n",
       "      <th>GR-E</th>\n",
       "      <th>GR-I</th>\n",
       "    </tr>\n",
       "  </thead>\n",
       "  <tbody>\n",
       "    <tr>\n",
       "      <th>count</th>\n",
       "      <td>10000.000000</td>\n",
       "      <td>10000.000000</td>\n",
       "      <td>10000.000000</td>\n",
       "      <td>10000.000000</td>\n",
       "      <td>10000.000000</td>\n",
       "    </tr>\n",
       "    <tr>\n",
       "      <th>mean</th>\n",
       "      <td>-0.422042</td>\n",
       "      <td>-0.386132</td>\n",
       "      <td>-0.434960</td>\n",
       "      <td>-0.267217</td>\n",
       "      <td>-0.244974</td>\n",
       "    </tr>\n",
       "    <tr>\n",
       "      <th>std</th>\n",
       "      <td>0.027193</td>\n",
       "      <td>0.020111</td>\n",
       "      <td>0.016926</td>\n",
       "      <td>0.022540</td>\n",
       "      <td>0.019699</td>\n",
       "    </tr>\n",
       "    <tr>\n",
       "      <th>min</th>\n",
       "      <td>-0.529776</td>\n",
       "      <td>-0.465225</td>\n",
       "      <td>-0.499783</td>\n",
       "      <td>-0.352164</td>\n",
       "      <td>-0.315294</td>\n",
       "    </tr>\n",
       "    <tr>\n",
       "      <th>25%</th>\n",
       "      <td>-0.439871</td>\n",
       "      <td>-0.399545</td>\n",
       "      <td>-0.446454</td>\n",
       "      <td>-0.282246</td>\n",
       "      <td>-0.258416</td>\n",
       "    </tr>\n",
       "    <tr>\n",
       "      <th>50%</th>\n",
       "      <td>-0.421924</td>\n",
       "      <td>-0.386269</td>\n",
       "      <td>-0.435103</td>\n",
       "      <td>-0.267251</td>\n",
       "      <td>-0.244704</td>\n",
       "    </tr>\n",
       "    <tr>\n",
       "      <th>75%</th>\n",
       "      <td>-0.403800</td>\n",
       "      <td>-0.372363</td>\n",
       "      <td>-0.423487</td>\n",
       "      <td>-0.252198</td>\n",
       "      <td>-0.231755</td>\n",
       "    </tr>\n",
       "    <tr>\n",
       "      <th>max</th>\n",
       "      <td>-0.312990</td>\n",
       "      <td>-0.314502</td>\n",
       "      <td>-0.368429</td>\n",
       "      <td>-0.189616</td>\n",
       "      <td>-0.165044</td>\n",
       "    </tr>\n",
       "  </tbody>\n",
       "</table>\n",
       "</div>"
      ],
      "text/plain": [
       "                 AZ          BX-E          BX-I          GR-E          GR-I\n",
       "count  10000.000000  10000.000000  10000.000000  10000.000000  10000.000000\n",
       "mean      -0.422042     -0.386132     -0.434960     -0.267217     -0.244974\n",
       "std        0.027193      0.020111      0.016926      0.022540      0.019699\n",
       "min       -0.529776     -0.465225     -0.499783     -0.352164     -0.315294\n",
       "25%       -0.439871     -0.399545     -0.446454     -0.282246     -0.258416\n",
       "50%       -0.421924     -0.386269     -0.435103     -0.267251     -0.244704\n",
       "75%       -0.403800     -0.372363     -0.423487     -0.252198     -0.231755\n",
       "max       -0.312990     -0.314502     -0.368429     -0.189616     -0.165044"
      ]
     },
     "execution_count": 9,
     "metadata": {},
     "output_type": "execute_result"
    }
   ],
   "source": [
    "f_mu = pd.DataFrame(dict((ds, f_samp[ds]['mu']) for ds in datasets))\n",
    "f_mu.index.name = 'Sample'\n",
    "f_mu.describe()"
   ]
  },
  {
   "cell_type": "code",
   "execution_count": 10,
   "metadata": {
    "papermill": {
     "duration": 0.919155,
     "end_time": "2020-05-09T16:28:40.404044",
     "exception": false,
     "start_time": "2020-05-09T16:28:39.484889",
     "status": "completed"
    },
    "tags": []
   },
   "outputs": [
    {
     "data": {
      "text/plain": [
       "<matplotlib.axes._subplots.AxesSubplot at 0x7fc8be239790>"
      ]
     },
     "execution_count": 10,
     "metadata": {},
     "output_type": "execute_result"
    },
    {
     "data": {
      "image/png": "[encoded data removed]",
      "text/plain": [
       "<Figure size 432x288 with 1 Axes>"
      ]
     },
     "metadata": {
      "needs_background": "light"
     },
     "output_type": "display_data"
    }
   ],
   "source": [
    "mu = pd.concat({'Separate': p_mu, 'Full': f_mu}, names=['Model']).reset_index()\n",
    "mu = mu.melt(id_vars=['Model', 'Sample'], var_name='Set')\n",
    "sns.boxplot('Set', 'value', hue='Model', data=mu)"
   ]
  },
  {
   "cell_type": "code",
   "execution_count": 11,
   "metadata": {
    "papermill": {
     "duration": 0.161909,
     "end_time": "2020-05-09T16:28:40.624964",
     "exception": false,
     "start_time": "2020-05-09T16:28:40.463055",
     "status": "completed"
    },
    "tags": []
   },
   "outputs": [
    {
     "data": {
      "text/html": [
       "<div>\n",
       "<style scoped>\n",
       "    .dataframe tbody tr th:only-of-type {\n",
       "        vertical-align: middle;\n",
       "    }\n",
       "\n",
       "    .dataframe tbody tr th {\n",
       "        vertical-align: top;\n",
       "    }\n",
       "\n",
       "    .dataframe thead th {\n",
       "        text-align: right;\n",
       "    }\n",
       "</style>\n",
       "<table border=\"1\" class=\"dataframe\">\n",
       "  <thead>\n",
       "    <tr style=\"text-align: right;\">\n",
       "      <th></th>\n",
       "      <th>AZ</th>\n",
       "      <th>BX-E</th>\n",
       "      <th>BX-I</th>\n",
       "      <th>GR-E</th>\n",
       "      <th>GR-I</th>\n",
       "    </tr>\n",
       "  </thead>\n",
       "  <tbody>\n",
       "    <tr>\n",
       "      <th>count</th>\n",
       "      <td>10000.000000</td>\n",
       "      <td>10000.000000</td>\n",
       "      <td>10000.000000</td>\n",
       "      <td>10000.000000</td>\n",
       "      <td>10000.000000</td>\n",
       "    </tr>\n",
       "    <tr>\n",
       "      <th>mean</th>\n",
       "      <td>1.875013</td>\n",
       "      <td>1.185160</td>\n",
       "      <td>1.083392</td>\n",
       "      <td>1.498967</td>\n",
       "      <td>1.444597</td>\n",
       "    </tr>\n",
       "    <tr>\n",
       "      <th>std</th>\n",
       "      <td>0.029923</td>\n",
       "      <td>0.018733</td>\n",
       "      <td>0.017045</td>\n",
       "      <td>0.017982</td>\n",
       "      <td>0.016511</td>\n",
       "    </tr>\n",
       "    <tr>\n",
       "      <th>min</th>\n",
       "      <td>1.755840</td>\n",
       "      <td>1.108950</td>\n",
       "      <td>1.008110</td>\n",
       "      <td>1.433390</td>\n",
       "      <td>1.381690</td>\n",
       "    </tr>\n",
       "    <tr>\n",
       "      <th>25%</th>\n",
       "      <td>1.854365</td>\n",
       "      <td>1.172610</td>\n",
       "      <td>1.071810</td>\n",
       "      <td>1.486530</td>\n",
       "      <td>1.433578</td>\n",
       "    </tr>\n",
       "    <tr>\n",
       "      <th>50%</th>\n",
       "      <td>1.874700</td>\n",
       "      <td>1.185165</td>\n",
       "      <td>1.083350</td>\n",
       "      <td>1.498410</td>\n",
       "      <td>1.444095</td>\n",
       "    </tr>\n",
       "    <tr>\n",
       "      <th>75%</th>\n",
       "      <td>1.894970</td>\n",
       "      <td>1.197460</td>\n",
       "      <td>1.094915</td>\n",
       "      <td>1.510945</td>\n",
       "      <td>1.455522</td>\n",
       "    </tr>\n",
       "    <tr>\n",
       "      <th>max</th>\n",
       "      <td>2.008700</td>\n",
       "      <td>1.257240</td>\n",
       "      <td>1.146390</td>\n",
       "      <td>1.568860</td>\n",
       "      <td>1.513180</td>\n",
       "    </tr>\n",
       "  </tbody>\n",
       "</table>\n",
       "</div>"
      ],
      "text/plain": [
       "                 AZ          BX-E          BX-I          GR-E          GR-I\n",
       "count  10000.000000  10000.000000  10000.000000  10000.000000  10000.000000\n",
       "mean       1.875013      1.185160      1.083392      1.498967      1.444597\n",
       "std        0.029923      0.018733      0.017045      0.017982      0.016511\n",
       "min        1.755840      1.108950      1.008110      1.433390      1.381690\n",
       "25%        1.854365      1.172610      1.071810      1.486530      1.433578\n",
       "50%        1.874700      1.185165      1.083350      1.498410      1.444095\n",
       "75%        1.894970      1.197460      1.094915      1.510945      1.455522\n",
       "max        2.008700      1.257240      1.146390      1.568860      1.513180"
      ]
     },
     "execution_count": 11,
     "metadata": {},
     "output_type": "execute_result"
    }
   ],
   "source": [
    "p_s = pd.DataFrame(dict((ds, p_samp[ds]['sigma']) for ds in datasets))\n",
    "p_s.index.name = 'Sample'\n",
    "p_s.describe()"
   ]
  },
  {
   "cell_type": "code",
   "execution_count": 12,
   "metadata": {
    "papermill": {
     "duration": 0.156828,
     "end_time": "2020-05-09T16:28:40.826409",
     "exception": false,
     "start_time": "2020-05-09T16:28:40.669581",
     "status": "completed"
    },
    "tags": []
   },
   "outputs": [
    {
     "data": {
      "text/html": [
       "<div>\n",
       "<style scoped>\n",
       "    .dataframe tbody tr th:only-of-type {\n",
       "        vertical-align: middle;\n",
       "    }\n",
       "\n",
       "    .dataframe tbody tr th {\n",
       "        vertical-align: top;\n",
       "    }\n",
       "\n",
       "    .dataframe thead th {\n",
       "        text-align: right;\n",
       "    }\n",
       "</style>\n",
       "<table border=\"1\" class=\"dataframe\">\n",
       "  <thead>\n",
       "    <tr style=\"text-align: right;\">\n",
       "      <th></th>\n",
       "      <th>AZ</th>\n",
       "      <th>BX-E</th>\n",
       "      <th>BX-I</th>\n",
       "      <th>GR-E</th>\n",
       "      <th>GR-I</th>\n",
       "    </tr>\n",
       "  </thead>\n",
       "  <tbody>\n",
       "    <tr>\n",
       "      <th>count</th>\n",
       "      <td>10000.000000</td>\n",
       "      <td>10000.000000</td>\n",
       "      <td>10000.000000</td>\n",
       "      <td>10000.000000</td>\n",
       "      <td>10000.000000</td>\n",
       "    </tr>\n",
       "    <tr>\n",
       "      <th>mean</th>\n",
       "      <td>1.743360</td>\n",
       "      <td>1.206495</td>\n",
       "      <td>1.073051</td>\n",
       "      <td>1.511378</td>\n",
       "      <td>1.371841</td>\n",
       "    </tr>\n",
       "    <tr>\n",
       "      <th>std</th>\n",
       "      <td>0.024639</td>\n",
       "      <td>0.018816</td>\n",
       "      <td>0.014803</td>\n",
       "      <td>0.018005</td>\n",
       "      <td>0.014597</td>\n",
       "    </tr>\n",
       "    <tr>\n",
       "      <th>min</th>\n",
       "      <td>1.652220</td>\n",
       "      <td>1.139190</td>\n",
       "      <td>1.017560</td>\n",
       "      <td>1.445010</td>\n",
       "      <td>1.316520</td>\n",
       "    </tr>\n",
       "    <tr>\n",
       "      <th>25%</th>\n",
       "      <td>1.726837</td>\n",
       "      <td>1.193845</td>\n",
       "      <td>1.063130</td>\n",
       "      <td>1.499287</td>\n",
       "      <td>1.362078</td>\n",
       "    </tr>\n",
       "    <tr>\n",
       "      <th>50%</th>\n",
       "      <td>1.743105</td>\n",
       "      <td>1.206190</td>\n",
       "      <td>1.073090</td>\n",
       "      <td>1.511300</td>\n",
       "      <td>1.371835</td>\n",
       "    </tr>\n",
       "    <tr>\n",
       "      <th>75%</th>\n",
       "      <td>1.759890</td>\n",
       "      <td>1.219172</td>\n",
       "      <td>1.082910</td>\n",
       "      <td>1.523432</td>\n",
       "      <td>1.381490</td>\n",
       "    </tr>\n",
       "    <tr>\n",
       "      <th>max</th>\n",
       "      <td>1.824560</td>\n",
       "      <td>1.285000</td>\n",
       "      <td>1.125910</td>\n",
       "      <td>1.577510</td>\n",
       "      <td>1.428880</td>\n",
       "    </tr>\n",
       "  </tbody>\n",
       "</table>\n",
       "</div>"
      ],
      "text/plain": [
       "                 AZ          BX-E          BX-I          GR-E          GR-I\n",
       "count  10000.000000  10000.000000  10000.000000  10000.000000  10000.000000\n",
       "mean       1.743360      1.206495      1.073051      1.511378      1.371841\n",
       "std        0.024639      0.018816      0.014803      0.018005      0.014597\n",
       "min        1.652220      1.139190      1.017560      1.445010      1.316520\n",
       "25%        1.726837      1.193845      1.063130      1.499287      1.362078\n",
       "50%        1.743105      1.206190      1.073090      1.511300      1.371835\n",
       "75%        1.759890      1.219172      1.082910      1.523432      1.381490\n",
       "max        1.824560      1.285000      1.125910      1.577510      1.428880"
      ]
     },
     "execution_count": 12,
     "metadata": {},
     "output_type": "execute_result"
    }
   ],
   "source": [
    "f_s = pd.DataFrame(dict((ds, f_samp[ds]['sigma']) for ds in datasets))\n",
    "f_s.index.name = 'Sample'\n",
    "f_s.describe()"
   ]
  },
  {
   "cell_type": "code",
   "execution_count": 13,
   "metadata": {
    "papermill": {
     "duration": 0.816675,
     "end_time": "2020-05-09T16:28:41.703214",
     "exception": false,
     "start_time": "2020-05-09T16:28:40.886539",
     "status": "completed"
    },
    "tags": []
   },
   "outputs": [
    {
     "data": {
      "text/plain": [
       "<matplotlib.axes._subplots.AxesSubplot at 0x7fc8bdeebe50>"
      ]
     },
     "execution_count": 13,
     "metadata": {},
     "output_type": "execute_result"
    },
    {
     "data": {
      "image/png": "[encoded data removed]",
      "text/plain": [
       "<Figure size 432x288 with 1 Axes>"
      ]
     },
     "metadata": {
      "needs_background": "light"
     },
     "output_type": "display_data"
    }
   ],
   "source": [
    "sigma = pd.concat({'Separate': p_s, 'Full': f_s}, names=['Model']).reset_index()\n",
    "sigma = sigma.melt(id_vars=['Model', 'Sample'], var_name='Set')\n",
    "sns.boxplot('Set', 'value', hue='Model', data=sigma)"
   ]
  },
  {
   "cell_type": "markdown",
   "metadata": {
    "papermill": {
     "duration": 0.06288,
     "end_time": "2020-05-09T16:28:41.828668",
     "exception": false,
     "start_time": "2020-05-09T16:28:41.765788",
     "status": "completed"
    },
    "tags": []
   },
   "source": [
    "## Comparing Projected Values\n",
    "\n",
    "Let's now compare the $\\theta$ values - what does each model predict for the distribution of user profile tendencies?"
   ]
  },
  {
   "cell_type": "code",
   "execution_count": 14,
   "metadata": {
    "papermill": {
     "duration": 0.162645,
     "end_time": "2020-05-09T16:28:42.054486",
     "exception": false,
     "start_time": "2020-05-09T16:28:41.891841",
     "status": "completed"
    },
    "tags": []
   },
   "outputs": [
    {
     "data": {
      "text/html": [
       "<div>\n",
       "<style scoped>\n",
       "    .dataframe tbody tr th:only-of-type {\n",
       "        vertical-align: middle;\n",
       "    }\n",
       "\n",
       "    .dataframe tbody tr th {\n",
       "        vertical-align: top;\n",
       "    }\n",
       "\n",
       "    .dataframe thead th {\n",
       "        text-align: right;\n",
       "    }\n",
       "</style>\n",
       "<table border=\"1\" class=\"dataframe\">\n",
       "  <thead>\n",
       "    <tr style=\"text-align: right;\">\n",
       "      <th></th>\n",
       "      <th>AZ</th>\n",
       "      <th>BX-E</th>\n",
       "      <th>BX-I</th>\n",
       "      <th>GR-E</th>\n",
       "      <th>GR-I</th>\n",
       "    </tr>\n",
       "  </thead>\n",
       "  <tbody>\n",
       "    <tr>\n",
       "      <th>count</th>\n",
       "      <td>10000.000000</td>\n",
       "      <td>10000.000000</td>\n",
       "      <td>10000.000000</td>\n",
       "      <td>10000.000000</td>\n",
       "      <td>10000.000000</td>\n",
       "    </tr>\n",
       "    <tr>\n",
       "      <th>mean</th>\n",
       "      <td>0.416734</td>\n",
       "      <td>0.422535</td>\n",
       "      <td>0.412365</td>\n",
       "      <td>0.452728</td>\n",
       "      <td>0.451432</td>\n",
       "    </tr>\n",
       "    <tr>\n",
       "      <th>std</th>\n",
       "      <td>0.299767</td>\n",
       "      <td>0.229406</td>\n",
       "      <td>0.216790</td>\n",
       "      <td>0.269713</td>\n",
       "      <td>0.262539</td>\n",
       "    </tr>\n",
       "    <tr>\n",
       "      <th>min</th>\n",
       "      <td>0.000527</td>\n",
       "      <td>0.007993</td>\n",
       "      <td>0.009984</td>\n",
       "      <td>0.002151</td>\n",
       "      <td>0.004607</td>\n",
       "    </tr>\n",
       "    <tr>\n",
       "      <th>25%</th>\n",
       "      <td>0.139004</td>\n",
       "      <td>0.232165</td>\n",
       "      <td>0.237363</td>\n",
       "      <td>0.216333</td>\n",
       "      <td>0.224470</td>\n",
       "    </tr>\n",
       "    <tr>\n",
       "      <th>50%</th>\n",
       "      <td>0.370690</td>\n",
       "      <td>0.402033</td>\n",
       "      <td>0.387333</td>\n",
       "      <td>0.436360</td>\n",
       "      <td>0.433280</td>\n",
       "    </tr>\n",
       "    <tr>\n",
       "      <th>75%</th>\n",
       "      <td>0.675581</td>\n",
       "      <td>0.597704</td>\n",
       "      <td>0.572539</td>\n",
       "      <td>0.677640</td>\n",
       "      <td>0.666217</td>\n",
       "    </tr>\n",
       "    <tr>\n",
       "      <th>max</th>\n",
       "      <td>0.998827</td>\n",
       "      <td>0.981249</td>\n",
       "      <td>0.975965</td>\n",
       "      <td>0.997260</td>\n",
       "      <td>0.994236</td>\n",
       "    </tr>\n",
       "  </tbody>\n",
       "</table>\n",
       "</div>"
      ],
      "text/plain": [
       "                 AZ          BX-E          BX-I          GR-E          GR-I\n",
       "count  10000.000000  10000.000000  10000.000000  10000.000000  10000.000000\n",
       "mean       0.416734      0.422535      0.412365      0.452728      0.451432\n",
       "std        0.299767      0.229406      0.216790      0.269713      0.262539\n",
       "min        0.000527      0.007993      0.009984      0.002151      0.004607\n",
       "25%        0.139004      0.232165      0.237363      0.216333      0.224470\n",
       "50%        0.370690      0.402033      0.387333      0.436360      0.433280\n",
       "75%        0.675581      0.597704      0.572539      0.677640      0.666217\n",
       "max        0.998827      0.981249      0.975965      0.997260      0.994236"
      ]
     },
     "execution_count": 14,
     "metadata": {},
     "output_type": "execute_result"
    }
   ],
   "source": [
    "p_th = pd.DataFrame(dict((ds, p_samp[ds]['thetaP']) for ds in datasets))\n",
    "p_th.index.name = 'Sample'\n",
    "p_th.describe()"
   ]
  },
  {
   "cell_type": "code",
   "execution_count": 15,
   "metadata": {
    "papermill": {
     "duration": 0.1632,
     "end_time": "2020-05-09T16:28:42.282008",
     "exception": false,
     "start_time": "2020-05-09T16:28:42.118808",
     "status": "completed"
    },
    "tags": []
   },
   "outputs": [
    {
     "data": {
      "text/html": [
       "<div>\n",
       "<style scoped>\n",
       "    .dataframe tbody tr th:only-of-type {\n",
       "        vertical-align: middle;\n",
       "    }\n",
       "\n",
       "    .dataframe tbody tr th {\n",
       "        vertical-align: top;\n",
       "    }\n",
       "\n",
       "    .dataframe thead th {\n",
       "        text-align: right;\n",
       "    }\n",
       "</style>\n",
       "<table border=\"1\" class=\"dataframe\">\n",
       "  <thead>\n",
       "    <tr style=\"text-align: right;\">\n",
       "      <th></th>\n",
       "      <th>AZ</th>\n",
       "      <th>BX-E</th>\n",
       "      <th>BX-I</th>\n",
       "      <th>GR-E</th>\n",
       "      <th>GR-I</th>\n",
       "    </tr>\n",
       "  </thead>\n",
       "  <tbody>\n",
       "    <tr>\n",
       "      <th>count</th>\n",
       "      <td>10000.000000</td>\n",
       "      <td>10000.000000</td>\n",
       "      <td>10000.000000</td>\n",
       "      <td>10000.000000</td>\n",
       "      <td>10000.000000</td>\n",
       "    </tr>\n",
       "    <tr>\n",
       "      <th>mean</th>\n",
       "      <td>0.429019</td>\n",
       "      <td>0.427444</td>\n",
       "      <td>0.411889</td>\n",
       "      <td>0.451355</td>\n",
       "      <td>0.458319</td>\n",
       "    </tr>\n",
       "    <tr>\n",
       "      <th>std</th>\n",
       "      <td>0.289965</td>\n",
       "      <td>0.233149</td>\n",
       "      <td>0.212814</td>\n",
       "      <td>0.270317</td>\n",
       "      <td>0.257499</td>\n",
       "    </tr>\n",
       "    <tr>\n",
       "      <th>min</th>\n",
       "      <td>0.001118</td>\n",
       "      <td>0.008927</td>\n",
       "      <td>0.012457</td>\n",
       "      <td>0.002978</td>\n",
       "      <td>0.003469</td>\n",
       "    </tr>\n",
       "    <tr>\n",
       "      <th>25%</th>\n",
       "      <td>0.170024</td>\n",
       "      <td>0.233544</td>\n",
       "      <td>0.238614</td>\n",
       "      <td>0.214576</td>\n",
       "      <td>0.240607</td>\n",
       "    </tr>\n",
       "    <tr>\n",
       "      <th>50%</th>\n",
       "      <td>0.392241</td>\n",
       "      <td>0.408919</td>\n",
       "      <td>0.392352</td>\n",
       "      <td>0.429607</td>\n",
       "      <td>0.439171</td>\n",
       "    </tr>\n",
       "    <tr>\n",
       "      <th>75%</th>\n",
       "      <td>0.676072</td>\n",
       "      <td>0.607898</td>\n",
       "      <td>0.569449</td>\n",
       "      <td>0.681477</td>\n",
       "      <td>0.667624</td>\n",
       "    </tr>\n",
       "    <tr>\n",
       "      <th>max</th>\n",
       "      <td>0.996645</td>\n",
       "      <td>0.982007</td>\n",
       "      <td>0.982311</td>\n",
       "      <td>0.994626</td>\n",
       "      <td>0.992481</td>\n",
       "    </tr>\n",
       "  </tbody>\n",
       "</table>\n",
       "</div>"
      ],
      "text/plain": [
       "                 AZ          BX-E          BX-I          GR-E          GR-I\n",
       "count  10000.000000  10000.000000  10000.000000  10000.000000  10000.000000\n",
       "mean       0.429019      0.427444      0.411889      0.451355      0.458319\n",
       "std        0.289965      0.233149      0.212814      0.270317      0.257499\n",
       "min        0.001118      0.008927      0.012457      0.002978      0.003469\n",
       "25%        0.170024      0.233544      0.238614      0.214576      0.240607\n",
       "50%        0.392241      0.408919      0.392352      0.429607      0.439171\n",
       "75%        0.676072      0.607898      0.569449      0.681477      0.667624\n",
       "max        0.996645      0.982007      0.982311      0.994626      0.992481"
      ]
     },
     "execution_count": 15,
     "metadata": {},
     "output_type": "execute_result"
    }
   ],
   "source": [
    "f_th = pd.DataFrame(dict((ds, f_samp[ds]['thetaP']) for ds in datasets))\n",
    "f_th.index.name = 'Sample'\n",
    "f_th.describe()"
   ]
  },
  {
   "cell_type": "code",
   "execution_count": 16,
   "metadata": {
    "papermill": {
     "duration": 0.123041,
     "end_time": "2020-05-09T16:28:42.470547",
     "exception": false,
     "start_time": "2020-05-09T16:28:42.347506",
     "status": "completed"
    },
    "tags": []
   },
   "outputs": [],
   "source": [
    "thetaP = pd.concat({'Separate': p_th, 'Full': f_th}, names=['Model']).reset_index()\n",
    "thetaP = thetaP.melt(id_vars=['Model', 'Sample'], var_name='Set')"
   ]
  },
  {
   "cell_type": "code",
   "execution_count": 17,
   "metadata": {
    "papermill": {
     "duration": 3.464608,
     "end_time": "2020-05-09T16:28:46.002095",
     "exception": false,
     "start_time": "2020-05-09T16:28:42.537487",
     "status": "completed"
    },
    "tags": []
   },
   "outputs": [
    {
     "data": {
      "text/plain": [
       "<seaborn.axisgrid.FacetGrid at 0x7fc8bdbbf810>"
      ]
     },
     "execution_count": 17,
     "metadata": {},
     "output_type": "execute_result"
    },
    {
     "data": {
      "image/png": "[encoded data removed]",
      "text/plain": [
       "<Figure size 513x1080 with 5 Axes>"
      ]
     },
     "metadata": {
      "needs_background": "light"
     },
     "output_type": "display_data"
    }
   ],
   "source": [
    "grid = sns.FacetGrid(row='Set', hue='Model', data=thetaP, aspect=2)\n",
    "grid.map(sns.kdeplot, 'value')\n",
    "grid.add_legend()"
   ]
  },
  {
   "cell_type": "code",
   "execution_count": 18,
   "metadata": {
    "papermill": {
     "duration": 7.474995,
     "end_time": "2020-05-09T16:28:53.549256",
     "exception": false,
     "start_time": "2020-05-09T16:28:46.074261",
     "status": "completed"
    },
    "tags": []
   },
   "outputs": [
    {
     "data": {
      "image/png": "[encoded data removed]",
      "text/plain": [
       "<Figure size 640x480 with 5 Axes>"
      ]
     },
     "metadata": {},
     "output_type": "display_data"
    },
    {
     "data": {
      "text/plain": [
       "<ggplot: (8781259350597)>"
      ]
     },
     "execution_count": 18,
     "metadata": {},
     "output_type": "execute_result"
    }
   ],
   "source": [
    "(pn.ggplot(thetaP, pn.aes('value', color='Model')) \n",
    " + pn.geom_line(stat='density', adjust=0.5)\n",
    " + pn.facet_grid('Set ~'))"
   ]
  },
  {
   "cell_type": "markdown",
   "metadata": {
    "papermill": {
     "duration": 0.07705,
     "end_time": "2020-05-09T16:28:53.704862",
     "exception": false,
     "start_time": "2020-05-09T16:28:53.627812",
     "status": "completed"
    },
    "tags": []
   },
   "source": [
    "## Individual User Thetas\n",
    "\n",
    "Now let's look at individual user's estimated theta values. How different are they?  We will start by loading each user's posterior expected $\\theta_u$ - by linearity of expectation, the expected difference is the difference in expected values."
   ]
  },
  {
   "cell_type": "code",
   "execution_count": 19,
   "metadata": {
    "papermill": {
     "duration": 10.446951,
     "end_time": "2020-05-09T16:29:04.229896",
     "exception": false,
     "start_time": "2020-05-09T16:28:53.782945",
     "status": "completed"
    },
    "tags": []
   },
   "outputs": [
    {
     "data": {
      "text/html": [
       "<div>\n",
       "<style scoped>\n",
       "    .dataframe tbody tr th:only-of-type {\n",
       "        vertical-align: middle;\n",
       "    }\n",
       "\n",
       "    .dataframe tbody tr th {\n",
       "        vertical-align: top;\n",
       "    }\n",
       "\n",
       "    .dataframe thead th {\n",
       "        text-align: right;\n",
       "    }\n",
       "</style>\n",
       "<table border=\"1\" class=\"dataframe\">\n",
       "  <thead>\n",
       "    <tr style=\"text-align: right;\">\n",
       "      <th></th>\n",
       "      <th></th>\n",
       "      <th>nTheta</th>\n",
       "      <th>Theta</th>\n",
       "    </tr>\n",
       "    <tr>\n",
       "      <th>Set</th>\n",
       "      <th>User</th>\n",
       "      <th></th>\n",
       "      <th></th>\n",
       "    </tr>\n",
       "  </thead>\n",
       "  <tbody>\n",
       "    <tr>\n",
       "      <th rowspan=\"5\" valign=\"top\">AZ</th>\n",
       "      <th>0</th>\n",
       "      <td>1.059797</td>\n",
       "      <td>0.742652</td>\n",
       "    </tr>\n",
       "    <tr>\n",
       "      <th>1</th>\n",
       "      <td>-0.936946</td>\n",
       "      <td>0.281518</td>\n",
       "    </tr>\n",
       "    <tr>\n",
       "      <th>2</th>\n",
       "      <td>-2.645083</td>\n",
       "      <td>0.066293</td>\n",
       "    </tr>\n",
       "    <tr>\n",
       "      <th>3</th>\n",
       "      <td>-1.533403</td>\n",
       "      <td>0.177496</td>\n",
       "    </tr>\n",
       "    <tr>\n",
       "      <th>4</th>\n",
       "      <td>-2.658765</td>\n",
       "      <td>0.065451</td>\n",
       "    </tr>\n",
       "    <tr>\n",
       "      <th>...</th>\n",
       "      <th>...</th>\n",
       "      <td>...</td>\n",
       "      <td>...</td>\n",
       "    </tr>\n",
       "    <tr>\n",
       "      <th rowspan=\"5\" valign=\"top\">GR-I</th>\n",
       "      <th>4995</th>\n",
       "      <td>1.067174</td>\n",
       "      <td>0.744059</td>\n",
       "    </tr>\n",
       "    <tr>\n",
       "      <th>4996</th>\n",
       "      <td>-1.543224</td>\n",
       "      <td>0.176067</td>\n",
       "    </tr>\n",
       "    <tr>\n",
       "      <th>4997</th>\n",
       "      <td>-0.918932</td>\n",
       "      <td>0.285175</td>\n",
       "    </tr>\n",
       "    <tr>\n",
       "      <th>4998</th>\n",
       "      <td>1.510817</td>\n",
       "      <td>0.819182</td>\n",
       "    </tr>\n",
       "    <tr>\n",
       "      <th>4999</th>\n",
       "      <td>-2.024523</td>\n",
       "      <td>0.116652</td>\n",
       "    </tr>\n",
       "  </tbody>\n",
       "</table>\n",
       "<p>25000 rows × 2 columns</p>\n",
       "</div>"
      ],
      "text/plain": [
       "             nTheta     Theta\n",
       "Set  User                    \n",
       "AZ   0     1.059797  0.742652\n",
       "     1    -0.936946  0.281518\n",
       "     2    -2.645083  0.066293\n",
       "     3    -1.533403  0.177496\n",
       "     4    -2.658765  0.065451\n",
       "...             ...       ...\n",
       "GR-I 4995  1.067174  0.744059\n",
       "     4996 -1.543224  0.176067\n",
       "     4997 -0.918932  0.285175\n",
       "     4998  1.510817  0.819182\n",
       "     4999 -2.024523  0.116652\n",
       "\n",
       "[25000 rows x 2 columns]"
      ]
     },
     "execution_count": 19,
     "metadata": {},
     "output_type": "execute_result"
    }
   ],
   "source": [
    "p_thu = pd.concat(dict(\n",
    "    (ds, pd.DataFrame({'nTheta': np.mean(p_samp[ds]['nTheta'], axis=0)}))\n",
    "    for ds in datasets\n",
    "), names=['Set', 'User'])\n",
    "p_thu['Theta'] = expit(p_thu['nTheta'])\n",
    "p_thu"
   ]
  },
  {
   "cell_type": "code",
   "execution_count": 20,
   "metadata": {
    "papermill": {
     "duration": 10.527296,
     "end_time": "2020-05-09T16:29:14.842198",
     "exception": false,
     "start_time": "2020-05-09T16:29:04.314902",
     "status": "completed"
    },
    "tags": []
   },
   "outputs": [
    {
     "data": {
      "text/html": [
       "<div>\n",
       "<style scoped>\n",
       "    .dataframe tbody tr th:only-of-type {\n",
       "        vertical-align: middle;\n",
       "    }\n",
       "\n",
       "    .dataframe tbody tr th {\n",
       "        vertical-align: top;\n",
       "    }\n",
       "\n",
       "    .dataframe thead th {\n",
       "        text-align: right;\n",
       "    }\n",
       "</style>\n",
       "<table border=\"1\" class=\"dataframe\">\n",
       "  <thead>\n",
       "    <tr style=\"text-align: right;\">\n",
       "      <th></th>\n",
       "      <th></th>\n",
       "      <th>nTheta</th>\n",
       "      <th>Theta</th>\n",
       "    </tr>\n",
       "    <tr>\n",
       "      <th>Set</th>\n",
       "      <th>User</th>\n",
       "      <th></th>\n",
       "      <th></th>\n",
       "    </tr>\n",
       "  </thead>\n",
       "  <tbody>\n",
       "    <tr>\n",
       "      <th rowspan=\"5\" valign=\"top\">AZ</th>\n",
       "      <th>0</th>\n",
       "      <td>1.271355</td>\n",
       "      <td>0.780975</td>\n",
       "    </tr>\n",
       "    <tr>\n",
       "      <th>1</th>\n",
       "      <td>-0.704679</td>\n",
       "      <td>0.330776</td>\n",
       "    </tr>\n",
       "    <tr>\n",
       "      <th>2</th>\n",
       "      <td>-2.010412</td>\n",
       "      <td>0.118114</td>\n",
       "    </tr>\n",
       "    <tr>\n",
       "      <th>3</th>\n",
       "      <td>-2.480734</td>\n",
       "      <td>0.077220</td>\n",
       "    </tr>\n",
       "    <tr>\n",
       "      <th>4</th>\n",
       "      <td>-1.701148</td>\n",
       "      <td>0.154315</td>\n",
       "    </tr>\n",
       "    <tr>\n",
       "      <th>...</th>\n",
       "      <th>...</th>\n",
       "      <td>...</td>\n",
       "      <td>...</td>\n",
       "    </tr>\n",
       "    <tr>\n",
       "      <th rowspan=\"5\" valign=\"top\">GR-I</th>\n",
       "      <th>4995</th>\n",
       "      <td>1.089918</td>\n",
       "      <td>0.748366</td>\n",
       "    </tr>\n",
       "    <tr>\n",
       "      <th>4996</th>\n",
       "      <td>-1.428438</td>\n",
       "      <td>0.193342</td>\n",
       "    </tr>\n",
       "    <tr>\n",
       "      <th>4997</th>\n",
       "      <td>-0.878642</td>\n",
       "      <td>0.293459</td>\n",
       "    </tr>\n",
       "    <tr>\n",
       "      <th>4998</th>\n",
       "      <td>1.544678</td>\n",
       "      <td>0.824144</td>\n",
       "    </tr>\n",
       "    <tr>\n",
       "      <th>4999</th>\n",
       "      <td>-2.015445</td>\n",
       "      <td>0.117591</td>\n",
       "    </tr>\n",
       "  </tbody>\n",
       "</table>\n",
       "<p>25000 rows × 2 columns</p>\n",
       "</div>"
      ],
      "text/plain": [
       "             nTheta     Theta\n",
       "Set  User                    \n",
       "AZ   0     1.271355  0.780975\n",
       "     1    -0.704679  0.330776\n",
       "     2    -2.010412  0.118114\n",
       "     3    -2.480734  0.077220\n",
       "     4    -1.701148  0.154315\n",
       "...             ...       ...\n",
       "GR-I 4995  1.089918  0.748366\n",
       "     4996 -1.428438  0.193342\n",
       "     4997 -0.878642  0.293459\n",
       "     4998  1.544678  0.824144\n",
       "     4999 -2.015445  0.117591\n",
       "\n",
       "[25000 rows x 2 columns]"
      ]
     },
     "execution_count": 20,
     "metadata": {},
     "output_type": "execute_result"
    }
   ],
   "source": [
    "f_thu = pd.concat(dict(\n",
    "    (ds, pd.DataFrame({'nTheta': np.mean(f_samp[ds]['nTheta'], axis=0)}))\n",
    "    for ds in datasets\n",
    "), names=['Set', 'User'])\n",
    "f_thu['Theta'] = expit(f_thu['nTheta'])\n",
    "f_thu"
   ]
  },
  {
   "cell_type": "code",
   "execution_count": 21,
   "metadata": {
    "papermill": {
     "duration": 0.225292,
     "end_time": "2020-05-09T16:29:15.149844",
     "exception": false,
     "start_time": "2020-05-09T16:29:14.924552",
     "status": "completed"
    },
    "tags": []
   },
   "outputs": [
    {
     "data": {
      "text/html": [
       "<div>\n",
       "<style scoped>\n",
       "    .dataframe tbody tr th:only-of-type {\n",
       "        vertical-align: middle;\n",
       "    }\n",
       "\n",
       "    .dataframe tbody tr th {\n",
       "        vertical-align: top;\n",
       "    }\n",
       "\n",
       "    .dataframe thead th {\n",
       "        text-align: right;\n",
       "    }\n",
       "</style>\n",
       "<table border=\"1\" class=\"dataframe\">\n",
       "  <thead>\n",
       "    <tr style=\"text-align: right;\">\n",
       "      <th></th>\n",
       "      <th>nTheta</th>\n",
       "      <th>Theta</th>\n",
       "      <th>nTheta_f</th>\n",
       "      <th>Theta_f</th>\n",
       "      <th>ndiff</th>\n",
       "      <th>diff</th>\n",
       "    </tr>\n",
       "  </thead>\n",
       "  <tbody>\n",
       "    <tr>\n",
       "      <th>count</th>\n",
       "      <td>25000.000000</td>\n",
       "      <td>25000.000000</td>\n",
       "      <td>25000.000000</td>\n",
       "      <td>25000.000000</td>\n",
       "      <td>25000.000000</td>\n",
       "      <td>25000.000000</td>\n",
       "    </tr>\n",
       "    <tr>\n",
       "      <th>mean</th>\n",
       "      <td>-0.377055</td>\n",
       "      <td>0.425650</td>\n",
       "      <td>-0.351105</td>\n",
       "      <td>0.426963</td>\n",
       "      <td>0.025950</td>\n",
       "      <td>0.001312</td>\n",
       "    </tr>\n",
       "    <tr>\n",
       "      <th>std</th>\n",
       "      <td>1.310954</td>\n",
       "      <td>0.245157</td>\n",
       "      <td>1.343335</td>\n",
       "      <td>0.247269</td>\n",
       "      <td>0.442744</td>\n",
       "      <td>0.073400</td>\n",
       "    </tr>\n",
       "    <tr>\n",
       "      <th>min</th>\n",
       "      <td>-4.611648</td>\n",
       "      <td>0.009838</td>\n",
       "      <td>-4.463211</td>\n",
       "      <td>0.011394</td>\n",
       "      <td>-3.004567</td>\n",
       "      <td>-0.591574</td>\n",
       "    </tr>\n",
       "    <tr>\n",
       "      <th>25%</th>\n",
       "      <td>-1.302338</td>\n",
       "      <td>0.213772</td>\n",
       "      <td>-1.274608</td>\n",
       "      <td>0.218470</td>\n",
       "      <td>-0.128474</td>\n",
       "      <td>-0.021950</td>\n",
       "    </tr>\n",
       "    <tr>\n",
       "      <th>50%</th>\n",
       "      <td>-0.409445</td>\n",
       "      <td>0.399045</td>\n",
       "      <td>-0.403842</td>\n",
       "      <td>0.400390</td>\n",
       "      <td>0.002216</td>\n",
       "      <td>0.000395</td>\n",
       "    </tr>\n",
       "    <tr>\n",
       "      <th>75%</th>\n",
       "      <td>0.411312</td>\n",
       "      <td>0.601402</td>\n",
       "      <td>0.414463</td>\n",
       "      <td>0.602157</td>\n",
       "      <td>0.165283</td>\n",
       "      <td>0.026456</td>\n",
       "    </tr>\n",
       "    <tr>\n",
       "      <th>max</th>\n",
       "      <td>5.259550</td>\n",
       "      <td>0.994829</td>\n",
       "      <td>5.000654</td>\n",
       "      <td>0.993311</td>\n",
       "      <td>3.257669</td>\n",
       "      <td>0.652368</td>\n",
       "    </tr>\n",
       "  </tbody>\n",
       "</table>\n",
       "</div>"
      ],
      "text/plain": [
       "             nTheta         Theta      nTheta_f       Theta_f         ndiff  \\\n",
       "count  25000.000000  25000.000000  25000.000000  25000.000000  25000.000000   \n",
       "mean      -0.377055      0.425650     -0.351105      0.426963      0.025950   \n",
       "std        1.310954      0.245157      1.343335      0.247269      0.442744   \n",
       "min       -4.611648      0.009838     -4.463211      0.011394     -3.004567   \n",
       "25%       -1.302338      0.213772     -1.274608      0.218470     -0.128474   \n",
       "50%       -0.409445      0.399045     -0.403842      0.400390      0.002216   \n",
       "75%        0.411312      0.601402      0.414463      0.602157      0.165283   \n",
       "max        5.259550      0.994829      5.000654      0.993311      3.257669   \n",
       "\n",
       "               diff  \n",
       "count  25000.000000  \n",
       "mean       0.001312  \n",
       "std        0.073400  \n",
       "min       -0.591574  \n",
       "25%       -0.021950  \n",
       "50%        0.000395  \n",
       "75%        0.026456  \n",
       "max        0.652368  "
      ]
     },
     "execution_count": 21,
     "metadata": {},
     "output_type": "execute_result"
    }
   ],
   "source": [
    "thetaU = p_thu.join(f_thu, rsuffix='_f')\n",
    "thetaU['ndiff'] = thetaU['nTheta_f'] - thetaU['nTheta']\n",
    "thetaU['diff'] = thetaU['Theta_f'] - thetaU['Theta']\n",
    "thetaU.describe()"
   ]
  },
  {
   "cell_type": "code",
   "execution_count": 22,
   "metadata": {
    "papermill": {
     "duration": 0.110868,
     "end_time": "2020-05-09T16:29:15.343224",
     "exception": false,
     "start_time": "2020-05-09T16:29:15.232356",
     "status": "completed"
    },
    "tags": []
   },
   "outputs": [
    {
     "data": {
      "text/plain": [
       "0.025   -0.167280\n",
       "0.975    0.161608\n",
       "Name: diff, dtype: float64"
      ]
     },
     "execution_count": 22,
     "metadata": {},
     "output_type": "execute_result"
    }
   ],
   "source": [
    "thetaU['diff'].quantile([0.025, 0.975])"
   ]
  },
  {
   "cell_type": "code",
   "execution_count": 23,
   "metadata": {
    "papermill": {
     "duration": 0.116008,
     "end_time": "2020-05-09T16:29:15.542352",
     "exception": false,
     "start_time": "2020-05-09T16:29:15.426344",
     "status": "completed"
    },
    "tags": []
   },
   "outputs": [
    {
     "data": {
      "text/plain": [
       "count    2.500000e+04\n",
       "mean     4.549474e-02\n",
       "std      5.761476e-02\n",
       "min      2.054315e-07\n",
       "25%      7.668859e-03\n",
       "50%      2.407147e-02\n",
       "75%      6.075029e-02\n",
       "max      6.523681e-01\n",
       "Name: diff, dtype: float64"
      ]
     },
     "execution_count": 23,
     "metadata": {},
     "output_type": "execute_result"
    }
   ],
   "source": [
    "thetaU['diff'].abs().describe()"
   ]
  },
  {
   "cell_type": "markdown",
   "metadata": {
    "papermill": {
     "duration": 0.083363,
     "end_time": "2020-05-09T16:29:15.709226",
     "exception": false,
     "start_time": "2020-05-09T16:29:15.625863",
     "status": "completed"
    },
    "tags": []
   },
   "source": [
    "95%ile?"
   ]
  },
  {
   "cell_type": "code",
   "execution_count": 24,
   "metadata": {
    "papermill": {
     "duration": 0.108652,
     "end_time": "2020-05-09T16:29:15.902028",
     "exception": false,
     "start_time": "2020-05-09T16:29:15.793376",
     "status": "completed"
    },
    "tags": []
   },
   "outputs": [
    {
     "data": {
      "text/plain": [
       "0.16448341395008292"
      ]
     },
     "execution_count": 24,
     "metadata": {},
     "output_type": "execute_result"
    }
   ],
   "source": [
    "thetaU['diff'].abs().quantile(0.95)"
   ]
  },
  {
   "cell_type": "code",
   "execution_count": 25,
   "metadata": {
    "papermill": {
     "duration": 3.278831,
     "end_time": "2020-05-09T16:29:19.265232",
     "exception": false,
     "start_time": "2020-05-09T16:29:15.986401",
     "status": "completed"
    },
    "tags": []
   },
   "outputs": [
    {
     "data": {
      "text/plain": [
       "<matplotlib.lines.Line2D at 0x7fc8bd80ea10>"
      ]
     },
     "execution_count": 25,
     "metadata": {},
     "output_type": "execute_result"
    },
    {
     "data": {
      "image/png": "[encoded data removed]",
      "text/plain": [
       "<Figure size 432x288 with 1 Axes>"
      ]
     },
     "metadata": {
      "needs_background": "light"
     },
     "output_type": "display_data"
    }
   ],
   "source": [
    "sns.kdeplot(thetaU['diff'].abs(), cumulative=True)\n",
    "plt.axvline(thetaU['diff'].abs().quantile(0.95), color='grey')"
   ]
  },
  {
   "cell_type": "code",
   "execution_count": 26,
   "metadata": {
    "papermill": {
     "duration": 3.180826,
     "end_time": "2020-05-09T16:29:22.501046",
     "exception": false,
     "start_time": "2020-05-09T16:29:19.320220",
     "status": "completed"
    },
    "tags": []
   },
   "outputs": [
    {
     "data": {
      "text/plain": [
       "<matplotlib.lines.Line2D at 0x7fc8bc0f37d0>"
      ]
     },
     "execution_count": 26,
     "metadata": {},
     "output_type": "execute_result"
    },
    {
     "data": {
      "image/png": "[encoded data removed]",
      "text/plain": [
       "<Figure size 432x288 with 1 Axes>"
      ]
     },
     "metadata": {
      "needs_background": "light"
     },
     "output_type": "display_data"
    }
   ],
   "source": [
    "sns.kdeplot(thetaU['ndiff'].abs(), cumulative=True)\n",
    "plt.axvline(thetaU['ndiff'].abs().quantile(0.95), color='grey')"
   ]
  },
  {
   "cell_type": "code",
   "execution_count": null,
   "metadata": {
    "papermill": {
     "duration": 0.075203,
     "end_time": "2020-05-09T16:29:22.668296",
     "exception": false,
     "start_time": "2020-05-09T16:29:22.593093",
     "status": "completed"
    },
    "tags": []
   },
   "outputs": [],
   "source": []
  }
 ],
 "metadata": {
  "kernelspec": {
   "display_name": "Python 3",
   "language": "python",
   "name": "python3"
  },
  "language_info": {
   "codemirror_mode": {
    "name": "ipython",
    "version": 3
   },
   "file_extension": ".py",
   "mimetype": "text/x-python",
   "name": "python",
   "nbconvert_exporter": "python",
   "pygments_lexer": "ipython3",
   "version": "3.7.6"
  },
  "papermill": {
   "duration": 49.318824,
   "end_time": "2020-05-09T16:29:23.634157",
   "environment_variables": {},
   "exception": null,
   "input_path": "ProfileModelCompare.ipynb",
   "output_path": "ProfileModelCompare.temp.ipynb",
   "parameters": {},
   "start_time": "2020-05-09T16:28:34.315333",
   "version": "1.2.1"
  }
 },
 "nbformat": 4,
 "nbformat_minor": 4
}